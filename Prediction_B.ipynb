{
 "cells": [
  {
   "cell_type": "markdown",
   "metadata": {},
   "source": [
    "**In this file I present creating models with pipelines comparing results of cross-validated hyperparameters to achive best model's fitting on binned dataset. Summary.**"
   ]
  },
  {
   "cell_type": "markdown",
   "metadata": {},
   "source": [
    "Imports:"
   ]
  },
  {
   "cell_type": "code",
   "execution_count": 1,
   "metadata": {},
   "outputs": [],
   "source": [
    "import pandas as pd\n",
    "import numpy as np\n",
    "from sklearn.tree import DecisionTreeClassifier\n",
    "from sklearn.ensemble import RandomForestClassifier\n",
    "from sklearn.svm import SVC\n",
    "from xgboost.sklearn import XGBClassifier\n",
    "from sklearn.neural_network import MLPClassifier\n",
    "from sklearn.linear_model import LogisticRegression\n",
    "\n",
    "from sklearn.preprocessing import (StandardScaler, \n",
    "                                   OrdinalEncoder, \n",
    "                                   MinMaxScaler)\n",
    "\n",
    "from sklearn.model_selection import (train_test_split, \n",
    "                                     GridSearchCV, \n",
    "                                     StratifiedKFold, \n",
    "                                     RandomizedSearchCV)\n",
    "\n",
    "from imblearn.over_sampling import SMOTE\n",
    "from imblearn.combine import SMOTEENN\n",
    "from imblearn.pipeline import Pipeline as imbpipeline\n",
    "from sklearn.pipeline import Pipeline\n",
    "from sklearn.metrics import (classification_report, \n",
    "                             roc_auc_score, \n",
    "                             make_scorer, \n",
    "                             recall_score, \n",
    "                             confusion_matrix, \n",
    "                             accuracy_score,\n",
    "                            get_scorer_names)\n",
    "from sklearn.decomposition import PCA"
   ]
  },
  {
   "cell_type": "markdown",
   "metadata": {},
   "source": [
    "Loading dataset:"
   ]
  },
  {
   "cell_type": "code",
   "execution_count": 2,
   "metadata": {},
   "outputs": [],
   "source": [
    "data_clean = pd.read_pickle(\"data/data_bins.pkl\")"
   ]
  },
  {
   "cell_type": "code",
   "execution_count": 3,
   "metadata": {},
   "outputs": [
    {
     "data": {
      "text/html": [
       "<div>\n",
       "<style scoped>\n",
       "    .dataframe tbody tr th:only-of-type {\n",
       "        vertical-align: middle;\n",
       "    }\n",
       "\n",
       "    .dataframe tbody tr th {\n",
       "        vertical-align: top;\n",
       "    }\n",
       "\n",
       "    .dataframe thead th {\n",
       "        text-align: right;\n",
       "    }\n",
       "</style>\n",
       "<table border=\"1\" class=\"dataframe\">\n",
       "  <thead>\n",
       "    <tr style=\"text-align: right;\">\n",
       "      <th></th>\n",
       "      <th>hotel</th>\n",
       "      <th>is_canceled</th>\n",
       "      <th>lead_time</th>\n",
       "      <th>stays_in_weekend_nights</th>\n",
       "      <th>stays_in_week_nights</th>\n",
       "      <th>adults</th>\n",
       "      <th>children</th>\n",
       "      <th>babies</th>\n",
       "      <th>meal</th>\n",
       "      <th>country</th>\n",
       "      <th>...</th>\n",
       "      <th>deposit_type</th>\n",
       "      <th>agent</th>\n",
       "      <th>company</th>\n",
       "      <th>days_in_waiting_list</th>\n",
       "      <th>customer_type</th>\n",
       "      <th>adr</th>\n",
       "      <th>required_car_parking_spaces</th>\n",
       "      <th>total_of_special_requests</th>\n",
       "      <th>reservation_status_date</th>\n",
       "      <th>arrival_date</th>\n",
       "    </tr>\n",
       "  </thead>\n",
       "  <tbody>\n",
       "    <tr>\n",
       "      <th>82643</th>\n",
       "      <td>City Hotel</td>\n",
       "      <td>0</td>\n",
       "      <td>3</td>\n",
       "      <td>zero</td>\n",
       "      <td>zero</td>\n",
       "      <td>2</td>\n",
       "      <td>No_child</td>\n",
       "      <td>No_babies</td>\n",
       "      <td>BB</td>\n",
       "      <td>Hi-Freq</td>\n",
       "      <td>...</td>\n",
       "      <td>No Deposit</td>\n",
       "      <td>PRT</td>\n",
       "      <td>empty</td>\n",
       "      <td>0</td>\n",
       "      <td>Transient</td>\n",
       "      <td>94.0</td>\n",
       "      <td>0</td>\n",
       "      <td>0</td>\n",
       "      <td>2016-01-04</td>\n",
       "      <td>2016-01-03 00:00:00</td>\n",
       "    </tr>\n",
       "    <tr>\n",
       "      <th>28746</th>\n",
       "      <td>Resort Hotel</td>\n",
       "      <td>0</td>\n",
       "      <td>18</td>\n",
       "      <td>zero</td>\n",
       "      <td>zero</td>\n",
       "      <td>1</td>\n",
       "      <td>No_child</td>\n",
       "      <td>No_babies</td>\n",
       "      <td>BB</td>\n",
       "      <td>Freq</td>\n",
       "      <td>...</td>\n",
       "      <td>No Deposit</td>\n",
       "      <td>PRT</td>\n",
       "      <td>empty</td>\n",
       "      <td>0</td>\n",
       "      <td>Transient</td>\n",
       "      <td>57.6</td>\n",
       "      <td>1</td>\n",
       "      <td>0</td>\n",
       "      <td>2016-10-12</td>\n",
       "      <td>2016-10-11 00:00:00</td>\n",
       "    </tr>\n",
       "    <tr>\n",
       "      <th>71620</th>\n",
       "      <td>City Hotel</td>\n",
       "      <td>1</td>\n",
       "      <td>226</td>\n",
       "      <td>one_night</td>\n",
       "      <td>zero</td>\n",
       "      <td>2</td>\n",
       "      <td>No_child</td>\n",
       "      <td>No_babies</td>\n",
       "      <td>BB</td>\n",
       "      <td>Hi-Freq</td>\n",
       "      <td>...</td>\n",
       "      <td>Non Refund</td>\n",
       "      <td>PRT</td>\n",
       "      <td>empty</td>\n",
       "      <td>0</td>\n",
       "      <td>Transient</td>\n",
       "      <td>110.0</td>\n",
       "      <td>0</td>\n",
       "      <td>0</td>\n",
       "      <td>2016-11-25</td>\n",
       "      <td>2017-07-09 00:00:00</td>\n",
       "    </tr>\n",
       "    <tr>\n",
       "      <th>1411</th>\n",
       "      <td>Resort Hotel</td>\n",
       "      <td>0</td>\n",
       "      <td>25</td>\n",
       "      <td>one_night</td>\n",
       "      <td>one_night</td>\n",
       "      <td>2</td>\n",
       "      <td>No_child</td>\n",
       "      <td>No_babies</td>\n",
       "      <td>FB</td>\n",
       "      <td>Freq</td>\n",
       "      <td>...</td>\n",
       "      <td>No Deposit</td>\n",
       "      <td>250.0</td>\n",
       "      <td>empty</td>\n",
       "      <td>0</td>\n",
       "      <td>Transient</td>\n",
       "      <td>208.0</td>\n",
       "      <td>0</td>\n",
       "      <td>2</td>\n",
       "      <td>2015-09-01</td>\n",
       "      <td>2015-08-28 00:00:00</td>\n",
       "    </tr>\n",
       "    <tr>\n",
       "      <th>85574</th>\n",
       "      <td>City Hotel</td>\n",
       "      <td>0</td>\n",
       "      <td>1</td>\n",
       "      <td>zero</td>\n",
       "      <td>more</td>\n",
       "      <td>2</td>\n",
       "      <td>No_child</td>\n",
       "      <td>No_babies</td>\n",
       "      <td>BB</td>\n",
       "      <td>Freq</td>\n",
       "      <td>...</td>\n",
       "      <td>No Deposit</td>\n",
       "      <td>28.0</td>\n",
       "      <td>empty</td>\n",
       "      <td>0</td>\n",
       "      <td>Transient-Party</td>\n",
       "      <td>82.0</td>\n",
       "      <td>0</td>\n",
       "      <td>1</td>\n",
       "      <td>2016-03-18</td>\n",
       "      <td>2016-03-15 00:00:00</td>\n",
       "    </tr>\n",
       "  </tbody>\n",
       "</table>\n",
       "<p>5 rows × 28 columns</p>\n",
       "</div>"
      ],
      "text/plain": [
       "              hotel  is_canceled  lead_time stays_in_weekend_nights  \\\n",
       "82643    City Hotel            0          3                    zero   \n",
       "28746  Resort Hotel            0         18                    zero   \n",
       "71620    City Hotel            1        226               one_night   \n",
       "1411   Resort Hotel            0         25               one_night   \n",
       "85574    City Hotel            0          1                    zero   \n",
       "\n",
       "      stays_in_week_nights  adults  children     babies meal  country  ...  \\\n",
       "82643                 zero       2  No_child  No_babies   BB  Hi-Freq  ...   \n",
       "28746                 zero       1  No_child  No_babies   BB     Freq  ...   \n",
       "71620                 zero       2  No_child  No_babies   BB  Hi-Freq  ...   \n",
       "1411             one_night       2  No_child  No_babies   FB     Freq  ...   \n",
       "85574                 more       2  No_child  No_babies   BB     Freq  ...   \n",
       "\n",
       "      deposit_type  agent  company  days_in_waiting_list    customer_type  \\\n",
       "82643   No Deposit    PRT    empty                     0        Transient   \n",
       "28746   No Deposit    PRT    empty                     0        Transient   \n",
       "71620   Non Refund    PRT    empty                     0        Transient   \n",
       "1411    No Deposit  250.0    empty                     0        Transient   \n",
       "85574   No Deposit   28.0    empty                     0  Transient-Party   \n",
       "\n",
       "         adr required_car_parking_spaces  total_of_special_requests  \\\n",
       "82643   94.0                           0                          0   \n",
       "28746   57.6                           1                          0   \n",
       "71620  110.0                           0                          0   \n",
       "1411   208.0                           0                          2   \n",
       "85574   82.0                           0                          1   \n",
       "\n",
       "      reservation_status_date         arrival_date  \n",
       "82643              2016-01-04  2016-01-03 00:00:00  \n",
       "28746              2016-10-12  2016-10-11 00:00:00  \n",
       "71620              2016-11-25  2017-07-09 00:00:00  \n",
       "1411               2015-09-01  2015-08-28 00:00:00  \n",
       "85574              2016-03-18  2016-03-15 00:00:00  \n",
       "\n",
       "[5 rows x 28 columns]"
      ]
     },
     "execution_count": 3,
     "metadata": {},
     "output_type": "execute_result"
    }
   ],
   "source": [
    "data_clean.sample(5)"
   ]
  },
  {
   "cell_type": "markdown",
   "metadata": {},
   "source": [
    "Dividing into predictor variables X and target y (\"is_canceled\"):"
   ]
  },
  {
   "cell_type": "code",
   "execution_count": 4,
   "metadata": {},
   "outputs": [],
   "source": [
    "X = data_clean.drop(\"is_canceled\", axis=1)\n",
    "y = data_clean.is_canceled"
   ]
  },
  {
   "cell_type": "markdown",
   "metadata": {},
   "source": [
    "Splitting dataset into train and test subsets with test size 30% and train 70%:"
   ]
  },
  {
   "cell_type": "code",
   "execution_count": 5,
   "metadata": {},
   "outputs": [],
   "source": [
    "X_train, X_test, y_train, y_test = train_test_split(X, y,\n",
    "                                                    test_size=0.3,\n",
    "                                                    stratify=y,\n",
    "                                                    random_state=42\n",
    "                                                   )"
   ]
  },
  {
   "cell_type": "markdown",
   "metadata": {},
   "source": [
    "Shape after division"
   ]
  },
  {
   "cell_type": "code",
   "execution_count": 6,
   "metadata": {},
   "outputs": [
    {
     "data": {
      "text/plain": [
       "(83573, 27)"
      ]
     },
     "execution_count": 6,
     "metadata": {},
     "output_type": "execute_result"
    }
   ],
   "source": [
    "X_train.shape"
   ]
  },
  {
   "cell_type": "code",
   "execution_count": 7,
   "metadata": {},
   "outputs": [
    {
     "data": {
      "text/plain": [
       "(35817, 27)"
      ]
     },
     "execution_count": 7,
     "metadata": {},
     "output_type": "execute_result"
    }
   ],
   "source": [
    "X_test.shape"
   ]
  },
  {
   "cell_type": "markdown",
   "metadata": {},
   "source": [
    "Inputting NaNs in country column with the most frequent value ()max of train subset into train and test:"
   ]
  },
  {
   "cell_type": "code",
   "execution_count": null,
   "metadata": {},
   "outputs": [],
   "source": [
    "country_input = X_train[\"country\"][X_train.country.value_counts().max()]"
   ]
  },
  {
   "cell_type": "code",
   "execution_count": null,
   "metadata": {},
   "outputs": [],
   "source": [
    "X_train.country.fillna(country_input, inplace=True)"
   ]
  },
  {
   "cell_type": "code",
   "execution_count": null,
   "metadata": {},
   "outputs": [],
   "source": [
    "X_test.country.fillna(country_input, inplace=True)"
   ]
  },
  {
   "cell_type": "markdown",
   "metadata": {},
   "source": [
    "Inputting NaNs in agent column with the most frequent value ()max of train subset into train and test:"
   ]
  },
  {
   "cell_type": "code",
   "execution_count": null,
   "metadata": {},
   "outputs": [],
   "source": [
    "agent_input = X_train[\"country\"][X_train.agent.value_counts().max()]"
   ]
  },
  {
   "cell_type": "code",
   "execution_count": null,
   "metadata": {},
   "outputs": [],
   "source": [
    "X_train.agent.fillna(agent_input, inplace=True)"
   ]
  },
  {
   "cell_type": "code",
   "execution_count": null,
   "metadata": {},
   "outputs": [],
   "source": [
    "X_test.agent.fillna(agent_input, inplace=True)"
   ]
  },
  {
   "cell_type": "markdown",
   "metadata": {},
   "source": [
    "Outlier value of column adr found in a file \"Reservation_Cancelation_Prediction\" now is to be replaced with mean of adr column."
   ]
  },
  {
   "cell_type": "code",
   "execution_count": 8,
   "metadata": {},
   "outputs": [
    {
     "data": {
      "text/plain": [
       "1"
      ]
     },
     "execution_count": 8,
     "metadata": {},
     "output_type": "execute_result"
    }
   ],
   "source": [
    "(X_train[\"adr\"]==5400).sum()"
   ]
  },
  {
   "cell_type": "code",
   "execution_count": 9,
   "metadata": {},
   "outputs": [
    {
     "data": {
      "text/plain": [
       "0"
      ]
     },
     "execution_count": 9,
     "metadata": {},
     "output_type": "execute_result"
    }
   ],
   "source": [
    "(X_test[\"adr\"]==5400).sum()"
   ]
  },
  {
   "cell_type": "code",
   "execution_count": 10,
   "metadata": {},
   "outputs": [
    {
     "name": "stdout",
     "output_type": "stream",
     "text": [
      "Outlier observations in train subset =  0\n"
     ]
    }
   ],
   "source": [
    "if (X_train[\"adr\"]==5400).sum() > 0:\n",
    "    X_train.replace({5400.0:np.round(X_train.adr.mean(), 2)}, inplace=True) #filling inordinary adr value with mean of training set adr column\n",
    "    print(\"Outlier observations in train subset = \", (X_train[\"adr\"]==5400).sum())\n",
    "elif (X_test[\"adr\"]==5400).sum() > 0:\n",
    "    X_test.replace({5400.0:np.round(X_train.adr.mean(), 2)}, inplace=True)\n",
    "    print(\"Outlier observations in test subset = \", (X_test[\"adr\"]==5400).sum())"
   ]
  },
  {
   "cell_type": "markdown",
   "metadata": {},
   "source": [
    "Encoding categorial columns with OrdinalEncoder:"
   ]
  },
  {
   "cell_type": "code",
   "execution_count": 11,
   "metadata": {},
   "outputs": [],
   "source": [
    "data_cat = data_clean.select_dtypes([\"object\"]).columns"
   ]
  },
  {
   "cell_type": "code",
   "execution_count": 12,
   "metadata": {},
   "outputs": [],
   "source": [
    "data_label_train = X_train[data_cat]\n",
    "data_label_test = X_test[data_cat]"
   ]
  },
  {
   "cell_type": "code",
   "execution_count": 13,
   "metadata": {},
   "outputs": [],
   "source": [
    "ode = OrdinalEncoder(handle_unknown='use_encoded_value', unknown_value=-1)\n",
    "ode.fit(data_label_train)\n",
    "data_label_train_ode = pd.DataFrame(ode.transform(data_label_train),\n",
    "                                    columns=data_cat)\n",
    "data_label_test_ode = pd.DataFrame(ode.transform(data_label_test), \n",
    "                                   columns=data_cat)"
   ]
  },
  {
   "cell_type": "code",
   "execution_count": 14,
   "metadata": {
    "scrolled": true
   },
   "outputs": [
    {
     "data": {
      "text/html": [
       "<div>\n",
       "<style scoped>\n",
       "    .dataframe tbody tr th:only-of-type {\n",
       "        vertical-align: middle;\n",
       "    }\n",
       "\n",
       "    .dataframe tbody tr th {\n",
       "        vertical-align: top;\n",
       "    }\n",
       "\n",
       "    .dataframe thead th {\n",
       "        text-align: right;\n",
       "    }\n",
       "</style>\n",
       "<table border=\"1\" class=\"dataframe\">\n",
       "  <thead>\n",
       "    <tr style=\"text-align: right;\">\n",
       "      <th></th>\n",
       "      <th>hotel</th>\n",
       "      <th>stays_in_weekend_nights</th>\n",
       "      <th>stays_in_week_nights</th>\n",
       "      <th>children</th>\n",
       "      <th>babies</th>\n",
       "      <th>meal</th>\n",
       "      <th>country</th>\n",
       "      <th>market_segment</th>\n",
       "      <th>distribution_channel</th>\n",
       "      <th>reserved_room_type</th>\n",
       "      <th>assigned_room_type</th>\n",
       "      <th>deposit_type</th>\n",
       "      <th>agent</th>\n",
       "      <th>company</th>\n",
       "      <th>customer_type</th>\n",
       "      <th>reservation_status_date</th>\n",
       "      <th>arrival_date</th>\n",
       "    </tr>\n",
       "  </thead>\n",
       "  <tbody>\n",
       "    <tr>\n",
       "      <th>0</th>\n",
       "      <td>0.0</td>\n",
       "      <td>2.0</td>\n",
       "      <td>1.0</td>\n",
       "      <td>0.0</td>\n",
       "      <td>0.0</td>\n",
       "      <td>0.0</td>\n",
       "      <td>1.0</td>\n",
       "      <td>4.0</td>\n",
       "      <td>2.0</td>\n",
       "      <td>0.0</td>\n",
       "      <td>0.0</td>\n",
       "      <td>0.0</td>\n",
       "      <td>288.0</td>\n",
       "      <td>323.0</td>\n",
       "      <td>2.0</td>\n",
       "      <td>400.0</td>\n",
       "      <td>562.0</td>\n",
       "    </tr>\n",
       "    <tr>\n",
       "      <th>1</th>\n",
       "      <td>1.0</td>\n",
       "      <td>2.0</td>\n",
       "      <td>1.0</td>\n",
       "      <td>0.0</td>\n",
       "      <td>0.0</td>\n",
       "      <td>0.0</td>\n",
       "      <td>1.0</td>\n",
       "      <td>4.0</td>\n",
       "      <td>2.0</td>\n",
       "      <td>0.0</td>\n",
       "      <td>3.0</td>\n",
       "      <td>0.0</td>\n",
       "      <td>98.0</td>\n",
       "      <td>323.0</td>\n",
       "      <td>2.0</td>\n",
       "      <td>375.0</td>\n",
       "      <td>258.0</td>\n",
       "    </tr>\n",
       "    <tr>\n",
       "      <th>2</th>\n",
       "      <td>1.0</td>\n",
       "      <td>2.0</td>\n",
       "      <td>2.0</td>\n",
       "      <td>0.0</td>\n",
       "      <td>0.0</td>\n",
       "      <td>0.0</td>\n",
       "      <td>1.0</td>\n",
       "      <td>3.0</td>\n",
       "      <td>2.0</td>\n",
       "      <td>3.0</td>\n",
       "      <td>4.0</td>\n",
       "      <td>0.0</td>\n",
       "      <td>316.0</td>\n",
       "      <td>92.0</td>\n",
       "      <td>3.0</td>\n",
       "      <td>886.0</td>\n",
       "      <td>770.0</td>\n",
       "    </tr>\n",
       "    <tr>\n",
       "      <th>3</th>\n",
       "      <td>1.0</td>\n",
       "      <td>2.0</td>\n",
       "      <td>0.0</td>\n",
       "      <td>0.0</td>\n",
       "      <td>0.0</td>\n",
       "      <td>0.0</td>\n",
       "      <td>0.0</td>\n",
       "      <td>2.0</td>\n",
       "      <td>1.0</td>\n",
       "      <td>0.0</td>\n",
       "      <td>0.0</td>\n",
       "      <td>0.0</td>\n",
       "      <td>316.0</td>\n",
       "      <td>76.0</td>\n",
       "      <td>3.0</td>\n",
       "      <td>449.0</td>\n",
       "      <td>330.0</td>\n",
       "    </tr>\n",
       "    <tr>\n",
       "      <th>4</th>\n",
       "      <td>1.0</td>\n",
       "      <td>2.0</td>\n",
       "      <td>1.0</td>\n",
       "      <td>0.0</td>\n",
       "      <td>0.0</td>\n",
       "      <td>0.0</td>\n",
       "      <td>1.0</td>\n",
       "      <td>1.0</td>\n",
       "      <td>1.0</td>\n",
       "      <td>4.0</td>\n",
       "      <td>4.0</td>\n",
       "      <td>0.0</td>\n",
       "      <td>316.0</td>\n",
       "      <td>323.0</td>\n",
       "      <td>2.0</td>\n",
       "      <td>714.0</td>\n",
       "      <td>597.0</td>\n",
       "    </tr>\n",
       "    <tr>\n",
       "      <th>...</th>\n",
       "      <td>...</td>\n",
       "      <td>...</td>\n",
       "      <td>...</td>\n",
       "      <td>...</td>\n",
       "      <td>...</td>\n",
       "      <td>...</td>\n",
       "      <td>...</td>\n",
       "      <td>...</td>\n",
       "      <td>...</td>\n",
       "      <td>...</td>\n",
       "      <td>...</td>\n",
       "      <td>...</td>\n",
       "      <td>...</td>\n",
       "      <td>...</td>\n",
       "      <td>...</td>\n",
       "      <td>...</td>\n",
       "      <td>...</td>\n",
       "    </tr>\n",
       "    <tr>\n",
       "      <th>83568</th>\n",
       "      <td>0.0</td>\n",
       "      <td>1.0</td>\n",
       "      <td>1.0</td>\n",
       "      <td>0.0</td>\n",
       "      <td>0.0</td>\n",
       "      <td>0.0</td>\n",
       "      <td>2.0</td>\n",
       "      <td>2.0</td>\n",
       "      <td>2.0</td>\n",
       "      <td>0.0</td>\n",
       "      <td>0.0</td>\n",
       "      <td>0.0</td>\n",
       "      <td>0.0</td>\n",
       "      <td>323.0</td>\n",
       "      <td>3.0</td>\n",
       "      <td>339.0</td>\n",
       "      <td>220.0</td>\n",
       "    </tr>\n",
       "    <tr>\n",
       "      <th>83569</th>\n",
       "      <td>0.0</td>\n",
       "      <td>2.0</td>\n",
       "      <td>1.0</td>\n",
       "      <td>0.0</td>\n",
       "      <td>0.0</td>\n",
       "      <td>0.0</td>\n",
       "      <td>1.0</td>\n",
       "      <td>2.0</td>\n",
       "      <td>2.0</td>\n",
       "      <td>0.0</td>\n",
       "      <td>0.0</td>\n",
       "      <td>1.0</td>\n",
       "      <td>143.0</td>\n",
       "      <td>323.0</td>\n",
       "      <td>2.0</td>\n",
       "      <td>640.0</td>\n",
       "      <td>660.0</td>\n",
       "    </tr>\n",
       "    <tr>\n",
       "      <th>83570</th>\n",
       "      <td>1.0</td>\n",
       "      <td>2.0</td>\n",
       "      <td>0.0</td>\n",
       "      <td>0.0</td>\n",
       "      <td>0.0</td>\n",
       "      <td>0.0</td>\n",
       "      <td>2.0</td>\n",
       "      <td>4.0</td>\n",
       "      <td>2.0</td>\n",
       "      <td>4.0</td>\n",
       "      <td>4.0</td>\n",
       "      <td>0.0</td>\n",
       "      <td>99.0</td>\n",
       "      <td>323.0</td>\n",
       "      <td>2.0</td>\n",
       "      <td>817.0</td>\n",
       "      <td>699.0</td>\n",
       "    </tr>\n",
       "    <tr>\n",
       "      <th>83571</th>\n",
       "      <td>0.0</td>\n",
       "      <td>2.0</td>\n",
       "      <td>1.0</td>\n",
       "      <td>0.0</td>\n",
       "      <td>0.0</td>\n",
       "      <td>0.0</td>\n",
       "      <td>1.0</td>\n",
       "      <td>2.0</td>\n",
       "      <td>2.0</td>\n",
       "      <td>0.0</td>\n",
       "      <td>0.0</td>\n",
       "      <td>1.0</td>\n",
       "      <td>193.0</td>\n",
       "      <td>323.0</td>\n",
       "      <td>2.0</td>\n",
       "      <td>304.0</td>\n",
       "      <td>231.0</td>\n",
       "    </tr>\n",
       "    <tr>\n",
       "      <th>83572</th>\n",
       "      <td>1.0</td>\n",
       "      <td>2.0</td>\n",
       "      <td>0.0</td>\n",
       "      <td>0.0</td>\n",
       "      <td>0.0</td>\n",
       "      <td>0.0</td>\n",
       "      <td>0.0</td>\n",
       "      <td>2.0</td>\n",
       "      <td>1.0</td>\n",
       "      <td>0.0</td>\n",
       "      <td>0.0</td>\n",
       "      <td>0.0</td>\n",
       "      <td>316.0</td>\n",
       "      <td>76.0</td>\n",
       "      <td>3.0</td>\n",
       "      <td>449.0</td>\n",
       "      <td>328.0</td>\n",
       "    </tr>\n",
       "  </tbody>\n",
       "</table>\n",
       "<p>83573 rows × 17 columns</p>\n",
       "</div>"
      ],
      "text/plain": [
       "       hotel  stays_in_weekend_nights  stays_in_week_nights  children  babies  \\\n",
       "0        0.0                      2.0                   1.0       0.0     0.0   \n",
       "1        1.0                      2.0                   1.0       0.0     0.0   \n",
       "2        1.0                      2.0                   2.0       0.0     0.0   \n",
       "3        1.0                      2.0                   0.0       0.0     0.0   \n",
       "4        1.0                      2.0                   1.0       0.0     0.0   \n",
       "...      ...                      ...                   ...       ...     ...   \n",
       "83568    0.0                      1.0                   1.0       0.0     0.0   \n",
       "83569    0.0                      2.0                   1.0       0.0     0.0   \n",
       "83570    1.0                      2.0                   0.0       0.0     0.0   \n",
       "83571    0.0                      2.0                   1.0       0.0     0.0   \n",
       "83572    1.0                      2.0                   0.0       0.0     0.0   \n",
       "\n",
       "       meal  country  market_segment  distribution_channel  \\\n",
       "0       0.0      1.0             4.0                   2.0   \n",
       "1       0.0      1.0             4.0                   2.0   \n",
       "2       0.0      1.0             3.0                   2.0   \n",
       "3       0.0      0.0             2.0                   1.0   \n",
       "4       0.0      1.0             1.0                   1.0   \n",
       "...     ...      ...             ...                   ...   \n",
       "83568   0.0      2.0             2.0                   2.0   \n",
       "83569   0.0      1.0             2.0                   2.0   \n",
       "83570   0.0      2.0             4.0                   2.0   \n",
       "83571   0.0      1.0             2.0                   2.0   \n",
       "83572   0.0      0.0             2.0                   1.0   \n",
       "\n",
       "       reserved_room_type  assigned_room_type  deposit_type  agent  company  \\\n",
       "0                     0.0                 0.0           0.0  288.0    323.0   \n",
       "1                     0.0                 3.0           0.0   98.0    323.0   \n",
       "2                     3.0                 4.0           0.0  316.0     92.0   \n",
       "3                     0.0                 0.0           0.0  316.0     76.0   \n",
       "4                     4.0                 4.0           0.0  316.0    323.0   \n",
       "...                   ...                 ...           ...    ...      ...   \n",
       "83568                 0.0                 0.0           0.0    0.0    323.0   \n",
       "83569                 0.0                 0.0           1.0  143.0    323.0   \n",
       "83570                 4.0                 4.0           0.0   99.0    323.0   \n",
       "83571                 0.0                 0.0           1.0  193.0    323.0   \n",
       "83572                 0.0                 0.0           0.0  316.0     76.0   \n",
       "\n",
       "       customer_type  reservation_status_date  arrival_date  \n",
       "0                2.0                    400.0         562.0  \n",
       "1                2.0                    375.0         258.0  \n",
       "2                3.0                    886.0         770.0  \n",
       "3                3.0                    449.0         330.0  \n",
       "4                2.0                    714.0         597.0  \n",
       "...              ...                      ...           ...  \n",
       "83568            3.0                    339.0         220.0  \n",
       "83569            2.0                    640.0         660.0  \n",
       "83570            2.0                    817.0         699.0  \n",
       "83571            2.0                    304.0         231.0  \n",
       "83572            3.0                    449.0         328.0  \n",
       "\n",
       "[83573 rows x 17 columns]"
      ]
     },
     "execution_count": 14,
     "metadata": {},
     "output_type": "execute_result"
    }
   ],
   "source": [
    "data_label_train_ode"
   ]
  },
  {
   "cell_type": "markdown",
   "metadata": {},
   "source": [
    "Updating encoded columns:"
   ]
  },
  {
   "cell_type": "code",
   "execution_count": 15,
   "metadata": {},
   "outputs": [],
   "source": [
    "X_train.drop(data_cat, axis=1, inplace=True)\n",
    "X_test.drop(data_cat, axis=1, inplace=True)"
   ]
  },
  {
   "cell_type": "markdown",
   "metadata": {},
   "source": [
    "Concatenating encoded features with the rest:"
   ]
  },
  {
   "cell_type": "code",
   "execution_count": 16,
   "metadata": {},
   "outputs": [],
   "source": [
    "X_train = pd.concat([X_train.reset_index(drop=True), data_label_train_ode.reset_index(drop=True)], axis=1)\n",
    "X_test = pd.concat([X_test.reset_index(drop=True), data_label_test_ode.reset_index(drop=True)], axis=1)"
   ]
  },
  {
   "cell_type": "code",
   "execution_count": 17,
   "metadata": {},
   "outputs": [
    {
     "data": {
      "text/plain": [
       "(83573, 27)"
      ]
     },
     "execution_count": 17,
     "metadata": {},
     "output_type": "execute_result"
    }
   ],
   "source": [
    "X_train.shape"
   ]
  },
  {
   "cell_type": "markdown",
   "metadata": {},
   "source": [
    "Encoding with get_dummies:"
   ]
  },
  {
   "cell_type": "code",
   "execution_count": 18,
   "metadata": {},
   "outputs": [],
   "source": [
    "X_train = pd.get_dummies(X_train, drop_first=True)"
   ]
  },
  {
   "cell_type": "code",
   "execution_count": 19,
   "metadata": {},
   "outputs": [],
   "source": [
    "X_test = pd.get_dummies(X_test, drop_first=True)\n",
    "X_test = X_test.reindex(columns = X_train.columns, fill_value=0)"
   ]
  },
  {
   "cell_type": "code",
   "execution_count": 20,
   "metadata": {},
   "outputs": [
    {
     "data": {
      "text/plain": [
       "(83573, 27)"
      ]
     },
     "execution_count": 20,
     "metadata": {},
     "output_type": "execute_result"
    }
   ],
   "source": [
    "X_train.shape"
   ]
  },
  {
   "cell_type": "markdown",
   "metadata": {},
   "source": [
    "Initiating StandardScaler for further data scaling:"
   ]
  },
  {
   "cell_type": "code",
   "execution_count": 21,
   "metadata": {},
   "outputs": [],
   "source": [
    "scaler = StandardScaler()"
   ]
  },
  {
   "cell_type": "markdown",
   "metadata": {},
   "source": [
    "Initiating Principal Components with ten components reducing dimentions to ten components :"
   ]
  },
  {
   "cell_type": "code",
   "execution_count": 22,
   "metadata": {},
   "outputs": [],
   "source": [
    "pca = PCA(n_components=10)"
   ]
  },
  {
   "cell_type": "markdown",
   "metadata": {},
   "source": [
    "Initiating algorithm to ballance unballanced data- SMOTEENN:"
   ]
  },
  {
   "cell_type": "code",
   "execution_count": 23,
   "metadata": {},
   "outputs": [],
   "source": [
    "SMOTEEN = SMOTEENN()"
   ]
  },
  {
   "cell_type": "markdown",
   "metadata": {},
   "source": [
    "RandomForestClassifier algorythm with RandomizedGridSearch in pipeline, scaling reducing, ballancing:"
   ]
  },
  {
   "cell_type": "code",
   "execution_count": 24,
   "metadata": {},
   "outputs": [
    {
     "name": "stdout",
     "output_type": "stream",
     "text": [
      "Fitting 5 folds for each of 10 candidates, totalling 50 fits\n",
      "[CV 1/5] END pca__n_components=5, rf__max_depth=10, rf__min_samples_split=10, rf__n_estimators=100;, score=0.838 total time=  15.0s\n",
      "[CV 2/5] END pca__n_components=5, rf__max_depth=10, rf__min_samples_split=10, rf__n_estimators=100;, score=0.838 total time=  14.6s\n",
      "[CV 3/5] END pca__n_components=5, rf__max_depth=10, rf__min_samples_split=10, rf__n_estimators=100;, score=0.844 total time=  14.2s\n",
      "[CV 4/5] END pca__n_components=5, rf__max_depth=10, rf__min_samples_split=10, rf__n_estimators=100;, score=0.846 total time=  14.3s\n",
      "[CV 5/5] END pca__n_components=5, rf__max_depth=10, rf__min_samples_split=10, rf__n_estimators=100;, score=0.844 total time=  14.0s\n",
      "[CV 1/5] END pca__n_components=10, rf__max_depth=20, rf__min_samples_split=5, rf__n_estimators=20;, score=0.895 total time=  16.8s\n",
      "[CV 2/5] END pca__n_components=10, rf__max_depth=20, rf__min_samples_split=5, rf__n_estimators=20;, score=0.898 total time=  17.1s\n",
      "[CV 3/5] END pca__n_components=10, rf__max_depth=20, rf__min_samples_split=5, rf__n_estimators=20;, score=0.897 total time=  17.1s\n",
      "[CV 4/5] END pca__n_components=10, rf__max_depth=20, rf__min_samples_split=5, rf__n_estimators=20;, score=0.900 total time=  17.0s\n",
      "[CV 5/5] END pca__n_components=10, rf__max_depth=20, rf__min_samples_split=5, rf__n_estimators=20;, score=0.902 total time=  17.6s\n",
      "[CV 1/5] END pca__n_components=5, rf__max_depth=10, rf__min_samples_split=5, rf__n_estimators=20;, score=0.836 total time=   4.4s\n",
      "[CV 2/5] END pca__n_components=5, rf__max_depth=10, rf__min_samples_split=5, rf__n_estimators=20;, score=0.837 total time=   4.6s\n",
      "[CV 3/5] END pca__n_components=5, rf__max_depth=10, rf__min_samples_split=5, rf__n_estimators=20;, score=0.842 total time=   4.6s\n",
      "[CV 4/5] END pca__n_components=5, rf__max_depth=10, rf__min_samples_split=5, rf__n_estimators=20;, score=0.843 total time=   4.4s\n",
      "[CV 5/5] END pca__n_components=5, rf__max_depth=10, rf__min_samples_split=5, rf__n_estimators=20;, score=0.842 total time=   4.6s\n",
      "[CV 1/5] END pca__n_components=5, rf__max_depth=10, rf__min_samples_split=10, rf__n_estimators=20;, score=0.839 total time=   4.4s\n",
      "[CV 2/5] END pca__n_components=5, rf__max_depth=10, rf__min_samples_split=10, rf__n_estimators=20;, score=0.835 total time=   4.5s\n",
      "[CV 3/5] END pca__n_components=5, rf__max_depth=10, rf__min_samples_split=10, rf__n_estimators=20;, score=0.843 total time=   4.5s\n",
      "[CV 4/5] END pca__n_components=5, rf__max_depth=10, rf__min_samples_split=10, rf__n_estimators=20;, score=0.839 total time=   4.3s\n",
      "[CV 5/5] END pca__n_components=5, rf__max_depth=10, rf__min_samples_split=10, rf__n_estimators=20;, score=0.841 total time=   4.4s\n",
      "[CV 1/5] END pca__n_components=5, rf__max_depth=20, rf__min_samples_split=10, rf__n_estimators=100;, score=0.871 total time=  17.3s\n",
      "[CV 2/5] END pca__n_components=5, rf__max_depth=20, rf__min_samples_split=10, rf__n_estimators=100;, score=0.866 total time=  16.8s\n",
      "[CV 3/5] END pca__n_components=5, rf__max_depth=20, rf__min_samples_split=10, rf__n_estimators=100;, score=0.872 total time=  16.7s\n",
      "[CV 4/5] END pca__n_components=5, rf__max_depth=20, rf__min_samples_split=10, rf__n_estimators=100;, score=0.874 total time=  16.6s\n",
      "[CV 5/5] END pca__n_components=5, rf__max_depth=20, rf__min_samples_split=10, rf__n_estimators=100;, score=0.872 total time=  16.7s\n",
      "[CV 1/5] END pca__n_components=20, rf__max_depth=10, rf__min_samples_split=10, rf__n_estimators=100;, score=0.890 total time=  40.9s\n",
      "[CV 2/5] END pca__n_components=20, rf__max_depth=10, rf__min_samples_split=10, rf__n_estimators=100;, score=0.889 total time=  40.8s\n",
      "[CV 3/5] END pca__n_components=20, rf__max_depth=10, rf__min_samples_split=10, rf__n_estimators=100;, score=0.891 total time=  40.6s\n",
      "[CV 4/5] END pca__n_components=20, rf__max_depth=10, rf__min_samples_split=10, rf__n_estimators=100;, score=0.894 total time=  40.7s\n",
      "[CV 5/5] END pca__n_components=20, rf__max_depth=10, rf__min_samples_split=10, rf__n_estimators=100;, score=0.893 total time=  40.7s\n",
      "[CV 1/5] END pca__n_components=20, rf__max_depth=20, rf__min_samples_split=10, rf__n_estimators=20;, score=0.908 total time=  24.9s\n",
      "[CV 2/5] END pca__n_components=20, rf__max_depth=20, rf__min_samples_split=10, rf__n_estimators=20;, score=0.904 total time=  24.8s\n",
      "[CV 3/5] END pca__n_components=20, rf__max_depth=20, rf__min_samples_split=10, rf__n_estimators=20;, score=0.909 total time=  24.7s\n",
      "[CV 4/5] END pca__n_components=20, rf__max_depth=20, rf__min_samples_split=10, rf__n_estimators=20;, score=0.909 total time=  25.0s\n",
      "[CV 5/5] END pca__n_components=20, rf__max_depth=20, rf__min_samples_split=10, rf__n_estimators=20;, score=0.911 total time=  25.0s\n",
      "[CV 1/5] END pca__n_components=10, rf__max_depth=20, rf__min_samples_split=5, rf__n_estimators=100;, score=0.903 total time=  35.7s\n",
      "[CV 2/5] END pca__n_components=10, rf__max_depth=20, rf__min_samples_split=5, rf__n_estimators=100;, score=0.897 total time=  33.5s\n",
      "[CV 3/5] END pca__n_components=10, rf__max_depth=20, rf__min_samples_split=5, rf__n_estimators=100;, score=0.902 total time=  34.9s\n",
      "[CV 4/5] END pca__n_components=10, rf__max_depth=20, rf__min_samples_split=5, rf__n_estimators=100;, score=0.904 total time=  35.4s\n",
      "[CV 5/5] END pca__n_components=10, rf__max_depth=20, rf__min_samples_split=5, rf__n_estimators=100;, score=0.908 total time=  35.7s\n",
      "[CV 1/5] END pca__n_components=10, rf__max_depth=20, rf__min_samples_split=10, rf__n_estimators=20;, score=0.896 total time=  16.7s\n",
      "[CV 2/5] END pca__n_components=10, rf__max_depth=20, rf__min_samples_split=10, rf__n_estimators=20;, score=0.895 total time=  16.2s\n",
      "[CV 3/5] END pca__n_components=10, rf__max_depth=20, rf__min_samples_split=10, rf__n_estimators=20;, score=0.898 total time=  15.9s\n",
      "[CV 4/5] END pca__n_components=10, rf__max_depth=20, rf__min_samples_split=10, rf__n_estimators=20;, score=0.900 total time=  16.4s\n",
      "[CV 5/5] END pca__n_components=10, rf__max_depth=20, rf__min_samples_split=10, rf__n_estimators=20;, score=0.901 total time=  16.5s\n",
      "[CV 1/5] END pca__n_components=20, rf__max_depth=20, rf__min_samples_split=10, rf__n_estimators=100;, score=0.913 total time=  48.4s\n",
      "[CV 2/5] END pca__n_components=20, rf__max_depth=20, rf__min_samples_split=10, rf__n_estimators=100;, score=0.910 total time=  48.8s\n",
      "[CV 3/5] END pca__n_components=20, rf__max_depth=20, rf__min_samples_split=10, rf__n_estimators=100;, score=0.913 total time=  50.2s\n",
      "[CV 4/5] END pca__n_components=20, rf__max_depth=20, rf__min_samples_split=10, rf__n_estimators=100;, score=0.913 total time=  46.9s\n",
      "[CV 5/5] END pca__n_components=20, rf__max_depth=20, rf__min_samples_split=10, rf__n_estimators=100;, score=0.915 total time=  47.3s\n",
      "Random Forest:\n",
      "{'rf__n_estimators': 100, 'rf__min_samples_split': 10, 'rf__max_depth': 20, 'pca__n_components': 20}\n",
      "Results on test: 0.8232962001284306\n",
      "Results on train: 0.8808945472820169\n"
     ]
    }
   ],
   "source": [
    "stratified_kfold = StratifiedKFold(n_splits=5,\n",
    "                                       shuffle=True,\n",
    "                                       random_state=11)\n",
    "#imbpipeline\n",
    "pipeline_rf = imbpipeline(steps=[\n",
    "    ['scaler', scaler],\n",
    "    ['pca', pca],\n",
    "    ['smote', SMOTEEN],\n",
    "    ['rf', RandomForestClassifier()]])\n",
    "    \n",
    "param_distributions_rf = {\n",
    "    'rf__n_estimators': [20, 100],\n",
    "    'rf__max_depth': [10, 20],\n",
    "    'rf__min_samples_split': [5, 10],\n",
    "    'pca__n_components': [5, 10, 20]\n",
    "}\n",
    "\n",
    "search_rf = RandomizedSearchCV(pipeline_rf, \n",
    "                               param_distributions_rf, \n",
    "                               n_iter=10, \n",
    "                               cv=stratified_kfold, \n",
    "                               scoring='roc_auc',\n",
    "                               verbose=3\n",
    "                              )\n",
    "\n",
    "search_rf.fit(X_train, y_train)\n",
    "y_pred_rf = search_rf.best_estimator_.predict(X_test)\n",
    "print(\"Random Forest:\")\n",
    "print(search_rf.best_params_)\n",
    "print(f'Results on test: {search_rf.best_estimator_.score(X_test, y_test)}')\n",
    "print(f'Results on train: {search_rf.best_estimator_.score(X_train, y_train)}')"
   ]
  },
  {
   "cell_type": "markdown",
   "metadata": {},
   "source": [
    "Achieving scores of classification, saving accuracy, recall and F1 score in data frame:"
   ]
  },
  {
   "cell_type": "code",
   "execution_count": 25,
   "metadata": {},
   "outputs": [],
   "source": [
    "#print(get_scorer_names())"
   ]
  },
  {
   "cell_type": "code",
   "execution_count": 26,
   "metadata": {},
   "outputs": [
    {
     "data": {
      "text/plain": [
       "array([0, 1, 1, ..., 0, 0, 0])"
      ]
     },
     "execution_count": 26,
     "metadata": {},
     "output_type": "execute_result"
    }
   ],
   "source": [
    "y_pred_rf"
   ]
  },
  {
   "cell_type": "code",
   "execution_count": 27,
   "metadata": {},
   "outputs": [
    {
     "name": "stdout",
     "output_type": "stream",
     "text": [
      "              precision    recall  f1-score   support\n",
      "\n",
      "           0       0.82      0.91      0.87     22550\n",
      "           1       0.82      0.67      0.74     13267\n",
      "\n",
      "    accuracy                           0.82     35817\n",
      "   macro avg       0.82      0.79      0.80     35817\n",
      "weighted avg       0.82      0.82      0.82     35817\n",
      "\n"
     ]
    }
   ],
   "source": [
    "print(classification_report(y_test, y_pred_rf))"
   ]
  },
  {
   "cell_type": "code",
   "execution_count": 28,
   "metadata": {
    "scrolled": true
   },
   "outputs": [],
   "source": [
    "B_report_rf = pd.DataFrame(classification_report(y_test, y_pred_rf, output_dict=True))"
   ]
  },
  {
   "cell_type": "code",
   "execution_count": 29,
   "metadata": {},
   "outputs": [],
   "source": [
    "for i, name in enumerate(B_report_rf.columns):\n",
    "  B_report_rf = B_report_rf.rename(columns={(B_report_rf.iloc[:,i].name): ('RF_'+B_report_rf.iloc[:,i].name)})\n"
   ]
  },
  {
   "cell_type": "code",
   "execution_count": 30,
   "metadata": {},
   "outputs": [
    {
     "data": {
      "text/html": [
       "<div>\n",
       "<style scoped>\n",
       "    .dataframe tbody tr th:only-of-type {\n",
       "        vertical-align: middle;\n",
       "    }\n",
       "\n",
       "    .dataframe tbody tr th {\n",
       "        vertical-align: top;\n",
       "    }\n",
       "\n",
       "    .dataframe thead th {\n",
       "        text-align: right;\n",
       "    }\n",
       "</style>\n",
       "<table border=\"1\" class=\"dataframe\">\n",
       "  <thead>\n",
       "    <tr style=\"text-align: right;\">\n",
       "      <th></th>\n",
       "      <th>RF_0</th>\n",
       "      <th>RF_1</th>\n",
       "      <th>RF_accuracy</th>\n",
       "      <th>RF_macro avg</th>\n",
       "      <th>RF_weighted avg</th>\n",
       "    </tr>\n",
       "  </thead>\n",
       "  <tbody>\n",
       "    <tr>\n",
       "      <th>precision</th>\n",
       "      <td>0.824122</td>\n",
       "      <td>0.821382</td>\n",
       "      <td>0.823296</td>\n",
       "      <td>0.822752</td>\n",
       "      <td>0.823107</td>\n",
       "    </tr>\n",
       "    <tr>\n",
       "      <th>recall</th>\n",
       "      <td>0.914501</td>\n",
       "      <td>0.668275</td>\n",
       "      <td>0.823296</td>\n",
       "      <td>0.791388</td>\n",
       "      <td>0.823296</td>\n",
       "    </tr>\n",
       "    <tr>\n",
       "      <th>f1-score</th>\n",
       "      <td>0.866962</td>\n",
       "      <td>0.736960</td>\n",
       "      <td>0.823296</td>\n",
       "      <td>0.801961</td>\n",
       "      <td>0.818808</td>\n",
       "    </tr>\n",
       "    <tr>\n",
       "      <th>support</th>\n",
       "      <td>22550.000000</td>\n",
       "      <td>13267.000000</td>\n",
       "      <td>0.823296</td>\n",
       "      <td>35817.000000</td>\n",
       "      <td>35817.000000</td>\n",
       "    </tr>\n",
       "  </tbody>\n",
       "</table>\n",
       "</div>"
      ],
      "text/plain": [
       "                   RF_0          RF_1  RF_accuracy  RF_macro avg  \\\n",
       "precision      0.824122      0.821382     0.823296      0.822752   \n",
       "recall         0.914501      0.668275     0.823296      0.791388   \n",
       "f1-score       0.866962      0.736960     0.823296      0.801961   \n",
       "support    22550.000000  13267.000000     0.823296  35817.000000   \n",
       "\n",
       "           RF_weighted avg  \n",
       "precision         0.823107  \n",
       "recall            0.823296  \n",
       "f1-score          0.818808  \n",
       "support       35817.000000  "
      ]
     },
     "execution_count": 30,
     "metadata": {},
     "output_type": "execute_result"
    }
   ],
   "source": [
    "B_report_rf"
   ]
  },
  {
   "cell_type": "markdown",
   "metadata": {},
   "source": [
    "DecisionTreeClassifier algorythm with RandomizedGridSearch in pipeline, scaling reducing, ballancing:"
   ]
  },
  {
   "cell_type": "code",
   "execution_count": 31,
   "metadata": {},
   "outputs": [
    {
     "name": "stdout",
     "output_type": "stream",
     "text": [
      "Fitting 5 folds for each of 12 candidates, totalling 60 fits\n",
      "[CV 1/5] END dtc__max_depth=10, dtc__max_leaf_nodes=5, dtc__random_state=23, pca__n_components=5;, score=0.716 total time=   2.4s\n",
      "[CV 2/5] END dtc__max_depth=10, dtc__max_leaf_nodes=5, dtc__random_state=23, pca__n_components=5;, score=0.723 total time=   2.4s\n",
      "[CV 3/5] END dtc__max_depth=10, dtc__max_leaf_nodes=5, dtc__random_state=23, pca__n_components=5;, score=0.733 total time=   2.4s\n",
      "[CV 4/5] END dtc__max_depth=10, dtc__max_leaf_nodes=5, dtc__random_state=23, pca__n_components=5;, score=0.729 total time=   2.5s\n",
      "[CV 5/5] END dtc__max_depth=10, dtc__max_leaf_nodes=5, dtc__random_state=23, pca__n_components=5;, score=0.726 total time=   2.3s\n",
      "[CV 1/5] END dtc__max_depth=10, dtc__max_leaf_nodes=5, dtc__random_state=23, pca__n_components=10;, score=0.728 total time=  11.7s\n",
      "[CV 2/5] END dtc__max_depth=10, dtc__max_leaf_nodes=5, dtc__random_state=23, pca__n_components=10;, score=0.725 total time=  12.9s\n",
      "[CV 3/5] END dtc__max_depth=10, dtc__max_leaf_nodes=5, dtc__random_state=23, pca__n_components=10;, score=0.736 total time=  12.1s\n",
      "[CV 4/5] END dtc__max_depth=10, dtc__max_leaf_nodes=5, dtc__random_state=23, pca__n_components=10;, score=0.730 total time=  12.1s\n",
      "[CV 5/5] END dtc__max_depth=10, dtc__max_leaf_nodes=5, dtc__random_state=23, pca__n_components=10;, score=0.726 total time=  11.7s\n",
      "[CV 1/5] END dtc__max_depth=10, dtc__max_leaf_nodes=5, dtc__random_state=23, pca__n_components=20;, score=0.730 total time=  19.7s\n",
      "[CV 2/5] END dtc__max_depth=10, dtc__max_leaf_nodes=5, dtc__random_state=23, pca__n_components=20;, score=0.727 total time=  19.6s\n",
      "[CV 3/5] END dtc__max_depth=10, dtc__max_leaf_nodes=5, dtc__random_state=23, pca__n_components=20;, score=0.738 total time=  19.6s\n",
      "[CV 4/5] END dtc__max_depth=10, dtc__max_leaf_nodes=5, dtc__random_state=23, pca__n_components=20;, score=0.736 total time=  19.6s\n",
      "[CV 5/5] END dtc__max_depth=10, dtc__max_leaf_nodes=5, dtc__random_state=23, pca__n_components=20;, score=0.726 total time=  19.8s\n",
      "[CV 1/5] END dtc__max_depth=10, dtc__max_leaf_nodes=30, dtc__random_state=23, pca__n_components=5;, score=0.773 total time=   2.5s\n",
      "[CV 2/5] END dtc__max_depth=10, dtc__max_leaf_nodes=30, dtc__random_state=23, pca__n_components=5;, score=0.778 total time=   2.5s\n",
      "[CV 3/5] END dtc__max_depth=10, dtc__max_leaf_nodes=30, dtc__random_state=23, pca__n_components=5;, score=0.780 total time=   2.5s\n",
      "[CV 4/5] END dtc__max_depth=10, dtc__max_leaf_nodes=30, dtc__random_state=23, pca__n_components=5;, score=0.781 total time=   2.5s\n",
      "[CV 5/5] END dtc__max_depth=10, dtc__max_leaf_nodes=30, dtc__random_state=23, pca__n_components=5;, score=0.780 total time=   2.5s\n",
      "[CV 1/5] END dtc__max_depth=10, dtc__max_leaf_nodes=30, dtc__random_state=23, pca__n_components=10;, score=0.797 total time=  12.0s\n",
      "[CV 2/5] END dtc__max_depth=10, dtc__max_leaf_nodes=30, dtc__random_state=23, pca__n_components=10;, score=0.796 total time=  13.4s\n",
      "[CV 3/5] END dtc__max_depth=10, dtc__max_leaf_nodes=30, dtc__random_state=23, pca__n_components=10;, score=0.803 total time=  12.0s\n",
      "[CV 4/5] END dtc__max_depth=10, dtc__max_leaf_nodes=30, dtc__random_state=23, pca__n_components=10;, score=0.801 total time=  13.2s\n",
      "[CV 5/5] END dtc__max_depth=10, dtc__max_leaf_nodes=30, dtc__random_state=23, pca__n_components=10;, score=0.792 total time=  12.2s\n",
      "[CV 1/5] END dtc__max_depth=10, dtc__max_leaf_nodes=30, dtc__random_state=23, pca__n_components=20;, score=0.803 total time=  20.2s\n",
      "[CV 2/5] END dtc__max_depth=10, dtc__max_leaf_nodes=30, dtc__random_state=23, pca__n_components=20;, score=0.799 total time=  19.9s\n",
      "[CV 3/5] END dtc__max_depth=10, dtc__max_leaf_nodes=30, dtc__random_state=23, pca__n_components=20;, score=0.803 total time=  20.0s\n",
      "[CV 4/5] END dtc__max_depth=10, dtc__max_leaf_nodes=30, dtc__random_state=23, pca__n_components=20;, score=0.801 total time=  20.1s\n",
      "[CV 5/5] END dtc__max_depth=10, dtc__max_leaf_nodes=30, dtc__random_state=23, pca__n_components=20;, score=0.793 total time=  19.9s\n",
      "[CV 1/5] END dtc__max_depth=40, dtc__max_leaf_nodes=5, dtc__random_state=23, pca__n_components=5;, score=0.726 total time=   2.4s\n",
      "[CV 2/5] END dtc__max_depth=40, dtc__max_leaf_nodes=5, dtc__random_state=23, pca__n_components=5;, score=0.727 total time=   2.4s\n",
      "[CV 3/5] END dtc__max_depth=40, dtc__max_leaf_nodes=5, dtc__random_state=23, pca__n_components=5;, score=0.733 total time=   2.4s\n",
      "[CV 4/5] END dtc__max_depth=40, dtc__max_leaf_nodes=5, dtc__random_state=23, pca__n_components=5;, score=0.730 total time=   2.4s\n",
      "[CV 5/5] END dtc__max_depth=40, dtc__max_leaf_nodes=5, dtc__random_state=23, pca__n_components=5;, score=0.715 total time=   2.4s\n",
      "[CV 1/5] END dtc__max_depth=40, dtc__max_leaf_nodes=5, dtc__random_state=23, pca__n_components=10;, score=0.729 total time=  12.2s\n",
      "[CV 2/5] END dtc__max_depth=40, dtc__max_leaf_nodes=5, dtc__random_state=23, pca__n_components=10;, score=0.725 total time=  12.6s\n",
      "[CV 3/5] END dtc__max_depth=40, dtc__max_leaf_nodes=5, dtc__random_state=23, pca__n_components=10;, score=0.736 total time=  12.5s\n",
      "[CV 4/5] END dtc__max_depth=40, dtc__max_leaf_nodes=5, dtc__random_state=23, pca__n_components=10;, score=0.732 total time=  12.1s\n",
      "[CV 5/5] END dtc__max_depth=40, dtc__max_leaf_nodes=5, dtc__random_state=23, pca__n_components=10;, score=0.726 total time=  11.7s\n",
      "[CV 1/5] END dtc__max_depth=40, dtc__max_leaf_nodes=5, dtc__random_state=23, pca__n_components=20;, score=0.730 total time=  19.6s\n",
      "[CV 2/5] END dtc__max_depth=40, dtc__max_leaf_nodes=5, dtc__random_state=23, pca__n_components=20;, score=0.725 total time=  19.7s\n",
      "[CV 3/5] END dtc__max_depth=40, dtc__max_leaf_nodes=5, dtc__random_state=23, pca__n_components=20;, score=0.738 total time=  19.6s\n",
      "[CV 4/5] END dtc__max_depth=40, dtc__max_leaf_nodes=5, dtc__random_state=23, pca__n_components=20;, score=0.731 total time=  19.7s\n",
      "[CV 5/5] END dtc__max_depth=40, dtc__max_leaf_nodes=5, dtc__random_state=23, pca__n_components=20;, score=0.726 total time=  19.7s\n",
      "[CV 1/5] END dtc__max_depth=40, dtc__max_leaf_nodes=30, dtc__random_state=23, pca__n_components=5;, score=0.772 total time=   2.5s\n",
      "[CV 2/5] END dtc__max_depth=40, dtc__max_leaf_nodes=30, dtc__random_state=23, pca__n_components=5;, score=0.780 total time=   2.5s\n",
      "[CV 3/5] END dtc__max_depth=40, dtc__max_leaf_nodes=30, dtc__random_state=23, pca__n_components=5;, score=0.784 total time=   2.5s\n",
      "[CV 4/5] END dtc__max_depth=40, dtc__max_leaf_nodes=30, dtc__random_state=23, pca__n_components=5;, score=0.777 total time=   2.6s\n",
      "[CV 5/5] END dtc__max_depth=40, dtc__max_leaf_nodes=30, dtc__random_state=23, pca__n_components=5;, score=0.778 total time=   2.5s\n",
      "[CV 1/5] END dtc__max_depth=40, dtc__max_leaf_nodes=30, dtc__random_state=23, pca__n_components=10;, score=0.801 total time=  12.2s\n",
      "[CV 2/5] END dtc__max_depth=40, dtc__max_leaf_nodes=30, dtc__random_state=23, pca__n_components=10;, score=0.796 total time=  13.3s\n",
      "[CV 3/5] END dtc__max_depth=40, dtc__max_leaf_nodes=30, dtc__random_state=23, pca__n_components=10;, score=0.801 total time=  11.9s\n",
      "[CV 4/5] END dtc__max_depth=40, dtc__max_leaf_nodes=30, dtc__random_state=23, pca__n_components=10;, score=0.800 total time=  12.3s\n",
      "[CV 5/5] END dtc__max_depth=40, dtc__max_leaf_nodes=30, dtc__random_state=23, pca__n_components=10;, score=0.795 total time=  11.7s\n",
      "[CV 1/5] END dtc__max_depth=40, dtc__max_leaf_nodes=30, dtc__random_state=23, pca__n_components=20;, score=0.806 total time=  20.0s\n",
      "[CV 2/5] END dtc__max_depth=40, dtc__max_leaf_nodes=30, dtc__random_state=23, pca__n_components=20;, score=0.799 total time=  20.3s\n",
      "[CV 3/5] END dtc__max_depth=40, dtc__max_leaf_nodes=30, dtc__random_state=23, pca__n_components=20;, score=0.808 total time=  19.9s\n",
      "[CV 4/5] END dtc__max_depth=40, dtc__max_leaf_nodes=30, dtc__random_state=23, pca__n_components=20;, score=0.801 total time=  20.0s\n",
      "[CV 5/5] END dtc__max_depth=40, dtc__max_leaf_nodes=30, dtc__random_state=23, pca__n_components=20;, score=0.802 total time=  20.1s\n",
      "Cross-validation score: 0.8032582312025053\n",
      "Test score: 0.7908997434074878\n",
      "Decision Tree:\n",
      "{'rf__n_estimators': 100, 'rf__min_samples_split': 10, 'rf__max_depth': 20, 'pca__n_components': 20}\n",
      "Results on test: 0.8232962001284306\n",
      "Results on train: 0.8808945472820169\n"
     ]
    }
   ],
   "source": [
    "stratified_kfold = StratifiedKFold(n_splits=5,\n",
    "                                       shuffle=True,\n",
    "                                       random_state=13)\n",
    "\n",
    "pipeline = imbpipeline(steps = [['scaler', scaler],\n",
    "                                ['pca', pca],\n",
    "                                ['smote', SMOTEEN],\n",
    "                                ['dtc', DecisionTreeClassifier()]])\n",
    "\n",
    "    \n",
    "param_grid = {'dtc__max_leaf_nodes' : [5, 30], \n",
    "             'dtc__max_depth': [10, 40],\n",
    "             'dtc__random_state' : [23],\n",
    "             'pca__n_components': [5, 10, 20]\n",
    "             }\n",
    "\n",
    "search_dtc = GridSearchCV(estimator=pipeline,\n",
    "                           param_grid=param_grid,\n",
    "                           scoring='roc_auc',\n",
    "                           cv=stratified_kfold,                           \n",
    "                          verbose=3,\n",
    "                           #n_jobs=3\n",
    "                         )\n",
    "\n",
    "search_dtc.fit(X_train, y_train)\n",
    "y_pred_dtc = search_dtc.best_estimator_.predict(X_test)\n",
    "cv_score = search_dtc.best_score_\n",
    "test_score = search_dtc.score(X_test, y_test)\n",
    "print(f'Cross-validation score: {cv_score}\\nTest score: {test_score}')\n",
    "print(\"Decision Tree:\")\n",
    "print(search_rf.best_params_)\n",
    "print(f'Results on test: {search_rf.best_estimator_.score(X_test, y_test)}')\n",
    "print(f'Results on train: {search_rf.best_estimator_.score(X_train, y_train)}')"
   ]
  },
  {
   "cell_type": "markdown",
   "metadata": {},
   "source": [
    "Achieving scores of classification, saving accuracy, recall and F1 score in data frame:"
   ]
  },
  {
   "cell_type": "code",
   "execution_count": 32,
   "metadata": {},
   "outputs": [
    {
     "data": {
      "text/plain": [
       "array([1, 1, 0, ..., 0, 0, 0])"
      ]
     },
     "execution_count": 32,
     "metadata": {},
     "output_type": "execute_result"
    }
   ],
   "source": [
    "y_pred_dtc"
   ]
  },
  {
   "cell_type": "code",
   "execution_count": 33,
   "metadata": {},
   "outputs": [
    {
     "name": "stdout",
     "output_type": "stream",
     "text": [
      "              precision    recall  f1-score   support\n",
      "\n",
      "           0       0.80      0.76      0.78     22550\n",
      "           1       0.62      0.67      0.65     13267\n",
      "\n",
      "    accuracy                           0.73     35817\n",
      "   macro avg       0.71      0.72      0.71     35817\n",
      "weighted avg       0.73      0.73      0.73     35817\n",
      "\n"
     ]
    }
   ],
   "source": [
    "print(classification_report(y_test, y_pred_dtc))\n",
    "B_report_dtc = pd.DataFrame(classification_report(y_test, y_pred_dtc, output_dict=True))"
   ]
  },
  {
   "cell_type": "code",
   "execution_count": 34,
   "metadata": {},
   "outputs": [],
   "source": [
    "for i, name in enumerate(B_report_dtc.columns):\n",
    "  B_report_dtc = B_report_dtc.rename(columns={(B_report_dtc.iloc[:,i].name): ('DTC_'+B_report_dtc.iloc[:,i].name)})\n"
   ]
  },
  {
   "cell_type": "code",
   "execution_count": 35,
   "metadata": {},
   "outputs": [
    {
     "data": {
      "text/html": [
       "<div>\n",
       "<style scoped>\n",
       "    .dataframe tbody tr th:only-of-type {\n",
       "        vertical-align: middle;\n",
       "    }\n",
       "\n",
       "    .dataframe tbody tr th {\n",
       "        vertical-align: top;\n",
       "    }\n",
       "\n",
       "    .dataframe thead th {\n",
       "        text-align: right;\n",
       "    }\n",
       "</style>\n",
       "<table border=\"1\" class=\"dataframe\">\n",
       "  <thead>\n",
       "    <tr style=\"text-align: right;\">\n",
       "      <th></th>\n",
       "      <th>RF_0</th>\n",
       "      <th>RF_1</th>\n",
       "      <th>RF_accuracy</th>\n",
       "      <th>RF_macro avg</th>\n",
       "      <th>RF_weighted avg</th>\n",
       "    </tr>\n",
       "  </thead>\n",
       "  <tbody>\n",
       "    <tr>\n",
       "      <th>precision</th>\n",
       "      <td>0.796740</td>\n",
       "      <td>0.624156</td>\n",
       "      <td>0.728202</td>\n",
       "      <td>0.710448</td>\n",
       "      <td>0.732813</td>\n",
       "    </tr>\n",
       "    <tr>\n",
       "      <th>recall</th>\n",
       "      <td>0.762927</td>\n",
       "      <td>0.669179</td>\n",
       "      <td>0.728202</td>\n",
       "      <td>0.716053</td>\n",
       "      <td>0.728202</td>\n",
       "    </tr>\n",
       "    <tr>\n",
       "      <th>f1-score</th>\n",
       "      <td>0.779467</td>\n",
       "      <td>0.645884</td>\n",
       "      <td>0.728202</td>\n",
       "      <td>0.712675</td>\n",
       "      <td>0.729986</td>\n",
       "    </tr>\n",
       "    <tr>\n",
       "      <th>support</th>\n",
       "      <td>22550.000000</td>\n",
       "      <td>13267.000000</td>\n",
       "      <td>0.728202</td>\n",
       "      <td>35817.000000</td>\n",
       "      <td>35817.000000</td>\n",
       "    </tr>\n",
       "  </tbody>\n",
       "</table>\n",
       "</div>"
      ],
      "text/plain": [
       "                   RF_0          RF_1  RF_accuracy  RF_macro avg  \\\n",
       "precision      0.796740      0.624156     0.728202      0.710448   \n",
       "recall         0.762927      0.669179     0.728202      0.716053   \n",
       "f1-score       0.779467      0.645884     0.728202      0.712675   \n",
       "support    22550.000000  13267.000000     0.728202  35817.000000   \n",
       "\n",
       "           RF_weighted avg  \n",
       "precision         0.732813  \n",
       "recall            0.728202  \n",
       "f1-score          0.729986  \n",
       "support       35817.000000  "
      ]
     },
     "execution_count": 35,
     "metadata": {},
     "output_type": "execute_result"
    }
   ],
   "source": [
    "B_report_dtc"
   ]
  },
  {
   "cell_type": "markdown",
   "metadata": {},
   "source": [
    "Support Vector Classifier algorythm with RandomizedGridSearch in pipeline, scaling reducing, ballancing:"
   ]
  },
  {
   "cell_type": "code",
   "execution_count": 36,
   "metadata": {
    "scrolled": true
   },
   "outputs": [
    {
     "name": "stdout",
     "output_type": "stream",
     "text": [
      "Fitting 5 folds for each of 6 candidates, totalling 30 fits\n"
     ]
    },
    {
     "name": "stderr",
     "output_type": "stream",
     "text": [
      "/home/hybrid/.local/lib/python3.8/site-packages/sklearn/svm/_base.py:299: ConvergenceWarning: Solver terminated early (max_iter=150).  Consider pre-processing your data with StandardScaler or MinMaxScaler.\n",
      "  warnings.warn(\n"
     ]
    },
    {
     "name": "stdout",
     "output_type": "stream",
     "text": [
      "[CV 1/5] END SVC__decision_function_shape=ovo, SVC__degree=1, SVC__gamma=auto, SVC__kernel=rbf, SVC__max_iter=150, SVC__random_state=11, pca__n_components=5;, score=0.529 total time=   3.5s\n"
     ]
    },
    {
     "name": "stderr",
     "output_type": "stream",
     "text": [
      "/home/hybrid/.local/lib/python3.8/site-packages/sklearn/svm/_base.py:299: ConvergenceWarning: Solver terminated early (max_iter=150).  Consider pre-processing your data with StandardScaler or MinMaxScaler.\n",
      "  warnings.warn(\n"
     ]
    },
    {
     "name": "stdout",
     "output_type": "stream",
     "text": [
      "[CV 2/5] END SVC__decision_function_shape=ovo, SVC__degree=1, SVC__gamma=auto, SVC__kernel=rbf, SVC__max_iter=150, SVC__random_state=11, pca__n_components=5;, score=0.591 total time=   3.4s\n"
     ]
    },
    {
     "name": "stderr",
     "output_type": "stream",
     "text": [
      "/home/hybrid/.local/lib/python3.8/site-packages/sklearn/svm/_base.py:299: ConvergenceWarning: Solver terminated early (max_iter=150).  Consider pre-processing your data with StandardScaler or MinMaxScaler.\n",
      "  warnings.warn(\n"
     ]
    },
    {
     "name": "stdout",
     "output_type": "stream",
     "text": [
      "[CV 3/5] END SVC__decision_function_shape=ovo, SVC__degree=1, SVC__gamma=auto, SVC__kernel=rbf, SVC__max_iter=150, SVC__random_state=11, pca__n_components=5;, score=0.475 total time=   3.4s\n"
     ]
    },
    {
     "name": "stderr",
     "output_type": "stream",
     "text": [
      "/home/hybrid/.local/lib/python3.8/site-packages/sklearn/svm/_base.py:299: ConvergenceWarning: Solver terminated early (max_iter=150).  Consider pre-processing your data with StandardScaler or MinMaxScaler.\n",
      "  warnings.warn(\n"
     ]
    },
    {
     "name": "stdout",
     "output_type": "stream",
     "text": [
      "[CV 4/5] END SVC__decision_function_shape=ovo, SVC__degree=1, SVC__gamma=auto, SVC__kernel=rbf, SVC__max_iter=150, SVC__random_state=11, pca__n_components=5;, score=0.583 total time=   3.5s\n"
     ]
    },
    {
     "name": "stderr",
     "output_type": "stream",
     "text": [
      "/home/hybrid/.local/lib/python3.8/site-packages/sklearn/svm/_base.py:299: ConvergenceWarning: Solver terminated early (max_iter=150).  Consider pre-processing your data with StandardScaler or MinMaxScaler.\n",
      "  warnings.warn(\n"
     ]
    },
    {
     "name": "stdout",
     "output_type": "stream",
     "text": [
      "[CV 5/5] END SVC__decision_function_shape=ovo, SVC__degree=1, SVC__gamma=auto, SVC__kernel=rbf, SVC__max_iter=150, SVC__random_state=11, pca__n_components=5;, score=0.477 total time=   3.5s\n"
     ]
    },
    {
     "name": "stderr",
     "output_type": "stream",
     "text": [
      "/home/hybrid/.local/lib/python3.8/site-packages/sklearn/svm/_base.py:299: ConvergenceWarning: Solver terminated early (max_iter=150).  Consider pre-processing your data with StandardScaler or MinMaxScaler.\n",
      "  warnings.warn(\n"
     ]
    },
    {
     "name": "stdout",
     "output_type": "stream",
     "text": [
      "[CV 1/5] END SVC__decision_function_shape=ovo, SVC__degree=1, SVC__gamma=auto, SVC__kernel=rbf, SVC__max_iter=150, SVC__random_state=11, pca__n_components=10;, score=0.536 total time=  12.6s\n"
     ]
    },
    {
     "name": "stderr",
     "output_type": "stream",
     "text": [
      "/home/hybrid/.local/lib/python3.8/site-packages/sklearn/svm/_base.py:299: ConvergenceWarning: Solver terminated early (max_iter=150).  Consider pre-processing your data with StandardScaler or MinMaxScaler.\n",
      "  warnings.warn(\n"
     ]
    },
    {
     "name": "stdout",
     "output_type": "stream",
     "text": [
      "[CV 2/5] END SVC__decision_function_shape=ovo, SVC__degree=1, SVC__gamma=auto, SVC__kernel=rbf, SVC__max_iter=150, SVC__random_state=11, pca__n_components=10;, score=0.618 total time=  13.0s\n"
     ]
    },
    {
     "name": "stderr",
     "output_type": "stream",
     "text": [
      "/home/hybrid/.local/lib/python3.8/site-packages/sklearn/svm/_base.py:299: ConvergenceWarning: Solver terminated early (max_iter=150).  Consider pre-processing your data with StandardScaler or MinMaxScaler.\n",
      "  warnings.warn(\n"
     ]
    },
    {
     "name": "stdout",
     "output_type": "stream",
     "text": [
      "[CV 3/5] END SVC__decision_function_shape=ovo, SVC__degree=1, SVC__gamma=auto, SVC__kernel=rbf, SVC__max_iter=150, SVC__random_state=11, pca__n_components=10;, score=0.555 total time=  13.6s\n"
     ]
    },
    {
     "name": "stderr",
     "output_type": "stream",
     "text": [
      "/home/hybrid/.local/lib/python3.8/site-packages/sklearn/svm/_base.py:299: ConvergenceWarning: Solver terminated early (max_iter=150).  Consider pre-processing your data with StandardScaler or MinMaxScaler.\n",
      "  warnings.warn(\n"
     ]
    },
    {
     "name": "stdout",
     "output_type": "stream",
     "text": [
      "[CV 4/5] END SVC__decision_function_shape=ovo, SVC__degree=1, SVC__gamma=auto, SVC__kernel=rbf, SVC__max_iter=150, SVC__random_state=11, pca__n_components=10;, score=0.570 total time=  12.7s\n"
     ]
    },
    {
     "name": "stderr",
     "output_type": "stream",
     "text": [
      "/home/hybrid/.local/lib/python3.8/site-packages/sklearn/svm/_base.py:299: ConvergenceWarning: Solver terminated early (max_iter=150).  Consider pre-processing your data with StandardScaler or MinMaxScaler.\n",
      "  warnings.warn(\n"
     ]
    },
    {
     "name": "stdout",
     "output_type": "stream",
     "text": [
      "[CV 5/5] END SVC__decision_function_shape=ovo, SVC__degree=1, SVC__gamma=auto, SVC__kernel=rbf, SVC__max_iter=150, SVC__random_state=11, pca__n_components=10;, score=0.646 total time=  12.6s\n"
     ]
    },
    {
     "name": "stderr",
     "output_type": "stream",
     "text": [
      "/home/hybrid/.local/lib/python3.8/site-packages/sklearn/svm/_base.py:299: ConvergenceWarning: Solver terminated early (max_iter=150).  Consider pre-processing your data with StandardScaler or MinMaxScaler.\n",
      "  warnings.warn(\n"
     ]
    },
    {
     "name": "stdout",
     "output_type": "stream",
     "text": [
      "[CV 1/5] END SVC__decision_function_shape=ovo, SVC__degree=1, SVC__gamma=auto, SVC__kernel=rbf, SVC__max_iter=150, SVC__random_state=11, pca__n_components=20;, score=0.595 total time=  20.7s\n"
     ]
    },
    {
     "name": "stderr",
     "output_type": "stream",
     "text": [
      "/home/hybrid/.local/lib/python3.8/site-packages/sklearn/svm/_base.py:299: ConvergenceWarning: Solver terminated early (max_iter=150).  Consider pre-processing your data with StandardScaler or MinMaxScaler.\n",
      "  warnings.warn(\n"
     ]
    },
    {
     "name": "stdout",
     "output_type": "stream",
     "text": [
      "[CV 2/5] END SVC__decision_function_shape=ovo, SVC__degree=1, SVC__gamma=auto, SVC__kernel=rbf, SVC__max_iter=150, SVC__random_state=11, pca__n_components=20;, score=0.702 total time=  20.7s\n"
     ]
    },
    {
     "name": "stderr",
     "output_type": "stream",
     "text": [
      "/home/hybrid/.local/lib/python3.8/site-packages/sklearn/svm/_base.py:299: ConvergenceWarning: Solver terminated early (max_iter=150).  Consider pre-processing your data with StandardScaler or MinMaxScaler.\n",
      "  warnings.warn(\n"
     ]
    },
    {
     "name": "stdout",
     "output_type": "stream",
     "text": [
      "[CV 3/5] END SVC__decision_function_shape=ovo, SVC__degree=1, SVC__gamma=auto, SVC__kernel=rbf, SVC__max_iter=150, SVC__random_state=11, pca__n_components=20;, score=0.608 total time=  20.7s\n"
     ]
    },
    {
     "name": "stderr",
     "output_type": "stream",
     "text": [
      "/home/hybrid/.local/lib/python3.8/site-packages/sklearn/svm/_base.py:299: ConvergenceWarning: Solver terminated early (max_iter=150).  Consider pre-processing your data with StandardScaler or MinMaxScaler.\n",
      "  warnings.warn(\n"
     ]
    },
    {
     "name": "stdout",
     "output_type": "stream",
     "text": [
      "[CV 4/5] END SVC__decision_function_shape=ovo, SVC__degree=1, SVC__gamma=auto, SVC__kernel=rbf, SVC__max_iter=150, SVC__random_state=11, pca__n_components=20;, score=0.591 total time=  20.6s\n"
     ]
    },
    {
     "name": "stderr",
     "output_type": "stream",
     "text": [
      "/home/hybrid/.local/lib/python3.8/site-packages/sklearn/svm/_base.py:299: ConvergenceWarning: Solver terminated early (max_iter=150).  Consider pre-processing your data with StandardScaler or MinMaxScaler.\n",
      "  warnings.warn(\n"
     ]
    },
    {
     "name": "stdout",
     "output_type": "stream",
     "text": [
      "[CV 5/5] END SVC__decision_function_shape=ovo, SVC__degree=1, SVC__gamma=auto, SVC__kernel=rbf, SVC__max_iter=150, SVC__random_state=11, pca__n_components=20;, score=0.679 total time=  20.5s\n"
     ]
    },
    {
     "name": "stderr",
     "output_type": "stream",
     "text": [
      "/home/hybrid/.local/lib/python3.8/site-packages/sklearn/svm/_base.py:299: ConvergenceWarning: Solver terminated early (max_iter=300).  Consider pre-processing your data with StandardScaler or MinMaxScaler.\n",
      "  warnings.warn(\n"
     ]
    },
    {
     "name": "stdout",
     "output_type": "stream",
     "text": [
      "[CV 1/5] END SVC__decision_function_shape=ovo, SVC__degree=1, SVC__gamma=auto, SVC__kernel=rbf, SVC__max_iter=300, SVC__random_state=11, pca__n_components=5;, score=0.476 total time=   4.5s\n"
     ]
    },
    {
     "name": "stderr",
     "output_type": "stream",
     "text": [
      "/home/hybrid/.local/lib/python3.8/site-packages/sklearn/svm/_base.py:299: ConvergenceWarning: Solver terminated early (max_iter=300).  Consider pre-processing your data with StandardScaler or MinMaxScaler.\n",
      "  warnings.warn(\n"
     ]
    },
    {
     "name": "stdout",
     "output_type": "stream",
     "text": [
      "[CV 2/5] END SVC__decision_function_shape=ovo, SVC__degree=1, SVC__gamma=auto, SVC__kernel=rbf, SVC__max_iter=300, SVC__random_state=11, pca__n_components=5;, score=0.550 total time=   4.5s\n"
     ]
    },
    {
     "name": "stderr",
     "output_type": "stream",
     "text": [
      "/home/hybrid/.local/lib/python3.8/site-packages/sklearn/svm/_base.py:299: ConvergenceWarning: Solver terminated early (max_iter=300).  Consider pre-processing your data with StandardScaler or MinMaxScaler.\n",
      "  warnings.warn(\n"
     ]
    },
    {
     "name": "stdout",
     "output_type": "stream",
     "text": [
      "[CV 3/5] END SVC__decision_function_shape=ovo, SVC__degree=1, SVC__gamma=auto, SVC__kernel=rbf, SVC__max_iter=300, SVC__random_state=11, pca__n_components=5;, score=0.460 total time=   4.5s\n"
     ]
    },
    {
     "name": "stderr",
     "output_type": "stream",
     "text": [
      "/home/hybrid/.local/lib/python3.8/site-packages/sklearn/svm/_base.py:299: ConvergenceWarning: Solver terminated early (max_iter=300).  Consider pre-processing your data with StandardScaler or MinMaxScaler.\n",
      "  warnings.warn(\n"
     ]
    },
    {
     "name": "stdout",
     "output_type": "stream",
     "text": [
      "[CV 4/5] END SVC__decision_function_shape=ovo, SVC__degree=1, SVC__gamma=auto, SVC__kernel=rbf, SVC__max_iter=300, SVC__random_state=11, pca__n_components=5;, score=0.630 total time=   4.5s\n"
     ]
    },
    {
     "name": "stderr",
     "output_type": "stream",
     "text": [
      "/home/hybrid/.local/lib/python3.8/site-packages/sklearn/svm/_base.py:299: ConvergenceWarning: Solver terminated early (max_iter=300).  Consider pre-processing your data with StandardScaler or MinMaxScaler.\n",
      "  warnings.warn(\n"
     ]
    },
    {
     "name": "stdout",
     "output_type": "stream",
     "text": [
      "[CV 5/5] END SVC__decision_function_shape=ovo, SVC__degree=1, SVC__gamma=auto, SVC__kernel=rbf, SVC__max_iter=300, SVC__random_state=11, pca__n_components=5;, score=0.461 total time=   4.6s\n"
     ]
    },
    {
     "name": "stderr",
     "output_type": "stream",
     "text": [
      "/home/hybrid/.local/lib/python3.8/site-packages/sklearn/svm/_base.py:299: ConvergenceWarning: Solver terminated early (max_iter=300).  Consider pre-processing your data with StandardScaler or MinMaxScaler.\n",
      "  warnings.warn(\n"
     ]
    },
    {
     "name": "stdout",
     "output_type": "stream",
     "text": [
      "[CV 1/5] END SVC__decision_function_shape=ovo, SVC__degree=1, SVC__gamma=auto, SVC__kernel=rbf, SVC__max_iter=300, SVC__random_state=11, pca__n_components=10;, score=0.629 total time=  14.6s\n"
     ]
    },
    {
     "name": "stderr",
     "output_type": "stream",
     "text": [
      "/home/hybrid/.local/lib/python3.8/site-packages/sklearn/svm/_base.py:299: ConvergenceWarning: Solver terminated early (max_iter=300).  Consider pre-processing your data with StandardScaler or MinMaxScaler.\n",
      "  warnings.warn(\n"
     ]
    },
    {
     "name": "stdout",
     "output_type": "stream",
     "text": [
      "[CV 2/5] END SVC__decision_function_shape=ovo, SVC__degree=1, SVC__gamma=auto, SVC__kernel=rbf, SVC__max_iter=300, SVC__random_state=11, pca__n_components=10;, score=0.564 total time=  14.2s\n"
     ]
    },
    {
     "name": "stderr",
     "output_type": "stream",
     "text": [
      "/home/hybrid/.local/lib/python3.8/site-packages/sklearn/svm/_base.py:299: ConvergenceWarning: Solver terminated early (max_iter=300).  Consider pre-processing your data with StandardScaler or MinMaxScaler.\n",
      "  warnings.warn(\n"
     ]
    },
    {
     "name": "stdout",
     "output_type": "stream",
     "text": [
      "[CV 3/5] END SVC__decision_function_shape=ovo, SVC__degree=1, SVC__gamma=auto, SVC__kernel=rbf, SVC__max_iter=300, SVC__random_state=11, pca__n_components=10;, score=0.623 total time=  15.7s\n"
     ]
    },
    {
     "name": "stderr",
     "output_type": "stream",
     "text": [
      "/home/hybrid/.local/lib/python3.8/site-packages/sklearn/svm/_base.py:299: ConvergenceWarning: Solver terminated early (max_iter=300).  Consider pre-processing your data with StandardScaler or MinMaxScaler.\n",
      "  warnings.warn(\n"
     ]
    },
    {
     "name": "stdout",
     "output_type": "stream",
     "text": [
      "[CV 4/5] END SVC__decision_function_shape=ovo, SVC__degree=1, SVC__gamma=auto, SVC__kernel=rbf, SVC__max_iter=300, SVC__random_state=11, pca__n_components=10;, score=0.555 total time=  14.2s\n"
     ]
    },
    {
     "name": "stderr",
     "output_type": "stream",
     "text": [
      "/home/hybrid/.local/lib/python3.8/site-packages/sklearn/svm/_base.py:299: ConvergenceWarning: Solver terminated early (max_iter=300).  Consider pre-processing your data with StandardScaler or MinMaxScaler.\n",
      "  warnings.warn(\n"
     ]
    },
    {
     "name": "stdout",
     "output_type": "stream",
     "text": [
      "[CV 5/5] END SVC__decision_function_shape=ovo, SVC__degree=1, SVC__gamma=auto, SVC__kernel=rbf, SVC__max_iter=300, SVC__random_state=11, pca__n_components=10;, score=0.580 total time=  13.9s\n"
     ]
    },
    {
     "name": "stderr",
     "output_type": "stream",
     "text": [
      "/home/hybrid/.local/lib/python3.8/site-packages/sklearn/svm/_base.py:299: ConvergenceWarning: Solver terminated early (max_iter=300).  Consider pre-processing your data with StandardScaler or MinMaxScaler.\n",
      "  warnings.warn(\n"
     ]
    },
    {
     "name": "stdout",
     "output_type": "stream",
     "text": [
      "[CV 1/5] END SVC__decision_function_shape=ovo, SVC__degree=1, SVC__gamma=auto, SVC__kernel=rbf, SVC__max_iter=300, SVC__random_state=11, pca__n_components=20;, score=0.706 total time=  22.5s\n"
     ]
    },
    {
     "name": "stderr",
     "output_type": "stream",
     "text": [
      "/home/hybrid/.local/lib/python3.8/site-packages/sklearn/svm/_base.py:299: ConvergenceWarning: Solver terminated early (max_iter=300).  Consider pre-processing your data with StandardScaler or MinMaxScaler.\n",
      "  warnings.warn(\n"
     ]
    },
    {
     "name": "stdout",
     "output_type": "stream",
     "text": [
      "[CV 2/5] END SVC__decision_function_shape=ovo, SVC__degree=1, SVC__gamma=auto, SVC__kernel=rbf, SVC__max_iter=300, SVC__random_state=11, pca__n_components=20;, score=0.659 total time=  22.3s\n"
     ]
    },
    {
     "name": "stderr",
     "output_type": "stream",
     "text": [
      "/home/hybrid/.local/lib/python3.8/site-packages/sklearn/svm/_base.py:299: ConvergenceWarning: Solver terminated early (max_iter=300).  Consider pre-processing your data with StandardScaler or MinMaxScaler.\n",
      "  warnings.warn(\n"
     ]
    },
    {
     "name": "stdout",
     "output_type": "stream",
     "text": [
      "[CV 3/5] END SVC__decision_function_shape=ovo, SVC__degree=1, SVC__gamma=auto, SVC__kernel=rbf, SVC__max_iter=300, SVC__random_state=11, pca__n_components=20;, score=0.696 total time=  22.3s\n"
     ]
    },
    {
     "name": "stderr",
     "output_type": "stream",
     "text": [
      "/home/hybrid/.local/lib/python3.8/site-packages/sklearn/svm/_base.py:299: ConvergenceWarning: Solver terminated early (max_iter=300).  Consider pre-processing your data with StandardScaler or MinMaxScaler.\n",
      "  warnings.warn(\n"
     ]
    },
    {
     "name": "stdout",
     "output_type": "stream",
     "text": [
      "[CV 4/5] END SVC__decision_function_shape=ovo, SVC__degree=1, SVC__gamma=auto, SVC__kernel=rbf, SVC__max_iter=300, SVC__random_state=11, pca__n_components=20;, score=0.659 total time=  22.4s\n"
     ]
    },
    {
     "name": "stderr",
     "output_type": "stream",
     "text": [
      "/home/hybrid/.local/lib/python3.8/site-packages/sklearn/svm/_base.py:299: ConvergenceWarning: Solver terminated early (max_iter=300).  Consider pre-processing your data with StandardScaler or MinMaxScaler.\n",
      "  warnings.warn(\n"
     ]
    },
    {
     "name": "stdout",
     "output_type": "stream",
     "text": [
      "[CV 5/5] END SVC__decision_function_shape=ovo, SVC__degree=1, SVC__gamma=auto, SVC__kernel=rbf, SVC__max_iter=300, SVC__random_state=11, pca__n_components=20;, score=0.587 total time=  22.4s\n"
     ]
    },
    {
     "name": "stderr",
     "output_type": "stream",
     "text": [
      "/home/hybrid/.local/lib/python3.8/site-packages/sklearn/svm/_base.py:299: ConvergenceWarning: Solver terminated early (max_iter=300).  Consider pre-processing your data with StandardScaler or MinMaxScaler.\n",
      "  warnings.warn(\n"
     ]
    },
    {
     "name": "stdout",
     "output_type": "stream",
     "text": [
      "Cross-validation score: 0.6615616956235008\n",
      "Test score: 0.6544448748933929\n",
      "Support Vector:\n",
      "{'SVC__decision_function_shape': 'ovo', 'SVC__degree': 1, 'SVC__gamma': 'auto', 'SVC__kernel': 'rbf', 'SVC__max_iter': 300, 'SVC__random_state': 11, 'pca__n_components': 20}\n",
      "Results on test: 0.6114694139654354\n",
      "Results on train: 0.6322017876586936\n"
     ]
    }
   ],
   "source": [
    "stratified_kfold = StratifiedKFold(n_splits=5,\n",
    "                                       shuffle=True,\n",
    "                                       random_state=23)\n",
    "\n",
    "pipeline_SVC = imbpipeline([('scaler', scaler),\n",
    "                            ('pca', pca),\n",
    "                            ('SMOTE', SMOTEEN),\n",
    "                            ('SVC', SVC())])\n",
    "    \n",
    "params_SVC = {\n",
    "              'SVC__gamma': ['auto'],# [10, 20, 50]\n",
    "              'SVC__max_iter': [150, 300],\n",
    "              'SVC__decision_function_shape': ['ovo'],\n",
    "              'SVC__degree': [1], #, 3, 5],\n",
    "              'SVC__kernel': ['rbf'],\n",
    "              'SVC__random_state': [11],\n",
    "              'pca__n_components': [5, 10, 20]\n",
    "             }\n",
    "\n",
    "search_SVC = GridSearchCV(pipeline_SVC,\n",
    "                             params_SVC,\n",
    "                             scoring='roc_auc',\n",
    "                             cv=stratified_kfold,\n",
    "                            verbose=3,\n",
    "                            #n_jobs=3\n",
    "                         )\n",
    "\n",
    "search_SVC.fit(X_train, y_train)\n",
    "\n",
    "cv_score = search_SVC.best_score_\n",
    "test_score = search_SVC.score(X_test, y_test)\n",
    "print(f'Cross-validation score: {cv_score}\\nTest score: {test_score}')\n",
    "print(\"Support Vector:\")\n",
    "print(search_SVC.best_params_)\n",
    "print(f'Results on test: {search_SVC.best_estimator_.score(X_test, y_test)}')\n",
    "print(f'Results on train: {search_SVC.best_estimator_.score(X_train, y_train)}')"
   ]
  },
  {
   "cell_type": "markdown",
   "metadata": {},
   "source": [
    "Achieving scores of classification, saving accuracy, recall and F1 score in data frame:"
   ]
  },
  {
   "cell_type": "code",
   "execution_count": 37,
   "metadata": {},
   "outputs": [],
   "source": [
    "y_pred_SVC_train = search_SVC.best_estimator_.predict(X_train)"
   ]
  },
  {
   "cell_type": "code",
   "execution_count": 38,
   "metadata": {},
   "outputs": [],
   "source": [
    "y_pred_svc_test = search_SVC.best_estimator_.predict(X_test)"
   ]
  },
  {
   "cell_type": "code",
   "execution_count": 39,
   "metadata": {},
   "outputs": [],
   "source": [
    "y_pred_SVC = search_SVC.predict(X_test)"
   ]
  },
  {
   "cell_type": "code",
   "execution_count": 40,
   "metadata": {},
   "outputs": [
    {
     "data": {
      "text/plain": [
       "{'SVC__decision_function_shape': 'ovo',\n",
       " 'SVC__degree': 1,\n",
       " 'SVC__gamma': 'auto',\n",
       " 'SVC__kernel': 'rbf',\n",
       " 'SVC__max_iter': 300,\n",
       " 'SVC__random_state': 11,\n",
       " 'pca__n_components': 20}"
      ]
     },
     "execution_count": 40,
     "metadata": {},
     "output_type": "execute_result"
    }
   ],
   "source": [
    "search_SVC.best_params_"
   ]
  },
  {
   "cell_type": "code",
   "execution_count": 41,
   "metadata": {
    "scrolled": true
   },
   "outputs": [
    {
     "name": "stdout",
     "output_type": "stream",
     "text": [
      "              precision    recall  f1-score   support\n",
      "\n",
      "           0       0.73      0.61      0.67     22550\n",
      "           1       0.48      0.61      0.54     13267\n",
      "\n",
      "    accuracy                           0.61     35817\n",
      "   macro avg       0.60      0.61      0.60     35817\n",
      "weighted avg       0.64      0.61      0.62     35817\n",
      "\n"
     ]
    }
   ],
   "source": [
    "print(classification_report(y_test, y_pred_SVC))\n",
    "B_report_svc = pd.DataFrame(classification_report(y_test, y_pred_SVC, output_dict=True))"
   ]
  },
  {
   "cell_type": "code",
   "execution_count": 42,
   "metadata": {},
   "outputs": [],
   "source": [
    "for i, name in enumerate(B_report_svc.columns):\n",
    "  B_report_svc = B_report_svc.rename(columns={(B_report_svc.iloc[:,i].name): ('SVC_'+B_report_svc.iloc[:,i].name)})\n"
   ]
  },
  {
   "cell_type": "code",
   "execution_count": 43,
   "metadata": {},
   "outputs": [
    {
     "data": {
      "text/html": [
       "<div>\n",
       "<style scoped>\n",
       "    .dataframe tbody tr th:only-of-type {\n",
       "        vertical-align: middle;\n",
       "    }\n",
       "\n",
       "    .dataframe tbody tr th {\n",
       "        vertical-align: top;\n",
       "    }\n",
       "\n",
       "    .dataframe thead th {\n",
       "        text-align: right;\n",
       "    }\n",
       "</style>\n",
       "<table border=\"1\" class=\"dataframe\">\n",
       "  <thead>\n",
       "    <tr style=\"text-align: right;\">\n",
       "      <th></th>\n",
       "      <th>RF_0</th>\n",
       "      <th>RF_1</th>\n",
       "      <th>RF_accuracy</th>\n",
       "      <th>RF_macro avg</th>\n",
       "      <th>RF_weighted avg</th>\n",
       "    </tr>\n",
       "  </thead>\n",
       "  <tbody>\n",
       "    <tr>\n",
       "      <th>precision</th>\n",
       "      <td>0.726234</td>\n",
       "      <td>0.480610</td>\n",
       "      <td>0.611469</td>\n",
       "      <td>0.603422</td>\n",
       "      <td>0.635252</td>\n",
       "    </tr>\n",
       "    <tr>\n",
       "      <th>recall</th>\n",
       "      <td>0.614545</td>\n",
       "      <td>0.606241</td>\n",
       "      <td>0.611469</td>\n",
       "      <td>0.610393</td>\n",
       "      <td>0.611469</td>\n",
       "    </tr>\n",
       "    <tr>\n",
       "      <th>f1-score</th>\n",
       "      <td>0.665738</td>\n",
       "      <td>0.536164</td>\n",
       "      <td>0.611469</td>\n",
       "      <td>0.600951</td>\n",
       "      <td>0.617742</td>\n",
       "    </tr>\n",
       "    <tr>\n",
       "      <th>support</th>\n",
       "      <td>22550.000000</td>\n",
       "      <td>13267.000000</td>\n",
       "      <td>0.611469</td>\n",
       "      <td>35817.000000</td>\n",
       "      <td>35817.000000</td>\n",
       "    </tr>\n",
       "  </tbody>\n",
       "</table>\n",
       "</div>"
      ],
      "text/plain": [
       "                   RF_0          RF_1  RF_accuracy  RF_macro avg  \\\n",
       "precision      0.726234      0.480610     0.611469      0.603422   \n",
       "recall         0.614545      0.606241     0.611469      0.610393   \n",
       "f1-score       0.665738      0.536164     0.611469      0.600951   \n",
       "support    22550.000000  13267.000000     0.611469  35817.000000   \n",
       "\n",
       "           RF_weighted avg  \n",
       "precision         0.635252  \n",
       "recall            0.611469  \n",
       "f1-score          0.617742  \n",
       "support       35817.000000  "
      ]
     },
     "execution_count": 43,
     "metadata": {},
     "output_type": "execute_result"
    }
   ],
   "source": [
    "B_report_svc"
   ]
  },
  {
   "cell_type": "markdown",
   "metadata": {},
   "source": [
    "XGBClassifier algorythm with RandomizedGridSearch in pipeline, scaling reducing, ballancing:"
   ]
  },
  {
   "cell_type": "code",
   "execution_count": 44,
   "metadata": {},
   "outputs": [
    {
     "name": "stdout",
     "output_type": "stream",
     "text": [
      "Fitting 5 folds for each of 24 candidates, totalling 120 fits\n",
      "[CV 1/5] END XGB__learning_rate=0.1, XGB__max_depth=5, XGB__n_estimators=100, pca__n_components=5;, score=0.826 total time=   5.3s\n",
      "[CV 2/5] END XGB__learning_rate=0.1, XGB__max_depth=5, XGB__n_estimators=100, pca__n_components=5;, score=0.827 total time=   5.2s\n",
      "[CV 3/5] END XGB__learning_rate=0.1, XGB__max_depth=5, XGB__n_estimators=100, pca__n_components=5;, score=0.834 total time=   5.2s\n",
      "[CV 4/5] END XGB__learning_rate=0.1, XGB__max_depth=5, XGB__n_estimators=100, pca__n_components=5;, score=0.833 total time=   5.2s\n",
      "[CV 5/5] END XGB__learning_rate=0.1, XGB__max_depth=5, XGB__n_estimators=100, pca__n_components=5;, score=0.826 total time=   5.3s\n",
      "[CV 1/5] END XGB__learning_rate=0.1, XGB__max_depth=5, XGB__n_estimators=100, pca__n_components=10;, score=0.863 total time=  16.9s\n",
      "[CV 2/5] END XGB__learning_rate=0.1, XGB__max_depth=5, XGB__n_estimators=100, pca__n_components=10;, score=0.872 total time=  16.5s\n",
      "[CV 3/5] END XGB__learning_rate=0.1, XGB__max_depth=5, XGB__n_estimators=100, pca__n_components=10;, score=0.869 total time=  15.9s\n",
      "[CV 4/5] END XGB__learning_rate=0.1, XGB__max_depth=5, XGB__n_estimators=100, pca__n_components=10;, score=0.872 total time=  16.0s\n",
      "[CV 5/5] END XGB__learning_rate=0.1, XGB__max_depth=5, XGB__n_estimators=100, pca__n_components=10;, score=0.872 total time=  16.0s\n",
      "[CV 1/5] END XGB__learning_rate=0.1, XGB__max_depth=5, XGB__n_estimators=100, pca__n_components=20;, score=0.889 total time=  26.8s\n",
      "[CV 2/5] END XGB__learning_rate=0.1, XGB__max_depth=5, XGB__n_estimators=100, pca__n_components=20;, score=0.894 total time=  26.8s\n",
      "[CV 3/5] END XGB__learning_rate=0.1, XGB__max_depth=5, XGB__n_estimators=100, pca__n_components=20;, score=0.896 total time=  27.0s\n",
      "[CV 4/5] END XGB__learning_rate=0.1, XGB__max_depth=5, XGB__n_estimators=100, pca__n_components=20;, score=0.893 total time=  26.7s\n",
      "[CV 5/5] END XGB__learning_rate=0.1, XGB__max_depth=5, XGB__n_estimators=100, pca__n_components=20;, score=0.895 total time=  26.7s\n",
      "[CV 1/5] END XGB__learning_rate=0.1, XGB__max_depth=5, XGB__n_estimators=500, pca__n_components=5;, score=0.841 total time=  17.1s\n",
      "[CV 2/5] END XGB__learning_rate=0.1, XGB__max_depth=5, XGB__n_estimators=500, pca__n_components=5;, score=0.846 total time=  16.9s\n",
      "[CV 3/5] END XGB__learning_rate=0.1, XGB__max_depth=5, XGB__n_estimators=500, pca__n_components=5;, score=0.851 total time=  17.3s\n",
      "[CV 4/5] END XGB__learning_rate=0.1, XGB__max_depth=5, XGB__n_estimators=500, pca__n_components=5;, score=0.853 total time=  17.2s\n",
      "[CV 5/5] END XGB__learning_rate=0.1, XGB__max_depth=5, XGB__n_estimators=500, pca__n_components=5;, score=0.849 total time=  16.9s\n",
      "[CV 1/5] END XGB__learning_rate=0.1, XGB__max_depth=5, XGB__n_estimators=500, pca__n_components=10;, score=0.892 total time=  34.9s\n",
      "[CV 2/5] END XGB__learning_rate=0.1, XGB__max_depth=5, XGB__n_estimators=500, pca__n_components=10;, score=0.895 total time=  34.8s\n",
      "[CV 3/5] END XGB__learning_rate=0.1, XGB__max_depth=5, XGB__n_estimators=500, pca__n_components=10;, score=0.897 total time=  34.8s\n",
      "[CV 4/5] END XGB__learning_rate=0.1, XGB__max_depth=5, XGB__n_estimators=500, pca__n_components=10;, score=0.895 total time=  34.6s\n",
      "[CV 5/5] END XGB__learning_rate=0.1, XGB__max_depth=5, XGB__n_estimators=500, pca__n_components=10;, score=0.894 total time=  34.1s\n",
      "[CV 1/5] END XGB__learning_rate=0.1, XGB__max_depth=5, XGB__n_estimators=500, pca__n_components=20;, score=0.908 total time=  56.5s\n",
      "[CV 2/5] END XGB__learning_rate=0.1, XGB__max_depth=5, XGB__n_estimators=500, pca__n_components=20;, score=0.914 total time=  56.2s\n",
      "[CV 3/5] END XGB__learning_rate=0.1, XGB__max_depth=5, XGB__n_estimators=500, pca__n_components=20;, score=0.916 total time=  56.2s\n",
      "[CV 4/5] END XGB__learning_rate=0.1, XGB__max_depth=5, XGB__n_estimators=500, pca__n_components=20;, score=0.914 total time=  57.5s\n",
      "[CV 5/5] END XGB__learning_rate=0.1, XGB__max_depth=5, XGB__n_estimators=500, pca__n_components=20;, score=0.917 total time=  56.6s\n",
      "[CV 1/5] END XGB__learning_rate=0.1, XGB__max_depth=10, XGB__n_estimators=100, pca__n_components=5;, score=0.849 total time=   8.5s\n",
      "[CV 2/5] END XGB__learning_rate=0.1, XGB__max_depth=10, XGB__n_estimators=100, pca__n_components=5;, score=0.859 total time=   8.5s\n",
      "[CV 3/5] END XGB__learning_rate=0.1, XGB__max_depth=10, XGB__n_estimators=100, pca__n_components=5;, score=0.863 total time=   8.5s\n",
      "[CV 4/5] END XGB__learning_rate=0.1, XGB__max_depth=10, XGB__n_estimators=100, pca__n_components=5;, score=0.861 total time=   8.5s\n",
      "[CV 5/5] END XGB__learning_rate=0.1, XGB__max_depth=10, XGB__n_estimators=100, pca__n_components=5;, score=0.859 total time=   8.3s\n",
      "[CV 1/5] END XGB__learning_rate=0.1, XGB__max_depth=10, XGB__n_estimators=100, pca__n_components=10;, score=0.895 total time=  21.5s\n",
      "[CV 2/5] END XGB__learning_rate=0.1, XGB__max_depth=10, XGB__n_estimators=100, pca__n_components=10;, score=0.900 total time=  21.5s\n",
      "[CV 3/5] END XGB__learning_rate=0.1, XGB__max_depth=10, XGB__n_estimators=100, pca__n_components=10;, score=0.901 total time=  21.5s\n",
      "[CV 4/5] END XGB__learning_rate=0.1, XGB__max_depth=10, XGB__n_estimators=100, pca__n_components=10;, score=0.898 total time=  21.9s\n",
      "[CV 5/5] END XGB__learning_rate=0.1, XGB__max_depth=10, XGB__n_estimators=100, pca__n_components=10;, score=0.899 total time=  21.9s\n",
      "[CV 1/5] END XGB__learning_rate=0.1, XGB__max_depth=10, XGB__n_estimators=100, pca__n_components=20;, score=0.912 total time=  35.1s\n",
      "[CV 2/5] END XGB__learning_rate=0.1, XGB__max_depth=10, XGB__n_estimators=100, pca__n_components=20;, score=0.916 total time=  35.1s\n",
      "[CV 3/5] END XGB__learning_rate=0.1, XGB__max_depth=10, XGB__n_estimators=100, pca__n_components=20;, score=0.917 total time=  34.9s\n",
      "[CV 4/5] END XGB__learning_rate=0.1, XGB__max_depth=10, XGB__n_estimators=100, pca__n_components=20;, score=0.915 total time=  35.1s\n",
      "[CV 5/5] END XGB__learning_rate=0.1, XGB__max_depth=10, XGB__n_estimators=100, pca__n_components=20;, score=0.919 total time=  34.9s\n",
      "[CV 1/5] END XGB__learning_rate=0.1, XGB__max_depth=10, XGB__n_estimators=500, pca__n_components=5;, score=0.857 total time=  32.3s\n",
      "[CV 2/5] END XGB__learning_rate=0.1, XGB__max_depth=10, XGB__n_estimators=500, pca__n_components=5;, score=0.863 total time=  32.2s\n",
      "[CV 3/5] END XGB__learning_rate=0.1, XGB__max_depth=10, XGB__n_estimators=500, pca__n_components=5;, score=0.869 total time=  36.2s\n",
      "[CV 4/5] END XGB__learning_rate=0.1, XGB__max_depth=10, XGB__n_estimators=500, pca__n_components=5;, score=0.870 total time=  34.6s\n",
      "[CV 5/5] END XGB__learning_rate=0.1, XGB__max_depth=10, XGB__n_estimators=500, pca__n_components=5;, score=0.869 total time=  36.9s\n",
      "[CV 1/5] END XGB__learning_rate=0.1, XGB__max_depth=10, XGB__n_estimators=500, pca__n_components=10;, score=0.904 total time= 1.0min\n",
      "[CV 2/5] END XGB__learning_rate=0.1, XGB__max_depth=10, XGB__n_estimators=500, pca__n_components=10;, score=0.908 total time= 1.0min\n",
      "[CV 3/5] END XGB__learning_rate=0.1, XGB__max_depth=10, XGB__n_estimators=500, pca__n_components=10;, score=0.910 total time=  59.2s\n",
      "[CV 4/5] END XGB__learning_rate=0.1, XGB__max_depth=10, XGB__n_estimators=500, pca__n_components=10;, score=0.911 total time=  59.2s\n",
      "[CV 5/5] END XGB__learning_rate=0.1, XGB__max_depth=10, XGB__n_estimators=500, pca__n_components=10;, score=0.908 total time=  58.7s\n",
      "[CV 1/5] END XGB__learning_rate=0.1, XGB__max_depth=10, XGB__n_estimators=500, pca__n_components=20;, score=0.916 total time= 1.5min\n",
      "[CV 2/5] END XGB__learning_rate=0.1, XGB__max_depth=10, XGB__n_estimators=500, pca__n_components=20;, score=0.922 total time= 1.5min\n",
      "[CV 3/5] END XGB__learning_rate=0.1, XGB__max_depth=10, XGB__n_estimators=500, pca__n_components=20;, score=0.924 total time= 1.5min\n",
      "[CV 4/5] END XGB__learning_rate=0.1, XGB__max_depth=10, XGB__n_estimators=500, pca__n_components=20;, score=0.920 total time= 1.5min\n",
      "[CV 5/5] END XGB__learning_rate=0.1, XGB__max_depth=10, XGB__n_estimators=500, pca__n_components=20;, score=0.924 total time= 1.5min\n",
      "[CV 1/5] END XGB__learning_rate=0.5, XGB__max_depth=5, XGB__n_estimators=100, pca__n_components=5;, score=0.843 total time=   5.3s\n",
      "[CV 2/5] END XGB__learning_rate=0.5, XGB__max_depth=5, XGB__n_estimators=100, pca__n_components=5;, score=0.845 total time=   5.2s\n"
     ]
    },
    {
     "name": "stdout",
     "output_type": "stream",
     "text": [
      "[CV 3/5] END XGB__learning_rate=0.5, XGB__max_depth=5, XGB__n_estimators=100, pca__n_components=5;, score=0.850 total time=   5.2s\n",
      "[CV 4/5] END XGB__learning_rate=0.5, XGB__max_depth=5, XGB__n_estimators=100, pca__n_components=5;, score=0.850 total time=   5.3s\n",
      "[CV 5/5] END XGB__learning_rate=0.5, XGB__max_depth=5, XGB__n_estimators=100, pca__n_components=5;, score=0.846 total time=   5.1s\n",
      "[CV 1/5] END XGB__learning_rate=0.5, XGB__max_depth=5, XGB__n_estimators=100, pca__n_components=10;, score=0.883 total time=  16.2s\n",
      "[CV 2/5] END XGB__learning_rate=0.5, XGB__max_depth=5, XGB__n_estimators=100, pca__n_components=10;, score=0.892 total time=  15.8s\n",
      "[CV 3/5] END XGB__learning_rate=0.5, XGB__max_depth=5, XGB__n_estimators=100, pca__n_components=10;, score=0.892 total time=  16.4s\n",
      "[CV 4/5] END XGB__learning_rate=0.5, XGB__max_depth=5, XGB__n_estimators=100, pca__n_components=10;, score=0.893 total time=  15.4s\n",
      "[CV 5/5] END XGB__learning_rate=0.5, XGB__max_depth=5, XGB__n_estimators=100, pca__n_components=10;, score=0.887 total time=  15.3s\n",
      "[CV 1/5] END XGB__learning_rate=0.5, XGB__max_depth=5, XGB__n_estimators=100, pca__n_components=20;, score=0.903 total time=  26.7s\n",
      "[CV 2/5] END XGB__learning_rate=0.5, XGB__max_depth=5, XGB__n_estimators=100, pca__n_components=20;, score=0.910 total time=  26.7s\n",
      "[CV 3/5] END XGB__learning_rate=0.5, XGB__max_depth=5, XGB__n_estimators=100, pca__n_components=20;, score=0.912 total time=  26.8s\n",
      "[CV 4/5] END XGB__learning_rate=0.5, XGB__max_depth=5, XGB__n_estimators=100, pca__n_components=20;, score=0.909 total time=  26.5s\n",
      "[CV 5/5] END XGB__learning_rate=0.5, XGB__max_depth=5, XGB__n_estimators=100, pca__n_components=20;, score=0.910 total time=  26.6s\n",
      "[CV 1/5] END XGB__learning_rate=0.5, XGB__max_depth=5, XGB__n_estimators=500, pca__n_components=5;, score=0.849 total time=  17.1s\n",
      "[CV 2/5] END XGB__learning_rate=0.5, XGB__max_depth=5, XGB__n_estimators=500, pca__n_components=5;, score=0.852 total time=  17.2s\n",
      "[CV 3/5] END XGB__learning_rate=0.5, XGB__max_depth=5, XGB__n_estimators=500, pca__n_components=5;, score=0.858 total time=  16.8s\n",
      "[CV 4/5] END XGB__learning_rate=0.5, XGB__max_depth=5, XGB__n_estimators=500, pca__n_components=5;, score=0.857 total time=  17.2s\n",
      "[CV 5/5] END XGB__learning_rate=0.5, XGB__max_depth=5, XGB__n_estimators=500, pca__n_components=5;, score=0.854 total time=  17.0s\n",
      "[CV 1/5] END XGB__learning_rate=0.5, XGB__max_depth=5, XGB__n_estimators=500, pca__n_components=10;, score=0.896 total time=  34.8s\n",
      "[CV 2/5] END XGB__learning_rate=0.5, XGB__max_depth=5, XGB__n_estimators=500, pca__n_components=10;, score=0.901 total time=  34.6s\n",
      "[CV 3/5] END XGB__learning_rate=0.5, XGB__max_depth=5, XGB__n_estimators=500, pca__n_components=10;, score=0.899 total time=  34.8s\n",
      "[CV 4/5] END XGB__learning_rate=0.5, XGB__max_depth=5, XGB__n_estimators=500, pca__n_components=10;, score=0.902 total time=  34.4s\n",
      "[CV 5/5] END XGB__learning_rate=0.5, XGB__max_depth=5, XGB__n_estimators=500, pca__n_components=10;, score=0.900 total time=  34.5s\n",
      "[CV 1/5] END XGB__learning_rate=0.5, XGB__max_depth=5, XGB__n_estimators=500, pca__n_components=20;, score=0.912 total time=  55.8s\n",
      "[CV 2/5] END XGB__learning_rate=0.5, XGB__max_depth=5, XGB__n_estimators=500, pca__n_components=20;, score=0.919 total time=  55.7s\n",
      "[CV 3/5] END XGB__learning_rate=0.5, XGB__max_depth=5, XGB__n_estimators=500, pca__n_components=20;, score=0.921 total time=  55.6s\n",
      "[CV 4/5] END XGB__learning_rate=0.5, XGB__max_depth=5, XGB__n_estimators=500, pca__n_components=20;, score=0.919 total time=  55.6s\n",
      "[CV 5/5] END XGB__learning_rate=0.5, XGB__max_depth=5, XGB__n_estimators=500, pca__n_components=20;, score=0.920 total time=  55.7s\n",
      "[CV 1/5] END XGB__learning_rate=0.5, XGB__max_depth=10, XGB__n_estimators=100, pca__n_components=5;, score=0.858 total time=   8.3s\n",
      "[CV 2/5] END XGB__learning_rate=0.5, XGB__max_depth=10, XGB__n_estimators=100, pca__n_components=5;, score=0.858 total time=   8.3s\n",
      "[CV 3/5] END XGB__learning_rate=0.5, XGB__max_depth=10, XGB__n_estimators=100, pca__n_components=5;, score=0.862 total time=   8.4s\n",
      "[CV 4/5] END XGB__learning_rate=0.5, XGB__max_depth=10, XGB__n_estimators=100, pca__n_components=5;, score=0.867 total time=   8.4s\n",
      "[CV 5/5] END XGB__learning_rate=0.5, XGB__max_depth=10, XGB__n_estimators=100, pca__n_components=5;, score=0.864 total time=   8.3s\n",
      "[CV 1/5] END XGB__learning_rate=0.5, XGB__max_depth=10, XGB__n_estimators=100, pca__n_components=10;, score=0.900 total time=  21.0s\n",
      "[CV 2/5] END XGB__learning_rate=0.5, XGB__max_depth=10, XGB__n_estimators=100, pca__n_components=10;, score=0.906 total time=  21.3s\n",
      "[CV 3/5] END XGB__learning_rate=0.5, XGB__max_depth=10, XGB__n_estimators=100, pca__n_components=10;, score=0.904 total time=  21.2s\n",
      "[CV 4/5] END XGB__learning_rate=0.5, XGB__max_depth=10, XGB__n_estimators=100, pca__n_components=10;, score=0.907 total time=  20.8s\n",
      "[CV 5/5] END XGB__learning_rate=0.5, XGB__max_depth=10, XGB__n_estimators=100, pca__n_components=10;, score=0.903 total time=  20.8s\n",
      "[CV 1/5] END XGB__learning_rate=0.5, XGB__max_depth=10, XGB__n_estimators=100, pca__n_components=20;, score=0.913 total time=  33.6s\n",
      "[CV 2/5] END XGB__learning_rate=0.5, XGB__max_depth=10, XGB__n_estimators=100, pca__n_components=20;, score=0.917 total time=  33.5s\n",
      "[CV 3/5] END XGB__learning_rate=0.5, XGB__max_depth=10, XGB__n_estimators=100, pca__n_components=20;, score=0.921 total time=  33.6s\n",
      "[CV 4/5] END XGB__learning_rate=0.5, XGB__max_depth=10, XGB__n_estimators=100, pca__n_components=20;, score=0.918 total time=  33.7s\n",
      "[CV 5/5] END XGB__learning_rate=0.5, XGB__max_depth=10, XGB__n_estimators=100, pca__n_components=20;, score=0.919 total time=  33.5s\n",
      "[CV 1/5] END XGB__learning_rate=0.5, XGB__max_depth=10, XGB__n_estimators=500, pca__n_components=5;, score=0.857 total time=  31.0s\n",
      "[CV 2/5] END XGB__learning_rate=0.5, XGB__max_depth=10, XGB__n_estimators=500, pca__n_components=5;, score=0.858 total time=  30.9s\n",
      "[CV 3/5] END XGB__learning_rate=0.5, XGB__max_depth=10, XGB__n_estimators=500, pca__n_components=5;, score=0.864 total time=  30.6s\n",
      "[CV 4/5] END XGB__learning_rate=0.5, XGB__max_depth=10, XGB__n_estimators=500, pca__n_components=5;, score=0.865 total time=  30.7s\n",
      "[CV 5/5] END XGB__learning_rate=0.5, XGB__max_depth=10, XGB__n_estimators=500, pca__n_components=5;, score=0.865 total time=  30.6s\n",
      "[CV 1/5] END XGB__learning_rate=0.5, XGB__max_depth=10, XGB__n_estimators=500, pca__n_components=10;, score=0.898 total time=  51.2s\n",
      "[CV 2/5] END XGB__learning_rate=0.5, XGB__max_depth=10, XGB__n_estimators=500, pca__n_components=10;, score=0.906 total time=  51.1s\n",
      "[CV 3/5] END XGB__learning_rate=0.5, XGB__max_depth=10, XGB__n_estimators=500, pca__n_components=10;, score=0.905 total time=  51.8s\n",
      "[CV 4/5] END XGB__learning_rate=0.5, XGB__max_depth=10, XGB__n_estimators=500, pca__n_components=10;, score=0.909 total time=  51.8s\n",
      "[CV 5/5] END XGB__learning_rate=0.5, XGB__max_depth=10, XGB__n_estimators=500, pca__n_components=10;, score=0.907 total time=  51.0s\n",
      "[CV 1/5] END XGB__learning_rate=0.5, XGB__max_depth=10, XGB__n_estimators=500, pca__n_components=20;, score=0.914 total time= 1.2min\n",
      "[CV 2/5] END XGB__learning_rate=0.5, XGB__max_depth=10, XGB__n_estimators=500, pca__n_components=20;, score=0.920 total time= 1.2min\n",
      "[CV 3/5] END XGB__learning_rate=0.5, XGB__max_depth=10, XGB__n_estimators=500, pca__n_components=20;, score=0.923 total time= 1.2min\n",
      "[CV 4/5] END XGB__learning_rate=0.5, XGB__max_depth=10, XGB__n_estimators=500, pca__n_components=20;, score=0.921 total time= 1.2min\n",
      "[CV 5/5] END XGB__learning_rate=0.5, XGB__max_depth=10, XGB__n_estimators=500, pca__n_components=20;, score=0.922 total time= 1.2min\n"
     ]
    },
    {
     "data": {
      "text/plain": [
       "0.8316162716028701"
      ]
     },
     "execution_count": 44,
     "metadata": {},
     "output_type": "execute_result"
    }
   ],
   "source": [
    "stratified_kfold = StratifiedKFold(n_splits=5,\n",
    "                                       shuffle=True,\n",
    "                                       random_state=77)\n",
    "\n",
    "pipeline = imbpipeline(steps=[('scaler', scaler),\n",
    "                              ('pca', pca),\n",
    "                              ('smote', SMOTEEN),\n",
    "                              ('XGB', XGBClassifier())])\n",
    "\n",
    "params = {\n",
    "    'XGB__n_estimators': [100, 500],\n",
    "    'XGB__max_depth': [5, 10],\n",
    "    'XGB__learning_rate': [0.1, 0.5],\n",
    "    'pca__n_components': [5, 10, 20]\n",
    "    }\n",
    "\n",
    "search_XGB = GridSearchCV(pipeline, \n",
    "                          params, \n",
    "                          scoring='roc_auc', \n",
    "                          cv=stratified_kfold, \n",
    "                          verbose=3,\n",
    "                        #n_jobs=3\n",
    "                         ) \n",
    "\n",
    "search_XGB.fit(X_train, y_train)\n",
    "accuracy_score(y_test, search_XGB.predict(X_test))"
   ]
  },
  {
   "cell_type": "markdown",
   "metadata": {},
   "source": [
    "Achieving scores of classification, saving accuracy, recall and F1 score in data frame:"
   ]
  },
  {
   "cell_type": "code",
   "execution_count": 45,
   "metadata": {},
   "outputs": [],
   "source": [
    "#XGBClassifier().get_params().keys()"
   ]
  },
  {
   "cell_type": "code",
   "execution_count": 46,
   "metadata": {},
   "outputs": [
    {
     "data": {
      "text/plain": [
       "array([0.82909896, 0.8697872 , 0.89343259, 0.84799024, 0.89466898,\n",
       "       0.91383193, 0.8581246 , 0.89861315, 0.91577694, 0.86583967,\n",
       "       0.90819476, 0.9210893 , 0.8466754 , 0.88936656, 0.90883384,\n",
       "       0.85383082, 0.89979542, 0.91797723, 0.86168687, 0.90387911,\n",
       "       0.91764326, 0.86175316, 0.90485314, 0.91993909])"
      ]
     },
     "execution_count": 46,
     "metadata": {},
     "output_type": "execute_result"
    }
   ],
   "source": [
    "search_XGB.cv_results_[\"mean_test_score\"]"
   ]
  },
  {
   "cell_type": "code",
   "execution_count": 47,
   "metadata": {},
   "outputs": [],
   "source": [
    "y_pred_XGB = search_XGB.best_estimator_.predict(X_test)\n",
    "test_score = search_XGB.score(X_test, y_test)\n",
    "cv_score = search_XGB.best_score_"
   ]
  },
  {
   "cell_type": "code",
   "execution_count": 48,
   "metadata": {},
   "outputs": [
    {
     "name": "stdout",
     "output_type": "stream",
     "text": [
      "Cross-validation score: 0.9210892976947438\n",
      "Test score: 0.8959155144961483\n",
      "XGBClassifier:\n",
      "{'XGB__learning_rate': 0.1, 'XGB__max_depth': 10, 'XGB__n_estimators': 500, 'pca__n_components': 20}\n",
      "Results on test: 0.8316162716028701\n",
      "Results on train: 0.8827372476756847\n"
     ]
    }
   ],
   "source": [
    "print(f'Cross-validation score: {cv_score}\\nTest score: {test_score}')\n",
    "print(\"XGBClassifier:\")\n",
    "print(search_XGB.best_params_)\n",
    "print(f'Results on test: {search_XGB.best_estimator_.score(X_test, y_test)}')\n",
    "print(f'Results on train: {search_XGB.best_estimator_.score(X_train, y_train)}')"
   ]
  },
  {
   "cell_type": "code",
   "execution_count": 49,
   "metadata": {},
   "outputs": [
    {
     "name": "stdout",
     "output_type": "stream",
     "text": [
      "              precision    recall  f1-score   support\n",
      "\n",
      "           0       0.84      0.90      0.87     22550\n",
      "           1       0.81      0.71      0.76     13267\n",
      "\n",
      "    accuracy                           0.83     35817\n",
      "   macro avg       0.83      0.81      0.81     35817\n",
      "weighted avg       0.83      0.83      0.83     35817\n",
      "\n"
     ]
    }
   ],
   "source": [
    "print(classification_report(y_test, y_pred_XGB))\n",
    "B_report_xgb = pd.DataFrame(classification_report(y_test, y_pred_XGB, output_dict=True))"
   ]
  },
  {
   "cell_type": "code",
   "execution_count": 50,
   "metadata": {},
   "outputs": [],
   "source": [
    "for i, name in enumerate(B_report_xgb.columns):\n",
    "  B_report_xgb = B_report_xgb.rename(columns={(B_report_xgb.iloc[:,i].name): ('XGB_'+B_report_xgb.iloc[:,i].name)})\n"
   ]
  },
  {
   "cell_type": "code",
   "execution_count": 51,
   "metadata": {},
   "outputs": [
    {
     "data": {
      "text/html": [
       "<div>\n",
       "<style scoped>\n",
       "    .dataframe tbody tr th:only-of-type {\n",
       "        vertical-align: middle;\n",
       "    }\n",
       "\n",
       "    .dataframe tbody tr th {\n",
       "        vertical-align: top;\n",
       "    }\n",
       "\n",
       "    .dataframe thead th {\n",
       "        text-align: right;\n",
       "    }\n",
       "</style>\n",
       "<table border=\"1\" class=\"dataframe\">\n",
       "  <thead>\n",
       "    <tr style=\"text-align: right;\">\n",
       "      <th></th>\n",
       "      <th>RF_0</th>\n",
       "      <th>RF_1</th>\n",
       "      <th>RF_accuracy</th>\n",
       "      <th>RF_macro avg</th>\n",
       "      <th>RF_weighted avg</th>\n",
       "    </tr>\n",
       "  </thead>\n",
       "  <tbody>\n",
       "    <tr>\n",
       "      <th>precision</th>\n",
       "      <td>0.840781</td>\n",
       "      <td>0.812435</td>\n",
       "      <td>0.831616</td>\n",
       "      <td>0.826608</td>\n",
       "      <td>0.830281</td>\n",
       "    </tr>\n",
       "    <tr>\n",
       "      <th>recall</th>\n",
       "      <td>0.903681</td>\n",
       "      <td>0.709128</td>\n",
       "      <td>0.831616</td>\n",
       "      <td>0.806404</td>\n",
       "      <td>0.831616</td>\n",
       "    </tr>\n",
       "    <tr>\n",
       "      <th>f1-score</th>\n",
       "      <td>0.871097</td>\n",
       "      <td>0.757275</td>\n",
       "      <td>0.831616</td>\n",
       "      <td>0.814186</td>\n",
       "      <td>0.828936</td>\n",
       "    </tr>\n",
       "    <tr>\n",
       "      <th>support</th>\n",
       "      <td>22550.000000</td>\n",
       "      <td>13267.000000</td>\n",
       "      <td>0.831616</td>\n",
       "      <td>35817.000000</td>\n",
       "      <td>35817.000000</td>\n",
       "    </tr>\n",
       "  </tbody>\n",
       "</table>\n",
       "</div>"
      ],
      "text/plain": [
       "                   RF_0          RF_1  RF_accuracy  RF_macro avg  \\\n",
       "precision      0.840781      0.812435     0.831616      0.826608   \n",
       "recall         0.903681      0.709128     0.831616      0.806404   \n",
       "f1-score       0.871097      0.757275     0.831616      0.814186   \n",
       "support    22550.000000  13267.000000     0.831616  35817.000000   \n",
       "\n",
       "           RF_weighted avg  \n",
       "precision         0.830281  \n",
       "recall            0.831616  \n",
       "f1-score          0.828936  \n",
       "support       35817.000000  "
      ]
     },
     "execution_count": 51,
     "metadata": {},
     "output_type": "execute_result"
    }
   ],
   "source": [
    "B_report_xgb"
   ]
  },
  {
   "cell_type": "markdown",
   "metadata": {},
   "source": [
    "LogisticRegression algorythm with RandomizedGridSearch in pipeline, scaling reducing, ballancing:"
   ]
  },
  {
   "cell_type": "code",
   "execution_count": 52,
   "metadata": {},
   "outputs": [
    {
     "name": "stdout",
     "output_type": "stream",
     "text": [
      "Fitting 5 folds for each of 24 candidates, totalling 120 fits\n",
      "[CV 1/5] END LR__C=20, LR__max_iter=50, LR__multi_class=auto, LR__penalty=l2, LR__random_state=11, LR__solver=saga, pca__n_components=5;, score=0.773 total time=   2.6s\n",
      "[CV 2/5] END LR__C=20, LR__max_iter=50, LR__multi_class=auto, LR__penalty=l2, LR__random_state=11, LR__solver=saga, pca__n_components=5;, score=0.774 total time=   2.4s\n",
      "[CV 3/5] END LR__C=20, LR__max_iter=50, LR__multi_class=auto, LR__penalty=l2, LR__random_state=11, LR__solver=saga, pca__n_components=5;, score=0.776 total time=   2.4s\n",
      "[CV 4/5] END LR__C=20, LR__max_iter=50, LR__multi_class=auto, LR__penalty=l2, LR__random_state=11, LR__solver=saga, pca__n_components=5;, score=0.773 total time=   2.4s\n",
      "[CV 5/5] END LR__C=20, LR__max_iter=50, LR__multi_class=auto, LR__penalty=l2, LR__random_state=11, LR__solver=saga, pca__n_components=5;, score=0.773 total time=   2.4s\n",
      "[CV 1/5] END LR__C=20, LR__max_iter=50, LR__multi_class=auto, LR__penalty=l2, LR__random_state=11, LR__solver=saga, pca__n_components=10;, score=0.804 total time=  11.4s\n",
      "[CV 2/5] END LR__C=20, LR__max_iter=50, LR__multi_class=auto, LR__penalty=l2, LR__random_state=11, LR__solver=saga, pca__n_components=10;, score=0.803 total time=  12.5s\n",
      "[CV 3/5] END LR__C=20, LR__max_iter=50, LR__multi_class=auto, LR__penalty=l2, LR__random_state=11, LR__solver=saga, pca__n_components=10;, score=0.807 total time=  11.9s\n",
      "[CV 4/5] END LR__C=20, LR__max_iter=50, LR__multi_class=auto, LR__penalty=l2, LR__random_state=11, LR__solver=saga, pca__n_components=10;, score=0.805 total time=  11.8s\n",
      "[CV 5/5] END LR__C=20, LR__max_iter=50, LR__multi_class=auto, LR__penalty=l2, LR__random_state=11, LR__solver=saga, pca__n_components=10;, score=0.803 total time=  11.5s\n"
     ]
    },
    {
     "name": "stderr",
     "output_type": "stream",
     "text": [
      "/home/hybrid/.local/lib/python3.8/site-packages/sklearn/linear_model/_sag.py:350: ConvergenceWarning: The max_iter was reached which means the coef_ did not converge\n",
      "  warnings.warn(\n"
     ]
    },
    {
     "name": "stdout",
     "output_type": "stream",
     "text": [
      "[CV 1/5] END LR__C=20, LR__max_iter=50, LR__multi_class=auto, LR__penalty=l2, LR__random_state=11, LR__solver=saga, pca__n_components=20;, score=0.826 total time=  20.7s\n"
     ]
    },
    {
     "name": "stderr",
     "output_type": "stream",
     "text": [
      "/home/hybrid/.local/lib/python3.8/site-packages/sklearn/linear_model/_sag.py:350: ConvergenceWarning: The max_iter was reached which means the coef_ did not converge\n",
      "  warnings.warn(\n"
     ]
    },
    {
     "name": "stdout",
     "output_type": "stream",
     "text": [
      "[CV 2/5] END LR__C=20, LR__max_iter=50, LR__multi_class=auto, LR__penalty=l2, LR__random_state=11, LR__solver=saga, pca__n_components=20;, score=0.821 total time=  20.6s\n"
     ]
    },
    {
     "name": "stderr",
     "output_type": "stream",
     "text": [
      "/home/hybrid/.local/lib/python3.8/site-packages/sklearn/linear_model/_sag.py:350: ConvergenceWarning: The max_iter was reached which means the coef_ did not converge\n",
      "  warnings.warn(\n"
     ]
    },
    {
     "name": "stdout",
     "output_type": "stream",
     "text": [
      "[CV 3/5] END LR__C=20, LR__max_iter=50, LR__multi_class=auto, LR__penalty=l2, LR__random_state=11, LR__solver=saga, pca__n_components=20;, score=0.824 total time=  20.9s\n"
     ]
    },
    {
     "name": "stderr",
     "output_type": "stream",
     "text": [
      "/home/hybrid/.local/lib/python3.8/site-packages/sklearn/linear_model/_sag.py:350: ConvergenceWarning: The max_iter was reached which means the coef_ did not converge\n",
      "  warnings.warn(\n"
     ]
    },
    {
     "name": "stdout",
     "output_type": "stream",
     "text": [
      "[CV 4/5] END LR__C=20, LR__max_iter=50, LR__multi_class=auto, LR__penalty=l2, LR__random_state=11, LR__solver=saga, pca__n_components=20;, score=0.825 total time=  20.6s\n"
     ]
    },
    {
     "name": "stderr",
     "output_type": "stream",
     "text": [
      "/home/hybrid/.local/lib/python3.8/site-packages/sklearn/linear_model/_sag.py:350: ConvergenceWarning: The max_iter was reached which means the coef_ did not converge\n",
      "  warnings.warn(\n"
     ]
    },
    {
     "name": "stdout",
     "output_type": "stream",
     "text": [
      "[CV 5/5] END LR__C=20, LR__max_iter=50, LR__multi_class=auto, LR__penalty=l2, LR__random_state=11, LR__solver=saga, pca__n_components=20;, score=0.825 total time=  20.9s\n",
      "[CV 1/5] END LR__C=20, LR__max_iter=50, LR__multi_class=auto, LR__penalty=l1, LR__random_state=11, LR__solver=saga, pca__n_components=5;, score=0.772 total time=   2.4s\n",
      "[CV 2/5] END LR__C=20, LR__max_iter=50, LR__multi_class=auto, LR__penalty=l1, LR__random_state=11, LR__solver=saga, pca__n_components=5;, score=0.773 total time=   2.4s\n",
      "[CV 3/5] END LR__C=20, LR__max_iter=50, LR__multi_class=auto, LR__penalty=l1, LR__random_state=11, LR__solver=saga, pca__n_components=5;, score=0.774 total time=   2.4s\n",
      "[CV 4/5] END LR__C=20, LR__max_iter=50, LR__multi_class=auto, LR__penalty=l1, LR__random_state=11, LR__solver=saga, pca__n_components=5;, score=0.772 total time=   2.4s\n",
      "[CV 5/5] END LR__C=20, LR__max_iter=50, LR__multi_class=auto, LR__penalty=l1, LR__random_state=11, LR__solver=saga, pca__n_components=5;, score=0.773 total time=   2.4s\n",
      "[CV 1/5] END LR__C=20, LR__max_iter=50, LR__multi_class=auto, LR__penalty=l1, LR__random_state=11, LR__solver=saga, pca__n_components=10;, score=0.803 total time=  12.8s\n",
      "[CV 2/5] END LR__C=20, LR__max_iter=50, LR__multi_class=auto, LR__penalty=l1, LR__random_state=11, LR__solver=saga, pca__n_components=10;, score=0.803 total time=  12.2s\n",
      "[CV 3/5] END LR__C=20, LR__max_iter=50, LR__multi_class=auto, LR__penalty=l1, LR__random_state=11, LR__solver=saga, pca__n_components=10;, score=0.804 total time=  11.4s\n",
      "[CV 4/5] END LR__C=20, LR__max_iter=50, LR__multi_class=auto, LR__penalty=l1, LR__random_state=11, LR__solver=saga, pca__n_components=10;, score=0.808 total time=  11.3s\n",
      "[CV 5/5] END LR__C=20, LR__max_iter=50, LR__multi_class=auto, LR__penalty=l1, LR__random_state=11, LR__solver=saga, pca__n_components=10;, score=0.802 total time=  11.7s\n"
     ]
    },
    {
     "name": "stderr",
     "output_type": "stream",
     "text": [
      "/home/hybrid/.local/lib/python3.8/site-packages/sklearn/linear_model/_sag.py:350: ConvergenceWarning: The max_iter was reached which means the coef_ did not converge\n",
      "  warnings.warn(\n"
     ]
    },
    {
     "name": "stdout",
     "output_type": "stream",
     "text": [
      "[CV 1/5] END LR__C=20, LR__max_iter=50, LR__multi_class=auto, LR__penalty=l1, LR__random_state=11, LR__solver=saga, pca__n_components=20;, score=0.826 total time=  21.1s\n"
     ]
    },
    {
     "name": "stderr",
     "output_type": "stream",
     "text": [
      "/home/hybrid/.local/lib/python3.8/site-packages/sklearn/linear_model/_sag.py:350: ConvergenceWarning: The max_iter was reached which means the coef_ did not converge\n",
      "  warnings.warn(\n"
     ]
    },
    {
     "name": "stdout",
     "output_type": "stream",
     "text": [
      "[CV 2/5] END LR__C=20, LR__max_iter=50, LR__multi_class=auto, LR__penalty=l1, LR__random_state=11, LR__solver=saga, pca__n_components=20;, score=0.821 total time=  20.9s\n"
     ]
    },
    {
     "name": "stderr",
     "output_type": "stream",
     "text": [
      "/home/hybrid/.local/lib/python3.8/site-packages/sklearn/linear_model/_sag.py:350: ConvergenceWarning: The max_iter was reached which means the coef_ did not converge\n",
      "  warnings.warn(\n"
     ]
    },
    {
     "name": "stdout",
     "output_type": "stream",
     "text": [
      "[CV 3/5] END LR__C=20, LR__max_iter=50, LR__multi_class=auto, LR__penalty=l1, LR__random_state=11, LR__solver=saga, pca__n_components=20;, score=0.824 total time=  21.0s\n"
     ]
    },
    {
     "name": "stderr",
     "output_type": "stream",
     "text": [
      "/home/hybrid/.local/lib/python3.8/site-packages/sklearn/linear_model/_sag.py:350: ConvergenceWarning: The max_iter was reached which means the coef_ did not converge\n",
      "  warnings.warn(\n"
     ]
    },
    {
     "name": "stdout",
     "output_type": "stream",
     "text": [
      "[CV 4/5] END LR__C=20, LR__max_iter=50, LR__multi_class=auto, LR__penalty=l1, LR__random_state=11, LR__solver=saga, pca__n_components=20;, score=0.824 total time=  20.9s\n"
     ]
    },
    {
     "name": "stderr",
     "output_type": "stream",
     "text": [
      "/home/hybrid/.local/lib/python3.8/site-packages/sklearn/linear_model/_sag.py:350: ConvergenceWarning: The max_iter was reached which means the coef_ did not converge\n",
      "  warnings.warn(\n"
     ]
    },
    {
     "name": "stdout",
     "output_type": "stream",
     "text": [
      "[CV 5/5] END LR__C=20, LR__max_iter=50, LR__multi_class=auto, LR__penalty=l1, LR__random_state=11, LR__solver=saga, pca__n_components=20;, score=0.825 total time=  20.9s\n",
      "[CV 1/5] END LR__C=20, LR__max_iter=100, LR__multi_class=auto, LR__penalty=l2, LR__random_state=11, LR__solver=saga, pca__n_components=5;, score=0.772 total time=   2.3s\n",
      "[CV 2/5] END LR__C=20, LR__max_iter=100, LR__multi_class=auto, LR__penalty=l2, LR__random_state=11, LR__solver=saga, pca__n_components=5;, score=0.772 total time=   2.4s\n",
      "[CV 3/5] END LR__C=20, LR__max_iter=100, LR__multi_class=auto, LR__penalty=l2, LR__random_state=11, LR__solver=saga, pca__n_components=5;, score=0.774 total time=   2.4s\n",
      "[CV 4/5] END LR__C=20, LR__max_iter=100, LR__multi_class=auto, LR__penalty=l2, LR__random_state=11, LR__solver=saga, pca__n_components=5;, score=0.772 total time=   2.4s\n",
      "[CV 5/5] END LR__C=20, LR__max_iter=100, LR__multi_class=auto, LR__penalty=l2, LR__random_state=11, LR__solver=saga, pca__n_components=5;, score=0.774 total time=   2.4s\n",
      "[CV 1/5] END LR__C=20, LR__max_iter=100, LR__multi_class=auto, LR__penalty=l2, LR__random_state=11, LR__solver=saga, pca__n_components=10;, score=0.804 total time=  11.6s\n",
      "[CV 2/5] END LR__C=20, LR__max_iter=100, LR__multi_class=auto, LR__penalty=l2, LR__random_state=11, LR__solver=saga, pca__n_components=10;, score=0.804 total time=  12.3s\n",
      "[CV 3/5] END LR__C=20, LR__max_iter=100, LR__multi_class=auto, LR__penalty=l2, LR__random_state=11, LR__solver=saga, pca__n_components=10;, score=0.805 total time=  11.7s\n",
      "[CV 4/5] END LR__C=20, LR__max_iter=100, LR__multi_class=auto, LR__penalty=l2, LR__random_state=11, LR__solver=saga, pca__n_components=10;, score=0.805 total time=  11.3s\n",
      "[CV 5/5] END LR__C=20, LR__max_iter=100, LR__multi_class=auto, LR__penalty=l2, LR__random_state=11, LR__solver=saga, pca__n_components=10;, score=0.803 total time=  11.6s\n"
     ]
    },
    {
     "name": "stderr",
     "output_type": "stream",
     "text": [
      "/home/hybrid/.local/lib/python3.8/site-packages/sklearn/linear_model/_sag.py:350: ConvergenceWarning: The max_iter was reached which means the coef_ did not converge\n",
      "  warnings.warn(\n"
     ]
    },
    {
     "name": "stdout",
     "output_type": "stream",
     "text": [
      "[CV 1/5] END LR__C=20, LR__max_iter=100, LR__multi_class=auto, LR__penalty=l2, LR__random_state=11, LR__solver=saga, pca__n_components=20;, score=0.827 total time=  22.2s\n"
     ]
    },
    {
     "name": "stderr",
     "output_type": "stream",
     "text": [
      "/home/hybrid/.local/lib/python3.8/site-packages/sklearn/linear_model/_sag.py:350: ConvergenceWarning: The max_iter was reached which means the coef_ did not converge\n",
      "  warnings.warn(\n"
     ]
    },
    {
     "name": "stdout",
     "output_type": "stream",
     "text": [
      "[CV 2/5] END LR__C=20, LR__max_iter=100, LR__multi_class=auto, LR__penalty=l2, LR__random_state=11, LR__solver=saga, pca__n_components=20;, score=0.821 total time=  22.3s\n"
     ]
    },
    {
     "name": "stderr",
     "output_type": "stream",
     "text": [
      "/home/hybrid/.local/lib/python3.8/site-packages/sklearn/linear_model/_sag.py:350: ConvergenceWarning: The max_iter was reached which means the coef_ did not converge\n",
      "  warnings.warn(\n"
     ]
    },
    {
     "name": "stdout",
     "output_type": "stream",
     "text": [
      "[CV 3/5] END LR__C=20, LR__max_iter=100, LR__multi_class=auto, LR__penalty=l2, LR__random_state=11, LR__solver=saga, pca__n_components=20;, score=0.824 total time=  24.2s\n"
     ]
    },
    {
     "name": "stderr",
     "output_type": "stream",
     "text": [
      "/home/hybrid/.local/lib/python3.8/site-packages/sklearn/linear_model/_sag.py:350: ConvergenceWarning: The max_iter was reached which means the coef_ did not converge\n",
      "  warnings.warn(\n"
     ]
    },
    {
     "name": "stdout",
     "output_type": "stream",
     "text": [
      "[CV 4/5] END LR__C=20, LR__max_iter=100, LR__multi_class=auto, LR__penalty=l2, LR__random_state=11, LR__solver=saga, pca__n_components=20;, score=0.825 total time=  23.0s\n"
     ]
    },
    {
     "name": "stderr",
     "output_type": "stream",
     "text": [
      "/home/hybrid/.local/lib/python3.8/site-packages/sklearn/linear_model/_sag.py:350: ConvergenceWarning: The max_iter was reached which means the coef_ did not converge\n",
      "  warnings.warn(\n"
     ]
    },
    {
     "name": "stdout",
     "output_type": "stream",
     "text": [
      "[CV 5/5] END LR__C=20, LR__max_iter=100, LR__multi_class=auto, LR__penalty=l2, LR__random_state=11, LR__solver=saga, pca__n_components=20;, score=0.826 total time=  22.4s\n",
      "[CV 1/5] END LR__C=20, LR__max_iter=100, LR__multi_class=auto, LR__penalty=l1, LR__random_state=11, LR__solver=saga, pca__n_components=5;, score=0.771 total time=   2.5s\n",
      "[CV 2/5] END LR__C=20, LR__max_iter=100, LR__multi_class=auto, LR__penalty=l1, LR__random_state=11, LR__solver=saga, pca__n_components=5;, score=0.774 total time=   2.4s\n",
      "[CV 3/5] END LR__C=20, LR__max_iter=100, LR__multi_class=auto, LR__penalty=l1, LR__random_state=11, LR__solver=saga, pca__n_components=5;, score=0.775 total time=   2.4s\n",
      "[CV 4/5] END LR__C=20, LR__max_iter=100, LR__multi_class=auto, LR__penalty=l1, LR__random_state=11, LR__solver=saga, pca__n_components=5;, score=0.774 total time=   2.4s\n",
      "[CV 5/5] END LR__C=20, LR__max_iter=100, LR__multi_class=auto, LR__penalty=l1, LR__random_state=11, LR__solver=saga, pca__n_components=5;, score=0.773 total time=   2.4s\n",
      "[CV 1/5] END LR__C=20, LR__max_iter=100, LR__multi_class=auto, LR__penalty=l1, LR__random_state=11, LR__solver=saga, pca__n_components=10;, score=0.801 total time=  11.7s\n",
      "[CV 2/5] END LR__C=20, LR__max_iter=100, LR__multi_class=auto, LR__penalty=l1, LR__random_state=11, LR__solver=saga, pca__n_components=10;, score=0.804 total time=  12.4s\n",
      "[CV 3/5] END LR__C=20, LR__max_iter=100, LR__multi_class=auto, LR__penalty=l1, LR__random_state=11, LR__solver=saga, pca__n_components=10;, score=0.803 total time=  11.7s\n",
      "[CV 4/5] END LR__C=20, LR__max_iter=100, LR__multi_class=auto, LR__penalty=l1, LR__random_state=11, LR__solver=saga, pca__n_components=10;, score=0.805 total time=  11.8s\n",
      "[CV 5/5] END LR__C=20, LR__max_iter=100, LR__multi_class=auto, LR__penalty=l1, LR__random_state=11, LR__solver=saga, pca__n_components=10;, score=0.801 total time=  11.5s\n"
     ]
    },
    {
     "name": "stderr",
     "output_type": "stream",
     "text": [
      "/home/hybrid/.local/lib/python3.8/site-packages/sklearn/linear_model/_sag.py:350: ConvergenceWarning: The max_iter was reached which means the coef_ did not converge\n",
      "  warnings.warn(\n"
     ]
    },
    {
     "name": "stdout",
     "output_type": "stream",
     "text": [
      "[CV 1/5] END LR__C=20, LR__max_iter=100, LR__multi_class=auto, LR__penalty=l1, LR__random_state=11, LR__solver=saga, pca__n_components=20;, score=0.827 total time=  22.8s\n"
     ]
    },
    {
     "name": "stderr",
     "output_type": "stream",
     "text": [
      "/home/hybrid/.local/lib/python3.8/site-packages/sklearn/linear_model/_sag.py:350: ConvergenceWarning: The max_iter was reached which means the coef_ did not converge\n",
      "  warnings.warn(\n"
     ]
    },
    {
     "name": "stdout",
     "output_type": "stream",
     "text": [
      "[CV 2/5] END LR__C=20, LR__max_iter=100, LR__multi_class=auto, LR__penalty=l1, LR__random_state=11, LR__solver=saga, pca__n_components=20;, score=0.821 total time=  22.9s\n"
     ]
    },
    {
     "name": "stderr",
     "output_type": "stream",
     "text": [
      "/home/hybrid/.local/lib/python3.8/site-packages/sklearn/linear_model/_sag.py:350: ConvergenceWarning: The max_iter was reached which means the coef_ did not converge\n",
      "  warnings.warn(\n"
     ]
    },
    {
     "name": "stdout",
     "output_type": "stream",
     "text": [
      "[CV 3/5] END LR__C=20, LR__max_iter=100, LR__multi_class=auto, LR__penalty=l1, LR__random_state=11, LR__solver=saga, pca__n_components=20;, score=0.824 total time=  23.4s\n"
     ]
    },
    {
     "name": "stderr",
     "output_type": "stream",
     "text": [
      "/home/hybrid/.local/lib/python3.8/site-packages/sklearn/linear_model/_sag.py:350: ConvergenceWarning: The max_iter was reached which means the coef_ did not converge\n",
      "  warnings.warn(\n"
     ]
    },
    {
     "name": "stdout",
     "output_type": "stream",
     "text": [
      "[CV 4/5] END LR__C=20, LR__max_iter=100, LR__multi_class=auto, LR__penalty=l1, LR__random_state=11, LR__solver=saga, pca__n_components=20;, score=0.825 total time=  24.5s\n"
     ]
    },
    {
     "name": "stderr",
     "output_type": "stream",
     "text": [
      "/home/hybrid/.local/lib/python3.8/site-packages/sklearn/linear_model/_sag.py:350: ConvergenceWarning: The max_iter was reached which means the coef_ did not converge\n",
      "  warnings.warn(\n"
     ]
    },
    {
     "name": "stdout",
     "output_type": "stream",
     "text": [
      "[CV 5/5] END LR__C=20, LR__max_iter=100, LR__multi_class=auto, LR__penalty=l1, LR__random_state=11, LR__solver=saga, pca__n_components=20;, score=0.826 total time=  32.0s\n",
      "[CV 1/5] END LR__C=70, LR__max_iter=50, LR__multi_class=auto, LR__penalty=l2, LR__random_state=11, LR__solver=saga, pca__n_components=5;, score=0.774 total time=   3.2s\n",
      "[CV 2/5] END LR__C=70, LR__max_iter=50, LR__multi_class=auto, LR__penalty=l2, LR__random_state=11, LR__solver=saga, pca__n_components=5;, score=0.774 total time=   3.1s\n",
      "[CV 3/5] END LR__C=70, LR__max_iter=50, LR__multi_class=auto, LR__penalty=l2, LR__random_state=11, LR__solver=saga, pca__n_components=5;, score=0.775 total time=   2.8s\n",
      "[CV 4/5] END LR__C=70, LR__max_iter=50, LR__multi_class=auto, LR__penalty=l2, LR__random_state=11, LR__solver=saga, pca__n_components=5;, score=0.772 total time=   2.9s\n",
      "[CV 5/5] END LR__C=70, LR__max_iter=50, LR__multi_class=auto, LR__penalty=l2, LR__random_state=11, LR__solver=saga, pca__n_components=5;, score=0.769 total time=   2.9s\n",
      "[CV 1/5] END LR__C=70, LR__max_iter=50, LR__multi_class=auto, LR__penalty=l2, LR__random_state=11, LR__solver=saga, pca__n_components=10;, score=0.804 total time=  14.1s\n",
      "[CV 2/5] END LR__C=70, LR__max_iter=50, LR__multi_class=auto, LR__penalty=l2, LR__random_state=11, LR__solver=saga, pca__n_components=10;, score=0.802 total time=  14.3s\n",
      "[CV 3/5] END LR__C=70, LR__max_iter=50, LR__multi_class=auto, LR__penalty=l2, LR__random_state=11, LR__solver=saga, pca__n_components=10;, score=0.806 total time=  13.1s\n",
      "[CV 4/5] END LR__C=70, LR__max_iter=50, LR__multi_class=auto, LR__penalty=l2, LR__random_state=11, LR__solver=saga, pca__n_components=10;, score=0.805 total time=  12.8s\n",
      "[CV 5/5] END LR__C=70, LR__max_iter=50, LR__multi_class=auto, LR__penalty=l2, LR__random_state=11, LR__solver=saga, pca__n_components=10;, score=0.802 total time=  12.7s\n"
     ]
    },
    {
     "name": "stderr",
     "output_type": "stream",
     "text": [
      "/home/hybrid/.local/lib/python3.8/site-packages/sklearn/linear_model/_sag.py:350: ConvergenceWarning: The max_iter was reached which means the coef_ did not converge\n",
      "  warnings.warn(\n"
     ]
    },
    {
     "name": "stdout",
     "output_type": "stream",
     "text": [
      "[CV 1/5] END LR__C=70, LR__max_iter=50, LR__multi_class=auto, LR__penalty=l2, LR__random_state=11, LR__solver=saga, pca__n_components=20;, score=0.826 total time=  23.6s\n"
     ]
    },
    {
     "name": "stderr",
     "output_type": "stream",
     "text": [
      "/home/hybrid/.local/lib/python3.8/site-packages/sklearn/linear_model/_sag.py:350: ConvergenceWarning: The max_iter was reached which means the coef_ did not converge\n",
      "  warnings.warn(\n"
     ]
    },
    {
     "name": "stdout",
     "output_type": "stream",
     "text": [
      "[CV 2/5] END LR__C=70, LR__max_iter=50, LR__multi_class=auto, LR__penalty=l2, LR__random_state=11, LR__solver=saga, pca__n_components=20;, score=0.821 total time=  24.0s\n"
     ]
    },
    {
     "name": "stderr",
     "output_type": "stream",
     "text": [
      "/home/hybrid/.local/lib/python3.8/site-packages/sklearn/linear_model/_sag.py:350: ConvergenceWarning: The max_iter was reached which means the coef_ did not converge\n",
      "  warnings.warn(\n"
     ]
    },
    {
     "name": "stdout",
     "output_type": "stream",
     "text": [
      "[CV 3/5] END LR__C=70, LR__max_iter=50, LR__multi_class=auto, LR__penalty=l2, LR__random_state=11, LR__solver=saga, pca__n_components=20;, score=0.824 total time=  23.9s\n"
     ]
    },
    {
     "name": "stderr",
     "output_type": "stream",
     "text": [
      "/home/hybrid/.local/lib/python3.8/site-packages/sklearn/linear_model/_sag.py:350: ConvergenceWarning: The max_iter was reached which means the coef_ did not converge\n",
      "  warnings.warn(\n"
     ]
    },
    {
     "name": "stdout",
     "output_type": "stream",
     "text": [
      "[CV 4/5] END LR__C=70, LR__max_iter=50, LR__multi_class=auto, LR__penalty=l2, LR__random_state=11, LR__solver=saga, pca__n_components=20;, score=0.824 total time=  21.7s\n"
     ]
    },
    {
     "name": "stderr",
     "output_type": "stream",
     "text": [
      "/home/hybrid/.local/lib/python3.8/site-packages/sklearn/linear_model/_sag.py:350: ConvergenceWarning: The max_iter was reached which means the coef_ did not converge\n",
      "  warnings.warn(\n"
     ]
    },
    {
     "name": "stdout",
     "output_type": "stream",
     "text": [
      "[CV 5/5] END LR__C=70, LR__max_iter=50, LR__multi_class=auto, LR__penalty=l2, LR__random_state=11, LR__solver=saga, pca__n_components=20;, score=0.825 total time=  22.6s\n",
      "[CV 1/5] END LR__C=70, LR__max_iter=50, LR__multi_class=auto, LR__penalty=l1, LR__random_state=11, LR__solver=saga, pca__n_components=5;, score=0.772 total time=   2.5s\n",
      "[CV 2/5] END LR__C=70, LR__max_iter=50, LR__multi_class=auto, LR__penalty=l1, LR__random_state=11, LR__solver=saga, pca__n_components=5;, score=0.775 total time=   2.6s\n",
      "[CV 3/5] END LR__C=70, LR__max_iter=50, LR__multi_class=auto, LR__penalty=l1, LR__random_state=11, LR__solver=saga, pca__n_components=5;, score=0.776 total time=   2.6s\n",
      "[CV 4/5] END LR__C=70, LR__max_iter=50, LR__multi_class=auto, LR__penalty=l1, LR__random_state=11, LR__solver=saga, pca__n_components=5;, score=0.772 total time=   2.5s\n",
      "[CV 5/5] END LR__C=70, LR__max_iter=50, LR__multi_class=auto, LR__penalty=l1, LR__random_state=11, LR__solver=saga, pca__n_components=5;, score=0.768 total time=   2.5s\n",
      "[CV 1/5] END LR__C=70, LR__max_iter=50, LR__multi_class=auto, LR__penalty=l1, LR__random_state=11, LR__solver=saga, pca__n_components=10;, score=0.802 total time=  12.4s\n",
      "[CV 2/5] END LR__C=70, LR__max_iter=50, LR__multi_class=auto, LR__penalty=l1, LR__random_state=11, LR__solver=saga, pca__n_components=10;, score=0.803 total time=  13.6s\n",
      "[CV 3/5] END LR__C=70, LR__max_iter=50, LR__multi_class=auto, LR__penalty=l1, LR__random_state=11, LR__solver=saga, pca__n_components=10;, score=0.804 total time=  12.3s\n",
      "[CV 4/5] END LR__C=70, LR__max_iter=50, LR__multi_class=auto, LR__penalty=l1, LR__random_state=11, LR__solver=saga, pca__n_components=10;, score=0.805 total time=  12.3s\n",
      "[CV 5/5] END LR__C=70, LR__max_iter=50, LR__multi_class=auto, LR__penalty=l1, LR__random_state=11, LR__solver=saga, pca__n_components=10;, score=0.801 total time=  12.2s\n"
     ]
    },
    {
     "name": "stderr",
     "output_type": "stream",
     "text": [
      "/home/hybrid/.local/lib/python3.8/site-packages/sklearn/linear_model/_sag.py:350: ConvergenceWarning: The max_iter was reached which means the coef_ did not converge\n",
      "  warnings.warn(\n"
     ]
    },
    {
     "name": "stdout",
     "output_type": "stream",
     "text": [
      "[CV 1/5] END LR__C=70, LR__max_iter=50, LR__multi_class=auto, LR__penalty=l1, LR__random_state=11, LR__solver=saga, pca__n_components=20;, score=0.826 total time=  22.0s\n"
     ]
    },
    {
     "name": "stderr",
     "output_type": "stream",
     "text": [
      "/home/hybrid/.local/lib/python3.8/site-packages/sklearn/linear_model/_sag.py:350: ConvergenceWarning: The max_iter was reached which means the coef_ did not converge\n",
      "  warnings.warn(\n"
     ]
    },
    {
     "name": "stdout",
     "output_type": "stream",
     "text": [
      "[CV 2/5] END LR__C=70, LR__max_iter=50, LR__multi_class=auto, LR__penalty=l1, LR__random_state=11, LR__solver=saga, pca__n_components=20;, score=0.822 total time=  21.9s\n"
     ]
    },
    {
     "name": "stderr",
     "output_type": "stream",
     "text": [
      "/home/hybrid/.local/lib/python3.8/site-packages/sklearn/linear_model/_sag.py:350: ConvergenceWarning: The max_iter was reached which means the coef_ did not converge\n",
      "  warnings.warn(\n"
     ]
    },
    {
     "name": "stdout",
     "output_type": "stream",
     "text": [
      "[CV 3/5] END LR__C=70, LR__max_iter=50, LR__multi_class=auto, LR__penalty=l1, LR__random_state=11, LR__solver=saga, pca__n_components=20;, score=0.824 total time=  21.9s\n"
     ]
    },
    {
     "name": "stderr",
     "output_type": "stream",
     "text": [
      "/home/hybrid/.local/lib/python3.8/site-packages/sklearn/linear_model/_sag.py:350: ConvergenceWarning: The max_iter was reached which means the coef_ did not converge\n",
      "  warnings.warn(\n"
     ]
    },
    {
     "name": "stdout",
     "output_type": "stream",
     "text": [
      "[CV 4/5] END LR__C=70, LR__max_iter=50, LR__multi_class=auto, LR__penalty=l1, LR__random_state=11, LR__solver=saga, pca__n_components=20;, score=0.825 total time=  22.1s\n"
     ]
    },
    {
     "name": "stderr",
     "output_type": "stream",
     "text": [
      "/home/hybrid/.local/lib/python3.8/site-packages/sklearn/linear_model/_sag.py:350: ConvergenceWarning: The max_iter was reached which means the coef_ did not converge\n",
      "  warnings.warn(\n"
     ]
    },
    {
     "name": "stdout",
     "output_type": "stream",
     "text": [
      "[CV 5/5] END LR__C=70, LR__max_iter=50, LR__multi_class=auto, LR__penalty=l1, LR__random_state=11, LR__solver=saga, pca__n_components=20;, score=0.825 total time=  22.1s\n",
      "[CV 1/5] END LR__C=70, LR__max_iter=100, LR__multi_class=auto, LR__penalty=l2, LR__random_state=11, LR__solver=saga, pca__n_components=5;, score=0.772 total time=   2.6s\n",
      "[CV 2/5] END LR__C=70, LR__max_iter=100, LR__multi_class=auto, LR__penalty=l2, LR__random_state=11, LR__solver=saga, pca__n_components=5;, score=0.773 total time=   2.5s\n",
      "[CV 3/5] END LR__C=70, LR__max_iter=100, LR__multi_class=auto, LR__penalty=l2, LR__random_state=11, LR__solver=saga, pca__n_components=5;, score=0.775 total time=   2.5s\n",
      "[CV 4/5] END LR__C=70, LR__max_iter=100, LR__multi_class=auto, LR__penalty=l2, LR__random_state=11, LR__solver=saga, pca__n_components=5;, score=0.772 total time=   2.6s\n",
      "[CV 5/5] END LR__C=70, LR__max_iter=100, LR__multi_class=auto, LR__penalty=l2, LR__random_state=11, LR__solver=saga, pca__n_components=5;, score=0.772 total time=   2.5s\n",
      "[CV 1/5] END LR__C=70, LR__max_iter=100, LR__multi_class=auto, LR__penalty=l2, LR__random_state=11, LR__solver=saga, pca__n_components=10;, score=0.804 total time=  11.9s\n",
      "[CV 2/5] END LR__C=70, LR__max_iter=100, LR__multi_class=auto, LR__penalty=l2, LR__random_state=11, LR__solver=saga, pca__n_components=10;, score=0.802 total time=  13.3s\n",
      "[CV 3/5] END LR__C=70, LR__max_iter=100, LR__multi_class=auto, LR__penalty=l2, LR__random_state=11, LR__solver=saga, pca__n_components=10;, score=0.806 total time=  12.6s\n",
      "[CV 4/5] END LR__C=70, LR__max_iter=100, LR__multi_class=auto, LR__penalty=l2, LR__random_state=11, LR__solver=saga, pca__n_components=10;, score=0.806 total time=  12.1s\n",
      "[CV 5/5] END LR__C=70, LR__max_iter=100, LR__multi_class=auto, LR__penalty=l2, LR__random_state=11, LR__solver=saga, pca__n_components=10;, score=0.804 total time=  11.8s\n"
     ]
    },
    {
     "name": "stderr",
     "output_type": "stream",
     "text": [
      "/home/hybrid/.local/lib/python3.8/site-packages/sklearn/linear_model/_sag.py:350: ConvergenceWarning: The max_iter was reached which means the coef_ did not converge\n",
      "  warnings.warn(\n"
     ]
    },
    {
     "name": "stdout",
     "output_type": "stream",
     "text": [
      "[CV 1/5] END LR__C=70, LR__max_iter=100, LR__multi_class=auto, LR__penalty=l2, LR__random_state=11, LR__solver=saga, pca__n_components=20;, score=0.826 total time=  23.1s\n"
     ]
    },
    {
     "name": "stderr",
     "output_type": "stream",
     "text": [
      "/home/hybrid/.local/lib/python3.8/site-packages/sklearn/linear_model/_sag.py:350: ConvergenceWarning: The max_iter was reached which means the coef_ did not converge\n",
      "  warnings.warn(\n"
     ]
    },
    {
     "name": "stdout",
     "output_type": "stream",
     "text": [
      "[CV 2/5] END LR__C=70, LR__max_iter=100, LR__multi_class=auto, LR__penalty=l2, LR__random_state=11, LR__solver=saga, pca__n_components=20;, score=0.821 total time=  23.3s\n"
     ]
    },
    {
     "name": "stderr",
     "output_type": "stream",
     "text": [
      "/home/hybrid/.local/lib/python3.8/site-packages/sklearn/linear_model/_sag.py:350: ConvergenceWarning: The max_iter was reached which means the coef_ did not converge\n",
      "  warnings.warn(\n"
     ]
    },
    {
     "name": "stdout",
     "output_type": "stream",
     "text": [
      "[CV 3/5] END LR__C=70, LR__max_iter=100, LR__multi_class=auto, LR__penalty=l2, LR__random_state=11, LR__solver=saga, pca__n_components=20;, score=0.825 total time=  23.0s\n"
     ]
    },
    {
     "name": "stderr",
     "output_type": "stream",
     "text": [
      "/home/hybrid/.local/lib/python3.8/site-packages/sklearn/linear_model/_sag.py:350: ConvergenceWarning: The max_iter was reached which means the coef_ did not converge\n",
      "  warnings.warn(\n"
     ]
    },
    {
     "name": "stdout",
     "output_type": "stream",
     "text": [
      "[CV 4/5] END LR__C=70, LR__max_iter=100, LR__multi_class=auto, LR__penalty=l2, LR__random_state=11, LR__solver=saga, pca__n_components=20;, score=0.825 total time=  23.1s\n"
     ]
    },
    {
     "name": "stderr",
     "output_type": "stream",
     "text": [
      "/home/hybrid/.local/lib/python3.8/site-packages/sklearn/linear_model/_sag.py:350: ConvergenceWarning: The max_iter was reached which means the coef_ did not converge\n",
      "  warnings.warn(\n"
     ]
    },
    {
     "name": "stdout",
     "output_type": "stream",
     "text": [
      "[CV 5/5] END LR__C=70, LR__max_iter=100, LR__multi_class=auto, LR__penalty=l2, LR__random_state=11, LR__solver=saga, pca__n_components=20;, score=0.826 total time=  23.3s\n",
      "[CV 1/5] END LR__C=70, LR__max_iter=100, LR__multi_class=auto, LR__penalty=l1, LR__random_state=11, LR__solver=saga, pca__n_components=5;, score=0.773 total time=   2.6s\n",
      "[CV 2/5] END LR__C=70, LR__max_iter=100, LR__multi_class=auto, LR__penalty=l1, LR__random_state=11, LR__solver=saga, pca__n_components=5;, score=0.775 total time=   2.5s\n",
      "[CV 3/5] END LR__C=70, LR__max_iter=100, LR__multi_class=auto, LR__penalty=l1, LR__random_state=11, LR__solver=saga, pca__n_components=5;, score=0.776 total time=   2.6s\n",
      "[CV 4/5] END LR__C=70, LR__max_iter=100, LR__multi_class=auto, LR__penalty=l1, LR__random_state=11, LR__solver=saga, pca__n_components=5;, score=0.772 total time=   2.6s\n",
      "[CV 5/5] END LR__C=70, LR__max_iter=100, LR__multi_class=auto, LR__penalty=l1, LR__random_state=11, LR__solver=saga, pca__n_components=5;, score=0.774 total time=   2.5s\n",
      "[CV 1/5] END LR__C=70, LR__max_iter=100, LR__multi_class=auto, LR__penalty=l1, LR__random_state=11, LR__solver=saga, pca__n_components=10;, score=0.803 total time=  12.7s\n",
      "[CV 2/5] END LR__C=70, LR__max_iter=100, LR__multi_class=auto, LR__penalty=l1, LR__random_state=11, LR__solver=saga, pca__n_components=10;, score=0.803 total time=  13.5s\n",
      "[CV 3/5] END LR__C=70, LR__max_iter=100, LR__multi_class=auto, LR__penalty=l1, LR__random_state=11, LR__solver=saga, pca__n_components=10;, score=0.807 total time=  11.8s\n",
      "[CV 4/5] END LR__C=70, LR__max_iter=100, LR__multi_class=auto, LR__penalty=l1, LR__random_state=11, LR__solver=saga, pca__n_components=10;, score=0.805 total time=  12.1s\n",
      "[CV 5/5] END LR__C=70, LR__max_iter=100, LR__multi_class=auto, LR__penalty=l1, LR__random_state=11, LR__solver=saga, pca__n_components=10;, score=0.802 total time=  11.7s\n"
     ]
    },
    {
     "name": "stderr",
     "output_type": "stream",
     "text": [
      "/home/hybrid/.local/lib/python3.8/site-packages/sklearn/linear_model/_sag.py:350: ConvergenceWarning: The max_iter was reached which means the coef_ did not converge\n",
      "  warnings.warn(\n"
     ]
    },
    {
     "name": "stdout",
     "output_type": "stream",
     "text": [
      "[CV 1/5] END LR__C=70, LR__max_iter=100, LR__multi_class=auto, LR__penalty=l1, LR__random_state=11, LR__solver=saga, pca__n_components=20;, score=0.826 total time=  23.8s\n"
     ]
    },
    {
     "name": "stderr",
     "output_type": "stream",
     "text": [
      "/home/hybrid/.local/lib/python3.8/site-packages/sklearn/linear_model/_sag.py:350: ConvergenceWarning: The max_iter was reached which means the coef_ did not converge\n",
      "  warnings.warn(\n"
     ]
    },
    {
     "name": "stdout",
     "output_type": "stream",
     "text": [
      "[CV 2/5] END LR__C=70, LR__max_iter=100, LR__multi_class=auto, LR__penalty=l1, LR__random_state=11, LR__solver=saga, pca__n_components=20;, score=0.822 total time=  23.8s\n"
     ]
    },
    {
     "name": "stderr",
     "output_type": "stream",
     "text": [
      "/home/hybrid/.local/lib/python3.8/site-packages/sklearn/linear_model/_sag.py:350: ConvergenceWarning: The max_iter was reached which means the coef_ did not converge\n",
      "  warnings.warn(\n"
     ]
    },
    {
     "name": "stdout",
     "output_type": "stream",
     "text": [
      "[CV 3/5] END LR__C=70, LR__max_iter=100, LR__multi_class=auto, LR__penalty=l1, LR__random_state=11, LR__solver=saga, pca__n_components=20;, score=0.824 total time=  23.8s\n"
     ]
    },
    {
     "name": "stderr",
     "output_type": "stream",
     "text": [
      "/home/hybrid/.local/lib/python3.8/site-packages/sklearn/linear_model/_sag.py:350: ConvergenceWarning: The max_iter was reached which means the coef_ did not converge\n",
      "  warnings.warn(\n"
     ]
    },
    {
     "name": "stdout",
     "output_type": "stream",
     "text": [
      "[CV 4/5] END LR__C=70, LR__max_iter=100, LR__multi_class=auto, LR__penalty=l1, LR__random_state=11, LR__solver=saga, pca__n_components=20;, score=0.825 total time=  23.8s\n"
     ]
    },
    {
     "name": "stderr",
     "output_type": "stream",
     "text": [
      "/home/hybrid/.local/lib/python3.8/site-packages/sklearn/linear_model/_sag.py:350: ConvergenceWarning: The max_iter was reached which means the coef_ did not converge\n",
      "  warnings.warn(\n"
     ]
    },
    {
     "name": "stdout",
     "output_type": "stream",
     "text": [
      "[CV 5/5] END LR__C=70, LR__max_iter=100, LR__multi_class=auto, LR__penalty=l1, LR__random_state=11, LR__solver=saga, pca__n_components=20;, score=0.826 total time=  23.9s\n",
      "Cross-validation score: 0.8247579737625663\n",
      "Test score: 0.8173499523767105\n"
     ]
    },
    {
     "name": "stderr",
     "output_type": "stream",
     "text": [
      "/home/hybrid/.local/lib/python3.8/site-packages/sklearn/linear_model/_sag.py:350: ConvergenceWarning: The max_iter was reached which means the coef_ did not converge\n",
      "  warnings.warn(\n"
     ]
    }
   ],
   "source": [
    "pipeline = imbpipeline(steps = [['scaler', scaler],\n",
    "                                ['pca', pca],\n",
    "                                ['smote', SMOTEEN],\n",
    "                                ['LR', LogisticRegression()]])\n",
    "\n",
    "stratified_kfold = StratifiedKFold(n_splits=5,\n",
    "                                       shuffle=True,\n",
    "                                       random_state=13)\n",
    "    \n",
    "param_grid = {'LR__C':[20, 70],\n",
    "             'LR__random_state': [11],\n",
    "             'LR__multi_class': ['auto'],\n",
    "             'LR__max_iter': [50, 100],\n",
    "             'LR__solver': ['saga'],\n",
    "             'LR__penalty': ['l2', 'l1'],\n",
    "             'pca__n_components': [5, 10, 20]\n",
    "             }\n",
    "                                                                 \n",
    "search_LR = GridSearchCV(estimator=pipeline,\n",
    "                           param_grid=param_grid,\n",
    "                           scoring='roc_auc',\n",
    "                           cv=stratified_kfold,\n",
    "                           verbose=3,\n",
    "                           #n_jobs=3\n",
    "                        )\n",
    "\n",
    "search_LR.fit(X_train, y_train)\n",
    "cv_score = search_LR.best_score_\n",
    "test_score = search_LR.score(X_test, y_test)\n",
    "print(f'Cross-validation score: {cv_score}\\nTest score: {test_score}')"
   ]
  },
  {
   "cell_type": "markdown",
   "metadata": {},
   "source": [
    "Achieving scores of classification, saving accuracy, recall and F1 score in data frame:"
   ]
  },
  {
   "cell_type": "code",
   "execution_count": 53,
   "metadata": {},
   "outputs": [
    {
     "data": {
      "text/plain": [
       "{'LR__C': 20,\n",
       " 'LR__max_iter': 100,\n",
       " 'LR__multi_class': 'auto',\n",
       " 'LR__penalty': 'l1',\n",
       " 'LR__random_state': 11,\n",
       " 'LR__solver': 'saga',\n",
       " 'pca__n_components': 20}"
      ]
     },
     "execution_count": 53,
     "metadata": {},
     "output_type": "execute_result"
    }
   ],
   "source": [
    "search_LR.best_params_"
   ]
  },
  {
   "cell_type": "code",
   "execution_count": 54,
   "metadata": {},
   "outputs": [],
   "source": [
    "y_pred_lr = search_LR.best_estimator_.predict(X_test)"
   ]
  },
  {
   "cell_type": "code",
   "execution_count": 55,
   "metadata": {},
   "outputs": [],
   "source": [
    "test_score = search_LR.score(X_test, y_test)"
   ]
  },
  {
   "cell_type": "code",
   "execution_count": 58,
   "metadata": {},
   "outputs": [
    {
     "name": "stdout",
     "output_type": "stream",
     "text": [
      "              precision    recall  f1-score   support\n",
      "\n",
      "           0       0.80      0.83      0.81     22550\n",
      "           1       0.69      0.64      0.67     13267\n",
      "\n",
      "    accuracy                           0.76     35817\n",
      "   macro avg       0.74      0.74      0.74     35817\n",
      "weighted avg       0.76      0.76      0.76     35817\n",
      "\n"
     ]
    }
   ],
   "source": [
    "print(classification_report(y_test, y_pred_lr))\n",
    "B_report_lr = pd.DataFrame(classification_report(y_test, y_pred_lr, output_dict=True))"
   ]
  },
  {
   "cell_type": "code",
   "execution_count": 59,
   "metadata": {},
   "outputs": [],
   "source": [
    "for i, name in enumerate(B_report_lr.columns):\n",
    "  B_report_lr = B_report_lr.rename(columns={(B_report_lr.iloc[:,i].name): ('LR_'+B_report_lr.iloc[:,i].name)})\n"
   ]
  },
  {
   "cell_type": "code",
   "execution_count": 60,
   "metadata": {},
   "outputs": [
    {
     "data": {
      "text/html": [
       "<div>\n",
       "<style scoped>\n",
       "    .dataframe tbody tr th:only-of-type {\n",
       "        vertical-align: middle;\n",
       "    }\n",
       "\n",
       "    .dataframe tbody tr th {\n",
       "        vertical-align: top;\n",
       "    }\n",
       "\n",
       "    .dataframe thead th {\n",
       "        text-align: right;\n",
       "    }\n",
       "</style>\n",
       "<table border=\"1\" class=\"dataframe\">\n",
       "  <thead>\n",
       "    <tr style=\"text-align: right;\">\n",
       "      <th></th>\n",
       "      <th>RF_0</th>\n",
       "      <th>RF_1</th>\n",
       "      <th>RF_accuracy</th>\n",
       "      <th>RF_macro avg</th>\n",
       "      <th>RF_weighted avg</th>\n",
       "    </tr>\n",
       "  </thead>\n",
       "  <tbody>\n",
       "    <tr>\n",
       "      <th>precision</th>\n",
       "      <td>0.798565</td>\n",
       "      <td>0.689714</td>\n",
       "      <td>0.760896</td>\n",
       "      <td>0.744140</td>\n",
       "      <td>0.758246</td>\n",
       "    </tr>\n",
       "    <tr>\n",
       "      <th>recall</th>\n",
       "      <td>0.829446</td>\n",
       "      <td>0.644381</td>\n",
       "      <td>0.760896</td>\n",
       "      <td>0.736913</td>\n",
       "      <td>0.760896</td>\n",
       "    </tr>\n",
       "    <tr>\n",
       "      <th>f1-score</th>\n",
       "      <td>0.813713</td>\n",
       "      <td>0.666277</td>\n",
       "      <td>0.760896</td>\n",
       "      <td>0.739995</td>\n",
       "      <td>0.759101</td>\n",
       "    </tr>\n",
       "    <tr>\n",
       "      <th>support</th>\n",
       "      <td>22550.000000</td>\n",
       "      <td>13267.000000</td>\n",
       "      <td>0.760896</td>\n",
       "      <td>35817.000000</td>\n",
       "      <td>35817.000000</td>\n",
       "    </tr>\n",
       "  </tbody>\n",
       "</table>\n",
       "</div>"
      ],
      "text/plain": [
       "                   RF_0          RF_1  RF_accuracy  RF_macro avg  \\\n",
       "precision      0.798565      0.689714     0.760896      0.744140   \n",
       "recall         0.829446      0.644381     0.760896      0.736913   \n",
       "f1-score       0.813713      0.666277     0.760896      0.739995   \n",
       "support    22550.000000  13267.000000     0.760896  35817.000000   \n",
       "\n",
       "           RF_weighted avg  \n",
       "precision         0.758246  \n",
       "recall            0.760896  \n",
       "f1-score          0.759101  \n",
       "support       35817.000000  "
      ]
     },
     "execution_count": 60,
     "metadata": {},
     "output_type": "execute_result"
    }
   ],
   "source": [
    "B_report_lr"
   ]
  },
  {
   "cell_type": "markdown",
   "metadata": {},
   "source": [
    "Utilizing Multi Layer Perceptron algorythm with RandomizedGridSearch in pipeline, scaling reducing, ballancing:"
   ]
  },
  {
   "cell_type": "code",
   "execution_count": 61,
   "metadata": {},
   "outputs": [
    {
     "name": "stdout",
     "output_type": "stream",
     "text": [
      "Fitting 5 folds for each of 6 candidates, totalling 30 fits\n",
      "[CV 1/5] END MLP__activation=relu, MLP__batch_size=32, MLP__hidden_layer_sizes=8, MLP__max_iter=1000, MLP__random_state=42, MLP__solver=adam, pca__n_components=5;, score=0.802 total time=  23.8s\n",
      "[CV 2/5] END MLP__activation=relu, MLP__batch_size=32, MLP__hidden_layer_sizes=8, MLP__max_iter=1000, MLP__random_state=42, MLP__solver=adam, pca__n_components=5;, score=0.804 total time=  20.0s\n",
      "[CV 3/5] END MLP__activation=relu, MLP__batch_size=32, MLP__hidden_layer_sizes=8, MLP__max_iter=1000, MLP__random_state=42, MLP__solver=adam, pca__n_components=5;, score=0.802 total time= 1.0min\n",
      "[CV 4/5] END MLP__activation=relu, MLP__batch_size=32, MLP__hidden_layer_sizes=8, MLP__max_iter=1000, MLP__random_state=42, MLP__solver=adam, pca__n_components=5;, score=0.805 total time=  18.9s\n",
      "[CV 5/5] END MLP__activation=relu, MLP__batch_size=32, MLP__hidden_layer_sizes=8, MLP__max_iter=1000, MLP__random_state=42, MLP__solver=adam, pca__n_components=5;, score=0.806 total time=  39.4s\n",
      "[CV 1/5] END MLP__activation=relu, MLP__batch_size=32, MLP__hidden_layer_sizes=8, MLP__max_iter=1000, MLP__random_state=42, MLP__solver=adam, pca__n_components=10;, score=0.855 total time= 1.4min\n",
      "[CV 2/5] END MLP__activation=relu, MLP__batch_size=32, MLP__hidden_layer_sizes=8, MLP__max_iter=1000, MLP__random_state=42, MLP__solver=adam, pca__n_components=10;, score=0.850 total time= 1.0min\n",
      "[CV 3/5] END MLP__activation=relu, MLP__batch_size=32, MLP__hidden_layer_sizes=8, MLP__max_iter=1000, MLP__random_state=42, MLP__solver=adam, pca__n_components=10;, score=0.854 total time= 2.1min\n",
      "[CV 4/5] END MLP__activation=relu, MLP__batch_size=32, MLP__hidden_layer_sizes=8, MLP__max_iter=1000, MLP__random_state=42, MLP__solver=adam, pca__n_components=10;, score=0.856 total time= 1.6min\n",
      "[CV 5/5] END MLP__activation=relu, MLP__batch_size=32, MLP__hidden_layer_sizes=8, MLP__max_iter=1000, MLP__random_state=42, MLP__solver=adam, pca__n_components=10;, score=0.852 total time= 2.0min\n",
      "[CV 1/5] END MLP__activation=relu, MLP__batch_size=32, MLP__hidden_layer_sizes=8, MLP__max_iter=1000, MLP__random_state=42, MLP__solver=adam, pca__n_components=20;, score=0.905 total time= 3.2min\n",
      "[CV 2/5] END MLP__activation=relu, MLP__batch_size=32, MLP__hidden_layer_sizes=8, MLP__max_iter=1000, MLP__random_state=42, MLP__solver=adam, pca__n_components=20;, score=0.908 total time= 1.3min\n",
      "[CV 3/5] END MLP__activation=relu, MLP__batch_size=32, MLP__hidden_layer_sizes=8, MLP__max_iter=1000, MLP__random_state=42, MLP__solver=adam, pca__n_components=20;, score=0.903 total time= 2.2min\n",
      "[CV 4/5] END MLP__activation=relu, MLP__batch_size=32, MLP__hidden_layer_sizes=8, MLP__max_iter=1000, MLP__random_state=42, MLP__solver=adam, pca__n_components=20;, score=0.905 total time= 2.6min\n",
      "[CV 5/5] END MLP__activation=relu, MLP__batch_size=32, MLP__hidden_layer_sizes=8, MLP__max_iter=1000, MLP__random_state=42, MLP__solver=adam, pca__n_components=20;, score=0.903 total time= 2.0min\n",
      "[CV 1/5] END MLP__activation=relu, MLP__batch_size=32, MLP__hidden_layer_sizes=16, MLP__max_iter=1000, MLP__random_state=42, MLP__solver=adam, pca__n_components=5;, score=0.814 total time=  53.5s\n",
      "[CV 2/5] END MLP__activation=relu, MLP__batch_size=32, MLP__hidden_layer_sizes=16, MLP__max_iter=1000, MLP__random_state=42, MLP__solver=adam, pca__n_components=5;, score=0.817 total time=  48.0s\n",
      "[CV 3/5] END MLP__activation=relu, MLP__batch_size=32, MLP__hidden_layer_sizes=16, MLP__max_iter=1000, MLP__random_state=42, MLP__solver=adam, pca__n_components=5;, score=0.816 total time=  48.7s\n",
      "[CV 4/5] END MLP__activation=relu, MLP__batch_size=32, MLP__hidden_layer_sizes=16, MLP__max_iter=1000, MLP__random_state=42, MLP__solver=adam, pca__n_components=5;, score=0.818 total time=  57.9s\n",
      "[CV 5/5] END MLP__activation=relu, MLP__batch_size=32, MLP__hidden_layer_sizes=16, MLP__max_iter=1000, MLP__random_state=42, MLP__solver=adam, pca__n_components=5;, score=0.819 total time= 1.1min\n",
      "[CV 1/5] END MLP__activation=relu, MLP__batch_size=32, MLP__hidden_layer_sizes=16, MLP__max_iter=1000, MLP__random_state=42, MLP__solver=adam, pca__n_components=10;, score=0.864 total time= 1.1min\n",
      "[CV 2/5] END MLP__activation=relu, MLP__batch_size=32, MLP__hidden_layer_sizes=16, MLP__max_iter=1000, MLP__random_state=42, MLP__solver=adam, pca__n_components=10;, score=0.869 total time= 2.2min\n",
      "[CV 3/5] END MLP__activation=relu, MLP__batch_size=32, MLP__hidden_layer_sizes=16, MLP__max_iter=1000, MLP__random_state=42, MLP__solver=adam, pca__n_components=10;, score=0.869 total time= 1.6min\n",
      "[CV 4/5] END MLP__activation=relu, MLP__batch_size=32, MLP__hidden_layer_sizes=16, MLP__max_iter=1000, MLP__random_state=42, MLP__solver=adam, pca__n_components=10;, score=0.869 total time= 2.4min\n",
      "[CV 5/5] END MLP__activation=relu, MLP__batch_size=32, MLP__hidden_layer_sizes=16, MLP__max_iter=1000, MLP__random_state=42, MLP__solver=adam, pca__n_components=10;, score=0.871 total time= 1.7min\n",
      "[CV 1/5] END MLP__activation=relu, MLP__batch_size=32, MLP__hidden_layer_sizes=16, MLP__max_iter=1000, MLP__random_state=42, MLP__solver=adam, pca__n_components=20;, score=0.915 total time= 2.1min\n",
      "[CV 2/5] END MLP__activation=relu, MLP__batch_size=32, MLP__hidden_layer_sizes=16, MLP__max_iter=1000, MLP__random_state=42, MLP__solver=adam, pca__n_components=20;, score=0.915 total time= 2.8min\n",
      "[CV 3/5] END MLP__activation=relu, MLP__batch_size=32, MLP__hidden_layer_sizes=16, MLP__max_iter=1000, MLP__random_state=42, MLP__solver=adam, pca__n_components=20;, score=0.916 total time= 1.6min\n",
      "[CV 4/5] END MLP__activation=relu, MLP__batch_size=32, MLP__hidden_layer_sizes=16, MLP__max_iter=1000, MLP__random_state=42, MLP__solver=adam, pca__n_components=20;, score=0.915 total time= 1.9min\n",
      "[CV 5/5] END MLP__activation=relu, MLP__batch_size=32, MLP__hidden_layer_sizes=16, MLP__max_iter=1000, MLP__random_state=42, MLP__solver=adam, pca__n_components=20;, score=0.918 total time= 1.5min\n",
      "Cross-validation score: 0.9159840458354415\n",
      "Test score: 0.8955523089899968\n"
     ]
    }
   ],
   "source": [
    "pipeline = imbpipeline(steps = [['scaler', scaler],\n",
    "                                ['pca', pca],\n",
    "                                ['smote', SMOTEEN],\n",
    "                                ['MLP', MLPClassifier()]])\n",
    "\n",
    "stratified_kfold = StratifiedKFold(n_splits=5,\n",
    "                                       shuffle=True,\n",
    "                                       random_state=13)\n",
    "    \n",
    "param_grid = {'MLP__hidden_layer_sizes':[8, 16],\n",
    "             'MLP__activation': ['relu'],\n",
    "              'MLP__solver': ['adam'],\n",
    "              'MLP__random_state': [42],\n",
    "              'MLP__max_iter': [1000],\n",
    "              'MLP__batch_size': [32],\n",
    "              'pca__n_components': [5, 10, 20]\n",
    "             }\n",
    "                                                                 \n",
    "search_MLP = GridSearchCV(estimator=pipeline,\n",
    "                           param_grid=param_grid,\n",
    "                           scoring='roc_auc',\n",
    "                           cv=stratified_kfold,\n",
    "                           verbose=3,\n",
    "                           #n_jobs=3\n",
    "                        )\n",
    "\n",
    "search_MLP.fit(X_train, y_train)\n",
    "cv_score = search_MLP.best_score_\n",
    "test_score = search_MLP.score(X_test, y_test)\n",
    "print(f'Cross-validation score: {cv_score}\\nTest score: {test_score}')"
   ]
  },
  {
   "cell_type": "markdown",
   "metadata": {},
   "source": [
    "Achieving scores of classification, saving accuracy, recall and F1 score in data frame:"
   ]
  },
  {
   "cell_type": "code",
   "execution_count": 64,
   "metadata": {},
   "outputs": [
    {
     "name": "stdout",
     "output_type": "stream",
     "text": [
      "              precision    recall  f1-score   support\n",
      "\n",
      "           0       0.84      0.90      0.87     22550\n",
      "           1       0.80      0.70      0.75     13267\n",
      "\n",
      "    accuracy                           0.83     35817\n",
      "   macro avg       0.82      0.80      0.81     35817\n",
      "weighted avg       0.82      0.83      0.82     35817\n",
      "\n"
     ]
    }
   ],
   "source": [
    "y_pred_mlp = search_MLP.predict(X_test)\n",
    "print(classification_report(y_test, y_pred_mlp))\n",
    "B_report_mlp = pd.DataFrame(classification_report(y_test, y_pred_mlp, output_dict=True))"
   ]
  },
  {
   "cell_type": "code",
   "execution_count": 65,
   "metadata": {},
   "outputs": [],
   "source": [
    "for i, name in enumerate(B_report_mlp.columns):\n",
    "  B_report_mlp = B_report_mlp.rename(columns={(B_report_mlp.iloc[:,i].name): ('MLP_'+B_report_mlp.iloc[:,i].name)})\n"
   ]
  },
  {
   "cell_type": "code",
   "execution_count": 66,
   "metadata": {},
   "outputs": [
    {
     "data": {
      "text/html": [
       "<div>\n",
       "<style scoped>\n",
       "    .dataframe tbody tr th:only-of-type {\n",
       "        vertical-align: middle;\n",
       "    }\n",
       "\n",
       "    .dataframe tbody tr th {\n",
       "        vertical-align: top;\n",
       "    }\n",
       "\n",
       "    .dataframe thead th {\n",
       "        text-align: right;\n",
       "    }\n",
       "</style>\n",
       "<table border=\"1\" class=\"dataframe\">\n",
       "  <thead>\n",
       "    <tr style=\"text-align: right;\">\n",
       "      <th></th>\n",
       "      <th>RF_0</th>\n",
       "      <th>RF_1</th>\n",
       "      <th>RF_accuracy</th>\n",
       "      <th>RF_macro avg</th>\n",
       "      <th>RF_weighted avg</th>\n",
       "    </tr>\n",
       "  </thead>\n",
       "  <tbody>\n",
       "    <tr>\n",
       "      <th>precision</th>\n",
       "      <td>0.837387</td>\n",
       "      <td>0.799829</td>\n",
       "      <td>0.825139</td>\n",
       "      <td>0.818608</td>\n",
       "      <td>0.823475</td>\n",
       "    </tr>\n",
       "    <tr>\n",
       "      <th>recall</th>\n",
       "      <td>0.896319</td>\n",
       "      <td>0.704153</td>\n",
       "      <td>0.825139</td>\n",
       "      <td>0.800236</td>\n",
       "      <td>0.825139</td>\n",
       "    </tr>\n",
       "    <tr>\n",
       "      <th>f1-score</th>\n",
       "      <td>0.865851</td>\n",
       "      <td>0.748948</td>\n",
       "      <td>0.825139</td>\n",
       "      <td>0.807400</td>\n",
       "      <td>0.822549</td>\n",
       "    </tr>\n",
       "    <tr>\n",
       "      <th>support</th>\n",
       "      <td>22550.000000</td>\n",
       "      <td>13267.000000</td>\n",
       "      <td>0.825139</td>\n",
       "      <td>35817.000000</td>\n",
       "      <td>35817.000000</td>\n",
       "    </tr>\n",
       "  </tbody>\n",
       "</table>\n",
       "</div>"
      ],
      "text/plain": [
       "                   RF_0          RF_1  RF_accuracy  RF_macro avg  \\\n",
       "precision      0.837387      0.799829     0.825139      0.818608   \n",
       "recall         0.896319      0.704153     0.825139      0.800236   \n",
       "f1-score       0.865851      0.748948     0.825139      0.807400   \n",
       "support    22550.000000  13267.000000     0.825139  35817.000000   \n",
       "\n",
       "           RF_weighted avg  \n",
       "precision         0.823475  \n",
       "recall            0.825139  \n",
       "f1-score          0.822549  \n",
       "support       35817.000000  "
      ]
     },
     "execution_count": 66,
     "metadata": {},
     "output_type": "execute_result"
    }
   ],
   "source": [
    "B_report_mlp"
   ]
  },
  {
   "cell_type": "markdown",
   "metadata": {},
   "source": [
    "Creating Data Frame containing all six classifiers results:"
   ]
  },
  {
   "cell_type": "code",
   "execution_count": 67,
   "metadata": {},
   "outputs": [],
   "source": [
    "B_results = pd.concat([B_report_rf, \n",
    "                       B_report_dtc, \n",
    "                       B_report_svc, \n",
    "                       B_report_xgb, \n",
    "                       B_report_rl, \n",
    "                       B_report_mlp], \n",
    "                      axis=1)"
   ]
  },
  {
   "cell_type": "code",
   "execution_count": 69,
   "metadata": {},
   "outputs": [
    {
     "data": {
      "text/html": [
       "<div>\n",
       "<style scoped>\n",
       "    .dataframe tbody tr th:only-of-type {\n",
       "        vertical-align: middle;\n",
       "    }\n",
       "\n",
       "    .dataframe tbody tr th {\n",
       "        vertical-align: top;\n",
       "    }\n",
       "\n",
       "    .dataframe thead th {\n",
       "        text-align: right;\n",
       "    }\n",
       "</style>\n",
       "<table border=\"1\" class=\"dataframe\">\n",
       "  <thead>\n",
       "    <tr style=\"text-align: right;\">\n",
       "      <th></th>\n",
       "      <th>RF_0</th>\n",
       "      <th>RF_1</th>\n",
       "      <th>RF_accuracy</th>\n",
       "      <th>RF_macro avg</th>\n",
       "      <th>RF_weighted avg</th>\n",
       "      <th>RF_0</th>\n",
       "      <th>RF_1</th>\n",
       "      <th>RF_accuracy</th>\n",
       "      <th>RF_macro avg</th>\n",
       "      <th>RF_weighted avg</th>\n",
       "      <th>...</th>\n",
       "      <th>0</th>\n",
       "      <th>1</th>\n",
       "      <th>accuracy</th>\n",
       "      <th>macro avg</th>\n",
       "      <th>weighted avg</th>\n",
       "      <th>RF_0</th>\n",
       "      <th>RF_1</th>\n",
       "      <th>RF_accuracy</th>\n",
       "      <th>RF_macro avg</th>\n",
       "      <th>RF_weighted avg</th>\n",
       "    </tr>\n",
       "  </thead>\n",
       "  <tbody>\n",
       "    <tr>\n",
       "      <th>f1-score</th>\n",
       "      <td>0.866962</td>\n",
       "      <td>0.736960</td>\n",
       "      <td>0.823296</td>\n",
       "      <td>0.801961</td>\n",
       "      <td>0.818808</td>\n",
       "      <td>0.779467</td>\n",
       "      <td>0.645884</td>\n",
       "      <td>0.728202</td>\n",
       "      <td>0.712675</td>\n",
       "      <td>0.729986</td>\n",
       "      <td>...</td>\n",
       "      <td>0.813713</td>\n",
       "      <td>0.666277</td>\n",
       "      <td>0.760896</td>\n",
       "      <td>0.739995</td>\n",
       "      <td>0.759101</td>\n",
       "      <td>0.865851</td>\n",
       "      <td>0.748948</td>\n",
       "      <td>0.825139</td>\n",
       "      <td>0.807400</td>\n",
       "      <td>0.822549</td>\n",
       "    </tr>\n",
       "    <tr>\n",
       "      <th>support</th>\n",
       "      <td>22550.000000</td>\n",
       "      <td>13267.000000</td>\n",
       "      <td>0.823296</td>\n",
       "      <td>35817.000000</td>\n",
       "      <td>35817.000000</td>\n",
       "      <td>22550.000000</td>\n",
       "      <td>13267.000000</td>\n",
       "      <td>0.728202</td>\n",
       "      <td>35817.000000</td>\n",
       "      <td>35817.000000</td>\n",
       "      <td>...</td>\n",
       "      <td>22550.000000</td>\n",
       "      <td>13267.000000</td>\n",
       "      <td>0.760896</td>\n",
       "      <td>35817.000000</td>\n",
       "      <td>35817.000000</td>\n",
       "      <td>22550.000000</td>\n",
       "      <td>13267.000000</td>\n",
       "      <td>0.825139</td>\n",
       "      <td>35817.000000</td>\n",
       "      <td>35817.000000</td>\n",
       "    </tr>\n",
       "    <tr>\n",
       "      <th>precision</th>\n",
       "      <td>0.824122</td>\n",
       "      <td>0.821382</td>\n",
       "      <td>0.823296</td>\n",
       "      <td>0.822752</td>\n",
       "      <td>0.823107</td>\n",
       "      <td>0.796740</td>\n",
       "      <td>0.624156</td>\n",
       "      <td>0.728202</td>\n",
       "      <td>0.710448</td>\n",
       "      <td>0.732813</td>\n",
       "      <td>...</td>\n",
       "      <td>0.798565</td>\n",
       "      <td>0.689714</td>\n",
       "      <td>0.760896</td>\n",
       "      <td>0.744140</td>\n",
       "      <td>0.758246</td>\n",
       "      <td>0.837387</td>\n",
       "      <td>0.799829</td>\n",
       "      <td>0.825139</td>\n",
       "      <td>0.818608</td>\n",
       "      <td>0.823475</td>\n",
       "    </tr>\n",
       "    <tr>\n",
       "      <th>recall</th>\n",
       "      <td>0.914501</td>\n",
       "      <td>0.668275</td>\n",
       "      <td>0.823296</td>\n",
       "      <td>0.791388</td>\n",
       "      <td>0.823296</td>\n",
       "      <td>0.762927</td>\n",
       "      <td>0.669179</td>\n",
       "      <td>0.728202</td>\n",
       "      <td>0.716053</td>\n",
       "      <td>0.728202</td>\n",
       "      <td>...</td>\n",
       "      <td>0.829446</td>\n",
       "      <td>0.644381</td>\n",
       "      <td>0.760896</td>\n",
       "      <td>0.736913</td>\n",
       "      <td>0.760896</td>\n",
       "      <td>0.896319</td>\n",
       "      <td>0.704153</td>\n",
       "      <td>0.825139</td>\n",
       "      <td>0.800236</td>\n",
       "      <td>0.825139</td>\n",
       "    </tr>\n",
       "  </tbody>\n",
       "</table>\n",
       "<p>4 rows × 30 columns</p>\n",
       "</div>"
      ],
      "text/plain": [
       "                   RF_0          RF_1  RF_accuracy  RF_macro avg  \\\n",
       "f1-score       0.866962      0.736960     0.823296      0.801961   \n",
       "support    22550.000000  13267.000000     0.823296  35817.000000   \n",
       "precision      0.824122      0.821382     0.823296      0.822752   \n",
       "recall         0.914501      0.668275     0.823296      0.791388   \n",
       "\n",
       "           RF_weighted avg          RF_0          RF_1  RF_accuracy  \\\n",
       "f1-score          0.818808      0.779467      0.645884     0.728202   \n",
       "support       35817.000000  22550.000000  13267.000000     0.728202   \n",
       "precision         0.823107      0.796740      0.624156     0.728202   \n",
       "recall            0.823296      0.762927      0.669179     0.728202   \n",
       "\n",
       "           RF_macro avg  RF_weighted avg  ...             0             1  \\\n",
       "f1-score       0.712675         0.729986  ...      0.813713      0.666277   \n",
       "support    35817.000000     35817.000000  ...  22550.000000  13267.000000   \n",
       "precision      0.710448         0.732813  ...      0.798565      0.689714   \n",
       "recall         0.716053         0.728202  ...      0.829446      0.644381   \n",
       "\n",
       "           accuracy     macro avg  weighted avg          RF_0          RF_1  \\\n",
       "f1-score   0.760896      0.739995      0.759101      0.865851      0.748948   \n",
       "support    0.760896  35817.000000  35817.000000  22550.000000  13267.000000   \n",
       "precision  0.760896      0.744140      0.758246      0.837387      0.799829   \n",
       "recall     0.760896      0.736913      0.760896      0.896319      0.704153   \n",
       "\n",
       "           RF_accuracy  RF_macro avg  RF_weighted avg  \n",
       "f1-score      0.825139      0.807400         0.822549  \n",
       "support       0.825139  35817.000000     35817.000000  \n",
       "precision     0.825139      0.818608         0.823475  \n",
       "recall        0.825139      0.800236         0.825139  \n",
       "\n",
       "[4 rows x 30 columns]"
      ]
     },
     "execution_count": 69,
     "metadata": {},
     "output_type": "execute_result"
    }
   ],
   "source": [
    "B_results.sample(4)"
   ]
  },
  {
   "cell_type": "markdown",
   "metadata": {},
   "source": [
    "Saving results in a file:"
   ]
  },
  {
   "cell_type": "code",
   "execution_count": 70,
   "metadata": {},
   "outputs": [],
   "source": [
    "B_results.to_pickle(\"data/B_dataset_results.pkl\")"
   ]
  },
  {
   "cell_type": "markdown",
   "metadata": {},
   "source": [
    "Loading and presenting saved Data Frame:"
   ]
  },
  {
   "cell_type": "code",
   "execution_count": null,
   "metadata": {},
   "outputs": [],
   "source": [
    "B_results = pickle.load(\"data/B_dataset_results.pkl\")"
   ]
  },
  {
   "cell_type": "markdown",
   "metadata": {},
   "source": [
    "# Summary"
   ]
  },
  {
   "cell_type": "raw",
   "metadata": {},
   "source": [
    "A_results- dataset before binning\n",
    "B_results- dataset after binning"
   ]
  },
  {
   "cell_type": "code",
   "execution_count": 4,
   "metadata": {},
   "outputs": [],
   "source": [
    "c_list = [\"RF\", \"DTC\", \"SVC\", \"XGB\", \"LR\", \"MLP\"]"
   ]
  },
  {
   "cell_type": "markdown",
   "metadata": {},
   "source": [
    "Loading results from not binned dataset from pickle file:"
   ]
  },
  {
   "cell_type": "code",
   "execution_count": null,
   "metadata": {},
   "outputs": [],
   "source": [
    "A_results = pd.read_pickle(\"data/A_dataset_results.pkl\")"
   ]
  },
  {
   "cell_type": "code",
   "execution_count": 78,
   "metadata": {},
   "outputs": [
    {
     "data": {
      "text/html": [
       "<div>\n",
       "<style scoped>\n",
       "    .dataframe tbody tr th:only-of-type {\n",
       "        vertical-align: middle;\n",
       "    }\n",
       "\n",
       "    .dataframe tbody tr th {\n",
       "        vertical-align: top;\n",
       "    }\n",
       "\n",
       "    .dataframe thead th {\n",
       "        text-align: right;\n",
       "    }\n",
       "</style>\n",
       "<table border=\"1\" class=\"dataframe\">\n",
       "  <thead>\n",
       "    <tr style=\"text-align: right;\">\n",
       "      <th></th>\n",
       "      <th>RF_0</th>\n",
       "      <th>RF_1</th>\n",
       "      <th>RF_accuracy</th>\n",
       "      <th>RF_macro avg</th>\n",
       "      <th>RF_weighted avg</th>\n",
       "      <th>DTC_0</th>\n",
       "      <th>DTC_1</th>\n",
       "      <th>DTC_accuracy</th>\n",
       "      <th>DTC_macro avg</th>\n",
       "      <th>DTC_weighted avg</th>\n",
       "      <th>...</th>\n",
       "      <th>LR_0</th>\n",
       "      <th>LR_1</th>\n",
       "      <th>LR_accuracy</th>\n",
       "      <th>LR_macro avg</th>\n",
       "      <th>LR_weighted avg</th>\n",
       "      <th>MLP_0</th>\n",
       "      <th>MLP_1</th>\n",
       "      <th>MLP_accuracy</th>\n",
       "      <th>MLP_macro avg</th>\n",
       "      <th>MLP_weighted avg</th>\n",
       "    </tr>\n",
       "  </thead>\n",
       "  <tbody>\n",
       "    <tr>\n",
       "      <th>precision</th>\n",
       "      <td>0.798638</td>\n",
       "      <td>0.791443</td>\n",
       "      <td>0.796577</td>\n",
       "      <td>0.795041</td>\n",
       "      <td>0.795973</td>\n",
       "      <td>0.801758</td>\n",
       "      <td>0.639499</td>\n",
       "      <td>0.738448</td>\n",
       "      <td>0.720629</td>\n",
       "      <td>0.741656</td>\n",
       "      <td>...</td>\n",
       "      <td>0.830833</td>\n",
       "      <td>0.651304</td>\n",
       "      <td>0.755898</td>\n",
       "      <td>0.741069</td>\n",
       "      <td>0.764334</td>\n",
       "      <td>0.826294</td>\n",
       "      <td>0.776390</td>\n",
       "      <td>0.810006</td>\n",
       "      <td>0.801342</td>\n",
       "      <td>0.807809</td>\n",
       "    </tr>\n",
       "    <tr>\n",
       "      <th>recall</th>\n",
       "      <td>0.905100</td>\n",
       "      <td>0.612120</td>\n",
       "      <td>0.796577</td>\n",
       "      <td>0.758610</td>\n",
       "      <td>0.796577</td>\n",
       "      <td>0.776585</td>\n",
       "      <td>0.673626</td>\n",
       "      <td>0.738448</td>\n",
       "      <td>0.725106</td>\n",
       "      <td>0.738448</td>\n",
       "      <td>...</td>\n",
       "      <td>0.768825</td>\n",
       "      <td>0.733926</td>\n",
       "      <td>0.755898</td>\n",
       "      <td>0.751376</td>\n",
       "      <td>0.755898</td>\n",
       "      <td>0.884080</td>\n",
       "      <td>0.684103</td>\n",
       "      <td>0.810006</td>\n",
       "      <td>0.784092</td>\n",
       "      <td>0.810006</td>\n",
       "    </tr>\n",
       "    <tr>\n",
       "      <th>f1-score</th>\n",
       "      <td>0.848543</td>\n",
       "      <td>0.690326</td>\n",
       "      <td>0.796577</td>\n",
       "      <td>0.769435</td>\n",
       "      <td>0.789938</td>\n",
       "      <td>0.788971</td>\n",
       "      <td>0.656119</td>\n",
       "      <td>0.738448</td>\n",
       "      <td>0.722545</td>\n",
       "      <td>0.739761</td>\n",
       "      <td>...</td>\n",
       "      <td>0.798627</td>\n",
       "      <td>0.690151</td>\n",
       "      <td>0.755898</td>\n",
       "      <td>0.744389</td>\n",
       "      <td>0.758447</td>\n",
       "      <td>0.854211</td>\n",
       "      <td>0.727331</td>\n",
       "      <td>0.810006</td>\n",
       "      <td>0.790771</td>\n",
       "      <td>0.807213</td>\n",
       "    </tr>\n",
       "    <tr>\n",
       "      <th>support</th>\n",
       "      <td>22550.000000</td>\n",
       "      <td>13267.000000</td>\n",
       "      <td>0.796577</td>\n",
       "      <td>35817.000000</td>\n",
       "      <td>35817.000000</td>\n",
       "      <td>22550.000000</td>\n",
       "      <td>13267.000000</td>\n",
       "      <td>0.738448</td>\n",
       "      <td>35817.000000</td>\n",
       "      <td>35817.000000</td>\n",
       "      <td>...</td>\n",
       "      <td>22550.000000</td>\n",
       "      <td>13267.000000</td>\n",
       "      <td>0.755898</td>\n",
       "      <td>35817.000000</td>\n",
       "      <td>35817.000000</td>\n",
       "      <td>22550.000000</td>\n",
       "      <td>13267.000000</td>\n",
       "      <td>0.810006</td>\n",
       "      <td>35817.000000</td>\n",
       "      <td>35817.000000</td>\n",
       "    </tr>\n",
       "  </tbody>\n",
       "</table>\n",
       "<p>4 rows × 30 columns</p>\n",
       "</div>"
      ],
      "text/plain": [
       "                   RF_0          RF_1  RF_accuracy  RF_macro avg  \\\n",
       "precision      0.798638      0.791443     0.796577      0.795041   \n",
       "recall         0.905100      0.612120     0.796577      0.758610   \n",
       "f1-score       0.848543      0.690326     0.796577      0.769435   \n",
       "support    22550.000000  13267.000000     0.796577  35817.000000   \n",
       "\n",
       "           RF_weighted avg         DTC_0         DTC_1  DTC_accuracy  \\\n",
       "precision         0.795973      0.801758      0.639499      0.738448   \n",
       "recall            0.796577      0.776585      0.673626      0.738448   \n",
       "f1-score          0.789938      0.788971      0.656119      0.738448   \n",
       "support       35817.000000  22550.000000  13267.000000      0.738448   \n",
       "\n",
       "           DTC_macro avg  DTC_weighted avg  ...          LR_0          LR_1  \\\n",
       "precision       0.720629          0.741656  ...      0.830833      0.651304   \n",
       "recall          0.725106          0.738448  ...      0.768825      0.733926   \n",
       "f1-score        0.722545          0.739761  ...      0.798627      0.690151   \n",
       "support     35817.000000      35817.000000  ...  22550.000000  13267.000000   \n",
       "\n",
       "           LR_accuracy  LR_macro avg  LR_weighted avg         MLP_0  \\\n",
       "precision     0.755898      0.741069         0.764334      0.826294   \n",
       "recall        0.755898      0.751376         0.755898      0.884080   \n",
       "f1-score      0.755898      0.744389         0.758447      0.854211   \n",
       "support       0.755898  35817.000000     35817.000000  22550.000000   \n",
       "\n",
       "                  MLP_1  MLP_accuracy  MLP_macro avg  MLP_weighted avg  \n",
       "precision      0.776390      0.810006       0.801342          0.807809  \n",
       "recall         0.684103      0.810006       0.784092          0.810006  \n",
       "f1-score       0.727331      0.810006       0.790771          0.807213  \n",
       "support    13267.000000      0.810006   35817.000000      35817.000000  \n",
       "\n",
       "[4 rows x 30 columns]"
      ]
     },
     "execution_count": 78,
     "metadata": {},
     "output_type": "execute_result"
    }
   ],
   "source": [
    "A_results"
   ]
  },
  {
   "cell_type": "markdown",
   "metadata": {},
   "source": [
    "**Best model before binning data**"
   ]
  },
  {
   "cell_type": "markdown",
   "metadata": {},
   "source": [
    "Best f1-score:"
   ]
  },
  {
   "cell_type": "code",
   "execution_count": 51,
   "metadata": {
    "scrolled": true
   },
   "outputs": [
    {
     "name": "stdout",
     "output_type": "stream",
     "text": [
      "                  XGB_0\n",
      "precision      0.822499\n",
      "recall         0.901685\n",
      "f1-score       0.860274\n",
      "support    22550.000000\n",
      "                  XGB_1\n",
      "precision      0.800198\n",
      "recall         0.669255\n",
      "f1-score       0.728892\n",
      "support    13267.000000\n"
     ]
    }
   ],
   "source": [
    "predi_0s = A_results.filter(like='0')\n",
    "max_f1 = predi_0s[predi_0s.values==(predi_0s.loc[\"f1-score\",:]).max()]\n",
    "max_0s = predi_0s[max_f1.idxmax(axis=1)]\n",
    "\n",
    "predi_ones = A_results.filter(like='1')\n",
    "max_f1 = predi_ones[predi_ones.values==(predi_ones.loc[\"f1-score\",:]).max()]\n",
    "max_ones = predi_ones[max_f1.idxmax(axis=1)]\n",
    "print(max_0s)\n",
    "print(max_ones)"
   ]
  },
  {
   "cell_type": "markdown",
   "metadata": {},
   "source": [
    "Predicting hotel guests who cancel their reservation I discovered that from all six models with given hyperparameters one achieved highest f1-score witch is a harmonic mean between precision and recall. Shows how precise model managed to fit into given dataset. Precision tells how acurate model was predicting cancelation(1) in theory(on training part of the dataset). And recall metric tells how well model made it on test data. In scoretable above is shown that model predicted only 67% true cancelations right, when its training score was on level of 80%. To increase effectiveness I should consider do more experiments with hyperparameters of winning model and models with close scores to it, in this case XGBClassifier is the winner.\n",
    "In situation when consider 0's(not canceled) there is overfitting, precision number is smaller than recall what tells me that model done it better on test data than on training. In future to avoid overfitting I'll use regularization methods, in the case of XGBClassifier there are 3 hyperparameters to tune: alpha: l1 regularization, gamma: minimum loss reduction, lambda: l2 regularization."
   ]
  },
  {
   "cell_type": "markdown",
   "metadata": {},
   "source": [
    "Best precision score:"
   ]
  },
  {
   "cell_type": "code",
   "execution_count": 52,
   "metadata": {},
   "outputs": [
    {
     "name": "stdout",
     "output_type": "stream",
     "text": [
      "                   LR_0\n",
      "precision      0.830833\n",
      "recall         0.768825\n",
      "f1-score       0.798627\n",
      "support    22550.000000\n",
      "                  XGB_1\n",
      "precision      0.800198\n",
      "recall         0.669255\n",
      "f1-score       0.728892\n",
      "support    13267.000000\n"
     ]
    }
   ],
   "source": [
    "predi_0s = A_results.filter(like='0')\n",
    "max_prec = predi_0s[predi_0s.values==(predi_0s.loc[\"precision\",:]).max()]\n",
    "max_0s = predi_0s[max_prec.idxmax(axis=1)]\n",
    "\n",
    "predi_ones = A_results.filter(like='1')\n",
    "max_prec = predi_ones[predi_ones.values==(predi_ones.loc[\"precision\",:]).max()]\n",
    "max_ones = predi_ones[max_prec.idxmax(axis=1)]\n",
    "print(max_0s)\n",
    "print(max_ones)"
   ]
  },
  {
   "cell_type": "code",
   "execution_count": 77,
   "metadata": {},
   "outputs": [
    {
     "data": {
      "text/html": [
       "<div>\n",
       "<style scoped>\n",
       "    .dataframe tbody tr th:only-of-type {\n",
       "        vertical-align: middle;\n",
       "    }\n",
       "\n",
       "    .dataframe tbody tr th {\n",
       "        vertical-align: top;\n",
       "    }\n",
       "\n",
       "    .dataframe thead th {\n",
       "        text-align: right;\n",
       "    }\n",
       "</style>\n",
       "<table border=\"1\" class=\"dataframe\">\n",
       "  <thead>\n",
       "    <tr style=\"text-align: right;\">\n",
       "      <th></th>\n",
       "      <th>RF_0</th>\n",
       "      <th>RF_1</th>\n",
       "      <th>RF_accuracy</th>\n",
       "      <th>RF_macro avg</th>\n",
       "      <th>RF_weighted avg</th>\n",
       "      <th>RF_0</th>\n",
       "      <th>RF_1</th>\n",
       "      <th>RF_accuracy</th>\n",
       "      <th>RF_macro avg</th>\n",
       "      <th>RF_weighted avg</th>\n",
       "      <th>...</th>\n",
       "      <th>0</th>\n",
       "      <th>1</th>\n",
       "      <th>accuracy</th>\n",
       "      <th>macro avg</th>\n",
       "      <th>weighted avg</th>\n",
       "      <th>RF_0</th>\n",
       "      <th>RF_1</th>\n",
       "      <th>RF_accuracy</th>\n",
       "      <th>RF_macro avg</th>\n",
       "      <th>RF_weighted avg</th>\n",
       "    </tr>\n",
       "  </thead>\n",
       "  <tbody>\n",
       "    <tr>\n",
       "      <th>precision</th>\n",
       "      <td>0.824122</td>\n",
       "      <td>0.821382</td>\n",
       "      <td>0.823296</td>\n",
       "      <td>0.822752</td>\n",
       "      <td>0.823107</td>\n",
       "      <td>0.796740</td>\n",
       "      <td>0.624156</td>\n",
       "      <td>0.728202</td>\n",
       "      <td>0.710448</td>\n",
       "      <td>0.732813</td>\n",
       "      <td>...</td>\n",
       "      <td>0.798565</td>\n",
       "      <td>0.689714</td>\n",
       "      <td>0.760896</td>\n",
       "      <td>0.744140</td>\n",
       "      <td>0.758246</td>\n",
       "      <td>0.837387</td>\n",
       "      <td>0.799829</td>\n",
       "      <td>0.825139</td>\n",
       "      <td>0.818608</td>\n",
       "      <td>0.823475</td>\n",
       "    </tr>\n",
       "    <tr>\n",
       "      <th>recall</th>\n",
       "      <td>0.914501</td>\n",
       "      <td>0.668275</td>\n",
       "      <td>0.823296</td>\n",
       "      <td>0.791388</td>\n",
       "      <td>0.823296</td>\n",
       "      <td>0.762927</td>\n",
       "      <td>0.669179</td>\n",
       "      <td>0.728202</td>\n",
       "      <td>0.716053</td>\n",
       "      <td>0.728202</td>\n",
       "      <td>...</td>\n",
       "      <td>0.829446</td>\n",
       "      <td>0.644381</td>\n",
       "      <td>0.760896</td>\n",
       "      <td>0.736913</td>\n",
       "      <td>0.760896</td>\n",
       "      <td>0.896319</td>\n",
       "      <td>0.704153</td>\n",
       "      <td>0.825139</td>\n",
       "      <td>0.800236</td>\n",
       "      <td>0.825139</td>\n",
       "    </tr>\n",
       "    <tr>\n",
       "      <th>f1-score</th>\n",
       "      <td>0.866962</td>\n",
       "      <td>0.736960</td>\n",
       "      <td>0.823296</td>\n",
       "      <td>0.801961</td>\n",
       "      <td>0.818808</td>\n",
       "      <td>0.779467</td>\n",
       "      <td>0.645884</td>\n",
       "      <td>0.728202</td>\n",
       "      <td>0.712675</td>\n",
       "      <td>0.729986</td>\n",
       "      <td>...</td>\n",
       "      <td>0.813713</td>\n",
       "      <td>0.666277</td>\n",
       "      <td>0.760896</td>\n",
       "      <td>0.739995</td>\n",
       "      <td>0.759101</td>\n",
       "      <td>0.865851</td>\n",
       "      <td>0.748948</td>\n",
       "      <td>0.825139</td>\n",
       "      <td>0.807400</td>\n",
       "      <td>0.822549</td>\n",
       "    </tr>\n",
       "    <tr>\n",
       "      <th>support</th>\n",
       "      <td>22550.000000</td>\n",
       "      <td>13267.000000</td>\n",
       "      <td>0.823296</td>\n",
       "      <td>35817.000000</td>\n",
       "      <td>35817.000000</td>\n",
       "      <td>22550.000000</td>\n",
       "      <td>13267.000000</td>\n",
       "      <td>0.728202</td>\n",
       "      <td>35817.000000</td>\n",
       "      <td>35817.000000</td>\n",
       "      <td>...</td>\n",
       "      <td>22550.000000</td>\n",
       "      <td>13267.000000</td>\n",
       "      <td>0.760896</td>\n",
       "      <td>35817.000000</td>\n",
       "      <td>35817.000000</td>\n",
       "      <td>22550.000000</td>\n",
       "      <td>13267.000000</td>\n",
       "      <td>0.825139</td>\n",
       "      <td>35817.000000</td>\n",
       "      <td>35817.000000</td>\n",
       "    </tr>\n",
       "  </tbody>\n",
       "</table>\n",
       "<p>4 rows × 30 columns</p>\n",
       "</div>"
      ],
      "text/plain": [
       "                   RF_0          RF_1  RF_accuracy  RF_macro avg  \\\n",
       "precision      0.824122      0.821382     0.823296      0.822752   \n",
       "recall         0.914501      0.668275     0.823296      0.791388   \n",
       "f1-score       0.866962      0.736960     0.823296      0.801961   \n",
       "support    22550.000000  13267.000000     0.823296  35817.000000   \n",
       "\n",
       "           RF_weighted avg          RF_0          RF_1  RF_accuracy  \\\n",
       "precision         0.823107      0.796740      0.624156     0.728202   \n",
       "recall            0.823296      0.762927      0.669179     0.728202   \n",
       "f1-score          0.818808      0.779467      0.645884     0.728202   \n",
       "support       35817.000000  22550.000000  13267.000000     0.728202   \n",
       "\n",
       "           RF_macro avg  RF_weighted avg  ...             0             1  \\\n",
       "precision      0.710448         0.732813  ...      0.798565      0.689714   \n",
       "recall         0.716053         0.728202  ...      0.829446      0.644381   \n",
       "f1-score       0.712675         0.729986  ...      0.813713      0.666277   \n",
       "support    35817.000000     35817.000000  ...  22550.000000  13267.000000   \n",
       "\n",
       "           accuracy     macro avg  weighted avg          RF_0          RF_1  \\\n",
       "precision  0.760896      0.744140      0.758246      0.837387      0.799829   \n",
       "recall     0.760896      0.736913      0.760896      0.896319      0.704153   \n",
       "f1-score   0.760896      0.739995      0.759101      0.865851      0.748948   \n",
       "support    0.760896  35817.000000  35817.000000  22550.000000  13267.000000   \n",
       "\n",
       "           RF_accuracy  RF_macro avg  RF_weighted avg  \n",
       "precision     0.825139      0.818608         0.823475  \n",
       "recall        0.825139      0.800236         0.825139  \n",
       "f1-score      0.825139      0.807400         0.822549  \n",
       "support       0.825139  35817.000000     35817.000000  \n",
       "\n",
       "[4 rows x 30 columns]"
      ]
     },
     "execution_count": 77,
     "metadata": {},
     "output_type": "execute_result"
    }
   ],
   "source": [
    "B_results"
   ]
  },
  {
   "cell_type": "markdown",
   "metadata": {},
   "source": [
    "Renaming mistaken columns names:"
   ]
  },
  {
   "cell_type": "code",
   "execution_count": 41,
   "metadata": {},
   "outputs": [
    {
     "name": "stdout",
     "output_type": "stream",
     "text": [
      "['RF_0', 'RF_1', 'RF_accuracy', 'RF_macro avg', 'RF_weighted avg', 'DTC_0', 'DTC_1', 'DTC_accuracy', 'DTC_macro avg', 'DTC_weighted avg', 'SVC_0', 'SVC_1', 'SVC_accuracy', 'SVC_macro avg', 'SVC_weighted avg', 'XGB_0', 'XGB_1', 'XGB_accuracy', 'XGB_macro avg', 'XGB_weighted avg', 'LR_0', 'LR_1', 'LR_accuracy', 'LR_macro avg', 'LR_weighted avg', 'MLP_0', 'MLP_1', 'MLP_accuracy', 'MLP_macro avg', 'MLP_weighted avg']\n"
     ]
    }
   ],
   "source": [
    "names = []\n",
    "k = 0\n",
    "nr_col = 0\n",
    "for col in c_list:\n",
    "    for i in range(5):        \n",
    "        c_name = str(B_results.iloc[:, i].name)\n",
    "        for char in c_name:\n",
    "            if char!=\"_\":\n",
    "                c_name = c_name.replace(char, '')\n",
    "            else:\n",
    "                break    \n",
    "        names.append(col+c_name)\n",
    "        #names[str(i+k)] = (col+c_name)    \n",
    "    k+=5        \n",
    "print(names)\n",
    "\n",
    "B_results.columns = [names]\n",
    "#B_results.rename(columns=names, inplace=True) rename not working with dict!!\n",
    "        "
   ]
  },
  {
   "cell_type": "markdown",
   "metadata": {},
   "source": [
    "Columns after renaming:"
   ]
  },
  {
   "cell_type": "code",
   "execution_count": 43,
   "metadata": {},
   "outputs": [
    {
     "data": {
      "text/plain": [
       "MultiIndex([(            'RF_0',),\n",
       "            (            'RF_1',),\n",
       "            (     'RF_accuracy',),\n",
       "            (    'RF_macro avg',),\n",
       "            ( 'RF_weighted avg',),\n",
       "            (           'DTC_0',),\n",
       "            (           'DTC_1',),\n",
       "            (    'DTC_accuracy',),\n",
       "            (   'DTC_macro avg',),\n",
       "            ('DTC_weighted avg',),\n",
       "            (           'SVC_0',),\n",
       "            (           'SVC_1',),\n",
       "            (    'SVC_accuracy',),\n",
       "            (   'SVC_macro avg',),\n",
       "            ('SVC_weighted avg',),\n",
       "            (           'XGB_0',),\n",
       "            (           'XGB_1',),\n",
       "            (    'XGB_accuracy',),\n",
       "            (   'XGB_macro avg',),\n",
       "            ('XGB_weighted avg',),\n",
       "            (            'LR_0',),\n",
       "            (            'LR_1',),\n",
       "            (     'LR_accuracy',),\n",
       "            (    'LR_macro avg',),\n",
       "            ( 'LR_weighted avg',),\n",
       "            (           'MLP_0',),\n",
       "            (           'MLP_1',),\n",
       "            (    'MLP_accuracy',),\n",
       "            (   'MLP_macro avg',),\n",
       "            ('MLP_weighted avg',)],\n",
       "           )"
      ]
     },
     "execution_count": 43,
     "metadata": {},
     "output_type": "execute_result"
    }
   ],
   "source": [
    "B_results.columns"
   ]
  },
  {
   "cell_type": "code",
   "execution_count": 46,
   "metadata": {},
   "outputs": [
    {
     "data": {
      "text/html": [
       "<div>\n",
       "<style scoped>\n",
       "    .dataframe tbody tr th:only-of-type {\n",
       "        vertical-align: middle;\n",
       "    }\n",
       "\n",
       "    .dataframe tbody tr th {\n",
       "        vertical-align: top;\n",
       "    }\n",
       "\n",
       "    .dataframe thead tr th {\n",
       "        text-align: left;\n",
       "    }\n",
       "</style>\n",
       "<table border=\"1\" class=\"dataframe\">\n",
       "  <thead>\n",
       "    <tr>\n",
       "      <th></th>\n",
       "      <th>RF_0</th>\n",
       "      <th>RF_1</th>\n",
       "      <th>RF_accuracy</th>\n",
       "      <th>RF_macro avg</th>\n",
       "      <th>RF_weighted avg</th>\n",
       "      <th>DTC_0</th>\n",
       "      <th>DTC_1</th>\n",
       "      <th>DTC_accuracy</th>\n",
       "      <th>DTC_macro avg</th>\n",
       "      <th>DTC_weighted avg</th>\n",
       "      <th>...</th>\n",
       "      <th>LR_0</th>\n",
       "      <th>LR_1</th>\n",
       "      <th>LR_accuracy</th>\n",
       "      <th>LR_macro avg</th>\n",
       "      <th>LR_weighted avg</th>\n",
       "      <th>MLP_0</th>\n",
       "      <th>MLP_1</th>\n",
       "      <th>MLP_accuracy</th>\n",
       "      <th>MLP_macro avg</th>\n",
       "      <th>MLP_weighted avg</th>\n",
       "    </tr>\n",
       "  </thead>\n",
       "  <tbody>\n",
       "    <tr>\n",
       "      <th>precision</th>\n",
       "      <td>0.824122</td>\n",
       "      <td>0.821382</td>\n",
       "      <td>0.823296</td>\n",
       "      <td>0.822752</td>\n",
       "      <td>0.823107</td>\n",
       "      <td>0.796740</td>\n",
       "      <td>0.624156</td>\n",
       "      <td>0.728202</td>\n",
       "      <td>0.710448</td>\n",
       "      <td>0.732813</td>\n",
       "      <td>...</td>\n",
       "      <td>0.798565</td>\n",
       "      <td>0.689714</td>\n",
       "      <td>0.760896</td>\n",
       "      <td>0.744140</td>\n",
       "      <td>0.758246</td>\n",
       "      <td>0.837387</td>\n",
       "      <td>0.799829</td>\n",
       "      <td>0.825139</td>\n",
       "      <td>0.818608</td>\n",
       "      <td>0.823475</td>\n",
       "    </tr>\n",
       "    <tr>\n",
       "      <th>recall</th>\n",
       "      <td>0.914501</td>\n",
       "      <td>0.668275</td>\n",
       "      <td>0.823296</td>\n",
       "      <td>0.791388</td>\n",
       "      <td>0.823296</td>\n",
       "      <td>0.762927</td>\n",
       "      <td>0.669179</td>\n",
       "      <td>0.728202</td>\n",
       "      <td>0.716053</td>\n",
       "      <td>0.728202</td>\n",
       "      <td>...</td>\n",
       "      <td>0.829446</td>\n",
       "      <td>0.644381</td>\n",
       "      <td>0.760896</td>\n",
       "      <td>0.736913</td>\n",
       "      <td>0.760896</td>\n",
       "      <td>0.896319</td>\n",
       "      <td>0.704153</td>\n",
       "      <td>0.825139</td>\n",
       "      <td>0.800236</td>\n",
       "      <td>0.825139</td>\n",
       "    </tr>\n",
       "    <tr>\n",
       "      <th>f1-score</th>\n",
       "      <td>0.866962</td>\n",
       "      <td>0.736960</td>\n",
       "      <td>0.823296</td>\n",
       "      <td>0.801961</td>\n",
       "      <td>0.818808</td>\n",
       "      <td>0.779467</td>\n",
       "      <td>0.645884</td>\n",
       "      <td>0.728202</td>\n",
       "      <td>0.712675</td>\n",
       "      <td>0.729986</td>\n",
       "      <td>...</td>\n",
       "      <td>0.813713</td>\n",
       "      <td>0.666277</td>\n",
       "      <td>0.760896</td>\n",
       "      <td>0.739995</td>\n",
       "      <td>0.759101</td>\n",
       "      <td>0.865851</td>\n",
       "      <td>0.748948</td>\n",
       "      <td>0.825139</td>\n",
       "      <td>0.807400</td>\n",
       "      <td>0.822549</td>\n",
       "    </tr>\n",
       "    <tr>\n",
       "      <th>support</th>\n",
       "      <td>22550.000000</td>\n",
       "      <td>13267.000000</td>\n",
       "      <td>0.823296</td>\n",
       "      <td>35817.000000</td>\n",
       "      <td>35817.000000</td>\n",
       "      <td>22550.000000</td>\n",
       "      <td>13267.000000</td>\n",
       "      <td>0.728202</td>\n",
       "      <td>35817.000000</td>\n",
       "      <td>35817.000000</td>\n",
       "      <td>...</td>\n",
       "      <td>22550.000000</td>\n",
       "      <td>13267.000000</td>\n",
       "      <td>0.760896</td>\n",
       "      <td>35817.000000</td>\n",
       "      <td>35817.000000</td>\n",
       "      <td>22550.000000</td>\n",
       "      <td>13267.000000</td>\n",
       "      <td>0.825139</td>\n",
       "      <td>35817.000000</td>\n",
       "      <td>35817.000000</td>\n",
       "    </tr>\n",
       "  </tbody>\n",
       "</table>\n",
       "<p>4 rows × 30 columns</p>\n",
       "</div>"
      ],
      "text/plain": [
       "                   RF_0          RF_1 RF_accuracy  RF_macro avg  \\\n",
       "precision      0.824122      0.821382    0.823296      0.822752   \n",
       "recall         0.914501      0.668275    0.823296      0.791388   \n",
       "f1-score       0.866962      0.736960    0.823296      0.801961   \n",
       "support    22550.000000  13267.000000    0.823296  35817.000000   \n",
       "\n",
       "          RF_weighted avg         DTC_0         DTC_1 DTC_accuracy  \\\n",
       "precision        0.823107      0.796740      0.624156     0.728202   \n",
       "recall           0.823296      0.762927      0.669179     0.728202   \n",
       "f1-score         0.818808      0.779467      0.645884     0.728202   \n",
       "support      35817.000000  22550.000000  13267.000000     0.728202   \n",
       "\n",
       "          DTC_macro avg DTC_weighted avg  ...          LR_0          LR_1  \\\n",
       "precision      0.710448         0.732813  ...      0.798565      0.689714   \n",
       "recall         0.716053         0.728202  ...      0.829446      0.644381   \n",
       "f1-score       0.712675         0.729986  ...      0.813713      0.666277   \n",
       "support    35817.000000     35817.000000  ...  22550.000000  13267.000000   \n",
       "\n",
       "          LR_accuracy  LR_macro avg LR_weighted avg         MLP_0  \\\n",
       "precision    0.760896      0.744140        0.758246      0.837387   \n",
       "recall       0.760896      0.736913        0.760896      0.896319   \n",
       "f1-score     0.760896      0.739995        0.759101      0.865851   \n",
       "support      0.760896  35817.000000    35817.000000  22550.000000   \n",
       "\n",
       "                  MLP_1 MLP_accuracy MLP_macro avg MLP_weighted avg  \n",
       "precision      0.799829     0.825139      0.818608         0.823475  \n",
       "recall         0.704153     0.825139      0.800236         0.825139  \n",
       "f1-score       0.748948     0.825139      0.807400         0.822549  \n",
       "support    13267.000000     0.825139  35817.000000     35817.000000  \n",
       "\n",
       "[4 rows x 30 columns]"
      ]
     },
     "execution_count": 46,
     "metadata": {},
     "output_type": "execute_result"
    }
   ],
   "source": [
    "B_results"
   ]
  },
  {
   "cell_type": "markdown",
   "metadata": {},
   "source": [
    "**Best model after binning data**"
   ]
  },
  {
   "cell_type": "markdown",
   "metadata": {},
   "source": [
    "Model with highest f1-score:"
   ]
  },
  {
   "cell_type": "code",
   "execution_count": 44,
   "metadata": {},
   "outputs": [
    {
     "name": "stdout",
     "output_type": "stream",
     "text": [
      "                  XGB_0\n",
      "precision      0.840781\n",
      "recall         0.903681\n",
      "f1-score       0.871097\n",
      "support    22550.000000\n",
      "                  XGB_1\n",
      "precision      0.812435\n",
      "recall         0.709128\n",
      "f1-score       0.757275\n",
      "support    13267.000000\n"
     ]
    }
   ],
   "source": [
    "predi_0s = B_results.filter(like='0')\n",
    "max_f1 = predi_0s[predi_0s.values==(predi_0s.loc[\"f1-score\",:]).max()]\n",
    "max_0s = predi_0s[max_f1.idxmax(axis=1)]\n",
    "\n",
    "predi_ones = B_results.filter(like='1')\n",
    "max_f1 = predi_ones[predi_ones.values==(predi_ones.loc[\"f1-score\",:]).max()]\n",
    "max_ones = predi_ones[max_f1.idxmax(axis=1)]\n",
    "print(max_0s)\n",
    "print(max_ones)"
   ]
  },
  {
   "cell_type": "markdown",
   "metadata": {},
   "source": [
    "Recall shows that model achieved 71% efficiency in predicting real cancelations, when on training data it's score was 81% right predicted cancelations.\n",
    "After binning data, XGBClassifier has the best f1-score again."
   ]
  },
  {
   "cell_type": "markdown",
   "metadata": {},
   "source": [
    "On 0's prediction model is overfitted, need to add gamma, alpha or lambda punishment hyperparameters to improve tuning of the algorithm."
   ]
  },
  {
   "cell_type": "markdown",
   "metadata": {},
   "source": [
    "Model with highest precision:"
   ]
  },
  {
   "cell_type": "code",
   "execution_count": 48,
   "metadata": {
    "scrolled": true
   },
   "outputs": [
    {
     "name": "stdout",
     "output_type": "stream",
     "text": [
      "                  XGB_0\n",
      "precision      0.840781\n",
      "recall         0.903681\n",
      "f1-score       0.871097\n",
      "support    22550.000000\n",
      "                   RF_1\n",
      "precision      0.821382\n",
      "recall         0.668275\n",
      "f1-score       0.736960\n",
      "support    13267.000000\n"
     ]
    }
   ],
   "source": [
    "predi_0s = B_results.filter(like='0')\n",
    "max_prec = predi_0s[predi_0s.values==(predi_0s.loc[\"precision\",:]).max()]\n",
    "max_0s = predi_0s[max_prec.idxmax(axis=1)]\n",
    "\n",
    "predi_ones = B_results.filter(like='1')\n",
    "max_prec = predi_ones[predi_ones.values==(predi_ones.loc[\"precision\",:]).max()]\n",
    "max_ones = predi_ones[max_prec.idxmax(axis=1)]\n",
    "print(max_0s)\n",
    "print(max_ones)"
   ]
  },
  {
   "cell_type": "markdown",
   "metadata": {},
   "source": [
    "**Final comparison**"
   ]
  },
  {
   "cell_type": "raw",
   "metadata": {},
   "source": [
    "Comparing two perspectives, with binning and without, slightly better score came out from binned dataset by XGB algorithm:\n",
    "                Binned    Not binned\n",
    "precision      0.812435   0.800198\n",
    "recall         0.709128   0.669255\n",
    "f1-score       0.757275   0.728892\n",
    "\n",
    "Binning let me attain recall score slightly higher (by about 4%) and f1 higher by about 3%."
   ]
  }
 ],
 "metadata": {
  "kernelspec": {
   "display_name": "Python 3",
   "language": "python",
   "name": "python3"
  },
  "language_info": {
   "codemirror_mode": {
    "name": "ipython",
    "version": 3
   },
   "file_extension": ".py",
   "mimetype": "text/x-python",
   "name": "python",
   "nbconvert_exporter": "python",
   "pygments_lexer": "ipython3",
   "version": "3.8.10"
  }
 },
 "nbformat": 4,
 "nbformat_minor": 4
}
