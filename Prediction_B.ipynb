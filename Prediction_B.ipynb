{
 "cells": [
  {
   "cell_type": "markdown",
   "metadata": {},
   "source": [
    "**In this file I present creating models with pipelines comparing results of cross-validated hyperparameters to achive best model's fitting on binned dataset. Summary.**"
   ]
  },
  {
   "cell_type": "markdown",
   "metadata": {},
   "source": [
    "Imports:"
   ]
  },
  {
   "cell_type": "code",
   "execution_count": 1,
   "metadata": {},
   "outputs": [],
   "source": [
    "import pandas as pd\n",
    "import numpy as np\n",
    "from sklearn.tree import DecisionTreeClassifier\n",
    "from sklearn.ensemble import RandomForestClassifier\n",
    "from sklearn.svm import SVC\n",
    "from xgboost.sklearn import XGBClassifier\n",
    "from sklearn.neural_network import MLPClassifier\n",
    "from sklearn.linear_model import LogisticRegression\n",
    "\n",
    "from sklearn.preprocessing import (StandardScaler, \n",
    "                                   OrdinalEncoder, \n",
    "                                   MinMaxScaler)\n",
    "\n",
    "from sklearn.model_selection import (train_test_split, \n",
    "                                     GridSearchCV, \n",
    "                                     StratifiedKFold, \n",
    "                                     RandomizedSearchCV)\n",
    "\n",
    "from imblearn.over_sampling import SMOTE\n",
    "from imblearn.combine import SMOTEENN\n",
    "from imblearn.pipeline import Pipeline as imbpipeline\n",
    "from sklearn.pipeline import Pipeline\n",
    "from sklearn.metrics import (classification_report, \n",
    "                             roc_auc_score, \n",
    "                             make_scorer, \n",
    "                             recall_score, \n",
    "                             confusion_matrix, \n",
    "                             accuracy_score,\n",
    "                            get_scorer_names)\n",
    "from sklearn.decomposition import PCA"
   ]
  },
  {
   "cell_type": "markdown",
   "metadata": {},
   "source": [
    "Loading dataset:"
   ]
  },
  {
   "cell_type": "code",
   "execution_count": 2,
   "metadata": {},
   "outputs": [],
   "source": [
    "data_clean = pd.read_pickle(\"data/data_bins.pkl\")"
   ]
  },
  {
   "cell_type": "code",
   "execution_count": 3,
   "metadata": {},
   "outputs": [
    {
     "data": {
      "text/html": [
       "<div>\n",
       "<style scoped>\n",
       "    .dataframe tbody tr th:only-of-type {\n",
       "        vertical-align: middle;\n",
       "    }\n",
       "\n",
       "    .dataframe tbody tr th {\n",
       "        vertical-align: top;\n",
       "    }\n",
       "\n",
       "    .dataframe thead th {\n",
       "        text-align: right;\n",
       "    }\n",
       "</style>\n",
       "<table border=\"1\" class=\"dataframe\">\n",
       "  <thead>\n",
       "    <tr style=\"text-align: right;\">\n",
       "      <th></th>\n",
       "      <th>hotel</th>\n",
       "      <th>is_canceled</th>\n",
       "      <th>lead_time</th>\n",
       "      <th>stays_in_weekend_nights</th>\n",
       "      <th>stays_in_week_nights</th>\n",
       "      <th>adults</th>\n",
       "      <th>children</th>\n",
       "      <th>babies</th>\n",
       "      <th>meal</th>\n",
       "      <th>country</th>\n",
       "      <th>...</th>\n",
       "      <th>deposit_type</th>\n",
       "      <th>agent</th>\n",
       "      <th>company</th>\n",
       "      <th>days_in_waiting_list</th>\n",
       "      <th>customer_type</th>\n",
       "      <th>adr</th>\n",
       "      <th>required_car_parking_spaces</th>\n",
       "      <th>total_of_special_requests</th>\n",
       "      <th>reservation_status_date</th>\n",
       "      <th>arrival_date</th>\n",
       "    </tr>\n",
       "  </thead>\n",
       "  <tbody>\n",
       "    <tr>\n",
       "      <th>119260</th>\n",
       "      <td>City Hotel</td>\n",
       "      <td>0</td>\n",
       "      <td>292</td>\n",
       "      <td>more</td>\n",
       "      <td>more</td>\n",
       "      <td>2</td>\n",
       "      <td>No_child</td>\n",
       "      <td>No_babies</td>\n",
       "      <td>BB</td>\n",
       "      <td>Freq</td>\n",
       "      <td>...</td>\n",
       "      <td>No Deposit</td>\n",
       "      <td>9.0</td>\n",
       "      <td>empty</td>\n",
       "      <td>0</td>\n",
       "      <td>Transient</td>\n",
       "      <td>128.10</td>\n",
       "      <td>0</td>\n",
       "      <td>2</td>\n",
       "      <td>2017-09-01</td>\n",
       "      <td>2017-08-20 00:00:00</td>\n",
       "    </tr>\n",
       "    <tr>\n",
       "      <th>1744</th>\n",
       "      <td>Resort Hotel</td>\n",
       "      <td>1</td>\n",
       "      <td>172</td>\n",
       "      <td>one_night</td>\n",
       "      <td>one_night</td>\n",
       "      <td>2</td>\n",
       "      <td>No_child</td>\n",
       "      <td>No_babies</td>\n",
       "      <td>BB</td>\n",
       "      <td>Hi-Freq</td>\n",
       "      <td>...</td>\n",
       "      <td>No Deposit</td>\n",
       "      <td>15.0</td>\n",
       "      <td>empty</td>\n",
       "      <td>0</td>\n",
       "      <td>Transient-Party</td>\n",
       "      <td>36.00</td>\n",
       "      <td>0</td>\n",
       "      <td>0</td>\n",
       "      <td>2015-08-06</td>\n",
       "      <td>2015-09-12 00:00:00</td>\n",
       "    </tr>\n",
       "    <tr>\n",
       "      <th>6571</th>\n",
       "      <td>Resort Hotel</td>\n",
       "      <td>1</td>\n",
       "      <td>250</td>\n",
       "      <td>one_night</td>\n",
       "      <td>more</td>\n",
       "      <td>2</td>\n",
       "      <td>No_child</td>\n",
       "      <td>No_babies</td>\n",
       "      <td>BB</td>\n",
       "      <td>Hi-Freq</td>\n",
       "      <td>...</td>\n",
       "      <td>No Deposit</td>\n",
       "      <td>240.0</td>\n",
       "      <td>empty</td>\n",
       "      <td>0</td>\n",
       "      <td>Transient</td>\n",
       "      <td>99.00</td>\n",
       "      <td>0</td>\n",
       "      <td>2</td>\n",
       "      <td>2016-01-18</td>\n",
       "      <td>2016-06-18 00:00:00</td>\n",
       "    </tr>\n",
       "    <tr>\n",
       "      <th>114102</th>\n",
       "      <td>City Hotel</td>\n",
       "      <td>0</td>\n",
       "      <td>423</td>\n",
       "      <td>zero</td>\n",
       "      <td>more</td>\n",
       "      <td>2</td>\n",
       "      <td>No_child</td>\n",
       "      <td>No_babies</td>\n",
       "      <td>BB</td>\n",
       "      <td>Freq</td>\n",
       "      <td>...</td>\n",
       "      <td>No Deposit</td>\n",
       "      <td>229.0</td>\n",
       "      <td>empty</td>\n",
       "      <td>0</td>\n",
       "      <td>Transient-Party</td>\n",
       "      <td>112.67</td>\n",
       "      <td>0</td>\n",
       "      <td>1</td>\n",
       "      <td>2017-06-17</td>\n",
       "      <td>2017-06-14 00:00:00</td>\n",
       "    </tr>\n",
       "    <tr>\n",
       "      <th>104941</th>\n",
       "      <td>City Hotel</td>\n",
       "      <td>0</td>\n",
       "      <td>21</td>\n",
       "      <td>one_night</td>\n",
       "      <td>one_night</td>\n",
       "      <td>1</td>\n",
       "      <td>No_child</td>\n",
       "      <td>No_babies</td>\n",
       "      <td>BB</td>\n",
       "      <td>Freq</td>\n",
       "      <td>...</td>\n",
       "      <td>No Deposit</td>\n",
       "      <td>9.0</td>\n",
       "      <td>empty</td>\n",
       "      <td>0</td>\n",
       "      <td>Transient</td>\n",
       "      <td>67.58</td>\n",
       "      <td>0</td>\n",
       "      <td>1</td>\n",
       "      <td>2017-01-26</td>\n",
       "      <td>2017-01-22 00:00:00</td>\n",
       "    </tr>\n",
       "  </tbody>\n",
       "</table>\n",
       "<p>5 rows × 28 columns</p>\n",
       "</div>"
      ],
      "text/plain": [
       "               hotel  is_canceled  lead_time stays_in_weekend_nights  \\\n",
       "119260    City Hotel            0        292                    more   \n",
       "1744    Resort Hotel            1        172               one_night   \n",
       "6571    Resort Hotel            1        250               one_night   \n",
       "114102    City Hotel            0        423                    zero   \n",
       "104941    City Hotel            0         21               one_night   \n",
       "\n",
       "       stays_in_week_nights  adults  children     babies meal  country  ...  \\\n",
       "119260                 more       2  No_child  No_babies   BB     Freq  ...   \n",
       "1744              one_night       2  No_child  No_babies   BB  Hi-Freq  ...   \n",
       "6571                   more       2  No_child  No_babies   BB  Hi-Freq  ...   \n",
       "114102                 more       2  No_child  No_babies   BB     Freq  ...   \n",
       "104941            one_night       1  No_child  No_babies   BB     Freq  ...   \n",
       "\n",
       "       deposit_type  agent  company  days_in_waiting_list    customer_type  \\\n",
       "119260   No Deposit    9.0    empty                     0        Transient   \n",
       "1744     No Deposit   15.0    empty                     0  Transient-Party   \n",
       "6571     No Deposit  240.0    empty                     0        Transient   \n",
       "114102   No Deposit  229.0    empty                     0  Transient-Party   \n",
       "104941   No Deposit    9.0    empty                     0        Transient   \n",
       "\n",
       "           adr required_car_parking_spaces  total_of_special_requests  \\\n",
       "119260  128.10                           0                          2   \n",
       "1744     36.00                           0                          0   \n",
       "6571     99.00                           0                          2   \n",
       "114102  112.67                           0                          1   \n",
       "104941   67.58                           0                          1   \n",
       "\n",
       "       reservation_status_date         arrival_date  \n",
       "119260              2017-09-01  2017-08-20 00:00:00  \n",
       "1744                2015-08-06  2015-09-12 00:00:00  \n",
       "6571                2016-01-18  2016-06-18 00:00:00  \n",
       "114102              2017-06-17  2017-06-14 00:00:00  \n",
       "104941              2017-01-26  2017-01-22 00:00:00  \n",
       "\n",
       "[5 rows x 28 columns]"
      ]
     },
     "execution_count": 3,
     "metadata": {},
     "output_type": "execute_result"
    }
   ],
   "source": [
    "data_clean.sample(5)"
   ]
  },
  {
   "cell_type": "markdown",
   "metadata": {},
   "source": [
    "Dividing into predictor variables X and target y (\"is_canceled\"):"
   ]
  },
  {
   "cell_type": "code",
   "execution_count": 4,
   "metadata": {},
   "outputs": [],
   "source": [
    "X = data_clean.drop(\"is_canceled\", axis=1)\n",
    "y = data_clean.is_canceled"
   ]
  },
  {
   "cell_type": "markdown",
   "metadata": {},
   "source": [
    "Splitting dataset into train and test subsets with test size 30% and train 70%:"
   ]
  },
  {
   "cell_type": "code",
   "execution_count": 5,
   "metadata": {},
   "outputs": [],
   "source": [
    "X_train, X_test, y_train, y_test = train_test_split(X, y,\n",
    "                                                    test_size=0.3,\n",
    "                                                    stratify=y,\n",
    "                                                    random_state=42\n",
    "                                                   )"
   ]
  },
  {
   "cell_type": "markdown",
   "metadata": {},
   "source": [
    "Shape after division"
   ]
  },
  {
   "cell_type": "code",
   "execution_count": 6,
   "metadata": {},
   "outputs": [
    {
     "data": {
      "text/plain": [
       "(83573, 27)"
      ]
     },
     "execution_count": 6,
     "metadata": {},
     "output_type": "execute_result"
    }
   ],
   "source": [
    "X_train.shape"
   ]
  },
  {
   "cell_type": "code",
   "execution_count": 7,
   "metadata": {},
   "outputs": [
    {
     "data": {
      "text/plain": [
       "(35817, 27)"
      ]
     },
     "execution_count": 7,
     "metadata": {},
     "output_type": "execute_result"
    }
   ],
   "source": [
    "X_test.shape"
   ]
  },
  {
   "cell_type": "markdown",
   "metadata": {},
   "source": [
    "Inputting NaNs in country column with the most frequent value ()max of train subset into train and test:"
   ]
  },
  {
   "cell_type": "code",
   "execution_count": 8,
   "metadata": {},
   "outputs": [],
   "source": [
    "country_input = X_train[\"country\"][X_train.country.value_counts().max()]"
   ]
  },
  {
   "cell_type": "code",
   "execution_count": 9,
   "metadata": {},
   "outputs": [],
   "source": [
    "X_train.country.fillna(country_input, inplace=True)"
   ]
  },
  {
   "cell_type": "code",
   "execution_count": 10,
   "metadata": {},
   "outputs": [],
   "source": [
    "X_test.country.fillna(country_input, inplace=True)"
   ]
  },
  {
   "cell_type": "markdown",
   "metadata": {},
   "source": [
    "Inputting NaNs in agent column with the most frequent value ()max of train subset into train and test:"
   ]
  },
  {
   "cell_type": "code",
   "execution_count": 11,
   "metadata": {},
   "outputs": [],
   "source": [
    "agent_input = X_train[\"agent\"][X_train.agent.value_counts().max()]"
   ]
  },
  {
   "cell_type": "code",
   "execution_count": 12,
   "metadata": {},
   "outputs": [],
   "source": [
    "X_train.agent.fillna(agent_input, inplace=True)"
   ]
  },
  {
   "cell_type": "code",
   "execution_count": 13,
   "metadata": {},
   "outputs": [],
   "source": [
    "X_test.agent.fillna(agent_input, inplace=True)"
   ]
  },
  {
   "cell_type": "markdown",
   "metadata": {},
   "source": [
    "Outlier value of column adr found in a file \"Reservation_Cancelation_Prediction\" now is to be replaced with mean of adr column."
   ]
  },
  {
   "cell_type": "code",
   "execution_count": 14,
   "metadata": {},
   "outputs": [
    {
     "data": {
      "text/plain": [
       "1"
      ]
     },
     "execution_count": 14,
     "metadata": {},
     "output_type": "execute_result"
    }
   ],
   "source": [
    "(X_train[\"adr\"]==5400).sum()"
   ]
  },
  {
   "cell_type": "code",
   "execution_count": 15,
   "metadata": {},
   "outputs": [
    {
     "data": {
      "text/plain": [
       "0"
      ]
     },
     "execution_count": 15,
     "metadata": {},
     "output_type": "execute_result"
    }
   ],
   "source": [
    "(X_test[\"adr\"]==5400).sum()"
   ]
  },
  {
   "cell_type": "code",
   "execution_count": 16,
   "metadata": {},
   "outputs": [
    {
     "name": "stdout",
     "output_type": "stream",
     "text": [
      "Outlier observations in train subset =  0\n"
     ]
    }
   ],
   "source": [
    "if (X_train[\"adr\"]==5400).sum() > 0:\n",
    "    X_train.replace({5400.0:np.round(X_train.adr.mean(), 2)}, inplace=True) #filling inordinary adr value with mean of training set adr column\n",
    "    print(\"Outlier observations in train subset = \", (X_train[\"adr\"]==5400).sum())\n",
    "elif (X_test[\"adr\"]==5400).sum() > 0:\n",
    "    X_test.replace({5400.0:np.round(X_train.adr.mean(), 2)}, inplace=True)\n",
    "    print(\"Outlier observations in test subset = \", (X_test[\"adr\"]==5400).sum())"
   ]
  },
  {
   "cell_type": "markdown",
   "metadata": {},
   "source": [
    "Encoding categorial columns with OrdinalEncoder:"
   ]
  },
  {
   "cell_type": "code",
   "execution_count": 17,
   "metadata": {},
   "outputs": [],
   "source": [
    "data_cat = data_clean.select_dtypes([\"object\"]).columns"
   ]
  },
  {
   "cell_type": "code",
   "execution_count": 18,
   "metadata": {},
   "outputs": [],
   "source": [
    "data_label_train = X_train[data_cat]\n",
    "data_label_test = X_test[data_cat]"
   ]
  },
  {
   "cell_type": "code",
   "execution_count": 19,
   "metadata": {},
   "outputs": [],
   "source": [
    "ode = OrdinalEncoder(handle_unknown='use_encoded_value', unknown_value=-1)\n",
    "ode.fit(data_label_train)\n",
    "data_label_train_ode = pd.DataFrame(ode.transform(data_label_train),\n",
    "                                    columns=data_cat)\n",
    "data_label_test_ode = pd.DataFrame(ode.transform(data_label_test), \n",
    "                                   columns=data_cat)"
   ]
  },
  {
   "cell_type": "code",
   "execution_count": 20,
   "metadata": {
    "scrolled": true
   },
   "outputs": [
    {
     "data": {
      "text/html": [
       "<div>\n",
       "<style scoped>\n",
       "    .dataframe tbody tr th:only-of-type {\n",
       "        vertical-align: middle;\n",
       "    }\n",
       "\n",
       "    .dataframe tbody tr th {\n",
       "        vertical-align: top;\n",
       "    }\n",
       "\n",
       "    .dataframe thead th {\n",
       "        text-align: right;\n",
       "    }\n",
       "</style>\n",
       "<table border=\"1\" class=\"dataframe\">\n",
       "  <thead>\n",
       "    <tr style=\"text-align: right;\">\n",
       "      <th></th>\n",
       "      <th>hotel</th>\n",
       "      <th>stays_in_weekend_nights</th>\n",
       "      <th>stays_in_week_nights</th>\n",
       "      <th>children</th>\n",
       "      <th>babies</th>\n",
       "      <th>meal</th>\n",
       "      <th>country</th>\n",
       "      <th>market_segment</th>\n",
       "      <th>distribution_channel</th>\n",
       "      <th>reserved_room_type</th>\n",
       "      <th>assigned_room_type</th>\n",
       "      <th>deposit_type</th>\n",
       "      <th>agent</th>\n",
       "      <th>company</th>\n",
       "      <th>customer_type</th>\n",
       "      <th>reservation_status_date</th>\n",
       "      <th>arrival_date</th>\n",
       "    </tr>\n",
       "  </thead>\n",
       "  <tbody>\n",
       "    <tr>\n",
       "      <th>0</th>\n",
       "      <td>0.0</td>\n",
       "      <td>2.0</td>\n",
       "      <td>1.0</td>\n",
       "      <td>0.0</td>\n",
       "      <td>0.0</td>\n",
       "      <td>0.0</td>\n",
       "      <td>1.0</td>\n",
       "      <td>4.0</td>\n",
       "      <td>2.0</td>\n",
       "      <td>0.0</td>\n",
       "      <td>0.0</td>\n",
       "      <td>0.0</td>\n",
       "      <td>288.0</td>\n",
       "      <td>323.0</td>\n",
       "      <td>2.0</td>\n",
       "      <td>400.0</td>\n",
       "      <td>562.0</td>\n",
       "    </tr>\n",
       "    <tr>\n",
       "      <th>1</th>\n",
       "      <td>1.0</td>\n",
       "      <td>2.0</td>\n",
       "      <td>1.0</td>\n",
       "      <td>0.0</td>\n",
       "      <td>0.0</td>\n",
       "      <td>0.0</td>\n",
       "      <td>1.0</td>\n",
       "      <td>4.0</td>\n",
       "      <td>2.0</td>\n",
       "      <td>0.0</td>\n",
       "      <td>3.0</td>\n",
       "      <td>0.0</td>\n",
       "      <td>98.0</td>\n",
       "      <td>323.0</td>\n",
       "      <td>2.0</td>\n",
       "      <td>375.0</td>\n",
       "      <td>258.0</td>\n",
       "    </tr>\n",
       "    <tr>\n",
       "      <th>2</th>\n",
       "      <td>1.0</td>\n",
       "      <td>2.0</td>\n",
       "      <td>2.0</td>\n",
       "      <td>0.0</td>\n",
       "      <td>0.0</td>\n",
       "      <td>0.0</td>\n",
       "      <td>1.0</td>\n",
       "      <td>3.0</td>\n",
       "      <td>2.0</td>\n",
       "      <td>3.0</td>\n",
       "      <td>4.0</td>\n",
       "      <td>0.0</td>\n",
       "      <td>316.0</td>\n",
       "      <td>92.0</td>\n",
       "      <td>3.0</td>\n",
       "      <td>886.0</td>\n",
       "      <td>770.0</td>\n",
       "    </tr>\n",
       "    <tr>\n",
       "      <th>3</th>\n",
       "      <td>1.0</td>\n",
       "      <td>2.0</td>\n",
       "      <td>0.0</td>\n",
       "      <td>0.0</td>\n",
       "      <td>0.0</td>\n",
       "      <td>0.0</td>\n",
       "      <td>0.0</td>\n",
       "      <td>2.0</td>\n",
       "      <td>1.0</td>\n",
       "      <td>0.0</td>\n",
       "      <td>0.0</td>\n",
       "      <td>0.0</td>\n",
       "      <td>316.0</td>\n",
       "      <td>76.0</td>\n",
       "      <td>3.0</td>\n",
       "      <td>449.0</td>\n",
       "      <td>330.0</td>\n",
       "    </tr>\n",
       "    <tr>\n",
       "      <th>4</th>\n",
       "      <td>1.0</td>\n",
       "      <td>2.0</td>\n",
       "      <td>1.0</td>\n",
       "      <td>0.0</td>\n",
       "      <td>0.0</td>\n",
       "      <td>0.0</td>\n",
       "      <td>1.0</td>\n",
       "      <td>1.0</td>\n",
       "      <td>1.0</td>\n",
       "      <td>4.0</td>\n",
       "      <td>4.0</td>\n",
       "      <td>0.0</td>\n",
       "      <td>316.0</td>\n",
       "      <td>323.0</td>\n",
       "      <td>2.0</td>\n",
       "      <td>714.0</td>\n",
       "      <td>597.0</td>\n",
       "    </tr>\n",
       "    <tr>\n",
       "      <th>...</th>\n",
       "      <td>...</td>\n",
       "      <td>...</td>\n",
       "      <td>...</td>\n",
       "      <td>...</td>\n",
       "      <td>...</td>\n",
       "      <td>...</td>\n",
       "      <td>...</td>\n",
       "      <td>...</td>\n",
       "      <td>...</td>\n",
       "      <td>...</td>\n",
       "      <td>...</td>\n",
       "      <td>...</td>\n",
       "      <td>...</td>\n",
       "      <td>...</td>\n",
       "      <td>...</td>\n",
       "      <td>...</td>\n",
       "      <td>...</td>\n",
       "    </tr>\n",
       "    <tr>\n",
       "      <th>83568</th>\n",
       "      <td>0.0</td>\n",
       "      <td>1.0</td>\n",
       "      <td>1.0</td>\n",
       "      <td>0.0</td>\n",
       "      <td>0.0</td>\n",
       "      <td>0.0</td>\n",
       "      <td>2.0</td>\n",
       "      <td>2.0</td>\n",
       "      <td>2.0</td>\n",
       "      <td>0.0</td>\n",
       "      <td>0.0</td>\n",
       "      <td>0.0</td>\n",
       "      <td>0.0</td>\n",
       "      <td>323.0</td>\n",
       "      <td>3.0</td>\n",
       "      <td>339.0</td>\n",
       "      <td>220.0</td>\n",
       "    </tr>\n",
       "    <tr>\n",
       "      <th>83569</th>\n",
       "      <td>0.0</td>\n",
       "      <td>2.0</td>\n",
       "      <td>1.0</td>\n",
       "      <td>0.0</td>\n",
       "      <td>0.0</td>\n",
       "      <td>0.0</td>\n",
       "      <td>1.0</td>\n",
       "      <td>2.0</td>\n",
       "      <td>2.0</td>\n",
       "      <td>0.0</td>\n",
       "      <td>0.0</td>\n",
       "      <td>1.0</td>\n",
       "      <td>143.0</td>\n",
       "      <td>323.0</td>\n",
       "      <td>2.0</td>\n",
       "      <td>640.0</td>\n",
       "      <td>660.0</td>\n",
       "    </tr>\n",
       "    <tr>\n",
       "      <th>83570</th>\n",
       "      <td>1.0</td>\n",
       "      <td>2.0</td>\n",
       "      <td>0.0</td>\n",
       "      <td>0.0</td>\n",
       "      <td>0.0</td>\n",
       "      <td>0.0</td>\n",
       "      <td>2.0</td>\n",
       "      <td>4.0</td>\n",
       "      <td>2.0</td>\n",
       "      <td>4.0</td>\n",
       "      <td>4.0</td>\n",
       "      <td>0.0</td>\n",
       "      <td>99.0</td>\n",
       "      <td>323.0</td>\n",
       "      <td>2.0</td>\n",
       "      <td>817.0</td>\n",
       "      <td>699.0</td>\n",
       "    </tr>\n",
       "    <tr>\n",
       "      <th>83571</th>\n",
       "      <td>0.0</td>\n",
       "      <td>2.0</td>\n",
       "      <td>1.0</td>\n",
       "      <td>0.0</td>\n",
       "      <td>0.0</td>\n",
       "      <td>0.0</td>\n",
       "      <td>1.0</td>\n",
       "      <td>2.0</td>\n",
       "      <td>2.0</td>\n",
       "      <td>0.0</td>\n",
       "      <td>0.0</td>\n",
       "      <td>1.0</td>\n",
       "      <td>193.0</td>\n",
       "      <td>323.0</td>\n",
       "      <td>2.0</td>\n",
       "      <td>304.0</td>\n",
       "      <td>231.0</td>\n",
       "    </tr>\n",
       "    <tr>\n",
       "      <th>83572</th>\n",
       "      <td>1.0</td>\n",
       "      <td>2.0</td>\n",
       "      <td>0.0</td>\n",
       "      <td>0.0</td>\n",
       "      <td>0.0</td>\n",
       "      <td>0.0</td>\n",
       "      <td>0.0</td>\n",
       "      <td>2.0</td>\n",
       "      <td>1.0</td>\n",
       "      <td>0.0</td>\n",
       "      <td>0.0</td>\n",
       "      <td>0.0</td>\n",
       "      <td>316.0</td>\n",
       "      <td>76.0</td>\n",
       "      <td>3.0</td>\n",
       "      <td>449.0</td>\n",
       "      <td>328.0</td>\n",
       "    </tr>\n",
       "  </tbody>\n",
       "</table>\n",
       "<p>83573 rows × 17 columns</p>\n",
       "</div>"
      ],
      "text/plain": [
       "       hotel  stays_in_weekend_nights  stays_in_week_nights  children  babies  \\\n",
       "0        0.0                      2.0                   1.0       0.0     0.0   \n",
       "1        1.0                      2.0                   1.0       0.0     0.0   \n",
       "2        1.0                      2.0                   2.0       0.0     0.0   \n",
       "3        1.0                      2.0                   0.0       0.0     0.0   \n",
       "4        1.0                      2.0                   1.0       0.0     0.0   \n",
       "...      ...                      ...                   ...       ...     ...   \n",
       "83568    0.0                      1.0                   1.0       0.0     0.0   \n",
       "83569    0.0                      2.0                   1.0       0.0     0.0   \n",
       "83570    1.0                      2.0                   0.0       0.0     0.0   \n",
       "83571    0.0                      2.0                   1.0       0.0     0.0   \n",
       "83572    1.0                      2.0                   0.0       0.0     0.0   \n",
       "\n",
       "       meal  country  market_segment  distribution_channel  \\\n",
       "0       0.0      1.0             4.0                   2.0   \n",
       "1       0.0      1.0             4.0                   2.0   \n",
       "2       0.0      1.0             3.0                   2.0   \n",
       "3       0.0      0.0             2.0                   1.0   \n",
       "4       0.0      1.0             1.0                   1.0   \n",
       "...     ...      ...             ...                   ...   \n",
       "83568   0.0      2.0             2.0                   2.0   \n",
       "83569   0.0      1.0             2.0                   2.0   \n",
       "83570   0.0      2.0             4.0                   2.0   \n",
       "83571   0.0      1.0             2.0                   2.0   \n",
       "83572   0.0      0.0             2.0                   1.0   \n",
       "\n",
       "       reserved_room_type  assigned_room_type  deposit_type  agent  company  \\\n",
       "0                     0.0                 0.0           0.0  288.0    323.0   \n",
       "1                     0.0                 3.0           0.0   98.0    323.0   \n",
       "2                     3.0                 4.0           0.0  316.0     92.0   \n",
       "3                     0.0                 0.0           0.0  316.0     76.0   \n",
       "4                     4.0                 4.0           0.0  316.0    323.0   \n",
       "...                   ...                 ...           ...    ...      ...   \n",
       "83568                 0.0                 0.0           0.0    0.0    323.0   \n",
       "83569                 0.0                 0.0           1.0  143.0    323.0   \n",
       "83570                 4.0                 4.0           0.0   99.0    323.0   \n",
       "83571                 0.0                 0.0           1.0  193.0    323.0   \n",
       "83572                 0.0                 0.0           0.0  316.0     76.0   \n",
       "\n",
       "       customer_type  reservation_status_date  arrival_date  \n",
       "0                2.0                    400.0         562.0  \n",
       "1                2.0                    375.0         258.0  \n",
       "2                3.0                    886.0         770.0  \n",
       "3                3.0                    449.0         330.0  \n",
       "4                2.0                    714.0         597.0  \n",
       "...              ...                      ...           ...  \n",
       "83568            3.0                    339.0         220.0  \n",
       "83569            2.0                    640.0         660.0  \n",
       "83570            2.0                    817.0         699.0  \n",
       "83571            2.0                    304.0         231.0  \n",
       "83572            3.0                    449.0         328.0  \n",
       "\n",
       "[83573 rows x 17 columns]"
      ]
     },
     "execution_count": 20,
     "metadata": {},
     "output_type": "execute_result"
    }
   ],
   "source": [
    "data_label_train_ode"
   ]
  },
  {
   "cell_type": "markdown",
   "metadata": {},
   "source": [
    "Updating encoded columns:"
   ]
  },
  {
   "cell_type": "code",
   "execution_count": 21,
   "metadata": {},
   "outputs": [],
   "source": [
    "X_train.drop(data_cat, axis=1, inplace=True)\n",
    "X_test.drop(data_cat, axis=1, inplace=True)"
   ]
  },
  {
   "cell_type": "markdown",
   "metadata": {},
   "source": [
    "Concatenating encoded features with the rest:"
   ]
  },
  {
   "cell_type": "code",
   "execution_count": 22,
   "metadata": {},
   "outputs": [],
   "source": [
    "X_train = pd.concat([X_train.reset_index(drop=True), data_label_train_ode.reset_index(drop=True)], axis=1)\n",
    "X_test = pd.concat([X_test.reset_index(drop=True), data_label_test_ode.reset_index(drop=True)], axis=1)"
   ]
  },
  {
   "cell_type": "code",
   "execution_count": 23,
   "metadata": {},
   "outputs": [
    {
     "data": {
      "text/plain": [
       "(83573, 27)"
      ]
     },
     "execution_count": 23,
     "metadata": {},
     "output_type": "execute_result"
    }
   ],
   "source": [
    "X_train.shape"
   ]
  },
  {
   "cell_type": "markdown",
   "metadata": {},
   "source": [
    "Encoding with get_dummies:"
   ]
  },
  {
   "cell_type": "code",
   "execution_count": 24,
   "metadata": {},
   "outputs": [],
   "source": [
    "X_train = pd.get_dummies(X_train, drop_first=True)"
   ]
  },
  {
   "cell_type": "code",
   "execution_count": 25,
   "metadata": {},
   "outputs": [],
   "source": [
    "X_test = pd.get_dummies(X_test, drop_first=True)\n",
    "X_test = X_test.reindex(columns = X_train.columns, fill_value=0)"
   ]
  },
  {
   "cell_type": "code",
   "execution_count": 26,
   "metadata": {},
   "outputs": [
    {
     "data": {
      "text/plain": [
       "(83573, 27)"
      ]
     },
     "execution_count": 26,
     "metadata": {},
     "output_type": "execute_result"
    }
   ],
   "source": [
    "X_train.shape"
   ]
  },
  {
   "cell_type": "markdown",
   "metadata": {},
   "source": [
    "Initiating StandardScaler for further data scaling:"
   ]
  },
  {
   "cell_type": "code",
   "execution_count": 27,
   "metadata": {},
   "outputs": [],
   "source": [
    "scaler = StandardScaler()"
   ]
  },
  {
   "cell_type": "markdown",
   "metadata": {},
   "source": [
    "Initiating Principal Components with ten components reducing dimentions to ten components :"
   ]
  },
  {
   "cell_type": "code",
   "execution_count": 28,
   "metadata": {},
   "outputs": [],
   "source": [
    "pca = PCA(n_components=10)"
   ]
  },
  {
   "cell_type": "markdown",
   "metadata": {},
   "source": [
    "Initiating algorithm to ballance unballanced data- SMOTEENN:"
   ]
  },
  {
   "cell_type": "code",
   "execution_count": 29,
   "metadata": {},
   "outputs": [],
   "source": [
    "SMOTEEN = SMOTEENN()"
   ]
  },
  {
   "cell_type": "markdown",
   "metadata": {},
   "source": [
    "RandomForestClassifier algorythm with RandomizedGridSearch in pipeline, scaling reducing, ballancing:"
   ]
  },
  {
   "cell_type": "code",
   "execution_count": 30,
   "metadata": {},
   "outputs": [
    {
     "name": "stdout",
     "output_type": "stream",
     "text": [
      "Fitting 5 folds for each of 10 candidates, totalling 50 fits\n",
      "[CV 1/5] END pca__n_components=20, rf__max_depth=10, rf__min_samples_split=10, rf__n_estimators=100;, score=0.890 total time=  44.2s\n",
      "[CV 2/5] END pca__n_components=20, rf__max_depth=10, rf__min_samples_split=10, rf__n_estimators=100;, score=0.890 total time=  42.7s\n",
      "[CV 3/5] END pca__n_components=20, rf__max_depth=10, rf__min_samples_split=10, rf__n_estimators=100;, score=0.892 total time=  42.7s\n",
      "[CV 4/5] END pca__n_components=20, rf__max_depth=10, rf__min_samples_split=10, rf__n_estimators=100;, score=0.891 total time=  43.0s\n",
      "[CV 5/5] END pca__n_components=20, rf__max_depth=10, rf__min_samples_split=10, rf__n_estimators=100;, score=0.893 total time=  42.7s\n",
      "[CV 1/5] END pca__n_components=10, rf__max_depth=10, rf__min_samples_split=5, rf__n_estimators=100;, score=0.869 total time=  30.5s\n",
      "[CV 2/5] END pca__n_components=10, rf__max_depth=10, rf__min_samples_split=5, rf__n_estimators=100;, score=0.870 total time=  30.4s\n",
      "[CV 3/5] END pca__n_components=10, rf__max_depth=10, rf__min_samples_split=5, rf__n_estimators=100;, score=0.874 total time=  29.7s\n",
      "[CV 4/5] END pca__n_components=10, rf__max_depth=10, rf__min_samples_split=5, rf__n_estimators=100;, score=0.872 total time=  30.4s\n",
      "[CV 5/5] END pca__n_components=10, rf__max_depth=10, rf__min_samples_split=5, rf__n_estimators=100;, score=0.876 total time=  30.3s\n",
      "[CV 1/5] END pca__n_components=10, rf__max_depth=20, rf__min_samples_split=5, rf__n_estimators=20;, score=0.898 total time=  16.9s\n",
      "[CV 2/5] END pca__n_components=10, rf__max_depth=20, rf__min_samples_split=5, rf__n_estimators=20;, score=0.898 total time=  17.4s\n",
      "[CV 3/5] END pca__n_components=10, rf__max_depth=20, rf__min_samples_split=5, rf__n_estimators=20;, score=0.899 total time=  16.6s\n",
      "[CV 4/5] END pca__n_components=10, rf__max_depth=20, rf__min_samples_split=5, rf__n_estimators=20;, score=0.898 total time=  16.9s\n",
      "[CV 5/5] END pca__n_components=10, rf__max_depth=20, rf__min_samples_split=5, rf__n_estimators=20;, score=0.902 total time=  16.7s\n",
      "[CV 1/5] END pca__n_components=20, rf__max_depth=10, rf__min_samples_split=5, rf__n_estimators=100;, score=0.890 total time=  43.1s\n",
      "[CV 2/5] END pca__n_components=20, rf__max_depth=10, rf__min_samples_split=5, rf__n_estimators=100;, score=0.890 total time=  42.8s\n",
      "[CV 3/5] END pca__n_components=20, rf__max_depth=10, rf__min_samples_split=5, rf__n_estimators=100;, score=0.892 total time=  42.6s\n",
      "[CV 4/5] END pca__n_components=20, rf__max_depth=10, rf__min_samples_split=5, rf__n_estimators=100;, score=0.893 total time=  42.6s\n",
      "[CV 5/5] END pca__n_components=20, rf__max_depth=10, rf__min_samples_split=5, rf__n_estimators=100;, score=0.894 total time=  42.6s\n",
      "[CV 1/5] END pca__n_components=5, rf__max_depth=10, rf__min_samples_split=5, rf__n_estimators=100;, score=0.842 total time=  14.1s\n",
      "[CV 2/5] END pca__n_components=5, rf__max_depth=10, rf__min_samples_split=5, rf__n_estimators=100;, score=0.839 total time=  14.0s\n",
      "[CV 3/5] END pca__n_components=5, rf__max_depth=10, rf__min_samples_split=5, rf__n_estimators=100;, score=0.846 total time=  13.8s\n",
      "[CV 4/5] END pca__n_components=5, rf__max_depth=10, rf__min_samples_split=5, rf__n_estimators=100;, score=0.844 total time=  14.0s\n",
      "[CV 5/5] END pca__n_components=5, rf__max_depth=10, rf__min_samples_split=5, rf__n_estimators=100;, score=0.845 total time=  14.1s\n",
      "[CV 1/5] END pca__n_components=10, rf__max_depth=10, rf__min_samples_split=10, rf__n_estimators=100;, score=0.869 total time=  30.7s\n",
      "[CV 2/5] END pca__n_components=10, rf__max_depth=10, rf__min_samples_split=10, rf__n_estimators=100;, score=0.866 total time=  30.5s\n",
      "[CV 3/5] END pca__n_components=10, rf__max_depth=10, rf__min_samples_split=10, rf__n_estimators=100;, score=0.873 total time=  30.1s\n",
      "[CV 4/5] END pca__n_components=10, rf__max_depth=10, rf__min_samples_split=10, rf__n_estimators=100;, score=0.875 total time=  30.1s\n",
      "[CV 5/5] END pca__n_components=10, rf__max_depth=10, rf__min_samples_split=10, rf__n_estimators=100;, score=0.876 total time=  30.6s\n",
      "[CV 1/5] END pca__n_components=20, rf__max_depth=20, rf__min_samples_split=10, rf__n_estimators=20;, score=0.907 total time=  25.5s\n",
      "[CV 2/5] END pca__n_components=20, rf__max_depth=20, rf__min_samples_split=10, rf__n_estimators=20;, score=0.904 total time=  25.4s\n",
      "[CV 3/5] END pca__n_components=20, rf__max_depth=20, rf__min_samples_split=10, rf__n_estimators=20;, score=0.910 total time=  25.6s\n",
      "[CV 4/5] END pca__n_components=20, rf__max_depth=20, rf__min_samples_split=10, rf__n_estimators=20;, score=0.911 total time=  25.6s\n",
      "[CV 5/5] END pca__n_components=20, rf__max_depth=20, rf__min_samples_split=10, rf__n_estimators=20;, score=0.913 total time=  25.7s\n",
      "[CV 1/5] END pca__n_components=20, rf__max_depth=10, rf__min_samples_split=5, rf__n_estimators=20;, score=0.886 total time=  23.8s\n",
      "[CV 2/5] END pca__n_components=20, rf__max_depth=10, rf__min_samples_split=5, rf__n_estimators=20;, score=0.885 total time=  23.9s\n",
      "[CV 3/5] END pca__n_components=20, rf__max_depth=10, rf__min_samples_split=5, rf__n_estimators=20;, score=0.889 total time=  23.9s\n",
      "[CV 4/5] END pca__n_components=20, rf__max_depth=10, rf__min_samples_split=5, rf__n_estimators=20;, score=0.889 total time=  23.8s\n",
      "[CV 5/5] END pca__n_components=20, rf__max_depth=10, rf__min_samples_split=5, rf__n_estimators=20;, score=0.891 total time=  24.0s\n",
      "[CV 1/5] END pca__n_components=10, rf__max_depth=20, rf__min_samples_split=10, rf__n_estimators=20;, score=0.897 total time=  17.3s\n",
      "[CV 2/5] END pca__n_components=10, rf__max_depth=20, rf__min_samples_split=10, rf__n_estimators=20;, score=0.898 total time=  16.9s\n",
      "[CV 3/5] END pca__n_components=10, rf__max_depth=20, rf__min_samples_split=10, rf__n_estimators=20;, score=0.898 total time=  17.0s\n",
      "[CV 4/5] END pca__n_components=10, rf__max_depth=20, rf__min_samples_split=10, rf__n_estimators=20;, score=0.900 total time=  17.1s\n",
      "[CV 5/5] END pca__n_components=10, rf__max_depth=20, rf__min_samples_split=10, rf__n_estimators=20;, score=0.903 total time=  17.5s\n",
      "[CV 1/5] END pca__n_components=10, rf__max_depth=10, rf__min_samples_split=5, rf__n_estimators=20;, score=0.869 total time=  15.4s\n",
      "[CV 2/5] END pca__n_components=10, rf__max_depth=10, rf__min_samples_split=5, rf__n_estimators=20;, score=0.866 total time=  16.5s\n",
      "[CV 3/5] END pca__n_components=10, rf__max_depth=10, rf__min_samples_split=5, rf__n_estimators=20;, score=0.870 total time=  15.4s\n",
      "[CV 4/5] END pca__n_components=10, rf__max_depth=10, rf__min_samples_split=5, rf__n_estimators=20;, score=0.873 total time=  15.6s\n",
      "[CV 5/5] END pca__n_components=10, rf__max_depth=10, rf__min_samples_split=5, rf__n_estimators=20;, score=0.874 total time=  15.5s\n",
      "Random Forest:\n",
      "{'rf__n_estimators': 20, 'rf__min_samples_split': 10, 'rf__max_depth': 20, 'pca__n_components': 20}\n",
      "Results on test: 0.815813719742022\n",
      "Results on train: 0.879147571584124\n"
     ]
    }
   ],
   "source": [
    "stratified_kfold = StratifiedKFold(n_splits=5,\n",
    "                                       shuffle=True,\n",
    "                                       random_state=11)\n",
    "#imbpipeline\n",
    "pipeline_rf = imbpipeline(steps=[\n",
    "    ['scaler', scaler],\n",
    "    ['pca', pca],\n",
    "    ['smote', SMOTEEN],\n",
    "    ['rf', RandomForestClassifier()]])\n",
    "    \n",
    "param_distributions_rf = {\n",
    "    'rf__n_estimators': [20, 100],\n",
    "    'rf__max_depth': [10, 20],\n",
    "    'rf__min_samples_split': [5, 10],\n",
    "    'pca__n_components': [5, 10, 20]\n",
    "}\n",
    "\n",
    "search_rf = RandomizedSearchCV(pipeline_rf, \n",
    "                               param_distributions_rf, \n",
    "                               n_iter=10, \n",
    "                               cv=stratified_kfold, \n",
    "                               scoring='roc_auc',\n",
    "                               verbose=3\n",
    "                              )\n",
    "\n",
    "search_rf.fit(X_train, y_train)\n",
    "y_pred_rf = search_rf.best_estimator_.predict(X_test)\n",
    "print(\"Random Forest:\")\n",
    "print(search_rf.best_params_)\n",
    "print(f'Results on test: {search_rf.best_estimator_.score(X_test, y_test)}')\n",
    "print(f'Results on train: {search_rf.best_estimator_.score(X_train, y_train)}')"
   ]
  },
  {
   "cell_type": "markdown",
   "metadata": {},
   "source": [
    "Achieving scores of classification, saving accuracy, recall and F1 score in data frame:"
   ]
  },
  {
   "cell_type": "code",
   "execution_count": 31,
   "metadata": {},
   "outputs": [],
   "source": [
    "#print(get_scorer_names())"
   ]
  },
  {
   "cell_type": "code",
   "execution_count": 32,
   "metadata": {},
   "outputs": [
    {
     "data": {
      "text/plain": [
       "array([0, 1, 1, ..., 0, 0, 0])"
      ]
     },
     "execution_count": 32,
     "metadata": {},
     "output_type": "execute_result"
    }
   ],
   "source": [
    "y_pred_rf"
   ]
  },
  {
   "cell_type": "code",
   "execution_count": 33,
   "metadata": {},
   "outputs": [
    {
     "name": "stdout",
     "output_type": "stream",
     "text": [
      "              precision    recall  f1-score   support\n",
      "\n",
      "           0       0.82      0.90      0.86     22550\n",
      "           1       0.80      0.67      0.73     13267\n",
      "\n",
      "    accuracy                           0.82     35817\n",
      "   macro avg       0.81      0.79      0.80     35817\n",
      "weighted avg       0.81      0.82      0.81     35817\n",
      "\n"
     ]
    }
   ],
   "source": [
    "print(classification_report(y_test, y_pred_rf))"
   ]
  },
  {
   "cell_type": "code",
   "execution_count": 34,
   "metadata": {
    "scrolled": true
   },
   "outputs": [],
   "source": [
    "B_report_rf = pd.DataFrame(classification_report(y_test, y_pred_rf, output_dict=True))"
   ]
  },
  {
   "cell_type": "code",
   "execution_count": 35,
   "metadata": {},
   "outputs": [],
   "source": [
    "for i, name in enumerate(B_report_rf.columns):\n",
    "  B_report_rf = B_report_rf.rename(columns={(B_report_rf.iloc[:,i].name): ('RF_'+B_report_rf.iloc[:,i].name)})\n"
   ]
  },
  {
   "cell_type": "code",
   "execution_count": 36,
   "metadata": {},
   "outputs": [
    {
     "data": {
      "text/html": [
       "<div>\n",
       "<style scoped>\n",
       "    .dataframe tbody tr th:only-of-type {\n",
       "        vertical-align: middle;\n",
       "    }\n",
       "\n",
       "    .dataframe tbody tr th {\n",
       "        vertical-align: top;\n",
       "    }\n",
       "\n",
       "    .dataframe thead th {\n",
       "        text-align: right;\n",
       "    }\n",
       "</style>\n",
       "<table border=\"1\" class=\"dataframe\">\n",
       "  <thead>\n",
       "    <tr style=\"text-align: right;\">\n",
       "      <th></th>\n",
       "      <th>RF_0</th>\n",
       "      <th>RF_1</th>\n",
       "      <th>RF_accuracy</th>\n",
       "      <th>RF_macro avg</th>\n",
       "      <th>RF_weighted avg</th>\n",
       "    </tr>\n",
       "  </thead>\n",
       "  <tbody>\n",
       "    <tr>\n",
       "      <th>precision</th>\n",
       "      <td>0.823551</td>\n",
       "      <td>0.798728</td>\n",
       "      <td>0.815814</td>\n",
       "      <td>0.811139</td>\n",
       "      <td>0.814356</td>\n",
       "    </tr>\n",
       "    <tr>\n",
       "      <th>recall</th>\n",
       "      <td>0.900355</td>\n",
       "      <td>0.672119</td>\n",
       "      <td>0.815814</td>\n",
       "      <td>0.786237</td>\n",
       "      <td>0.815814</td>\n",
       "    </tr>\n",
       "    <tr>\n",
       "      <th>f1-score</th>\n",
       "      <td>0.860242</td>\n",
       "      <td>0.729974</td>\n",
       "      <td>0.815814</td>\n",
       "      <td>0.795108</td>\n",
       "      <td>0.811989</td>\n",
       "    </tr>\n",
       "    <tr>\n",
       "      <th>support</th>\n",
       "      <td>22550.000000</td>\n",
       "      <td>13267.000000</td>\n",
       "      <td>0.815814</td>\n",
       "      <td>35817.000000</td>\n",
       "      <td>35817.000000</td>\n",
       "    </tr>\n",
       "  </tbody>\n",
       "</table>\n",
       "</div>"
      ],
      "text/plain": [
       "                   RF_0          RF_1  RF_accuracy  RF_macro avg  \\\n",
       "precision      0.823551      0.798728     0.815814      0.811139   \n",
       "recall         0.900355      0.672119     0.815814      0.786237   \n",
       "f1-score       0.860242      0.729974     0.815814      0.795108   \n",
       "support    22550.000000  13267.000000     0.815814  35817.000000   \n",
       "\n",
       "           RF_weighted avg  \n",
       "precision         0.814356  \n",
       "recall            0.815814  \n",
       "f1-score          0.811989  \n",
       "support       35817.000000  "
      ]
     },
     "execution_count": 36,
     "metadata": {},
     "output_type": "execute_result"
    }
   ],
   "source": [
    "B_report_rf"
   ]
  },
  {
   "cell_type": "markdown",
   "metadata": {},
   "source": [
    "DecisionTreeClassifier algorythm with RandomizedGridSearch in pipeline, scaling reducing, ballancing:"
   ]
  },
  {
   "cell_type": "code",
   "execution_count": 37,
   "metadata": {},
   "outputs": [
    {
     "name": "stdout",
     "output_type": "stream",
     "text": [
      "Fitting 5 folds for each of 12 candidates, totalling 60 fits\n",
      "[CV 1/5] END dtc__max_depth=10, dtc__max_leaf_nodes=5, dtc__random_state=23, pca__n_components=5;, score=0.725 total time=   2.6s\n",
      "[CV 2/5] END dtc__max_depth=10, dtc__max_leaf_nodes=5, dtc__random_state=23, pca__n_components=5;, score=0.726 total time=   2.5s\n",
      "[CV 3/5] END dtc__max_depth=10, dtc__max_leaf_nodes=5, dtc__random_state=23, pca__n_components=5;, score=0.730 total time=   2.5s\n",
      "[CV 4/5] END dtc__max_depth=10, dtc__max_leaf_nodes=5, dtc__random_state=23, pca__n_components=5;, score=0.730 total time=   2.5s\n",
      "[CV 5/5] END dtc__max_depth=10, dtc__max_leaf_nodes=5, dtc__random_state=23, pca__n_components=5;, score=0.729 total time=   2.5s\n",
      "[CV 1/5] END dtc__max_depth=10, dtc__max_leaf_nodes=5, dtc__random_state=23, pca__n_components=10;, score=0.728 total time=  12.4s\n",
      "[CV 2/5] END dtc__max_depth=10, dtc__max_leaf_nodes=5, dtc__random_state=23, pca__n_components=10;, score=0.725 total time=  13.4s\n",
      "[CV 3/5] END dtc__max_depth=10, dtc__max_leaf_nodes=5, dtc__random_state=23, pca__n_components=10;, score=0.738 total time=  12.5s\n",
      "[CV 4/5] END dtc__max_depth=10, dtc__max_leaf_nodes=5, dtc__random_state=23, pca__n_components=10;, score=0.733 total time=  13.3s\n",
      "[CV 5/5] END dtc__max_depth=10, dtc__max_leaf_nodes=5, dtc__random_state=23, pca__n_components=10;, score=0.725 total time=  12.4s\n",
      "[CV 1/5] END dtc__max_depth=10, dtc__max_leaf_nodes=5, dtc__random_state=23, pca__n_components=20;, score=0.729 total time=  20.0s\n",
      "[CV 2/5] END dtc__max_depth=10, dtc__max_leaf_nodes=5, dtc__random_state=23, pca__n_components=20;, score=0.725 total time=  19.9s\n",
      "[CV 3/5] END dtc__max_depth=10, dtc__max_leaf_nodes=5, dtc__random_state=23, pca__n_components=20;, score=0.736 total time=  19.9s\n",
      "[CV 4/5] END dtc__max_depth=10, dtc__max_leaf_nodes=5, dtc__random_state=23, pca__n_components=20;, score=0.732 total time=  19.8s\n",
      "[CV 5/5] END dtc__max_depth=10, dtc__max_leaf_nodes=5, dtc__random_state=23, pca__n_components=20;, score=0.727 total time=  19.9s\n",
      "[CV 1/5] END dtc__max_depth=10, dtc__max_leaf_nodes=30, dtc__random_state=23, pca__n_components=5;, score=0.777 total time=   2.6s\n",
      "[CV 2/5] END dtc__max_depth=10, dtc__max_leaf_nodes=30, dtc__random_state=23, pca__n_components=5;, score=0.779 total time=   2.6s\n",
      "[CV 3/5] END dtc__max_depth=10, dtc__max_leaf_nodes=30, dtc__random_state=23, pca__n_components=5;, score=0.781 total time=   2.7s\n",
      "[CV 4/5] END dtc__max_depth=10, dtc__max_leaf_nodes=30, dtc__random_state=23, pca__n_components=5;, score=0.779 total time=   2.6s\n",
      "[CV 5/5] END dtc__max_depth=10, dtc__max_leaf_nodes=30, dtc__random_state=23, pca__n_components=5;, score=0.779 total time=   2.6s\n",
      "[CV 1/5] END dtc__max_depth=10, dtc__max_leaf_nodes=30, dtc__random_state=23, pca__n_components=10;, score=0.793 total time=  13.1s\n",
      "[CV 2/5] END dtc__max_depth=10, dtc__max_leaf_nodes=30, dtc__random_state=23, pca__n_components=10;, score=0.796 total time=  13.8s\n",
      "[CV 3/5] END dtc__max_depth=10, dtc__max_leaf_nodes=30, dtc__random_state=23, pca__n_components=10;, score=0.801 total time=  12.7s\n",
      "[CV 4/5] END dtc__max_depth=10, dtc__max_leaf_nodes=30, dtc__random_state=23, pca__n_components=10;, score=0.800 total time=  12.6s\n",
      "[CV 5/5] END dtc__max_depth=10, dtc__max_leaf_nodes=30, dtc__random_state=23, pca__n_components=10;, score=0.793 total time=  12.6s\n",
      "[CV 1/5] END dtc__max_depth=10, dtc__max_leaf_nodes=30, dtc__random_state=23, pca__n_components=20;, score=0.802 total time=  20.2s\n",
      "[CV 2/5] END dtc__max_depth=10, dtc__max_leaf_nodes=30, dtc__random_state=23, pca__n_components=20;, score=0.800 total time=  20.3s\n",
      "[CV 3/5] END dtc__max_depth=10, dtc__max_leaf_nodes=30, dtc__random_state=23, pca__n_components=20;, score=0.812 total time=  20.3s\n",
      "[CV 4/5] END dtc__max_depth=10, dtc__max_leaf_nodes=30, dtc__random_state=23, pca__n_components=20;, score=0.805 total time=  20.3s\n",
      "[CV 5/5] END dtc__max_depth=10, dtc__max_leaf_nodes=30, dtc__random_state=23, pca__n_components=20;, score=0.800 total time=  20.8s\n",
      "[CV 1/5] END dtc__max_depth=40, dtc__max_leaf_nodes=5, dtc__random_state=23, pca__n_components=5;, score=0.726 total time=   2.6s\n",
      "[CV 2/5] END dtc__max_depth=40, dtc__max_leaf_nodes=5, dtc__random_state=23, pca__n_components=5;, score=0.724 total time=   2.5s\n",
      "[CV 3/5] END dtc__max_depth=40, dtc__max_leaf_nodes=5, dtc__random_state=23, pca__n_components=5;, score=0.735 total time=   2.6s\n",
      "[CV 4/5] END dtc__max_depth=40, dtc__max_leaf_nodes=5, dtc__random_state=23, pca__n_components=5;, score=0.722 total time=   2.6s\n",
      "[CV 5/5] END dtc__max_depth=40, dtc__max_leaf_nodes=5, dtc__random_state=23, pca__n_components=5;, score=0.728 total time=   2.5s\n",
      "[CV 1/5] END dtc__max_depth=40, dtc__max_leaf_nodes=5, dtc__random_state=23, pca__n_components=10;, score=0.728 total time=  11.4s\n",
      "[CV 2/5] END dtc__max_depth=40, dtc__max_leaf_nodes=5, dtc__random_state=23, pca__n_components=10;, score=0.730 total time=  12.3s\n",
      "[CV 3/5] END dtc__max_depth=40, dtc__max_leaf_nodes=5, dtc__random_state=23, pca__n_components=10;, score=0.734 total time=  12.4s\n",
      "[CV 4/5] END dtc__max_depth=40, dtc__max_leaf_nodes=5, dtc__random_state=23, pca__n_components=10;, score=0.733 total time=  12.3s\n",
      "[CV 5/5] END dtc__max_depth=40, dtc__max_leaf_nodes=5, dtc__random_state=23, pca__n_components=10;, score=0.727 total time=  12.4s\n",
      "[CV 1/5] END dtc__max_depth=40, dtc__max_leaf_nodes=5, dtc__random_state=23, pca__n_components=20;, score=0.729 total time=  21.0s\n",
      "[CV 2/5] END dtc__max_depth=40, dtc__max_leaf_nodes=5, dtc__random_state=23, pca__n_components=20;, score=0.723 total time=  21.1s\n",
      "[CV 3/5] END dtc__max_depth=40, dtc__max_leaf_nodes=5, dtc__random_state=23, pca__n_components=20;, score=0.738 total time=  21.6s\n",
      "[CV 4/5] END dtc__max_depth=40, dtc__max_leaf_nodes=5, dtc__random_state=23, pca__n_components=20;, score=0.732 total time=  22.2s\n",
      "[CV 5/5] END dtc__max_depth=40, dtc__max_leaf_nodes=5, dtc__random_state=23, pca__n_components=20;, score=0.724 total time=  21.3s\n",
      "[CV 1/5] END dtc__max_depth=40, dtc__max_leaf_nodes=30, dtc__random_state=23, pca__n_components=5;, score=0.777 total time=   2.6s\n",
      "[CV 2/5] END dtc__max_depth=40, dtc__max_leaf_nodes=30, dtc__random_state=23, pca__n_components=5;, score=0.778 total time=   2.7s\n",
      "[CV 3/5] END dtc__max_depth=40, dtc__max_leaf_nodes=30, dtc__random_state=23, pca__n_components=5;, score=0.784 total time=   2.6s\n",
      "[CV 4/5] END dtc__max_depth=40, dtc__max_leaf_nodes=30, dtc__random_state=23, pca__n_components=5;, score=0.782 total time=   2.6s\n",
      "[CV 5/5] END dtc__max_depth=40, dtc__max_leaf_nodes=30, dtc__random_state=23, pca__n_components=5;, score=0.783 total time=   2.6s\n",
      "[CV 1/5] END dtc__max_depth=40, dtc__max_leaf_nodes=30, dtc__random_state=23, pca__n_components=10;, score=0.792 total time=  12.4s\n",
      "[CV 2/5] END dtc__max_depth=40, dtc__max_leaf_nodes=30, dtc__random_state=23, pca__n_components=10;, score=0.793 total time=  12.8s\n",
      "[CV 3/5] END dtc__max_depth=40, dtc__max_leaf_nodes=30, dtc__random_state=23, pca__n_components=10;, score=0.799 total time=  12.2s\n",
      "[CV 4/5] END dtc__max_depth=40, dtc__max_leaf_nodes=30, dtc__random_state=23, pca__n_components=10;, score=0.802 total time=  12.0s\n",
      "[CV 5/5] END dtc__max_depth=40, dtc__max_leaf_nodes=30, dtc__random_state=23, pca__n_components=10;, score=0.793 total time=  11.7s\n",
      "[CV 1/5] END dtc__max_depth=40, dtc__max_leaf_nodes=30, dtc__random_state=23, pca__n_components=20;, score=0.796 total time=  20.0s\n",
      "[CV 2/5] END dtc__max_depth=40, dtc__max_leaf_nodes=30, dtc__random_state=23, pca__n_components=20;, score=0.799 total time=  20.0s\n",
      "[CV 3/5] END dtc__max_depth=40, dtc__max_leaf_nodes=30, dtc__random_state=23, pca__n_components=20;, score=0.811 total time=  20.1s\n",
      "[CV 4/5] END dtc__max_depth=40, dtc__max_leaf_nodes=30, dtc__random_state=23, pca__n_components=20;, score=0.806 total time=  20.1s\n",
      "[CV 5/5] END dtc__max_depth=40, dtc__max_leaf_nodes=30, dtc__random_state=23, pca__n_components=20;, score=0.803 total time=  20.1s\n",
      "Cross-validation score: 0.8038270013173345\n",
      "Test score: 0.7929148244222323\n",
      "Decision Tree:\n",
      "{'rf__n_estimators': 20, 'rf__min_samples_split': 10, 'rf__max_depth': 20, 'pca__n_components': 20}\n",
      "Results on test: 0.815813719742022\n",
      "Results on train: 0.879147571584124\n"
     ]
    }
   ],
   "source": [
    "stratified_kfold = StratifiedKFold(n_splits=5,\n",
    "                                       shuffle=True,\n",
    "                                       random_state=13)\n",
    "\n",
    "pipeline = imbpipeline(steps = [['scaler', scaler],\n",
    "                                ['pca', pca],\n",
    "                                ['smote', SMOTEEN],\n",
    "                                ['dtc', DecisionTreeClassifier()]])\n",
    "\n",
    "    \n",
    "param_grid = {'dtc__max_leaf_nodes' : [5, 30], \n",
    "             'dtc__max_depth': [10, 40],\n",
    "             'dtc__random_state' : [23],\n",
    "             'pca__n_components': [5, 10, 20]\n",
    "             }\n",
    "\n",
    "search_dtc = GridSearchCV(estimator=pipeline,\n",
    "                           param_grid=param_grid,\n",
    "                           scoring='roc_auc',\n",
    "                           cv=stratified_kfold,                           \n",
    "                          verbose=3,\n",
    "                           #n_jobs=3\n",
    "                         )\n",
    "\n",
    "search_dtc.fit(X_train, y_train)\n",
    "y_pred_dtc = search_dtc.best_estimator_.predict(X_test)\n",
    "cv_score = search_dtc.best_score_\n",
    "test_score = search_dtc.score(X_test, y_test)\n",
    "print(f'Cross-validation score: {cv_score}\\nTest score: {test_score}')\n",
    "print(\"Decision Tree:\")\n",
    "print(search_rf.best_params_)\n",
    "print(f'Results on test: {search_rf.best_estimator_.score(X_test, y_test)}')\n",
    "print(f'Results on train: {search_rf.best_estimator_.score(X_train, y_train)}')"
   ]
  },
  {
   "cell_type": "markdown",
   "metadata": {},
   "source": [
    "Achieving scores of classification, saving accuracy, recall and F1 score in data frame:"
   ]
  },
  {
   "cell_type": "code",
   "execution_count": 38,
   "metadata": {},
   "outputs": [
    {
     "data": {
      "text/plain": [
       "array([1, 1, 0, ..., 0, 1, 0])"
      ]
     },
     "execution_count": 38,
     "metadata": {},
     "output_type": "execute_result"
    }
   ],
   "source": [
    "y_pred_dtc"
   ]
  },
  {
   "cell_type": "code",
   "execution_count": 39,
   "metadata": {},
   "outputs": [
    {
     "name": "stdout",
     "output_type": "stream",
     "text": [
      "              precision    recall  f1-score   support\n",
      "\n",
      "           0       0.79      0.76      0.77     22550\n",
      "           1       0.62      0.67      0.64     13267\n",
      "\n",
      "    accuracy                           0.72     35817\n",
      "   macro avg       0.71      0.71      0.71     35817\n",
      "weighted avg       0.73      0.72      0.73     35817\n",
      "\n"
     ]
    }
   ],
   "source": [
    "print(classification_report(y_test, y_pred_dtc))\n",
    "B_report_dtc = pd.DataFrame(classification_report(y_test, y_pred_dtc, output_dict=True))"
   ]
  },
  {
   "cell_type": "code",
   "execution_count": 40,
   "metadata": {},
   "outputs": [],
   "source": [
    "for i, name in enumerate(B_report_dtc.columns):\n",
    "  B_report_dtc = B_report_dtc.rename(columns={(B_report_dtc.iloc[:,i].name): ('DTC_'+B_report_dtc.iloc[:,i].name)})\n"
   ]
  },
  {
   "cell_type": "code",
   "execution_count": 41,
   "metadata": {},
   "outputs": [
    {
     "data": {
      "text/html": [
       "<div>\n",
       "<style scoped>\n",
       "    .dataframe tbody tr th:only-of-type {\n",
       "        vertical-align: middle;\n",
       "    }\n",
       "\n",
       "    .dataframe tbody tr th {\n",
       "        vertical-align: top;\n",
       "    }\n",
       "\n",
       "    .dataframe thead th {\n",
       "        text-align: right;\n",
       "    }\n",
       "</style>\n",
       "<table border=\"1\" class=\"dataframe\">\n",
       "  <thead>\n",
       "    <tr style=\"text-align: right;\">\n",
       "      <th></th>\n",
       "      <th>DTC_0</th>\n",
       "      <th>DTC_1</th>\n",
       "      <th>DTC_accuracy</th>\n",
       "      <th>DTC_macro avg</th>\n",
       "      <th>DTC_weighted avg</th>\n",
       "    </tr>\n",
       "  </thead>\n",
       "  <tbody>\n",
       "    <tr>\n",
       "      <th>precision</th>\n",
       "      <td>0.793867</td>\n",
       "      <td>0.616850</td>\n",
       "      <td>0.723064</td>\n",
       "      <td>0.705359</td>\n",
       "      <td>0.728298</td>\n",
       "    </tr>\n",
       "    <tr>\n",
       "      <th>recall</th>\n",
       "      <td>0.756585</td>\n",
       "      <td>0.666089</td>\n",
       "      <td>0.723064</td>\n",
       "      <td>0.711337</td>\n",
       "      <td>0.723064</td>\n",
       "    </tr>\n",
       "    <tr>\n",
       "      <th>f1-score</th>\n",
       "      <td>0.774778</td>\n",
       "      <td>0.640525</td>\n",
       "      <td>0.723064</td>\n",
       "      <td>0.707651</td>\n",
       "      <td>0.725049</td>\n",
       "    </tr>\n",
       "    <tr>\n",
       "      <th>support</th>\n",
       "      <td>22550.000000</td>\n",
       "      <td>13267.000000</td>\n",
       "      <td>0.723064</td>\n",
       "      <td>35817.000000</td>\n",
       "      <td>35817.000000</td>\n",
       "    </tr>\n",
       "  </tbody>\n",
       "</table>\n",
       "</div>"
      ],
      "text/plain": [
       "                  DTC_0         DTC_1  DTC_accuracy  DTC_macro avg  \\\n",
       "precision      0.793867      0.616850      0.723064       0.705359   \n",
       "recall         0.756585      0.666089      0.723064       0.711337   \n",
       "f1-score       0.774778      0.640525      0.723064       0.707651   \n",
       "support    22550.000000  13267.000000      0.723064   35817.000000   \n",
       "\n",
       "           DTC_weighted avg  \n",
       "precision          0.728298  \n",
       "recall             0.723064  \n",
       "f1-score           0.725049  \n",
       "support        35817.000000  "
      ]
     },
     "execution_count": 41,
     "metadata": {},
     "output_type": "execute_result"
    }
   ],
   "source": [
    "B_report_dtc"
   ]
  },
  {
   "cell_type": "markdown",
   "metadata": {},
   "source": [
    "Support Vector Classifier algorythm with RandomizedGridSearch in pipeline, scaling reducing, ballancing:"
   ]
  },
  {
   "cell_type": "code",
   "execution_count": 42,
   "metadata": {
    "scrolled": true
   },
   "outputs": [
    {
     "name": "stdout",
     "output_type": "stream",
     "text": [
      "Fitting 5 folds for each of 6 candidates, totalling 30 fits\n"
     ]
    },
    {
     "name": "stderr",
     "output_type": "stream",
     "text": [
      "/home/hybrid/.local/lib/python3.8/site-packages/sklearn/svm/_base.py:299: ConvergenceWarning: Solver terminated early (max_iter=150).  Consider pre-processing your data with StandardScaler or MinMaxScaler.\n",
      "  warnings.warn(\n"
     ]
    },
    {
     "name": "stdout",
     "output_type": "stream",
     "text": [
      "[CV 1/5] END SVC__decision_function_shape=ovo, SVC__degree=1, SVC__gamma=auto, SVC__kernel=rbf, SVC__max_iter=150, SVC__random_state=11, pca__n_components=5;, score=0.610 total time=   3.5s\n"
     ]
    },
    {
     "name": "stderr",
     "output_type": "stream",
     "text": [
      "/home/hybrid/.local/lib/python3.8/site-packages/sklearn/svm/_base.py:299: ConvergenceWarning: Solver terminated early (max_iter=150).  Consider pre-processing your data with StandardScaler or MinMaxScaler.\n",
      "  warnings.warn(\n"
     ]
    },
    {
     "name": "stdout",
     "output_type": "stream",
     "text": [
      "[CV 2/5] END SVC__decision_function_shape=ovo, SVC__degree=1, SVC__gamma=auto, SVC__kernel=rbf, SVC__max_iter=150, SVC__random_state=11, pca__n_components=5;, score=0.577 total time=   3.4s\n"
     ]
    },
    {
     "name": "stderr",
     "output_type": "stream",
     "text": [
      "/home/hybrid/.local/lib/python3.8/site-packages/sklearn/svm/_base.py:299: ConvergenceWarning: Solver terminated early (max_iter=150).  Consider pre-processing your data with StandardScaler or MinMaxScaler.\n",
      "  warnings.warn(\n"
     ]
    },
    {
     "name": "stdout",
     "output_type": "stream",
     "text": [
      "[CV 3/5] END SVC__decision_function_shape=ovo, SVC__degree=1, SVC__gamma=auto, SVC__kernel=rbf, SVC__max_iter=150, SVC__random_state=11, pca__n_components=5;, score=0.616 total time=   3.4s\n"
     ]
    },
    {
     "name": "stderr",
     "output_type": "stream",
     "text": [
      "/home/hybrid/.local/lib/python3.8/site-packages/sklearn/svm/_base.py:299: ConvergenceWarning: Solver terminated early (max_iter=150).  Consider pre-processing your data with StandardScaler or MinMaxScaler.\n",
      "  warnings.warn(\n"
     ]
    },
    {
     "name": "stdout",
     "output_type": "stream",
     "text": [
      "[CV 4/5] END SVC__decision_function_shape=ovo, SVC__degree=1, SVC__gamma=auto, SVC__kernel=rbf, SVC__max_iter=150, SVC__random_state=11, pca__n_components=5;, score=0.416 total time=   3.5s\n"
     ]
    },
    {
     "name": "stderr",
     "output_type": "stream",
     "text": [
      "/home/hybrid/.local/lib/python3.8/site-packages/sklearn/svm/_base.py:299: ConvergenceWarning: Solver terminated early (max_iter=150).  Consider pre-processing your data with StandardScaler or MinMaxScaler.\n",
      "  warnings.warn(\n"
     ]
    },
    {
     "name": "stdout",
     "output_type": "stream",
     "text": [
      "[CV 5/5] END SVC__decision_function_shape=ovo, SVC__degree=1, SVC__gamma=auto, SVC__kernel=rbf, SVC__max_iter=150, SVC__random_state=11, pca__n_components=5;, score=0.544 total time=   3.4s\n"
     ]
    },
    {
     "name": "stderr",
     "output_type": "stream",
     "text": [
      "/home/hybrid/.local/lib/python3.8/site-packages/sklearn/svm/_base.py:299: ConvergenceWarning: Solver terminated early (max_iter=150).  Consider pre-processing your data with StandardScaler or MinMaxScaler.\n",
      "  warnings.warn(\n"
     ]
    },
    {
     "name": "stdout",
     "output_type": "stream",
     "text": [
      "[CV 1/5] END SVC__decision_function_shape=ovo, SVC__degree=1, SVC__gamma=auto, SVC__kernel=rbf, SVC__max_iter=150, SVC__random_state=11, pca__n_components=10;, score=0.618 total time=  12.7s\n"
     ]
    },
    {
     "name": "stderr",
     "output_type": "stream",
     "text": [
      "/home/hybrid/.local/lib/python3.8/site-packages/sklearn/svm/_base.py:299: ConvergenceWarning: Solver terminated early (max_iter=150).  Consider pre-processing your data with StandardScaler or MinMaxScaler.\n",
      "  warnings.warn(\n"
     ]
    },
    {
     "name": "stdout",
     "output_type": "stream",
     "text": [
      "[CV 2/5] END SVC__decision_function_shape=ovo, SVC__degree=1, SVC__gamma=auto, SVC__kernel=rbf, SVC__max_iter=150, SVC__random_state=11, pca__n_components=10;, score=0.576 total time=  12.9s\n"
     ]
    },
    {
     "name": "stderr",
     "output_type": "stream",
     "text": [
      "/home/hybrid/.local/lib/python3.8/site-packages/sklearn/svm/_base.py:299: ConvergenceWarning: Solver terminated early (max_iter=150).  Consider pre-processing your data with StandardScaler or MinMaxScaler.\n",
      "  warnings.warn(\n"
     ]
    },
    {
     "name": "stdout",
     "output_type": "stream",
     "text": [
      "[CV 3/5] END SVC__decision_function_shape=ovo, SVC__degree=1, SVC__gamma=auto, SVC__kernel=rbf, SVC__max_iter=150, SVC__random_state=11, pca__n_components=10;, score=0.614 total time=  13.3s\n"
     ]
    },
    {
     "name": "stderr",
     "output_type": "stream",
     "text": [
      "/home/hybrid/.local/lib/python3.8/site-packages/sklearn/svm/_base.py:299: ConvergenceWarning: Solver terminated early (max_iter=150).  Consider pre-processing your data with StandardScaler or MinMaxScaler.\n",
      "  warnings.warn(\n"
     ]
    },
    {
     "name": "stdout",
     "output_type": "stream",
     "text": [
      "[CV 4/5] END SVC__decision_function_shape=ovo, SVC__degree=1, SVC__gamma=auto, SVC__kernel=rbf, SVC__max_iter=150, SVC__random_state=11, pca__n_components=10;, score=0.575 total time=  12.9s\n"
     ]
    },
    {
     "name": "stderr",
     "output_type": "stream",
     "text": [
      "/home/hybrid/.local/lib/python3.8/site-packages/sklearn/svm/_base.py:299: ConvergenceWarning: Solver terminated early (max_iter=150).  Consider pre-processing your data with StandardScaler or MinMaxScaler.\n",
      "  warnings.warn(\n"
     ]
    },
    {
     "name": "stdout",
     "output_type": "stream",
     "text": [
      "[CV 5/5] END SVC__decision_function_shape=ovo, SVC__degree=1, SVC__gamma=auto, SVC__kernel=rbf, SVC__max_iter=150, SVC__random_state=11, pca__n_components=10;, score=0.591 total time=  12.4s\n"
     ]
    },
    {
     "name": "stderr",
     "output_type": "stream",
     "text": [
      "/home/hybrid/.local/lib/python3.8/site-packages/sklearn/svm/_base.py:299: ConvergenceWarning: Solver terminated early (max_iter=150).  Consider pre-processing your data with StandardScaler or MinMaxScaler.\n",
      "  warnings.warn(\n"
     ]
    },
    {
     "name": "stdout",
     "output_type": "stream",
     "text": [
      "[CV 1/5] END SVC__decision_function_shape=ovo, SVC__degree=1, SVC__gamma=auto, SVC__kernel=rbf, SVC__max_iter=150, SVC__random_state=11, pca__n_components=20;, score=0.631 total time=  20.4s\n"
     ]
    },
    {
     "name": "stderr",
     "output_type": "stream",
     "text": [
      "/home/hybrid/.local/lib/python3.8/site-packages/sklearn/svm/_base.py:299: ConvergenceWarning: Solver terminated early (max_iter=150).  Consider pre-processing your data with StandardScaler or MinMaxScaler.\n",
      "  warnings.warn(\n"
     ]
    },
    {
     "name": "stdout",
     "output_type": "stream",
     "text": [
      "[CV 2/5] END SVC__decision_function_shape=ovo, SVC__degree=1, SVC__gamma=auto, SVC__kernel=rbf, SVC__max_iter=150, SVC__random_state=11, pca__n_components=20;, score=0.554 total time=  20.6s\n"
     ]
    },
    {
     "name": "stderr",
     "output_type": "stream",
     "text": [
      "/home/hybrid/.local/lib/python3.8/site-packages/sklearn/svm/_base.py:299: ConvergenceWarning: Solver terminated early (max_iter=150).  Consider pre-processing your data with StandardScaler or MinMaxScaler.\n",
      "  warnings.warn(\n"
     ]
    },
    {
     "name": "stdout",
     "output_type": "stream",
     "text": [
      "[CV 3/5] END SVC__decision_function_shape=ovo, SVC__degree=1, SVC__gamma=auto, SVC__kernel=rbf, SVC__max_iter=150, SVC__random_state=11, pca__n_components=20;, score=0.661 total time=  20.6s\n"
     ]
    },
    {
     "name": "stderr",
     "output_type": "stream",
     "text": [
      "/home/hybrid/.local/lib/python3.8/site-packages/sklearn/svm/_base.py:299: ConvergenceWarning: Solver terminated early (max_iter=150).  Consider pre-processing your data with StandardScaler or MinMaxScaler.\n",
      "  warnings.warn(\n"
     ]
    },
    {
     "name": "stdout",
     "output_type": "stream",
     "text": [
      "[CV 4/5] END SVC__decision_function_shape=ovo, SVC__degree=1, SVC__gamma=auto, SVC__kernel=rbf, SVC__max_iter=150, SVC__random_state=11, pca__n_components=20;, score=0.598 total time=  20.6s\n"
     ]
    },
    {
     "name": "stderr",
     "output_type": "stream",
     "text": [
      "/home/hybrid/.local/lib/python3.8/site-packages/sklearn/svm/_base.py:299: ConvergenceWarning: Solver terminated early (max_iter=150).  Consider pre-processing your data with StandardScaler or MinMaxScaler.\n",
      "  warnings.warn(\n"
     ]
    },
    {
     "name": "stdout",
     "output_type": "stream",
     "text": [
      "[CV 5/5] END SVC__decision_function_shape=ovo, SVC__degree=1, SVC__gamma=auto, SVC__kernel=rbf, SVC__max_iter=150, SVC__random_state=11, pca__n_components=20;, score=0.675 total time=  20.8s\n"
     ]
    },
    {
     "name": "stderr",
     "output_type": "stream",
     "text": [
      "/home/hybrid/.local/lib/python3.8/site-packages/sklearn/svm/_base.py:299: ConvergenceWarning: Solver terminated early (max_iter=300).  Consider pre-processing your data with StandardScaler or MinMaxScaler.\n",
      "  warnings.warn(\n"
     ]
    },
    {
     "name": "stdout",
     "output_type": "stream",
     "text": [
      "[CV 1/5] END SVC__decision_function_shape=ovo, SVC__degree=1, SVC__gamma=auto, SVC__kernel=rbf, SVC__max_iter=300, SVC__random_state=11, pca__n_components=5;, score=0.667 total time=   4.6s\n"
     ]
    },
    {
     "name": "stderr",
     "output_type": "stream",
     "text": [
      "/home/hybrid/.local/lib/python3.8/site-packages/sklearn/svm/_base.py:299: ConvergenceWarning: Solver terminated early (max_iter=300).  Consider pre-processing your data with StandardScaler or MinMaxScaler.\n",
      "  warnings.warn(\n"
     ]
    },
    {
     "name": "stdout",
     "output_type": "stream",
     "text": [
      "[CV 2/5] END SVC__decision_function_shape=ovo, SVC__degree=1, SVC__gamma=auto, SVC__kernel=rbf, SVC__max_iter=300, SVC__random_state=11, pca__n_components=5;, score=0.447 total time=   4.6s\n"
     ]
    },
    {
     "name": "stderr",
     "output_type": "stream",
     "text": [
      "/home/hybrid/.local/lib/python3.8/site-packages/sklearn/svm/_base.py:299: ConvergenceWarning: Solver terminated early (max_iter=300).  Consider pre-processing your data with StandardScaler or MinMaxScaler.\n",
      "  warnings.warn(\n"
     ]
    },
    {
     "name": "stdout",
     "output_type": "stream",
     "text": [
      "[CV 3/5] END SVC__decision_function_shape=ovo, SVC__degree=1, SVC__gamma=auto, SVC__kernel=rbf, SVC__max_iter=300, SVC__random_state=11, pca__n_components=5;, score=0.574 total time=   4.6s\n"
     ]
    },
    {
     "name": "stderr",
     "output_type": "stream",
     "text": [
      "/home/hybrid/.local/lib/python3.8/site-packages/sklearn/svm/_base.py:299: ConvergenceWarning: Solver terminated early (max_iter=300).  Consider pre-processing your data with StandardScaler or MinMaxScaler.\n",
      "  warnings.warn(\n"
     ]
    },
    {
     "name": "stdout",
     "output_type": "stream",
     "text": [
      "[CV 4/5] END SVC__decision_function_shape=ovo, SVC__degree=1, SVC__gamma=auto, SVC__kernel=rbf, SVC__max_iter=300, SVC__random_state=11, pca__n_components=5;, score=0.489 total time=   4.5s\n"
     ]
    },
    {
     "name": "stderr",
     "output_type": "stream",
     "text": [
      "/home/hybrid/.local/lib/python3.8/site-packages/sklearn/svm/_base.py:299: ConvergenceWarning: Solver terminated early (max_iter=300).  Consider pre-processing your data with StandardScaler or MinMaxScaler.\n",
      "  warnings.warn(\n"
     ]
    },
    {
     "name": "stdout",
     "output_type": "stream",
     "text": [
      "[CV 5/5] END SVC__decision_function_shape=ovo, SVC__degree=1, SVC__gamma=auto, SVC__kernel=rbf, SVC__max_iter=300, SVC__random_state=11, pca__n_components=5;, score=0.455 total time=   4.6s\n"
     ]
    },
    {
     "name": "stderr",
     "output_type": "stream",
     "text": [
      "/home/hybrid/.local/lib/python3.8/site-packages/sklearn/svm/_base.py:299: ConvergenceWarning: Solver terminated early (max_iter=300).  Consider pre-processing your data with StandardScaler or MinMaxScaler.\n",
      "  warnings.warn(\n"
     ]
    },
    {
     "name": "stdout",
     "output_type": "stream",
     "text": [
      "[CV 1/5] END SVC__decision_function_shape=ovo, SVC__degree=1, SVC__gamma=auto, SVC__kernel=rbf, SVC__max_iter=300, SVC__random_state=11, pca__n_components=10;, score=0.595 total time=  14.4s\n"
     ]
    },
    {
     "name": "stderr",
     "output_type": "stream",
     "text": [
      "/home/hybrid/.local/lib/python3.8/site-packages/sklearn/svm/_base.py:299: ConvergenceWarning: Solver terminated early (max_iter=300).  Consider pre-processing your data with StandardScaler or MinMaxScaler.\n",
      "  warnings.warn(\n"
     ]
    },
    {
     "name": "stdout",
     "output_type": "stream",
     "text": [
      "[CV 2/5] END SVC__decision_function_shape=ovo, SVC__degree=1, SVC__gamma=auto, SVC__kernel=rbf, SVC__max_iter=300, SVC__random_state=11, pca__n_components=10;, score=0.452 total time=  14.0s\n"
     ]
    },
    {
     "name": "stderr",
     "output_type": "stream",
     "text": [
      "/home/hybrid/.local/lib/python3.8/site-packages/sklearn/svm/_base.py:299: ConvergenceWarning: Solver terminated early (max_iter=300).  Consider pre-processing your data with StandardScaler or MinMaxScaler.\n",
      "  warnings.warn(\n"
     ]
    },
    {
     "name": "stdout",
     "output_type": "stream",
     "text": [
      "[CV 3/5] END SVC__decision_function_shape=ovo, SVC__degree=1, SVC__gamma=auto, SVC__kernel=rbf, SVC__max_iter=300, SVC__random_state=11, pca__n_components=10;, score=0.649 total time=  14.5s\n"
     ]
    },
    {
     "name": "stderr",
     "output_type": "stream",
     "text": [
      "/home/hybrid/.local/lib/python3.8/site-packages/sklearn/svm/_base.py:299: ConvergenceWarning: Solver terminated early (max_iter=300).  Consider pre-processing your data with StandardScaler or MinMaxScaler.\n",
      "  warnings.warn(\n"
     ]
    },
    {
     "name": "stdout",
     "output_type": "stream",
     "text": [
      "[CV 4/5] END SVC__decision_function_shape=ovo, SVC__degree=1, SVC__gamma=auto, SVC__kernel=rbf, SVC__max_iter=300, SVC__random_state=11, pca__n_components=10;, score=0.618 total time=  13.9s\n"
     ]
    },
    {
     "name": "stderr",
     "output_type": "stream",
     "text": [
      "/home/hybrid/.local/lib/python3.8/site-packages/sklearn/svm/_base.py:299: ConvergenceWarning: Solver terminated early (max_iter=300).  Consider pre-processing your data with StandardScaler or MinMaxScaler.\n",
      "  warnings.warn(\n"
     ]
    },
    {
     "name": "stdout",
     "output_type": "stream",
     "text": [
      "[CV 5/5] END SVC__decision_function_shape=ovo, SVC__degree=1, SVC__gamma=auto, SVC__kernel=rbf, SVC__max_iter=300, SVC__random_state=11, pca__n_components=10;, score=0.606 total time=  14.0s\n"
     ]
    },
    {
     "name": "stderr",
     "output_type": "stream",
     "text": [
      "/home/hybrid/.local/lib/python3.8/site-packages/sklearn/svm/_base.py:299: ConvergenceWarning: Solver terminated early (max_iter=300).  Consider pre-processing your data with StandardScaler or MinMaxScaler.\n",
      "  warnings.warn(\n"
     ]
    },
    {
     "name": "stdout",
     "output_type": "stream",
     "text": [
      "[CV 1/5] END SVC__decision_function_shape=ovo, SVC__degree=1, SVC__gamma=auto, SVC__kernel=rbf, SVC__max_iter=300, SVC__random_state=11, pca__n_components=20;, score=0.598 total time=  22.2s\n"
     ]
    },
    {
     "name": "stderr",
     "output_type": "stream",
     "text": [
      "/home/hybrid/.local/lib/python3.8/site-packages/sklearn/svm/_base.py:299: ConvergenceWarning: Solver terminated early (max_iter=300).  Consider pre-processing your data with StandardScaler or MinMaxScaler.\n",
      "  warnings.warn(\n"
     ]
    },
    {
     "name": "stdout",
     "output_type": "stream",
     "text": [
      "[CV 2/5] END SVC__decision_function_shape=ovo, SVC__degree=1, SVC__gamma=auto, SVC__kernel=rbf, SVC__max_iter=300, SVC__random_state=11, pca__n_components=20;, score=0.647 total time=  22.3s\n"
     ]
    },
    {
     "name": "stderr",
     "output_type": "stream",
     "text": [
      "/home/hybrid/.local/lib/python3.8/site-packages/sklearn/svm/_base.py:299: ConvergenceWarning: Solver terminated early (max_iter=300).  Consider pre-processing your data with StandardScaler or MinMaxScaler.\n",
      "  warnings.warn(\n"
     ]
    },
    {
     "name": "stdout",
     "output_type": "stream",
     "text": [
      "[CV 3/5] END SVC__decision_function_shape=ovo, SVC__degree=1, SVC__gamma=auto, SVC__kernel=rbf, SVC__max_iter=300, SVC__random_state=11, pca__n_components=20;, score=0.670 total time=  22.4s\n"
     ]
    },
    {
     "name": "stderr",
     "output_type": "stream",
     "text": [
      "/home/hybrid/.local/lib/python3.8/site-packages/sklearn/svm/_base.py:299: ConvergenceWarning: Solver terminated early (max_iter=300).  Consider pre-processing your data with StandardScaler or MinMaxScaler.\n",
      "  warnings.warn(\n"
     ]
    },
    {
     "name": "stdout",
     "output_type": "stream",
     "text": [
      "[CV 4/5] END SVC__decision_function_shape=ovo, SVC__degree=1, SVC__gamma=auto, SVC__kernel=rbf, SVC__max_iter=300, SVC__random_state=11, pca__n_components=20;, score=0.672 total time=  22.2s\n"
     ]
    },
    {
     "name": "stderr",
     "output_type": "stream",
     "text": [
      "/home/hybrid/.local/lib/python3.8/site-packages/sklearn/svm/_base.py:299: ConvergenceWarning: Solver terminated early (max_iter=300).  Consider pre-processing your data with StandardScaler or MinMaxScaler.\n",
      "  warnings.warn(\n"
     ]
    },
    {
     "name": "stdout",
     "output_type": "stream",
     "text": [
      "[CV 5/5] END SVC__decision_function_shape=ovo, SVC__degree=1, SVC__gamma=auto, SVC__kernel=rbf, SVC__max_iter=300, SVC__random_state=11, pca__n_components=20;, score=0.635 total time=  22.2s\n"
     ]
    },
    {
     "name": "stderr",
     "output_type": "stream",
     "text": [
      "/home/hybrid/.local/lib/python3.8/site-packages/sklearn/svm/_base.py:299: ConvergenceWarning: Solver terminated early (max_iter=300).  Consider pre-processing your data with StandardScaler or MinMaxScaler.\n",
      "  warnings.warn(\n"
     ]
    },
    {
     "name": "stdout",
     "output_type": "stream",
     "text": [
      "Cross-validation score: 0.6444381925783309\n",
      "Test score: 0.5821769483891897\n",
      "Support Vector:\n",
      "{'SVC__decision_function_shape': 'ovo', 'SVC__degree': 1, 'SVC__gamma': 'auto', 'SVC__kernel': 'rbf', 'SVC__max_iter': 300, 'SVC__random_state': 11, 'pca__n_components': 20}\n",
      "Results on test: 0.5926236144847419\n",
      "Results on train: 0.5914350328455362\n"
     ]
    }
   ],
   "source": [
    "stratified_kfold = StratifiedKFold(n_splits=5,\n",
    "                                       shuffle=True,\n",
    "                                       random_state=23)\n",
    "\n",
    "pipeline_SVC = imbpipeline([('scaler', scaler),\n",
    "                            ('pca', pca),\n",
    "                            ('SMOTE', SMOTEEN),\n",
    "                            ('SVC', SVC())])\n",
    "    \n",
    "params_SVC = {\n",
    "              'SVC__gamma': ['auto'],# [10, 20, 50]\n",
    "              'SVC__max_iter': [150, 300],\n",
    "              'SVC__decision_function_shape': ['ovo'],\n",
    "              'SVC__degree': [1], #, 3, 5],\n",
    "              'SVC__kernel': ['rbf'],\n",
    "              'SVC__random_state': [11],\n",
    "              'pca__n_components': [5, 10, 20]\n",
    "             }\n",
    "\n",
    "search_SVC = GridSearchCV(pipeline_SVC,\n",
    "                             params_SVC,\n",
    "                             scoring='roc_auc',\n",
    "                             cv=stratified_kfold,\n",
    "                            verbose=3,\n",
    "                            #n_jobs=3\n",
    "                         )\n",
    "\n",
    "search_SVC.fit(X_train, y_train)\n",
    "\n",
    "cv_score = search_SVC.best_score_\n",
    "test_score = search_SVC.score(X_test, y_test)\n",
    "print(f'Cross-validation score: {cv_score}\\nTest score: {test_score}')\n",
    "print(\"Support Vector:\")\n",
    "print(search_SVC.best_params_)\n",
    "print(f'Results on test: {search_SVC.best_estimator_.score(X_test, y_test)}')\n",
    "print(f'Results on train: {search_SVC.best_estimator_.score(X_train, y_train)}')"
   ]
  },
  {
   "cell_type": "markdown",
   "metadata": {},
   "source": [
    "Achieving scores of classification, saving accuracy, recall and F1 score in data frame:"
   ]
  },
  {
   "cell_type": "code",
   "execution_count": 43,
   "metadata": {},
   "outputs": [],
   "source": [
    "y_pred_SVC_train = search_SVC.best_estimator_.predict(X_train)"
   ]
  },
  {
   "cell_type": "code",
   "execution_count": 44,
   "metadata": {},
   "outputs": [],
   "source": [
    "y_pred_svc_test = search_SVC.best_estimator_.predict(X_test)"
   ]
  },
  {
   "cell_type": "code",
   "execution_count": 45,
   "metadata": {},
   "outputs": [],
   "source": [
    "y_pred_SVC = search_SVC.predict(X_test)"
   ]
  },
  {
   "cell_type": "code",
   "execution_count": 46,
   "metadata": {},
   "outputs": [
    {
     "data": {
      "text/plain": [
       "{'SVC__decision_function_shape': 'ovo',\n",
       " 'SVC__degree': 1,\n",
       " 'SVC__gamma': 'auto',\n",
       " 'SVC__kernel': 'rbf',\n",
       " 'SVC__max_iter': 300,\n",
       " 'SVC__random_state': 11,\n",
       " 'pca__n_components': 20}"
      ]
     },
     "execution_count": 46,
     "metadata": {},
     "output_type": "execute_result"
    }
   ],
   "source": [
    "search_SVC.best_params_"
   ]
  },
  {
   "cell_type": "code",
   "execution_count": 47,
   "metadata": {
    "scrolled": true
   },
   "outputs": [
    {
     "name": "stdout",
     "output_type": "stream",
     "text": [
      "              precision    recall  f1-score   support\n",
      "\n",
      "           0       0.65      0.76      0.70     22550\n",
      "           1       0.43      0.31      0.36     13267\n",
      "\n",
      "    accuracy                           0.59     35817\n",
      "   macro avg       0.54      0.54      0.53     35817\n",
      "weighted avg       0.57      0.59      0.58     35817\n",
      "\n"
     ]
    }
   ],
   "source": [
    "print(classification_report(y_test, y_pred_SVC))\n",
    "B_report_svc = pd.DataFrame(classification_report(y_test, y_pred_SVC, output_dict=True))"
   ]
  },
  {
   "cell_type": "code",
   "execution_count": 48,
   "metadata": {},
   "outputs": [],
   "source": [
    "for i, name in enumerate(B_report_svc.columns):\n",
    "  B_report_svc = B_report_svc.rename(columns={(B_report_svc.iloc[:,i].name): ('SVC_'+B_report_svc.iloc[:,i].name)})\n"
   ]
  },
  {
   "cell_type": "code",
   "execution_count": 49,
   "metadata": {},
   "outputs": [
    {
     "data": {
      "text/html": [
       "<div>\n",
       "<style scoped>\n",
       "    .dataframe tbody tr th:only-of-type {\n",
       "        vertical-align: middle;\n",
       "    }\n",
       "\n",
       "    .dataframe tbody tr th {\n",
       "        vertical-align: top;\n",
       "    }\n",
       "\n",
       "    .dataframe thead th {\n",
       "        text-align: right;\n",
       "    }\n",
       "</style>\n",
       "<table border=\"1\" class=\"dataframe\">\n",
       "  <thead>\n",
       "    <tr style=\"text-align: right;\">\n",
       "      <th></th>\n",
       "      <th>SVC_0</th>\n",
       "      <th>SVC_1</th>\n",
       "      <th>SVC_accuracy</th>\n",
       "      <th>SVC_macro avg</th>\n",
       "      <th>SVC_weighted avg</th>\n",
       "    </tr>\n",
       "  </thead>\n",
       "  <tbody>\n",
       "    <tr>\n",
       "      <th>precision</th>\n",
       "      <td>0.651930</td>\n",
       "      <td>0.431214</td>\n",
       "      <td>0.592624</td>\n",
       "      <td>0.541572</td>\n",
       "      <td>0.570174</td>\n",
       "    </tr>\n",
       "    <tr>\n",
       "      <th>recall</th>\n",
       "      <td>0.757251</td>\n",
       "      <td>0.312806</td>\n",
       "      <td>0.592624</td>\n",
       "      <td>0.535028</td>\n",
       "      <td>0.592624</td>\n",
       "    </tr>\n",
       "    <tr>\n",
       "      <th>f1-score</th>\n",
       "      <td>0.700654</td>\n",
       "      <td>0.362588</td>\n",
       "      <td>0.592624</td>\n",
       "      <td>0.531621</td>\n",
       "      <td>0.575431</td>\n",
       "    </tr>\n",
       "    <tr>\n",
       "      <th>support</th>\n",
       "      <td>22550.000000</td>\n",
       "      <td>13267.000000</td>\n",
       "      <td>0.592624</td>\n",
       "      <td>35817.000000</td>\n",
       "      <td>35817.000000</td>\n",
       "    </tr>\n",
       "  </tbody>\n",
       "</table>\n",
       "</div>"
      ],
      "text/plain": [
       "                  SVC_0         SVC_1  SVC_accuracy  SVC_macro avg  \\\n",
       "precision      0.651930      0.431214      0.592624       0.541572   \n",
       "recall         0.757251      0.312806      0.592624       0.535028   \n",
       "f1-score       0.700654      0.362588      0.592624       0.531621   \n",
       "support    22550.000000  13267.000000      0.592624   35817.000000   \n",
       "\n",
       "           SVC_weighted avg  \n",
       "precision          0.570174  \n",
       "recall             0.592624  \n",
       "f1-score           0.575431  \n",
       "support        35817.000000  "
      ]
     },
     "execution_count": 49,
     "metadata": {},
     "output_type": "execute_result"
    }
   ],
   "source": [
    "B_report_svc"
   ]
  },
  {
   "cell_type": "markdown",
   "metadata": {},
   "source": [
    "XGBClassifier algorythm with RandomizedGridSearch in pipeline, scaling reducing, ballancing:"
   ]
  },
  {
   "cell_type": "code",
   "execution_count": 50,
   "metadata": {},
   "outputs": [
    {
     "name": "stdout",
     "output_type": "stream",
     "text": [
      "Fitting 5 folds for each of 24 candidates, totalling 120 fits\n",
      "[CV 1/5] END XGB__learning_rate=0.1, XGB__max_depth=5, XGB__n_estimators=100, pca__n_components=5;, score=0.826 total time=   5.4s\n",
      "[CV 2/5] END XGB__learning_rate=0.1, XGB__max_depth=5, XGB__n_estimators=100, pca__n_components=5;, score=0.831 total time=   5.4s\n",
      "[CV 3/5] END XGB__learning_rate=0.1, XGB__max_depth=5, XGB__n_estimators=100, pca__n_components=5;, score=0.838 total time=   5.3s\n",
      "[CV 4/5] END XGB__learning_rate=0.1, XGB__max_depth=5, XGB__n_estimators=100, pca__n_components=5;, score=0.832 total time=   5.3s\n",
      "[CV 5/5] END XGB__learning_rate=0.1, XGB__max_depth=5, XGB__n_estimators=100, pca__n_components=5;, score=0.829 total time=   5.2s\n",
      "[CV 1/5] END XGB__learning_rate=0.1, XGB__max_depth=5, XGB__n_estimators=100, pca__n_components=10;, score=0.862 total time=  16.9s\n",
      "[CV 2/5] END XGB__learning_rate=0.1, XGB__max_depth=5, XGB__n_estimators=100, pca__n_components=10;, score=0.876 total time=  16.5s\n",
      "[CV 3/5] END XGB__learning_rate=0.1, XGB__max_depth=5, XGB__n_estimators=100, pca__n_components=10;, score=0.871 total time=  16.6s\n",
      "[CV 4/5] END XGB__learning_rate=0.1, XGB__max_depth=5, XGB__n_estimators=100, pca__n_components=10;, score=0.869 total time=  16.6s\n",
      "[CV 5/5] END XGB__learning_rate=0.1, XGB__max_depth=5, XGB__n_estimators=100, pca__n_components=10;, score=0.873 total time=  16.6s\n",
      "[CV 1/5] END XGB__learning_rate=0.1, XGB__max_depth=5, XGB__n_estimators=100, pca__n_components=20;, score=0.889 total time=  26.7s\n",
      "[CV 2/5] END XGB__learning_rate=0.1, XGB__max_depth=5, XGB__n_estimators=100, pca__n_components=20;, score=0.895 total time=  26.7s\n",
      "[CV 3/5] END XGB__learning_rate=0.1, XGB__max_depth=5, XGB__n_estimators=100, pca__n_components=20;, score=0.895 total time=  26.6s\n",
      "[CV 4/5] END XGB__learning_rate=0.1, XGB__max_depth=5, XGB__n_estimators=100, pca__n_components=20;, score=0.896 total time= 2.4min\n",
      "[CV 5/5] END XGB__learning_rate=0.1, XGB__max_depth=5, XGB__n_estimators=100, pca__n_components=20;, score=0.895 total time=  26.6s\n",
      "[CV 1/5] END XGB__learning_rate=0.1, XGB__max_depth=5, XGB__n_estimators=500, pca__n_components=5;, score=0.840 total time=  16.9s\n",
      "[CV 2/5] END XGB__learning_rate=0.1, XGB__max_depth=5, XGB__n_estimators=500, pca__n_components=5;, score=0.848 total time=  17.0s\n",
      "[CV 3/5] END XGB__learning_rate=0.1, XGB__max_depth=5, XGB__n_estimators=500, pca__n_components=5;, score=0.851 total time=  16.9s\n",
      "[CV 4/5] END XGB__learning_rate=0.1, XGB__max_depth=5, XGB__n_estimators=500, pca__n_components=5;, score=0.853 total time=  17.1s\n",
      "[CV 5/5] END XGB__learning_rate=0.1, XGB__max_depth=5, XGB__n_estimators=500, pca__n_components=5;, score=0.849 total time=  17.1s\n",
      "[CV 1/5] END XGB__learning_rate=0.1, XGB__max_depth=5, XGB__n_estimators=500, pca__n_components=10;, score=0.889 total time=  36.3s\n",
      "[CV 2/5] END XGB__learning_rate=0.1, XGB__max_depth=5, XGB__n_estimators=500, pca__n_components=10;, score=0.895 total time=  35.0s\n",
      "[CV 3/5] END XGB__learning_rate=0.1, XGB__max_depth=5, XGB__n_estimators=500, pca__n_components=10;, score=0.895 total time=  35.2s\n",
      "[CV 4/5] END XGB__learning_rate=0.1, XGB__max_depth=5, XGB__n_estimators=500, pca__n_components=10;, score=0.895 total time=  35.4s\n",
      "[CV 5/5] END XGB__learning_rate=0.1, XGB__max_depth=5, XGB__n_estimators=500, pca__n_components=10;, score=0.894 total time=  35.0s\n",
      "[CV 1/5] END XGB__learning_rate=0.1, XGB__max_depth=5, XGB__n_estimators=500, pca__n_components=20;, score=0.908 total time=  56.4s\n",
      "[CV 2/5] END XGB__learning_rate=0.1, XGB__max_depth=5, XGB__n_estimators=500, pca__n_components=20;, score=0.915 total time=  56.4s\n",
      "[CV 3/5] END XGB__learning_rate=0.1, XGB__max_depth=5, XGB__n_estimators=500, pca__n_components=20;, score=0.916 total time=  56.1s\n",
      "[CV 4/5] END XGB__learning_rate=0.1, XGB__max_depth=5, XGB__n_estimators=500, pca__n_components=20;, score=0.913 total time=  55.8s\n",
      "[CV 5/5] END XGB__learning_rate=0.1, XGB__max_depth=5, XGB__n_estimators=500, pca__n_components=20;, score=0.916 total time=  55.9s\n",
      "[CV 1/5] END XGB__learning_rate=0.1, XGB__max_depth=10, XGB__n_estimators=100, pca__n_components=5;, score=0.853 total time=   8.5s\n",
      "[CV 2/5] END XGB__learning_rate=0.1, XGB__max_depth=10, XGB__n_estimators=100, pca__n_components=5;, score=0.858 total time=   8.6s\n",
      "[CV 3/5] END XGB__learning_rate=0.1, XGB__max_depth=10, XGB__n_estimators=100, pca__n_components=5;, score=0.863 total time=   8.4s\n",
      "[CV 4/5] END XGB__learning_rate=0.1, XGB__max_depth=10, XGB__n_estimators=100, pca__n_components=5;, score=0.863 total time=   8.5s\n",
      "[CV 5/5] END XGB__learning_rate=0.1, XGB__max_depth=10, XGB__n_estimators=100, pca__n_components=5;, score=0.858 total time=   8.7s\n",
      "[CV 1/5] END XGB__learning_rate=0.1, XGB__max_depth=10, XGB__n_estimators=100, pca__n_components=10;, score=0.895 total time=  23.7s\n",
      "[CV 2/5] END XGB__learning_rate=0.1, XGB__max_depth=10, XGB__n_estimators=100, pca__n_components=10;, score=0.901 total time=  21.8s\n",
      "[CV 3/5] END XGB__learning_rate=0.1, XGB__max_depth=10, XGB__n_estimators=100, pca__n_components=10;, score=0.902 total time=  21.5s\n",
      "[CV 4/5] END XGB__learning_rate=0.1, XGB__max_depth=10, XGB__n_estimators=100, pca__n_components=10;, score=0.901 total time=  21.5s\n",
      "[CV 5/5] END XGB__learning_rate=0.1, XGB__max_depth=10, XGB__n_estimators=100, pca__n_components=10;, score=0.898 total time=  22.3s\n",
      "[CV 1/5] END XGB__learning_rate=0.1, XGB__max_depth=10, XGB__n_estimators=100, pca__n_components=20;, score=0.910 total time=  35.1s\n",
      "[CV 2/5] END XGB__learning_rate=0.1, XGB__max_depth=10, XGB__n_estimators=100, pca__n_components=20;, score=0.916 total time=  35.0s\n",
      "[CV 3/5] END XGB__learning_rate=0.1, XGB__max_depth=10, XGB__n_estimators=100, pca__n_components=20;, score=0.919 total time=  34.8s\n",
      "[CV 4/5] END XGB__learning_rate=0.1, XGB__max_depth=10, XGB__n_estimators=100, pca__n_components=20;, score=0.915 total time=  34.9s\n",
      "[CV 5/5] END XGB__learning_rate=0.1, XGB__max_depth=10, XGB__n_estimators=100, pca__n_components=20;, score=0.918 total time=  35.2s\n",
      "[CV 1/5] END XGB__learning_rate=0.1, XGB__max_depth=10, XGB__n_estimators=500, pca__n_components=5;, score=0.859 total time=  32.1s\n",
      "[CV 2/5] END XGB__learning_rate=0.1, XGB__max_depth=10, XGB__n_estimators=500, pca__n_components=5;, score=0.866 total time=  32.3s\n",
      "[CV 3/5] END XGB__learning_rate=0.1, XGB__max_depth=10, XGB__n_estimators=500, pca__n_components=5;, score=0.871 total time=  32.5s\n",
      "[CV 4/5] END XGB__learning_rate=0.1, XGB__max_depth=10, XGB__n_estimators=500, pca__n_components=5;, score=0.867 total time=  32.1s\n",
      "[CV 5/5] END XGB__learning_rate=0.1, XGB__max_depth=10, XGB__n_estimators=500, pca__n_components=5;, score=0.864 total time=  32.0s\n",
      "[CV 1/5] END XGB__learning_rate=0.1, XGB__max_depth=10, XGB__n_estimators=500, pca__n_components=10;, score=0.903 total time= 1.0min\n",
      "[CV 2/5] END XGB__learning_rate=0.1, XGB__max_depth=10, XGB__n_estimators=500, pca__n_components=10;, score=0.909 total time= 1.0min\n",
      "[CV 3/5] END XGB__learning_rate=0.1, XGB__max_depth=10, XGB__n_estimators=500, pca__n_components=10;, score=0.910 total time= 1.0min\n",
      "[CV 4/5] END XGB__learning_rate=0.1, XGB__max_depth=10, XGB__n_estimators=500, pca__n_components=10;, score=0.909 total time=  59.8s\n",
      "[CV 5/5] END XGB__learning_rate=0.1, XGB__max_depth=10, XGB__n_estimators=500, pca__n_components=10;, score=0.908 total time=  59.7s\n",
      "[CV 1/5] END XGB__learning_rate=0.1, XGB__max_depth=10, XGB__n_estimators=500, pca__n_components=20;, score=0.916 total time= 1.5min\n",
      "[CV 2/5] END XGB__learning_rate=0.1, XGB__max_depth=10, XGB__n_estimators=500, pca__n_components=20;, score=0.922 total time= 1.5min\n",
      "[CV 3/5] END XGB__learning_rate=0.1, XGB__max_depth=10, XGB__n_estimators=500, pca__n_components=20;, score=0.924 total time= 1.5min\n",
      "[CV 4/5] END XGB__learning_rate=0.1, XGB__max_depth=10, XGB__n_estimators=500, pca__n_components=20;, score=0.919 total time= 1.5min\n",
      "[CV 5/5] END XGB__learning_rate=0.1, XGB__max_depth=10, XGB__n_estimators=500, pca__n_components=20;, score=0.925 total time= 1.5min\n",
      "[CV 1/5] END XGB__learning_rate=0.5, XGB__max_depth=5, XGB__n_estimators=100, pca__n_components=5;, score=0.839 total time=   5.3s\n",
      "[CV 2/5] END XGB__learning_rate=0.5, XGB__max_depth=5, XGB__n_estimators=100, pca__n_components=5;, score=0.843 total time=   5.3s\n"
     ]
    },
    {
     "name": "stdout",
     "output_type": "stream",
     "text": [
      "[CV 3/5] END XGB__learning_rate=0.5, XGB__max_depth=5, XGB__n_estimators=100, pca__n_components=5;, score=0.846 total time=   5.3s\n",
      "[CV 4/5] END XGB__learning_rate=0.5, XGB__max_depth=5, XGB__n_estimators=100, pca__n_components=5;, score=0.844 total time=   5.2s\n",
      "[CV 5/5] END XGB__learning_rate=0.5, XGB__max_depth=5, XGB__n_estimators=100, pca__n_components=5;, score=0.845 total time=   5.3s\n",
      "[CV 1/5] END XGB__learning_rate=0.5, XGB__max_depth=5, XGB__n_estimators=100, pca__n_components=10;, score=0.887 total time=  16.1s\n",
      "[CV 2/5] END XGB__learning_rate=0.5, XGB__max_depth=5, XGB__n_estimators=100, pca__n_components=10;, score=0.890 total time=  17.9s\n",
      "[CV 3/5] END XGB__learning_rate=0.5, XGB__max_depth=5, XGB__n_estimators=100, pca__n_components=10;, score=0.891 total time=  16.8s\n",
      "[CV 4/5] END XGB__learning_rate=0.5, XGB__max_depth=5, XGB__n_estimators=100, pca__n_components=10;, score=0.890 total time=  16.6s\n",
      "[CV 5/5] END XGB__learning_rate=0.5, XGB__max_depth=5, XGB__n_estimators=100, pca__n_components=10;, score=0.891 total time=  17.1s\n",
      "[CV 1/5] END XGB__learning_rate=0.5, XGB__max_depth=5, XGB__n_estimators=100, pca__n_components=20;, score=0.902 total time=  26.4s\n",
      "[CV 2/5] END XGB__learning_rate=0.5, XGB__max_depth=5, XGB__n_estimators=100, pca__n_components=20;, score=0.908 total time=  26.5s\n",
      "[CV 3/5] END XGB__learning_rate=0.5, XGB__max_depth=5, XGB__n_estimators=100, pca__n_components=20;, score=0.911 total time=  26.4s\n",
      "[CV 4/5] END XGB__learning_rate=0.5, XGB__max_depth=5, XGB__n_estimators=100, pca__n_components=20;, score=0.910 total time=  26.4s\n",
      "[CV 5/5] END XGB__learning_rate=0.5, XGB__max_depth=5, XGB__n_estimators=100, pca__n_components=20;, score=0.910 total time=  26.7s\n",
      "[CV 1/5] END XGB__learning_rate=0.5, XGB__max_depth=5, XGB__n_estimators=500, pca__n_components=5;, score=0.850 total time=  17.1s\n",
      "[CV 2/5] END XGB__learning_rate=0.5, XGB__max_depth=5, XGB__n_estimators=500, pca__n_components=5;, score=0.854 total time=  17.0s\n",
      "[CV 3/5] END XGB__learning_rate=0.5, XGB__max_depth=5, XGB__n_estimators=500, pca__n_components=5;, score=0.851 total time=  17.0s\n",
      "[CV 4/5] END XGB__learning_rate=0.5, XGB__max_depth=5, XGB__n_estimators=500, pca__n_components=5;, score=0.854 total time=  17.1s\n",
      "[CV 5/5] END XGB__learning_rate=0.5, XGB__max_depth=5, XGB__n_estimators=500, pca__n_components=5;, score=0.854 total time=  17.0s\n",
      "[CV 1/5] END XGB__learning_rate=0.5, XGB__max_depth=5, XGB__n_estimators=500, pca__n_components=10;, score=0.895 total time=  35.6s\n",
      "[CV 2/5] END XGB__learning_rate=0.5, XGB__max_depth=5, XGB__n_estimators=500, pca__n_components=10;, score=0.900 total time=  34.6s\n",
      "[CV 3/5] END XGB__learning_rate=0.5, XGB__max_depth=5, XGB__n_estimators=500, pca__n_components=10;, score=0.904 total time=  35.8s\n",
      "[CV 4/5] END XGB__learning_rate=0.5, XGB__max_depth=5, XGB__n_estimators=500, pca__n_components=10;, score=0.903 total time=  35.2s\n",
      "[CV 5/5] END XGB__learning_rate=0.5, XGB__max_depth=5, XGB__n_estimators=500, pca__n_components=10;, score=0.902 total time=  34.4s\n",
      "[CV 1/5] END XGB__learning_rate=0.5, XGB__max_depth=5, XGB__n_estimators=500, pca__n_components=20;, score=0.913 total time=  55.6s\n",
      "[CV 2/5] END XGB__learning_rate=0.5, XGB__max_depth=5, XGB__n_estimators=500, pca__n_components=20;, score=0.918 total time=  55.5s\n",
      "[CV 3/5] END XGB__learning_rate=0.5, XGB__max_depth=5, XGB__n_estimators=500, pca__n_components=20;, score=0.920 total time=  57.1s\n",
      "[CV 4/5] END XGB__learning_rate=0.5, XGB__max_depth=5, XGB__n_estimators=500, pca__n_components=20;, score=0.918 total time= 1.0min\n",
      "[CV 5/5] END XGB__learning_rate=0.5, XGB__max_depth=5, XGB__n_estimators=500, pca__n_components=20;, score=0.919 total time= 1.1min\n",
      "[CV 1/5] END XGB__learning_rate=0.5, XGB__max_depth=10, XGB__n_estimators=100, pca__n_components=5;, score=0.857 total time=   9.0s\n",
      "[CV 2/5] END XGB__learning_rate=0.5, XGB__max_depth=10, XGB__n_estimators=100, pca__n_components=5;, score=0.860 total time=   8.4s\n",
      "[CV 3/5] END XGB__learning_rate=0.5, XGB__max_depth=10, XGB__n_estimators=100, pca__n_components=5;, score=0.862 total time=   8.4s\n",
      "[CV 4/5] END XGB__learning_rate=0.5, XGB__max_depth=10, XGB__n_estimators=100, pca__n_components=5;, score=0.865 total time=   8.6s\n",
      "[CV 5/5] END XGB__learning_rate=0.5, XGB__max_depth=10, XGB__n_estimators=100, pca__n_components=5;, score=0.867 total time=   8.5s\n",
      "[CV 1/5] END XGB__learning_rate=0.5, XGB__max_depth=10, XGB__n_estimators=100, pca__n_components=10;, score=0.900 total time=  21.4s\n",
      "[CV 2/5] END XGB__learning_rate=0.5, XGB__max_depth=10, XGB__n_estimators=100, pca__n_components=10;, score=0.906 total time=  21.1s\n",
      "[CV 3/5] END XGB__learning_rate=0.5, XGB__max_depth=10, XGB__n_estimators=100, pca__n_components=10;, score=0.906 total time=  21.5s\n",
      "[CV 4/5] END XGB__learning_rate=0.5, XGB__max_depth=10, XGB__n_estimators=100, pca__n_components=10;, score=0.906 total time=  20.7s\n",
      "[CV 5/5] END XGB__learning_rate=0.5, XGB__max_depth=10, XGB__n_estimators=100, pca__n_components=10;, score=0.902 total time=  21.3s\n",
      "[CV 1/5] END XGB__learning_rate=0.5, XGB__max_depth=10, XGB__n_estimators=100, pca__n_components=20;, score=0.912 total time=  33.5s\n",
      "[CV 2/5] END XGB__learning_rate=0.5, XGB__max_depth=10, XGB__n_estimators=100, pca__n_components=20;, score=0.920 total time=  33.6s\n",
      "[CV 3/5] END XGB__learning_rate=0.5, XGB__max_depth=10, XGB__n_estimators=100, pca__n_components=20;, score=0.921 total time=  33.7s\n",
      "[CV 4/5] END XGB__learning_rate=0.5, XGB__max_depth=10, XGB__n_estimators=100, pca__n_components=20;, score=0.917 total time= 2.7min\n",
      "[CV 5/5] END XGB__learning_rate=0.5, XGB__max_depth=10, XGB__n_estimators=100, pca__n_components=20;, score=0.920 total time=  33.6s\n",
      "[CV 1/5] END XGB__learning_rate=0.5, XGB__max_depth=10, XGB__n_estimators=500, pca__n_components=5;, score=0.855 total time=  30.6s\n",
      "[CV 2/5] END XGB__learning_rate=0.5, XGB__max_depth=10, XGB__n_estimators=500, pca__n_components=5;, score=0.859 total time=  30.6s\n",
      "[CV 3/5] END XGB__learning_rate=0.5, XGB__max_depth=10, XGB__n_estimators=500, pca__n_components=5;, score=0.866 total time=  30.8s\n",
      "[CV 4/5] END XGB__learning_rate=0.5, XGB__max_depth=10, XGB__n_estimators=500, pca__n_components=5;, score=0.865 total time=  30.8s\n",
      "[CV 5/5] END XGB__learning_rate=0.5, XGB__max_depth=10, XGB__n_estimators=500, pca__n_components=5;, score=0.867 total time=  30.7s\n",
      "[CV 1/5] END XGB__learning_rate=0.5, XGB__max_depth=10, XGB__n_estimators=500, pca__n_components=10;, score=0.900 total time=  51.4s\n",
      "[CV 2/5] END XGB__learning_rate=0.5, XGB__max_depth=10, XGB__n_estimators=500, pca__n_components=10;, score=0.908 total time=  50.6s\n",
      "[CV 3/5] END XGB__learning_rate=0.5, XGB__max_depth=10, XGB__n_estimators=500, pca__n_components=10;, score=0.906 total time=  51.7s\n",
      "[CV 4/5] END XGB__learning_rate=0.5, XGB__max_depth=10, XGB__n_estimators=500, pca__n_components=10;, score=0.909 total time=  51.1s\n",
      "[CV 5/5] END XGB__learning_rate=0.5, XGB__max_depth=10, XGB__n_estimators=500, pca__n_components=10;, score=0.908 total time=  50.7s\n",
      "[CV 1/5] END XGB__learning_rate=0.5, XGB__max_depth=10, XGB__n_estimators=500, pca__n_components=20;, score=0.914 total time= 1.2min\n",
      "[CV 2/5] END XGB__learning_rate=0.5, XGB__max_depth=10, XGB__n_estimators=500, pca__n_components=20;, score=0.920 total time= 1.2min\n",
      "[CV 3/5] END XGB__learning_rate=0.5, XGB__max_depth=10, XGB__n_estimators=500, pca__n_components=20;, score=0.922 total time= 1.2min\n",
      "[CV 4/5] END XGB__learning_rate=0.5, XGB__max_depth=10, XGB__n_estimators=500, pca__n_components=20;, score=0.919 total time= 1.2min\n",
      "[CV 5/5] END XGB__learning_rate=0.5, XGB__max_depth=10, XGB__n_estimators=500, pca__n_components=20;, score=0.923 total time= 1.2min\n"
     ]
    },
    {
     "data": {
      "text/plain": [
       "0.831532512494067"
      ]
     },
     "execution_count": 50,
     "metadata": {},
     "output_type": "execute_result"
    }
   ],
   "source": [
    "stratified_kfold = StratifiedKFold(n_splits=5,\n",
    "                                       shuffle=True,\n",
    "                                       random_state=77)\n",
    "\n",
    "pipeline = imbpipeline(steps=[('scaler', scaler),\n",
    "                              ('pca', pca),\n",
    "                              ('smote', SMOTEEN),\n",
    "                              ('XGB', XGBClassifier())])\n",
    "\n",
    "params = {\n",
    "    'XGB__n_estimators': [100, 500],\n",
    "    'XGB__max_depth': [5, 10],\n",
    "    'XGB__learning_rate': [0.1, 0.5],\n",
    "    'pca__n_components': [5, 10, 20]\n",
    "    }\n",
    "\n",
    "search_XGB = GridSearchCV(pipeline, \n",
    "                          params, \n",
    "                          scoring='roc_auc', \n",
    "                          cv=stratified_kfold, \n",
    "                          verbose=3,\n",
    "                        #n_jobs=3\n",
    "                         ) \n",
    "\n",
    "search_XGB.fit(X_train, y_train)\n",
    "accuracy_score(y_test, search_XGB.predict(X_test))"
   ]
  },
  {
   "cell_type": "markdown",
   "metadata": {},
   "source": [
    "Achieving scores of classification, saving accuracy, recall and F1 score in data frame:"
   ]
  },
  {
   "cell_type": "code",
   "execution_count": 51,
   "metadata": {},
   "outputs": [],
   "source": [
    "#XGBClassifier().get_params().keys()"
   ]
  },
  {
   "cell_type": "code",
   "execution_count": 52,
   "metadata": {},
   "outputs": [
    {
     "data": {
      "text/plain": [
       "array([0.83112947, 0.87007317, 0.8940661 , 0.84810114, 0.89376156,\n",
       "       0.91357181, 0.85882674, 0.89929776, 0.9157148 , 0.86545448,\n",
       "       0.90782276, 0.92126688, 0.843452  , 0.88967043, 0.90824629,\n",
       "       0.85276862, 0.90091971, 0.91769372, 0.86226631, 0.90400104,\n",
       "       0.9178607 , 0.86227291, 0.90589789, 0.91939579])"
      ]
     },
     "execution_count": 52,
     "metadata": {},
     "output_type": "execute_result"
    }
   ],
   "source": [
    "search_XGB.cv_results_[\"mean_test_score\"]"
   ]
  },
  {
   "cell_type": "code",
   "execution_count": 53,
   "metadata": {},
   "outputs": [],
   "source": [
    "y_pred_XGB = search_XGB.best_estimator_.predict(X_test)\n",
    "test_score = search_XGB.score(X_test, y_test)\n",
    "cv_score = search_XGB.best_score_"
   ]
  },
  {
   "cell_type": "code",
   "execution_count": 54,
   "metadata": {},
   "outputs": [
    {
     "name": "stdout",
     "output_type": "stream",
     "text": [
      "Cross-validation score: 0.9212668799026942\n",
      "Test score: 0.8945331505392322\n",
      "XGBClassifier:\n",
      "{'XGB__learning_rate': 0.1, 'XGB__max_depth': 10, 'XGB__n_estimators': 500, 'pca__n_components': 20}\n",
      "Results on test: 0.831532512494067\n",
      "Results on train: 0.8844842233735776\n"
     ]
    }
   ],
   "source": [
    "print(f'Cross-validation score: {cv_score}\\nTest score: {test_score}')\n",
    "print(\"XGBClassifier:\")\n",
    "print(search_XGB.best_params_)\n",
    "print(f'Results on test: {search_XGB.best_estimator_.score(X_test, y_test)}')\n",
    "print(f'Results on train: {search_XGB.best_estimator_.score(X_train, y_train)}')"
   ]
  },
  {
   "cell_type": "code",
   "execution_count": 55,
   "metadata": {},
   "outputs": [
    {
     "name": "stdout",
     "output_type": "stream",
     "text": [
      "              precision    recall  f1-score   support\n",
      "\n",
      "           0       0.84      0.90      0.87     22550\n",
      "           1       0.81      0.71      0.76     13267\n",
      "\n",
      "    accuracy                           0.83     35817\n",
      "   macro avg       0.83      0.81      0.81     35817\n",
      "weighted avg       0.83      0.83      0.83     35817\n",
      "\n"
     ]
    }
   ],
   "source": [
    "print(classification_report(y_test, y_pred_XGB))\n",
    "B_report_xgb = pd.DataFrame(classification_report(y_test, y_pred_XGB, output_dict=True))"
   ]
  },
  {
   "cell_type": "code",
   "execution_count": 56,
   "metadata": {},
   "outputs": [],
   "source": [
    "for i, name in enumerate(B_report_xgb.columns):\n",
    "  B_report_xgb = B_report_xgb.rename(columns={(B_report_xgb.iloc[:,i].name): ('XGB_'+B_report_xgb.iloc[:,i].name)})\n"
   ]
  },
  {
   "cell_type": "code",
   "execution_count": 57,
   "metadata": {},
   "outputs": [
    {
     "data": {
      "text/html": [
       "<div>\n",
       "<style scoped>\n",
       "    .dataframe tbody tr th:only-of-type {\n",
       "        vertical-align: middle;\n",
       "    }\n",
       "\n",
       "    .dataframe tbody tr th {\n",
       "        vertical-align: top;\n",
       "    }\n",
       "\n",
       "    .dataframe thead th {\n",
       "        text-align: right;\n",
       "    }\n",
       "</style>\n",
       "<table border=\"1\" class=\"dataframe\">\n",
       "  <thead>\n",
       "    <tr style=\"text-align: right;\">\n",
       "      <th></th>\n",
       "      <th>XGB_0</th>\n",
       "      <th>XGB_1</th>\n",
       "      <th>XGB_accuracy</th>\n",
       "      <th>XGB_macro avg</th>\n",
       "      <th>XGB_weighted avg</th>\n",
       "    </tr>\n",
       "  </thead>\n",
       "  <tbody>\n",
       "    <tr>\n",
       "      <th>precision</th>\n",
       "      <td>0.841240</td>\n",
       "      <td>0.811311</td>\n",
       "      <td>0.831533</td>\n",
       "      <td>0.826275</td>\n",
       "      <td>0.830154</td>\n",
       "    </tr>\n",
       "    <tr>\n",
       "      <th>recall</th>\n",
       "      <td>0.902794</td>\n",
       "      <td>0.710409</td>\n",
       "      <td>0.831533</td>\n",
       "      <td>0.806602</td>\n",
       "      <td>0.831533</td>\n",
       "    </tr>\n",
       "    <tr>\n",
       "      <th>f1-score</th>\n",
       "      <td>0.870930</td>\n",
       "      <td>0.757515</td>\n",
       "      <td>0.831533</td>\n",
       "      <td>0.814223</td>\n",
       "      <td>0.828920</td>\n",
       "    </tr>\n",
       "    <tr>\n",
       "      <th>support</th>\n",
       "      <td>22550.000000</td>\n",
       "      <td>13267.000000</td>\n",
       "      <td>0.831533</td>\n",
       "      <td>35817.000000</td>\n",
       "      <td>35817.000000</td>\n",
       "    </tr>\n",
       "  </tbody>\n",
       "</table>\n",
       "</div>"
      ],
      "text/plain": [
       "                  XGB_0         XGB_1  XGB_accuracy  XGB_macro avg  \\\n",
       "precision      0.841240      0.811311      0.831533       0.826275   \n",
       "recall         0.902794      0.710409      0.831533       0.806602   \n",
       "f1-score       0.870930      0.757515      0.831533       0.814223   \n",
       "support    22550.000000  13267.000000      0.831533   35817.000000   \n",
       "\n",
       "           XGB_weighted avg  \n",
       "precision          0.830154  \n",
       "recall             0.831533  \n",
       "f1-score           0.828920  \n",
       "support        35817.000000  "
      ]
     },
     "execution_count": 57,
     "metadata": {},
     "output_type": "execute_result"
    }
   ],
   "source": [
    "B_report_xgb"
   ]
  },
  {
   "cell_type": "markdown",
   "metadata": {},
   "source": [
    "LogisticRegression algorythm with RandomizedGridSearch in pipeline, scaling reducing, ballancing:"
   ]
  },
  {
   "cell_type": "code",
   "execution_count": 58,
   "metadata": {},
   "outputs": [
    {
     "name": "stdout",
     "output_type": "stream",
     "text": [
      "Fitting 5 folds for each of 24 candidates, totalling 120 fits\n",
      "[CV 1/5] END LR__C=20, LR__max_iter=50, LR__multi_class=auto, LR__penalty=l2, LR__random_state=11, LR__solver=saga, pca__n_components=5;, score=0.773 total time=   2.4s\n",
      "[CV 2/5] END LR__C=20, LR__max_iter=50, LR__multi_class=auto, LR__penalty=l2, LR__random_state=11, LR__solver=saga, pca__n_components=5;, score=0.772 total time=   2.4s\n",
      "[CV 3/5] END LR__C=20, LR__max_iter=50, LR__multi_class=auto, LR__penalty=l2, LR__random_state=11, LR__solver=saga, pca__n_components=5;, score=0.772 total time=   2.4s\n",
      "[CV 4/5] END LR__C=20, LR__max_iter=50, LR__multi_class=auto, LR__penalty=l2, LR__random_state=11, LR__solver=saga, pca__n_components=5;, score=0.772 total time=   2.4s\n",
      "[CV 5/5] END LR__C=20, LR__max_iter=50, LR__multi_class=auto, LR__penalty=l2, LR__random_state=11, LR__solver=saga, pca__n_components=5;, score=0.774 total time=   2.4s\n",
      "[CV 1/5] END LR__C=20, LR__max_iter=50, LR__multi_class=auto, LR__penalty=l2, LR__random_state=11, LR__solver=saga, pca__n_components=10;, score=0.804 total time=  12.5s\n",
      "[CV 2/5] END LR__C=20, LR__max_iter=50, LR__multi_class=auto, LR__penalty=l2, LR__random_state=11, LR__solver=saga, pca__n_components=10;, score=0.802 total time=  13.0s\n",
      "[CV 3/5] END LR__C=20, LR__max_iter=50, LR__multi_class=auto, LR__penalty=l2, LR__random_state=11, LR__solver=saga, pca__n_components=10;, score=0.804 total time=  12.0s\n",
      "[CV 4/5] END LR__C=20, LR__max_iter=50, LR__multi_class=auto, LR__penalty=l2, LR__random_state=11, LR__solver=saga, pca__n_components=10;, score=0.803 total time=  12.7s\n",
      "[CV 5/5] END LR__C=20, LR__max_iter=50, LR__multi_class=auto, LR__penalty=l2, LR__random_state=11, LR__solver=saga, pca__n_components=10;, score=0.804 total time=  11.9s\n"
     ]
    },
    {
     "name": "stderr",
     "output_type": "stream",
     "text": [
      "/home/hybrid/.local/lib/python3.8/site-packages/sklearn/linear_model/_sag.py:350: ConvergenceWarning: The max_iter was reached which means the coef_ did not converge\n",
      "  warnings.warn(\n"
     ]
    },
    {
     "name": "stdout",
     "output_type": "stream",
     "text": [
      "[CV 1/5] END LR__C=20, LR__max_iter=50, LR__multi_class=auto, LR__penalty=l2, LR__random_state=11, LR__solver=saga, pca__n_components=20;, score=0.826 total time=  20.7s\n"
     ]
    },
    {
     "name": "stderr",
     "output_type": "stream",
     "text": [
      "/home/hybrid/.local/lib/python3.8/site-packages/sklearn/linear_model/_sag.py:350: ConvergenceWarning: The max_iter was reached which means the coef_ did not converge\n",
      "  warnings.warn(\n"
     ]
    },
    {
     "name": "stdout",
     "output_type": "stream",
     "text": [
      "[CV 2/5] END LR__C=20, LR__max_iter=50, LR__multi_class=auto, LR__penalty=l2, LR__random_state=11, LR__solver=saga, pca__n_components=20;, score=0.821 total time=  20.7s\n"
     ]
    },
    {
     "name": "stderr",
     "output_type": "stream",
     "text": [
      "/home/hybrid/.local/lib/python3.8/site-packages/sklearn/linear_model/_sag.py:350: ConvergenceWarning: The max_iter was reached which means the coef_ did not converge\n",
      "  warnings.warn(\n"
     ]
    },
    {
     "name": "stdout",
     "output_type": "stream",
     "text": [
      "[CV 3/5] END LR__C=20, LR__max_iter=50, LR__multi_class=auto, LR__penalty=l2, LR__random_state=11, LR__solver=saga, pca__n_components=20;, score=0.824 total time=  20.7s\n"
     ]
    },
    {
     "name": "stderr",
     "output_type": "stream",
     "text": [
      "/home/hybrid/.local/lib/python3.8/site-packages/sklearn/linear_model/_sag.py:350: ConvergenceWarning: The max_iter was reached which means the coef_ did not converge\n",
      "  warnings.warn(\n"
     ]
    },
    {
     "name": "stdout",
     "output_type": "stream",
     "text": [
      "[CV 4/5] END LR__C=20, LR__max_iter=50, LR__multi_class=auto, LR__penalty=l2, LR__random_state=11, LR__solver=saga, pca__n_components=20;, score=0.825 total time=  20.7s\n"
     ]
    },
    {
     "name": "stderr",
     "output_type": "stream",
     "text": [
      "/home/hybrid/.local/lib/python3.8/site-packages/sklearn/linear_model/_sag.py:350: ConvergenceWarning: The max_iter was reached which means the coef_ did not converge\n",
      "  warnings.warn(\n"
     ]
    },
    {
     "name": "stdout",
     "output_type": "stream",
     "text": [
      "[CV 5/5] END LR__C=20, LR__max_iter=50, LR__multi_class=auto, LR__penalty=l2, LR__random_state=11, LR__solver=saga, pca__n_components=20;, score=0.825 total time=  20.8s\n",
      "[CV 1/5] END LR__C=20, LR__max_iter=50, LR__multi_class=auto, LR__penalty=l1, LR__random_state=11, LR__solver=saga, pca__n_components=5;, score=0.771 total time=   2.4s\n",
      "[CV 2/5] END LR__C=20, LR__max_iter=50, LR__multi_class=auto, LR__penalty=l1, LR__random_state=11, LR__solver=saga, pca__n_components=5;, score=0.773 total time=   2.4s\n",
      "[CV 3/5] END LR__C=20, LR__max_iter=50, LR__multi_class=auto, LR__penalty=l1, LR__random_state=11, LR__solver=saga, pca__n_components=5;, score=0.775 total time=   2.3s\n",
      "[CV 4/5] END LR__C=20, LR__max_iter=50, LR__multi_class=auto, LR__penalty=l1, LR__random_state=11, LR__solver=saga, pca__n_components=5;, score=0.771 total time=   2.4s\n",
      "[CV 5/5] END LR__C=20, LR__max_iter=50, LR__multi_class=auto, LR__penalty=l1, LR__random_state=11, LR__solver=saga, pca__n_components=5;, score=0.773 total time=   2.3s\n",
      "[CV 1/5] END LR__C=20, LR__max_iter=50, LR__multi_class=auto, LR__penalty=l1, LR__random_state=11, LR__solver=saga, pca__n_components=10;, score=0.802 total time=  12.0s\n",
      "[CV 2/5] END LR__C=20, LR__max_iter=50, LR__multi_class=auto, LR__penalty=l1, LR__random_state=11, LR__solver=saga, pca__n_components=10;, score=0.806 total time=  13.4s\n",
      "[CV 3/5] END LR__C=20, LR__max_iter=50, LR__multi_class=auto, LR__penalty=l1, LR__random_state=11, LR__solver=saga, pca__n_components=10;, score=0.807 total time=  12.8s\n",
      "[CV 4/5] END LR__C=20, LR__max_iter=50, LR__multi_class=auto, LR__penalty=l1, LR__random_state=11, LR__solver=saga, pca__n_components=10;, score=0.804 total time=  12.4s\n",
      "[CV 5/5] END LR__C=20, LR__max_iter=50, LR__multi_class=auto, LR__penalty=l1, LR__random_state=11, LR__solver=saga, pca__n_components=10;, score=0.803 total time=  12.0s\n"
     ]
    },
    {
     "name": "stderr",
     "output_type": "stream",
     "text": [
      "/home/hybrid/.local/lib/python3.8/site-packages/sklearn/linear_model/_sag.py:350: ConvergenceWarning: The max_iter was reached which means the coef_ did not converge\n",
      "  warnings.warn(\n"
     ]
    },
    {
     "name": "stdout",
     "output_type": "stream",
     "text": [
      "[CV 1/5] END LR__C=20, LR__max_iter=50, LR__multi_class=auto, LR__penalty=l1, LR__random_state=11, LR__solver=saga, pca__n_components=20;, score=0.826 total time=  21.0s\n"
     ]
    },
    {
     "name": "stderr",
     "output_type": "stream",
     "text": [
      "/home/hybrid/.local/lib/python3.8/site-packages/sklearn/linear_model/_sag.py:350: ConvergenceWarning: The max_iter was reached which means the coef_ did not converge\n",
      "  warnings.warn(\n"
     ]
    },
    {
     "name": "stdout",
     "output_type": "stream",
     "text": [
      "[CV 2/5] END LR__C=20, LR__max_iter=50, LR__multi_class=auto, LR__penalty=l1, LR__random_state=11, LR__solver=saga, pca__n_components=20;, score=0.821 total time=  20.9s\n"
     ]
    },
    {
     "name": "stderr",
     "output_type": "stream",
     "text": [
      "/home/hybrid/.local/lib/python3.8/site-packages/sklearn/linear_model/_sag.py:350: ConvergenceWarning: The max_iter was reached which means the coef_ did not converge\n",
      "  warnings.warn(\n"
     ]
    },
    {
     "name": "stdout",
     "output_type": "stream",
     "text": [
      "[CV 3/5] END LR__C=20, LR__max_iter=50, LR__multi_class=auto, LR__penalty=l1, LR__random_state=11, LR__solver=saga, pca__n_components=20;, score=0.824 total time=  21.0s\n"
     ]
    },
    {
     "name": "stderr",
     "output_type": "stream",
     "text": [
      "/home/hybrid/.local/lib/python3.8/site-packages/sklearn/linear_model/_sag.py:350: ConvergenceWarning: The max_iter was reached which means the coef_ did not converge\n",
      "  warnings.warn(\n"
     ]
    },
    {
     "name": "stdout",
     "output_type": "stream",
     "text": [
      "[CV 4/5] END LR__C=20, LR__max_iter=50, LR__multi_class=auto, LR__penalty=l1, LR__random_state=11, LR__solver=saga, pca__n_components=20;, score=0.825 total time=  21.0s\n"
     ]
    },
    {
     "name": "stderr",
     "output_type": "stream",
     "text": [
      "/home/hybrid/.local/lib/python3.8/site-packages/sklearn/linear_model/_sag.py:350: ConvergenceWarning: The max_iter was reached which means the coef_ did not converge\n",
      "  warnings.warn(\n"
     ]
    },
    {
     "name": "stdout",
     "output_type": "stream",
     "text": [
      "[CV 5/5] END LR__C=20, LR__max_iter=50, LR__multi_class=auto, LR__penalty=l1, LR__random_state=11, LR__solver=saga, pca__n_components=20;, score=0.825 total time=  21.0s\n",
      "[CV 1/5] END LR__C=20, LR__max_iter=100, LR__multi_class=auto, LR__penalty=l2, LR__random_state=11, LR__solver=saga, pca__n_components=5;, score=0.773 total time=   2.4s\n",
      "[CV 2/5] END LR__C=20, LR__max_iter=100, LR__multi_class=auto, LR__penalty=l2, LR__random_state=11, LR__solver=saga, pca__n_components=5;, score=0.770 total time=   2.4s\n",
      "[CV 3/5] END LR__C=20, LR__max_iter=100, LR__multi_class=auto, LR__penalty=l2, LR__random_state=11, LR__solver=saga, pca__n_components=5;, score=0.776 total time=   2.4s\n",
      "[CV 4/5] END LR__C=20, LR__max_iter=100, LR__multi_class=auto, LR__penalty=l2, LR__random_state=11, LR__solver=saga, pca__n_components=5;, score=0.771 total time=   2.4s\n",
      "[CV 5/5] END LR__C=20, LR__max_iter=100, LR__multi_class=auto, LR__penalty=l2, LR__random_state=11, LR__solver=saga, pca__n_components=5;, score=0.775 total time=   2.4s\n",
      "[CV 1/5] END LR__C=20, LR__max_iter=100, LR__multi_class=auto, LR__penalty=l2, LR__random_state=11, LR__solver=saga, pca__n_components=10;, score=0.804 total time=  12.4s\n",
      "[CV 2/5] END LR__C=20, LR__max_iter=100, LR__multi_class=auto, LR__penalty=l2, LR__random_state=11, LR__solver=saga, pca__n_components=10;, score=0.803 total time=  13.1s\n",
      "[CV 3/5] END LR__C=20, LR__max_iter=100, LR__multi_class=auto, LR__penalty=l2, LR__random_state=11, LR__solver=saga, pca__n_components=10;, score=0.805 total time=  11.9s\n",
      "[CV 4/5] END LR__C=20, LR__max_iter=100, LR__multi_class=auto, LR__penalty=l2, LR__random_state=11, LR__solver=saga, pca__n_components=10;, score=0.805 total time=  12.9s\n",
      "[CV 5/5] END LR__C=20, LR__max_iter=100, LR__multi_class=auto, LR__penalty=l2, LR__random_state=11, LR__solver=saga, pca__n_components=10;, score=0.801 total time=  11.9s\n"
     ]
    },
    {
     "name": "stderr",
     "output_type": "stream",
     "text": [
      "/home/hybrid/.local/lib/python3.8/site-packages/sklearn/linear_model/_sag.py:350: ConvergenceWarning: The max_iter was reached which means the coef_ did not converge\n",
      "  warnings.warn(\n"
     ]
    },
    {
     "name": "stdout",
     "output_type": "stream",
     "text": [
      "[CV 1/5] END LR__C=20, LR__max_iter=100, LR__multi_class=auto, LR__penalty=l2, LR__random_state=11, LR__solver=saga, pca__n_components=20;, score=0.827 total time=  22.3s\n"
     ]
    },
    {
     "name": "stderr",
     "output_type": "stream",
     "text": [
      "/home/hybrid/.local/lib/python3.8/site-packages/sklearn/linear_model/_sag.py:350: ConvergenceWarning: The max_iter was reached which means the coef_ did not converge\n",
      "  warnings.warn(\n"
     ]
    },
    {
     "name": "stdout",
     "output_type": "stream",
     "text": [
      "[CV 2/5] END LR__C=20, LR__max_iter=100, LR__multi_class=auto, LR__penalty=l2, LR__random_state=11, LR__solver=saga, pca__n_components=20;, score=0.821 total time=  22.0s\n"
     ]
    },
    {
     "name": "stderr",
     "output_type": "stream",
     "text": [
      "/home/hybrid/.local/lib/python3.8/site-packages/sklearn/linear_model/_sag.py:350: ConvergenceWarning: The max_iter was reached which means the coef_ did not converge\n",
      "  warnings.warn(\n"
     ]
    },
    {
     "name": "stdout",
     "output_type": "stream",
     "text": [
      "[CV 3/5] END LR__C=20, LR__max_iter=100, LR__multi_class=auto, LR__penalty=l2, LR__random_state=11, LR__solver=saga, pca__n_components=20;, score=0.824 total time=  22.4s\n"
     ]
    },
    {
     "name": "stderr",
     "output_type": "stream",
     "text": [
      "/home/hybrid/.local/lib/python3.8/site-packages/sklearn/linear_model/_sag.py:350: ConvergenceWarning: The max_iter was reached which means the coef_ did not converge\n",
      "  warnings.warn(\n"
     ]
    },
    {
     "name": "stdout",
     "output_type": "stream",
     "text": [
      "[CV 4/5] END LR__C=20, LR__max_iter=100, LR__multi_class=auto, LR__penalty=l2, LR__random_state=11, LR__solver=saga, pca__n_components=20;, score=0.826 total time=  22.1s\n"
     ]
    },
    {
     "name": "stderr",
     "output_type": "stream",
     "text": [
      "/home/hybrid/.local/lib/python3.8/site-packages/sklearn/linear_model/_sag.py:350: ConvergenceWarning: The max_iter was reached which means the coef_ did not converge\n",
      "  warnings.warn(\n"
     ]
    },
    {
     "name": "stdout",
     "output_type": "stream",
     "text": [
      "[CV 5/5] END LR__C=20, LR__max_iter=100, LR__multi_class=auto, LR__penalty=l2, LR__random_state=11, LR__solver=saga, pca__n_components=20;, score=0.826 total time=  22.2s\n",
      "[CV 1/5] END LR__C=20, LR__max_iter=100, LR__multi_class=auto, LR__penalty=l1, LR__random_state=11, LR__solver=saga, pca__n_components=5;, score=0.772 total time=   2.4s\n",
      "[CV 2/5] END LR__C=20, LR__max_iter=100, LR__multi_class=auto, LR__penalty=l1, LR__random_state=11, LR__solver=saga, pca__n_components=5;, score=0.774 total time=   2.4s\n",
      "[CV 3/5] END LR__C=20, LR__max_iter=100, LR__multi_class=auto, LR__penalty=l1, LR__random_state=11, LR__solver=saga, pca__n_components=5;, score=0.775 total time=   2.4s\n",
      "[CV 4/5] END LR__C=20, LR__max_iter=100, LR__multi_class=auto, LR__penalty=l1, LR__random_state=11, LR__solver=saga, pca__n_components=5;, score=0.775 total time=   2.3s\n",
      "[CV 5/5] END LR__C=20, LR__max_iter=100, LR__multi_class=auto, LR__penalty=l1, LR__random_state=11, LR__solver=saga, pca__n_components=5;, score=0.773 total time=   2.4s\n",
      "[CV 1/5] END LR__C=20, LR__max_iter=100, LR__multi_class=auto, LR__penalty=l1, LR__random_state=11, LR__solver=saga, pca__n_components=10;, score=0.805 total time=  12.3s\n",
      "[CV 2/5] END LR__C=20, LR__max_iter=100, LR__multi_class=auto, LR__penalty=l1, LR__random_state=11, LR__solver=saga, pca__n_components=10;, score=0.803 total time=  12.6s\n",
      "[CV 3/5] END LR__C=20, LR__max_iter=100, LR__multi_class=auto, LR__penalty=l1, LR__random_state=11, LR__solver=saga, pca__n_components=10;, score=0.806 total time=  12.1s\n",
      "[CV 4/5] END LR__C=20, LR__max_iter=100, LR__multi_class=auto, LR__penalty=l1, LR__random_state=11, LR__solver=saga, pca__n_components=10;, score=0.805 total time=  11.9s\n",
      "[CV 5/5] END LR__C=20, LR__max_iter=100, LR__multi_class=auto, LR__penalty=l1, LR__random_state=11, LR__solver=saga, pca__n_components=10;, score=0.801 total time=  12.2s\n"
     ]
    },
    {
     "name": "stderr",
     "output_type": "stream",
     "text": [
      "/home/hybrid/.local/lib/python3.8/site-packages/sklearn/linear_model/_sag.py:350: ConvergenceWarning: The max_iter was reached which means the coef_ did not converge\n",
      "  warnings.warn(\n"
     ]
    },
    {
     "name": "stdout",
     "output_type": "stream",
     "text": [
      "[CV 1/5] END LR__C=20, LR__max_iter=100, LR__multi_class=auto, LR__penalty=l1, LR__random_state=11, LR__solver=saga, pca__n_components=20;, score=0.827 total time=  23.0s\n"
     ]
    },
    {
     "name": "stderr",
     "output_type": "stream",
     "text": [
      "/home/hybrid/.local/lib/python3.8/site-packages/sklearn/linear_model/_sag.py:350: ConvergenceWarning: The max_iter was reached which means the coef_ did not converge\n",
      "  warnings.warn(\n"
     ]
    },
    {
     "name": "stdout",
     "output_type": "stream",
     "text": [
      "[CV 2/5] END LR__C=20, LR__max_iter=100, LR__multi_class=auto, LR__penalty=l1, LR__random_state=11, LR__solver=saga, pca__n_components=20;, score=0.822 total time=  23.0s\n"
     ]
    },
    {
     "name": "stderr",
     "output_type": "stream",
     "text": [
      "/home/hybrid/.local/lib/python3.8/site-packages/sklearn/linear_model/_sag.py:350: ConvergenceWarning: The max_iter was reached which means the coef_ did not converge\n",
      "  warnings.warn(\n"
     ]
    },
    {
     "name": "stdout",
     "output_type": "stream",
     "text": [
      "[CV 3/5] END LR__C=20, LR__max_iter=100, LR__multi_class=auto, LR__penalty=l1, LR__random_state=11, LR__solver=saga, pca__n_components=20;, score=0.825 total time=  22.9s\n"
     ]
    },
    {
     "name": "stderr",
     "output_type": "stream",
     "text": [
      "/home/hybrid/.local/lib/python3.8/site-packages/sklearn/linear_model/_sag.py:350: ConvergenceWarning: The max_iter was reached which means the coef_ did not converge\n",
      "  warnings.warn(\n"
     ]
    },
    {
     "name": "stdout",
     "output_type": "stream",
     "text": [
      "[CV 4/5] END LR__C=20, LR__max_iter=100, LR__multi_class=auto, LR__penalty=l1, LR__random_state=11, LR__solver=saga, pca__n_components=20;, score=0.824 total time=  23.0s\n"
     ]
    },
    {
     "name": "stderr",
     "output_type": "stream",
     "text": [
      "/home/hybrid/.local/lib/python3.8/site-packages/sklearn/linear_model/_sag.py:350: ConvergenceWarning: The max_iter was reached which means the coef_ did not converge\n",
      "  warnings.warn(\n"
     ]
    },
    {
     "name": "stdout",
     "output_type": "stream",
     "text": [
      "[CV 5/5] END LR__C=20, LR__max_iter=100, LR__multi_class=auto, LR__penalty=l1, LR__random_state=11, LR__solver=saga, pca__n_components=20;, score=0.826 total time=  22.9s\n",
      "[CV 1/5] END LR__C=70, LR__max_iter=50, LR__multi_class=auto, LR__penalty=l2, LR__random_state=11, LR__solver=saga, pca__n_components=5;, score=0.774 total time=   2.4s\n",
      "[CV 2/5] END LR__C=70, LR__max_iter=50, LR__multi_class=auto, LR__penalty=l2, LR__random_state=11, LR__solver=saga, pca__n_components=5;, score=0.774 total time=   2.4s\n",
      "[CV 3/5] END LR__C=70, LR__max_iter=50, LR__multi_class=auto, LR__penalty=l2, LR__random_state=11, LR__solver=saga, pca__n_components=5;, score=0.774 total time=   2.3s\n",
      "[CV 4/5] END LR__C=70, LR__max_iter=50, LR__multi_class=auto, LR__penalty=l2, LR__random_state=11, LR__solver=saga, pca__n_components=5;, score=0.771 total time=   2.4s\n",
      "[CV 5/5] END LR__C=70, LR__max_iter=50, LR__multi_class=auto, LR__penalty=l2, LR__random_state=11, LR__solver=saga, pca__n_components=5;, score=0.774 total time=   2.4s\n",
      "[CV 1/5] END LR__C=70, LR__max_iter=50, LR__multi_class=auto, LR__penalty=l2, LR__random_state=11, LR__solver=saga, pca__n_components=10;, score=0.807 total time=  12.1s\n",
      "[CV 2/5] END LR__C=70, LR__max_iter=50, LR__multi_class=auto, LR__penalty=l2, LR__random_state=11, LR__solver=saga, pca__n_components=10;, score=0.803 total time=  12.6s\n",
      "[CV 3/5] END LR__C=70, LR__max_iter=50, LR__multi_class=auto, LR__penalty=l2, LR__random_state=11, LR__solver=saga, pca__n_components=10;, score=0.807 total time=  12.2s\n",
      "[CV 4/5] END LR__C=70, LR__max_iter=50, LR__multi_class=auto, LR__penalty=l2, LR__random_state=11, LR__solver=saga, pca__n_components=10;, score=0.803 total time=  13.0s\n",
      "[CV 5/5] END LR__C=70, LR__max_iter=50, LR__multi_class=auto, LR__penalty=l2, LR__random_state=11, LR__solver=saga, pca__n_components=10;, score=0.804 total time=  12.0s\n"
     ]
    },
    {
     "name": "stderr",
     "output_type": "stream",
     "text": [
      "/home/hybrid/.local/lib/python3.8/site-packages/sklearn/linear_model/_sag.py:350: ConvergenceWarning: The max_iter was reached which means the coef_ did not converge\n",
      "  warnings.warn(\n"
     ]
    },
    {
     "name": "stdout",
     "output_type": "stream",
     "text": [
      "[CV 1/5] END LR__C=70, LR__max_iter=50, LR__multi_class=auto, LR__penalty=l2, LR__random_state=11, LR__solver=saga, pca__n_components=20;, score=0.826 total time=  20.7s\n"
     ]
    },
    {
     "name": "stderr",
     "output_type": "stream",
     "text": [
      "/home/hybrid/.local/lib/python3.8/site-packages/sklearn/linear_model/_sag.py:350: ConvergenceWarning: The max_iter was reached which means the coef_ did not converge\n",
      "  warnings.warn(\n"
     ]
    },
    {
     "name": "stdout",
     "output_type": "stream",
     "text": [
      "[CV 2/5] END LR__C=70, LR__max_iter=50, LR__multi_class=auto, LR__penalty=l2, LR__random_state=11, LR__solver=saga, pca__n_components=20;, score=0.821 total time=  20.6s\n"
     ]
    },
    {
     "name": "stderr",
     "output_type": "stream",
     "text": [
      "/home/hybrid/.local/lib/python3.8/site-packages/sklearn/linear_model/_sag.py:350: ConvergenceWarning: The max_iter was reached which means the coef_ did not converge\n",
      "  warnings.warn(\n"
     ]
    },
    {
     "name": "stdout",
     "output_type": "stream",
     "text": [
      "[CV 3/5] END LR__C=70, LR__max_iter=50, LR__multi_class=auto, LR__penalty=l2, LR__random_state=11, LR__solver=saga, pca__n_components=20;, score=0.824 total time=  20.8s\n"
     ]
    },
    {
     "name": "stderr",
     "output_type": "stream",
     "text": [
      "/home/hybrid/.local/lib/python3.8/site-packages/sklearn/linear_model/_sag.py:350: ConvergenceWarning: The max_iter was reached which means the coef_ did not converge\n",
      "  warnings.warn(\n"
     ]
    },
    {
     "name": "stdout",
     "output_type": "stream",
     "text": [
      "[CV 4/5] END LR__C=70, LR__max_iter=50, LR__multi_class=auto, LR__penalty=l2, LR__random_state=11, LR__solver=saga, pca__n_components=20;, score=0.824 total time=  20.7s\n"
     ]
    },
    {
     "name": "stderr",
     "output_type": "stream",
     "text": [
      "/home/hybrid/.local/lib/python3.8/site-packages/sklearn/linear_model/_sag.py:350: ConvergenceWarning: The max_iter was reached which means the coef_ did not converge\n",
      "  warnings.warn(\n"
     ]
    },
    {
     "name": "stdout",
     "output_type": "stream",
     "text": [
      "[CV 5/5] END LR__C=70, LR__max_iter=50, LR__multi_class=auto, LR__penalty=l2, LR__random_state=11, LR__solver=saga, pca__n_components=20;, score=0.824 total time=  20.7s\n",
      "[CV 1/5] END LR__C=70, LR__max_iter=50, LR__multi_class=auto, LR__penalty=l1, LR__random_state=11, LR__solver=saga, pca__n_components=5;, score=0.773 total time=   2.4s\n",
      "[CV 2/5] END LR__C=70, LR__max_iter=50, LR__multi_class=auto, LR__penalty=l1, LR__random_state=11, LR__solver=saga, pca__n_components=5;, score=0.771 total time=   2.3s\n",
      "[CV 3/5] END LR__C=70, LR__max_iter=50, LR__multi_class=auto, LR__penalty=l1, LR__random_state=11, LR__solver=saga, pca__n_components=5;, score=0.776 total time=   2.4s\n",
      "[CV 4/5] END LR__C=70, LR__max_iter=50, LR__multi_class=auto, LR__penalty=l1, LR__random_state=11, LR__solver=saga, pca__n_components=5;, score=0.773 total time=   2.5s\n",
      "[CV 5/5] END LR__C=70, LR__max_iter=50, LR__multi_class=auto, LR__penalty=l1, LR__random_state=11, LR__solver=saga, pca__n_components=5;, score=0.773 total time=   2.4s\n",
      "[CV 1/5] END LR__C=70, LR__max_iter=50, LR__multi_class=auto, LR__penalty=l1, LR__random_state=11, LR__solver=saga, pca__n_components=10;, score=0.803 total time=  12.3s\n",
      "[CV 2/5] END LR__C=70, LR__max_iter=50, LR__multi_class=auto, LR__penalty=l1, LR__random_state=11, LR__solver=saga, pca__n_components=10;, score=0.805 total time=  12.8s\n",
      "[CV 3/5] END LR__C=70, LR__max_iter=50, LR__multi_class=auto, LR__penalty=l1, LR__random_state=11, LR__solver=saga, pca__n_components=10;, score=0.806 total time=  12.0s\n",
      "[CV 4/5] END LR__C=70, LR__max_iter=50, LR__multi_class=auto, LR__penalty=l1, LR__random_state=11, LR__solver=saga, pca__n_components=10;, score=0.804 total time=  12.3s\n",
      "[CV 5/5] END LR__C=70, LR__max_iter=50, LR__multi_class=auto, LR__penalty=l1, LR__random_state=11, LR__solver=saga, pca__n_components=10;, score=0.803 total time=  12.1s\n"
     ]
    },
    {
     "name": "stderr",
     "output_type": "stream",
     "text": [
      "/home/hybrid/.local/lib/python3.8/site-packages/sklearn/linear_model/_sag.py:350: ConvergenceWarning: The max_iter was reached which means the coef_ did not converge\n",
      "  warnings.warn(\n"
     ]
    },
    {
     "name": "stdout",
     "output_type": "stream",
     "text": [
      "[CV 1/5] END LR__C=70, LR__max_iter=50, LR__multi_class=auto, LR__penalty=l1, LR__random_state=11, LR__solver=saga, pca__n_components=20;, score=0.826 total time=  21.0s\n"
     ]
    },
    {
     "name": "stderr",
     "output_type": "stream",
     "text": [
      "/home/hybrid/.local/lib/python3.8/site-packages/sklearn/linear_model/_sag.py:350: ConvergenceWarning: The max_iter was reached which means the coef_ did not converge\n",
      "  warnings.warn(\n"
     ]
    },
    {
     "name": "stdout",
     "output_type": "stream",
     "text": [
      "[CV 2/5] END LR__C=70, LR__max_iter=50, LR__multi_class=auto, LR__penalty=l1, LR__random_state=11, LR__solver=saga, pca__n_components=20;, score=0.821 total time=  20.9s\n"
     ]
    },
    {
     "name": "stderr",
     "output_type": "stream",
     "text": [
      "/home/hybrid/.local/lib/python3.8/site-packages/sklearn/linear_model/_sag.py:350: ConvergenceWarning: The max_iter was reached which means the coef_ did not converge\n",
      "  warnings.warn(\n"
     ]
    },
    {
     "name": "stdout",
     "output_type": "stream",
     "text": [
      "[CV 3/5] END LR__C=70, LR__max_iter=50, LR__multi_class=auto, LR__penalty=l1, LR__random_state=11, LR__solver=saga, pca__n_components=20;, score=0.824 total time=  21.1s\n"
     ]
    },
    {
     "name": "stderr",
     "output_type": "stream",
     "text": [
      "/home/hybrid/.local/lib/python3.8/site-packages/sklearn/linear_model/_sag.py:350: ConvergenceWarning: The max_iter was reached which means the coef_ did not converge\n",
      "  warnings.warn(\n"
     ]
    },
    {
     "name": "stdout",
     "output_type": "stream",
     "text": [
      "[CV 4/5] END LR__C=70, LR__max_iter=50, LR__multi_class=auto, LR__penalty=l1, LR__random_state=11, LR__solver=saga, pca__n_components=20;, score=0.824 total time=  21.0s\n"
     ]
    },
    {
     "name": "stderr",
     "output_type": "stream",
     "text": [
      "/home/hybrid/.local/lib/python3.8/site-packages/sklearn/linear_model/_sag.py:350: ConvergenceWarning: The max_iter was reached which means the coef_ did not converge\n",
      "  warnings.warn(\n"
     ]
    },
    {
     "name": "stdout",
     "output_type": "stream",
     "text": [
      "[CV 5/5] END LR__C=70, LR__max_iter=50, LR__multi_class=auto, LR__penalty=l1, LR__random_state=11, LR__solver=saga, pca__n_components=20;, score=0.825 total time=  21.0s\n",
      "[CV 1/5] END LR__C=70, LR__max_iter=100, LR__multi_class=auto, LR__penalty=l2, LR__random_state=11, LR__solver=saga, pca__n_components=5;, score=0.773 total time=   2.4s\n",
      "[CV 2/5] END LR__C=70, LR__max_iter=100, LR__multi_class=auto, LR__penalty=l2, LR__random_state=11, LR__solver=saga, pca__n_components=5;, score=0.775 total time=   2.4s\n",
      "[CV 3/5] END LR__C=70, LR__max_iter=100, LR__multi_class=auto, LR__penalty=l2, LR__random_state=11, LR__solver=saga, pca__n_components=5;, score=0.776 total time=   2.4s\n",
      "[CV 4/5] END LR__C=70, LR__max_iter=100, LR__multi_class=auto, LR__penalty=l2, LR__random_state=11, LR__solver=saga, pca__n_components=5;, score=0.773 total time=   2.4s\n",
      "[CV 5/5] END LR__C=70, LR__max_iter=100, LR__multi_class=auto, LR__penalty=l2, LR__random_state=11, LR__solver=saga, pca__n_components=5;, score=0.776 total time=   2.5s\n",
      "[CV 1/5] END LR__C=70, LR__max_iter=100, LR__multi_class=auto, LR__penalty=l2, LR__random_state=11, LR__solver=saga, pca__n_components=10;, score=0.800 total time=  12.1s\n",
      "[CV 2/5] END LR__C=70, LR__max_iter=100, LR__multi_class=auto, LR__penalty=l2, LR__random_state=11, LR__solver=saga, pca__n_components=10;, score=0.806 total time=  12.3s\n",
      "[CV 3/5] END LR__C=70, LR__max_iter=100, LR__multi_class=auto, LR__penalty=l2, LR__random_state=11, LR__solver=saga, pca__n_components=10;, score=0.803 total time=  12.7s\n",
      "[CV 4/5] END LR__C=70, LR__max_iter=100, LR__multi_class=auto, LR__penalty=l2, LR__random_state=11, LR__solver=saga, pca__n_components=10;, score=0.805 total time=  12.3s\n",
      "[CV 5/5] END LR__C=70, LR__max_iter=100, LR__multi_class=auto, LR__penalty=l2, LR__random_state=11, LR__solver=saga, pca__n_components=10;, score=0.805 total time=  12.5s\n"
     ]
    },
    {
     "name": "stderr",
     "output_type": "stream",
     "text": [
      "/home/hybrid/.local/lib/python3.8/site-packages/sklearn/linear_model/_sag.py:350: ConvergenceWarning: The max_iter was reached which means the coef_ did not converge\n",
      "  warnings.warn(\n"
     ]
    },
    {
     "name": "stdout",
     "output_type": "stream",
     "text": [
      "[CV 1/5] END LR__C=70, LR__max_iter=100, LR__multi_class=auto, LR__penalty=l2, LR__random_state=11, LR__solver=saga, pca__n_components=20;, score=0.827 total time=  22.3s\n"
     ]
    },
    {
     "name": "stderr",
     "output_type": "stream",
     "text": [
      "/home/hybrid/.local/lib/python3.8/site-packages/sklearn/linear_model/_sag.py:350: ConvergenceWarning: The max_iter was reached which means the coef_ did not converge\n",
      "  warnings.warn(\n"
     ]
    },
    {
     "name": "stdout",
     "output_type": "stream",
     "text": [
      "[CV 2/5] END LR__C=70, LR__max_iter=100, LR__multi_class=auto, LR__penalty=l2, LR__random_state=11, LR__solver=saga, pca__n_components=20;, score=0.822 total time=  22.1s\n"
     ]
    },
    {
     "name": "stderr",
     "output_type": "stream",
     "text": [
      "/home/hybrid/.local/lib/python3.8/site-packages/sklearn/linear_model/_sag.py:350: ConvergenceWarning: The max_iter was reached which means the coef_ did not converge\n",
      "  warnings.warn(\n"
     ]
    },
    {
     "name": "stdout",
     "output_type": "stream",
     "text": [
      "[CV 3/5] END LR__C=70, LR__max_iter=100, LR__multi_class=auto, LR__penalty=l2, LR__random_state=11, LR__solver=saga, pca__n_components=20;, score=0.825 total time=  22.3s\n"
     ]
    },
    {
     "name": "stderr",
     "output_type": "stream",
     "text": [
      "/home/hybrid/.local/lib/python3.8/site-packages/sklearn/linear_model/_sag.py:350: ConvergenceWarning: The max_iter was reached which means the coef_ did not converge\n",
      "  warnings.warn(\n"
     ]
    },
    {
     "name": "stdout",
     "output_type": "stream",
     "text": [
      "[CV 4/5] END LR__C=70, LR__max_iter=100, LR__multi_class=auto, LR__penalty=l2, LR__random_state=11, LR__solver=saga, pca__n_components=20;, score=0.825 total time=  22.2s\n"
     ]
    },
    {
     "name": "stderr",
     "output_type": "stream",
     "text": [
      "/home/hybrid/.local/lib/python3.8/site-packages/sklearn/linear_model/_sag.py:350: ConvergenceWarning: The max_iter was reached which means the coef_ did not converge\n",
      "  warnings.warn(\n"
     ]
    },
    {
     "name": "stdout",
     "output_type": "stream",
     "text": [
      "[CV 5/5] END LR__C=70, LR__max_iter=100, LR__multi_class=auto, LR__penalty=l2, LR__random_state=11, LR__solver=saga, pca__n_components=20;, score=0.825 total time=  22.3s\n",
      "[CV 1/5] END LR__C=70, LR__max_iter=100, LR__multi_class=auto, LR__penalty=l1, LR__random_state=11, LR__solver=saga, pca__n_components=5;, score=0.773 total time=   2.4s\n",
      "[CV 2/5] END LR__C=70, LR__max_iter=100, LR__multi_class=auto, LR__penalty=l1, LR__random_state=11, LR__solver=saga, pca__n_components=5;, score=0.772 total time=   2.5s\n",
      "[CV 3/5] END LR__C=70, LR__max_iter=100, LR__multi_class=auto, LR__penalty=l1, LR__random_state=11, LR__solver=saga, pca__n_components=5;, score=0.775 total time=   2.4s\n",
      "[CV 4/5] END LR__C=70, LR__max_iter=100, LR__multi_class=auto, LR__penalty=l1, LR__random_state=11, LR__solver=saga, pca__n_components=5;, score=0.772 total time=   2.4s\n",
      "[CV 5/5] END LR__C=70, LR__max_iter=100, LR__multi_class=auto, LR__penalty=l1, LR__random_state=11, LR__solver=saga, pca__n_components=5;, score=0.769 total time=   2.3s\n",
      "[CV 1/5] END LR__C=70, LR__max_iter=100, LR__multi_class=auto, LR__penalty=l1, LR__random_state=11, LR__solver=saga, pca__n_components=10;, score=0.802 total time=  12.5s\n",
      "[CV 2/5] END LR__C=70, LR__max_iter=100, LR__multi_class=auto, LR__penalty=l1, LR__random_state=11, LR__solver=saga, pca__n_components=10;, score=0.803 total time=  12.8s\n",
      "[CV 3/5] END LR__C=70, LR__max_iter=100, LR__multi_class=auto, LR__penalty=l1, LR__random_state=11, LR__solver=saga, pca__n_components=10;, score=0.805 total time=  12.3s\n",
      "[CV 4/5] END LR__C=70, LR__max_iter=100, LR__multi_class=auto, LR__penalty=l1, LR__random_state=11, LR__solver=saga, pca__n_components=10;, score=0.804 total time=  12.5s\n",
      "[CV 5/5] END LR__C=70, LR__max_iter=100, LR__multi_class=auto, LR__penalty=l1, LR__random_state=11, LR__solver=saga, pca__n_components=10;, score=0.803 total time=  12.1s\n"
     ]
    },
    {
     "name": "stderr",
     "output_type": "stream",
     "text": [
      "/home/hybrid/.local/lib/python3.8/site-packages/sklearn/linear_model/_sag.py:350: ConvergenceWarning: The max_iter was reached which means the coef_ did not converge\n",
      "  warnings.warn(\n"
     ]
    },
    {
     "name": "stdout",
     "output_type": "stream",
     "text": [
      "[CV 1/5] END LR__C=70, LR__max_iter=100, LR__multi_class=auto, LR__penalty=l1, LR__random_state=11, LR__solver=saga, pca__n_components=20;, score=0.826 total time=  22.8s\n"
     ]
    },
    {
     "name": "stderr",
     "output_type": "stream",
     "text": [
      "/home/hybrid/.local/lib/python3.8/site-packages/sklearn/linear_model/_sag.py:350: ConvergenceWarning: The max_iter was reached which means the coef_ did not converge\n",
      "  warnings.warn(\n"
     ]
    },
    {
     "name": "stdout",
     "output_type": "stream",
     "text": [
      "[CV 2/5] END LR__C=70, LR__max_iter=100, LR__multi_class=auto, LR__penalty=l1, LR__random_state=11, LR__solver=saga, pca__n_components=20;, score=0.822 total time=  22.9s\n"
     ]
    },
    {
     "name": "stderr",
     "output_type": "stream",
     "text": [
      "/home/hybrid/.local/lib/python3.8/site-packages/sklearn/linear_model/_sag.py:350: ConvergenceWarning: The max_iter was reached which means the coef_ did not converge\n",
      "  warnings.warn(\n"
     ]
    },
    {
     "name": "stdout",
     "output_type": "stream",
     "text": [
      "[CV 3/5] END LR__C=70, LR__max_iter=100, LR__multi_class=auto, LR__penalty=l1, LR__random_state=11, LR__solver=saga, pca__n_components=20;, score=0.824 total time=  22.9s\n"
     ]
    },
    {
     "name": "stderr",
     "output_type": "stream",
     "text": [
      "/home/hybrid/.local/lib/python3.8/site-packages/sklearn/linear_model/_sag.py:350: ConvergenceWarning: The max_iter was reached which means the coef_ did not converge\n",
      "  warnings.warn(\n"
     ]
    },
    {
     "name": "stdout",
     "output_type": "stream",
     "text": [
      "[CV 4/5] END LR__C=70, LR__max_iter=100, LR__multi_class=auto, LR__penalty=l1, LR__random_state=11, LR__solver=saga, pca__n_components=20;, score=0.825 total time=  23.0s\n"
     ]
    },
    {
     "name": "stderr",
     "output_type": "stream",
     "text": [
      "/home/hybrid/.local/lib/python3.8/site-packages/sklearn/linear_model/_sag.py:350: ConvergenceWarning: The max_iter was reached which means the coef_ did not converge\n",
      "  warnings.warn(\n"
     ]
    },
    {
     "name": "stdout",
     "output_type": "stream",
     "text": [
      "[CV 5/5] END LR__C=70, LR__max_iter=100, LR__multi_class=auto, LR__penalty=l1, LR__random_state=11, LR__solver=saga, pca__n_components=20;, score=0.826 total time=  23.1s\n",
      "Cross-validation score: 0.8247309624523392\n",
      "Test score: 0.818079692590371\n"
     ]
    },
    {
     "name": "stderr",
     "output_type": "stream",
     "text": [
      "/home/hybrid/.local/lib/python3.8/site-packages/sklearn/linear_model/_sag.py:350: ConvergenceWarning: The max_iter was reached which means the coef_ did not converge\n",
      "  warnings.warn(\n"
     ]
    }
   ],
   "source": [
    "pipeline = imbpipeline(steps = [['scaler', scaler],\n",
    "                                ['pca', pca],\n",
    "                                ['smote', SMOTEEN],\n",
    "                                ['LR', LogisticRegression()]])\n",
    "\n",
    "stratified_kfold = StratifiedKFold(n_splits=5,\n",
    "                                       shuffle=True,\n",
    "                                       random_state=13)\n",
    "    \n",
    "param_grid = {'LR__C':[20, 70],\n",
    "             'LR__random_state': [11],\n",
    "             'LR__multi_class': ['auto'],\n",
    "             'LR__max_iter': [50, 100],\n",
    "             'LR__solver': ['saga'],\n",
    "             'LR__penalty': ['l2', 'l1'],\n",
    "             'pca__n_components': [5, 10, 20]\n",
    "             }\n",
    "                                                                 \n",
    "search_LR = GridSearchCV(estimator=pipeline,\n",
    "                           param_grid=param_grid,\n",
    "                           scoring='roc_auc',\n",
    "                           cv=stratified_kfold,\n",
    "                           verbose=3,\n",
    "                           #n_jobs=3\n",
    "                        )\n",
    "\n",
    "search_LR.fit(X_train, y_train)\n",
    "cv_score = search_LR.best_score_\n",
    "test_score = search_LR.score(X_test, y_test)\n",
    "print(f'Cross-validation score: {cv_score}\\nTest score: {test_score}')"
   ]
  },
  {
   "cell_type": "markdown",
   "metadata": {},
   "source": [
    "Achieving scores of classification, saving accuracy, recall and F1 score in data frame:"
   ]
  },
  {
   "cell_type": "code",
   "execution_count": 59,
   "metadata": {},
   "outputs": [
    {
     "data": {
      "text/plain": [
       "{'LR__C': 20,\n",
       " 'LR__max_iter': 100,\n",
       " 'LR__multi_class': 'auto',\n",
       " 'LR__penalty': 'l1',\n",
       " 'LR__random_state': 11,\n",
       " 'LR__solver': 'saga',\n",
       " 'pca__n_components': 20}"
      ]
     },
     "execution_count": 59,
     "metadata": {},
     "output_type": "execute_result"
    }
   ],
   "source": [
    "search_LR.best_params_"
   ]
  },
  {
   "cell_type": "code",
   "execution_count": 60,
   "metadata": {},
   "outputs": [],
   "source": [
    "y_pred_lr = search_LR.best_estimator_.predict(X_test)"
   ]
  },
  {
   "cell_type": "code",
   "execution_count": 61,
   "metadata": {},
   "outputs": [],
   "source": [
    "test_score = search_LR.score(X_test, y_test)"
   ]
  },
  {
   "cell_type": "code",
   "execution_count": 62,
   "metadata": {},
   "outputs": [
    {
     "name": "stdout",
     "output_type": "stream",
     "text": [
      "              precision    recall  f1-score   support\n",
      "\n",
      "           0       0.80      0.83      0.81     22550\n",
      "           1       0.69      0.65      0.67     13267\n",
      "\n",
      "    accuracy                           0.76     35817\n",
      "   macro avg       0.74      0.74      0.74     35817\n",
      "weighted avg       0.76      0.76      0.76     35817\n",
      "\n"
     ]
    }
   ],
   "source": [
    "print(classification_report(y_test, y_pred_lr))\n",
    "B_report_lr = pd.DataFrame(classification_report(y_test, y_pred_lr, output_dict=True))"
   ]
  },
  {
   "cell_type": "code",
   "execution_count": 63,
   "metadata": {},
   "outputs": [],
   "source": [
    "for i, name in enumerate(B_report_lr.columns):\n",
    "  B_report_lr = B_report_lr.rename(columns={(B_report_lr.iloc[:,i].name): ('LR_'+B_report_lr.iloc[:,i].name)})\n"
   ]
  },
  {
   "cell_type": "code",
   "execution_count": 64,
   "metadata": {},
   "outputs": [
    {
     "data": {
      "text/html": [
       "<div>\n",
       "<style scoped>\n",
       "    .dataframe tbody tr th:only-of-type {\n",
       "        vertical-align: middle;\n",
       "    }\n",
       "\n",
       "    .dataframe tbody tr th {\n",
       "        vertical-align: top;\n",
       "    }\n",
       "\n",
       "    .dataframe thead th {\n",
       "        text-align: right;\n",
       "    }\n",
       "</style>\n",
       "<table border=\"1\" class=\"dataframe\">\n",
       "  <thead>\n",
       "    <tr style=\"text-align: right;\">\n",
       "      <th></th>\n",
       "      <th>LR_0</th>\n",
       "      <th>LR_1</th>\n",
       "      <th>LR_accuracy</th>\n",
       "      <th>LR_macro avg</th>\n",
       "      <th>LR_weighted avg</th>\n",
       "    </tr>\n",
       "  </thead>\n",
       "  <tbody>\n",
       "    <tr>\n",
       "      <th>precision</th>\n",
       "      <td>0.800060</td>\n",
       "      <td>0.687425</td>\n",
       "      <td>0.760672</td>\n",
       "      <td>0.743743</td>\n",
       "      <td>0.758339</td>\n",
       "    </tr>\n",
       "    <tr>\n",
       "      <th>recall</th>\n",
       "      <td>0.826386</td>\n",
       "      <td>0.648979</td>\n",
       "      <td>0.760672</td>\n",
       "      <td>0.737682</td>\n",
       "      <td>0.760672</td>\n",
       "    </tr>\n",
       "    <tr>\n",
       "      <th>f1-score</th>\n",
       "      <td>0.813010</td>\n",
       "      <td>0.667649</td>\n",
       "      <td>0.760672</td>\n",
       "      <td>0.740329</td>\n",
       "      <td>0.759167</td>\n",
       "    </tr>\n",
       "    <tr>\n",
       "      <th>support</th>\n",
       "      <td>22550.000000</td>\n",
       "      <td>13267.000000</td>\n",
       "      <td>0.760672</td>\n",
       "      <td>35817.000000</td>\n",
       "      <td>35817.000000</td>\n",
       "    </tr>\n",
       "  </tbody>\n",
       "</table>\n",
       "</div>"
      ],
      "text/plain": [
       "                   LR_0          LR_1  LR_accuracy  LR_macro avg  \\\n",
       "precision      0.800060      0.687425     0.760672      0.743743   \n",
       "recall         0.826386      0.648979     0.760672      0.737682   \n",
       "f1-score       0.813010      0.667649     0.760672      0.740329   \n",
       "support    22550.000000  13267.000000     0.760672  35817.000000   \n",
       "\n",
       "           LR_weighted avg  \n",
       "precision         0.758339  \n",
       "recall            0.760672  \n",
       "f1-score          0.759167  \n",
       "support       35817.000000  "
      ]
     },
     "execution_count": 64,
     "metadata": {},
     "output_type": "execute_result"
    }
   ],
   "source": [
    "B_report_lr"
   ]
  },
  {
   "cell_type": "markdown",
   "metadata": {},
   "source": [
    "Utilizing Multi Layer Perceptron algorythm with RandomizedGridSearch in pipeline, scaling reducing, ballancing:"
   ]
  },
  {
   "cell_type": "code",
   "execution_count": 65,
   "metadata": {},
   "outputs": [
    {
     "name": "stdout",
     "output_type": "stream",
     "text": [
      "Fitting 5 folds for each of 6 candidates, totalling 30 fits\n",
      "[CV 1/5] END MLP__activation=relu, MLP__batch_size=32, MLP__hidden_layer_sizes=8, MLP__max_iter=1000, MLP__random_state=42, MLP__solver=adam, pca__n_components=5;, score=0.801 total time=  28.5s\n",
      "[CV 2/5] END MLP__activation=relu, MLP__batch_size=32, MLP__hidden_layer_sizes=8, MLP__max_iter=1000, MLP__random_state=42, MLP__solver=adam, pca__n_components=5;, score=0.803 total time=  28.0s\n",
      "[CV 3/5] END MLP__activation=relu, MLP__batch_size=32, MLP__hidden_layer_sizes=8, MLP__max_iter=1000, MLP__random_state=42, MLP__solver=adam, pca__n_components=5;, score=0.804 total time=  19.7s\n",
      "[CV 4/5] END MLP__activation=relu, MLP__batch_size=32, MLP__hidden_layer_sizes=8, MLP__max_iter=1000, MLP__random_state=42, MLP__solver=adam, pca__n_components=5;, score=0.810 total time=  31.6s\n",
      "[CV 5/5] END MLP__activation=relu, MLP__batch_size=32, MLP__hidden_layer_sizes=8, MLP__max_iter=1000, MLP__random_state=42, MLP__solver=adam, pca__n_components=5;, score=0.803 total time=  27.9s\n",
      "[CV 1/5] END MLP__activation=relu, MLP__batch_size=32, MLP__hidden_layer_sizes=8, MLP__max_iter=1000, MLP__random_state=42, MLP__solver=adam, pca__n_components=10;, score=0.854 total time=  59.0s\n",
      "[CV 2/5] END MLP__activation=relu, MLP__batch_size=32, MLP__hidden_layer_sizes=8, MLP__max_iter=1000, MLP__random_state=42, MLP__solver=adam, pca__n_components=10;, score=0.852 total time= 1.3min\n",
      "[CV 3/5] END MLP__activation=relu, MLP__batch_size=32, MLP__hidden_layer_sizes=8, MLP__max_iter=1000, MLP__random_state=42, MLP__solver=adam, pca__n_components=10;, score=0.853 total time=  49.0s\n",
      "[CV 4/5] END MLP__activation=relu, MLP__batch_size=32, MLP__hidden_layer_sizes=8, MLP__max_iter=1000, MLP__random_state=42, MLP__solver=adam, pca__n_components=10;, score=0.854 total time=  59.5s\n",
      "[CV 5/5] END MLP__activation=relu, MLP__batch_size=32, MLP__hidden_layer_sizes=8, MLP__max_iter=1000, MLP__random_state=42, MLP__solver=adam, pca__n_components=10;, score=0.855 total time= 2.0min\n",
      "[CV 1/5] END MLP__activation=relu, MLP__batch_size=32, MLP__hidden_layer_sizes=8, MLP__max_iter=1000, MLP__random_state=42, MLP__solver=adam, pca__n_components=20;, score=0.905 total time= 2.6min\n",
      "[CV 2/5] END MLP__activation=relu, MLP__batch_size=32, MLP__hidden_layer_sizes=8, MLP__max_iter=1000, MLP__random_state=42, MLP__solver=adam, pca__n_components=20;, score=0.910 total time= 2.1min\n",
      "[CV 3/5] END MLP__activation=relu, MLP__batch_size=32, MLP__hidden_layer_sizes=8, MLP__max_iter=1000, MLP__random_state=42, MLP__solver=adam, pca__n_components=20;, score=0.900 total time= 2.3min\n",
      "[CV 4/5] END MLP__activation=relu, MLP__batch_size=32, MLP__hidden_layer_sizes=8, MLP__max_iter=1000, MLP__random_state=42, MLP__solver=adam, pca__n_components=20;, score=0.905 total time= 4.5min\n",
      "[CV 5/5] END MLP__activation=relu, MLP__batch_size=32, MLP__hidden_layer_sizes=8, MLP__max_iter=1000, MLP__random_state=42, MLP__solver=adam, pca__n_components=20;, score=0.910 total time= 2.0min\n",
      "[CV 1/5] END MLP__activation=relu, MLP__batch_size=32, MLP__hidden_layer_sizes=16, MLP__max_iter=1000, MLP__random_state=42, MLP__solver=adam, pca__n_components=5;, score=0.819 total time= 2.0min\n",
      "[CV 2/5] END MLP__activation=relu, MLP__batch_size=32, MLP__hidden_layer_sizes=16, MLP__max_iter=1000, MLP__random_state=42, MLP__solver=adam, pca__n_components=5;, score=0.820 total time= 1.5min\n",
      "[CV 3/5] END MLP__activation=relu, MLP__batch_size=32, MLP__hidden_layer_sizes=16, MLP__max_iter=1000, MLP__random_state=42, MLP__solver=adam, pca__n_components=5;, score=0.816 total time= 1.1min\n",
      "[CV 4/5] END MLP__activation=relu, MLP__batch_size=32, MLP__hidden_layer_sizes=16, MLP__max_iter=1000, MLP__random_state=42, MLP__solver=adam, pca__n_components=5;, score=0.821 total time=  55.7s\n",
      "[CV 5/5] END MLP__activation=relu, MLP__batch_size=32, MLP__hidden_layer_sizes=16, MLP__max_iter=1000, MLP__random_state=42, MLP__solver=adam, pca__n_components=5;, score=0.820 total time=  54.8s\n",
      "[CV 1/5] END MLP__activation=relu, MLP__batch_size=32, MLP__hidden_layer_sizes=16, MLP__max_iter=1000, MLP__random_state=42, MLP__solver=adam, pca__n_components=10;, score=0.866 total time= 1.0min\n",
      "[CV 2/5] END MLP__activation=relu, MLP__batch_size=32, MLP__hidden_layer_sizes=16, MLP__max_iter=1000, MLP__random_state=42, MLP__solver=adam, pca__n_components=10;, score=0.869 total time= 2.4min\n",
      "[CV 3/5] END MLP__activation=relu, MLP__batch_size=32, MLP__hidden_layer_sizes=16, MLP__max_iter=1000, MLP__random_state=42, MLP__solver=adam, pca__n_components=10;, score=0.868 total time= 2.1min\n",
      "[CV 4/5] END MLP__activation=relu, MLP__batch_size=32, MLP__hidden_layer_sizes=16, MLP__max_iter=1000, MLP__random_state=42, MLP__solver=adam, pca__n_components=10;, score=0.865 total time= 1.3min\n",
      "[CV 5/5] END MLP__activation=relu, MLP__batch_size=32, MLP__hidden_layer_sizes=16, MLP__max_iter=1000, MLP__random_state=42, MLP__solver=adam, pca__n_components=10;, score=0.868 total time= 2.2min\n",
      "[CV 1/5] END MLP__activation=relu, MLP__batch_size=32, MLP__hidden_layer_sizes=16, MLP__max_iter=1000, MLP__random_state=42, MLP__solver=adam, pca__n_components=20;, score=0.918 total time= 2.0min\n",
      "[CV 2/5] END MLP__activation=relu, MLP__batch_size=32, MLP__hidden_layer_sizes=16, MLP__max_iter=1000, MLP__random_state=42, MLP__solver=adam, pca__n_components=20;, score=0.916 total time= 1.7min\n",
      "[CV 3/5] END MLP__activation=relu, MLP__batch_size=32, MLP__hidden_layer_sizes=16, MLP__max_iter=1000, MLP__random_state=42, MLP__solver=adam, pca__n_components=20;, score=0.914 total time= 1.4min\n",
      "[CV 4/5] END MLP__activation=relu, MLP__batch_size=32, MLP__hidden_layer_sizes=16, MLP__max_iter=1000, MLP__random_state=42, MLP__solver=adam, pca__n_components=20;, score=0.916 total time= 2.4min\n",
      "[CV 5/5] END MLP__activation=relu, MLP__batch_size=32, MLP__hidden_layer_sizes=16, MLP__max_iter=1000, MLP__random_state=42, MLP__solver=adam, pca__n_components=20;, score=0.923 total time= 2.7min\n",
      "Cross-validation score: 0.9172147390564687\n",
      "Test score: 0.8953621450752973\n"
     ]
    }
   ],
   "source": [
    "pipeline = imbpipeline(steps = [['scaler', scaler],\n",
    "                                ['pca', pca],\n",
    "                                ['smote', SMOTEEN],\n",
    "                                ['MLP', MLPClassifier()]])\n",
    "\n",
    "stratified_kfold = StratifiedKFold(n_splits=5,\n",
    "                                       shuffle=True,\n",
    "                                       random_state=13)\n",
    "    \n",
    "param_grid = {'MLP__hidden_layer_sizes':[8, 16],\n",
    "             'MLP__activation': ['relu'],\n",
    "              'MLP__solver': ['adam'],\n",
    "              'MLP__random_state': [42],\n",
    "              'MLP__max_iter': [1000],\n",
    "              'MLP__batch_size': [32],\n",
    "              'pca__n_components': [5, 10, 20]\n",
    "             }\n",
    "                                                                 \n",
    "search_MLP = GridSearchCV(estimator=pipeline,\n",
    "                           param_grid=param_grid,\n",
    "                           scoring='roc_auc',\n",
    "                           cv=stratified_kfold,\n",
    "                           verbose=3,\n",
    "                           #n_jobs=3\n",
    "                        )\n",
    "\n",
    "search_MLP.fit(X_train, y_train)\n",
    "cv_score = search_MLP.best_score_\n",
    "test_score = search_MLP.score(X_test, y_test)\n",
    "print(f'Cross-validation score: {cv_score}\\nTest score: {test_score}')"
   ]
  },
  {
   "cell_type": "markdown",
   "metadata": {},
   "source": [
    "Achieving scores of classification, saving accuracy, recall and F1 score in data frame:"
   ]
  },
  {
   "cell_type": "code",
   "execution_count": 66,
   "metadata": {},
   "outputs": [
    {
     "name": "stdout",
     "output_type": "stream",
     "text": [
      "              precision    recall  f1-score   support\n",
      "\n",
      "           0       0.84      0.89      0.86     22550\n",
      "           1       0.79      0.71      0.75     13267\n",
      "\n",
      "    accuracy                           0.82     35817\n",
      "   macro avg       0.82      0.80      0.81     35817\n",
      "weighted avg       0.82      0.82      0.82     35817\n",
      "\n"
     ]
    }
   ],
   "source": [
    "y_pred_mlp = search_MLP.predict(X_test)\n",
    "print(classification_report(y_test, y_pred_mlp))\n",
    "B_report_mlp = pd.DataFrame(classification_report(y_test, y_pred_mlp, output_dict=True))"
   ]
  },
  {
   "cell_type": "code",
   "execution_count": 67,
   "metadata": {},
   "outputs": [],
   "source": [
    "for i, name in enumerate(B_report_mlp.columns):\n",
    "  B_report_mlp = B_report_mlp.rename(columns={(B_report_mlp.iloc[:,i].name): ('MLP_'+B_report_mlp.iloc[:,i].name)})\n"
   ]
  },
  {
   "cell_type": "code",
   "execution_count": 68,
   "metadata": {},
   "outputs": [
    {
     "data": {
      "text/html": [
       "<div>\n",
       "<style scoped>\n",
       "    .dataframe tbody tr th:only-of-type {\n",
       "        vertical-align: middle;\n",
       "    }\n",
       "\n",
       "    .dataframe tbody tr th {\n",
       "        vertical-align: top;\n",
       "    }\n",
       "\n",
       "    .dataframe thead th {\n",
       "        text-align: right;\n",
       "    }\n",
       "</style>\n",
       "<table border=\"1\" class=\"dataframe\">\n",
       "  <thead>\n",
       "    <tr style=\"text-align: right;\">\n",
       "      <th></th>\n",
       "      <th>MLP_0</th>\n",
       "      <th>MLP_1</th>\n",
       "      <th>MLP_accuracy</th>\n",
       "      <th>MLP_macro avg</th>\n",
       "      <th>MLP_weighted avg</th>\n",
       "    </tr>\n",
       "  </thead>\n",
       "  <tbody>\n",
       "    <tr>\n",
       "      <th>precision</th>\n",
       "      <td>0.837864</td>\n",
       "      <td>0.792663</td>\n",
       "      <td>0.822933</td>\n",
       "      <td>0.815264</td>\n",
       "      <td>0.821121</td>\n",
       "    </tr>\n",
       "    <tr>\n",
       "      <th>recall</th>\n",
       "      <td>0.891220</td>\n",
       "      <td>0.706867</td>\n",
       "      <td>0.822933</td>\n",
       "      <td>0.799043</td>\n",
       "      <td>0.822933</td>\n",
       "    </tr>\n",
       "    <tr>\n",
       "      <th>f1-score</th>\n",
       "      <td>0.863718</td>\n",
       "      <td>0.747311</td>\n",
       "      <td>0.822933</td>\n",
       "      <td>0.805514</td>\n",
       "      <td>0.820600</td>\n",
       "    </tr>\n",
       "    <tr>\n",
       "      <th>support</th>\n",
       "      <td>22550.000000</td>\n",
       "      <td>13267.000000</td>\n",
       "      <td>0.822933</td>\n",
       "      <td>35817.000000</td>\n",
       "      <td>35817.000000</td>\n",
       "    </tr>\n",
       "  </tbody>\n",
       "</table>\n",
       "</div>"
      ],
      "text/plain": [
       "                  MLP_0         MLP_1  MLP_accuracy  MLP_macro avg  \\\n",
       "precision      0.837864      0.792663      0.822933       0.815264   \n",
       "recall         0.891220      0.706867      0.822933       0.799043   \n",
       "f1-score       0.863718      0.747311      0.822933       0.805514   \n",
       "support    22550.000000  13267.000000      0.822933   35817.000000   \n",
       "\n",
       "           MLP_weighted avg  \n",
       "precision          0.821121  \n",
       "recall             0.822933  \n",
       "f1-score           0.820600  \n",
       "support        35817.000000  "
      ]
     },
     "execution_count": 68,
     "metadata": {},
     "output_type": "execute_result"
    }
   ],
   "source": [
    "B_report_mlp"
   ]
  },
  {
   "cell_type": "markdown",
   "metadata": {},
   "source": [
    "Creating Data Frame containing all six classifiers results:"
   ]
  },
  {
   "cell_type": "code",
   "execution_count": 70,
   "metadata": {},
   "outputs": [],
   "source": [
    "B_results = pd.concat([B_report_rf, \n",
    "                       B_report_dtc, \n",
    "                       B_report_svc, \n",
    "                       B_report_xgb, \n",
    "                       B_report_lr, \n",
    "                       B_report_mlp], \n",
    "                      axis=1)"
   ]
  },
  {
   "cell_type": "code",
   "execution_count": 73,
   "metadata": {},
   "outputs": [
    {
     "data": {
      "text/html": [
       "<div>\n",
       "<style scoped>\n",
       "    .dataframe tbody tr th:only-of-type {\n",
       "        vertical-align: middle;\n",
       "    }\n",
       "\n",
       "    .dataframe tbody tr th {\n",
       "        vertical-align: top;\n",
       "    }\n",
       "\n",
       "    .dataframe thead th {\n",
       "        text-align: right;\n",
       "    }\n",
       "</style>\n",
       "<table border=\"1\" class=\"dataframe\">\n",
       "  <thead>\n",
       "    <tr style=\"text-align: right;\">\n",
       "      <th></th>\n",
       "      <th>RF_0</th>\n",
       "      <th>RF_1</th>\n",
       "      <th>RF_accuracy</th>\n",
       "      <th>RF_macro avg</th>\n",
       "      <th>RF_weighted avg</th>\n",
       "      <th>DTC_0</th>\n",
       "      <th>DTC_1</th>\n",
       "      <th>DTC_accuracy</th>\n",
       "      <th>DTC_macro avg</th>\n",
       "      <th>DTC_weighted avg</th>\n",
       "      <th>...</th>\n",
       "      <th>LR_0</th>\n",
       "      <th>LR_1</th>\n",
       "      <th>LR_accuracy</th>\n",
       "      <th>LR_macro avg</th>\n",
       "      <th>LR_weighted avg</th>\n",
       "      <th>MLP_0</th>\n",
       "      <th>MLP_1</th>\n",
       "      <th>MLP_accuracy</th>\n",
       "      <th>MLP_macro avg</th>\n",
       "      <th>MLP_weighted avg</th>\n",
       "    </tr>\n",
       "  </thead>\n",
       "  <tbody>\n",
       "    <tr>\n",
       "      <th>precision</th>\n",
       "      <td>0.823551</td>\n",
       "      <td>0.798728</td>\n",
       "      <td>0.815814</td>\n",
       "      <td>0.811139</td>\n",
       "      <td>0.814356</td>\n",
       "      <td>0.793867</td>\n",
       "      <td>0.616850</td>\n",
       "      <td>0.723064</td>\n",
       "      <td>0.705359</td>\n",
       "      <td>0.728298</td>\n",
       "      <td>...</td>\n",
       "      <td>0.800060</td>\n",
       "      <td>0.687425</td>\n",
       "      <td>0.760672</td>\n",
       "      <td>0.743743</td>\n",
       "      <td>0.758339</td>\n",
       "      <td>0.837864</td>\n",
       "      <td>0.792663</td>\n",
       "      <td>0.822933</td>\n",
       "      <td>0.815264</td>\n",
       "      <td>0.821121</td>\n",
       "    </tr>\n",
       "    <tr>\n",
       "      <th>recall</th>\n",
       "      <td>0.900355</td>\n",
       "      <td>0.672119</td>\n",
       "      <td>0.815814</td>\n",
       "      <td>0.786237</td>\n",
       "      <td>0.815814</td>\n",
       "      <td>0.756585</td>\n",
       "      <td>0.666089</td>\n",
       "      <td>0.723064</td>\n",
       "      <td>0.711337</td>\n",
       "      <td>0.723064</td>\n",
       "      <td>...</td>\n",
       "      <td>0.826386</td>\n",
       "      <td>0.648979</td>\n",
       "      <td>0.760672</td>\n",
       "      <td>0.737682</td>\n",
       "      <td>0.760672</td>\n",
       "      <td>0.891220</td>\n",
       "      <td>0.706867</td>\n",
       "      <td>0.822933</td>\n",
       "      <td>0.799043</td>\n",
       "      <td>0.822933</td>\n",
       "    </tr>\n",
       "    <tr>\n",
       "      <th>f1-score</th>\n",
       "      <td>0.860242</td>\n",
       "      <td>0.729974</td>\n",
       "      <td>0.815814</td>\n",
       "      <td>0.795108</td>\n",
       "      <td>0.811989</td>\n",
       "      <td>0.774778</td>\n",
       "      <td>0.640525</td>\n",
       "      <td>0.723064</td>\n",
       "      <td>0.707651</td>\n",
       "      <td>0.725049</td>\n",
       "      <td>...</td>\n",
       "      <td>0.813010</td>\n",
       "      <td>0.667649</td>\n",
       "      <td>0.760672</td>\n",
       "      <td>0.740329</td>\n",
       "      <td>0.759167</td>\n",
       "      <td>0.863718</td>\n",
       "      <td>0.747311</td>\n",
       "      <td>0.822933</td>\n",
       "      <td>0.805514</td>\n",
       "      <td>0.820600</td>\n",
       "    </tr>\n",
       "    <tr>\n",
       "      <th>support</th>\n",
       "      <td>22550.000000</td>\n",
       "      <td>13267.000000</td>\n",
       "      <td>0.815814</td>\n",
       "      <td>35817.000000</td>\n",
       "      <td>35817.000000</td>\n",
       "      <td>22550.000000</td>\n",
       "      <td>13267.000000</td>\n",
       "      <td>0.723064</td>\n",
       "      <td>35817.000000</td>\n",
       "      <td>35817.000000</td>\n",
       "      <td>...</td>\n",
       "      <td>22550.000000</td>\n",
       "      <td>13267.000000</td>\n",
       "      <td>0.760672</td>\n",
       "      <td>35817.000000</td>\n",
       "      <td>35817.000000</td>\n",
       "      <td>22550.000000</td>\n",
       "      <td>13267.000000</td>\n",
       "      <td>0.822933</td>\n",
       "      <td>35817.000000</td>\n",
       "      <td>35817.000000</td>\n",
       "    </tr>\n",
       "  </tbody>\n",
       "</table>\n",
       "<p>4 rows × 30 columns</p>\n",
       "</div>"
      ],
      "text/plain": [
       "                   RF_0          RF_1  RF_accuracy  RF_macro avg  \\\n",
       "precision      0.823551      0.798728     0.815814      0.811139   \n",
       "recall         0.900355      0.672119     0.815814      0.786237   \n",
       "f1-score       0.860242      0.729974     0.815814      0.795108   \n",
       "support    22550.000000  13267.000000     0.815814  35817.000000   \n",
       "\n",
       "           RF_weighted avg         DTC_0         DTC_1  DTC_accuracy  \\\n",
       "precision         0.814356      0.793867      0.616850      0.723064   \n",
       "recall            0.815814      0.756585      0.666089      0.723064   \n",
       "f1-score          0.811989      0.774778      0.640525      0.723064   \n",
       "support       35817.000000  22550.000000  13267.000000      0.723064   \n",
       "\n",
       "           DTC_macro avg  DTC_weighted avg  ...          LR_0          LR_1  \\\n",
       "precision       0.705359          0.728298  ...      0.800060      0.687425   \n",
       "recall          0.711337          0.723064  ...      0.826386      0.648979   \n",
       "f1-score        0.707651          0.725049  ...      0.813010      0.667649   \n",
       "support     35817.000000      35817.000000  ...  22550.000000  13267.000000   \n",
       "\n",
       "           LR_accuracy  LR_macro avg  LR_weighted avg         MLP_0  \\\n",
       "precision     0.760672      0.743743         0.758339      0.837864   \n",
       "recall        0.760672      0.737682         0.760672      0.891220   \n",
       "f1-score      0.760672      0.740329         0.759167      0.863718   \n",
       "support       0.760672  35817.000000     35817.000000  22550.000000   \n",
       "\n",
       "                  MLP_1  MLP_accuracy  MLP_macro avg  MLP_weighted avg  \n",
       "precision      0.792663      0.822933       0.815264          0.821121  \n",
       "recall         0.706867      0.822933       0.799043          0.822933  \n",
       "f1-score       0.747311      0.822933       0.805514          0.820600  \n",
       "support    13267.000000      0.822933   35817.000000      35817.000000  \n",
       "\n",
       "[4 rows x 30 columns]"
      ]
     },
     "execution_count": 73,
     "metadata": {},
     "output_type": "execute_result"
    }
   ],
   "source": [
    "B_results"
   ]
  },
  {
   "cell_type": "markdown",
   "metadata": {},
   "source": [
    "Saving results in a file:"
   ]
  },
  {
   "cell_type": "code",
   "execution_count": 74,
   "metadata": {},
   "outputs": [],
   "source": [
    "B_results.to_pickle(\"data/B_dataset_results.pkl\")"
   ]
  },
  {
   "cell_type": "markdown",
   "metadata": {},
   "source": [
    "Loading and presenting saved Data Frame:"
   ]
  },
  {
   "cell_type": "code",
   "execution_count": 75,
   "metadata": {},
   "outputs": [
    {
     "ename": "NameError",
     "evalue": "name 'pickle' is not defined",
     "output_type": "error",
     "traceback": [
      "\u001b[0;31m---------------------------------------------------------------------------\u001b[0m",
      "\u001b[0;31mNameError\u001b[0m                                 Traceback (most recent call last)",
      "\u001b[0;32m<ipython-input-75-84df65c09634>\u001b[0m in \u001b[0;36m<module>\u001b[0;34m\u001b[0m\n\u001b[0;32m----> 1\u001b[0;31m \u001b[0mB_results\u001b[0m \u001b[0;34m=\u001b[0m \u001b[0mpickle\u001b[0m\u001b[0;34m.\u001b[0m\u001b[0mload\u001b[0m\u001b[0;34m(\u001b[0m\u001b[0;34m\"data/B_dataset_results.pkl\"\u001b[0m\u001b[0;34m)\u001b[0m\u001b[0;34m\u001b[0m\u001b[0;34m\u001b[0m\u001b[0m\n\u001b[0m",
      "\u001b[0;31mNameError\u001b[0m: name 'pickle' is not defined"
     ]
    }
   ],
   "source": [
    "B_results = pd.read_pickle(\"data/B_dataset_results.pkl\")"
   ]
  },
  {
   "cell_type": "markdown",
   "metadata": {},
   "source": [
    "# Summary"
   ]
  },
  {
   "cell_type": "raw",
   "metadata": {},
   "source": [
    "A_results- dataset before binning\n",
    "B_results- dataset after binning"
   ]
  },
  {
   "cell_type": "code",
   "execution_count": 76,
   "metadata": {},
   "outputs": [],
   "source": [
    "c_list = [\"RF\", \"DTC\", \"SVC\", \"XGB\", \"LR\", \"MLP\"]"
   ]
  },
  {
   "cell_type": "markdown",
   "metadata": {},
   "source": [
    "Loading results from not binned dataset from pickle file:"
   ]
  },
  {
   "cell_type": "code",
   "execution_count": 77,
   "metadata": {},
   "outputs": [],
   "source": [
    "A_results = pd.read_pickle(\"data/A_dataset_results.pkl\")"
   ]
  },
  {
   "cell_type": "code",
   "execution_count": 78,
   "metadata": {},
   "outputs": [
    {
     "data": {
      "text/html": [
       "<div>\n",
       "<style scoped>\n",
       "    .dataframe tbody tr th:only-of-type {\n",
       "        vertical-align: middle;\n",
       "    }\n",
       "\n",
       "    .dataframe tbody tr th {\n",
       "        vertical-align: top;\n",
       "    }\n",
       "\n",
       "    .dataframe thead th {\n",
       "        text-align: right;\n",
       "    }\n",
       "</style>\n",
       "<table border=\"1\" class=\"dataframe\">\n",
       "  <thead>\n",
       "    <tr style=\"text-align: right;\">\n",
       "      <th></th>\n",
       "      <th>RF_0</th>\n",
       "      <th>RF_1</th>\n",
       "      <th>RF_accuracy</th>\n",
       "      <th>RF_macro avg</th>\n",
       "      <th>RF_weighted avg</th>\n",
       "      <th>DTC_0</th>\n",
       "      <th>DTC_1</th>\n",
       "      <th>DTC_accuracy</th>\n",
       "      <th>DTC_macro avg</th>\n",
       "      <th>DTC_weighted avg</th>\n",
       "      <th>...</th>\n",
       "      <th>LR_0</th>\n",
       "      <th>LR_1</th>\n",
       "      <th>LR_accuracy</th>\n",
       "      <th>LR_macro avg</th>\n",
       "      <th>LR_weighted avg</th>\n",
       "      <th>MLP_0</th>\n",
       "      <th>MLP_1</th>\n",
       "      <th>MLP_accuracy</th>\n",
       "      <th>MLP_macro avg</th>\n",
       "      <th>MLP_weighted avg</th>\n",
       "    </tr>\n",
       "  </thead>\n",
       "  <tbody>\n",
       "    <tr>\n",
       "      <th>precision</th>\n",
       "      <td>0.817547</td>\n",
       "      <td>0.792963</td>\n",
       "      <td>0.809979</td>\n",
       "      <td>0.805255</td>\n",
       "      <td>0.808441</td>\n",
       "      <td>0.797431</td>\n",
       "      <td>0.648731</td>\n",
       "      <td>0.741491</td>\n",
       "      <td>0.723081</td>\n",
       "      <td>0.742351</td>\n",
       "      <td>...</td>\n",
       "      <td>0.832342</td>\n",
       "      <td>0.658200</td>\n",
       "      <td>0.760365</td>\n",
       "      <td>0.745271</td>\n",
       "      <td>0.767838</td>\n",
       "      <td>0.843845</td>\n",
       "      <td>0.755920</td>\n",
       "      <td>0.812435</td>\n",
       "      <td>0.799883</td>\n",
       "      <td>0.811277</td>\n",
       "    </tr>\n",
       "    <tr>\n",
       "      <th>recall</th>\n",
       "      <td>0.898758</td>\n",
       "      <td>0.659079</td>\n",
       "      <td>0.809979</td>\n",
       "      <td>0.778919</td>\n",
       "      <td>0.809979</td>\n",
       "      <td>0.790111</td>\n",
       "      <td>0.658853</td>\n",
       "      <td>0.741491</td>\n",
       "      <td>0.724482</td>\n",
       "      <td>0.741491</td>\n",
       "      <td>...</td>\n",
       "      <td>0.775610</td>\n",
       "      <td>0.734454</td>\n",
       "      <td>0.760365</td>\n",
       "      <td>0.755032</td>\n",
       "      <td>0.760365</td>\n",
       "      <td>0.861508</td>\n",
       "      <td>0.729027</td>\n",
       "      <td>0.812435</td>\n",
       "      <td>0.795267</td>\n",
       "      <td>0.812435</td>\n",
       "    </tr>\n",
       "    <tr>\n",
       "      <th>f1-score</th>\n",
       "      <td>0.856232</td>\n",
       "      <td>0.719849</td>\n",
       "      <td>0.809979</td>\n",
       "      <td>0.788040</td>\n",
       "      <td>0.805714</td>\n",
       "      <td>0.793754</td>\n",
       "      <td>0.653753</td>\n",
       "      <td>0.741491</td>\n",
       "      <td>0.723753</td>\n",
       "      <td>0.741896</td>\n",
       "      <td>...</td>\n",
       "      <td>0.802975</td>\n",
       "      <td>0.694240</td>\n",
       "      <td>0.760365</td>\n",
       "      <td>0.748607</td>\n",
       "      <td>0.762698</td>\n",
       "      <td>0.852585</td>\n",
       "      <td>0.742230</td>\n",
       "      <td>0.812435</td>\n",
       "      <td>0.797407</td>\n",
       "      <td>0.811708</td>\n",
       "    </tr>\n",
       "    <tr>\n",
       "      <th>support</th>\n",
       "      <td>22550.000000</td>\n",
       "      <td>13267.000000</td>\n",
       "      <td>0.809979</td>\n",
       "      <td>35817.000000</td>\n",
       "      <td>35817.000000</td>\n",
       "      <td>22550.000000</td>\n",
       "      <td>13267.000000</td>\n",
       "      <td>0.741491</td>\n",
       "      <td>35817.000000</td>\n",
       "      <td>35817.000000</td>\n",
       "      <td>...</td>\n",
       "      <td>22550.000000</td>\n",
       "      <td>13267.000000</td>\n",
       "      <td>0.760365</td>\n",
       "      <td>35817.000000</td>\n",
       "      <td>35817.000000</td>\n",
       "      <td>22550.000000</td>\n",
       "      <td>13267.000000</td>\n",
       "      <td>0.812435</td>\n",
       "      <td>35817.000000</td>\n",
       "      <td>35817.000000</td>\n",
       "    </tr>\n",
       "  </tbody>\n",
       "</table>\n",
       "<p>4 rows × 30 columns</p>\n",
       "</div>"
      ],
      "text/plain": [
       "                   RF_0          RF_1  RF_accuracy  RF_macro avg  \\\n",
       "precision      0.817547      0.792963     0.809979      0.805255   \n",
       "recall         0.898758      0.659079     0.809979      0.778919   \n",
       "f1-score       0.856232      0.719849     0.809979      0.788040   \n",
       "support    22550.000000  13267.000000     0.809979  35817.000000   \n",
       "\n",
       "           RF_weighted avg         DTC_0         DTC_1  DTC_accuracy  \\\n",
       "precision         0.808441      0.797431      0.648731      0.741491   \n",
       "recall            0.809979      0.790111      0.658853      0.741491   \n",
       "f1-score          0.805714      0.793754      0.653753      0.741491   \n",
       "support       35817.000000  22550.000000  13267.000000      0.741491   \n",
       "\n",
       "           DTC_macro avg  DTC_weighted avg  ...          LR_0          LR_1  \\\n",
       "precision       0.723081          0.742351  ...      0.832342      0.658200   \n",
       "recall          0.724482          0.741491  ...      0.775610      0.734454   \n",
       "f1-score        0.723753          0.741896  ...      0.802975      0.694240   \n",
       "support     35817.000000      35817.000000  ...  22550.000000  13267.000000   \n",
       "\n",
       "           LR_accuracy  LR_macro avg  LR_weighted avg         MLP_0  \\\n",
       "precision     0.760365      0.745271         0.767838      0.843845   \n",
       "recall        0.760365      0.755032         0.760365      0.861508   \n",
       "f1-score      0.760365      0.748607         0.762698      0.852585   \n",
       "support       0.760365  35817.000000     35817.000000  22550.000000   \n",
       "\n",
       "                  MLP_1  MLP_accuracy  MLP_macro avg  MLP_weighted avg  \n",
       "precision      0.755920      0.812435       0.799883          0.811277  \n",
       "recall         0.729027      0.812435       0.795267          0.812435  \n",
       "f1-score       0.742230      0.812435       0.797407          0.811708  \n",
       "support    13267.000000      0.812435   35817.000000      35817.000000  \n",
       "\n",
       "[4 rows x 30 columns]"
      ]
     },
     "execution_count": 78,
     "metadata": {},
     "output_type": "execute_result"
    }
   ],
   "source": [
    "A_results"
   ]
  },
  {
   "cell_type": "markdown",
   "metadata": {},
   "source": [
    "**Best model before binning data**"
   ]
  },
  {
   "cell_type": "markdown",
   "metadata": {},
   "source": [
    "Best f1-score:"
   ]
  },
  {
   "cell_type": "code",
   "execution_count": 91,
   "metadata": {
    "scrolled": true
   },
   "outputs": [
    {
     "name": "stdout",
     "output_type": "stream",
     "text": [
      "                  XGB_0\n",
      "precision      0.826087\n",
      "recall         0.899024\n",
      "f1-score       0.861014\n",
      "support    22550.000000\n",
      "                  MLP_1\n",
      "precision      0.755920\n",
      "recall         0.729027\n",
      "f1-score       0.742230\n",
      "support    13267.000000\n"
     ]
    }
   ],
   "source": [
    "predi_0s = A_results.filter(like='0')\n",
    "max_f1 = predi_0s[predi_0s.values==(predi_0s.loc[\"f1-score\",:]).max()]\n",
    "max_0s = predi_0s[max_f1.idxmax(axis=1)]\n",
    "\n",
    "predi_ones = A_results.filter(like='1')\n",
    "max_f1 = predi_ones[predi_ones.values==(predi_ones.loc[\"f1-score\",:]).max()]\n",
    "max_ones_A = predi_ones[max_f1.idxmax(axis=1)]\n",
    "print(max_0s)\n",
    "print(max_ones_A)"
   ]
  },
  {
   "cell_type": "markdown",
   "metadata": {},
   "source": [
    "Predicting hotel guests who cancel their reservation I discovered that from all six models with given hyperparameters one achieved highest f1-score witch is a harmonic mean between precision and recall. Shows how precise model managed to fit into given dataset. Precision tells how acurate model was predicting cancelation(1). And recall metric tells how well model made it on test data. In scoretable above is shown that model predicted only 73% true cancelations right, when its precision score was on level of 76%. To increase effectiveness I should consider do more experiments with hyperparameters of winning model and models with close scores to it, in this case Multi Layer Perceptron is the winner.\n",
    "In situation when consider 0's(not canceled) there is overfitting, precision number is smaller than recall what tells me that model done it better on test data than whole set. In future to avoid overfitting I'll use regularization methods, in the case of XGBClassifier there are 3 hyperparameters to tune: alpha: l1 regularization, gamma: minimum loss reduction, lambda: l2 regularization."
   ]
  },
  {
   "cell_type": "markdown",
   "metadata": {},
   "source": [
    "Best precision score:"
   ]
  },
  {
   "cell_type": "code",
   "execution_count": 80,
   "metadata": {},
   "outputs": [
    {
     "name": "stdout",
     "output_type": "stream",
     "text": [
      "                  MLP_0\n",
      "precision      0.843845\n",
      "recall         0.861508\n",
      "f1-score       0.852585\n",
      "support    22550.000000\n",
      "                  XGB_1\n",
      "precision      0.798067\n",
      "recall         0.678300\n",
      "f1-score       0.733325\n",
      "support    13267.000000\n"
     ]
    }
   ],
   "source": [
    "predi_0s = A_results.filter(like='0')\n",
    "max_prec = predi_0s[predi_0s.values==(predi_0s.loc[\"precision\",:]).max()]\n",
    "max_0s = predi_0s[max_prec.idxmax(axis=1)]\n",
    "\n",
    "predi_ones = A_results.filter(like='1')\n",
    "max_prec = predi_ones[predi_ones.values==(predi_ones.loc[\"precision\",:]).max()]\n",
    "max_ones = predi_ones[max_prec.idxmax(axis=1)]\n",
    "print(max_0s)\n",
    "print(max_ones)"
   ]
  },
  {
   "cell_type": "code",
   "execution_count": 81,
   "metadata": {},
   "outputs": [
    {
     "data": {
      "text/html": [
       "<div>\n",
       "<style scoped>\n",
       "    .dataframe tbody tr th:only-of-type {\n",
       "        vertical-align: middle;\n",
       "    }\n",
       "\n",
       "    .dataframe tbody tr th {\n",
       "        vertical-align: top;\n",
       "    }\n",
       "\n",
       "    .dataframe thead th {\n",
       "        text-align: right;\n",
       "    }\n",
       "</style>\n",
       "<table border=\"1\" class=\"dataframe\">\n",
       "  <thead>\n",
       "    <tr style=\"text-align: right;\">\n",
       "      <th></th>\n",
       "      <th>RF_0</th>\n",
       "      <th>RF_1</th>\n",
       "      <th>RF_accuracy</th>\n",
       "      <th>RF_macro avg</th>\n",
       "      <th>RF_weighted avg</th>\n",
       "      <th>DTC_0</th>\n",
       "      <th>DTC_1</th>\n",
       "      <th>DTC_accuracy</th>\n",
       "      <th>DTC_macro avg</th>\n",
       "      <th>DTC_weighted avg</th>\n",
       "      <th>...</th>\n",
       "      <th>LR_0</th>\n",
       "      <th>LR_1</th>\n",
       "      <th>LR_accuracy</th>\n",
       "      <th>LR_macro avg</th>\n",
       "      <th>LR_weighted avg</th>\n",
       "      <th>MLP_0</th>\n",
       "      <th>MLP_1</th>\n",
       "      <th>MLP_accuracy</th>\n",
       "      <th>MLP_macro avg</th>\n",
       "      <th>MLP_weighted avg</th>\n",
       "    </tr>\n",
       "  </thead>\n",
       "  <tbody>\n",
       "    <tr>\n",
       "      <th>precision</th>\n",
       "      <td>0.823551</td>\n",
       "      <td>0.798728</td>\n",
       "      <td>0.815814</td>\n",
       "      <td>0.811139</td>\n",
       "      <td>0.814356</td>\n",
       "      <td>0.793867</td>\n",
       "      <td>0.616850</td>\n",
       "      <td>0.723064</td>\n",
       "      <td>0.705359</td>\n",
       "      <td>0.728298</td>\n",
       "      <td>...</td>\n",
       "      <td>0.800060</td>\n",
       "      <td>0.687425</td>\n",
       "      <td>0.760672</td>\n",
       "      <td>0.743743</td>\n",
       "      <td>0.758339</td>\n",
       "      <td>0.837864</td>\n",
       "      <td>0.792663</td>\n",
       "      <td>0.822933</td>\n",
       "      <td>0.815264</td>\n",
       "      <td>0.821121</td>\n",
       "    </tr>\n",
       "    <tr>\n",
       "      <th>recall</th>\n",
       "      <td>0.900355</td>\n",
       "      <td>0.672119</td>\n",
       "      <td>0.815814</td>\n",
       "      <td>0.786237</td>\n",
       "      <td>0.815814</td>\n",
       "      <td>0.756585</td>\n",
       "      <td>0.666089</td>\n",
       "      <td>0.723064</td>\n",
       "      <td>0.711337</td>\n",
       "      <td>0.723064</td>\n",
       "      <td>...</td>\n",
       "      <td>0.826386</td>\n",
       "      <td>0.648979</td>\n",
       "      <td>0.760672</td>\n",
       "      <td>0.737682</td>\n",
       "      <td>0.760672</td>\n",
       "      <td>0.891220</td>\n",
       "      <td>0.706867</td>\n",
       "      <td>0.822933</td>\n",
       "      <td>0.799043</td>\n",
       "      <td>0.822933</td>\n",
       "    </tr>\n",
       "    <tr>\n",
       "      <th>f1-score</th>\n",
       "      <td>0.860242</td>\n",
       "      <td>0.729974</td>\n",
       "      <td>0.815814</td>\n",
       "      <td>0.795108</td>\n",
       "      <td>0.811989</td>\n",
       "      <td>0.774778</td>\n",
       "      <td>0.640525</td>\n",
       "      <td>0.723064</td>\n",
       "      <td>0.707651</td>\n",
       "      <td>0.725049</td>\n",
       "      <td>...</td>\n",
       "      <td>0.813010</td>\n",
       "      <td>0.667649</td>\n",
       "      <td>0.760672</td>\n",
       "      <td>0.740329</td>\n",
       "      <td>0.759167</td>\n",
       "      <td>0.863718</td>\n",
       "      <td>0.747311</td>\n",
       "      <td>0.822933</td>\n",
       "      <td>0.805514</td>\n",
       "      <td>0.820600</td>\n",
       "    </tr>\n",
       "    <tr>\n",
       "      <th>support</th>\n",
       "      <td>22550.000000</td>\n",
       "      <td>13267.000000</td>\n",
       "      <td>0.815814</td>\n",
       "      <td>35817.000000</td>\n",
       "      <td>35817.000000</td>\n",
       "      <td>22550.000000</td>\n",
       "      <td>13267.000000</td>\n",
       "      <td>0.723064</td>\n",
       "      <td>35817.000000</td>\n",
       "      <td>35817.000000</td>\n",
       "      <td>...</td>\n",
       "      <td>22550.000000</td>\n",
       "      <td>13267.000000</td>\n",
       "      <td>0.760672</td>\n",
       "      <td>35817.000000</td>\n",
       "      <td>35817.000000</td>\n",
       "      <td>22550.000000</td>\n",
       "      <td>13267.000000</td>\n",
       "      <td>0.822933</td>\n",
       "      <td>35817.000000</td>\n",
       "      <td>35817.000000</td>\n",
       "    </tr>\n",
       "  </tbody>\n",
       "</table>\n",
       "<p>4 rows × 30 columns</p>\n",
       "</div>"
      ],
      "text/plain": [
       "                   RF_0          RF_1  RF_accuracy  RF_macro avg  \\\n",
       "precision      0.823551      0.798728     0.815814      0.811139   \n",
       "recall         0.900355      0.672119     0.815814      0.786237   \n",
       "f1-score       0.860242      0.729974     0.815814      0.795108   \n",
       "support    22550.000000  13267.000000     0.815814  35817.000000   \n",
       "\n",
       "           RF_weighted avg         DTC_0         DTC_1  DTC_accuracy  \\\n",
       "precision         0.814356      0.793867      0.616850      0.723064   \n",
       "recall            0.815814      0.756585      0.666089      0.723064   \n",
       "f1-score          0.811989      0.774778      0.640525      0.723064   \n",
       "support       35817.000000  22550.000000  13267.000000      0.723064   \n",
       "\n",
       "           DTC_macro avg  DTC_weighted avg  ...          LR_0          LR_1  \\\n",
       "precision       0.705359          0.728298  ...      0.800060      0.687425   \n",
       "recall          0.711337          0.723064  ...      0.826386      0.648979   \n",
       "f1-score        0.707651          0.725049  ...      0.813010      0.667649   \n",
       "support     35817.000000      35817.000000  ...  22550.000000  13267.000000   \n",
       "\n",
       "           LR_accuracy  LR_macro avg  LR_weighted avg         MLP_0  \\\n",
       "precision     0.760672      0.743743         0.758339      0.837864   \n",
       "recall        0.760672      0.737682         0.760672      0.891220   \n",
       "f1-score      0.760672      0.740329         0.759167      0.863718   \n",
       "support       0.760672  35817.000000     35817.000000  22550.000000   \n",
       "\n",
       "                  MLP_1  MLP_accuracy  MLP_macro avg  MLP_weighted avg  \n",
       "precision      0.792663      0.822933       0.815264          0.821121  \n",
       "recall         0.706867      0.822933       0.799043          0.822933  \n",
       "f1-score       0.747311      0.822933       0.805514          0.820600  \n",
       "support    13267.000000      0.822933   35817.000000      35817.000000  \n",
       "\n",
       "[4 rows x 30 columns]"
      ]
     },
     "execution_count": 81,
     "metadata": {},
     "output_type": "execute_result"
    }
   ],
   "source": [
    "B_results"
   ]
  },
  {
   "cell_type": "markdown",
   "metadata": {},
   "source": [
    "**Best model after binning data**"
   ]
  },
  {
   "cell_type": "markdown",
   "metadata": {},
   "source": [
    "Model with highest f1-score:"
   ]
  },
  {
   "cell_type": "code",
   "execution_count": 92,
   "metadata": {},
   "outputs": [
    {
     "name": "stdout",
     "output_type": "stream",
     "text": [
      "                  XGB_0\n",
      "precision      0.841240\n",
      "recall         0.902794\n",
      "f1-score       0.870930\n",
      "support    22550.000000\n",
      "                  XGB_1\n",
      "precision      0.811311\n",
      "recall         0.710409\n",
      "f1-score       0.757515\n",
      "support    13267.000000\n"
     ]
    }
   ],
   "source": [
    "predi_0s = B_results.filter(like='0')\n",
    "max_f1 = predi_0s[predi_0s.values==(predi_0s.loc[\"f1-score\",:]).max()]\n",
    "max_0s = predi_0s[max_f1.idxmax(axis=1)]\n",
    "\n",
    "predi_ones = B_results.filter(like='1')\n",
    "max_f1 = predi_ones[predi_ones.values==(predi_ones.loc[\"f1-score\",:]).max()]\n",
    "max_ones_B = predi_ones[max_f1.idxmax(axis=1)]\n",
    "print(max_0s)\n",
    "print(max_ones_B)"
   ]
  },
  {
   "cell_type": "markdown",
   "metadata": {},
   "source": [
    "Recall shows that model achieved 71% efficiency in predicting real cancelations, when on training data it's score was 81% right predicted cancelations.\n",
    "After binning data, XGBClassifier has the best f1-score again."
   ]
  },
  {
   "cell_type": "markdown",
   "metadata": {},
   "source": [
    "On 0's prediction model is overfitted, need to add gamma, alpha or lambda punishment hyperparameters to improve tuning of the algorithm."
   ]
  },
  {
   "cell_type": "markdown",
   "metadata": {},
   "source": [
    "Model with highest precision:"
   ]
  },
  {
   "cell_type": "code",
   "execution_count": 83,
   "metadata": {
    "scrolled": true
   },
   "outputs": [
    {
     "name": "stdout",
     "output_type": "stream",
     "text": [
      "                  XGB_0\n",
      "precision      0.841240\n",
      "recall         0.902794\n",
      "f1-score       0.870930\n",
      "support    22550.000000\n",
      "                  XGB_1\n",
      "precision      0.811311\n",
      "recall         0.710409\n",
      "f1-score       0.757515\n",
      "support    13267.000000\n"
     ]
    }
   ],
   "source": [
    "predi_0s = B_results.filter(like='0')\n",
    "max_prec = predi_0s[predi_0s.values==(predi_0s.loc[\"precision\",:]).max()]\n",
    "max_0s = predi_0s[max_prec.idxmax(axis=1)]\n",
    "\n",
    "predi_ones = B_results.filter(like='1')\n",
    "max_prec = predi_ones[predi_ones.values==(predi_ones.loc[\"precision\",:]).max()]\n",
    "max_ones = predi_ones[max_prec.idxmax(axis=1)]\n",
    "print(max_0s)\n",
    "print(max_ones)"
   ]
  },
  {
   "cell_type": "markdown",
   "metadata": {},
   "source": [
    "**Final comparison**"
   ]
  },
  {
   "cell_type": "code",
   "execution_count": 97,
   "metadata": {},
   "outputs": [],
   "source": [
    "f1_ones = pd.concat([max_ones_A, max_ones_B], axis=1)"
   ]
  },
  {
   "cell_type": "code",
   "execution_count": 109,
   "metadata": {},
   "outputs": [],
   "source": [
    "f1_names = {f1_ones.columns[0]: \"Not_binned_\"+f1_ones.columns[0], \n",
    "            f1_ones.columns[1]: \"Binned_\"+f1_ones.columns[1]}"
   ]
  },
  {
   "cell_type": "raw",
   "metadata": {},
   "source": [
    "Comparing two perspectives, with binning and without, slightly better score came out from binned dataset by XGB algorithm:"
   ]
  },
  {
   "cell_type": "code",
   "execution_count": 110,
   "metadata": {},
   "outputs": [
    {
     "data": {
      "text/html": [
       "<div>\n",
       "<style scoped>\n",
       "    .dataframe tbody tr th:only-of-type {\n",
       "        vertical-align: middle;\n",
       "    }\n",
       "\n",
       "    .dataframe tbody tr th {\n",
       "        vertical-align: top;\n",
       "    }\n",
       "\n",
       "    .dataframe thead th {\n",
       "        text-align: right;\n",
       "    }\n",
       "</style>\n",
       "<table border=\"1\" class=\"dataframe\">\n",
       "  <thead>\n",
       "    <tr style=\"text-align: right;\">\n",
       "      <th></th>\n",
       "      <th>Not_binned_MLP_1</th>\n",
       "      <th>Binned_XGB_1</th>\n",
       "    </tr>\n",
       "  </thead>\n",
       "  <tbody>\n",
       "    <tr>\n",
       "      <th>precision</th>\n",
       "      <td>0.755920</td>\n",
       "      <td>0.811311</td>\n",
       "    </tr>\n",
       "    <tr>\n",
       "      <th>recall</th>\n",
       "      <td>0.729027</td>\n",
       "      <td>0.710409</td>\n",
       "    </tr>\n",
       "    <tr>\n",
       "      <th>f1-score</th>\n",
       "      <td>0.742230</td>\n",
       "      <td>0.757515</td>\n",
       "    </tr>\n",
       "    <tr>\n",
       "      <th>support</th>\n",
       "      <td>13267.000000</td>\n",
       "      <td>13267.000000</td>\n",
       "    </tr>\n",
       "  </tbody>\n",
       "</table>\n",
       "</div>"
      ],
      "text/plain": [
       "           Not_binned_MLP_1  Binned_XGB_1\n",
       "precision          0.755920      0.811311\n",
       "recall             0.729027      0.710409\n",
       "f1-score           0.742230      0.757515\n",
       "support        13267.000000  13267.000000"
      ]
     },
     "execution_count": 110,
     "metadata": {},
     "output_type": "execute_result"
    }
   ],
   "source": [
    "f1_ones.rename(columns=f1_names)"
   ]
  },
  {
   "cell_type": "code",
   "execution_count": 111,
   "metadata": {},
   "outputs": [],
   "source": [
    "recall_dif = f1_ones.iloc[1, 1] - f1_ones.iloc[1, 0]"
   ]
  },
  {
   "cell_type": "code",
   "execution_count": 112,
   "metadata": {},
   "outputs": [],
   "source": [
    "f1_dif = f1_ones.iloc[2, 1] - f1_ones.iloc[2, 0] "
   ]
  },
  {
   "cell_type": "code",
   "execution_count": 119,
   "metadata": {},
   "outputs": [],
   "source": [
    "if recall_dif > 0:\n",
    "    diff_r = \"higher\"\n",
    "else:\n",
    "    diff_r = \"lower\"\n",
    "if f1_dif > 0:\n",
    "    diff_f = \"higher\"\n",
    "else:\n",
    "    diff_f = \"lower\"    "
   ]
  },
  {
   "cell_type": "code",
   "execution_count": 124,
   "metadata": {},
   "outputs": [
    {
     "name": "stdout",
     "output_type": "stream",
     "text": [
      "Binning let me attain recall score slightly higher  (by 1.53 % ) and f1 higher  by  1.53 %\n"
     ]
    }
   ],
   "source": [
    "print(\"Binning let me attain recall score slightly\", diff_r,\" (by\", round(np.abs(recall_dif),4)*100,\"% ) and f1\", diff_f,\" by \",round(np.abs(f1_dif),4)*100,\"%\")"
   ]
  }
 ],
 "metadata": {
  "kernelspec": {
   "display_name": "Python 3",
   "language": "python",
   "name": "python3"
  },
  "language_info": {
   "codemirror_mode": {
    "name": "ipython",
    "version": 3
   },
   "file_extension": ".py",
   "mimetype": "text/x-python",
   "name": "python",
   "nbconvert_exporter": "python",
   "pygments_lexer": "ipython3",
   "version": "3.8.10"
  }
 },
 "nbformat": 4,
 "nbformat_minor": 4
}
