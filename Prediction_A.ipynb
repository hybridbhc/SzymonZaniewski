{
 "cells": [
  {
   "cell_type": "markdown",
   "metadata": {},
   "source": [
    "#Machine Learning Models for prepared significant variables dataset"
   ]
  },
  {
   "cell_type": "markdown",
   "metadata": {},
   "source": [
    "**In this notebook I'm utilizing five Machine Learning algorithms and one Deep Learning algorithm on initially cleaned dataset. Making use of RandomizedSearch in pipelines to find out best hyperparameters for ML algorithms. I'll perform some additional preparations of dataset, divide into train and test subsets, encoding into numbers with pandas get_dummies and OrdinalEncoder, using StandardScaller for scaling, SMOTEENN to make classes equal and PCA to decrease amount of variables**"
   ]
  },
  {
   "cell_type": "markdown",
   "metadata": {},
   "source": [
    "Imports:"
   ]
  },
  {
   "cell_type": "code",
   "execution_count": 1,
   "metadata": {},
   "outputs": [],
   "source": [
    "import pandas as pd\n",
    "import numpy as np\n",
    "from sklearn.tree import DecisionTreeClassifier\n",
    "from sklearn.ensemble import RandomForestClassifier\n",
    "from sklearn.svm import SVC\n",
    "from xgboost.sklearn import XGBClassifier\n",
    "from sklearn.neural_network import MLPClassifier\n",
    "from sklearn.linear_model import LogisticRegression\n",
    "\n",
    "from sklearn.preprocessing import (StandardScaler, \n",
    "                                   OrdinalEncoder, \n",
    "                                   MinMaxScaler)\n",
    "\n",
    "from sklearn.model_selection import (train_test_split, \n",
    "                                     GridSearchCV, \n",
    "                                     StratifiedKFold, \n",
    "                                     RandomizedSearchCV)\n",
    "\n",
    "from imblearn.over_sampling import SMOTE\n",
    "from imblearn.combine import SMOTEENN\n",
    "from imblearn.pipeline import Pipeline as imbpipeline\n",
    "from sklearn.pipeline import Pipeline\n",
    "from sklearn.metrics import (classification_report, \n",
    "                             roc_auc_score, \n",
    "                             make_scorer, \n",
    "                             recall_score, \n",
    "                             confusion_matrix, \n",
    "                             accuracy_score,\n",
    "                            get_scorer_names)\n",
    "from sklearn.decomposition import PCA"
   ]
  },
  {
   "cell_type": "markdown",
   "metadata": {},
   "source": [
    "Loading dataset:"
   ]
  },
  {
   "cell_type": "code",
   "execution_count": 2,
   "metadata": {},
   "outputs": [],
   "source": [
    "data_clean = pd.read_pickle(\"data/data_clear.pkl\")"
   ]
  },
  {
   "cell_type": "markdown",
   "metadata": {},
   "source": [
    "Dividing into predictor variables X and target y (\"is_canceled\"):"
   ]
  },
  {
   "cell_type": "code",
   "execution_count": 3,
   "metadata": {},
   "outputs": [],
   "source": [
    "X = data_clean.drop(\"is_canceled\", axis=1)\n",
    "y = data_clean.is_canceled"
   ]
  },
  {
   "cell_type": "markdown",
   "metadata": {},
   "source": [
    "Splitting dataset into train and test subsets with test size 30% and train 70%:"
   ]
  },
  {
   "cell_type": "code",
   "execution_count": 4,
   "metadata": {},
   "outputs": [],
   "source": [
    "X_train, X_test, y_train, y_test = train_test_split(X, y,\n",
    "                                                    test_size=0.3,\n",
    "                                                    stratify=y,\n",
    "                                                    random_state=42\n",
    "                                                   )"
   ]
  },
  {
   "cell_type": "markdown",
   "metadata": {},
   "source": [
    "Shape after division"
   ]
  },
  {
   "cell_type": "code",
   "execution_count": 5,
   "metadata": {},
   "outputs": [
    {
     "data": {
      "text/plain": [
       "(83573, 27)"
      ]
     },
     "execution_count": 5,
     "metadata": {},
     "output_type": "execute_result"
    }
   ],
   "source": [
    "X_train.shape"
   ]
  },
  {
   "cell_type": "code",
   "execution_count": 6,
   "metadata": {},
   "outputs": [
    {
     "data": {
      "text/plain": [
       "(35817, 27)"
      ]
     },
     "execution_count": 6,
     "metadata": {},
     "output_type": "execute_result"
    }
   ],
   "source": [
    "X_test.shape"
   ]
  },
  {
   "cell_type": "markdown",
   "metadata": {},
   "source": [
    "Inputting NaNs in country column with the most frequent value ()max of train subset into train and test:"
   ]
  },
  {
   "cell_type": "code",
   "execution_count": 7,
   "metadata": {},
   "outputs": [],
   "source": [
    "country_input = X_train[\"country\"][X_train.country.value_counts().max()]"
   ]
  },
  {
   "cell_type": "code",
   "execution_count": 8,
   "metadata": {},
   "outputs": [],
   "source": [
    "X_train.country.fillna(country_input, inplace=True)"
   ]
  },
  {
   "cell_type": "code",
   "execution_count": 9,
   "metadata": {},
   "outputs": [],
   "source": [
    "X_test.country.fillna(country_input, inplace=True)"
   ]
  },
  {
   "cell_type": "markdown",
   "metadata": {},
   "source": [
    "Inputting NaNs in agent column with the most frequent value ()max of train subset into train and test:"
   ]
  },
  {
   "cell_type": "code",
   "execution_count": 10,
   "metadata": {},
   "outputs": [],
   "source": [
    "agent_input = X_train[\"agent\"][X_train.agent.value_counts().max()]"
   ]
  },
  {
   "cell_type": "code",
   "execution_count": 11,
   "metadata": {},
   "outputs": [],
   "source": [
    "X_train.agent.fillna(agent_input, inplace=True)"
   ]
  },
  {
   "cell_type": "code",
   "execution_count": 12,
   "metadata": {},
   "outputs": [],
   "source": [
    "X_test.agent.fillna(agent_input, inplace=True)"
   ]
  },
  {
   "cell_type": "markdown",
   "metadata": {},
   "source": [
    "Outlier value of column adr found in a file \"Data_Preparations\" now is to be replaced with mean of adr column."
   ]
  },
  {
   "cell_type": "code",
   "execution_count": 13,
   "metadata": {},
   "outputs": [
    {
     "data": {
      "text/plain": [
       "1"
      ]
     },
     "execution_count": 13,
     "metadata": {},
     "output_type": "execute_result"
    }
   ],
   "source": [
    "(X_train[\"adr\"]==5400).sum()"
   ]
  },
  {
   "cell_type": "code",
   "execution_count": 14,
   "metadata": {},
   "outputs": [
    {
     "data": {
      "text/plain": [
       "0"
      ]
     },
     "execution_count": 14,
     "metadata": {},
     "output_type": "execute_result"
    }
   ],
   "source": [
    "(X_test[\"adr\"]==5400).sum()"
   ]
  },
  {
   "cell_type": "code",
   "execution_count": 15,
   "metadata": {},
   "outputs": [
    {
     "name": "stdout",
     "output_type": "stream",
     "text": [
      "Outlier observations in train subset =  0\n"
     ]
    }
   ],
   "source": [
    "if (X_train[\"adr\"]==5400).sum() > 0:\n",
    "    X_train.replace({5400.0:np.round(X_train.adr.mean(), 2)}, inplace=True) #filling inordinary adr value with mean of training set adr column\n",
    "    print(\"Outlier observations in train subset = \", (X_train[\"adr\"]==5400).sum())\n",
    "elif (X_test[\"adr\"]==5400).sum() > 0:\n",
    "    X_test.replace({5400.0:np.round(X_train.adr.mean(), 2)}, inplace=True)\n",
    "    print(\"Outlier observations in test subset = \", (X_test[\"adr\"]==5400).sum())"
   ]
  },
  {
   "cell_type": "markdown",
   "metadata": {},
   "source": [
    "Encoding columns of most numerous classes with OrdinalEncoder:"
   ]
  },
  {
   "cell_type": "code",
   "execution_count": 16,
   "metadata": {},
   "outputs": [],
   "source": [
    "data_label_train = X_train[[\"agent\", \"company\", \"country\", \"reservation_status_date\", \"arrival_date\"]]\n",
    "data_label_test = X_test[[\"agent\", \"company\", \"country\", \"reservation_status_date\", \"arrival_date\"]]"
   ]
  },
  {
   "cell_type": "code",
   "execution_count": 17,
   "metadata": {},
   "outputs": [],
   "source": [
    "ode = OrdinalEncoder(handle_unknown='use_encoded_value', unknown_value=-1)\n",
    "ode.fit(data_label_train)\n",
    "data_label_train_ode = pd.DataFrame(ode.transform(data_label_train),\n",
    "                                    columns=[\"agent\", \"company\", \"country\", \"reservation_status_date\", \"arrival_date\"])\n",
    "data_label_test_ode = pd.DataFrame(ode.transform(data_label_test), \n",
    "                                   columns=[\"agent\", \"company\", \"country\", \"reservation_status_date\", \"arrival_date\"])"
   ]
  },
  {
   "cell_type": "code",
   "execution_count": 18,
   "metadata": {
    "scrolled": true
   },
   "outputs": [
    {
     "data": {
      "text/html": [
       "<div>\n",
       "<style scoped>\n",
       "    .dataframe tbody tr th:only-of-type {\n",
       "        vertical-align: middle;\n",
       "    }\n",
       "\n",
       "    .dataframe tbody tr th {\n",
       "        vertical-align: top;\n",
       "    }\n",
       "\n",
       "    .dataframe thead th {\n",
       "        text-align: right;\n",
       "    }\n",
       "</style>\n",
       "<table border=\"1\" class=\"dataframe\">\n",
       "  <thead>\n",
       "    <tr style=\"text-align: right;\">\n",
       "      <th></th>\n",
       "      <th>agent</th>\n",
       "      <th>company</th>\n",
       "      <th>country</th>\n",
       "      <th>reservation_status_date</th>\n",
       "      <th>arrival_date</th>\n",
       "    </tr>\n",
       "  </thead>\n",
       "  <tbody>\n",
       "    <tr>\n",
       "      <th>0</th>\n",
       "      <td>288.0</td>\n",
       "      <td>323.0</td>\n",
       "      <td>125.0</td>\n",
       "      <td>400.0</td>\n",
       "      <td>562.0</td>\n",
       "    </tr>\n",
       "    <tr>\n",
       "      <th>1</th>\n",
       "      <td>98.0</td>\n",
       "      <td>323.0</td>\n",
       "      <td>125.0</td>\n",
       "      <td>375.0</td>\n",
       "      <td>258.0</td>\n",
       "    </tr>\n",
       "    <tr>\n",
       "      <th>2</th>\n",
       "      <td>316.0</td>\n",
       "      <td>92.0</td>\n",
       "      <td>125.0</td>\n",
       "      <td>886.0</td>\n",
       "      <td>770.0</td>\n",
       "    </tr>\n",
       "    <tr>\n",
       "      <th>3</th>\n",
       "      <td>316.0</td>\n",
       "      <td>76.0</td>\n",
       "      <td>56.0</td>\n",
       "      <td>449.0</td>\n",
       "      <td>330.0</td>\n",
       "    </tr>\n",
       "    <tr>\n",
       "      <th>4</th>\n",
       "      <td>316.0</td>\n",
       "      <td>323.0</td>\n",
       "      <td>125.0</td>\n",
       "      <td>714.0</td>\n",
       "      <td>597.0</td>\n",
       "    </tr>\n",
       "    <tr>\n",
       "      <th>...</th>\n",
       "      <td>...</td>\n",
       "      <td>...</td>\n",
       "      <td>...</td>\n",
       "      <td>...</td>\n",
       "      <td>...</td>\n",
       "    </tr>\n",
       "    <tr>\n",
       "      <th>83568</th>\n",
       "      <td>0.0</td>\n",
       "      <td>323.0</td>\n",
       "      <td>12.0</td>\n",
       "      <td>339.0</td>\n",
       "      <td>220.0</td>\n",
       "    </tr>\n",
       "    <tr>\n",
       "      <th>83569</th>\n",
       "      <td>143.0</td>\n",
       "      <td>323.0</td>\n",
       "      <td>125.0</td>\n",
       "      <td>640.0</td>\n",
       "      <td>660.0</td>\n",
       "    </tr>\n",
       "    <tr>\n",
       "      <th>83570</th>\n",
       "      <td>99.0</td>\n",
       "      <td>323.0</td>\n",
       "      <td>31.0</td>\n",
       "      <td>817.0</td>\n",
       "      <td>699.0</td>\n",
       "    </tr>\n",
       "    <tr>\n",
       "      <th>83571</th>\n",
       "      <td>193.0</td>\n",
       "      <td>323.0</td>\n",
       "      <td>125.0</td>\n",
       "      <td>304.0</td>\n",
       "      <td>231.0</td>\n",
       "    </tr>\n",
       "    <tr>\n",
       "      <th>83572</th>\n",
       "      <td>316.0</td>\n",
       "      <td>76.0</td>\n",
       "      <td>56.0</td>\n",
       "      <td>449.0</td>\n",
       "      <td>328.0</td>\n",
       "    </tr>\n",
       "  </tbody>\n",
       "</table>\n",
       "<p>83573 rows × 5 columns</p>\n",
       "</div>"
      ],
      "text/plain": [
       "       agent  company  country  reservation_status_date  arrival_date\n",
       "0      288.0    323.0    125.0                    400.0         562.0\n",
       "1       98.0    323.0    125.0                    375.0         258.0\n",
       "2      316.0     92.0    125.0                    886.0         770.0\n",
       "3      316.0     76.0     56.0                    449.0         330.0\n",
       "4      316.0    323.0    125.0                    714.0         597.0\n",
       "...      ...      ...      ...                      ...           ...\n",
       "83568    0.0    323.0     12.0                    339.0         220.0\n",
       "83569  143.0    323.0    125.0                    640.0         660.0\n",
       "83570   99.0    323.0     31.0                    817.0         699.0\n",
       "83571  193.0    323.0    125.0                    304.0         231.0\n",
       "83572  316.0     76.0     56.0                    449.0         328.0\n",
       "\n",
       "[83573 rows x 5 columns]"
      ]
     },
     "execution_count": 18,
     "metadata": {},
     "output_type": "execute_result"
    }
   ],
   "source": [
    "data_label_train_ode"
   ]
  },
  {
   "cell_type": "markdown",
   "metadata": {},
   "source": [
    "Updating encoded columns:"
   ]
  },
  {
   "cell_type": "code",
   "execution_count": 19,
   "metadata": {},
   "outputs": [],
   "source": [
    "X_train.drop([\"agent\", \"company\", \"country\", \"reservation_status_date\", \"arrival_date\"], axis=1, inplace=True)\n",
    "X_test.drop([\"agent\", \"company\", \"country\", \"reservation_status_date\", \"arrival_date\"], axis=1, inplace=True)"
   ]
  },
  {
   "cell_type": "code",
   "execution_count": 20,
   "metadata": {},
   "outputs": [],
   "source": [
    "X_train = pd.concat([X_train.reset_index(drop=True), data_label_train_ode.reset_index(drop=True)], axis=1)\n",
    "X_test = pd.concat([X_test.reset_index(drop=True), data_label_test_ode.reset_index(drop=True)], axis=1)"
   ]
  },
  {
   "cell_type": "code",
   "execution_count": 21,
   "metadata": {},
   "outputs": [
    {
     "data": {
      "text/plain": [
       "(83573, 27)"
      ]
     },
     "execution_count": 21,
     "metadata": {},
     "output_type": "execute_result"
    }
   ],
   "source": [
    "X_train.shape"
   ]
  },
  {
   "cell_type": "markdown",
   "metadata": {},
   "source": [
    "Encoding training and test subsets with get_dummies:"
   ]
  },
  {
   "cell_type": "code",
   "execution_count": 22,
   "metadata": {},
   "outputs": [],
   "source": [
    "X_train = pd.get_dummies(X_train, drop_first=True)"
   ]
  },
  {
   "cell_type": "code",
   "execution_count": 23,
   "metadata": {},
   "outputs": [],
   "source": [
    "X_test = pd.get_dummies(X_test, drop_first=True)\n",
    "X_test = X_test.reindex(columns = X_train.columns, fill_value=0)"
   ]
  },
  {
   "cell_type": "code",
   "execution_count": 24,
   "metadata": {},
   "outputs": [
    {
     "data": {
      "text/plain": [
       "(83573, 59)"
      ]
     },
     "execution_count": 24,
     "metadata": {},
     "output_type": "execute_result"
    }
   ],
   "source": [
    "X_train.shape"
   ]
  },
  {
   "cell_type": "markdown",
   "metadata": {},
   "source": [
    "Initiating StandardScaler for further data scaling:"
   ]
  },
  {
   "cell_type": "code",
   "execution_count": 25,
   "metadata": {},
   "outputs": [],
   "source": [
    "scaler = StandardScaler()"
   ]
  },
  {
   "cell_type": "markdown",
   "metadata": {},
   "source": [
    "Initiating Principal Components with ten components reducing dimentions to ten components :"
   ]
  },
  {
   "cell_type": "code",
   "execution_count": 26,
   "metadata": {},
   "outputs": [],
   "source": [
    "pca = PCA(n_components=10)"
   ]
  },
  {
   "cell_type": "markdown",
   "metadata": {},
   "source": [
    "Initiating algorithm to ballance unballanced data- SMOTEENN:"
   ]
  },
  {
   "cell_type": "code",
   "execution_count": 27,
   "metadata": {},
   "outputs": [],
   "source": [
    "SMOTEEN = SMOTEENN()"
   ]
  },
  {
   "cell_type": "markdown",
   "metadata": {},
   "source": [
    "RandomForestClassifier algorythm with RandomizedGridSearch in pipeline, scaling reducing, ballancing:"
   ]
  },
  {
   "cell_type": "code",
   "execution_count": 28,
   "metadata": {},
   "outputs": [
    {
     "name": "stdout",
     "output_type": "stream",
     "text": [
      "Fitting 5 folds for each of 10 candidates, totalling 50 fits\n",
      "[CV 1/5] END pca__n_components=10, rf__max_depth=10, rf__min_samples_split=10, rf__n_estimators=100;, score=0.871 total time=  27.0s\n",
      "[CV 2/5] END pca__n_components=10, rf__max_depth=10, rf__min_samples_split=10, rf__n_estimators=100;, score=0.865 total time=  27.0s\n",
      "[CV 3/5] END pca__n_components=10, rf__max_depth=10, rf__min_samples_split=10, rf__n_estimators=100;, score=0.878 total time=  26.5s\n",
      "[CV 4/5] END pca__n_components=10, rf__max_depth=10, rf__min_samples_split=10, rf__n_estimators=100;, score=0.872 total time=  26.6s\n",
      "[CV 5/5] END pca__n_components=10, rf__max_depth=10, rf__min_samples_split=10, rf__n_estimators=100;, score=0.877 total time=  26.5s\n",
      "[CV 1/5] END pca__n_components=5, rf__max_depth=20, rf__min_samples_split=5, rf__n_estimators=300;, score=0.881 total time=  49.9s\n",
      "[CV 2/5] END pca__n_components=5, rf__max_depth=20, rf__min_samples_split=5, rf__n_estimators=300;, score=0.876 total time=  50.8s\n",
      "[CV 3/5] END pca__n_components=5, rf__max_depth=20, rf__min_samples_split=5, rf__n_estimators=300;, score=0.878 total time=  48.9s\n",
      "[CV 4/5] END pca__n_components=5, rf__max_depth=20, rf__min_samples_split=5, rf__n_estimators=300;, score=0.882 total time=  50.3s\n",
      "[CV 5/5] END pca__n_components=5, rf__max_depth=20, rf__min_samples_split=5, rf__n_estimators=300;, score=0.881 total time=  50.6s\n",
      "[CV 1/5] END pca__n_components=10, rf__max_depth=20, rf__min_samples_split=5, rf__n_estimators=100;, score=0.898 total time=  32.8s\n",
      "[CV 2/5] END pca__n_components=10, rf__max_depth=20, rf__min_samples_split=5, rf__n_estimators=100;, score=0.893 total time=  32.8s\n",
      "[CV 3/5] END pca__n_components=10, rf__max_depth=20, rf__min_samples_split=5, rf__n_estimators=100;, score=0.901 total time=  31.1s\n",
      "[CV 4/5] END pca__n_components=10, rf__max_depth=20, rf__min_samples_split=5, rf__n_estimators=100;, score=0.900 total time=  31.3s\n",
      "[CV 5/5] END pca__n_components=10, rf__max_depth=20, rf__min_samples_split=5, rf__n_estimators=100;, score=0.904 total time=  30.8s\n",
      "[CV 1/5] END pca__n_components=20, rf__max_depth=10, rf__min_samples_split=5, rf__n_estimators=20;, score=0.885 total time=  24.9s\n",
      "[CV 2/5] END pca__n_components=20, rf__max_depth=10, rf__min_samples_split=5, rf__n_estimators=20;, score=0.882 total time=  25.0s\n",
      "[CV 3/5] END pca__n_components=20, rf__max_depth=10, rf__min_samples_split=5, rf__n_estimators=20;, score=0.891 total time=  24.8s\n",
      "[CV 4/5] END pca__n_components=20, rf__max_depth=10, rf__min_samples_split=5, rf__n_estimators=20;, score=0.886 total time=  24.8s\n",
      "[CV 5/5] END pca__n_components=20, rf__max_depth=10, rf__min_samples_split=5, rf__n_estimators=20;, score=0.892 total time=  24.6s\n",
      "[CV 1/5] END pca__n_components=5, rf__max_depth=10, rf__min_samples_split=10, rf__n_estimators=20;, score=0.851 total time=   5.2s\n",
      "[CV 2/5] END pca__n_components=5, rf__max_depth=10, rf__min_samples_split=10, rf__n_estimators=20;, score=0.846 total time=   5.0s\n",
      "[CV 3/5] END pca__n_components=5, rf__max_depth=10, rf__min_samples_split=10, rf__n_estimators=20;, score=0.853 total time=   5.0s\n",
      "[CV 4/5] END pca__n_components=5, rf__max_depth=10, rf__min_samples_split=10, rf__n_estimators=20;, score=0.848 total time=   5.2s\n",
      "[CV 5/5] END pca__n_components=5, rf__max_depth=10, rf__min_samples_split=10, rf__n_estimators=20;, score=0.852 total time=   5.1s\n",
      "[CV 1/5] END pca__n_components=5, rf__max_depth=20, rf__min_samples_split=5, rf__n_estimators=100;, score=0.880 total time=  18.1s\n",
      "[CV 2/5] END pca__n_components=5, rf__max_depth=20, rf__min_samples_split=5, rf__n_estimators=100;, score=0.874 total time=  18.1s\n",
      "[CV 3/5] END pca__n_components=5, rf__max_depth=20, rf__min_samples_split=5, rf__n_estimators=100;, score=0.882 total time=  17.6s\n",
      "[CV 4/5] END pca__n_components=5, rf__max_depth=20, rf__min_samples_split=5, rf__n_estimators=100;, score=0.879 total time=  18.1s\n",
      "[CV 5/5] END pca__n_components=5, rf__max_depth=20, rf__min_samples_split=5, rf__n_estimators=100;, score=0.879 total time=  18.3s\n",
      "[CV 1/5] END pca__n_components=5, rf__max_depth=10, rf__min_samples_split=5, rf__n_estimators=100;, score=0.853 total time=  14.0s\n",
      "[CV 2/5] END pca__n_components=5, rf__max_depth=10, rf__min_samples_split=5, rf__n_estimators=100;, score=0.850 total time=  14.1s\n",
      "[CV 3/5] END pca__n_components=5, rf__max_depth=10, rf__min_samples_split=5, rf__n_estimators=100;, score=0.857 total time=  13.5s\n",
      "[CV 4/5] END pca__n_components=5, rf__max_depth=10, rf__min_samples_split=5, rf__n_estimators=100;, score=0.852 total time=  14.3s\n",
      "[CV 5/5] END pca__n_components=5, rf__max_depth=10, rf__min_samples_split=5, rf__n_estimators=100;, score=0.858 total time=  13.2s\n",
      "[CV 1/5] END pca__n_components=20, rf__max_depth=20, rf__min_samples_split=5, rf__n_estimators=20;, score=0.907 total time=  26.8s\n",
      "[CV 2/5] END pca__n_components=20, rf__max_depth=20, rf__min_samples_split=5, rf__n_estimators=20;, score=0.901 total time=  26.3s\n",
      "[CV 3/5] END pca__n_components=20, rf__max_depth=20, rf__min_samples_split=5, rf__n_estimators=20;, score=0.907 total time=  26.4s\n",
      "[CV 4/5] END pca__n_components=20, rf__max_depth=20, rf__min_samples_split=5, rf__n_estimators=20;, score=0.908 total time=  27.4s\n",
      "[CV 5/5] END pca__n_components=20, rf__max_depth=20, rf__min_samples_split=5, rf__n_estimators=20;, score=0.911 total time=  26.3s\n",
      "[CV 1/5] END pca__n_components=10, rf__max_depth=10, rf__min_samples_split=10, rf__n_estimators=300;, score=0.870 total time= 1.0min\n",
      "[CV 2/5] END pca__n_components=10, rf__max_depth=10, rf__min_samples_split=10, rf__n_estimators=300;, score=0.869 total time= 1.0min\n",
      "[CV 3/5] END pca__n_components=10, rf__max_depth=10, rf__min_samples_split=10, rf__n_estimators=300;, score=0.875 total time=  56.4s\n",
      "[CV 4/5] END pca__n_components=10, rf__max_depth=10, rf__min_samples_split=10, rf__n_estimators=300;, score=0.872 total time=  57.8s\n",
      "[CV 5/5] END pca__n_components=10, rf__max_depth=10, rf__min_samples_split=10, rf__n_estimators=300;, score=0.875 total time=  56.9s\n",
      "[CV 1/5] END pca__n_components=10, rf__max_depth=10, rf__min_samples_split=5, rf__n_estimators=300;, score=0.870 total time=  57.2s\n",
      "[CV 2/5] END pca__n_components=10, rf__max_depth=10, rf__min_samples_split=5, rf__n_estimators=300;, score=0.867 total time=  56.6s\n",
      "[CV 3/5] END pca__n_components=10, rf__max_depth=10, rf__min_samples_split=5, rf__n_estimators=300;, score=0.877 total time=  57.9s\n",
      "[CV 4/5] END pca__n_components=10, rf__max_depth=10, rf__min_samples_split=5, rf__n_estimators=300;, score=0.874 total time=  57.0s\n",
      "[CV 5/5] END pca__n_components=10, rf__max_depth=10, rf__min_samples_split=5, rf__n_estimators=300;, score=0.877 total time=  57.5s\n",
      "Random Forest:\n",
      "{'rf__n_estimators': 20, 'rf__min_samples_split': 5, 'rf__max_depth': 20, 'pca__n_components': 20}\n",
      "Results on test: 0.8099785018287405\n",
      "Results on train: 0.8729254663587522\n"
     ]
    }
   ],
   "source": [
    "stratified_kfold = StratifiedKFold(n_splits=5,\n",
    "                                       shuffle=True,\n",
    "                                       random_state=11)\n",
    "#imbpipeline\n",
    "pipeline_rf = imbpipeline(steps=[\n",
    "    ['scaler', scaler],\n",
    "    ['pca', pca],\n",
    "    ['smote', SMOTEEN],\n",
    "    ['rf', RandomForestClassifier()]])\n",
    "    \n",
    "param_distributions_rf = {\n",
    "    'rf__n_estimators': [20, 100, 300],\n",
    "    'rf__max_depth': [10, 20],\n",
    "    'rf__min_samples_split': [5, 10],\n",
    "    'pca__n_components': [5, 10, 20]\n",
    "}\n",
    "\n",
    "search_rf = RandomizedSearchCV(pipeline_rf, \n",
    "                               param_distributions_rf, \n",
    "                               n_iter=10, \n",
    "                               cv=stratified_kfold, \n",
    "                               scoring='roc_auc',\n",
    "                               verbose=3\n",
    "                              )\n",
    "\n",
    "search_rf.fit(X_train, y_train)\n",
    "y_pred_rf = search_rf.best_estimator_.predict(X_test)\n",
    "print(\"Random Forest:\")\n",
    "print(search_rf.best_params_)\n",
    "print(f'Results on test: {search_rf.best_estimator_.score(X_test, y_test)}')\n",
    "print(f'Results on train: {search_rf.best_estimator_.score(X_train, y_train)}')"
   ]
  },
  {
   "cell_type": "markdown",
   "metadata": {},
   "source": [
    "Achieving scores of classification, saving accuracy, recall and F1 score in data frame:"
   ]
  },
  {
   "cell_type": "markdown",
   "metadata": {},
   "source": [
    "Best hyperparameters:"
   ]
  },
  {
   "cell_type": "code",
   "execution_count": 29,
   "metadata": {},
   "outputs": [
    {
     "data": {
      "text/plain": [
       "{'rf__n_estimators': 20,\n",
       " 'rf__min_samples_split': 5,\n",
       " 'rf__max_depth': 20,\n",
       " 'pca__n_components': 20}"
      ]
     },
     "execution_count": 29,
     "metadata": {},
     "output_type": "execute_result"
    }
   ],
   "source": [
    "search_rf.best_params_"
   ]
  },
  {
   "cell_type": "code",
   "execution_count": 30,
   "metadata": {},
   "outputs": [],
   "source": [
    "#print(get_scorer_names())"
   ]
  },
  {
   "cell_type": "code",
   "execution_count": 31,
   "metadata": {},
   "outputs": [
    {
     "data": {
      "text/plain": [
       "array([0, 1, 1, ..., 0, 0, 0])"
      ]
     },
     "execution_count": 31,
     "metadata": {},
     "output_type": "execute_result"
    }
   ],
   "source": [
    "y_pred_rf"
   ]
  },
  {
   "cell_type": "code",
   "execution_count": 32,
   "metadata": {},
   "outputs": [
    {
     "name": "stdout",
     "output_type": "stream",
     "text": [
      "              precision    recall  f1-score   support\n",
      "\n",
      "           0       0.82      0.90      0.86     22550\n",
      "           1       0.79      0.66      0.72     13267\n",
      "\n",
      "    accuracy                           0.81     35817\n",
      "   macro avg       0.81      0.78      0.79     35817\n",
      "weighted avg       0.81      0.81      0.81     35817\n",
      "\n"
     ]
    }
   ],
   "source": [
    "print(classification_report(y_test, y_pred_rf))"
   ]
  },
  {
   "cell_type": "code",
   "execution_count": 33,
   "metadata": {
    "scrolled": true
   },
   "outputs": [],
   "source": [
    "A_report_rf = pd.DataFrame(classification_report(y_test, y_pred_rf, output_dict=True))"
   ]
  },
  {
   "cell_type": "code",
   "execution_count": 35,
   "metadata": {},
   "outputs": [],
   "source": [
    "for i, name in enumerate(A_report_rf.columns):\n",
    "  A_report_rf = A_report_rf.rename(columns={(A_report_rf.iloc[:,i].name): ('RF_'+A_report_rf.iloc[:,i].name)})"
   ]
  },
  {
   "cell_type": "code",
   "execution_count": 36,
   "metadata": {},
   "outputs": [
    {
     "data": {
      "text/html": [
       "<div>\n",
       "<style scoped>\n",
       "    .dataframe tbody tr th:only-of-type {\n",
       "        vertical-align: middle;\n",
       "    }\n",
       "\n",
       "    .dataframe tbody tr th {\n",
       "        vertical-align: top;\n",
       "    }\n",
       "\n",
       "    .dataframe thead th {\n",
       "        text-align: right;\n",
       "    }\n",
       "</style>\n",
       "<table border=\"1\" class=\"dataframe\">\n",
       "  <thead>\n",
       "    <tr style=\"text-align: right;\">\n",
       "      <th></th>\n",
       "      <th>RF_0</th>\n",
       "      <th>RF_1</th>\n",
       "      <th>RF_accuracy</th>\n",
       "      <th>RF_macro avg</th>\n",
       "      <th>RF_weighted avg</th>\n",
       "    </tr>\n",
       "  </thead>\n",
       "  <tbody>\n",
       "    <tr>\n",
       "      <th>precision</th>\n",
       "      <td>0.817547</td>\n",
       "      <td>0.792963</td>\n",
       "      <td>0.809979</td>\n",
       "      <td>0.805255</td>\n",
       "      <td>0.808441</td>\n",
       "    </tr>\n",
       "    <tr>\n",
       "      <th>recall</th>\n",
       "      <td>0.898758</td>\n",
       "      <td>0.659079</td>\n",
       "      <td>0.809979</td>\n",
       "      <td>0.778919</td>\n",
       "      <td>0.809979</td>\n",
       "    </tr>\n",
       "    <tr>\n",
       "      <th>f1-score</th>\n",
       "      <td>0.856232</td>\n",
       "      <td>0.719849</td>\n",
       "      <td>0.809979</td>\n",
       "      <td>0.788040</td>\n",
       "      <td>0.805714</td>\n",
       "    </tr>\n",
       "    <tr>\n",
       "      <th>support</th>\n",
       "      <td>22550.000000</td>\n",
       "      <td>13267.000000</td>\n",
       "      <td>0.809979</td>\n",
       "      <td>35817.000000</td>\n",
       "      <td>35817.000000</td>\n",
       "    </tr>\n",
       "  </tbody>\n",
       "</table>\n",
       "</div>"
      ],
      "text/plain": [
       "                   RF_0          RF_1  RF_accuracy  RF_macro avg  \\\n",
       "precision      0.817547      0.792963     0.809979      0.805255   \n",
       "recall         0.898758      0.659079     0.809979      0.778919   \n",
       "f1-score       0.856232      0.719849     0.809979      0.788040   \n",
       "support    22550.000000  13267.000000     0.809979  35817.000000   \n",
       "\n",
       "           RF_weighted avg  \n",
       "precision         0.808441  \n",
       "recall            0.809979  \n",
       "f1-score          0.805714  \n",
       "support       35817.000000  "
      ]
     },
     "execution_count": 36,
     "metadata": {},
     "output_type": "execute_result"
    }
   ],
   "source": [
    "A_report_rf"
   ]
  },
  {
   "cell_type": "markdown",
   "metadata": {},
   "source": [
    "DecisionTreeClassifier algorythm with RandomizedGridSearch in pipeline, scaling reducing, ballancing:"
   ]
  },
  {
   "cell_type": "code",
   "execution_count": 37,
   "metadata": {},
   "outputs": [
    {
     "name": "stdout",
     "output_type": "stream",
     "text": [
      "Fitting 5 folds for each of 48 candidates, totalling 240 fits\n",
      "[CV 1/5] END dtc__max_depth=4, dtc__max_leaf_nodes=2, dtc__random_state=23, pca__n_components=5;, score=0.644 total time=   2.8s\n",
      "[CV 2/5] END dtc__max_depth=4, dtc__max_leaf_nodes=2, dtc__random_state=23, pca__n_components=5;, score=0.639 total time=   2.8s\n",
      "[CV 3/5] END dtc__max_depth=4, dtc__max_leaf_nodes=2, dtc__random_state=23, pca__n_components=5;, score=0.641 total time=   2.9s\n",
      "[CV 4/5] END dtc__max_depth=4, dtc__max_leaf_nodes=2, dtc__random_state=23, pca__n_components=5;, score=0.646 total time=   2.9s\n",
      "[CV 5/5] END dtc__max_depth=4, dtc__max_leaf_nodes=2, dtc__random_state=23, pca__n_components=5;, score=0.644 total time=   2.8s\n",
      "[CV 1/5] END dtc__max_depth=4, dtc__max_leaf_nodes=2, dtc__random_state=23, pca__n_components=10;, score=0.644 total time=   7.9s\n",
      "[CV 2/5] END dtc__max_depth=4, dtc__max_leaf_nodes=2, dtc__random_state=23, pca__n_components=10;, score=0.636 total time=   7.6s\n",
      "[CV 3/5] END dtc__max_depth=4, dtc__max_leaf_nodes=2, dtc__random_state=23, pca__n_components=10;, score=0.642 total time=   7.9s\n",
      "[CV 4/5] END dtc__max_depth=4, dtc__max_leaf_nodes=2, dtc__random_state=23, pca__n_components=10;, score=0.646 total time=   7.1s\n",
      "[CV 5/5] END dtc__max_depth=4, dtc__max_leaf_nodes=2, dtc__random_state=23, pca__n_components=10;, score=0.646 total time=   7.3s\n",
      "[CV 1/5] END dtc__max_depth=4, dtc__max_leaf_nodes=2, dtc__random_state=23, pca__n_components=20;, score=0.643 total time=  19.8s\n",
      "[CV 2/5] END dtc__max_depth=4, dtc__max_leaf_nodes=2, dtc__random_state=23, pca__n_components=20;, score=0.637 total time=  19.8s\n",
      "[CV 3/5] END dtc__max_depth=4, dtc__max_leaf_nodes=2, dtc__random_state=23, pca__n_components=20;, score=0.639 total time=  19.7s\n",
      "[CV 4/5] END dtc__max_depth=4, dtc__max_leaf_nodes=2, dtc__random_state=23, pca__n_components=20;, score=0.647 total time=  19.6s\n",
      "[CV 5/5] END dtc__max_depth=4, dtc__max_leaf_nodes=2, dtc__random_state=23, pca__n_components=20;, score=0.643 total time=  19.7s\n",
      "[CV 1/5] END dtc__max_depth=4, dtc__max_leaf_nodes=5, dtc__random_state=23, pca__n_components=5;, score=0.717 total time=   2.6s\n",
      "[CV 2/5] END dtc__max_depth=4, dtc__max_leaf_nodes=5, dtc__random_state=23, pca__n_components=5;, score=0.715 total time=   2.7s\n",
      "[CV 3/5] END dtc__max_depth=4, dtc__max_leaf_nodes=5, dtc__random_state=23, pca__n_components=5;, score=0.712 total time=   2.7s\n",
      "[CV 4/5] END dtc__max_depth=4, dtc__max_leaf_nodes=5, dtc__random_state=23, pca__n_components=5;, score=0.717 total time=   2.7s\n",
      "[CV 5/5] END dtc__max_depth=4, dtc__max_leaf_nodes=5, dtc__random_state=23, pca__n_components=5;, score=0.719 total time=   2.7s\n",
      "[CV 1/5] END dtc__max_depth=4, dtc__max_leaf_nodes=5, dtc__random_state=23, pca__n_components=10;, score=0.710 total time=   7.5s\n",
      "[CV 2/5] END dtc__max_depth=4, dtc__max_leaf_nodes=5, dtc__random_state=23, pca__n_components=10;, score=0.713 total time=   7.8s\n",
      "[CV 3/5] END dtc__max_depth=4, dtc__max_leaf_nodes=5, dtc__random_state=23, pca__n_components=10;, score=0.710 total time=   7.7s\n",
      "[CV 4/5] END dtc__max_depth=4, dtc__max_leaf_nodes=5, dtc__random_state=23, pca__n_components=10;, score=0.718 total time=   7.2s\n",
      "[CV 5/5] END dtc__max_depth=4, dtc__max_leaf_nodes=5, dtc__random_state=23, pca__n_components=10;, score=0.717 total time=   7.5s\n",
      "[CV 1/5] END dtc__max_depth=4, dtc__max_leaf_nodes=5, dtc__random_state=23, pca__n_components=20;, score=0.709 total time=  19.7s\n",
      "[CV 2/5] END dtc__max_depth=4, dtc__max_leaf_nodes=5, dtc__random_state=23, pca__n_components=20;, score=0.713 total time=  20.0s\n",
      "[CV 3/5] END dtc__max_depth=4, dtc__max_leaf_nodes=5, dtc__random_state=23, pca__n_components=20;, score=0.714 total time=  20.0s\n",
      "[CV 4/5] END dtc__max_depth=4, dtc__max_leaf_nodes=5, dtc__random_state=23, pca__n_components=20;, score=0.714 total time=  19.8s\n",
      "[CV 5/5] END dtc__max_depth=4, dtc__max_leaf_nodes=5, dtc__random_state=23, pca__n_components=20;, score=0.710 total time=  19.8s\n",
      "[CV 1/5] END dtc__max_depth=4, dtc__max_leaf_nodes=10, dtc__random_state=23, pca__n_components=5;, score=0.753 total time=   2.7s\n",
      "[CV 2/5] END dtc__max_depth=4, dtc__max_leaf_nodes=10, dtc__random_state=23, pca__n_components=5;, score=0.753 total time=   2.7s\n",
      "[CV 3/5] END dtc__max_depth=4, dtc__max_leaf_nodes=10, dtc__random_state=23, pca__n_components=5;, score=0.750 total time=   2.7s\n",
      "[CV 4/5] END dtc__max_depth=4, dtc__max_leaf_nodes=10, dtc__random_state=23, pca__n_components=5;, score=0.754 total time=   2.8s\n",
      "[CV 5/5] END dtc__max_depth=4, dtc__max_leaf_nodes=10, dtc__random_state=23, pca__n_components=5;, score=0.763 total time=   2.7s\n",
      "[CV 1/5] END dtc__max_depth=4, dtc__max_leaf_nodes=10, dtc__random_state=23, pca__n_components=10;, score=0.754 total time=   7.7s\n",
      "[CV 2/5] END dtc__max_depth=4, dtc__max_leaf_nodes=10, dtc__random_state=23, pca__n_components=10;, score=0.761 total time=   7.3s\n",
      "[CV 3/5] END dtc__max_depth=4, dtc__max_leaf_nodes=10, dtc__random_state=23, pca__n_components=10;, score=0.760 total time=   7.7s\n",
      "[CV 4/5] END dtc__max_depth=4, dtc__max_leaf_nodes=10, dtc__random_state=23, pca__n_components=10;, score=0.761 total time=   7.1s\n",
      "[CV 5/5] END dtc__max_depth=4, dtc__max_leaf_nodes=10, dtc__random_state=23, pca__n_components=10;, score=0.766 total time=   7.8s\n",
      "[CV 1/5] END dtc__max_depth=4, dtc__max_leaf_nodes=10, dtc__random_state=23, pca__n_components=20;, score=0.758 total time=  20.1s\n",
      "[CV 2/5] END dtc__max_depth=4, dtc__max_leaf_nodes=10, dtc__random_state=23, pca__n_components=20;, score=0.762 total time=  19.9s\n",
      "[CV 3/5] END dtc__max_depth=4, dtc__max_leaf_nodes=10, dtc__random_state=23, pca__n_components=20;, score=0.763 total time=  19.9s\n",
      "[CV 4/5] END dtc__max_depth=4, dtc__max_leaf_nodes=10, dtc__random_state=23, pca__n_components=20;, score=0.763 total time=  19.9s\n",
      "[CV 5/5] END dtc__max_depth=4, dtc__max_leaf_nodes=10, dtc__random_state=23, pca__n_components=20;, score=0.774 total time=  20.0s\n",
      "[CV 1/5] END dtc__max_depth=4, dtc__max_leaf_nodes=30, dtc__random_state=23, pca__n_components=5;, score=0.753 total time=   2.7s\n",
      "[CV 2/5] END dtc__max_depth=4, dtc__max_leaf_nodes=30, dtc__random_state=23, pca__n_components=5;, score=0.756 total time=   2.8s\n",
      "[CV 3/5] END dtc__max_depth=4, dtc__max_leaf_nodes=30, dtc__random_state=23, pca__n_components=5;, score=0.759 total time=   2.7s\n",
      "[CV 4/5] END dtc__max_depth=4, dtc__max_leaf_nodes=30, dtc__random_state=23, pca__n_components=5;, score=0.756 total time=   2.8s\n",
      "[CV 5/5] END dtc__max_depth=4, dtc__max_leaf_nodes=30, dtc__random_state=23, pca__n_components=5;, score=0.766 total time=   2.7s\n",
      "[CV 1/5] END dtc__max_depth=4, dtc__max_leaf_nodes=30, dtc__random_state=23, pca__n_components=10;, score=0.757 total time=   7.4s\n",
      "[CV 2/5] END dtc__max_depth=4, dtc__max_leaf_nodes=30, dtc__random_state=23, pca__n_components=10;, score=0.761 total time=   7.4s\n",
      "[CV 3/5] END dtc__max_depth=4, dtc__max_leaf_nodes=30, dtc__random_state=23, pca__n_components=10;, score=0.752 total time=   7.7s\n",
      "[CV 4/5] END dtc__max_depth=4, dtc__max_leaf_nodes=30, dtc__random_state=23, pca__n_components=10;, score=0.761 total time=   7.6s\n",
      "[CV 5/5] END dtc__max_depth=4, dtc__max_leaf_nodes=30, dtc__random_state=23, pca__n_components=10;, score=0.767 total time=   7.0s\n",
      "[CV 1/5] END dtc__max_depth=4, dtc__max_leaf_nodes=30, dtc__random_state=23, pca__n_components=20;, score=0.764 total time=  20.1s\n",
      "[CV 2/5] END dtc__max_depth=4, dtc__max_leaf_nodes=30, dtc__random_state=23, pca__n_components=20;, score=0.771 total time=  20.1s\n",
      "[CV 3/5] END dtc__max_depth=4, dtc__max_leaf_nodes=30, dtc__random_state=23, pca__n_components=20;, score=0.767 total time=  20.0s\n",
      "[CV 4/5] END dtc__max_depth=4, dtc__max_leaf_nodes=30, dtc__random_state=23, pca__n_components=20;, score=0.767 total time=  20.0s\n",
      "[CV 5/5] END dtc__max_depth=4, dtc__max_leaf_nodes=30, dtc__random_state=23, pca__n_components=20;, score=0.772 total time=  20.1s\n",
      "[CV 1/5] END dtc__max_depth=10, dtc__max_leaf_nodes=2, dtc__random_state=23, pca__n_components=5;, score=0.644 total time=   2.7s\n",
      "[CV 2/5] END dtc__max_depth=10, dtc__max_leaf_nodes=2, dtc__random_state=23, pca__n_components=5;, score=0.641 total time=   2.7s\n",
      "[CV 3/5] END dtc__max_depth=10, dtc__max_leaf_nodes=2, dtc__random_state=23, pca__n_components=5;, score=0.641 total time=   2.8s\n"
     ]
    },
    {
     "name": "stdout",
     "output_type": "stream",
     "text": [
      "[CV 4/5] END dtc__max_depth=10, dtc__max_leaf_nodes=2, dtc__random_state=23, pca__n_components=5;, score=0.646 total time=   2.7s\n",
      "[CV 5/5] END dtc__max_depth=10, dtc__max_leaf_nodes=2, dtc__random_state=23, pca__n_components=5;, score=0.643 total time=   2.6s\n",
      "[CV 1/5] END dtc__max_depth=10, dtc__max_leaf_nodes=2, dtc__random_state=23, pca__n_components=10;, score=0.644 total time=   7.9s\n",
      "[CV 2/5] END dtc__max_depth=10, dtc__max_leaf_nodes=2, dtc__random_state=23, pca__n_components=10;, score=0.639 total time=   7.4s\n",
      "[CV 3/5] END dtc__max_depth=10, dtc__max_leaf_nodes=2, dtc__random_state=23, pca__n_components=10;, score=0.641 total time=   7.4s\n",
      "[CV 4/5] END dtc__max_depth=10, dtc__max_leaf_nodes=2, dtc__random_state=23, pca__n_components=10;, score=0.647 total time=   7.4s\n",
      "[CV 5/5] END dtc__max_depth=10, dtc__max_leaf_nodes=2, dtc__random_state=23, pca__n_components=10;, score=0.643 total time=   7.6s\n",
      "[CV 1/5] END dtc__max_depth=10, dtc__max_leaf_nodes=2, dtc__random_state=23, pca__n_components=20;, score=0.642 total time=  19.7s\n",
      "[CV 2/5] END dtc__max_depth=10, dtc__max_leaf_nodes=2, dtc__random_state=23, pca__n_components=20;, score=0.638 total time=  19.7s\n",
      "[CV 3/5] END dtc__max_depth=10, dtc__max_leaf_nodes=2, dtc__random_state=23, pca__n_components=20;, score=0.641 total time=  19.8s\n",
      "[CV 4/5] END dtc__max_depth=10, dtc__max_leaf_nodes=2, dtc__random_state=23, pca__n_components=20;, score=0.646 total time=  19.7s\n",
      "[CV 5/5] END dtc__max_depth=10, dtc__max_leaf_nodes=2, dtc__random_state=23, pca__n_components=20;, score=0.644 total time=  19.6s\n",
      "[CV 1/5] END dtc__max_depth=10, dtc__max_leaf_nodes=5, dtc__random_state=23, pca__n_components=5;, score=0.714 total time=   2.7s\n",
      "[CV 2/5] END dtc__max_depth=10, dtc__max_leaf_nodes=5, dtc__random_state=23, pca__n_components=5;, score=0.714 total time=   2.8s\n",
      "[CV 3/5] END dtc__max_depth=10, dtc__max_leaf_nodes=5, dtc__random_state=23, pca__n_components=5;, score=0.716 total time=   2.7s\n",
      "[CV 4/5] END dtc__max_depth=10, dtc__max_leaf_nodes=5, dtc__random_state=23, pca__n_components=5;, score=0.718 total time=   2.7s\n",
      "[CV 5/5] END dtc__max_depth=10, dtc__max_leaf_nodes=5, dtc__random_state=23, pca__n_components=5;, score=0.718 total time=   2.7s\n",
      "[CV 1/5] END dtc__max_depth=10, dtc__max_leaf_nodes=5, dtc__random_state=23, pca__n_components=10;, score=0.702 total time=   7.9s\n",
      "[CV 2/5] END dtc__max_depth=10, dtc__max_leaf_nodes=5, dtc__random_state=23, pca__n_components=10;, score=0.708 total time=   7.4s\n",
      "[CV 3/5] END dtc__max_depth=10, dtc__max_leaf_nodes=5, dtc__random_state=23, pca__n_components=10;, score=0.712 total time=   7.6s\n",
      "[CV 4/5] END dtc__max_depth=10, dtc__max_leaf_nodes=5, dtc__random_state=23, pca__n_components=10;, score=0.715 total time=   7.3s\n",
      "[CV 5/5] END dtc__max_depth=10, dtc__max_leaf_nodes=5, dtc__random_state=23, pca__n_components=10;, score=0.713 total time=   7.7s\n",
      "[CV 1/5] END dtc__max_depth=10, dtc__max_leaf_nodes=5, dtc__random_state=23, pca__n_components=20;, score=0.707 total time=  19.9s\n",
      "[CV 2/5] END dtc__max_depth=10, dtc__max_leaf_nodes=5, dtc__random_state=23, pca__n_components=20;, score=0.713 total time=  20.3s\n",
      "[CV 3/5] END dtc__max_depth=10, dtc__max_leaf_nodes=5, dtc__random_state=23, pca__n_components=20;, score=0.713 total time=  19.8s\n",
      "[CV 4/5] END dtc__max_depth=10, dtc__max_leaf_nodes=5, dtc__random_state=23, pca__n_components=20;, score=0.714 total time=  20.0s\n",
      "[CV 5/5] END dtc__max_depth=10, dtc__max_leaf_nodes=5, dtc__random_state=23, pca__n_components=20;, score=0.711 total time=  19.9s\n",
      "[CV 1/5] END dtc__max_depth=10, dtc__max_leaf_nodes=10, dtc__random_state=23, pca__n_components=5;, score=0.750 total time=   2.7s\n",
      "[CV 2/5] END dtc__max_depth=10, dtc__max_leaf_nodes=10, dtc__random_state=23, pca__n_components=5;, score=0.753 total time=   2.8s\n",
      "[CV 3/5] END dtc__max_depth=10, dtc__max_leaf_nodes=10, dtc__random_state=23, pca__n_components=5;, score=0.757 total time=   2.7s\n",
      "[CV 4/5] END dtc__max_depth=10, dtc__max_leaf_nodes=10, dtc__random_state=23, pca__n_components=5;, score=0.759 total time=   2.8s\n",
      "[CV 5/5] END dtc__max_depth=10, dtc__max_leaf_nodes=10, dtc__random_state=23, pca__n_components=5;, score=0.765 total time=   2.8s\n",
      "[CV 1/5] END dtc__max_depth=10, dtc__max_leaf_nodes=10, dtc__random_state=23, pca__n_components=10;, score=0.755 total time=   8.4s\n",
      "[CV 2/5] END dtc__max_depth=10, dtc__max_leaf_nodes=10, dtc__random_state=23, pca__n_components=10;, score=0.767 total time=   7.6s\n",
      "[CV 3/5] END dtc__max_depth=10, dtc__max_leaf_nodes=10, dtc__random_state=23, pca__n_components=10;, score=0.751 total time=   7.2s\n",
      "[CV 4/5] END dtc__max_depth=10, dtc__max_leaf_nodes=10, dtc__random_state=23, pca__n_components=10;, score=0.764 total time=   7.2s\n",
      "[CV 5/5] END dtc__max_depth=10, dtc__max_leaf_nodes=10, dtc__random_state=23, pca__n_components=10;, score=0.768 total time=   6.9s\n",
      "[CV 1/5] END dtc__max_depth=10, dtc__max_leaf_nodes=10, dtc__random_state=23, pca__n_components=20;, score=0.750 total time=  20.0s\n",
      "[CV 2/5] END dtc__max_depth=10, dtc__max_leaf_nodes=10, dtc__random_state=23, pca__n_components=20;, score=0.768 total time=  20.2s\n",
      "[CV 3/5] END dtc__max_depth=10, dtc__max_leaf_nodes=10, dtc__random_state=23, pca__n_components=20;, score=0.768 total time=  20.1s\n",
      "[CV 4/5] END dtc__max_depth=10, dtc__max_leaf_nodes=10, dtc__random_state=23, pca__n_components=20;, score=0.771 total time=  20.1s\n",
      "[CV 5/5] END dtc__max_depth=10, dtc__max_leaf_nodes=10, dtc__random_state=23, pca__n_components=20;, score=0.773 total time=  20.0s\n",
      "[CV 1/5] END dtc__max_depth=10, dtc__max_leaf_nodes=30, dtc__random_state=23, pca__n_components=5;, score=0.782 total time=   2.7s\n",
      "[CV 2/5] END dtc__max_depth=10, dtc__max_leaf_nodes=30, dtc__random_state=23, pca__n_components=5;, score=0.793 total time=   3.1s\n",
      "[CV 3/5] END dtc__max_depth=10, dtc__max_leaf_nodes=30, dtc__random_state=23, pca__n_components=5;, score=0.794 total time=   2.9s\n",
      "[CV 4/5] END dtc__max_depth=10, dtc__max_leaf_nodes=30, dtc__random_state=23, pca__n_components=5;, score=0.791 total time=   2.9s\n",
      "[CV 5/5] END dtc__max_depth=10, dtc__max_leaf_nodes=30, dtc__random_state=23, pca__n_components=5;, score=0.800 total time=   2.8s\n",
      "[CV 1/5] END dtc__max_depth=10, dtc__max_leaf_nodes=30, dtc__random_state=23, pca__n_components=10;, score=0.793 total time=   7.1s\n",
      "[CV 2/5] END dtc__max_depth=10, dtc__max_leaf_nodes=30, dtc__random_state=23, pca__n_components=10;, score=0.797 total time=   7.4s\n",
      "[CV 3/5] END dtc__max_depth=10, dtc__max_leaf_nodes=30, dtc__random_state=23, pca__n_components=10;, score=0.786 total time=   7.6s\n",
      "[CV 4/5] END dtc__max_depth=10, dtc__max_leaf_nodes=30, dtc__random_state=23, pca__n_components=10;, score=0.796 total time=   7.1s\n",
      "[CV 5/5] END dtc__max_depth=10, dtc__max_leaf_nodes=30, dtc__random_state=23, pca__n_components=10;, score=0.806 total time=   7.1s\n",
      "[CV 1/5] END dtc__max_depth=10, dtc__max_leaf_nodes=30, dtc__random_state=23, pca__n_components=20;, score=0.800 total time=  20.3s\n",
      "[CV 2/5] END dtc__max_depth=10, dtc__max_leaf_nodes=30, dtc__random_state=23, pca__n_components=20;, score=0.811 total time=  20.3s\n",
      "[CV 3/5] END dtc__max_depth=10, dtc__max_leaf_nodes=30, dtc__random_state=23, pca__n_components=20;, score=0.818 total time=  20.3s\n",
      "[CV 4/5] END dtc__max_depth=10, dtc__max_leaf_nodes=30, dtc__random_state=23, pca__n_components=20;, score=0.808 total time=  20.4s\n",
      "[CV 5/5] END dtc__max_depth=10, dtc__max_leaf_nodes=30, dtc__random_state=23, pca__n_components=20;, score=0.817 total time=  20.3s\n",
      "[CV 1/5] END dtc__max_depth=20, dtc__max_leaf_nodes=2, dtc__random_state=23, pca__n_components=5;, score=0.642 total time=   2.7s\n",
      "[CV 2/5] END dtc__max_depth=20, dtc__max_leaf_nodes=2, dtc__random_state=23, pca__n_components=5;, score=0.638 total time=   2.6s\n",
      "[CV 3/5] END dtc__max_depth=20, dtc__max_leaf_nodes=2, dtc__random_state=23, pca__n_components=5;, score=0.641 total time=   2.6s\n",
      "[CV 4/5] END dtc__max_depth=20, dtc__max_leaf_nodes=2, dtc__random_state=23, pca__n_components=5;, score=0.646 total time=   2.6s\n",
      "[CV 5/5] END dtc__max_depth=20, dtc__max_leaf_nodes=2, dtc__random_state=23, pca__n_components=5;, score=0.644 total time=   2.6s\n",
      "[CV 1/5] END dtc__max_depth=20, dtc__max_leaf_nodes=2, dtc__random_state=23, pca__n_components=10;, score=0.644 total time=   7.1s\n"
     ]
    },
    {
     "name": "stdout",
     "output_type": "stream",
     "text": [
      "[CV 2/5] END dtc__max_depth=20, dtc__max_leaf_nodes=2, dtc__random_state=23, pca__n_components=10;, score=0.638 total time=   6.7s\n",
      "[CV 3/5] END dtc__max_depth=20, dtc__max_leaf_nodes=2, dtc__random_state=23, pca__n_components=10;, score=0.641 total time=   7.1s\n",
      "[CV 4/5] END dtc__max_depth=20, dtc__max_leaf_nodes=2, dtc__random_state=23, pca__n_components=10;, score=0.646 total time=   6.8s\n",
      "[CV 5/5] END dtc__max_depth=20, dtc__max_leaf_nodes=2, dtc__random_state=23, pca__n_components=10;, score=0.643 total time=   7.6s\n",
      "[CV 1/5] END dtc__max_depth=20, dtc__max_leaf_nodes=2, dtc__random_state=23, pca__n_components=20;, score=0.643 total time=  19.6s\n",
      "[CV 2/5] END dtc__max_depth=20, dtc__max_leaf_nodes=2, dtc__random_state=23, pca__n_components=20;, score=0.638 total time=  19.7s\n",
      "[CV 3/5] END dtc__max_depth=20, dtc__max_leaf_nodes=2, dtc__random_state=23, pca__n_components=20;, score=0.640 total time=  19.8s\n",
      "[CV 4/5] END dtc__max_depth=20, dtc__max_leaf_nodes=2, dtc__random_state=23, pca__n_components=20;, score=0.646 total time=  19.6s\n",
      "[CV 5/5] END dtc__max_depth=20, dtc__max_leaf_nodes=2, dtc__random_state=23, pca__n_components=20;, score=0.644 total time=  19.7s\n",
      "[CV 1/5] END dtc__max_depth=20, dtc__max_leaf_nodes=5, dtc__random_state=23, pca__n_components=5;, score=0.712 total time=   2.7s\n",
      "[CV 2/5] END dtc__max_depth=20, dtc__max_leaf_nodes=5, dtc__random_state=23, pca__n_components=5;, score=0.713 total time=   2.8s\n",
      "[CV 3/5] END dtc__max_depth=20, dtc__max_leaf_nodes=5, dtc__random_state=23, pca__n_components=5;, score=0.717 total time=   2.9s\n",
      "[CV 4/5] END dtc__max_depth=20, dtc__max_leaf_nodes=5, dtc__random_state=23, pca__n_components=5;, score=0.723 total time=   2.9s\n",
      "[CV 5/5] END dtc__max_depth=20, dtc__max_leaf_nodes=5, dtc__random_state=23, pca__n_components=5;, score=0.726 total time=   3.2s\n",
      "[CV 1/5] END dtc__max_depth=20, dtc__max_leaf_nodes=5, dtc__random_state=23, pca__n_components=10;, score=0.707 total time=   7.7s\n",
      "[CV 2/5] END dtc__max_depth=20, dtc__max_leaf_nodes=5, dtc__random_state=23, pca__n_components=10;, score=0.708 total time=   7.4s\n",
      "[CV 3/5] END dtc__max_depth=20, dtc__max_leaf_nodes=5, dtc__random_state=23, pca__n_components=10;, score=0.718 total time=   8.0s\n",
      "[CV 4/5] END dtc__max_depth=20, dtc__max_leaf_nodes=5, dtc__random_state=23, pca__n_components=10;, score=0.713 total time=   7.6s\n",
      "[CV 5/5] END dtc__max_depth=20, dtc__max_leaf_nodes=5, dtc__random_state=23, pca__n_components=10;, score=0.723 total time=   7.6s\n",
      "[CV 1/5] END dtc__max_depth=20, dtc__max_leaf_nodes=5, dtc__random_state=23, pca__n_components=20;, score=0.705 total time=  21.3s\n",
      "[CV 2/5] END dtc__max_depth=20, dtc__max_leaf_nodes=5, dtc__random_state=23, pca__n_components=20;, score=0.715 total time=  21.7s\n",
      "[CV 3/5] END dtc__max_depth=20, dtc__max_leaf_nodes=5, dtc__random_state=23, pca__n_components=20;, score=0.735 total time=  22.9s\n",
      "[CV 4/5] END dtc__max_depth=20, dtc__max_leaf_nodes=5, dtc__random_state=23, pca__n_components=20;, score=0.713 total time=  22.1s\n",
      "[CV 5/5] END dtc__max_depth=20, dtc__max_leaf_nodes=5, dtc__random_state=23, pca__n_components=20;, score=0.724 total time=  20.0s\n",
      "[CV 1/5] END dtc__max_depth=20, dtc__max_leaf_nodes=10, dtc__random_state=23, pca__n_components=5;, score=0.749 total time=   2.8s\n",
      "[CV 2/5] END dtc__max_depth=20, dtc__max_leaf_nodes=10, dtc__random_state=23, pca__n_components=5;, score=0.757 total time=   2.8s\n",
      "[CV 3/5] END dtc__max_depth=20, dtc__max_leaf_nodes=10, dtc__random_state=23, pca__n_components=5;, score=0.758 total time=   2.8s\n",
      "[CV 4/5] END dtc__max_depth=20, dtc__max_leaf_nodes=10, dtc__random_state=23, pca__n_components=5;, score=0.762 total time=   2.8s\n",
      "[CV 5/5] END dtc__max_depth=20, dtc__max_leaf_nodes=10, dtc__random_state=23, pca__n_components=5;, score=0.762 total time=   2.7s\n",
      "[CV 1/5] END dtc__max_depth=20, dtc__max_leaf_nodes=10, dtc__random_state=23, pca__n_components=10;, score=0.751 total time=   7.9s\n",
      "[CV 2/5] END dtc__max_depth=20, dtc__max_leaf_nodes=10, dtc__random_state=23, pca__n_components=10;, score=0.760 total time=   7.5s\n",
      "[CV 3/5] END dtc__max_depth=20, dtc__max_leaf_nodes=10, dtc__random_state=23, pca__n_components=10;, score=0.757 total time=   7.3s\n",
      "[CV 4/5] END dtc__max_depth=20, dtc__max_leaf_nodes=10, dtc__random_state=23, pca__n_components=10;, score=0.764 total time=   7.2s\n",
      "[CV 5/5] END dtc__max_depth=20, dtc__max_leaf_nodes=10, dtc__random_state=23, pca__n_components=10;, score=0.764 total time=   7.2s\n",
      "[CV 1/5] END dtc__max_depth=20, dtc__max_leaf_nodes=10, dtc__random_state=23, pca__n_components=20;, score=0.765 total time=  20.1s\n",
      "[CV 2/5] END dtc__max_depth=20, dtc__max_leaf_nodes=10, dtc__random_state=23, pca__n_components=20;, score=0.763 total time=  20.1s\n",
      "[CV 3/5] END dtc__max_depth=20, dtc__max_leaf_nodes=10, dtc__random_state=23, pca__n_components=20;, score=0.773 total time=  20.1s\n",
      "[CV 4/5] END dtc__max_depth=20, dtc__max_leaf_nodes=10, dtc__random_state=23, pca__n_components=20;, score=0.772 total time=  19.9s\n",
      "[CV 5/5] END dtc__max_depth=20, dtc__max_leaf_nodes=10, dtc__random_state=23, pca__n_components=20;, score=0.770 total time=  20.2s\n",
      "[CV 1/5] END dtc__max_depth=20, dtc__max_leaf_nodes=30, dtc__random_state=23, pca__n_components=5;, score=0.787 total time=   2.8s\n",
      "[CV 2/5] END dtc__max_depth=20, dtc__max_leaf_nodes=30, dtc__random_state=23, pca__n_components=5;, score=0.798 total time=   2.8s\n",
      "[CV 3/5] END dtc__max_depth=20, dtc__max_leaf_nodes=30, dtc__random_state=23, pca__n_components=5;, score=0.793 total time=   2.7s\n",
      "[CV 4/5] END dtc__max_depth=20, dtc__max_leaf_nodes=30, dtc__random_state=23, pca__n_components=5;, score=0.794 total time=   2.7s\n",
      "[CV 5/5] END dtc__max_depth=20, dtc__max_leaf_nodes=30, dtc__random_state=23, pca__n_components=5;, score=0.795 total time=   2.8s\n",
      "[CV 1/5] END dtc__max_depth=20, dtc__max_leaf_nodes=30, dtc__random_state=23, pca__n_components=10;, score=0.805 total time=   7.8s\n",
      "[CV 2/5] END dtc__max_depth=20, dtc__max_leaf_nodes=30, dtc__random_state=23, pca__n_components=10;, score=0.802 total time=   7.3s\n",
      "[CV 3/5] END dtc__max_depth=20, dtc__max_leaf_nodes=30, dtc__random_state=23, pca__n_components=10;, score=0.794 total time=   7.1s\n",
      "[CV 4/5] END dtc__max_depth=20, dtc__max_leaf_nodes=30, dtc__random_state=23, pca__n_components=10;, score=0.792 total time=   7.5s\n",
      "[CV 5/5] END dtc__max_depth=20, dtc__max_leaf_nodes=30, dtc__random_state=23, pca__n_components=10;, score=0.804 total time=   7.7s\n",
      "[CV 1/5] END dtc__max_depth=20, dtc__max_leaf_nodes=30, dtc__random_state=23, pca__n_components=20;, score=0.814 total time=  21.3s\n",
      "[CV 2/5] END dtc__max_depth=20, dtc__max_leaf_nodes=30, dtc__random_state=23, pca__n_components=20;, score=0.811 total time=  21.3s\n",
      "[CV 3/5] END dtc__max_depth=20, dtc__max_leaf_nodes=30, dtc__random_state=23, pca__n_components=20;, score=0.813 total time=  21.0s\n",
      "[CV 4/5] END dtc__max_depth=20, dtc__max_leaf_nodes=30, dtc__random_state=23, pca__n_components=20;, score=0.815 total time=  21.4s\n",
      "[CV 5/5] END dtc__max_depth=20, dtc__max_leaf_nodes=30, dtc__random_state=23, pca__n_components=20;, score=0.818 total time=  22.3s\n",
      "[CV 1/5] END dtc__max_depth=40, dtc__max_leaf_nodes=2, dtc__random_state=23, pca__n_components=5;, score=0.642 total time=   2.8s\n",
      "[CV 2/5] END dtc__max_depth=40, dtc__max_leaf_nodes=2, dtc__random_state=23, pca__n_components=5;, score=0.636 total time=   2.6s\n",
      "[CV 3/5] END dtc__max_depth=40, dtc__max_leaf_nodes=2, dtc__random_state=23, pca__n_components=5;, score=0.641 total time=   2.7s\n",
      "[CV 4/5] END dtc__max_depth=40, dtc__max_leaf_nodes=2, dtc__random_state=23, pca__n_components=5;, score=0.646 total time=   2.9s\n",
      "[CV 5/5] END dtc__max_depth=40, dtc__max_leaf_nodes=2, dtc__random_state=23, pca__n_components=5;, score=0.644 total time=   2.8s\n",
      "[CV 1/5] END dtc__max_depth=40, dtc__max_leaf_nodes=2, dtc__random_state=23, pca__n_components=10;, score=0.643 total time=   7.3s\n",
      "[CV 2/5] END dtc__max_depth=40, dtc__max_leaf_nodes=2, dtc__random_state=23, pca__n_components=10;, score=0.638 total time=   7.7s\n",
      "[CV 3/5] END dtc__max_depth=40, dtc__max_leaf_nodes=2, dtc__random_state=23, pca__n_components=10;, score=0.639 total time=   7.8s\n",
      "[CV 4/5] END dtc__max_depth=40, dtc__max_leaf_nodes=2, dtc__random_state=23, pca__n_components=10;, score=0.650 total time=   7.4s\n"
     ]
    },
    {
     "name": "stdout",
     "output_type": "stream",
     "text": [
      "[CV 5/5] END dtc__max_depth=40, dtc__max_leaf_nodes=2, dtc__random_state=23, pca__n_components=10;, score=0.641 total time=   7.3s\n",
      "[CV 1/5] END dtc__max_depth=40, dtc__max_leaf_nodes=2, dtc__random_state=23, pca__n_components=20;, score=0.644 total time=  20.5s\n",
      "[CV 2/5] END dtc__max_depth=40, dtc__max_leaf_nodes=2, dtc__random_state=23, pca__n_components=20;, score=0.636 total time=  20.3s\n",
      "[CV 3/5] END dtc__max_depth=40, dtc__max_leaf_nodes=2, dtc__random_state=23, pca__n_components=20;, score=0.641 total time=  19.7s\n",
      "[CV 4/5] END dtc__max_depth=40, dtc__max_leaf_nodes=2, dtc__random_state=23, pca__n_components=20;, score=0.647 total time=  20.0s\n",
      "[CV 5/5] END dtc__max_depth=40, dtc__max_leaf_nodes=2, dtc__random_state=23, pca__n_components=20;, score=0.644 total time=  19.6s\n",
      "[CV 1/5] END dtc__max_depth=40, dtc__max_leaf_nodes=5, dtc__random_state=23, pca__n_components=5;, score=0.715 total time=   2.6s\n",
      "[CV 2/5] END dtc__max_depth=40, dtc__max_leaf_nodes=5, dtc__random_state=23, pca__n_components=5;, score=0.714 total time=   2.6s\n",
      "[CV 3/5] END dtc__max_depth=40, dtc__max_leaf_nodes=5, dtc__random_state=23, pca__n_components=5;, score=0.716 total time=   2.7s\n",
      "[CV 4/5] END dtc__max_depth=40, dtc__max_leaf_nodes=5, dtc__random_state=23, pca__n_components=5;, score=0.713 total time=   2.6s\n",
      "[CV 5/5] END dtc__max_depth=40, dtc__max_leaf_nodes=5, dtc__random_state=23, pca__n_components=5;, score=0.720 total time=   2.6s\n",
      "[CV 1/5] END dtc__max_depth=40, dtc__max_leaf_nodes=5, dtc__random_state=23, pca__n_components=10;, score=0.712 total time=   7.6s\n",
      "[CV 2/5] END dtc__max_depth=40, dtc__max_leaf_nodes=5, dtc__random_state=23, pca__n_components=10;, score=0.707 total time=   6.8s\n",
      "[CV 3/5] END dtc__max_depth=40, dtc__max_leaf_nodes=5, dtc__random_state=23, pca__n_components=10;, score=0.713 total time=   7.0s\n",
      "[CV 4/5] END dtc__max_depth=40, dtc__max_leaf_nodes=5, dtc__random_state=23, pca__n_components=10;, score=0.704 total time=   6.8s\n",
      "[CV 5/5] END dtc__max_depth=40, dtc__max_leaf_nodes=5, dtc__random_state=23, pca__n_components=10;, score=0.713 total time=   7.3s\n",
      "[CV 1/5] END dtc__max_depth=40, dtc__max_leaf_nodes=5, dtc__random_state=23, pca__n_components=20;, score=0.708 total time=  19.8s\n",
      "[CV 2/5] END dtc__max_depth=40, dtc__max_leaf_nodes=5, dtc__random_state=23, pca__n_components=20;, score=0.714 total time=  19.8s\n",
      "[CV 3/5] END dtc__max_depth=40, dtc__max_leaf_nodes=5, dtc__random_state=23, pca__n_components=20;, score=0.713 total time=  19.8s\n",
      "[CV 4/5] END dtc__max_depth=40, dtc__max_leaf_nodes=5, dtc__random_state=23, pca__n_components=20;, score=0.713 total time=  19.7s\n",
      "[CV 5/5] END dtc__max_depth=40, dtc__max_leaf_nodes=5, dtc__random_state=23, pca__n_components=20;, score=0.712 total time=  19.8s\n",
      "[CV 1/5] END dtc__max_depth=40, dtc__max_leaf_nodes=10, dtc__random_state=23, pca__n_components=5;, score=0.752 total time=   2.7s\n",
      "[CV 2/5] END dtc__max_depth=40, dtc__max_leaf_nodes=10, dtc__random_state=23, pca__n_components=5;, score=0.754 total time=   2.7s\n",
      "[CV 3/5] END dtc__max_depth=40, dtc__max_leaf_nodes=10, dtc__random_state=23, pca__n_components=5;, score=0.757 total time=   2.8s\n",
      "[CV 4/5] END dtc__max_depth=40, dtc__max_leaf_nodes=10, dtc__random_state=23, pca__n_components=5;, score=0.764 total time=   2.8s\n",
      "[CV 5/5] END dtc__max_depth=40, dtc__max_leaf_nodes=10, dtc__random_state=23, pca__n_components=5;, score=0.764 total time=   2.6s\n",
      "[CV 1/5] END dtc__max_depth=40, dtc__max_leaf_nodes=10, dtc__random_state=23, pca__n_components=10;, score=0.757 total time=   7.8s\n",
      "[CV 2/5] END dtc__max_depth=40, dtc__max_leaf_nodes=10, dtc__random_state=23, pca__n_components=10;, score=0.753 total time=   6.6s\n",
      "[CV 3/5] END dtc__max_depth=40, dtc__max_leaf_nodes=10, dtc__random_state=23, pca__n_components=10;, score=0.753 total time=   7.4s\n",
      "[CV 4/5] END dtc__max_depth=40, dtc__max_leaf_nodes=10, dtc__random_state=23, pca__n_components=10;, score=0.761 total time=   7.1s\n",
      "[CV 5/5] END dtc__max_depth=40, dtc__max_leaf_nodes=10, dtc__random_state=23, pca__n_components=10;, score=0.760 total time=   6.9s\n",
      "[CV 1/5] END dtc__max_depth=40, dtc__max_leaf_nodes=10, dtc__random_state=23, pca__n_components=20;, score=0.763 total time=  20.1s\n",
      "[CV 2/5] END dtc__max_depth=40, dtc__max_leaf_nodes=10, dtc__random_state=23, pca__n_components=20;, score=0.768 total time=  20.1s\n",
      "[CV 3/5] END dtc__max_depth=40, dtc__max_leaf_nodes=10, dtc__random_state=23, pca__n_components=20;, score=0.767 total time=  19.9s\n",
      "[CV 4/5] END dtc__max_depth=40, dtc__max_leaf_nodes=10, dtc__random_state=23, pca__n_components=20;, score=0.770 total time=  20.3s\n",
      "[CV 5/5] END dtc__max_depth=40, dtc__max_leaf_nodes=10, dtc__random_state=23, pca__n_components=20;, score=0.769 total time=  21.6s\n",
      "[CV 1/5] END dtc__max_depth=40, dtc__max_leaf_nodes=30, dtc__random_state=23, pca__n_components=5;, score=0.790 total time=   2.9s\n",
      "[CV 2/5] END dtc__max_depth=40, dtc__max_leaf_nodes=30, dtc__random_state=23, pca__n_components=5;, score=0.795 total time=   2.9s\n",
      "[CV 3/5] END dtc__max_depth=40, dtc__max_leaf_nodes=30, dtc__random_state=23, pca__n_components=5;, score=0.788 total time=   2.9s\n",
      "[CV 4/5] END dtc__max_depth=40, dtc__max_leaf_nodes=30, dtc__random_state=23, pca__n_components=5;, score=0.788 total time=   3.0s\n",
      "[CV 5/5] END dtc__max_depth=40, dtc__max_leaf_nodes=30, dtc__random_state=23, pca__n_components=5;, score=0.799 total time=   3.2s\n",
      "[CV 1/5] END dtc__max_depth=40, dtc__max_leaf_nodes=30, dtc__random_state=23, pca__n_components=10;, score=0.791 total time=   8.5s\n",
      "[CV 2/5] END dtc__max_depth=40, dtc__max_leaf_nodes=30, dtc__random_state=23, pca__n_components=10;, score=0.803 total time=   7.7s\n",
      "[CV 3/5] END dtc__max_depth=40, dtc__max_leaf_nodes=30, dtc__random_state=23, pca__n_components=10;, score=0.802 total time=   9.3s\n",
      "[CV 4/5] END dtc__max_depth=40, dtc__max_leaf_nodes=30, dtc__random_state=23, pca__n_components=10;, score=0.802 total time=   7.8s\n",
      "[CV 5/5] END dtc__max_depth=40, dtc__max_leaf_nodes=30, dtc__random_state=23, pca__n_components=10;, score=0.806 total time=   7.8s\n",
      "[CV 1/5] END dtc__max_depth=40, dtc__max_leaf_nodes=30, dtc__random_state=23, pca__n_components=20;, score=0.803 total time=  21.5s\n",
      "[CV 2/5] END dtc__max_depth=40, dtc__max_leaf_nodes=30, dtc__random_state=23, pca__n_components=20;, score=0.811 total time=  21.8s\n",
      "[CV 3/5] END dtc__max_depth=40, dtc__max_leaf_nodes=30, dtc__random_state=23, pca__n_components=20;, score=0.811 total time=  21.6s\n",
      "[CV 4/5] END dtc__max_depth=40, dtc__max_leaf_nodes=30, dtc__random_state=23, pca__n_components=20;, score=0.813 total time=  22.5s\n",
      "[CV 5/5] END dtc__max_depth=40, dtc__max_leaf_nodes=30, dtc__random_state=23, pca__n_components=20;, score=0.824 total time=  21.7s\n",
      "Cross-validation score: 0.8144087198178308\n",
      "Test score: 0.8048413557002629\n",
      "Decision Tree:\n",
      "{'rf__n_estimators': 20, 'rf__min_samples_split': 5, 'rf__max_depth': 20, 'pca__n_components': 20}\n",
      "Results on test: 0.8099785018287405\n",
      "Results on train: 0.8729254663587522\n"
     ]
    }
   ],
   "source": [
    "stratified_kfold = StratifiedKFold(n_splits=5,\n",
    "                                       shuffle=True,\n",
    "                                       random_state=13)\n",
    "\n",
    "pipeline = imbpipeline(steps = [['scaler', scaler],\n",
    "                                ['pca', pca],\n",
    "                                ['smote', SMOTEEN],\n",
    "                                ['dtc', DecisionTreeClassifier()]])\n",
    "\n",
    "    \n",
    "param_grid = {'dtc__max_leaf_nodes' : [2, 5, 10, 30], \n",
    "             'dtc__max_depth': [4, 10, 20, 40],\n",
    "             'dtc__random_state' : [23],\n",
    "             'pca__n_components': [5, 10, 20]\n",
    "             }\n",
    "\n",
    "search_dtc = GridSearchCV(estimator=pipeline,\n",
    "                           param_grid=param_grid,\n",
    "                           scoring='roc_auc',\n",
    "                           cv=stratified_kfold,                           \n",
    "                          verbose=3,\n",
    "                           #n_jobs=3\n",
    "                         )\n",
    "\n",
    "search_dtc.fit(X_train, y_train)\n",
    "y_pred_dtc = search_dtc.best_estimator_.predict(X_test)\n",
    "cv_score = search_dtc.best_score_\n",
    "test_score = search_dtc.score(X_test, y_test)\n",
    "print(f'Cross-validation score: {cv_score}\\nTest score: {test_score}')\n",
    "print(\"Decision Tree:\")\n",
    "print(search_rf.best_params_)\n",
    "print(f'Results on test: {search_rf.best_estimator_.score(X_test, y_test)}')\n",
    "print(f'Results on train: {search_rf.best_estimator_.score(X_train, y_train)}')"
   ]
  },
  {
   "cell_type": "markdown",
   "metadata": {},
   "source": [
    "Achieving scores of classification, saving accuracy, recall and F1 score in data frame:"
   ]
  },
  {
   "cell_type": "markdown",
   "metadata": {},
   "source": [
    "Best hyperparameters:"
   ]
  },
  {
   "cell_type": "code",
   "execution_count": 38,
   "metadata": {},
   "outputs": [
    {
     "data": {
      "text/plain": [
       "{'dtc__max_depth': 20,\n",
       " 'dtc__max_leaf_nodes': 30,\n",
       " 'dtc__random_state': 23,\n",
       " 'pca__n_components': 20}"
      ]
     },
     "execution_count": 38,
     "metadata": {},
     "output_type": "execute_result"
    }
   ],
   "source": [
    "search_dtc.best_params_"
   ]
  },
  {
   "cell_type": "code",
   "execution_count": 39,
   "metadata": {},
   "outputs": [
    {
     "data": {
      "text/plain": [
       "array([0, 1, 0, ..., 0, 0, 0])"
      ]
     },
     "execution_count": 39,
     "metadata": {},
     "output_type": "execute_result"
    }
   ],
   "source": [
    "y_pred_dtc"
   ]
  },
  {
   "cell_type": "code",
   "execution_count": 40,
   "metadata": {
    "scrolled": true
   },
   "outputs": [
    {
     "name": "stdout",
     "output_type": "stream",
     "text": [
      "              precision    recall  f1-score   support\n",
      "\n",
      "           0       0.80      0.79      0.79     22550\n",
      "           1       0.65      0.66      0.65     13267\n",
      "\n",
      "    accuracy                           0.74     35817\n",
      "   macro avg       0.72      0.72      0.72     35817\n",
      "weighted avg       0.74      0.74      0.74     35817\n",
      "\n"
     ]
    }
   ],
   "source": [
    "print(classification_report(y_test, y_pred_dtc))\n",
    "A_report_dtc = pd.DataFrame(classification_report(y_test, y_pred_dtc, output_dict=True))"
   ]
  },
  {
   "cell_type": "code",
   "execution_count": 41,
   "metadata": {},
   "outputs": [],
   "source": [
    "for i, name in enumerate(A_report_dtc.columns):\n",
    "  A_report_dtc = A_report_dtc.rename(columns={(A_report_dtc.iloc[:,i].name): ('DTC_'+A_report_dtc.iloc[:,i].name)})\n"
   ]
  },
  {
   "cell_type": "code",
   "execution_count": 42,
   "metadata": {},
   "outputs": [
    {
     "data": {
      "text/html": [
       "<div>\n",
       "<style scoped>\n",
       "    .dataframe tbody tr th:only-of-type {\n",
       "        vertical-align: middle;\n",
       "    }\n",
       "\n",
       "    .dataframe tbody tr th {\n",
       "        vertical-align: top;\n",
       "    }\n",
       "\n",
       "    .dataframe thead th {\n",
       "        text-align: right;\n",
       "    }\n",
       "</style>\n",
       "<table border=\"1\" class=\"dataframe\">\n",
       "  <thead>\n",
       "    <tr style=\"text-align: right;\">\n",
       "      <th></th>\n",
       "      <th>DTC_0</th>\n",
       "      <th>DTC_1</th>\n",
       "      <th>DTC_accuracy</th>\n",
       "      <th>DTC_macro avg</th>\n",
       "      <th>DTC_weighted avg</th>\n",
       "    </tr>\n",
       "  </thead>\n",
       "  <tbody>\n",
       "    <tr>\n",
       "      <th>precision</th>\n",
       "      <td>0.797431</td>\n",
       "      <td>0.648731</td>\n",
       "      <td>0.741491</td>\n",
       "      <td>0.723081</td>\n",
       "      <td>0.742351</td>\n",
       "    </tr>\n",
       "    <tr>\n",
       "      <th>recall</th>\n",
       "      <td>0.790111</td>\n",
       "      <td>0.658853</td>\n",
       "      <td>0.741491</td>\n",
       "      <td>0.724482</td>\n",
       "      <td>0.741491</td>\n",
       "    </tr>\n",
       "    <tr>\n",
       "      <th>f1-score</th>\n",
       "      <td>0.793754</td>\n",
       "      <td>0.653753</td>\n",
       "      <td>0.741491</td>\n",
       "      <td>0.723753</td>\n",
       "      <td>0.741896</td>\n",
       "    </tr>\n",
       "    <tr>\n",
       "      <th>support</th>\n",
       "      <td>22550.000000</td>\n",
       "      <td>13267.000000</td>\n",
       "      <td>0.741491</td>\n",
       "      <td>35817.000000</td>\n",
       "      <td>35817.000000</td>\n",
       "    </tr>\n",
       "  </tbody>\n",
       "</table>\n",
       "</div>"
      ],
      "text/plain": [
       "                  DTC_0         DTC_1  DTC_accuracy  DTC_macro avg  \\\n",
       "precision      0.797431      0.648731      0.741491       0.723081   \n",
       "recall         0.790111      0.658853      0.741491       0.724482   \n",
       "f1-score       0.793754      0.653753      0.741491       0.723753   \n",
       "support    22550.000000  13267.000000      0.741491   35817.000000   \n",
       "\n",
       "           DTC_weighted avg  \n",
       "precision          0.742351  \n",
       "recall             0.741491  \n",
       "f1-score           0.741896  \n",
       "support        35817.000000  "
      ]
     },
     "execution_count": 42,
     "metadata": {},
     "output_type": "execute_result"
    }
   ],
   "source": [
    "A_report_dtc"
   ]
  },
  {
   "cell_type": "markdown",
   "metadata": {},
   "source": [
    "Support Vector Classifier algorythm with RandomizedGridSearch in pipeline, scaling reducing, ballancing:"
   ]
  },
  {
   "cell_type": "code",
   "execution_count": 43,
   "metadata": {},
   "outputs": [
    {
     "name": "stdout",
     "output_type": "stream",
     "text": [
      "Fitting 5 folds for each of 9 candidates, totalling 45 fits\n"
     ]
    },
    {
     "name": "stderr",
     "output_type": "stream",
     "text": [
      "/home/hybrid/.local/lib/python3.8/site-packages/sklearn/svm/_base.py:299: ConvergenceWarning: Solver terminated early (max_iter=150).  Consider pre-processing your data with StandardScaler or MinMaxScaler.\n",
      "  warnings.warn(\n"
     ]
    },
    {
     "name": "stdout",
     "output_type": "stream",
     "text": [
      "[CV 1/5] END SVC__decision_function_shape=ovo, SVC__degree=1, SVC__gamma=auto, SVC__kernel=rbf, SVC__max_iter=150, SVC__random_state=11, pca__n_components=5;, score=0.588 total time=   3.9s\n"
     ]
    },
    {
     "name": "stderr",
     "output_type": "stream",
     "text": [
      "/home/hybrid/.local/lib/python3.8/site-packages/sklearn/svm/_base.py:299: ConvergenceWarning: Solver terminated early (max_iter=150).  Consider pre-processing your data with StandardScaler or MinMaxScaler.\n",
      "  warnings.warn(\n"
     ]
    },
    {
     "name": "stdout",
     "output_type": "stream",
     "text": [
      "[CV 2/5] END SVC__decision_function_shape=ovo, SVC__degree=1, SVC__gamma=auto, SVC__kernel=rbf, SVC__max_iter=150, SVC__random_state=11, pca__n_components=5;, score=0.649 total time=   3.9s\n"
     ]
    },
    {
     "name": "stderr",
     "output_type": "stream",
     "text": [
      "/home/hybrid/.local/lib/python3.8/site-packages/sklearn/svm/_base.py:299: ConvergenceWarning: Solver terminated early (max_iter=150).  Consider pre-processing your data with StandardScaler or MinMaxScaler.\n",
      "  warnings.warn(\n"
     ]
    },
    {
     "name": "stdout",
     "output_type": "stream",
     "text": [
      "[CV 3/5] END SVC__decision_function_shape=ovo, SVC__degree=1, SVC__gamma=auto, SVC__kernel=rbf, SVC__max_iter=150, SVC__random_state=11, pca__n_components=5;, score=0.448 total time=   4.2s\n"
     ]
    },
    {
     "name": "stderr",
     "output_type": "stream",
     "text": [
      "/home/hybrid/.local/lib/python3.8/site-packages/sklearn/svm/_base.py:299: ConvergenceWarning: Solver terminated early (max_iter=150).  Consider pre-processing your data with StandardScaler or MinMaxScaler.\n",
      "  warnings.warn(\n"
     ]
    },
    {
     "name": "stdout",
     "output_type": "stream",
     "text": [
      "[CV 4/5] END SVC__decision_function_shape=ovo, SVC__degree=1, SVC__gamma=auto, SVC__kernel=rbf, SVC__max_iter=150, SVC__random_state=11, pca__n_components=5;, score=0.371 total time=   4.0s\n"
     ]
    },
    {
     "name": "stderr",
     "output_type": "stream",
     "text": [
      "/home/hybrid/.local/lib/python3.8/site-packages/sklearn/svm/_base.py:299: ConvergenceWarning: Solver terminated early (max_iter=150).  Consider pre-processing your data with StandardScaler or MinMaxScaler.\n",
      "  warnings.warn(\n"
     ]
    },
    {
     "name": "stdout",
     "output_type": "stream",
     "text": [
      "[CV 5/5] END SVC__decision_function_shape=ovo, SVC__degree=1, SVC__gamma=auto, SVC__kernel=rbf, SVC__max_iter=150, SVC__random_state=11, pca__n_components=5;, score=0.596 total time=   4.0s\n"
     ]
    },
    {
     "name": "stderr",
     "output_type": "stream",
     "text": [
      "/home/hybrid/.local/lib/python3.8/site-packages/sklearn/svm/_base.py:299: ConvergenceWarning: Solver terminated early (max_iter=150).  Consider pre-processing your data with StandardScaler or MinMaxScaler.\n",
      "  warnings.warn(\n"
     ]
    },
    {
     "name": "stdout",
     "output_type": "stream",
     "text": [
      "[CV 1/5] END SVC__decision_function_shape=ovo, SVC__degree=1, SVC__gamma=auto, SVC__kernel=rbf, SVC__max_iter=150, SVC__random_state=11, pca__n_components=10;, score=0.578 total time=   8.8s\n"
     ]
    },
    {
     "name": "stderr",
     "output_type": "stream",
     "text": [
      "/home/hybrid/.local/lib/python3.8/site-packages/sklearn/svm/_base.py:299: ConvergenceWarning: Solver terminated early (max_iter=150).  Consider pre-processing your data with StandardScaler or MinMaxScaler.\n",
      "  warnings.warn(\n"
     ]
    },
    {
     "name": "stdout",
     "output_type": "stream",
     "text": [
      "[CV 2/5] END SVC__decision_function_shape=ovo, SVC__degree=1, SVC__gamma=auto, SVC__kernel=rbf, SVC__max_iter=150, SVC__random_state=11, pca__n_components=10;, score=0.498 total time=   9.2s\n"
     ]
    },
    {
     "name": "stderr",
     "output_type": "stream",
     "text": [
      "/home/hybrid/.local/lib/python3.8/site-packages/sklearn/svm/_base.py:299: ConvergenceWarning: Solver terminated early (max_iter=150).  Consider pre-processing your data with StandardScaler or MinMaxScaler.\n",
      "  warnings.warn(\n"
     ]
    },
    {
     "name": "stdout",
     "output_type": "stream",
     "text": [
      "[CV 3/5] END SVC__decision_function_shape=ovo, SVC__degree=1, SVC__gamma=auto, SVC__kernel=rbf, SVC__max_iter=150, SVC__random_state=11, pca__n_components=10;, score=0.659 total time=   8.1s\n"
     ]
    },
    {
     "name": "stderr",
     "output_type": "stream",
     "text": [
      "/home/hybrid/.local/lib/python3.8/site-packages/sklearn/svm/_base.py:299: ConvergenceWarning: Solver terminated early (max_iter=150).  Consider pre-processing your data with StandardScaler or MinMaxScaler.\n",
      "  warnings.warn(\n"
     ]
    },
    {
     "name": "stdout",
     "output_type": "stream",
     "text": [
      "[CV 4/5] END SVC__decision_function_shape=ovo, SVC__degree=1, SVC__gamma=auto, SVC__kernel=rbf, SVC__max_iter=150, SVC__random_state=11, pca__n_components=10;, score=0.582 total time=   9.0s\n"
     ]
    },
    {
     "name": "stderr",
     "output_type": "stream",
     "text": [
      "/home/hybrid/.local/lib/python3.8/site-packages/sklearn/svm/_base.py:299: ConvergenceWarning: Solver terminated early (max_iter=150).  Consider pre-processing your data with StandardScaler or MinMaxScaler.\n",
      "  warnings.warn(\n"
     ]
    },
    {
     "name": "stdout",
     "output_type": "stream",
     "text": [
      "[CV 5/5] END SVC__decision_function_shape=ovo, SVC__degree=1, SVC__gamma=auto, SVC__kernel=rbf, SVC__max_iter=150, SVC__random_state=11, pca__n_components=10;, score=0.587 total time=   9.2s\n"
     ]
    },
    {
     "name": "stderr",
     "output_type": "stream",
     "text": [
      "/home/hybrid/.local/lib/python3.8/site-packages/sklearn/svm/_base.py:299: ConvergenceWarning: Solver terminated early (max_iter=150).  Consider pre-processing your data with StandardScaler or MinMaxScaler.\n",
      "  warnings.warn(\n"
     ]
    },
    {
     "name": "stdout",
     "output_type": "stream",
     "text": [
      "[CV 1/5] END SVC__decision_function_shape=ovo, SVC__degree=1, SVC__gamma=auto, SVC__kernel=rbf, SVC__max_iter=150, SVC__random_state=11, pca__n_components=20;, score=0.586 total time=  21.8s\n"
     ]
    },
    {
     "name": "stderr",
     "output_type": "stream",
     "text": [
      "/home/hybrid/.local/lib/python3.8/site-packages/sklearn/svm/_base.py:299: ConvergenceWarning: Solver terminated early (max_iter=150).  Consider pre-processing your data with StandardScaler or MinMaxScaler.\n",
      "  warnings.warn(\n"
     ]
    },
    {
     "name": "stdout",
     "output_type": "stream",
     "text": [
      "[CV 2/5] END SVC__decision_function_shape=ovo, SVC__degree=1, SVC__gamma=auto, SVC__kernel=rbf, SVC__max_iter=150, SVC__random_state=11, pca__n_components=20;, score=0.648 total time=  21.7s\n"
     ]
    },
    {
     "name": "stderr",
     "output_type": "stream",
     "text": [
      "/home/hybrid/.local/lib/python3.8/site-packages/sklearn/svm/_base.py:299: ConvergenceWarning: Solver terminated early (max_iter=150).  Consider pre-processing your data with StandardScaler or MinMaxScaler.\n",
      "  warnings.warn(\n"
     ]
    },
    {
     "name": "stdout",
     "output_type": "stream",
     "text": [
      "[CV 3/5] END SVC__decision_function_shape=ovo, SVC__degree=1, SVC__gamma=auto, SVC__kernel=rbf, SVC__max_iter=150, SVC__random_state=11, pca__n_components=20;, score=0.632 total time=  21.5s\n"
     ]
    },
    {
     "name": "stderr",
     "output_type": "stream",
     "text": [
      "/home/hybrid/.local/lib/python3.8/site-packages/sklearn/svm/_base.py:299: ConvergenceWarning: Solver terminated early (max_iter=150).  Consider pre-processing your data with StandardScaler or MinMaxScaler.\n",
      "  warnings.warn(\n"
     ]
    },
    {
     "name": "stdout",
     "output_type": "stream",
     "text": [
      "[CV 4/5] END SVC__decision_function_shape=ovo, SVC__degree=1, SVC__gamma=auto, SVC__kernel=rbf, SVC__max_iter=150, SVC__random_state=11, pca__n_components=20;, score=0.673 total time=  22.0s\n"
     ]
    },
    {
     "name": "stderr",
     "output_type": "stream",
     "text": [
      "/home/hybrid/.local/lib/python3.8/site-packages/sklearn/svm/_base.py:299: ConvergenceWarning: Solver terminated early (max_iter=150).  Consider pre-processing your data with StandardScaler or MinMaxScaler.\n",
      "  warnings.warn(\n"
     ]
    },
    {
     "name": "stdout",
     "output_type": "stream",
     "text": [
      "[CV 5/5] END SVC__decision_function_shape=ovo, SVC__degree=1, SVC__gamma=auto, SVC__kernel=rbf, SVC__max_iter=150, SVC__random_state=11, pca__n_components=20;, score=0.682 total time=  23.4s\n"
     ]
    },
    {
     "name": "stderr",
     "output_type": "stream",
     "text": [
      "/home/hybrid/.local/lib/python3.8/site-packages/sklearn/svm/_base.py:299: ConvergenceWarning: Solver terminated early (max_iter=300).  Consider pre-processing your data with StandardScaler or MinMaxScaler.\n",
      "  warnings.warn(\n"
     ]
    },
    {
     "name": "stdout",
     "output_type": "stream",
     "text": [
      "[CV 1/5] END SVC__decision_function_shape=ovo, SVC__degree=1, SVC__gamma=auto, SVC__kernel=rbf, SVC__max_iter=300, SVC__random_state=11, pca__n_components=5;, score=0.625 total time=   5.5s\n"
     ]
    },
    {
     "name": "stderr",
     "output_type": "stream",
     "text": [
      "/home/hybrid/.local/lib/python3.8/site-packages/sklearn/svm/_base.py:299: ConvergenceWarning: Solver terminated early (max_iter=300).  Consider pre-processing your data with StandardScaler or MinMaxScaler.\n",
      "  warnings.warn(\n"
     ]
    },
    {
     "name": "stdout",
     "output_type": "stream",
     "text": [
      "[CV 2/5] END SVC__decision_function_shape=ovo, SVC__degree=1, SVC__gamma=auto, SVC__kernel=rbf, SVC__max_iter=300, SVC__random_state=11, pca__n_components=5;, score=0.592 total time=   5.3s\n"
     ]
    },
    {
     "name": "stderr",
     "output_type": "stream",
     "text": [
      "/home/hybrid/.local/lib/python3.8/site-packages/sklearn/svm/_base.py:299: ConvergenceWarning: Solver terminated early (max_iter=300).  Consider pre-processing your data with StandardScaler or MinMaxScaler.\n",
      "  warnings.warn(\n"
     ]
    },
    {
     "name": "stdout",
     "output_type": "stream",
     "text": [
      "[CV 3/5] END SVC__decision_function_shape=ovo, SVC__degree=1, SVC__gamma=auto, SVC__kernel=rbf, SVC__max_iter=300, SVC__random_state=11, pca__n_components=5;, score=0.505 total time=   5.0s\n"
     ]
    },
    {
     "name": "stderr",
     "output_type": "stream",
     "text": [
      "/home/hybrid/.local/lib/python3.8/site-packages/sklearn/svm/_base.py:299: ConvergenceWarning: Solver terminated early (max_iter=300).  Consider pre-processing your data with StandardScaler or MinMaxScaler.\n",
      "  warnings.warn(\n"
     ]
    },
    {
     "name": "stdout",
     "output_type": "stream",
     "text": [
      "[CV 4/5] END SVC__decision_function_shape=ovo, SVC__degree=1, SVC__gamma=auto, SVC__kernel=rbf, SVC__max_iter=300, SVC__random_state=11, pca__n_components=5;, score=0.627 total time=   5.1s\n"
     ]
    },
    {
     "name": "stderr",
     "output_type": "stream",
     "text": [
      "/home/hybrid/.local/lib/python3.8/site-packages/sklearn/svm/_base.py:299: ConvergenceWarning: Solver terminated early (max_iter=300).  Consider pre-processing your data with StandardScaler or MinMaxScaler.\n",
      "  warnings.warn(\n"
     ]
    },
    {
     "name": "stdout",
     "output_type": "stream",
     "text": [
      "[CV 5/5] END SVC__decision_function_shape=ovo, SVC__degree=1, SVC__gamma=auto, SVC__kernel=rbf, SVC__max_iter=300, SVC__random_state=11, pca__n_components=5;, score=0.610 total time=   5.1s\n"
     ]
    },
    {
     "name": "stderr",
     "output_type": "stream",
     "text": [
      "/home/hybrid/.local/lib/python3.8/site-packages/sklearn/svm/_base.py:299: ConvergenceWarning: Solver terminated early (max_iter=300).  Consider pre-processing your data with StandardScaler or MinMaxScaler.\n",
      "  warnings.warn(\n"
     ]
    },
    {
     "name": "stdout",
     "output_type": "stream",
     "text": [
      "[CV 1/5] END SVC__decision_function_shape=ovo, SVC__degree=1, SVC__gamma=auto, SVC__kernel=rbf, SVC__max_iter=300, SVC__random_state=11, pca__n_components=10;, score=0.588 total time=  10.7s\n"
     ]
    },
    {
     "name": "stderr",
     "output_type": "stream",
     "text": [
      "/home/hybrid/.local/lib/python3.8/site-packages/sklearn/svm/_base.py:299: ConvergenceWarning: Solver terminated early (max_iter=300).  Consider pre-processing your data with StandardScaler or MinMaxScaler.\n",
      "  warnings.warn(\n"
     ]
    },
    {
     "name": "stdout",
     "output_type": "stream",
     "text": [
      "[CV 2/5] END SVC__decision_function_shape=ovo, SVC__degree=1, SVC__gamma=auto, SVC__kernel=rbf, SVC__max_iter=300, SVC__random_state=11, pca__n_components=10;, score=0.662 total time=  10.8s\n"
     ]
    },
    {
     "name": "stderr",
     "output_type": "stream",
     "text": [
      "/home/hybrid/.local/lib/python3.8/site-packages/sklearn/svm/_base.py:299: ConvergenceWarning: Solver terminated early (max_iter=300).  Consider pre-processing your data with StandardScaler or MinMaxScaler.\n",
      "  warnings.warn(\n"
     ]
    },
    {
     "name": "stdout",
     "output_type": "stream",
     "text": [
      "[CV 3/5] END SVC__decision_function_shape=ovo, SVC__degree=1, SVC__gamma=auto, SVC__kernel=rbf, SVC__max_iter=300, SVC__random_state=11, pca__n_components=10;, score=0.650 total time=  10.5s\n"
     ]
    },
    {
     "name": "stderr",
     "output_type": "stream",
     "text": [
      "/home/hybrid/.local/lib/python3.8/site-packages/sklearn/svm/_base.py:299: ConvergenceWarning: Solver terminated early (max_iter=300).  Consider pre-processing your data with StandardScaler or MinMaxScaler.\n",
      "  warnings.warn(\n"
     ]
    },
    {
     "name": "stdout",
     "output_type": "stream",
     "text": [
      "[CV 4/5] END SVC__decision_function_shape=ovo, SVC__degree=1, SVC__gamma=auto, SVC__kernel=rbf, SVC__max_iter=300, SVC__random_state=11, pca__n_components=10;, score=0.652 total time=  10.0s\n"
     ]
    },
    {
     "name": "stderr",
     "output_type": "stream",
     "text": [
      "/home/hybrid/.local/lib/python3.8/site-packages/sklearn/svm/_base.py:299: ConvergenceWarning: Solver terminated early (max_iter=300).  Consider pre-processing your data with StandardScaler or MinMaxScaler.\n",
      "  warnings.warn(\n"
     ]
    },
    {
     "name": "stdout",
     "output_type": "stream",
     "text": [
      "[CV 5/5] END SVC__decision_function_shape=ovo, SVC__degree=1, SVC__gamma=auto, SVC__kernel=rbf, SVC__max_iter=300, SVC__random_state=11, pca__n_components=10;, score=0.524 total time=  10.0s\n"
     ]
    },
    {
     "name": "stderr",
     "output_type": "stream",
     "text": [
      "/home/hybrid/.local/lib/python3.8/site-packages/sklearn/svm/_base.py:299: ConvergenceWarning: Solver terminated early (max_iter=300).  Consider pre-processing your data with StandardScaler or MinMaxScaler.\n",
      "  warnings.warn(\n"
     ]
    },
    {
     "name": "stdout",
     "output_type": "stream",
     "text": [
      "[CV 1/5] END SVC__decision_function_shape=ovo, SVC__degree=1, SVC__gamma=auto, SVC__kernel=rbf, SVC__max_iter=300, SVC__random_state=11, pca__n_components=20;, score=0.670 total time=  23.1s\n"
     ]
    },
    {
     "name": "stderr",
     "output_type": "stream",
     "text": [
      "/home/hybrid/.local/lib/python3.8/site-packages/sklearn/svm/_base.py:299: ConvergenceWarning: Solver terminated early (max_iter=300).  Consider pre-processing your data with StandardScaler or MinMaxScaler.\n",
      "  warnings.warn(\n"
     ]
    },
    {
     "name": "stdout",
     "output_type": "stream",
     "text": [
      "[CV 2/5] END SVC__decision_function_shape=ovo, SVC__degree=1, SVC__gamma=auto, SVC__kernel=rbf, SVC__max_iter=300, SVC__random_state=11, pca__n_components=20;, score=0.709 total time=  23.1s\n"
     ]
    },
    {
     "name": "stderr",
     "output_type": "stream",
     "text": [
      "/home/hybrid/.local/lib/python3.8/site-packages/sklearn/svm/_base.py:299: ConvergenceWarning: Solver terminated early (max_iter=300).  Consider pre-processing your data with StandardScaler or MinMaxScaler.\n",
      "  warnings.warn(\n"
     ]
    },
    {
     "name": "stdout",
     "output_type": "stream",
     "text": [
      "[CV 3/5] END SVC__decision_function_shape=ovo, SVC__degree=1, SVC__gamma=auto, SVC__kernel=rbf, SVC__max_iter=300, SVC__random_state=11, pca__n_components=20;, score=0.740 total time=  23.3s\n"
     ]
    },
    {
     "name": "stderr",
     "output_type": "stream",
     "text": [
      "/home/hybrid/.local/lib/python3.8/site-packages/sklearn/svm/_base.py:299: ConvergenceWarning: Solver terminated early (max_iter=300).  Consider pre-processing your data with StandardScaler or MinMaxScaler.\n",
      "  warnings.warn(\n"
     ]
    },
    {
     "name": "stdout",
     "output_type": "stream",
     "text": [
      "[CV 4/5] END SVC__decision_function_shape=ovo, SVC__degree=1, SVC__gamma=auto, SVC__kernel=rbf, SVC__max_iter=300, SVC__random_state=11, pca__n_components=20;, score=0.637 total time=  23.2s\n"
     ]
    },
    {
     "name": "stderr",
     "output_type": "stream",
     "text": [
      "/home/hybrid/.local/lib/python3.8/site-packages/sklearn/svm/_base.py:299: ConvergenceWarning: Solver terminated early (max_iter=300).  Consider pre-processing your data with StandardScaler or MinMaxScaler.\n",
      "  warnings.warn(\n"
     ]
    },
    {
     "name": "stdout",
     "output_type": "stream",
     "text": [
      "[CV 5/5] END SVC__decision_function_shape=ovo, SVC__degree=1, SVC__gamma=auto, SVC__kernel=rbf, SVC__max_iter=300, SVC__random_state=11, pca__n_components=20;, score=0.657 total time=  23.2s\n"
     ]
    },
    {
     "name": "stderr",
     "output_type": "stream",
     "text": [
      "/home/hybrid/.local/lib/python3.8/site-packages/sklearn/svm/_base.py:299: ConvergenceWarning: Solver terminated early (max_iter=500).  Consider pre-processing your data with StandardScaler or MinMaxScaler.\n",
      "  warnings.warn(\n"
     ]
    },
    {
     "name": "stdout",
     "output_type": "stream",
     "text": [
      "[CV 1/5] END SVC__decision_function_shape=ovo, SVC__degree=1, SVC__gamma=auto, SVC__kernel=rbf, SVC__max_iter=500, SVC__random_state=11, pca__n_components=5;, score=0.556 total time=   6.6s\n"
     ]
    },
    {
     "name": "stderr",
     "output_type": "stream",
     "text": [
      "/home/hybrid/.local/lib/python3.8/site-packages/sklearn/svm/_base.py:299: ConvergenceWarning: Solver terminated early (max_iter=500).  Consider pre-processing your data with StandardScaler or MinMaxScaler.\n",
      "  warnings.warn(\n"
     ]
    },
    {
     "name": "stdout",
     "output_type": "stream",
     "text": [
      "[CV 2/5] END SVC__decision_function_shape=ovo, SVC__degree=1, SVC__gamma=auto, SVC__kernel=rbf, SVC__max_iter=500, SVC__random_state=11, pca__n_components=5;, score=0.633 total time=   6.6s\n"
     ]
    },
    {
     "name": "stderr",
     "output_type": "stream",
     "text": [
      "/home/hybrid/.local/lib/python3.8/site-packages/sklearn/svm/_base.py:299: ConvergenceWarning: Solver terminated early (max_iter=500).  Consider pre-processing your data with StandardScaler or MinMaxScaler.\n",
      "  warnings.warn(\n"
     ]
    },
    {
     "name": "stdout",
     "output_type": "stream",
     "text": [
      "[CV 3/5] END SVC__decision_function_shape=ovo, SVC__degree=1, SVC__gamma=auto, SVC__kernel=rbf, SVC__max_iter=500, SVC__random_state=11, pca__n_components=5;, score=0.515 total time=   6.5s\n"
     ]
    },
    {
     "name": "stderr",
     "output_type": "stream",
     "text": [
      "/home/hybrid/.local/lib/python3.8/site-packages/sklearn/svm/_base.py:299: ConvergenceWarning: Solver terminated early (max_iter=500).  Consider pre-processing your data with StandardScaler or MinMaxScaler.\n",
      "  warnings.warn(\n"
     ]
    },
    {
     "name": "stdout",
     "output_type": "stream",
     "text": [
      "[CV 4/5] END SVC__decision_function_shape=ovo, SVC__degree=1, SVC__gamma=auto, SVC__kernel=rbf, SVC__max_iter=500, SVC__random_state=11, pca__n_components=5;, score=0.600 total time=   6.5s\n"
     ]
    },
    {
     "name": "stderr",
     "output_type": "stream",
     "text": [
      "/home/hybrid/.local/lib/python3.8/site-packages/sklearn/svm/_base.py:299: ConvergenceWarning: Solver terminated early (max_iter=500).  Consider pre-processing your data with StandardScaler or MinMaxScaler.\n",
      "  warnings.warn(\n"
     ]
    },
    {
     "name": "stdout",
     "output_type": "stream",
     "text": [
      "[CV 5/5] END SVC__decision_function_shape=ovo, SVC__degree=1, SVC__gamma=auto, SVC__kernel=rbf, SVC__max_iter=500, SVC__random_state=11, pca__n_components=5;, score=0.590 total time=   6.7s\n"
     ]
    },
    {
     "name": "stderr",
     "output_type": "stream",
     "text": [
      "/home/hybrid/.local/lib/python3.8/site-packages/sklearn/svm/_base.py:299: ConvergenceWarning: Solver terminated early (max_iter=500).  Consider pre-processing your data with StandardScaler or MinMaxScaler.\n",
      "  warnings.warn(\n"
     ]
    },
    {
     "name": "stdout",
     "output_type": "stream",
     "text": [
      "[CV 1/5] END SVC__decision_function_shape=ovo, SVC__degree=1, SVC__gamma=auto, SVC__kernel=rbf, SVC__max_iter=500, SVC__random_state=11, pca__n_components=10;, score=0.625 total time=  11.7s\n"
     ]
    },
    {
     "name": "stderr",
     "output_type": "stream",
     "text": [
      "/home/hybrid/.local/lib/python3.8/site-packages/sklearn/svm/_base.py:299: ConvergenceWarning: Solver terminated early (max_iter=500).  Consider pre-processing your data with StandardScaler or MinMaxScaler.\n",
      "  warnings.warn(\n"
     ]
    },
    {
     "name": "stdout",
     "output_type": "stream",
     "text": [
      "[CV 2/5] END SVC__decision_function_shape=ovo, SVC__degree=1, SVC__gamma=auto, SVC__kernel=rbf, SVC__max_iter=500, SVC__random_state=11, pca__n_components=10;, score=0.641 total time=  11.6s\n"
     ]
    },
    {
     "name": "stderr",
     "output_type": "stream",
     "text": [
      "/home/hybrid/.local/lib/python3.8/site-packages/sklearn/svm/_base.py:299: ConvergenceWarning: Solver terminated early (max_iter=500).  Consider pre-processing your data with StandardScaler or MinMaxScaler.\n",
      "  warnings.warn(\n"
     ]
    },
    {
     "name": "stdout",
     "output_type": "stream",
     "text": [
      "[CV 3/5] END SVC__decision_function_shape=ovo, SVC__degree=1, SVC__gamma=auto, SVC__kernel=rbf, SVC__max_iter=500, SVC__random_state=11, pca__n_components=10;, score=0.590 total time=  11.7s\n"
     ]
    },
    {
     "name": "stderr",
     "output_type": "stream",
     "text": [
      "/home/hybrid/.local/lib/python3.8/site-packages/sklearn/svm/_base.py:299: ConvergenceWarning: Solver terminated early (max_iter=500).  Consider pre-processing your data with StandardScaler or MinMaxScaler.\n",
      "  warnings.warn(\n"
     ]
    },
    {
     "name": "stdout",
     "output_type": "stream",
     "text": [
      "[CV 4/5] END SVC__decision_function_shape=ovo, SVC__degree=1, SVC__gamma=auto, SVC__kernel=rbf, SVC__max_iter=500, SVC__random_state=11, pca__n_components=10;, score=0.576 total time=  11.7s\n"
     ]
    },
    {
     "name": "stderr",
     "output_type": "stream",
     "text": [
      "/home/hybrid/.local/lib/python3.8/site-packages/sklearn/svm/_base.py:299: ConvergenceWarning: Solver terminated early (max_iter=500).  Consider pre-processing your data with StandardScaler or MinMaxScaler.\n",
      "  warnings.warn(\n"
     ]
    },
    {
     "name": "stdout",
     "output_type": "stream",
     "text": [
      "[CV 5/5] END SVC__decision_function_shape=ovo, SVC__degree=1, SVC__gamma=auto, SVC__kernel=rbf, SVC__max_iter=500, SVC__random_state=11, pca__n_components=10;, score=0.572 total time=  11.0s\n"
     ]
    },
    {
     "name": "stderr",
     "output_type": "stream",
     "text": [
      "/home/hybrid/.local/lib/python3.8/site-packages/sklearn/svm/_base.py:299: ConvergenceWarning: Solver terminated early (max_iter=500).  Consider pre-processing your data with StandardScaler or MinMaxScaler.\n",
      "  warnings.warn(\n"
     ]
    },
    {
     "name": "stdout",
     "output_type": "stream",
     "text": [
      "[CV 1/5] END SVC__decision_function_shape=ovo, SVC__degree=1, SVC__gamma=auto, SVC__kernel=rbf, SVC__max_iter=500, SVC__random_state=11, pca__n_components=20;, score=0.732 total time=  25.7s\n"
     ]
    },
    {
     "name": "stderr",
     "output_type": "stream",
     "text": [
      "/home/hybrid/.local/lib/python3.8/site-packages/sklearn/svm/_base.py:299: ConvergenceWarning: Solver terminated early (max_iter=500).  Consider pre-processing your data with StandardScaler or MinMaxScaler.\n",
      "  warnings.warn(\n"
     ]
    },
    {
     "name": "stdout",
     "output_type": "stream",
     "text": [
      "[CV 2/5] END SVC__decision_function_shape=ovo, SVC__degree=1, SVC__gamma=auto, SVC__kernel=rbf, SVC__max_iter=500, SVC__random_state=11, pca__n_components=20;, score=0.657 total time=  25.4s\n"
     ]
    },
    {
     "name": "stderr",
     "output_type": "stream",
     "text": [
      "/home/hybrid/.local/lib/python3.8/site-packages/sklearn/svm/_base.py:299: ConvergenceWarning: Solver terminated early (max_iter=500).  Consider pre-processing your data with StandardScaler or MinMaxScaler.\n",
      "  warnings.warn(\n"
     ]
    },
    {
     "name": "stdout",
     "output_type": "stream",
     "text": [
      "[CV 3/5] END SVC__decision_function_shape=ovo, SVC__degree=1, SVC__gamma=auto, SVC__kernel=rbf, SVC__max_iter=500, SVC__random_state=11, pca__n_components=20;, score=0.740 total time=  25.6s\n"
     ]
    },
    {
     "name": "stderr",
     "output_type": "stream",
     "text": [
      "/home/hybrid/.local/lib/python3.8/site-packages/sklearn/svm/_base.py:299: ConvergenceWarning: Solver terminated early (max_iter=500).  Consider pre-processing your data with StandardScaler or MinMaxScaler.\n",
      "  warnings.warn(\n"
     ]
    },
    {
     "name": "stdout",
     "output_type": "stream",
     "text": [
      "[CV 4/5] END SVC__decision_function_shape=ovo, SVC__degree=1, SVC__gamma=auto, SVC__kernel=rbf, SVC__max_iter=500, SVC__random_state=11, pca__n_components=20;, score=0.587 total time=  25.7s\n"
     ]
    },
    {
     "name": "stderr",
     "output_type": "stream",
     "text": [
      "/home/hybrid/.local/lib/python3.8/site-packages/sklearn/svm/_base.py:299: ConvergenceWarning: Solver terminated early (max_iter=500).  Consider pre-processing your data with StandardScaler or MinMaxScaler.\n",
      "  warnings.warn(\n"
     ]
    },
    {
     "name": "stdout",
     "output_type": "stream",
     "text": [
      "[CV 5/5] END SVC__decision_function_shape=ovo, SVC__degree=1, SVC__gamma=auto, SVC__kernel=rbf, SVC__max_iter=500, SVC__random_state=11, pca__n_components=20;, score=0.724 total time=  25.8s\n"
     ]
    },
    {
     "name": "stderr",
     "output_type": "stream",
     "text": [
      "/home/hybrid/.local/lib/python3.8/site-packages/sklearn/svm/_base.py:299: ConvergenceWarning: Solver terminated early (max_iter=500).  Consider pre-processing your data with StandardScaler or MinMaxScaler.\n",
      "  warnings.warn(\n"
     ]
    },
    {
     "name": "stdout",
     "output_type": "stream",
     "text": [
      "Cross-validation score: 0.6881313221150505\n",
      "Test score: 0.6736255454032369\n",
      "Support Vector:\n",
      "{'SVC__decision_function_shape': 'ovo', 'SVC__degree': 1, 'SVC__gamma': 'auto', 'SVC__kernel': 'rbf', 'SVC__max_iter': 500, 'SVC__random_state': 11, 'pca__n_components': 20}\n",
      "Results on test: 0.6442192255074406\n",
      "Results on train: 0.6253814030847283\n"
     ]
    }
   ],
   "source": [
    "stratified_kfold = StratifiedKFold(n_splits=5,\n",
    "                                       shuffle=True,\n",
    "                                       random_state=23)\n",
    "\n",
    "pipeline_SVC = imbpipeline([('scaler', scaler),\n",
    "                            ('pca', pca),\n",
    "                            ('SMOTE', SMOTEEN),\n",
    "                            ('SVC', SVC())])\n",
    "    \n",
    "params_SVC = {\n",
    "              'SVC__gamma': ['auto'],\n",
    "              'SVC__max_iter': [150, 300, 500],\n",
    "              'SVC__decision_function_shape': ['ovo'],\n",
    "              'SVC__degree': [1],\n",
    "              'SVC__kernel': ['rbf'],\n",
    "              'SVC__random_state': [11],\n",
    "              'pca__n_components': [5, 10, 20]\n",
    "             }\n",
    "\n",
    "search_SVC = GridSearchCV(pipeline_SVC,\n",
    "                             params_SVC,\n",
    "                             scoring='roc_auc',\n",
    "                             cv=stratified_kfold,\n",
    "                            verbose=3,\n",
    "                            #n_jobs=3\n",
    "                         )\n",
    "\n",
    "search_SVC.fit(X_train, y_train)\n",
    "\n",
    "cv_score = search_SVC.best_score_\n",
    "test_score = search_SVC.score(X_test, y_test)\n",
    "print(f'Cross-validation score: {cv_score}\\nTest score: {test_score}')\n",
    "print(\"Support Vector:\")\n",
    "print(search_SVC.best_params_)\n",
    "print(f'Results on test: {search_SVC.best_estimator_.score(X_test, y_test)}')\n",
    "print(f'Results on train: {search_SVC.best_estimator_.score(X_train, y_train)}')\n"
   ]
  },
  {
   "cell_type": "markdown",
   "metadata": {},
   "source": [
    "Achieving scores of classification, saving accuracy, recall and F1 score in data frame:"
   ]
  },
  {
   "cell_type": "code",
   "execution_count": 44,
   "metadata": {},
   "outputs": [],
   "source": [
    "y_pred_SVC_train = search_SVC.best_estimator_.predict(X_train)"
   ]
  },
  {
   "cell_type": "code",
   "execution_count": 45,
   "metadata": {},
   "outputs": [],
   "source": [
    "y_pred_svc_test = search_SVC.best_estimator_.predict(X_test)"
   ]
  },
  {
   "cell_type": "code",
   "execution_count": 46,
   "metadata": {},
   "outputs": [],
   "source": [
    "y_pred_SVC = search_SVC.predict(X_test)"
   ]
  },
  {
   "cell_type": "markdown",
   "metadata": {},
   "source": [
    "Best hyperparameters:"
   ]
  },
  {
   "cell_type": "code",
   "execution_count": 47,
   "metadata": {},
   "outputs": [
    {
     "data": {
      "text/plain": [
       "{'SVC__decision_function_shape': 'ovo',\n",
       " 'SVC__degree': 1,\n",
       " 'SVC__gamma': 'auto',\n",
       " 'SVC__kernel': 'rbf',\n",
       " 'SVC__max_iter': 500,\n",
       " 'SVC__random_state': 11,\n",
       " 'pca__n_components': 20}"
      ]
     },
     "execution_count": 47,
     "metadata": {},
     "output_type": "execute_result"
    }
   ],
   "source": [
    "search_SVC.best_params_"
   ]
  },
  {
   "cell_type": "code",
   "execution_count": 48,
   "metadata": {
    "scrolled": true
   },
   "outputs": [
    {
     "name": "stdout",
     "output_type": "stream",
     "text": [
      "              precision    recall  f1-score   support\n",
      "\n",
      "           0       0.74      0.67      0.70     22550\n",
      "           1       0.52      0.60      0.55     13267\n",
      "\n",
      "    accuracy                           0.64     35817\n",
      "   macro avg       0.63      0.63      0.63     35817\n",
      "weighted avg       0.66      0.64      0.65     35817\n",
      "\n"
     ]
    }
   ],
   "source": [
    "print(classification_report(y_test, y_pred_SVC))\n",
    "A_report_svc = pd.DataFrame(classification_report(y_test, y_pred_SVC, output_dict=True))"
   ]
  },
  {
   "cell_type": "code",
   "execution_count": 49,
   "metadata": {},
   "outputs": [
    {
     "data": {
      "text/html": [
       "<div>\n",
       "<style scoped>\n",
       "    .dataframe tbody tr th:only-of-type {\n",
       "        vertical-align: middle;\n",
       "    }\n",
       "\n",
       "    .dataframe tbody tr th {\n",
       "        vertical-align: top;\n",
       "    }\n",
       "\n",
       "    .dataframe thead th {\n",
       "        text-align: right;\n",
       "    }\n",
       "</style>\n",
       "<table border=\"1\" class=\"dataframe\">\n",
       "  <thead>\n",
       "    <tr style=\"text-align: right;\">\n",
       "      <th></th>\n",
       "      <th>0</th>\n",
       "      <th>1</th>\n",
       "      <th>accuracy</th>\n",
       "      <th>macro avg</th>\n",
       "      <th>weighted avg</th>\n",
       "    </tr>\n",
       "  </thead>\n",
       "  <tbody>\n",
       "    <tr>\n",
       "      <th>precision</th>\n",
       "      <td>0.738904</td>\n",
       "      <td>0.517133</td>\n",
       "      <td>0.644219</td>\n",
       "      <td>0.628018</td>\n",
       "      <td>0.656758</td>\n",
       "    </tr>\n",
       "    <tr>\n",
       "      <th>recall</th>\n",
       "      <td>0.672550</td>\n",
       "      <td>0.596065</td>\n",
       "      <td>0.644219</td>\n",
       "      <td>0.634308</td>\n",
       "      <td>0.644219</td>\n",
       "    </tr>\n",
       "    <tr>\n",
       "      <th>f1-score</th>\n",
       "      <td>0.704167</td>\n",
       "      <td>0.553801</td>\n",
       "      <td>0.644219</td>\n",
       "      <td>0.628984</td>\n",
       "      <td>0.648470</td>\n",
       "    </tr>\n",
       "    <tr>\n",
       "      <th>support</th>\n",
       "      <td>22550.000000</td>\n",
       "      <td>13267.000000</td>\n",
       "      <td>0.644219</td>\n",
       "      <td>35817.000000</td>\n",
       "      <td>35817.000000</td>\n",
       "    </tr>\n",
       "  </tbody>\n",
       "</table>\n",
       "</div>"
      ],
      "text/plain": [
       "                      0             1  accuracy     macro avg  weighted avg\n",
       "precision      0.738904      0.517133  0.644219      0.628018      0.656758\n",
       "recall         0.672550      0.596065  0.644219      0.634308      0.644219\n",
       "f1-score       0.704167      0.553801  0.644219      0.628984      0.648470\n",
       "support    22550.000000  13267.000000  0.644219  35817.000000  35817.000000"
      ]
     },
     "execution_count": 49,
     "metadata": {},
     "output_type": "execute_result"
    }
   ],
   "source": [
    "A_report_svc"
   ]
  },
  {
   "cell_type": "code",
   "execution_count": 50,
   "metadata": {},
   "outputs": [],
   "source": [
    "for i, name in enumerate(A_report_svc.columns):\n",
    "  A_report_svc = A_report_svc.rename(columns={(A_report_svc.iloc[:,i].name): ('SVC_'+A_report_svc.iloc[:,i].name)})\n"
   ]
  },
  {
   "cell_type": "code",
   "execution_count": 51,
   "metadata": {},
   "outputs": [
    {
     "data": {
      "text/html": [
       "<div>\n",
       "<style scoped>\n",
       "    .dataframe tbody tr th:only-of-type {\n",
       "        vertical-align: middle;\n",
       "    }\n",
       "\n",
       "    .dataframe tbody tr th {\n",
       "        vertical-align: top;\n",
       "    }\n",
       "\n",
       "    .dataframe thead th {\n",
       "        text-align: right;\n",
       "    }\n",
       "</style>\n",
       "<table border=\"1\" class=\"dataframe\">\n",
       "  <thead>\n",
       "    <tr style=\"text-align: right;\">\n",
       "      <th></th>\n",
       "      <th>SVC_0</th>\n",
       "      <th>SVC_1</th>\n",
       "      <th>SVC_accuracy</th>\n",
       "      <th>SVC_macro avg</th>\n",
       "      <th>SVC_weighted avg</th>\n",
       "    </tr>\n",
       "  </thead>\n",
       "  <tbody>\n",
       "    <tr>\n",
       "      <th>precision</th>\n",
       "      <td>0.738904</td>\n",
       "      <td>0.517133</td>\n",
       "      <td>0.644219</td>\n",
       "      <td>0.628018</td>\n",
       "      <td>0.656758</td>\n",
       "    </tr>\n",
       "    <tr>\n",
       "      <th>recall</th>\n",
       "      <td>0.672550</td>\n",
       "      <td>0.596065</td>\n",
       "      <td>0.644219</td>\n",
       "      <td>0.634308</td>\n",
       "      <td>0.644219</td>\n",
       "    </tr>\n",
       "    <tr>\n",
       "      <th>f1-score</th>\n",
       "      <td>0.704167</td>\n",
       "      <td>0.553801</td>\n",
       "      <td>0.644219</td>\n",
       "      <td>0.628984</td>\n",
       "      <td>0.648470</td>\n",
       "    </tr>\n",
       "    <tr>\n",
       "      <th>support</th>\n",
       "      <td>22550.000000</td>\n",
       "      <td>13267.000000</td>\n",
       "      <td>0.644219</td>\n",
       "      <td>35817.000000</td>\n",
       "      <td>35817.000000</td>\n",
       "    </tr>\n",
       "  </tbody>\n",
       "</table>\n",
       "</div>"
      ],
      "text/plain": [
       "                  SVC_0         SVC_1  SVC_accuracy  SVC_macro avg  \\\n",
       "precision      0.738904      0.517133      0.644219       0.628018   \n",
       "recall         0.672550      0.596065      0.644219       0.634308   \n",
       "f1-score       0.704167      0.553801      0.644219       0.628984   \n",
       "support    22550.000000  13267.000000      0.644219   35817.000000   \n",
       "\n",
       "           SVC_weighted avg  \n",
       "precision          0.656758  \n",
       "recall             0.644219  \n",
       "f1-score           0.648470  \n",
       "support        35817.000000  "
      ]
     },
     "execution_count": 51,
     "metadata": {},
     "output_type": "execute_result"
    }
   ],
   "source": [
    "A_report_svc"
   ]
  },
  {
   "cell_type": "markdown",
   "metadata": {},
   "source": [
    "XGBClassifier algorythm with RandomizedGridSearch in pipeline, scaling reducing, ballancing:"
   ]
  },
  {
   "cell_type": "code",
   "execution_count": 52,
   "metadata": {},
   "outputs": [
    {
     "name": "stdout",
     "output_type": "stream",
     "text": [
      "Fitting 3 folds for each of 54 candidates, totalling 162 fits\n",
      "[CV 1/3] END XGB__learning_rate=0.1, XGB__max_depth=3, XGB__n_estimators=100, pca__n_components=5;, score=0.816 total time=   3.9s\n",
      "[CV 2/3] END XGB__learning_rate=0.1, XGB__max_depth=3, XGB__n_estimators=100, pca__n_components=5;, score=0.825 total time=   3.8s\n",
      "[CV 3/3] END XGB__learning_rate=0.1, XGB__max_depth=3, XGB__n_estimators=100, pca__n_components=5;, score=0.818 total time=   3.8s\n",
      "[CV 1/3] END XGB__learning_rate=0.1, XGB__max_depth=3, XGB__n_estimators=100, pca__n_components=10;, score=0.838 total time=   8.9s\n",
      "[CV 2/3] END XGB__learning_rate=0.1, XGB__max_depth=3, XGB__n_estimators=100, pca__n_components=10;, score=0.845 total time=   8.3s\n",
      "[CV 3/3] END XGB__learning_rate=0.1, XGB__max_depth=3, XGB__n_estimators=100, pca__n_components=10;, score=0.843 total time=   8.1s\n",
      "[CV 1/3] END XGB__learning_rate=0.1, XGB__max_depth=3, XGB__n_estimators=100, pca__n_components=20;, score=0.865 total time=  18.4s\n",
      "[CV 2/3] END XGB__learning_rate=0.1, XGB__max_depth=3, XGB__n_estimators=100, pca__n_components=20;, score=0.871 total time=  19.0s\n",
      "[CV 3/3] END XGB__learning_rate=0.1, XGB__max_depth=3, XGB__n_estimators=100, pca__n_components=20;, score=0.868 total time=  18.4s\n",
      "[CV 1/3] END XGB__learning_rate=0.1, XGB__max_depth=3, XGB__n_estimators=500, pca__n_components=5;, score=0.838 total time=  10.3s\n",
      "[CV 2/3] END XGB__learning_rate=0.1, XGB__max_depth=3, XGB__n_estimators=500, pca__n_components=5;, score=0.844 total time=  10.3s\n",
      "[CV 3/3] END XGB__learning_rate=0.1, XGB__max_depth=3, XGB__n_estimators=500, pca__n_components=5;, score=0.841 total time=  10.3s\n",
      "[CV 1/3] END XGB__learning_rate=0.1, XGB__max_depth=3, XGB__n_estimators=500, pca__n_components=10;, score=0.870 total time=  18.5s\n",
      "[CV 2/3] END XGB__learning_rate=0.1, XGB__max_depth=3, XGB__n_estimators=500, pca__n_components=10;, score=0.876 total time=  18.2s\n",
      "[CV 3/3] END XGB__learning_rate=0.1, XGB__max_depth=3, XGB__n_estimators=500, pca__n_components=10;, score=0.871 total time=  18.9s\n",
      "[CV 1/3] END XGB__learning_rate=0.1, XGB__max_depth=3, XGB__n_estimators=500, pca__n_components=20;, score=0.892 total time=  35.4s\n",
      "[CV 2/3] END XGB__learning_rate=0.1, XGB__max_depth=3, XGB__n_estimators=500, pca__n_components=20;, score=0.896 total time=  35.0s\n",
      "[CV 3/3] END XGB__learning_rate=0.1, XGB__max_depth=3, XGB__n_estimators=500, pca__n_components=20;, score=0.894 total time=  35.1s\n",
      "[CV 1/3] END XGB__learning_rate=0.1, XGB__max_depth=3, XGB__n_estimators=800, pca__n_components=5;, score=0.843 total time=  15.2s\n",
      "[CV 2/3] END XGB__learning_rate=0.1, XGB__max_depth=3, XGB__n_estimators=800, pca__n_components=5;, score=0.850 total time=  15.1s\n",
      "[CV 3/3] END XGB__learning_rate=0.1, XGB__max_depth=3, XGB__n_estimators=800, pca__n_components=5;, score=0.847 total time=  16.4s\n",
      "[CV 1/3] END XGB__learning_rate=0.1, XGB__max_depth=3, XGB__n_estimators=800, pca__n_components=10;, score=0.876 total time=  26.4s\n",
      "[CV 2/3] END XGB__learning_rate=0.1, XGB__max_depth=3, XGB__n_estimators=800, pca__n_components=10;, score=0.879 total time=  25.5s\n",
      "[CV 3/3] END XGB__learning_rate=0.1, XGB__max_depth=3, XGB__n_estimators=800, pca__n_components=10;, score=0.879 total time=  26.1s\n",
      "[CV 1/3] END XGB__learning_rate=0.1, XGB__max_depth=3, XGB__n_estimators=800, pca__n_components=20;, score=0.899 total time=  51.1s\n",
      "[CV 2/3] END XGB__learning_rate=0.1, XGB__max_depth=3, XGB__n_estimators=800, pca__n_components=20;, score=0.902 total time=  51.0s\n",
      "[CV 3/3] END XGB__learning_rate=0.1, XGB__max_depth=3, XGB__n_estimators=800, pca__n_components=20;, score=0.905 total time=  50.5s\n",
      "[CV 1/3] END XGB__learning_rate=0.1, XGB__max_depth=5, XGB__n_estimators=100, pca__n_components=5;, score=0.839 total time=   4.9s\n",
      "[CV 2/3] END XGB__learning_rate=0.1, XGB__max_depth=5, XGB__n_estimators=100, pca__n_components=5;, score=0.843 total time=   5.3s\n",
      "[CV 3/3] END XGB__learning_rate=0.1, XGB__max_depth=5, XGB__n_estimators=100, pca__n_components=5;, score=0.841 total time=   5.3s\n",
      "[CV 1/3] END XGB__learning_rate=0.1, XGB__max_depth=5, XGB__n_estimators=100, pca__n_components=10;, score=0.867 total time=  11.6s\n",
      "[CV 2/3] END XGB__learning_rate=0.1, XGB__max_depth=5, XGB__n_estimators=100, pca__n_components=10;, score=0.871 total time=  10.6s\n",
      "[CV 3/3] END XGB__learning_rate=0.1, XGB__max_depth=5, XGB__n_estimators=100, pca__n_components=10;, score=0.872 total time=  10.5s\n",
      "[CV 1/3] END XGB__learning_rate=0.1, XGB__max_depth=5, XGB__n_estimators=100, pca__n_components=20;, score=0.889 total time=  21.9s\n",
      "[CV 2/3] END XGB__learning_rate=0.1, XGB__max_depth=5, XGB__n_estimators=100, pca__n_components=20;, score=0.894 total time=  22.0s\n",
      "[CV 3/3] END XGB__learning_rate=0.1, XGB__max_depth=5, XGB__n_estimators=100, pca__n_components=20;, score=0.894 total time=  21.4s\n",
      "[CV 1/3] END XGB__learning_rate=0.1, XGB__max_depth=5, XGB__n_estimators=500, pca__n_components=5;, score=0.856 total time=  16.2s\n",
      "[CV 2/3] END XGB__learning_rate=0.1, XGB__max_depth=5, XGB__n_estimators=500, pca__n_components=5;, score=0.859 total time=  16.5s\n",
      "[CV 3/3] END XGB__learning_rate=0.1, XGB__max_depth=5, XGB__n_estimators=500, pca__n_components=5;, score=0.858 total time=  17.0s\n",
      "[CV 1/3] END XGB__learning_rate=0.1, XGB__max_depth=5, XGB__n_estimators=500, pca__n_components=10;, score=0.886 total time=  27.9s\n",
      "[CV 2/3] END XGB__learning_rate=0.1, XGB__max_depth=5, XGB__n_estimators=500, pca__n_components=10;, score=0.890 total time=  28.2s\n",
      "[CV 3/3] END XGB__learning_rate=0.1, XGB__max_depth=5, XGB__n_estimators=500, pca__n_components=10;, score=0.891 total time=  27.2s\n",
      "[CV 1/3] END XGB__learning_rate=0.1, XGB__max_depth=5, XGB__n_estimators=500, pca__n_components=20;, score=0.908 total time=  51.8s\n",
      "[CV 2/3] END XGB__learning_rate=0.1, XGB__max_depth=5, XGB__n_estimators=500, pca__n_components=20;, score=0.911 total time=  51.2s\n",
      "[CV 3/3] END XGB__learning_rate=0.1, XGB__max_depth=5, XGB__n_estimators=500, pca__n_components=20;, score=0.911 total time=  49.4s\n",
      "[CV 1/3] END XGB__learning_rate=0.1, XGB__max_depth=5, XGB__n_estimators=800, pca__n_components=5;, score=0.858 total time=  23.6s\n",
      "[CV 2/3] END XGB__learning_rate=0.1, XGB__max_depth=5, XGB__n_estimators=800, pca__n_components=5;, score=0.861 total time=  23.6s\n",
      "[CV 3/3] END XGB__learning_rate=0.1, XGB__max_depth=5, XGB__n_estimators=800, pca__n_components=5;, score=0.862 total time=  23.6s\n",
      "[CV 1/3] END XGB__learning_rate=0.1, XGB__max_depth=5, XGB__n_estimators=800, pca__n_components=10;, score=0.889 total time=  39.7s\n",
      "[CV 2/3] END XGB__learning_rate=0.1, XGB__max_depth=5, XGB__n_estimators=800, pca__n_components=10;, score=0.894 total time=  39.4s\n",
      "[CV 3/3] END XGB__learning_rate=0.1, XGB__max_depth=5, XGB__n_estimators=800, pca__n_components=10;, score=0.894 total time=  39.7s\n",
      "[CV 1/3] END XGB__learning_rate=0.1, XGB__max_depth=5, XGB__n_estimators=800, pca__n_components=20;, score=0.909 total time= 1.2min\n",
      "[CV 2/3] END XGB__learning_rate=0.1, XGB__max_depth=5, XGB__n_estimators=800, pca__n_components=20;, score=0.911 total time= 1.2min\n",
      "[CV 3/3] END XGB__learning_rate=0.1, XGB__max_depth=5, XGB__n_estimators=800, pca__n_components=20;, score=0.914 total time= 1.2min\n",
      "[CV 1/3] END XGB__learning_rate=0.1, XGB__max_depth=10, XGB__n_estimators=100, pca__n_components=5;, score=0.863 total time=   8.0s\n",
      "[CV 2/3] END XGB__learning_rate=0.1, XGB__max_depth=10, XGB__n_estimators=100, pca__n_components=5;, score=0.869 total time=   7.8s\n",
      "[CV 3/3] END XGB__learning_rate=0.1, XGB__max_depth=10, XGB__n_estimators=100, pca__n_components=5;, score=0.864 total time=   7.9s\n",
      "[CV 1/3] END XGB__learning_rate=0.1, XGB__max_depth=10, XGB__n_estimators=100, pca__n_components=10;, score=0.890 total time=  15.4s\n",
      "[CV 2/3] END XGB__learning_rate=0.1, XGB__max_depth=10, XGB__n_estimators=100, pca__n_components=10;, score=0.893 total time=  14.8s\n",
      "[CV 3/3] END XGB__learning_rate=0.1, XGB__max_depth=10, XGB__n_estimators=100, pca__n_components=10;, score=0.898 total time=  15.2s\n",
      "[CV 1/3] END XGB__learning_rate=0.1, XGB__max_depth=10, XGB__n_estimators=100, pca__n_components=20;, score=0.909 total time=  29.5s\n",
      "[CV 2/3] END XGB__learning_rate=0.1, XGB__max_depth=10, XGB__n_estimators=100, pca__n_components=20;, score=0.913 total time=  29.5s\n"
     ]
    },
    {
     "name": "stdout",
     "output_type": "stream",
     "text": [
      "[CV 3/3] END XGB__learning_rate=0.1, XGB__max_depth=10, XGB__n_estimators=100, pca__n_components=20;, score=0.911 total time=  30.7s\n",
      "[CV 1/3] END XGB__learning_rate=0.1, XGB__max_depth=10, XGB__n_estimators=500, pca__n_components=5;, score=0.869 total time=  39.1s\n",
      "[CV 2/3] END XGB__learning_rate=0.1, XGB__max_depth=10, XGB__n_estimators=500, pca__n_components=5;, score=0.872 total time=  48.3s\n",
      "[CV 3/3] END XGB__learning_rate=0.1, XGB__max_depth=10, XGB__n_estimators=500, pca__n_components=5;, score=0.871 total time=  46.7s\n",
      "[CV 1/3] END XGB__learning_rate=0.1, XGB__max_depth=10, XGB__n_estimators=500, pca__n_components=10;, score=0.896 total time=  52.7s\n",
      "[CV 2/3] END XGB__learning_rate=0.1, XGB__max_depth=10, XGB__n_estimators=500, pca__n_components=10;, score=0.898 total time=  50.5s\n",
      "[CV 3/3] END XGB__learning_rate=0.1, XGB__max_depth=10, XGB__n_estimators=500, pca__n_components=10;, score=0.900 total time= 1.0min\n",
      "[CV 1/3] END XGB__learning_rate=0.1, XGB__max_depth=10, XGB__n_estimators=500, pca__n_components=20;, score=0.915 total time= 1.6min\n",
      "[CV 2/3] END XGB__learning_rate=0.1, XGB__max_depth=10, XGB__n_estimators=500, pca__n_components=20;, score=0.919 total time= 1.6min\n",
      "[CV 3/3] END XGB__learning_rate=0.1, XGB__max_depth=10, XGB__n_estimators=500, pca__n_components=20;, score=0.916 total time= 1.5min\n",
      "[CV 1/3] END XGB__learning_rate=0.1, XGB__max_depth=10, XGB__n_estimators=800, pca__n_components=5;, score=0.867 total time=  47.2s\n",
      "[CV 2/3] END XGB__learning_rate=0.1, XGB__max_depth=10, XGB__n_estimators=800, pca__n_components=5;, score=0.871 total time=  45.6s\n",
      "[CV 3/3] END XGB__learning_rate=0.1, XGB__max_depth=10, XGB__n_estimators=800, pca__n_components=5;, score=0.872 total time=  45.7s\n",
      "[CV 1/3] END XGB__learning_rate=0.1, XGB__max_depth=10, XGB__n_estimators=800, pca__n_components=10;, score=0.898 total time= 1.4min\n",
      "[CV 2/3] END XGB__learning_rate=0.1, XGB__max_depth=10, XGB__n_estimators=800, pca__n_components=10;, score=0.901 total time= 1.2min\n",
      "[CV 3/3] END XGB__learning_rate=0.1, XGB__max_depth=10, XGB__n_estimators=800, pca__n_components=10;, score=0.905 total time= 1.2min\n",
      "[CV 1/3] END XGB__learning_rate=0.1, XGB__max_depth=10, XGB__n_estimators=800, pca__n_components=20;, score=0.913 total time= 2.1min\n",
      "[CV 2/3] END XGB__learning_rate=0.1, XGB__max_depth=10, XGB__n_estimators=800, pca__n_components=20;, score=0.915 total time= 1.9min\n",
      "[CV 3/3] END XGB__learning_rate=0.1, XGB__max_depth=10, XGB__n_estimators=800, pca__n_components=20;, score=0.917 total time= 1.8min\n",
      "[CV 1/3] END XGB__learning_rate=0.5, XGB__max_depth=3, XGB__n_estimators=100, pca__n_components=5;, score=0.839 total time=   3.6s\n",
      "[CV 2/3] END XGB__learning_rate=0.5, XGB__max_depth=3, XGB__n_estimators=100, pca__n_components=5;, score=0.843 total time=   3.8s\n",
      "[CV 3/3] END XGB__learning_rate=0.5, XGB__max_depth=3, XGB__n_estimators=100, pca__n_components=5;, score=0.840 total time=   3.7s\n",
      "[CV 1/3] END XGB__learning_rate=0.5, XGB__max_depth=3, XGB__n_estimators=100, pca__n_components=10;, score=0.867 total time=   8.3s\n",
      "[CV 2/3] END XGB__learning_rate=0.5, XGB__max_depth=3, XGB__n_estimators=100, pca__n_components=10;, score=0.871 total time=   8.0s\n",
      "[CV 3/3] END XGB__learning_rate=0.5, XGB__max_depth=3, XGB__n_estimators=100, pca__n_components=10;, score=0.871 total time=   7.5s\n",
      "[CV 1/3] END XGB__learning_rate=0.5, XGB__max_depth=3, XGB__n_estimators=100, pca__n_components=20;, score=0.888 total time=  17.6s\n",
      "[CV 2/3] END XGB__learning_rate=0.5, XGB__max_depth=3, XGB__n_estimators=100, pca__n_components=20;, score=0.894 total time=  17.6s\n",
      "[CV 3/3] END XGB__learning_rate=0.5, XGB__max_depth=3, XGB__n_estimators=100, pca__n_components=20;, score=0.893 total time=  17.6s\n",
      "[CV 1/3] END XGB__learning_rate=0.5, XGB__max_depth=3, XGB__n_estimators=500, pca__n_components=5;, score=0.849 total time=   9.7s\n",
      "[CV 2/3] END XGB__learning_rate=0.5, XGB__max_depth=3, XGB__n_estimators=500, pca__n_components=5;, score=0.854 total time=   9.9s\n",
      "[CV 3/3] END XGB__learning_rate=0.5, XGB__max_depth=3, XGB__n_estimators=500, pca__n_components=5;, score=0.851 total time=   9.8s\n",
      "[CV 1/3] END XGB__learning_rate=0.5, XGB__max_depth=3, XGB__n_estimators=500, pca__n_components=10;, score=0.882 total time=  17.9s\n",
      "[CV 2/3] END XGB__learning_rate=0.5, XGB__max_depth=3, XGB__n_estimators=500, pca__n_components=10;, score=0.886 total time=  17.4s\n",
      "[CV 3/3] END XGB__learning_rate=0.5, XGB__max_depth=3, XGB__n_estimators=500, pca__n_components=10;, score=0.885 total time=  17.2s\n",
      "[CV 1/3] END XGB__learning_rate=0.5, XGB__max_depth=3, XGB__n_estimators=500, pca__n_components=20;, score=0.905 total time=  33.1s\n",
      "[CV 2/3] END XGB__learning_rate=0.5, XGB__max_depth=3, XGB__n_estimators=500, pca__n_components=20;, score=0.909 total time=  33.3s\n",
      "[CV 3/3] END XGB__learning_rate=0.5, XGB__max_depth=3, XGB__n_estimators=500, pca__n_components=20;, score=0.908 total time=  33.2s\n",
      "[CV 1/3] END XGB__learning_rate=0.5, XGB__max_depth=3, XGB__n_estimators=800, pca__n_components=5;, score=0.851 total time=  14.5s\n",
      "[CV 2/3] END XGB__learning_rate=0.5, XGB__max_depth=3, XGB__n_estimators=800, pca__n_components=5;, score=0.862 total time=  14.4s\n",
      "[CV 3/3] END XGB__learning_rate=0.5, XGB__max_depth=3, XGB__n_estimators=800, pca__n_components=5;, score=0.854 total time=  14.4s\n",
      "[CV 1/3] END XGB__learning_rate=0.5, XGB__max_depth=3, XGB__n_estimators=800, pca__n_components=10;, score=0.881 total time=  24.6s\n",
      "[CV 2/3] END XGB__learning_rate=0.5, XGB__max_depth=3, XGB__n_estimators=800, pca__n_components=10;, score=0.886 total time=  24.3s\n",
      "[CV 3/3] END XGB__learning_rate=0.5, XGB__max_depth=3, XGB__n_estimators=800, pca__n_components=10;, score=0.884 total time=  24.1s\n",
      "[CV 1/3] END XGB__learning_rate=0.5, XGB__max_depth=3, XGB__n_estimators=800, pca__n_components=20;, score=0.904 total time=  44.6s\n",
      "[CV 2/3] END XGB__learning_rate=0.5, XGB__max_depth=3, XGB__n_estimators=800, pca__n_components=20;, score=0.911 total time=  44.8s\n",
      "[CV 3/3] END XGB__learning_rate=0.5, XGB__max_depth=3, XGB__n_estimators=800, pca__n_components=20;, score=0.906 total time=  45.5s\n",
      "[CV 1/3] END XGB__learning_rate=0.5, XGB__max_depth=5, XGB__n_estimators=100, pca__n_components=5;, score=0.854 total time=   4.7s\n",
      "[CV 2/3] END XGB__learning_rate=0.5, XGB__max_depth=5, XGB__n_estimators=100, pca__n_components=5;, score=0.859 total time=   4.7s\n",
      "[CV 3/3] END XGB__learning_rate=0.5, XGB__max_depth=5, XGB__n_estimators=100, pca__n_components=5;, score=0.856 total time=   4.8s\n",
      "[CV 1/3] END XGB__learning_rate=0.5, XGB__max_depth=5, XGB__n_estimators=100, pca__n_components=10;, score=0.884 total time=   9.9s\n",
      "[CV 2/3] END XGB__learning_rate=0.5, XGB__max_depth=5, XGB__n_estimators=100, pca__n_components=10;, score=0.887 total time=   9.3s\n",
      "[CV 3/3] END XGB__learning_rate=0.5, XGB__max_depth=5, XGB__n_estimators=100, pca__n_components=10;, score=0.889 total time=   9.4s\n",
      "[CV 1/3] END XGB__learning_rate=0.5, XGB__max_depth=5, XGB__n_estimators=100, pca__n_components=20;, score=0.903 total time=  20.4s\n",
      "[CV 2/3] END XGB__learning_rate=0.5, XGB__max_depth=5, XGB__n_estimators=100, pca__n_components=20;, score=0.907 total time=  20.4s\n",
      "[CV 3/3] END XGB__learning_rate=0.5, XGB__max_depth=5, XGB__n_estimators=100, pca__n_components=20;, score=0.905 total time=  20.5s\n",
      "[CV 1/3] END XGB__learning_rate=0.5, XGB__max_depth=5, XGB__n_estimators=500, pca__n_components=5;, score=0.860 total time=  14.9s\n",
      "[CV 2/3] END XGB__learning_rate=0.5, XGB__max_depth=5, XGB__n_estimators=500, pca__n_components=5;, score=0.865 total time=  14.9s\n",
      "[CV 3/3] END XGB__learning_rate=0.5, XGB__max_depth=5, XGB__n_estimators=500, pca__n_components=5;, score=0.859 total time=  14.9s\n",
      "[CV 1/3] END XGB__learning_rate=0.5, XGB__max_depth=5, XGB__n_estimators=500, pca__n_components=10;, score=0.889 total time=  26.2s\n",
      "[CV 2/3] END XGB__learning_rate=0.5, XGB__max_depth=5, XGB__n_estimators=500, pca__n_components=10;, score=0.892 total time=  25.3s\n",
      "[CV 3/3] END XGB__learning_rate=0.5, XGB__max_depth=5, XGB__n_estimators=500, pca__n_components=10;, score=0.895 total time=  25.1s\n",
      "[CV 1/3] END XGB__learning_rate=0.5, XGB__max_depth=5, XGB__n_estimators=500, pca__n_components=20;, score=0.910 total time=  46.4s\n",
      "[CV 2/3] END XGB__learning_rate=0.5, XGB__max_depth=5, XGB__n_estimators=500, pca__n_components=20;, score=0.914 total time=  46.5s\n"
     ]
    },
    {
     "name": "stdout",
     "output_type": "stream",
     "text": [
      "[CV 3/3] END XGB__learning_rate=0.5, XGB__max_depth=5, XGB__n_estimators=500, pca__n_components=20;, score=0.914 total time=  46.2s\n",
      "[CV 1/3] END XGB__learning_rate=0.5, XGB__max_depth=5, XGB__n_estimators=800, pca__n_components=5;, score=0.860 total time=  25.5s\n",
      "[CV 2/3] END XGB__learning_rate=0.5, XGB__max_depth=5, XGB__n_estimators=800, pca__n_components=5;, score=0.865 total time=  22.3s\n",
      "[CV 3/3] END XGB__learning_rate=0.5, XGB__max_depth=5, XGB__n_estimators=800, pca__n_components=5;, score=0.865 total time=  22.6s\n",
      "[CV 1/3] END XGB__learning_rate=0.5, XGB__max_depth=5, XGB__n_estimators=800, pca__n_components=10;, score=0.894 total time=  37.5s\n",
      "[CV 2/3] END XGB__learning_rate=0.5, XGB__max_depth=5, XGB__n_estimators=800, pca__n_components=10;, score=0.896 total time=  36.7s\n",
      "[CV 3/3] END XGB__learning_rate=0.5, XGB__max_depth=5, XGB__n_estimators=800, pca__n_components=10;, score=0.890 total time=  36.1s\n",
      "[CV 1/3] END XGB__learning_rate=0.5, XGB__max_depth=5, XGB__n_estimators=800, pca__n_components=20;, score=0.910 total time= 1.1min\n",
      "[CV 2/3] END XGB__learning_rate=0.5, XGB__max_depth=5, XGB__n_estimators=800, pca__n_components=20;, score=0.913 total time= 1.1min\n",
      "[CV 3/3] END XGB__learning_rate=0.5, XGB__max_depth=5, XGB__n_estimators=800, pca__n_components=20;, score=0.913 total time= 1.1min\n",
      "[CV 1/3] END XGB__learning_rate=0.5, XGB__max_depth=10, XGB__n_estimators=100, pca__n_components=5;, score=0.863 total time=   7.3s\n",
      "[CV 2/3] END XGB__learning_rate=0.5, XGB__max_depth=10, XGB__n_estimators=100, pca__n_components=5;, score=0.869 total time=   7.4s\n",
      "[CV 3/3] END XGB__learning_rate=0.5, XGB__max_depth=10, XGB__n_estimators=100, pca__n_components=5;, score=0.867 total time=   7.2s\n",
      "[CV 1/3] END XGB__learning_rate=0.5, XGB__max_depth=10, XGB__n_estimators=100, pca__n_components=10;, score=0.893 total time=  14.4s\n",
      "[CV 2/3] END XGB__learning_rate=0.5, XGB__max_depth=10, XGB__n_estimators=100, pca__n_components=10;, score=0.900 total time=  13.5s\n",
      "[CV 3/3] END XGB__learning_rate=0.5, XGB__max_depth=10, XGB__n_estimators=100, pca__n_components=10;, score=0.899 total time=  13.3s\n",
      "[CV 1/3] END XGB__learning_rate=0.5, XGB__max_depth=10, XGB__n_estimators=100, pca__n_components=20;, score=0.909 total time=  26.5s\n",
      "[CV 2/3] END XGB__learning_rate=0.5, XGB__max_depth=10, XGB__n_estimators=100, pca__n_components=20;, score=0.915 total time=  26.8s\n",
      "[CV 3/3] END XGB__learning_rate=0.5, XGB__max_depth=10, XGB__n_estimators=100, pca__n_components=20;, score=0.913 total time=  26.5s\n",
      "[CV 1/3] END XGB__learning_rate=0.5, XGB__max_depth=10, XGB__n_estimators=500, pca__n_components=5;, score=0.865 total time=  26.0s\n",
      "[CV 2/3] END XGB__learning_rate=0.5, XGB__max_depth=10, XGB__n_estimators=500, pca__n_components=5;, score=0.872 total time=  26.3s\n",
      "[CV 3/3] END XGB__learning_rate=0.5, XGB__max_depth=10, XGB__n_estimators=500, pca__n_components=5;, score=0.869 total time=  26.0s\n",
      "[CV 1/3] END XGB__learning_rate=0.5, XGB__max_depth=10, XGB__n_estimators=500, pca__n_components=10;, score=0.895 total time=  38.7s\n",
      "[CV 2/3] END XGB__learning_rate=0.5, XGB__max_depth=10, XGB__n_estimators=500, pca__n_components=10;, score=0.902 total time=  39.9s\n",
      "[CV 3/3] END XGB__learning_rate=0.5, XGB__max_depth=10, XGB__n_estimators=500, pca__n_components=10;, score=0.900 total time=  39.2s\n",
      "[CV 1/3] END XGB__learning_rate=0.5, XGB__max_depth=10, XGB__n_estimators=500, pca__n_components=20;, score=0.914 total time= 1.0min\n",
      "[CV 2/3] END XGB__learning_rate=0.5, XGB__max_depth=10, XGB__n_estimators=500, pca__n_components=20;, score=0.914 total time= 1.0min\n",
      "[CV 3/3] END XGB__learning_rate=0.5, XGB__max_depth=10, XGB__n_estimators=500, pca__n_components=20;, score=0.913 total time= 1.0min\n",
      "[CV 1/3] END XGB__learning_rate=0.5, XGB__max_depth=10, XGB__n_estimators=800, pca__n_components=5;, score=0.861 total time=  39.0s\n",
      "[CV 2/3] END XGB__learning_rate=0.5, XGB__max_depth=10, XGB__n_estimators=800, pca__n_components=5;, score=0.870 total time=  39.1s\n",
      "[CV 3/3] END XGB__learning_rate=0.5, XGB__max_depth=10, XGB__n_estimators=800, pca__n_components=5;, score=0.866 total time=  39.0s\n",
      "[CV 1/3] END XGB__learning_rate=0.5, XGB__max_depth=10, XGB__n_estimators=800, pca__n_components=10;, score=0.896 total time=  55.5s\n",
      "[CV 2/3] END XGB__learning_rate=0.5, XGB__max_depth=10, XGB__n_estimators=800, pca__n_components=10;, score=0.901 total time=  54.5s\n",
      "[CV 3/3] END XGB__learning_rate=0.5, XGB__max_depth=10, XGB__n_estimators=800, pca__n_components=10;, score=0.899 total time=  54.3s\n",
      "[CV 1/3] END XGB__learning_rate=0.5, XGB__max_depth=10, XGB__n_estimators=800, pca__n_components=20;, score=0.913 total time= 1.3min\n",
      "[CV 2/3] END XGB__learning_rate=0.5, XGB__max_depth=10, XGB__n_estimators=800, pca__n_components=20;, score=0.914 total time= 1.3min\n",
      "[CV 3/3] END XGB__learning_rate=0.5, XGB__max_depth=10, XGB__n_estimators=800, pca__n_components=20;, score=0.913 total time= 1.3min\n"
     ]
    },
    {
     "data": {
      "text/plain": [
       "0.8172655442946087"
      ]
     },
     "execution_count": 52,
     "metadata": {},
     "output_type": "execute_result"
    }
   ],
   "source": [
    "stratified_kfold = StratifiedKFold(n_splits=3,\n",
    "                                       shuffle=True,\n",
    "                                       random_state=77)\n",
    "\n",
    "pipeline = imbpipeline(steps=[('scaler', scaler),\n",
    "                              ('pca', pca),\n",
    "                              ('smote', SMOTEEN),\n",
    "                              ('XGB', XGBClassifier())])\n",
    "\n",
    "params = {\n",
    "    'XGB__n_estimators': [100, 500, 800],\n",
    "    'XGB__max_depth': [3, 5, 10],\n",
    "    'XGB__learning_rate': [0.1, 0.5],\n",
    "    'pca__n_components': [5, 10, 20]\n",
    "    }\n",
    "\n",
    "search_XGB = GridSearchCV(pipeline, \n",
    "                          params, \n",
    "                          scoring='roc_auc', \n",
    "                          cv=stratified_kfold, \n",
    "                          verbose=3,\n",
    "                        #n_jobs=3\n",
    "                         ) \n",
    "\n",
    "search_XGB.fit(X_train, y_train) \n",
    "accuracy_score(y_test, search_XGB.predict(X_test))"
   ]
  },
  {
   "cell_type": "markdown",
   "metadata": {},
   "source": [
    "Achieving scores of classification, saving accuracy, recall and F1 score in data frame:"
   ]
  },
  {
   "cell_type": "markdown",
   "metadata": {},
   "source": [
    "Best hyperparameters:"
   ]
  },
  {
   "cell_type": "code",
   "execution_count": 53,
   "metadata": {},
   "outputs": [
    {
     "data": {
      "text/plain": [
       "{'XGB__learning_rate': 0.1,\n",
       " 'XGB__max_depth': 10,\n",
       " 'XGB__n_estimators': 500,\n",
       " 'pca__n_components': 20}"
      ]
     },
     "execution_count": 53,
     "metadata": {},
     "output_type": "execute_result"
    }
   ],
   "source": [
    "search_XGB.best_params_"
   ]
  },
  {
   "cell_type": "code",
   "execution_count": 54,
   "metadata": {},
   "outputs": [],
   "source": [
    "#XGBClassifier().get_params().keys()"
   ]
  },
  {
   "cell_type": "code",
   "execution_count": 55,
   "metadata": {},
   "outputs": [
    {
     "data": {
      "text/plain": [
       "array([0.81939343, 0.84198873, 0.86810284, 0.84133213, 0.87234095,\n",
       "       0.89394349, 0.84676692, 0.87798078, 0.90200968, 0.84108852,\n",
       "       0.87000128, 0.89243752, 0.85772887, 0.88866136, 0.90994317,\n",
       "       0.86056807, 0.89245273, 0.9112972 , 0.86539714, 0.89386922,\n",
       "       0.91108879, 0.87069482, 0.89797723, 0.91655473, 0.87007474,\n",
       "       0.90141347, 0.91524123, 0.84066092, 0.86967626, 0.89195881,\n",
       "       0.85173053, 0.88466061, 0.90729342, 0.85576429, 0.8835808 ,\n",
       "       0.90713081, 0.85621813, 0.88655996, 0.90513468, 0.86160186,\n",
       "       0.89166158, 0.91247717, 0.86313988, 0.89354342, 0.91165163,\n",
       "       0.86607574, 0.89716081, 0.91220168, 0.86857286, 0.89897748,\n",
       "       0.91366623, 0.8655969 , 0.89876878, 0.91309304])"
      ]
     },
     "execution_count": 55,
     "metadata": {},
     "output_type": "execute_result"
    }
   ],
   "source": [
    "search_XGB.cv_results_[\"mean_test_score\"]"
   ]
  },
  {
   "cell_type": "code",
   "execution_count": 56,
   "metadata": {},
   "outputs": [
    {
     "data": {
      "text/plain": [
       "0.8172655442946087"
      ]
     },
     "execution_count": 56,
     "metadata": {},
     "output_type": "execute_result"
    }
   ],
   "source": [
    "accuracy_score(y_test, search_XGB.predict(X_test))"
   ]
  },
  {
   "cell_type": "code",
   "execution_count": 57,
   "metadata": {},
   "outputs": [],
   "source": [
    "y_pred_XGB = search_XGB.best_estimator_.predict(X_test)\n",
    "test_score = search_XGB.score(X_test, y_test)\n",
    "cv_score = search_XGB.best_score_"
   ]
  },
  {
   "cell_type": "code",
   "execution_count": 58,
   "metadata": {},
   "outputs": [
    {
     "name": "stdout",
     "output_type": "stream",
     "text": [
      "Cross-validation score: 0.9165547250279212\n",
      "Test score: 0.8861460667040255\n",
      "XGBClassifier:\n",
      "{'XGB__learning_rate': 0.1, 'XGB__max_depth': 10, 'XGB__n_estimators': 500, 'pca__n_components': 20}\n",
      "Results on test: 0.8172655442946087\n",
      "Results on train: 0.8834551828939968\n"
     ]
    }
   ],
   "source": [
    "print(f'Cross-validation score: {cv_score}\\nTest score: {test_score}')\n",
    "print(\"XGBClassifier:\")\n",
    "print(search_XGB.best_params_)\n",
    "print(f'Results on test: {search_XGB.best_estimator_.score(X_test, y_test)}')\n",
    "print(f'Results on train: {search_XGB.best_estimator_.score(X_train, y_train)}')"
   ]
  },
  {
   "cell_type": "code",
   "execution_count": 59,
   "metadata": {},
   "outputs": [
    {
     "name": "stdout",
     "output_type": "stream",
     "text": [
      "              precision    recall  f1-score   support\n",
      "\n",
      "           0       0.83      0.90      0.86     22550\n",
      "           1       0.80      0.68      0.73     13267\n",
      "\n",
      "    accuracy                           0.82     35817\n",
      "   macro avg       0.81      0.79      0.80     35817\n",
      "weighted avg       0.82      0.82      0.81     35817\n",
      "\n"
     ]
    }
   ],
   "source": [
    "print(classification_report(y_test, y_pred_XGB))\n",
    "A_report_xgb = pd.DataFrame(classification_report(y_test, y_pred_XGB, output_dict=True))"
   ]
  },
  {
   "cell_type": "code",
   "execution_count": 60,
   "metadata": {},
   "outputs": [],
   "source": [
    "for i, name in enumerate(A_report_xgb.columns):\n",
    "  A_report_xgb = A_report_xgb.rename(columns={(A_report_xgb.iloc[:,i].name): ('XGB_'+A_report_xgb.iloc[:,i].name)})\n"
   ]
  },
  {
   "cell_type": "code",
   "execution_count": 61,
   "metadata": {},
   "outputs": [
    {
     "data": {
      "text/html": [
       "<div>\n",
       "<style scoped>\n",
       "    .dataframe tbody tr th:only-of-type {\n",
       "        vertical-align: middle;\n",
       "    }\n",
       "\n",
       "    .dataframe tbody tr th {\n",
       "        vertical-align: top;\n",
       "    }\n",
       "\n",
       "    .dataframe thead th {\n",
       "        text-align: right;\n",
       "    }\n",
       "</style>\n",
       "<table border=\"1\" class=\"dataframe\">\n",
       "  <thead>\n",
       "    <tr style=\"text-align: right;\">\n",
       "      <th></th>\n",
       "      <th>XGB_0</th>\n",
       "      <th>XGB_1</th>\n",
       "      <th>XGB_accuracy</th>\n",
       "      <th>XGB_macro avg</th>\n",
       "      <th>XGB_weighted avg</th>\n",
       "    </tr>\n",
       "  </thead>\n",
       "  <tbody>\n",
       "    <tr>\n",
       "      <th>precision</th>\n",
       "      <td>0.826087</td>\n",
       "      <td>0.798067</td>\n",
       "      <td>0.817266</td>\n",
       "      <td>0.812077</td>\n",
       "      <td>0.815708</td>\n",
       "    </tr>\n",
       "    <tr>\n",
       "      <th>recall</th>\n",
       "      <td>0.899024</td>\n",
       "      <td>0.678300</td>\n",
       "      <td>0.817266</td>\n",
       "      <td>0.788662</td>\n",
       "      <td>0.817266</td>\n",
       "    </tr>\n",
       "    <tr>\n",
       "      <th>f1-score</th>\n",
       "      <td>0.861014</td>\n",
       "      <td>0.733325</td>\n",
       "      <td>0.817266</td>\n",
       "      <td>0.797169</td>\n",
       "      <td>0.813717</td>\n",
       "    </tr>\n",
       "    <tr>\n",
       "      <th>support</th>\n",
       "      <td>22550.000000</td>\n",
       "      <td>13267.000000</td>\n",
       "      <td>0.817266</td>\n",
       "      <td>35817.000000</td>\n",
       "      <td>35817.000000</td>\n",
       "    </tr>\n",
       "  </tbody>\n",
       "</table>\n",
       "</div>"
      ],
      "text/plain": [
       "                  XGB_0         XGB_1  XGB_accuracy  XGB_macro avg  \\\n",
       "precision      0.826087      0.798067      0.817266       0.812077   \n",
       "recall         0.899024      0.678300      0.817266       0.788662   \n",
       "f1-score       0.861014      0.733325      0.817266       0.797169   \n",
       "support    22550.000000  13267.000000      0.817266   35817.000000   \n",
       "\n",
       "           XGB_weighted avg  \n",
       "precision          0.815708  \n",
       "recall             0.817266  \n",
       "f1-score           0.813717  \n",
       "support        35817.000000  "
      ]
     },
     "execution_count": 61,
     "metadata": {},
     "output_type": "execute_result"
    }
   ],
   "source": [
    "A_report_xgb"
   ]
  },
  {
   "cell_type": "markdown",
   "metadata": {},
   "source": [
    "LogisticRegression algorythm with RandomizedGridSearch in pipeline, scaling reducing, ballancing:"
   ]
  },
  {
   "cell_type": "code",
   "execution_count": 62,
   "metadata": {},
   "outputs": [
    {
     "name": "stdout",
     "output_type": "stream",
     "text": [
      "Fitting 5 folds for each of 54 candidates, totalling 270 fits\n",
      "[CV 1/5] END LR__C=20, LR__max_iter=100, LR__multi_class=auto, LR__penalty=l2, LR__random_state=11, LR__solver=saga, pca__n_components=5;, score=0.767 total time=   2.8s\n",
      "[CV 2/5] END LR__C=20, LR__max_iter=100, LR__multi_class=auto, LR__penalty=l2, LR__random_state=11, LR__solver=saga, pca__n_components=5;, score=0.763 total time=   2.8s\n",
      "[CV 3/5] END LR__C=20, LR__max_iter=100, LR__multi_class=auto, LR__penalty=l2, LR__random_state=11, LR__solver=saga, pca__n_components=5;, score=0.768 total time=   2.8s\n",
      "[CV 4/5] END LR__C=20, LR__max_iter=100, LR__multi_class=auto, LR__penalty=l2, LR__random_state=11, LR__solver=saga, pca__n_components=5;, score=0.771 total time=   2.8s\n",
      "[CV 5/5] END LR__C=20, LR__max_iter=100, LR__multi_class=auto, LR__penalty=l2, LR__random_state=11, LR__solver=saga, pca__n_components=5;, score=0.770 total time=   2.8s\n",
      "[CV 1/5] END LR__C=20, LR__max_iter=100, LR__multi_class=auto, LR__penalty=l2, LR__random_state=11, LR__solver=saga, pca__n_components=10;, score=0.781 total time=   9.6s\n",
      "[CV 2/5] END LR__C=20, LR__max_iter=100, LR__multi_class=auto, LR__penalty=l2, LR__random_state=11, LR__solver=saga, pca__n_components=10;, score=0.784 total time=   7.3s\n",
      "[CV 3/5] END LR__C=20, LR__max_iter=100, LR__multi_class=auto, LR__penalty=l2, LR__random_state=11, LR__solver=saga, pca__n_components=10;, score=0.782 total time=   8.2s\n",
      "[CV 4/5] END LR__C=20, LR__max_iter=100, LR__multi_class=auto, LR__penalty=l2, LR__random_state=11, LR__solver=saga, pca__n_components=10;, score=0.782 total time=   6.8s\n",
      "[CV 5/5] END LR__C=20, LR__max_iter=100, LR__multi_class=auto, LR__penalty=l2, LR__random_state=11, LR__solver=saga, pca__n_components=10;, score=0.785 total time=   7.6s\n"
     ]
    },
    {
     "name": "stderr",
     "output_type": "stream",
     "text": [
      "/home/hybrid/.local/lib/python3.8/site-packages/sklearn/linear_model/_sag.py:350: ConvergenceWarning: The max_iter was reached which means the coef_ did not converge\n",
      "  warnings.warn(\n"
     ]
    },
    {
     "name": "stdout",
     "output_type": "stream",
     "text": [
      "[CV 1/5] END LR__C=20, LR__max_iter=100, LR__multi_class=auto, LR__penalty=l2, LR__random_state=11, LR__solver=saga, pca__n_components=20;, score=0.831 total time=  22.8s\n"
     ]
    },
    {
     "name": "stderr",
     "output_type": "stream",
     "text": [
      "/home/hybrid/.local/lib/python3.8/site-packages/sklearn/linear_model/_sag.py:350: ConvergenceWarning: The max_iter was reached which means the coef_ did not converge\n",
      "  warnings.warn(\n"
     ]
    },
    {
     "name": "stdout",
     "output_type": "stream",
     "text": [
      "[CV 2/5] END LR__C=20, LR__max_iter=100, LR__multi_class=auto, LR__penalty=l2, LR__random_state=11, LR__solver=saga, pca__n_components=20;, score=0.837 total time=  22.7s\n"
     ]
    },
    {
     "name": "stderr",
     "output_type": "stream",
     "text": [
      "/home/hybrid/.local/lib/python3.8/site-packages/sklearn/linear_model/_sag.py:350: ConvergenceWarning: The max_iter was reached which means the coef_ did not converge\n",
      "  warnings.warn(\n"
     ]
    },
    {
     "name": "stdout",
     "output_type": "stream",
     "text": [
      "[CV 3/5] END LR__C=20, LR__max_iter=100, LR__multi_class=auto, LR__penalty=l2, LR__random_state=11, LR__solver=saga, pca__n_components=20;, score=0.833 total time=  22.7s\n"
     ]
    },
    {
     "name": "stderr",
     "output_type": "stream",
     "text": [
      "/home/hybrid/.local/lib/python3.8/site-packages/sklearn/linear_model/_sag.py:350: ConvergenceWarning: The max_iter was reached which means the coef_ did not converge\n",
      "  warnings.warn(\n"
     ]
    },
    {
     "name": "stdout",
     "output_type": "stream",
     "text": [
      "[CV 4/5] END LR__C=20, LR__max_iter=100, LR__multi_class=auto, LR__penalty=l2, LR__random_state=11, LR__solver=saga, pca__n_components=20;, score=0.834 total time=  23.0s\n"
     ]
    },
    {
     "name": "stderr",
     "output_type": "stream",
     "text": [
      "/home/hybrid/.local/lib/python3.8/site-packages/sklearn/linear_model/_sag.py:350: ConvergenceWarning: The max_iter was reached which means the coef_ did not converge\n",
      "  warnings.warn(\n"
     ]
    },
    {
     "name": "stdout",
     "output_type": "stream",
     "text": [
      "[CV 5/5] END LR__C=20, LR__max_iter=100, LR__multi_class=auto, LR__penalty=l2, LR__random_state=11, LR__solver=saga, pca__n_components=20;, score=0.833 total time=  22.8s\n",
      "[CV 1/5] END LR__C=20, LR__max_iter=100, LR__multi_class=auto, LR__penalty=l1, LR__random_state=11, LR__solver=saga, pca__n_components=5;, score=0.754 total time=   2.9s\n",
      "[CV 2/5] END LR__C=20, LR__max_iter=100, LR__multi_class=auto, LR__penalty=l1, LR__random_state=11, LR__solver=saga, pca__n_components=5;, score=0.763 total time=   2.8s\n",
      "[CV 3/5] END LR__C=20, LR__max_iter=100, LR__multi_class=auto, LR__penalty=l1, LR__random_state=11, LR__solver=saga, pca__n_components=5;, score=0.769 total time=   2.8s\n",
      "[CV 4/5] END LR__C=20, LR__max_iter=100, LR__multi_class=auto, LR__penalty=l1, LR__random_state=11, LR__solver=saga, pca__n_components=5;, score=0.766 total time=   3.2s\n",
      "[CV 5/5] END LR__C=20, LR__max_iter=100, LR__multi_class=auto, LR__penalty=l1, LR__random_state=11, LR__solver=saga, pca__n_components=5;, score=0.771 total time=   3.1s\n",
      "[CV 1/5] END LR__C=20, LR__max_iter=100, LR__multi_class=auto, LR__penalty=l1, LR__random_state=11, LR__solver=saga, pca__n_components=10;, score=0.782 total time=   7.5s\n",
      "[CV 2/5] END LR__C=20, LR__max_iter=100, LR__multi_class=auto, LR__penalty=l1, LR__random_state=11, LR__solver=saga, pca__n_components=10;, score=0.784 total time=   7.4s\n",
      "[CV 3/5] END LR__C=20, LR__max_iter=100, LR__multi_class=auto, LR__penalty=l1, LR__random_state=11, LR__solver=saga, pca__n_components=10;, score=0.782 total time=   8.3s\n",
      "[CV 4/5] END LR__C=20, LR__max_iter=100, LR__multi_class=auto, LR__penalty=l1, LR__random_state=11, LR__solver=saga, pca__n_components=10;, score=0.781 total time=   7.3s\n",
      "[CV 5/5] END LR__C=20, LR__max_iter=100, LR__multi_class=auto, LR__penalty=l1, LR__random_state=11, LR__solver=saga, pca__n_components=10;, score=0.782 total time=   7.6s\n"
     ]
    },
    {
     "name": "stderr",
     "output_type": "stream",
     "text": [
      "/home/hybrid/.local/lib/python3.8/site-packages/sklearn/linear_model/_sag.py:350: ConvergenceWarning: The max_iter was reached which means the coef_ did not converge\n",
      "  warnings.warn(\n"
     ]
    },
    {
     "name": "stdout",
     "output_type": "stream",
     "text": [
      "[CV 1/5] END LR__C=20, LR__max_iter=100, LR__multi_class=auto, LR__penalty=l1, LR__random_state=11, LR__solver=saga, pca__n_components=20;, score=0.833 total time=  24.9s\n"
     ]
    },
    {
     "name": "stderr",
     "output_type": "stream",
     "text": [
      "/home/hybrid/.local/lib/python3.8/site-packages/sklearn/linear_model/_sag.py:350: ConvergenceWarning: The max_iter was reached which means the coef_ did not converge\n",
      "  warnings.warn(\n"
     ]
    },
    {
     "name": "stdout",
     "output_type": "stream",
     "text": [
      "[CV 2/5] END LR__C=20, LR__max_iter=100, LR__multi_class=auto, LR__penalty=l1, LR__random_state=11, LR__solver=saga, pca__n_components=20;, score=0.836 total time=  25.0s\n"
     ]
    },
    {
     "name": "stderr",
     "output_type": "stream",
     "text": [
      "/home/hybrid/.local/lib/python3.8/site-packages/sklearn/linear_model/_sag.py:350: ConvergenceWarning: The max_iter was reached which means the coef_ did not converge\n",
      "  warnings.warn(\n"
     ]
    },
    {
     "name": "stdout",
     "output_type": "stream",
     "text": [
      "[CV 3/5] END LR__C=20, LR__max_iter=100, LR__multi_class=auto, LR__penalty=l1, LR__random_state=11, LR__solver=saga, pca__n_components=20;, score=0.837 total time=  25.8s\n"
     ]
    },
    {
     "name": "stderr",
     "output_type": "stream",
     "text": [
      "/home/hybrid/.local/lib/python3.8/site-packages/sklearn/linear_model/_sag.py:350: ConvergenceWarning: The max_iter was reached which means the coef_ did not converge\n",
      "  warnings.warn(\n"
     ]
    },
    {
     "name": "stdout",
     "output_type": "stream",
     "text": [
      "[CV 4/5] END LR__C=20, LR__max_iter=100, LR__multi_class=auto, LR__penalty=l1, LR__random_state=11, LR__solver=saga, pca__n_components=20;, score=0.836 total time=  26.0s\n"
     ]
    },
    {
     "name": "stderr",
     "output_type": "stream",
     "text": [
      "/home/hybrid/.local/lib/python3.8/site-packages/sklearn/linear_model/_sag.py:350: ConvergenceWarning: The max_iter was reached which means the coef_ did not converge\n",
      "  warnings.warn(\n"
     ]
    },
    {
     "name": "stdout",
     "output_type": "stream",
     "text": [
      "[CV 5/5] END LR__C=20, LR__max_iter=100, LR__multi_class=auto, LR__penalty=l1, LR__random_state=11, LR__solver=saga, pca__n_components=20;, score=0.835 total time=  23.6s\n",
      "[CV 1/5] END LR__C=20, LR__max_iter=200, LR__multi_class=auto, LR__penalty=l2, LR__random_state=11, LR__solver=saga, pca__n_components=5;, score=0.765 total time=   2.8s\n",
      "[CV 2/5] END LR__C=20, LR__max_iter=200, LR__multi_class=auto, LR__penalty=l2, LR__random_state=11, LR__solver=saga, pca__n_components=5;, score=0.765 total time=   2.9s\n",
      "[CV 3/5] END LR__C=20, LR__max_iter=200, LR__multi_class=auto, LR__penalty=l2, LR__random_state=11, LR__solver=saga, pca__n_components=5;, score=0.768 total time=   2.7s\n",
      "[CV 4/5] END LR__C=20, LR__max_iter=200, LR__multi_class=auto, LR__penalty=l2, LR__random_state=11, LR__solver=saga, pca__n_components=5;, score=0.767 total time=   2.7s\n",
      "[CV 5/5] END LR__C=20, LR__max_iter=200, LR__multi_class=auto, LR__penalty=l2, LR__random_state=11, LR__solver=saga, pca__n_components=5;, score=0.771 total time=   2.7s\n",
      "[CV 1/5] END LR__C=20, LR__max_iter=200, LR__multi_class=auto, LR__penalty=l2, LR__random_state=11, LR__solver=saga, pca__n_components=10;, score=0.780 total time=   7.5s\n",
      "[CV 2/5] END LR__C=20, LR__max_iter=200, LR__multi_class=auto, LR__penalty=l2, LR__random_state=11, LR__solver=saga, pca__n_components=10;, score=0.784 total time=   7.6s\n",
      "[CV 3/5] END LR__C=20, LR__max_iter=200, LR__multi_class=auto, LR__penalty=l2, LR__random_state=11, LR__solver=saga, pca__n_components=10;, score=0.785 total time=   7.5s\n",
      "[CV 4/5] END LR__C=20, LR__max_iter=200, LR__multi_class=auto, LR__penalty=l2, LR__random_state=11, LR__solver=saga, pca__n_components=10;, score=0.786 total time=   7.2s\n",
      "[CV 5/5] END LR__C=20, LR__max_iter=200, LR__multi_class=auto, LR__penalty=l2, LR__random_state=11, LR__solver=saga, pca__n_components=10;, score=0.785 total time=   7.6s\n"
     ]
    },
    {
     "name": "stderr",
     "output_type": "stream",
     "text": [
      "/home/hybrid/.local/lib/python3.8/site-packages/sklearn/linear_model/_sag.py:350: ConvergenceWarning: The max_iter was reached which means the coef_ did not converge\n",
      "  warnings.warn(\n"
     ]
    },
    {
     "name": "stdout",
     "output_type": "stream",
     "text": [
      "[CV 1/5] END LR__C=20, LR__max_iter=200, LR__multi_class=auto, LR__penalty=l2, LR__random_state=11, LR__solver=saga, pca__n_components=20;, score=0.829 total time=  26.1s\n"
     ]
    },
    {
     "name": "stderr",
     "output_type": "stream",
     "text": [
      "/home/hybrid/.local/lib/python3.8/site-packages/sklearn/linear_model/_sag.py:350: ConvergenceWarning: The max_iter was reached which means the coef_ did not converge\n",
      "  warnings.warn(\n"
     ]
    },
    {
     "name": "stdout",
     "output_type": "stream",
     "text": [
      "[CV 2/5] END LR__C=20, LR__max_iter=200, LR__multi_class=auto, LR__penalty=l2, LR__random_state=11, LR__solver=saga, pca__n_components=20;, score=0.834 total time=  26.1s\n"
     ]
    },
    {
     "name": "stderr",
     "output_type": "stream",
     "text": [
      "/home/hybrid/.local/lib/python3.8/site-packages/sklearn/linear_model/_sag.py:350: ConvergenceWarning: The max_iter was reached which means the coef_ did not converge\n",
      "  warnings.warn(\n"
     ]
    },
    {
     "name": "stdout",
     "output_type": "stream",
     "text": [
      "[CV 3/5] END LR__C=20, LR__max_iter=200, LR__multi_class=auto, LR__penalty=l2, LR__random_state=11, LR__solver=saga, pca__n_components=20;, score=0.839 total time=  26.1s\n"
     ]
    },
    {
     "name": "stderr",
     "output_type": "stream",
     "text": [
      "/home/hybrid/.local/lib/python3.8/site-packages/sklearn/linear_model/_sag.py:350: ConvergenceWarning: The max_iter was reached which means the coef_ did not converge\n",
      "  warnings.warn(\n"
     ]
    },
    {
     "name": "stdout",
     "output_type": "stream",
     "text": [
      "[CV 4/5] END LR__C=20, LR__max_iter=200, LR__multi_class=auto, LR__penalty=l2, LR__random_state=11, LR__solver=saga, pca__n_components=20;, score=0.842 total time=  26.0s\n"
     ]
    },
    {
     "name": "stderr",
     "output_type": "stream",
     "text": [
      "/home/hybrid/.local/lib/python3.8/site-packages/sklearn/linear_model/_sag.py:350: ConvergenceWarning: The max_iter was reached which means the coef_ did not converge\n",
      "  warnings.warn(\n"
     ]
    },
    {
     "name": "stdout",
     "output_type": "stream",
     "text": [
      "[CV 5/5] END LR__C=20, LR__max_iter=200, LR__multi_class=auto, LR__penalty=l2, LR__random_state=11, LR__solver=saga, pca__n_components=20;, score=0.837 total time=  26.0s\n",
      "[CV 1/5] END LR__C=20, LR__max_iter=200, LR__multi_class=auto, LR__penalty=l1, LR__random_state=11, LR__solver=saga, pca__n_components=5;, score=0.771 total time=   2.7s\n",
      "[CV 2/5] END LR__C=20, LR__max_iter=200, LR__multi_class=auto, LR__penalty=l1, LR__random_state=11, LR__solver=saga, pca__n_components=5;, score=0.763 total time=   2.7s\n",
      "[CV 3/5] END LR__C=20, LR__max_iter=200, LR__multi_class=auto, LR__penalty=l1, LR__random_state=11, LR__solver=saga, pca__n_components=5;, score=0.767 total time=   2.8s\n",
      "[CV 4/5] END LR__C=20, LR__max_iter=200, LR__multi_class=auto, LR__penalty=l1, LR__random_state=11, LR__solver=saga, pca__n_components=5;, score=0.766 total time=   2.7s\n",
      "[CV 5/5] END LR__C=20, LR__max_iter=200, LR__multi_class=auto, LR__penalty=l1, LR__random_state=11, LR__solver=saga, pca__n_components=5;, score=0.771 total time=   2.7s\n",
      "[CV 1/5] END LR__C=20, LR__max_iter=200, LR__multi_class=auto, LR__penalty=l1, LR__random_state=11, LR__solver=saga, pca__n_components=10;, score=0.779 total time=   7.8s\n",
      "[CV 2/5] END LR__C=20, LR__max_iter=200, LR__multi_class=auto, LR__penalty=l1, LR__random_state=11, LR__solver=saga, pca__n_components=10;, score=0.782 total time=   6.7s\n",
      "[CV 3/5] END LR__C=20, LR__max_iter=200, LR__multi_class=auto, LR__penalty=l1, LR__random_state=11, LR__solver=saga, pca__n_components=10;, score=0.782 total time=   7.7s\n",
      "[CV 4/5] END LR__C=20, LR__max_iter=200, LR__multi_class=auto, LR__penalty=l1, LR__random_state=11, LR__solver=saga, pca__n_components=10;, score=0.781 total time=   7.4s\n",
      "[CV 5/5] END LR__C=20, LR__max_iter=200, LR__multi_class=auto, LR__penalty=l1, LR__random_state=11, LR__solver=saga, pca__n_components=10;, score=0.787 total time=   7.7s\n"
     ]
    },
    {
     "name": "stderr",
     "output_type": "stream",
     "text": [
      "/home/hybrid/.local/lib/python3.8/site-packages/sklearn/linear_model/_sag.py:350: ConvergenceWarning: The max_iter was reached which means the coef_ did not converge\n",
      "  warnings.warn(\n"
     ]
    },
    {
     "name": "stdout",
     "output_type": "stream",
     "text": [
      "[CV 1/5] END LR__C=20, LR__max_iter=200, LR__multi_class=auto, LR__penalty=l1, LR__random_state=11, LR__solver=saga, pca__n_components=20;, score=0.834 total time=  27.3s\n"
     ]
    },
    {
     "name": "stderr",
     "output_type": "stream",
     "text": [
      "/home/hybrid/.local/lib/python3.8/site-packages/sklearn/linear_model/_sag.py:350: ConvergenceWarning: The max_iter was reached which means the coef_ did not converge\n",
      "  warnings.warn(\n"
     ]
    },
    {
     "name": "stdout",
     "output_type": "stream",
     "text": [
      "[CV 2/5] END LR__C=20, LR__max_iter=200, LR__multi_class=auto, LR__penalty=l1, LR__random_state=11, LR__solver=saga, pca__n_components=20;, score=0.838 total time=  27.5s\n"
     ]
    },
    {
     "name": "stderr",
     "output_type": "stream",
     "text": [
      "/home/hybrid/.local/lib/python3.8/site-packages/sklearn/linear_model/_sag.py:350: ConvergenceWarning: The max_iter was reached which means the coef_ did not converge\n",
      "  warnings.warn(\n"
     ]
    },
    {
     "name": "stdout",
     "output_type": "stream",
     "text": [
      "[CV 3/5] END LR__C=20, LR__max_iter=200, LR__multi_class=auto, LR__penalty=l1, LR__random_state=11, LR__solver=saga, pca__n_components=20;, score=0.837 total time=  27.3s\n"
     ]
    },
    {
     "name": "stderr",
     "output_type": "stream",
     "text": [
      "/home/hybrid/.local/lib/python3.8/site-packages/sklearn/linear_model/_sag.py:350: ConvergenceWarning: The max_iter was reached which means the coef_ did not converge\n",
      "  warnings.warn(\n"
     ]
    },
    {
     "name": "stdout",
     "output_type": "stream",
     "text": [
      "[CV 4/5] END LR__C=20, LR__max_iter=200, LR__multi_class=auto, LR__penalty=l1, LR__random_state=11, LR__solver=saga, pca__n_components=20;, score=0.839 total time=  27.5s\n"
     ]
    },
    {
     "name": "stderr",
     "output_type": "stream",
     "text": [
      "/home/hybrid/.local/lib/python3.8/site-packages/sklearn/linear_model/_sag.py:350: ConvergenceWarning: The max_iter was reached which means the coef_ did not converge\n",
      "  warnings.warn(\n"
     ]
    },
    {
     "name": "stdout",
     "output_type": "stream",
     "text": [
      "[CV 5/5] END LR__C=20, LR__max_iter=200, LR__multi_class=auto, LR__penalty=l1, LR__random_state=11, LR__solver=saga, pca__n_components=20;, score=0.839 total time=  27.3s\n",
      "[CV 1/5] END LR__C=20, LR__max_iter=500, LR__multi_class=auto, LR__penalty=l2, LR__random_state=11, LR__solver=saga, pca__n_components=5;, score=0.765 total time=   2.8s\n",
      "[CV 2/5] END LR__C=20, LR__max_iter=500, LR__multi_class=auto, LR__penalty=l2, LR__random_state=11, LR__solver=saga, pca__n_components=5;, score=0.763 total time=   2.7s\n",
      "[CV 3/5] END LR__C=20, LR__max_iter=500, LR__multi_class=auto, LR__penalty=l2, LR__random_state=11, LR__solver=saga, pca__n_components=5;, score=0.767 total time=   2.6s\n",
      "[CV 4/5] END LR__C=20, LR__max_iter=500, LR__multi_class=auto, LR__penalty=l2, LR__random_state=11, LR__solver=saga, pca__n_components=5;, score=0.767 total time=   2.7s\n",
      "[CV 5/5] END LR__C=20, LR__max_iter=500, LR__multi_class=auto, LR__penalty=l2, LR__random_state=11, LR__solver=saga, pca__n_components=5;, score=0.771 total time=   2.7s\n",
      "[CV 1/5] END LR__C=20, LR__max_iter=500, LR__multi_class=auto, LR__penalty=l2, LR__random_state=11, LR__solver=saga, pca__n_components=10;, score=0.781 total time=   7.1s\n",
      "[CV 2/5] END LR__C=20, LR__max_iter=500, LR__multi_class=auto, LR__penalty=l2, LR__random_state=11, LR__solver=saga, pca__n_components=10;, score=0.786 total time=   7.1s\n",
      "[CV 3/5] END LR__C=20, LR__max_iter=500, LR__multi_class=auto, LR__penalty=l2, LR__random_state=11, LR__solver=saga, pca__n_components=10;, score=0.783 total time=   7.8s\n",
      "[CV 4/5] END LR__C=20, LR__max_iter=500, LR__multi_class=auto, LR__penalty=l2, LR__random_state=11, LR__solver=saga, pca__n_components=10;, score=0.782 total time=   6.8s\n",
      "[CV 5/5] END LR__C=20, LR__max_iter=500, LR__multi_class=auto, LR__penalty=l2, LR__random_state=11, LR__solver=saga, pca__n_components=10;, score=0.785 total time=   7.3s\n"
     ]
    },
    {
     "name": "stderr",
     "output_type": "stream",
     "text": [
      "/home/hybrid/.local/lib/python3.8/site-packages/sklearn/linear_model/_sag.py:350: ConvergenceWarning: The max_iter was reached which means the coef_ did not converge\n",
      "  warnings.warn(\n"
     ]
    },
    {
     "name": "stdout",
     "output_type": "stream",
     "text": [
      "[CV 1/5] END LR__C=20, LR__max_iter=500, LR__multi_class=auto, LR__penalty=l2, LR__random_state=11, LR__solver=saga, pca__n_components=20;, score=0.835 total time=  35.9s\n"
     ]
    },
    {
     "name": "stderr",
     "output_type": "stream",
     "text": [
      "/home/hybrid/.local/lib/python3.8/site-packages/sklearn/linear_model/_sag.py:350: ConvergenceWarning: The max_iter was reached which means the coef_ did not converge\n",
      "  warnings.warn(\n"
     ]
    },
    {
     "name": "stdout",
     "output_type": "stream",
     "text": [
      "[CV 2/5] END LR__C=20, LR__max_iter=500, LR__multi_class=auto, LR__penalty=l2, LR__random_state=11, LR__solver=saga, pca__n_components=20;, score=0.837 total time=  35.8s\n"
     ]
    },
    {
     "name": "stderr",
     "output_type": "stream",
     "text": [
      "/home/hybrid/.local/lib/python3.8/site-packages/sklearn/linear_model/_sag.py:350: ConvergenceWarning: The max_iter was reached which means the coef_ did not converge\n",
      "  warnings.warn(\n"
     ]
    },
    {
     "name": "stdout",
     "output_type": "stream",
     "text": [
      "[CV 3/5] END LR__C=20, LR__max_iter=500, LR__multi_class=auto, LR__penalty=l2, LR__random_state=11, LR__solver=saga, pca__n_components=20;, score=0.838 total time=  35.9s\n",
      "[CV 4/5] END LR__C=20, LR__max_iter=500, LR__multi_class=auto, LR__penalty=l2, LR__random_state=11, LR__solver=saga, pca__n_components=20;, score=0.838 total time=  34.2s\n"
     ]
    },
    {
     "name": "stderr",
     "output_type": "stream",
     "text": [
      "/home/hybrid/.local/lib/python3.8/site-packages/sklearn/linear_model/_sag.py:350: ConvergenceWarning: The max_iter was reached which means the coef_ did not converge\n",
      "  warnings.warn(\n"
     ]
    },
    {
     "name": "stdout",
     "output_type": "stream",
     "text": [
      "[CV 5/5] END LR__C=20, LR__max_iter=500, LR__multi_class=auto, LR__penalty=l2, LR__random_state=11, LR__solver=saga, pca__n_components=20;, score=0.839 total time=  36.0s\n",
      "[CV 1/5] END LR__C=20, LR__max_iter=500, LR__multi_class=auto, LR__penalty=l1, LR__random_state=11, LR__solver=saga, pca__n_components=5;, score=0.766 total time=   2.9s\n",
      "[CV 2/5] END LR__C=20, LR__max_iter=500, LR__multi_class=auto, LR__penalty=l1, LR__random_state=11, LR__solver=saga, pca__n_components=5;, score=0.765 total time=   2.8s\n",
      "[CV 3/5] END LR__C=20, LR__max_iter=500, LR__multi_class=auto, LR__penalty=l1, LR__random_state=11, LR__solver=saga, pca__n_components=5;, score=0.768 total time=   2.7s\n",
      "[CV 4/5] END LR__C=20, LR__max_iter=500, LR__multi_class=auto, LR__penalty=l1, LR__random_state=11, LR__solver=saga, pca__n_components=5;, score=0.769 total time=   2.7s\n",
      "[CV 5/5] END LR__C=20, LR__max_iter=500, LR__multi_class=auto, LR__penalty=l1, LR__random_state=11, LR__solver=saga, pca__n_components=5;, score=0.770 total time=   2.8s\n",
      "[CV 1/5] END LR__C=20, LR__max_iter=500, LR__multi_class=auto, LR__penalty=l1, LR__random_state=11, LR__solver=saga, pca__n_components=10;, score=0.786 total time=   9.3s\n",
      "[CV 2/5] END LR__C=20, LR__max_iter=500, LR__multi_class=auto, LR__penalty=l1, LR__random_state=11, LR__solver=saga, pca__n_components=10;, score=0.785 total time=   6.7s\n",
      "[CV 3/5] END LR__C=20, LR__max_iter=500, LR__multi_class=auto, LR__penalty=l1, LR__random_state=11, LR__solver=saga, pca__n_components=10;, score=0.780 total time=   7.5s\n",
      "[CV 4/5] END LR__C=20, LR__max_iter=500, LR__multi_class=auto, LR__penalty=l1, LR__random_state=11, LR__solver=saga, pca__n_components=10;, score=0.782 total time=   7.7s\n",
      "[CV 5/5] END LR__C=20, LR__max_iter=500, LR__multi_class=auto, LR__penalty=l1, LR__random_state=11, LR__solver=saga, pca__n_components=10;, score=0.785 total time=   7.2s\n",
      "[CV 1/5] END LR__C=20, LR__max_iter=500, LR__multi_class=auto, LR__penalty=l1, LR__random_state=11, LR__solver=saga, pca__n_components=20;, score=0.833 total time=  32.6s\n"
     ]
    },
    {
     "name": "stderr",
     "output_type": "stream",
     "text": [
      "/home/hybrid/.local/lib/python3.8/site-packages/sklearn/linear_model/_sag.py:350: ConvergenceWarning: The max_iter was reached which means the coef_ did not converge\n",
      "  warnings.warn(\n"
     ]
    },
    {
     "name": "stdout",
     "output_type": "stream",
     "text": [
      "[CV 2/5] END LR__C=20, LR__max_iter=500, LR__multi_class=auto, LR__penalty=l1, LR__random_state=11, LR__solver=saga, pca__n_components=20;, score=0.839 total time=  39.6s\n"
     ]
    },
    {
     "name": "stderr",
     "output_type": "stream",
     "text": [
      "/home/hybrid/.local/lib/python3.8/site-packages/sklearn/linear_model/_sag.py:350: ConvergenceWarning: The max_iter was reached which means the coef_ did not converge\n",
      "  warnings.warn(\n"
     ]
    },
    {
     "name": "stdout",
     "output_type": "stream",
     "text": [
      "[CV 3/5] END LR__C=20, LR__max_iter=500, LR__multi_class=auto, LR__penalty=l1, LR__random_state=11, LR__solver=saga, pca__n_components=20;, score=0.839 total time=  39.2s\n"
     ]
    },
    {
     "name": "stderr",
     "output_type": "stream",
     "text": [
      "/home/hybrid/.local/lib/python3.8/site-packages/sklearn/linear_model/_sag.py:350: ConvergenceWarning: The max_iter was reached which means the coef_ did not converge\n",
      "  warnings.warn(\n"
     ]
    },
    {
     "name": "stdout",
     "output_type": "stream",
     "text": [
      "[CV 4/5] END LR__C=20, LR__max_iter=500, LR__multi_class=auto, LR__penalty=l1, LR__random_state=11, LR__solver=saga, pca__n_components=20;, score=0.842 total time=  39.1s\n"
     ]
    },
    {
     "name": "stderr",
     "output_type": "stream",
     "text": [
      "/home/hybrid/.local/lib/python3.8/site-packages/sklearn/linear_model/_sag.py:350: ConvergenceWarning: The max_iter was reached which means the coef_ did not converge\n",
      "  warnings.warn(\n"
     ]
    },
    {
     "name": "stdout",
     "output_type": "stream",
     "text": [
      "[CV 5/5] END LR__C=20, LR__max_iter=500, LR__multi_class=auto, LR__penalty=l1, LR__random_state=11, LR__solver=saga, pca__n_components=20;, score=0.836 total time=  38.9s\n",
      "[CV 1/5] END LR__C=50, LR__max_iter=100, LR__multi_class=auto, LR__penalty=l2, LR__random_state=11, LR__solver=saga, pca__n_components=5;, score=0.766 total time=   2.7s\n",
      "[CV 2/5] END LR__C=50, LR__max_iter=100, LR__multi_class=auto, LR__penalty=l2, LR__random_state=11, LR__solver=saga, pca__n_components=5;, score=0.768 total time=   2.7s\n",
      "[CV 3/5] END LR__C=50, LR__max_iter=100, LR__multi_class=auto, LR__penalty=l2, LR__random_state=11, LR__solver=saga, pca__n_components=5;, score=0.770 total time=   2.8s\n",
      "[CV 4/5] END LR__C=50, LR__max_iter=100, LR__multi_class=auto, LR__penalty=l2, LR__random_state=11, LR__solver=saga, pca__n_components=5;, score=0.767 total time=   2.8s\n",
      "[CV 5/5] END LR__C=50, LR__max_iter=100, LR__multi_class=auto, LR__penalty=l2, LR__random_state=11, LR__solver=saga, pca__n_components=5;, score=0.772 total time=   2.8s\n",
      "[CV 1/5] END LR__C=50, LR__max_iter=100, LR__multi_class=auto, LR__penalty=l2, LR__random_state=11, LR__solver=saga, pca__n_components=10;, score=0.779 total time=   7.7s\n",
      "[CV 2/5] END LR__C=50, LR__max_iter=100, LR__multi_class=auto, LR__penalty=l2, LR__random_state=11, LR__solver=saga, pca__n_components=10;, score=0.785 total time=   7.1s\n",
      "[CV 3/5] END LR__C=50, LR__max_iter=100, LR__multi_class=auto, LR__penalty=l2, LR__random_state=11, LR__solver=saga, pca__n_components=10;, score=0.782 total time=   7.7s\n",
      "[CV 4/5] END LR__C=50, LR__max_iter=100, LR__multi_class=auto, LR__penalty=l2, LR__random_state=11, LR__solver=saga, pca__n_components=10;, score=0.781 total time=   7.4s\n",
      "[CV 5/5] END LR__C=50, LR__max_iter=100, LR__multi_class=auto, LR__penalty=l2, LR__random_state=11, LR__solver=saga, pca__n_components=10;, score=0.785 total time=   7.6s\n"
     ]
    },
    {
     "name": "stderr",
     "output_type": "stream",
     "text": [
      "/home/hybrid/.local/lib/python3.8/site-packages/sklearn/linear_model/_sag.py:350: ConvergenceWarning: The max_iter was reached which means the coef_ did not converge\n",
      "  warnings.warn(\n"
     ]
    },
    {
     "name": "stdout",
     "output_type": "stream",
     "text": [
      "[CV 1/5] END LR__C=50, LR__max_iter=100, LR__multi_class=auto, LR__penalty=l2, LR__random_state=11, LR__solver=saga, pca__n_components=20;, score=0.831 total time=  22.7s\n"
     ]
    },
    {
     "name": "stderr",
     "output_type": "stream",
     "text": [
      "/home/hybrid/.local/lib/python3.8/site-packages/sklearn/linear_model/_sag.py:350: ConvergenceWarning: The max_iter was reached which means the coef_ did not converge\n",
      "  warnings.warn(\n"
     ]
    },
    {
     "name": "stdout",
     "output_type": "stream",
     "text": [
      "[CV 2/5] END LR__C=50, LR__max_iter=100, LR__multi_class=auto, LR__penalty=l2, LR__random_state=11, LR__solver=saga, pca__n_components=20;, score=0.837 total time=  22.6s\n"
     ]
    },
    {
     "name": "stderr",
     "output_type": "stream",
     "text": [
      "/home/hybrid/.local/lib/python3.8/site-packages/sklearn/linear_model/_sag.py:350: ConvergenceWarning: The max_iter was reached which means the coef_ did not converge\n",
      "  warnings.warn(\n"
     ]
    },
    {
     "name": "stdout",
     "output_type": "stream",
     "text": [
      "[CV 3/5] END LR__C=50, LR__max_iter=100, LR__multi_class=auto, LR__penalty=l2, LR__random_state=11, LR__solver=saga, pca__n_components=20;, score=0.839 total time=  22.6s\n"
     ]
    },
    {
     "name": "stderr",
     "output_type": "stream",
     "text": [
      "/home/hybrid/.local/lib/python3.8/site-packages/sklearn/linear_model/_sag.py:350: ConvergenceWarning: The max_iter was reached which means the coef_ did not converge\n",
      "  warnings.warn(\n"
     ]
    },
    {
     "name": "stdout",
     "output_type": "stream",
     "text": [
      "[CV 4/5] END LR__C=50, LR__max_iter=100, LR__multi_class=auto, LR__penalty=l2, LR__random_state=11, LR__solver=saga, pca__n_components=20;, score=0.836 total time=  22.7s\n"
     ]
    },
    {
     "name": "stderr",
     "output_type": "stream",
     "text": [
      "/home/hybrid/.local/lib/python3.8/site-packages/sklearn/linear_model/_sag.py:350: ConvergenceWarning: The max_iter was reached which means the coef_ did not converge\n",
      "  warnings.warn(\n"
     ]
    },
    {
     "name": "stdout",
     "output_type": "stream",
     "text": [
      "[CV 5/5] END LR__C=50, LR__max_iter=100, LR__multi_class=auto, LR__penalty=l2, LR__random_state=11, LR__solver=saga, pca__n_components=20;, score=0.832 total time=  22.7s\n",
      "[CV 1/5] END LR__C=50, LR__max_iter=100, LR__multi_class=auto, LR__penalty=l1, LR__random_state=11, LR__solver=saga, pca__n_components=5;, score=0.764 total time=   2.7s\n",
      "[CV 2/5] END LR__C=50, LR__max_iter=100, LR__multi_class=auto, LR__penalty=l1, LR__random_state=11, LR__solver=saga, pca__n_components=5;, score=0.763 total time=   2.7s\n",
      "[CV 3/5] END LR__C=50, LR__max_iter=100, LR__multi_class=auto, LR__penalty=l1, LR__random_state=11, LR__solver=saga, pca__n_components=5;, score=0.769 total time=   2.7s\n",
      "[CV 4/5] END LR__C=50, LR__max_iter=100, LR__multi_class=auto, LR__penalty=l1, LR__random_state=11, LR__solver=saga, pca__n_components=5;, score=0.767 total time=   2.7s\n",
      "[CV 5/5] END LR__C=50, LR__max_iter=100, LR__multi_class=auto, LR__penalty=l1, LR__random_state=11, LR__solver=saga, pca__n_components=5;, score=0.773 total time=   2.8s\n",
      "[CV 1/5] END LR__C=50, LR__max_iter=100, LR__multi_class=auto, LR__penalty=l1, LR__random_state=11, LR__solver=saga, pca__n_components=10;, score=0.780 total time=   7.5s\n",
      "[CV 2/5] END LR__C=50, LR__max_iter=100, LR__multi_class=auto, LR__penalty=l1, LR__random_state=11, LR__solver=saga, pca__n_components=10;, score=0.785 total time=   7.0s\n",
      "[CV 3/5] END LR__C=50, LR__max_iter=100, LR__multi_class=auto, LR__penalty=l1, LR__random_state=11, LR__solver=saga, pca__n_components=10;, score=0.782 total time=   7.8s\n",
      "[CV 4/5] END LR__C=50, LR__max_iter=100, LR__multi_class=auto, LR__penalty=l1, LR__random_state=11, LR__solver=saga, pca__n_components=10;, score=0.783 total time=   7.1s\n",
      "[CV 5/5] END LR__C=50, LR__max_iter=100, LR__multi_class=auto, LR__penalty=l1, LR__random_state=11, LR__solver=saga, pca__n_components=10;, score=0.784 total time=   8.0s\n"
     ]
    },
    {
     "name": "stderr",
     "output_type": "stream",
     "text": [
      "/home/hybrid/.local/lib/python3.8/site-packages/sklearn/linear_model/_sag.py:350: ConvergenceWarning: The max_iter was reached which means the coef_ did not converge\n",
      "  warnings.warn(\n"
     ]
    },
    {
     "name": "stdout",
     "output_type": "stream",
     "text": [
      "[CV 1/5] END LR__C=50, LR__max_iter=100, LR__multi_class=auto, LR__penalty=l1, LR__random_state=11, LR__solver=saga, pca__n_components=20;, score=0.833 total time=  23.3s\n"
     ]
    },
    {
     "name": "stderr",
     "output_type": "stream",
     "text": [
      "/home/hybrid/.local/lib/python3.8/site-packages/sklearn/linear_model/_sag.py:350: ConvergenceWarning: The max_iter was reached which means the coef_ did not converge\n",
      "  warnings.warn(\n"
     ]
    },
    {
     "name": "stdout",
     "output_type": "stream",
     "text": [
      "[CV 2/5] END LR__C=50, LR__max_iter=100, LR__multi_class=auto, LR__penalty=l1, LR__random_state=11, LR__solver=saga, pca__n_components=20;, score=0.836 total time=  23.3s\n"
     ]
    },
    {
     "name": "stderr",
     "output_type": "stream",
     "text": [
      "/home/hybrid/.local/lib/python3.8/site-packages/sklearn/linear_model/_sag.py:350: ConvergenceWarning: The max_iter was reached which means the coef_ did not converge\n",
      "  warnings.warn(\n"
     ]
    },
    {
     "name": "stdout",
     "output_type": "stream",
     "text": [
      "[CV 3/5] END LR__C=50, LR__max_iter=100, LR__multi_class=auto, LR__penalty=l1, LR__random_state=11, LR__solver=saga, pca__n_components=20;, score=0.835 total time=  23.6s\n"
     ]
    },
    {
     "name": "stderr",
     "output_type": "stream",
     "text": [
      "/home/hybrid/.local/lib/python3.8/site-packages/sklearn/linear_model/_sag.py:350: ConvergenceWarning: The max_iter was reached which means the coef_ did not converge\n",
      "  warnings.warn(\n"
     ]
    },
    {
     "name": "stdout",
     "output_type": "stream",
     "text": [
      "[CV 4/5] END LR__C=50, LR__max_iter=100, LR__multi_class=auto, LR__penalty=l1, LR__random_state=11, LR__solver=saga, pca__n_components=20;, score=0.829 total time=  23.4s\n"
     ]
    },
    {
     "name": "stderr",
     "output_type": "stream",
     "text": [
      "/home/hybrid/.local/lib/python3.8/site-packages/sklearn/linear_model/_sag.py:350: ConvergenceWarning: The max_iter was reached which means the coef_ did not converge\n",
      "  warnings.warn(\n"
     ]
    },
    {
     "name": "stdout",
     "output_type": "stream",
     "text": [
      "[CV 5/5] END LR__C=50, LR__max_iter=100, LR__multi_class=auto, LR__penalty=l1, LR__random_state=11, LR__solver=saga, pca__n_components=20;, score=0.836 total time=  23.4s\n",
      "[CV 1/5] END LR__C=50, LR__max_iter=200, LR__multi_class=auto, LR__penalty=l2, LR__random_state=11, LR__solver=saga, pca__n_components=5;, score=0.763 total time=   2.9s\n",
      "[CV 2/5] END LR__C=50, LR__max_iter=200, LR__multi_class=auto, LR__penalty=l2, LR__random_state=11, LR__solver=saga, pca__n_components=5;, score=0.762 total time=   2.8s\n",
      "[CV 3/5] END LR__C=50, LR__max_iter=200, LR__multi_class=auto, LR__penalty=l2, LR__random_state=11, LR__solver=saga, pca__n_components=5;, score=0.768 total time=   2.8s\n",
      "[CV 4/5] END LR__C=50, LR__max_iter=200, LR__multi_class=auto, LR__penalty=l2, LR__random_state=11, LR__solver=saga, pca__n_components=5;, score=0.769 total time=   2.7s\n",
      "[CV 5/5] END LR__C=50, LR__max_iter=200, LR__multi_class=auto, LR__penalty=l2, LR__random_state=11, LR__solver=saga, pca__n_components=5;, score=0.769 total time=   2.7s\n",
      "[CV 1/5] END LR__C=50, LR__max_iter=200, LR__multi_class=auto, LR__penalty=l2, LR__random_state=11, LR__solver=saga, pca__n_components=10;, score=0.784 total time=   8.6s\n",
      "[CV 2/5] END LR__C=50, LR__max_iter=200, LR__multi_class=auto, LR__penalty=l2, LR__random_state=11, LR__solver=saga, pca__n_components=10;, score=0.787 total time=   7.3s\n",
      "[CV 3/5] END LR__C=50, LR__max_iter=200, LR__multi_class=auto, LR__penalty=l2, LR__random_state=11, LR__solver=saga, pca__n_components=10;, score=0.783 total time=   8.1s\n",
      "[CV 4/5] END LR__C=50, LR__max_iter=200, LR__multi_class=auto, LR__penalty=l2, LR__random_state=11, LR__solver=saga, pca__n_components=10;, score=0.783 total time=   7.0s\n",
      "[CV 5/5] END LR__C=50, LR__max_iter=200, LR__multi_class=auto, LR__penalty=l2, LR__random_state=11, LR__solver=saga, pca__n_components=10;, score=0.786 total time=   8.1s\n"
     ]
    },
    {
     "name": "stderr",
     "output_type": "stream",
     "text": [
      "/home/hybrid/.local/lib/python3.8/site-packages/sklearn/linear_model/_sag.py:350: ConvergenceWarning: The max_iter was reached which means the coef_ did not converge\n",
      "  warnings.warn(\n"
     ]
    },
    {
     "name": "stdout",
     "output_type": "stream",
     "text": [
      "[CV 1/5] END LR__C=50, LR__max_iter=200, LR__multi_class=auto, LR__penalty=l2, LR__random_state=11, LR__solver=saga, pca__n_components=20;, score=0.835 total time=  26.0s\n"
     ]
    },
    {
     "name": "stderr",
     "output_type": "stream",
     "text": [
      "/home/hybrid/.local/lib/python3.8/site-packages/sklearn/linear_model/_sag.py:350: ConvergenceWarning: The max_iter was reached which means the coef_ did not converge\n",
      "  warnings.warn(\n"
     ]
    },
    {
     "name": "stdout",
     "output_type": "stream",
     "text": [
      "[CV 2/5] END LR__C=50, LR__max_iter=200, LR__multi_class=auto, LR__penalty=l2, LR__random_state=11, LR__solver=saga, pca__n_components=20;, score=0.838 total time=  26.0s\n"
     ]
    },
    {
     "name": "stderr",
     "output_type": "stream",
     "text": [
      "/home/hybrid/.local/lib/python3.8/site-packages/sklearn/linear_model/_sag.py:350: ConvergenceWarning: The max_iter was reached which means the coef_ did not converge\n",
      "  warnings.warn(\n"
     ]
    },
    {
     "name": "stdout",
     "output_type": "stream",
     "text": [
      "[CV 3/5] END LR__C=50, LR__max_iter=200, LR__multi_class=auto, LR__penalty=l2, LR__random_state=11, LR__solver=saga, pca__n_components=20;, score=0.837 total time=  26.0s\n"
     ]
    },
    {
     "name": "stderr",
     "output_type": "stream",
     "text": [
      "/home/hybrid/.local/lib/python3.8/site-packages/sklearn/linear_model/_sag.py:350: ConvergenceWarning: The max_iter was reached which means the coef_ did not converge\n",
      "  warnings.warn(\n"
     ]
    },
    {
     "name": "stdout",
     "output_type": "stream",
     "text": [
      "[CV 4/5] END LR__C=50, LR__max_iter=200, LR__multi_class=auto, LR__penalty=l2, LR__random_state=11, LR__solver=saga, pca__n_components=20;, score=0.840 total time=  26.0s\n"
     ]
    },
    {
     "name": "stderr",
     "output_type": "stream",
     "text": [
      "/home/hybrid/.local/lib/python3.8/site-packages/sklearn/linear_model/_sag.py:350: ConvergenceWarning: The max_iter was reached which means the coef_ did not converge\n",
      "  warnings.warn(\n"
     ]
    },
    {
     "name": "stdout",
     "output_type": "stream",
     "text": [
      "[CV 5/5] END LR__C=50, LR__max_iter=200, LR__multi_class=auto, LR__penalty=l2, LR__random_state=11, LR__solver=saga, pca__n_components=20;, score=0.833 total time=  26.3s\n",
      "[CV 1/5] END LR__C=50, LR__max_iter=200, LR__multi_class=auto, LR__penalty=l1, LR__random_state=11, LR__solver=saga, pca__n_components=5;, score=0.767 total time=   2.8s\n",
      "[CV 2/5] END LR__C=50, LR__max_iter=200, LR__multi_class=auto, LR__penalty=l1, LR__random_state=11, LR__solver=saga, pca__n_components=5;, score=0.765 total time=   2.9s\n",
      "[CV 3/5] END LR__C=50, LR__max_iter=200, LR__multi_class=auto, LR__penalty=l1, LR__random_state=11, LR__solver=saga, pca__n_components=5;, score=0.767 total time=   2.8s\n",
      "[CV 4/5] END LR__C=50, LR__max_iter=200, LR__multi_class=auto, LR__penalty=l1, LR__random_state=11, LR__solver=saga, pca__n_components=5;, score=0.769 total time=   2.7s\n",
      "[CV 5/5] END LR__C=50, LR__max_iter=200, LR__multi_class=auto, LR__penalty=l1, LR__random_state=11, LR__solver=saga, pca__n_components=5;, score=0.769 total time=   2.8s\n",
      "[CV 1/5] END LR__C=50, LR__max_iter=200, LR__multi_class=auto, LR__penalty=l1, LR__random_state=11, LR__solver=saga, pca__n_components=10;, score=0.779 total time=   7.0s\n",
      "[CV 2/5] END LR__C=50, LR__max_iter=200, LR__multi_class=auto, LR__penalty=l1, LR__random_state=11, LR__solver=saga, pca__n_components=10;, score=0.784 total time=   7.4s\n",
      "[CV 3/5] END LR__C=50, LR__max_iter=200, LR__multi_class=auto, LR__penalty=l1, LR__random_state=11, LR__solver=saga, pca__n_components=10;, score=0.782 total time=   9.5s\n",
      "[CV 4/5] END LR__C=50, LR__max_iter=200, LR__multi_class=auto, LR__penalty=l1, LR__random_state=11, LR__solver=saga, pca__n_components=10;, score=0.787 total time=   7.2s\n",
      "[CV 5/5] END LR__C=50, LR__max_iter=200, LR__multi_class=auto, LR__penalty=l1, LR__random_state=11, LR__solver=saga, pca__n_components=10;, score=0.788 total time=   7.6s\n"
     ]
    },
    {
     "name": "stderr",
     "output_type": "stream",
     "text": [
      "/home/hybrid/.local/lib/python3.8/site-packages/sklearn/linear_model/_sag.py:350: ConvergenceWarning: The max_iter was reached which means the coef_ did not converge\n",
      "  warnings.warn(\n"
     ]
    },
    {
     "name": "stdout",
     "output_type": "stream",
     "text": [
      "[CV 1/5] END LR__C=50, LR__max_iter=200, LR__multi_class=auto, LR__penalty=l1, LR__random_state=11, LR__solver=saga, pca__n_components=20;, score=0.838 total time=  27.4s\n"
     ]
    },
    {
     "name": "stderr",
     "output_type": "stream",
     "text": [
      "/home/hybrid/.local/lib/python3.8/site-packages/sklearn/linear_model/_sag.py:350: ConvergenceWarning: The max_iter was reached which means the coef_ did not converge\n",
      "  warnings.warn(\n"
     ]
    },
    {
     "name": "stdout",
     "output_type": "stream",
     "text": [
      "[CV 2/5] END LR__C=50, LR__max_iter=200, LR__multi_class=auto, LR__penalty=l1, LR__random_state=11, LR__solver=saga, pca__n_components=20;, score=0.837 total time=  27.5s\n"
     ]
    },
    {
     "name": "stderr",
     "output_type": "stream",
     "text": [
      "/home/hybrid/.local/lib/python3.8/site-packages/sklearn/linear_model/_sag.py:350: ConvergenceWarning: The max_iter was reached which means the coef_ did not converge\n",
      "  warnings.warn(\n"
     ]
    },
    {
     "name": "stdout",
     "output_type": "stream",
     "text": [
      "[CV 3/5] END LR__C=50, LR__max_iter=200, LR__multi_class=auto, LR__penalty=l1, LR__random_state=11, LR__solver=saga, pca__n_components=20;, score=0.839 total time=  27.5s\n"
     ]
    },
    {
     "name": "stderr",
     "output_type": "stream",
     "text": [
      "/home/hybrid/.local/lib/python3.8/site-packages/sklearn/linear_model/_sag.py:350: ConvergenceWarning: The max_iter was reached which means the coef_ did not converge\n",
      "  warnings.warn(\n"
     ]
    },
    {
     "name": "stdout",
     "output_type": "stream",
     "text": [
      "[CV 4/5] END LR__C=50, LR__max_iter=200, LR__multi_class=auto, LR__penalty=l1, LR__random_state=11, LR__solver=saga, pca__n_components=20;, score=0.835 total time=  27.4s\n"
     ]
    },
    {
     "name": "stderr",
     "output_type": "stream",
     "text": [
      "/home/hybrid/.local/lib/python3.8/site-packages/sklearn/linear_model/_sag.py:350: ConvergenceWarning: The max_iter was reached which means the coef_ did not converge\n",
      "  warnings.warn(\n"
     ]
    },
    {
     "name": "stdout",
     "output_type": "stream",
     "text": [
      "[CV 5/5] END LR__C=50, LR__max_iter=200, LR__multi_class=auto, LR__penalty=l1, LR__random_state=11, LR__solver=saga, pca__n_components=20;, score=0.839 total time=  27.5s\n",
      "[CV 1/5] END LR__C=50, LR__max_iter=500, LR__multi_class=auto, LR__penalty=l2, LR__random_state=11, LR__solver=saga, pca__n_components=5;, score=0.766 total time=   2.8s\n",
      "[CV 2/5] END LR__C=50, LR__max_iter=500, LR__multi_class=auto, LR__penalty=l2, LR__random_state=11, LR__solver=saga, pca__n_components=5;, score=0.764 total time=   2.7s\n",
      "[CV 3/5] END LR__C=50, LR__max_iter=500, LR__multi_class=auto, LR__penalty=l2, LR__random_state=11, LR__solver=saga, pca__n_components=5;, score=0.768 total time=   2.6s\n",
      "[CV 4/5] END LR__C=50, LR__max_iter=500, LR__multi_class=auto, LR__penalty=l2, LR__random_state=11, LR__solver=saga, pca__n_components=5;, score=0.767 total time=   2.7s\n",
      "[CV 5/5] END LR__C=50, LR__max_iter=500, LR__multi_class=auto, LR__penalty=l2, LR__random_state=11, LR__solver=saga, pca__n_components=5;, score=0.769 total time=   2.8s\n",
      "[CV 1/5] END LR__C=50, LR__max_iter=500, LR__multi_class=auto, LR__penalty=l2, LR__random_state=11, LR__solver=saga, pca__n_components=10;, score=0.779 total time=   7.3s\n",
      "[CV 2/5] END LR__C=50, LR__max_iter=500, LR__multi_class=auto, LR__penalty=l2, LR__random_state=11, LR__solver=saga, pca__n_components=10;, score=0.789 total time=  10.6s\n",
      "[CV 3/5] END LR__C=50, LR__max_iter=500, LR__multi_class=auto, LR__penalty=l2, LR__random_state=11, LR__solver=saga, pca__n_components=10;, score=0.781 total time=   7.8s\n",
      "[CV 4/5] END LR__C=50, LR__max_iter=500, LR__multi_class=auto, LR__penalty=l2, LR__random_state=11, LR__solver=saga, pca__n_components=10;, score=0.786 total time=   7.0s\n",
      "[CV 5/5] END LR__C=50, LR__max_iter=500, LR__multi_class=auto, LR__penalty=l2, LR__random_state=11, LR__solver=saga, pca__n_components=10;, score=0.785 total time=   7.6s\n"
     ]
    },
    {
     "name": "stderr",
     "output_type": "stream",
     "text": [
      "/home/hybrid/.local/lib/python3.8/site-packages/sklearn/linear_model/_sag.py:350: ConvergenceWarning: The max_iter was reached which means the coef_ did not converge\n",
      "  warnings.warn(\n"
     ]
    },
    {
     "name": "stdout",
     "output_type": "stream",
     "text": [
      "[CV 1/5] END LR__C=50, LR__max_iter=500, LR__multi_class=auto, LR__penalty=l2, LR__random_state=11, LR__solver=saga, pca__n_components=20;, score=0.833 total time=  36.0s\n"
     ]
    },
    {
     "name": "stderr",
     "output_type": "stream",
     "text": [
      "/home/hybrid/.local/lib/python3.8/site-packages/sklearn/linear_model/_sag.py:350: ConvergenceWarning: The max_iter was reached which means the coef_ did not converge\n",
      "  warnings.warn(\n"
     ]
    },
    {
     "name": "stdout",
     "output_type": "stream",
     "text": [
      "[CV 2/5] END LR__C=50, LR__max_iter=500, LR__multi_class=auto, LR__penalty=l2, LR__random_state=11, LR__solver=saga, pca__n_components=20;, score=0.837 total time=  36.0s\n"
     ]
    },
    {
     "name": "stderr",
     "output_type": "stream",
     "text": [
      "/home/hybrid/.local/lib/python3.8/site-packages/sklearn/linear_model/_sag.py:350: ConvergenceWarning: The max_iter was reached which means the coef_ did not converge\n",
      "  warnings.warn(\n"
     ]
    },
    {
     "name": "stdout",
     "output_type": "stream",
     "text": [
      "[CV 3/5] END LR__C=50, LR__max_iter=500, LR__multi_class=auto, LR__penalty=l2, LR__random_state=11, LR__solver=saga, pca__n_components=20;, score=0.836 total time=  36.1s\n"
     ]
    },
    {
     "name": "stderr",
     "output_type": "stream",
     "text": [
      "/home/hybrid/.local/lib/python3.8/site-packages/sklearn/linear_model/_sag.py:350: ConvergenceWarning: The max_iter was reached which means the coef_ did not converge\n",
      "  warnings.warn(\n"
     ]
    },
    {
     "name": "stdout",
     "output_type": "stream",
     "text": [
      "[CV 4/5] END LR__C=50, LR__max_iter=500, LR__multi_class=auto, LR__penalty=l2, LR__random_state=11, LR__solver=saga, pca__n_components=20;, score=0.837 total time=  36.1s\n"
     ]
    },
    {
     "name": "stderr",
     "output_type": "stream",
     "text": [
      "/home/hybrid/.local/lib/python3.8/site-packages/sklearn/linear_model/_sag.py:350: ConvergenceWarning: The max_iter was reached which means the coef_ did not converge\n",
      "  warnings.warn(\n"
     ]
    },
    {
     "name": "stdout",
     "output_type": "stream",
     "text": [
      "[CV 5/5] END LR__C=50, LR__max_iter=500, LR__multi_class=auto, LR__penalty=l2, LR__random_state=11, LR__solver=saga, pca__n_components=20;, score=0.840 total time=  36.0s\n",
      "[CV 1/5] END LR__C=50, LR__max_iter=500, LR__multi_class=auto, LR__penalty=l1, LR__random_state=11, LR__solver=saga, pca__n_components=5;, score=0.766 total time=   2.8s\n",
      "[CV 2/5] END LR__C=50, LR__max_iter=500, LR__multi_class=auto, LR__penalty=l1, LR__random_state=11, LR__solver=saga, pca__n_components=5;, score=0.765 total time=   2.7s\n",
      "[CV 3/5] END LR__C=50, LR__max_iter=500, LR__multi_class=auto, LR__penalty=l1, LR__random_state=11, LR__solver=saga, pca__n_components=5;, score=0.772 total time=   2.8s\n",
      "[CV 4/5] END LR__C=50, LR__max_iter=500, LR__multi_class=auto, LR__penalty=l1, LR__random_state=11, LR__solver=saga, pca__n_components=5;, score=0.765 total time=   2.8s\n",
      "[CV 5/5] END LR__C=50, LR__max_iter=500, LR__multi_class=auto, LR__penalty=l1, LR__random_state=11, LR__solver=saga, pca__n_components=5;, score=0.771 total time=   2.8s\n",
      "[CV 1/5] END LR__C=50, LR__max_iter=500, LR__multi_class=auto, LR__penalty=l1, LR__random_state=11, LR__solver=saga, pca__n_components=10;, score=0.779 total time=   7.1s\n",
      "[CV 2/5] END LR__C=50, LR__max_iter=500, LR__multi_class=auto, LR__penalty=l1, LR__random_state=11, LR__solver=saga, pca__n_components=10;, score=0.781 total time=   7.6s\n",
      "[CV 3/5] END LR__C=50, LR__max_iter=500, LR__multi_class=auto, LR__penalty=l1, LR__random_state=11, LR__solver=saga, pca__n_components=10;, score=0.782 total time=   7.4s\n",
      "[CV 4/5] END LR__C=50, LR__max_iter=500, LR__multi_class=auto, LR__penalty=l1, LR__random_state=11, LR__solver=saga, pca__n_components=10;, score=0.782 total time=   7.2s\n",
      "[CV 5/5] END LR__C=50, LR__max_iter=500, LR__multi_class=auto, LR__penalty=l1, LR__random_state=11, LR__solver=saga, pca__n_components=10;, score=0.784 total time=   8.0s\n",
      "[CV 1/5] END LR__C=50, LR__max_iter=500, LR__multi_class=auto, LR__penalty=l1, LR__random_state=11, LR__solver=saga, pca__n_components=20;, score=0.836 total time=  39.2s\n"
     ]
    },
    {
     "name": "stderr",
     "output_type": "stream",
     "text": [
      "/home/hybrid/.local/lib/python3.8/site-packages/sklearn/linear_model/_sag.py:350: ConvergenceWarning: The max_iter was reached which means the coef_ did not converge\n",
      "  warnings.warn(\n"
     ]
    },
    {
     "name": "stdout",
     "output_type": "stream",
     "text": [
      "[CV 2/5] END LR__C=50, LR__max_iter=500, LR__multi_class=auto, LR__penalty=l1, LR__random_state=11, LR__solver=saga, pca__n_components=20;, score=0.838 total time=  39.0s\n"
     ]
    },
    {
     "name": "stderr",
     "output_type": "stream",
     "text": [
      "/home/hybrid/.local/lib/python3.8/site-packages/sklearn/linear_model/_sag.py:350: ConvergenceWarning: The max_iter was reached which means the coef_ did not converge\n",
      "  warnings.warn(\n"
     ]
    },
    {
     "name": "stdout",
     "output_type": "stream",
     "text": [
      "[CV 3/5] END LR__C=50, LR__max_iter=500, LR__multi_class=auto, LR__penalty=l1, LR__random_state=11, LR__solver=saga, pca__n_components=20;, score=0.839 total time=  39.1s\n",
      "[CV 4/5] END LR__C=50, LR__max_iter=500, LR__multi_class=auto, LR__penalty=l1, LR__random_state=11, LR__solver=saga, pca__n_components=20;, score=0.835 total time=  37.5s\n",
      "[CV 5/5] END LR__C=50, LR__max_iter=500, LR__multi_class=auto, LR__penalty=l1, LR__random_state=11, LR__solver=saga, pca__n_components=20;, score=0.839 total time=  35.2s\n",
      "[CV 1/5] END LR__C=70, LR__max_iter=100, LR__multi_class=auto, LR__penalty=l2, LR__random_state=11, LR__solver=saga, pca__n_components=5;, score=0.764 total time=   2.8s\n",
      "[CV 2/5] END LR__C=70, LR__max_iter=100, LR__multi_class=auto, LR__penalty=l2, LR__random_state=11, LR__solver=saga, pca__n_components=5;, score=0.762 total time=   2.8s\n",
      "[CV 3/5] END LR__C=70, LR__max_iter=100, LR__multi_class=auto, LR__penalty=l2, LR__random_state=11, LR__solver=saga, pca__n_components=5;, score=0.768 total time=   2.7s\n",
      "[CV 4/5] END LR__C=70, LR__max_iter=100, LR__multi_class=auto, LR__penalty=l2, LR__random_state=11, LR__solver=saga, pca__n_components=5;, score=0.764 total time=   2.9s\n",
      "[CV 5/5] END LR__C=70, LR__max_iter=100, LR__multi_class=auto, LR__penalty=l2, LR__random_state=11, LR__solver=saga, pca__n_components=5;, score=0.772 total time=   2.8s\n"
     ]
    },
    {
     "name": "stderr",
     "output_type": "stream",
     "text": [
      "/home/hybrid/.local/lib/python3.8/site-packages/sklearn/linear_model/_sag.py:350: ConvergenceWarning: The max_iter was reached which means the coef_ did not converge\n",
      "  warnings.warn(\n"
     ]
    },
    {
     "name": "stdout",
     "output_type": "stream",
     "text": [
      "[CV 1/5] END LR__C=70, LR__max_iter=100, LR__multi_class=auto, LR__penalty=l2, LR__random_state=11, LR__solver=saga, pca__n_components=10;, score=0.777 total time=   9.6s\n",
      "[CV 2/5] END LR__C=70, LR__max_iter=100, LR__multi_class=auto, LR__penalty=l2, LR__random_state=11, LR__solver=saga, pca__n_components=10;, score=0.782 total time=   8.9s\n",
      "[CV 3/5] END LR__C=70, LR__max_iter=100, LR__multi_class=auto, LR__penalty=l2, LR__random_state=11, LR__solver=saga, pca__n_components=10;, score=0.782 total time=   7.5s\n",
      "[CV 4/5] END LR__C=70, LR__max_iter=100, LR__multi_class=auto, LR__penalty=l2, LR__random_state=11, LR__solver=saga, pca__n_components=10;, score=0.787 total time=   6.5s\n",
      "[CV 5/5] END LR__C=70, LR__max_iter=100, LR__multi_class=auto, LR__penalty=l2, LR__random_state=11, LR__solver=saga, pca__n_components=10;, score=0.788 total time=   7.3s\n"
     ]
    },
    {
     "name": "stderr",
     "output_type": "stream",
     "text": [
      "/home/hybrid/.local/lib/python3.8/site-packages/sklearn/linear_model/_sag.py:350: ConvergenceWarning: The max_iter was reached which means the coef_ did not converge\n",
      "  warnings.warn(\n"
     ]
    },
    {
     "name": "stdout",
     "output_type": "stream",
     "text": [
      "[CV 1/5] END LR__C=70, LR__max_iter=100, LR__multi_class=auto, LR__penalty=l2, LR__random_state=11, LR__solver=saga, pca__n_components=20;, score=0.830 total time=  22.7s\n"
     ]
    },
    {
     "name": "stderr",
     "output_type": "stream",
     "text": [
      "/home/hybrid/.local/lib/python3.8/site-packages/sklearn/linear_model/_sag.py:350: ConvergenceWarning: The max_iter was reached which means the coef_ did not converge\n",
      "  warnings.warn(\n"
     ]
    },
    {
     "name": "stdout",
     "output_type": "stream",
     "text": [
      "[CV 2/5] END LR__C=70, LR__max_iter=100, LR__multi_class=auto, LR__penalty=l2, LR__random_state=11, LR__solver=saga, pca__n_components=20;, score=0.838 total time=  22.7s\n"
     ]
    },
    {
     "name": "stderr",
     "output_type": "stream",
     "text": [
      "/home/hybrid/.local/lib/python3.8/site-packages/sklearn/linear_model/_sag.py:350: ConvergenceWarning: The max_iter was reached which means the coef_ did not converge\n",
      "  warnings.warn(\n"
     ]
    },
    {
     "name": "stdout",
     "output_type": "stream",
     "text": [
      "[CV 3/5] END LR__C=70, LR__max_iter=100, LR__multi_class=auto, LR__penalty=l2, LR__random_state=11, LR__solver=saga, pca__n_components=20;, score=0.837 total time=  22.8s\n"
     ]
    },
    {
     "name": "stderr",
     "output_type": "stream",
     "text": [
      "/home/hybrid/.local/lib/python3.8/site-packages/sklearn/linear_model/_sag.py:350: ConvergenceWarning: The max_iter was reached which means the coef_ did not converge\n",
      "  warnings.warn(\n"
     ]
    },
    {
     "name": "stdout",
     "output_type": "stream",
     "text": [
      "[CV 4/5] END LR__C=70, LR__max_iter=100, LR__multi_class=auto, LR__penalty=l2, LR__random_state=11, LR__solver=saga, pca__n_components=20;, score=0.836 total time=  22.7s\n"
     ]
    },
    {
     "name": "stderr",
     "output_type": "stream",
     "text": [
      "/home/hybrid/.local/lib/python3.8/site-packages/sklearn/linear_model/_sag.py:350: ConvergenceWarning: The max_iter was reached which means the coef_ did not converge\n",
      "  warnings.warn(\n"
     ]
    },
    {
     "name": "stdout",
     "output_type": "stream",
     "text": [
      "[CV 5/5] END LR__C=70, LR__max_iter=100, LR__multi_class=auto, LR__penalty=l2, LR__random_state=11, LR__solver=saga, pca__n_components=20;, score=0.835 total time=  22.9s\n",
      "[CV 1/5] END LR__C=70, LR__max_iter=100, LR__multi_class=auto, LR__penalty=l1, LR__random_state=11, LR__solver=saga, pca__n_components=5;, score=0.765 total time=   2.8s\n",
      "[CV 2/5] END LR__C=70, LR__max_iter=100, LR__multi_class=auto, LR__penalty=l1, LR__random_state=11, LR__solver=saga, pca__n_components=5;, score=0.763 total time=   2.8s\n",
      "[CV 3/5] END LR__C=70, LR__max_iter=100, LR__multi_class=auto, LR__penalty=l1, LR__random_state=11, LR__solver=saga, pca__n_components=5;, score=0.767 total time=   2.8s\n",
      "[CV 4/5] END LR__C=70, LR__max_iter=100, LR__multi_class=auto, LR__penalty=l1, LR__random_state=11, LR__solver=saga, pca__n_components=5;, score=0.765 total time=   2.8s\n",
      "[CV 5/5] END LR__C=70, LR__max_iter=100, LR__multi_class=auto, LR__penalty=l1, LR__random_state=11, LR__solver=saga, pca__n_components=5;, score=0.773 total time=   2.7s\n",
      "[CV 1/5] END LR__C=70, LR__max_iter=100, LR__multi_class=auto, LR__penalty=l1, LR__random_state=11, LR__solver=saga, pca__n_components=10;, score=0.778 total time=   7.8s\n",
      "[CV 2/5] END LR__C=70, LR__max_iter=100, LR__multi_class=auto, LR__penalty=l1, LR__random_state=11, LR__solver=saga, pca__n_components=10;, score=0.780 total time=   6.8s\n",
      "[CV 3/5] END LR__C=70, LR__max_iter=100, LR__multi_class=auto, LR__penalty=l1, LR__random_state=11, LR__solver=saga, pca__n_components=10;, score=0.781 total time=   7.8s\n",
      "[CV 4/5] END LR__C=70, LR__max_iter=100, LR__multi_class=auto, LR__penalty=l1, LR__random_state=11, LR__solver=saga, pca__n_components=10;, score=0.781 total time=   7.4s\n",
      "[CV 5/5] END LR__C=70, LR__max_iter=100, LR__multi_class=auto, LR__penalty=l1, LR__random_state=11, LR__solver=saga, pca__n_components=10;, score=0.781 total time=   7.0s\n"
     ]
    },
    {
     "name": "stderr",
     "output_type": "stream",
     "text": [
      "/home/hybrid/.local/lib/python3.8/site-packages/sklearn/linear_model/_sag.py:350: ConvergenceWarning: The max_iter was reached which means the coef_ did not converge\n",
      "  warnings.warn(\n"
     ]
    },
    {
     "name": "stdout",
     "output_type": "stream",
     "text": [
      "[CV 1/5] END LR__C=70, LR__max_iter=100, LR__multi_class=auto, LR__penalty=l1, LR__random_state=11, LR__solver=saga, pca__n_components=20;, score=0.834 total time=  23.4s\n"
     ]
    },
    {
     "name": "stderr",
     "output_type": "stream",
     "text": [
      "/home/hybrid/.local/lib/python3.8/site-packages/sklearn/linear_model/_sag.py:350: ConvergenceWarning: The max_iter was reached which means the coef_ did not converge\n",
      "  warnings.warn(\n"
     ]
    },
    {
     "name": "stdout",
     "output_type": "stream",
     "text": [
      "[CV 2/5] END LR__C=70, LR__max_iter=100, LR__multi_class=auto, LR__penalty=l1, LR__random_state=11, LR__solver=saga, pca__n_components=20;, score=0.835 total time=  23.5s\n"
     ]
    },
    {
     "name": "stderr",
     "output_type": "stream",
     "text": [
      "/home/hybrid/.local/lib/python3.8/site-packages/sklearn/linear_model/_sag.py:350: ConvergenceWarning: The max_iter was reached which means the coef_ did not converge\n",
      "  warnings.warn(\n"
     ]
    },
    {
     "name": "stdout",
     "output_type": "stream",
     "text": [
      "[CV 3/5] END LR__C=70, LR__max_iter=100, LR__multi_class=auto, LR__penalty=l1, LR__random_state=11, LR__solver=saga, pca__n_components=20;, score=0.838 total time=  23.4s\n"
     ]
    },
    {
     "name": "stderr",
     "output_type": "stream",
     "text": [
      "/home/hybrid/.local/lib/python3.8/site-packages/sklearn/linear_model/_sag.py:350: ConvergenceWarning: The max_iter was reached which means the coef_ did not converge\n",
      "  warnings.warn(\n"
     ]
    },
    {
     "name": "stdout",
     "output_type": "stream",
     "text": [
      "[CV 4/5] END LR__C=70, LR__max_iter=100, LR__multi_class=auto, LR__penalty=l1, LR__random_state=11, LR__solver=saga, pca__n_components=20;, score=0.835 total time=  23.6s\n"
     ]
    },
    {
     "name": "stderr",
     "output_type": "stream",
     "text": [
      "/home/hybrid/.local/lib/python3.8/site-packages/sklearn/linear_model/_sag.py:350: ConvergenceWarning: The max_iter was reached which means the coef_ did not converge\n",
      "  warnings.warn(\n"
     ]
    },
    {
     "name": "stdout",
     "output_type": "stream",
     "text": [
      "[CV 5/5] END LR__C=70, LR__max_iter=100, LR__multi_class=auto, LR__penalty=l1, LR__random_state=11, LR__solver=saga, pca__n_components=20;, score=0.836 total time=  23.4s\n",
      "[CV 1/5] END LR__C=70, LR__max_iter=200, LR__multi_class=auto, LR__penalty=l2, LR__random_state=11, LR__solver=saga, pca__n_components=5;, score=0.764 total time=   2.7s\n",
      "[CV 2/5] END LR__C=70, LR__max_iter=200, LR__multi_class=auto, LR__penalty=l2, LR__random_state=11, LR__solver=saga, pca__n_components=5;, score=0.762 total time=   2.8s\n",
      "[CV 3/5] END LR__C=70, LR__max_iter=200, LR__multi_class=auto, LR__penalty=l2, LR__random_state=11, LR__solver=saga, pca__n_components=5;, score=0.770 total time=   2.8s\n",
      "[CV 4/5] END LR__C=70, LR__max_iter=200, LR__multi_class=auto, LR__penalty=l2, LR__random_state=11, LR__solver=saga, pca__n_components=5;, score=0.768 total time=   2.9s\n",
      "[CV 5/5] END LR__C=70, LR__max_iter=200, LR__multi_class=auto, LR__penalty=l2, LR__random_state=11, LR__solver=saga, pca__n_components=5;, score=0.771 total time=   2.9s\n",
      "[CV 1/5] END LR__C=70, LR__max_iter=200, LR__multi_class=auto, LR__penalty=l2, LR__random_state=11, LR__solver=saga, pca__n_components=10;, score=0.790 total time=   6.8s\n",
      "[CV 2/5] END LR__C=70, LR__max_iter=200, LR__multi_class=auto, LR__penalty=l2, LR__random_state=11, LR__solver=saga, pca__n_components=10;, score=0.785 total time=   7.0s\n",
      "[CV 3/5] END LR__C=70, LR__max_iter=200, LR__multi_class=auto, LR__penalty=l2, LR__random_state=11, LR__solver=saga, pca__n_components=10;, score=0.783 total time=   8.7s\n",
      "[CV 4/5] END LR__C=70, LR__max_iter=200, LR__multi_class=auto, LR__penalty=l2, LR__random_state=11, LR__solver=saga, pca__n_components=10;, score=0.784 total time=   7.3s\n",
      "[CV 5/5] END LR__C=70, LR__max_iter=200, LR__multi_class=auto, LR__penalty=l2, LR__random_state=11, LR__solver=saga, pca__n_components=10;, score=0.786 total time=   7.9s\n"
     ]
    },
    {
     "name": "stderr",
     "output_type": "stream",
     "text": [
      "/home/hybrid/.local/lib/python3.8/site-packages/sklearn/linear_model/_sag.py:350: ConvergenceWarning: The max_iter was reached which means the coef_ did not converge\n",
      "  warnings.warn(\n"
     ]
    },
    {
     "name": "stdout",
     "output_type": "stream",
     "text": [
      "[CV 1/5] END LR__C=70, LR__max_iter=200, LR__multi_class=auto, LR__penalty=l2, LR__random_state=11, LR__solver=saga, pca__n_components=20;, score=0.836 total time=  26.2s\n"
     ]
    },
    {
     "name": "stderr",
     "output_type": "stream",
     "text": [
      "/home/hybrid/.local/lib/python3.8/site-packages/sklearn/linear_model/_sag.py:350: ConvergenceWarning: The max_iter was reached which means the coef_ did not converge\n",
      "  warnings.warn(\n"
     ]
    },
    {
     "name": "stdout",
     "output_type": "stream",
     "text": [
      "[CV 2/5] END LR__C=70, LR__max_iter=200, LR__multi_class=auto, LR__penalty=l2, LR__random_state=11, LR__solver=saga, pca__n_components=20;, score=0.838 total time=  26.2s\n"
     ]
    },
    {
     "name": "stderr",
     "output_type": "stream",
     "text": [
      "/home/hybrid/.local/lib/python3.8/site-packages/sklearn/linear_model/_sag.py:350: ConvergenceWarning: The max_iter was reached which means the coef_ did not converge\n",
      "  warnings.warn(\n"
     ]
    },
    {
     "name": "stdout",
     "output_type": "stream",
     "text": [
      "[CV 3/5] END LR__C=70, LR__max_iter=200, LR__multi_class=auto, LR__penalty=l2, LR__random_state=11, LR__solver=saga, pca__n_components=20;, score=0.835 total time=  26.1s\n"
     ]
    },
    {
     "name": "stderr",
     "output_type": "stream",
     "text": [
      "/home/hybrid/.local/lib/python3.8/site-packages/sklearn/linear_model/_sag.py:350: ConvergenceWarning: The max_iter was reached which means the coef_ did not converge\n",
      "  warnings.warn(\n"
     ]
    },
    {
     "name": "stdout",
     "output_type": "stream",
     "text": [
      "[CV 4/5] END LR__C=70, LR__max_iter=200, LR__multi_class=auto, LR__penalty=l2, LR__random_state=11, LR__solver=saga, pca__n_components=20;, score=0.841 total time=  26.0s\n"
     ]
    },
    {
     "name": "stderr",
     "output_type": "stream",
     "text": [
      "/home/hybrid/.local/lib/python3.8/site-packages/sklearn/linear_model/_sag.py:350: ConvergenceWarning: The max_iter was reached which means the coef_ did not converge\n",
      "  warnings.warn(\n"
     ]
    },
    {
     "name": "stdout",
     "output_type": "stream",
     "text": [
      "[CV 5/5] END LR__C=70, LR__max_iter=200, LR__multi_class=auto, LR__penalty=l2, LR__random_state=11, LR__solver=saga, pca__n_components=20;, score=0.833 total time=  26.1s\n",
      "[CV 1/5] END LR__C=70, LR__max_iter=200, LR__multi_class=auto, LR__penalty=l1, LR__random_state=11, LR__solver=saga, pca__n_components=5;, score=0.764 total time=   2.8s\n",
      "[CV 2/5] END LR__C=70, LR__max_iter=200, LR__multi_class=auto, LR__penalty=l1, LR__random_state=11, LR__solver=saga, pca__n_components=5;, score=0.763 total time=   2.8s\n",
      "[CV 3/5] END LR__C=70, LR__max_iter=200, LR__multi_class=auto, LR__penalty=l1, LR__random_state=11, LR__solver=saga, pca__n_components=5;, score=0.767 total time=   2.8s\n",
      "[CV 4/5] END LR__C=70, LR__max_iter=200, LR__multi_class=auto, LR__penalty=l1, LR__random_state=11, LR__solver=saga, pca__n_components=5;, score=0.767 total time=   2.8s\n",
      "[CV 5/5] END LR__C=70, LR__max_iter=200, LR__multi_class=auto, LR__penalty=l1, LR__random_state=11, LR__solver=saga, pca__n_components=5;, score=0.771 total time=   2.8s\n",
      "[CV 1/5] END LR__C=70, LR__max_iter=200, LR__multi_class=auto, LR__penalty=l1, LR__random_state=11, LR__solver=saga, pca__n_components=10;, score=0.782 total time=   9.8s\n",
      "[CV 2/5] END LR__C=70, LR__max_iter=200, LR__multi_class=auto, LR__penalty=l1, LR__random_state=11, LR__solver=saga, pca__n_components=10;, score=0.785 total time=   6.8s\n",
      "[CV 3/5] END LR__C=70, LR__max_iter=200, LR__multi_class=auto, LR__penalty=l1, LR__random_state=11, LR__solver=saga, pca__n_components=10;, score=0.779 total time=   7.6s\n",
      "[CV 4/5] END LR__C=70, LR__max_iter=200, LR__multi_class=auto, LR__penalty=l1, LR__random_state=11, LR__solver=saga, pca__n_components=10;, score=0.789 total time=   7.0s\n",
      "[CV 5/5] END LR__C=70, LR__max_iter=200, LR__multi_class=auto, LR__penalty=l1, LR__random_state=11, LR__solver=saga, pca__n_components=10;, score=0.784 total time=   7.5s\n"
     ]
    },
    {
     "name": "stderr",
     "output_type": "stream",
     "text": [
      "/home/hybrid/.local/lib/python3.8/site-packages/sklearn/linear_model/_sag.py:350: ConvergenceWarning: The max_iter was reached which means the coef_ did not converge\n",
      "  warnings.warn(\n"
     ]
    },
    {
     "name": "stdout",
     "output_type": "stream",
     "text": [
      "[CV 1/5] END LR__C=70, LR__max_iter=200, LR__multi_class=auto, LR__penalty=l1, LR__random_state=11, LR__solver=saga, pca__n_components=20;, score=0.832 total time=  27.3s\n"
     ]
    },
    {
     "name": "stderr",
     "output_type": "stream",
     "text": [
      "/home/hybrid/.local/lib/python3.8/site-packages/sklearn/linear_model/_sag.py:350: ConvergenceWarning: The max_iter was reached which means the coef_ did not converge\n",
      "  warnings.warn(\n"
     ]
    },
    {
     "name": "stdout",
     "output_type": "stream",
     "text": [
      "[CV 2/5] END LR__C=70, LR__max_iter=200, LR__multi_class=auto, LR__penalty=l1, LR__random_state=11, LR__solver=saga, pca__n_components=20;, score=0.835 total time=  27.5s\n"
     ]
    },
    {
     "name": "stderr",
     "output_type": "stream",
     "text": [
      "/home/hybrid/.local/lib/python3.8/site-packages/sklearn/linear_model/_sag.py:350: ConvergenceWarning: The max_iter was reached which means the coef_ did not converge\n",
      "  warnings.warn(\n"
     ]
    },
    {
     "name": "stdout",
     "output_type": "stream",
     "text": [
      "[CV 3/5] END LR__C=70, LR__max_iter=200, LR__multi_class=auto, LR__penalty=l1, LR__random_state=11, LR__solver=saga, pca__n_components=20;, score=0.839 total time=  27.7s\n"
     ]
    },
    {
     "name": "stderr",
     "output_type": "stream",
     "text": [
      "/home/hybrid/.local/lib/python3.8/site-packages/sklearn/linear_model/_sag.py:350: ConvergenceWarning: The max_iter was reached which means the coef_ did not converge\n",
      "  warnings.warn(\n"
     ]
    },
    {
     "name": "stdout",
     "output_type": "stream",
     "text": [
      "[CV 4/5] END LR__C=70, LR__max_iter=200, LR__multi_class=auto, LR__penalty=l1, LR__random_state=11, LR__solver=saga, pca__n_components=20;, score=0.837 total time=  27.4s\n"
     ]
    },
    {
     "name": "stderr",
     "output_type": "stream",
     "text": [
      "/home/hybrid/.local/lib/python3.8/site-packages/sklearn/linear_model/_sag.py:350: ConvergenceWarning: The max_iter was reached which means the coef_ did not converge\n",
      "  warnings.warn(\n"
     ]
    },
    {
     "name": "stdout",
     "output_type": "stream",
     "text": [
      "[CV 5/5] END LR__C=70, LR__max_iter=200, LR__multi_class=auto, LR__penalty=l1, LR__random_state=11, LR__solver=saga, pca__n_components=20;, score=0.835 total time=  27.4s\n",
      "[CV 1/5] END LR__C=70, LR__max_iter=500, LR__multi_class=auto, LR__penalty=l2, LR__random_state=11, LR__solver=saga, pca__n_components=5;, score=0.766 total time=   2.8s\n",
      "[CV 2/5] END LR__C=70, LR__max_iter=500, LR__multi_class=auto, LR__penalty=l2, LR__random_state=11, LR__solver=saga, pca__n_components=5;, score=0.765 total time=   2.7s\n",
      "[CV 3/5] END LR__C=70, LR__max_iter=500, LR__multi_class=auto, LR__penalty=l2, LR__random_state=11, LR__solver=saga, pca__n_components=5;, score=0.767 total time=   2.8s\n",
      "[CV 4/5] END LR__C=70, LR__max_iter=500, LR__multi_class=auto, LR__penalty=l2, LR__random_state=11, LR__solver=saga, pca__n_components=5;, score=0.767 total time=   2.6s\n",
      "[CV 5/5] END LR__C=70, LR__max_iter=500, LR__multi_class=auto, LR__penalty=l2, LR__random_state=11, LR__solver=saga, pca__n_components=5;, score=0.771 total time=   2.8s\n",
      "[CV 1/5] END LR__C=70, LR__max_iter=500, LR__multi_class=auto, LR__penalty=l2, LR__random_state=11, LR__solver=saga, pca__n_components=10;, score=0.782 total time=   6.7s\n",
      "[CV 2/5] END LR__C=70, LR__max_iter=500, LR__multi_class=auto, LR__penalty=l2, LR__random_state=11, LR__solver=saga, pca__n_components=10;, score=0.785 total time=   8.6s\n",
      "[CV 3/5] END LR__C=70, LR__max_iter=500, LR__multi_class=auto, LR__penalty=l2, LR__random_state=11, LR__solver=saga, pca__n_components=10;, score=0.782 total time=   7.5s\n",
      "[CV 4/5] END LR__C=70, LR__max_iter=500, LR__multi_class=auto, LR__penalty=l2, LR__random_state=11, LR__solver=saga, pca__n_components=10;, score=0.790 total time=   7.3s\n",
      "[CV 5/5] END LR__C=70, LR__max_iter=500, LR__multi_class=auto, LR__penalty=l2, LR__random_state=11, LR__solver=saga, pca__n_components=10;, score=0.783 total time=   6.8s\n"
     ]
    },
    {
     "name": "stderr",
     "output_type": "stream",
     "text": [
      "/home/hybrid/.local/lib/python3.8/site-packages/sklearn/linear_model/_sag.py:350: ConvergenceWarning: The max_iter was reached which means the coef_ did not converge\n",
      "  warnings.warn(\n"
     ]
    },
    {
     "name": "stdout",
     "output_type": "stream",
     "text": [
      "[CV 1/5] END LR__C=70, LR__max_iter=500, LR__multi_class=auto, LR__penalty=l2, LR__random_state=11, LR__solver=saga, pca__n_components=20;, score=0.832 total time=  35.6s\n"
     ]
    },
    {
     "name": "stderr",
     "output_type": "stream",
     "text": [
      "/home/hybrid/.local/lib/python3.8/site-packages/sklearn/linear_model/_sag.py:350: ConvergenceWarning: The max_iter was reached which means the coef_ did not converge\n",
      "  warnings.warn(\n"
     ]
    },
    {
     "name": "stdout",
     "output_type": "stream",
     "text": [
      "[CV 2/5] END LR__C=70, LR__max_iter=500, LR__multi_class=auto, LR__penalty=l2, LR__random_state=11, LR__solver=saga, pca__n_components=20;, score=0.838 total time=  35.2s\n"
     ]
    },
    {
     "name": "stderr",
     "output_type": "stream",
     "text": [
      "/home/hybrid/.local/lib/python3.8/site-packages/sklearn/linear_model/_sag.py:350: ConvergenceWarning: The max_iter was reached which means the coef_ did not converge\n",
      "  warnings.warn(\n"
     ]
    },
    {
     "name": "stdout",
     "output_type": "stream",
     "text": [
      "[CV 3/5] END LR__C=70, LR__max_iter=500, LR__multi_class=auto, LR__penalty=l2, LR__random_state=11, LR__solver=saga, pca__n_components=20;, score=0.837 total time=  35.4s\n",
      "[CV 4/5] END LR__C=70, LR__max_iter=500, LR__multi_class=auto, LR__penalty=l2, LR__random_state=11, LR__solver=saga, pca__n_components=20;, score=0.835 total time=  34.6s\n"
     ]
    },
    {
     "name": "stderr",
     "output_type": "stream",
     "text": [
      "/home/hybrid/.local/lib/python3.8/site-packages/sklearn/linear_model/_sag.py:350: ConvergenceWarning: The max_iter was reached which means the coef_ did not converge\n",
      "  warnings.warn(\n"
     ]
    },
    {
     "name": "stdout",
     "output_type": "stream",
     "text": [
      "[CV 5/5] END LR__C=70, LR__max_iter=500, LR__multi_class=auto, LR__penalty=l2, LR__random_state=11, LR__solver=saga, pca__n_components=20;, score=0.840 total time=  35.5s\n",
      "[CV 1/5] END LR__C=70, LR__max_iter=500, LR__multi_class=auto, LR__penalty=l1, LR__random_state=11, LR__solver=saga, pca__n_components=5;, score=0.756 total time=   2.8s\n",
      "[CV 2/5] END LR__C=70, LR__max_iter=500, LR__multi_class=auto, LR__penalty=l1, LR__random_state=11, LR__solver=saga, pca__n_components=5;, score=0.763 total time=   2.7s\n",
      "[CV 3/5] END LR__C=70, LR__max_iter=500, LR__multi_class=auto, LR__penalty=l1, LR__random_state=11, LR__solver=saga, pca__n_components=5;, score=0.770 total time=   2.7s\n",
      "[CV 4/5] END LR__C=70, LR__max_iter=500, LR__multi_class=auto, LR__penalty=l1, LR__random_state=11, LR__solver=saga, pca__n_components=5;, score=0.766 total time=   2.7s\n",
      "[CV 5/5] END LR__C=70, LR__max_iter=500, LR__multi_class=auto, LR__penalty=l1, LR__random_state=11, LR__solver=saga, pca__n_components=5;, score=0.772 total time=   2.8s\n",
      "[CV 1/5] END LR__C=70, LR__max_iter=500, LR__multi_class=auto, LR__penalty=l1, LR__random_state=11, LR__solver=saga, pca__n_components=10;, score=0.781 total time=   7.4s\n",
      "[CV 2/5] END LR__C=70, LR__max_iter=500, LR__multi_class=auto, LR__penalty=l1, LR__random_state=11, LR__solver=saga, pca__n_components=10;, score=0.785 total time=   7.2s\n",
      "[CV 3/5] END LR__C=70, LR__max_iter=500, LR__multi_class=auto, LR__penalty=l1, LR__random_state=11, LR__solver=saga, pca__n_components=10;, score=0.782 total time=   7.5s\n",
      "[CV 4/5] END LR__C=70, LR__max_iter=500, LR__multi_class=auto, LR__penalty=l1, LR__random_state=11, LR__solver=saga, pca__n_components=10;, score=0.782 total time=   7.1s\n",
      "[CV 5/5] END LR__C=70, LR__max_iter=500, LR__multi_class=auto, LR__penalty=l1, LR__random_state=11, LR__solver=saga, pca__n_components=10;, score=0.786 total time=   7.0s\n",
      "[CV 1/5] END LR__C=70, LR__max_iter=500, LR__multi_class=auto, LR__penalty=l1, LR__random_state=11, LR__solver=saga, pca__n_components=20;, score=0.831 total time=  35.3s\n"
     ]
    },
    {
     "name": "stderr",
     "output_type": "stream",
     "text": [
      "/home/hybrid/.local/lib/python3.8/site-packages/sklearn/linear_model/_sag.py:350: ConvergenceWarning: The max_iter was reached which means the coef_ did not converge\n",
      "  warnings.warn(\n"
     ]
    },
    {
     "name": "stdout",
     "output_type": "stream",
     "text": [
      "[CV 2/5] END LR__C=70, LR__max_iter=500, LR__multi_class=auto, LR__penalty=l1, LR__random_state=11, LR__solver=saga, pca__n_components=20;, score=0.842 total time=  39.6s\n"
     ]
    },
    {
     "name": "stderr",
     "output_type": "stream",
     "text": [
      "/home/hybrid/.local/lib/python3.8/site-packages/sklearn/linear_model/_sag.py:350: ConvergenceWarning: The max_iter was reached which means the coef_ did not converge\n",
      "  warnings.warn(\n"
     ]
    },
    {
     "name": "stdout",
     "output_type": "stream",
     "text": [
      "[CV 3/5] END LR__C=70, LR__max_iter=500, LR__multi_class=auto, LR__penalty=l1, LR__random_state=11, LR__solver=saga, pca__n_components=20;, score=0.840 total time=  39.4s\n"
     ]
    },
    {
     "name": "stderr",
     "output_type": "stream",
     "text": [
      "/home/hybrid/.local/lib/python3.8/site-packages/sklearn/linear_model/_sag.py:350: ConvergenceWarning: The max_iter was reached which means the coef_ did not converge\n",
      "  warnings.warn(\n"
     ]
    },
    {
     "name": "stdout",
     "output_type": "stream",
     "text": [
      "[CV 4/5] END LR__C=70, LR__max_iter=500, LR__multi_class=auto, LR__penalty=l1, LR__random_state=11, LR__solver=saga, pca__n_components=20;, score=0.839 total time=  40.2s\n"
     ]
    },
    {
     "name": "stderr",
     "output_type": "stream",
     "text": [
      "/home/hybrid/.local/lib/python3.8/site-packages/sklearn/linear_model/_sag.py:350: ConvergenceWarning: The max_iter was reached which means the coef_ did not converge\n",
      "  warnings.warn(\n"
     ]
    },
    {
     "name": "stdout",
     "output_type": "stream",
     "text": [
      "[CV 5/5] END LR__C=70, LR__max_iter=500, LR__multi_class=auto, LR__penalty=l1, LR__random_state=11, LR__solver=saga, pca__n_components=20;, score=0.837 total time=  39.5s\n"
     ]
    },
    {
     "name": "stderr",
     "output_type": "stream",
     "text": [
      "/home/hybrid/.local/lib/python3.8/site-packages/sklearn/linear_model/_sag.py:350: ConvergenceWarning: The max_iter was reached which means the coef_ did not converge\n",
      "  warnings.warn(\n"
     ]
    },
    {
     "name": "stdout",
     "output_type": "stream",
     "text": [
      "Cross-validation score: 0.8376502319653645\n",
      "Test score: 0.8378557202347755\n",
      "XGBClassifier:\n",
      "{'LR__C': 70, 'LR__max_iter': 500, 'LR__multi_class': 'auto', 'LR__penalty': 'l1', 'LR__random_state': 11, 'LR__solver': 'saga', 'pca__n_components': 20}\n",
      "Results on test: 0.7603651897143814\n",
      "Results on train: 0.7537482201189379\n"
     ]
    }
   ],
   "source": [
    "pipeline = imbpipeline(steps = [['scaler', scaler],\n",
    "                                ['pca', pca],\n",
    "                                ['smote', SMOTEEN],\n",
    "                                ['LR', LogisticRegression()]])\n",
    "\n",
    "stratified_kfold = StratifiedKFold(n_splits=5,\n",
    "                                       shuffle=True,\n",
    "                                       random_state=13)\n",
    "    \n",
    "param_grid = {'LR__C':[20, 50, 70],\n",
    "             'LR__random_state': [11],\n",
    "             'LR__multi_class': ['auto'],\n",
    "             'LR__max_iter': [100, 200, 500],\n",
    "             'LR__solver': ['saga'],\n",
    "             'LR__penalty': ['l2', 'l1'],\n",
    "             'pca__n_components': [5, 10, 20]\n",
    "             }\n",
    "                                                                 \n",
    "search_LR = GridSearchCV(estimator=pipeline,\n",
    "                           param_grid=param_grid,\n",
    "                           scoring='roc_auc',\n",
    "                           cv=stratified_kfold,\n",
    "                           verbose=3,\n",
    "                           #n_jobs=3\n",
    "                        )\n",
    "\n",
    "search_LR.fit(X_train, y_train)\n",
    "cv_score = search_LR.best_score_\n",
    "test_score = search_LR.score(X_test, y_test)\n",
    "print(f'Cross-validation score: {cv_score}\\nTest score: {test_score}')\n",
    "print(\"XGBClassifier:\")\n",
    "print(search_LR.best_params_)\n",
    "print(f'Results on test: {search_LR.best_estimator_.score(X_test, y_test)}')\n",
    "print(f'Results on train: {search_LR.best_estimator_.score(X_train, y_train)}')"
   ]
  },
  {
   "cell_type": "markdown",
   "metadata": {},
   "source": [
    "Achieving scores of classification, saving accuracy, recall and F1 score in data frame:"
   ]
  },
  {
   "cell_type": "markdown",
   "metadata": {},
   "source": [
    "Best hyperparameters:"
   ]
  },
  {
   "cell_type": "code",
   "execution_count": 63,
   "metadata": {},
   "outputs": [
    {
     "data": {
      "text/plain": [
       "{'LR__C': 70,\n",
       " 'LR__max_iter': 500,\n",
       " 'LR__multi_class': 'auto',\n",
       " 'LR__penalty': 'l1',\n",
       " 'LR__random_state': 11,\n",
       " 'LR__solver': 'saga',\n",
       " 'pca__n_components': 20}"
      ]
     },
     "execution_count": 63,
     "metadata": {},
     "output_type": "execute_result"
    }
   ],
   "source": [
    "search_LR.best_params_"
   ]
  },
  {
   "cell_type": "code",
   "execution_count": 64,
   "metadata": {},
   "outputs": [],
   "source": [
    "y_pred_lr = search_LR.best_estimator_.predict(X_test)"
   ]
  },
  {
   "cell_type": "code",
   "execution_count": 65,
   "metadata": {},
   "outputs": [
    {
     "name": "stdout",
     "output_type": "stream",
     "text": [
      "              precision    recall  f1-score   support\n",
      "\n",
      "           0       0.83      0.78      0.80     22550\n",
      "           1       0.66      0.73      0.69     13267\n",
      "\n",
      "    accuracy                           0.76     35817\n",
      "   macro avg       0.75      0.76      0.75     35817\n",
      "weighted avg       0.77      0.76      0.76     35817\n",
      "\n"
     ]
    }
   ],
   "source": [
    "print(classification_report(y_test, y_pred_lr))\n",
    "A_report_lr = pd.DataFrame(classification_report(y_test, y_pred_lr, output_dict=True))"
   ]
  },
  {
   "cell_type": "code",
   "execution_count": 66,
   "metadata": {},
   "outputs": [],
   "source": [
    "for i, name in enumerate(A_report_lr.columns):\n",
    "  A_report_lr = A_report_lr.rename(columns={(A_report_lr.iloc[:,i].name): ('LR_'+A_report_lr.iloc[:,i].name)})\n"
   ]
  },
  {
   "cell_type": "code",
   "execution_count": 67,
   "metadata": {},
   "outputs": [
    {
     "data": {
      "text/html": [
       "<div>\n",
       "<style scoped>\n",
       "    .dataframe tbody tr th:only-of-type {\n",
       "        vertical-align: middle;\n",
       "    }\n",
       "\n",
       "    .dataframe tbody tr th {\n",
       "        vertical-align: top;\n",
       "    }\n",
       "\n",
       "    .dataframe thead th {\n",
       "        text-align: right;\n",
       "    }\n",
       "</style>\n",
       "<table border=\"1\" class=\"dataframe\">\n",
       "  <thead>\n",
       "    <tr style=\"text-align: right;\">\n",
       "      <th></th>\n",
       "      <th>LR_0</th>\n",
       "      <th>LR_1</th>\n",
       "      <th>LR_accuracy</th>\n",
       "      <th>LR_macro avg</th>\n",
       "      <th>LR_weighted avg</th>\n",
       "    </tr>\n",
       "  </thead>\n",
       "  <tbody>\n",
       "    <tr>\n",
       "      <th>precision</th>\n",
       "      <td>0.832342</td>\n",
       "      <td>0.658200</td>\n",
       "      <td>0.760365</td>\n",
       "      <td>0.745271</td>\n",
       "      <td>0.767838</td>\n",
       "    </tr>\n",
       "    <tr>\n",
       "      <th>recall</th>\n",
       "      <td>0.775610</td>\n",
       "      <td>0.734454</td>\n",
       "      <td>0.760365</td>\n",
       "      <td>0.755032</td>\n",
       "      <td>0.760365</td>\n",
       "    </tr>\n",
       "    <tr>\n",
       "      <th>f1-score</th>\n",
       "      <td>0.802975</td>\n",
       "      <td>0.694240</td>\n",
       "      <td>0.760365</td>\n",
       "      <td>0.748607</td>\n",
       "      <td>0.762698</td>\n",
       "    </tr>\n",
       "    <tr>\n",
       "      <th>support</th>\n",
       "      <td>22550.000000</td>\n",
       "      <td>13267.000000</td>\n",
       "      <td>0.760365</td>\n",
       "      <td>35817.000000</td>\n",
       "      <td>35817.000000</td>\n",
       "    </tr>\n",
       "  </tbody>\n",
       "</table>\n",
       "</div>"
      ],
      "text/plain": [
       "                   LR_0          LR_1  LR_accuracy  LR_macro avg  \\\n",
       "precision      0.832342      0.658200     0.760365      0.745271   \n",
       "recall         0.775610      0.734454     0.760365      0.755032   \n",
       "f1-score       0.802975      0.694240     0.760365      0.748607   \n",
       "support    22550.000000  13267.000000     0.760365  35817.000000   \n",
       "\n",
       "           LR_weighted avg  \n",
       "precision         0.767838  \n",
       "recall            0.760365  \n",
       "f1-score          0.762698  \n",
       "support       35817.000000  "
      ]
     },
     "execution_count": 67,
     "metadata": {},
     "output_type": "execute_result"
    }
   ],
   "source": [
    "A_report_lr"
   ]
  },
  {
   "cell_type": "markdown",
   "metadata": {},
   "source": [
    "Utilizing Multi Layer Perceptron algorythm with RandomizedGridSearch in pipeline, scaling reducing, ballancing:"
   ]
  },
  {
   "cell_type": "code",
   "execution_count": 68,
   "metadata": {},
   "outputs": [
    {
     "name": "stdout",
     "output_type": "stream",
     "text": [
      "Fitting 5 folds for each of 9 candidates, totalling 45 fits\n",
      "[CV 1/5] END MLP__activation=relu, MLP__batch_size=32, MLP__hidden_layer_sizes=8, MLP__max_iter=1000, MLP__random_state=42, MLP__solver=adam, pca__n_components=5;, score=0.808 total time=  28.2s\n",
      "[CV 2/5] END MLP__activation=relu, MLP__batch_size=32, MLP__hidden_layer_sizes=8, MLP__max_iter=1000, MLP__random_state=42, MLP__solver=adam, pca__n_components=5;, score=0.813 total time=  32.4s\n",
      "[CV 3/5] END MLP__activation=relu, MLP__batch_size=32, MLP__hidden_layer_sizes=8, MLP__max_iter=1000, MLP__random_state=42, MLP__solver=adam, pca__n_components=5;, score=0.817 total time= 1.1min\n",
      "[CV 4/5] END MLP__activation=relu, MLP__batch_size=32, MLP__hidden_layer_sizes=8, MLP__max_iter=1000, MLP__random_state=42, MLP__solver=adam, pca__n_components=5;, score=0.818 total time= 1.2min\n",
      "[CV 5/5] END MLP__activation=relu, MLP__batch_size=32, MLP__hidden_layer_sizes=8, MLP__max_iter=1000, MLP__random_state=42, MLP__solver=adam, pca__n_components=5;, score=0.813 total time=  55.2s\n",
      "[CV 1/5] END MLP__activation=relu, MLP__batch_size=32, MLP__hidden_layer_sizes=8, MLP__max_iter=1000, MLP__random_state=42, MLP__solver=adam, pca__n_components=10;, score=0.847 total time= 1.1min\n",
      "[CV 2/5] END MLP__activation=relu, MLP__batch_size=32, MLP__hidden_layer_sizes=8, MLP__max_iter=1000, MLP__random_state=42, MLP__solver=adam, pca__n_components=10;, score=0.851 total time=  55.4s\n",
      "[CV 3/5] END MLP__activation=relu, MLP__batch_size=32, MLP__hidden_layer_sizes=8, MLP__max_iter=1000, MLP__random_state=42, MLP__solver=adam, pca__n_components=10;, score=0.856 total time= 1.3min\n",
      "[CV 4/5] END MLP__activation=relu, MLP__batch_size=32, MLP__hidden_layer_sizes=8, MLP__max_iter=1000, MLP__random_state=42, MLP__solver=adam, pca__n_components=10;, score=0.855 total time= 1.4min\n",
      "[CV 5/5] END MLP__activation=relu, MLP__batch_size=32, MLP__hidden_layer_sizes=8, MLP__max_iter=1000, MLP__random_state=42, MLP__solver=adam, pca__n_components=10;, score=0.857 total time= 1.5min\n",
      "[CV 1/5] END MLP__activation=relu, MLP__batch_size=32, MLP__hidden_layer_sizes=8, MLP__max_iter=1000, MLP__random_state=42, MLP__solver=adam, pca__n_components=20;, score=0.881 total time= 1.1min\n",
      "[CV 2/5] END MLP__activation=relu, MLP__batch_size=32, MLP__hidden_layer_sizes=8, MLP__max_iter=1000, MLP__random_state=42, MLP__solver=adam, pca__n_components=20;, score=0.886 total time= 1.4min\n",
      "[CV 3/5] END MLP__activation=relu, MLP__batch_size=32, MLP__hidden_layer_sizes=8, MLP__max_iter=1000, MLP__random_state=42, MLP__solver=adam, pca__n_components=20;, score=0.890 total time= 1.9min\n",
      "[CV 4/5] END MLP__activation=relu, MLP__batch_size=32, MLP__hidden_layer_sizes=8, MLP__max_iter=1000, MLP__random_state=42, MLP__solver=adam, pca__n_components=20;, score=0.887 total time= 2.2min\n",
      "[CV 5/5] END MLP__activation=relu, MLP__batch_size=32, MLP__hidden_layer_sizes=8, MLP__max_iter=1000, MLP__random_state=42, MLP__solver=adam, pca__n_components=20;, score=0.886 total time= 2.1min\n",
      "[CV 1/5] END MLP__activation=relu, MLP__batch_size=32, MLP__hidden_layer_sizes=4, MLP__max_iter=1000, MLP__random_state=42, MLP__solver=adam, pca__n_components=5;, score=0.803 total time=  34.6s\n",
      "[CV 2/5] END MLP__activation=relu, MLP__batch_size=32, MLP__hidden_layer_sizes=4, MLP__max_iter=1000, MLP__random_state=42, MLP__solver=adam, pca__n_components=5;, score=0.804 total time=  28.4s\n",
      "[CV 3/5] END MLP__activation=relu, MLP__batch_size=32, MLP__hidden_layer_sizes=4, MLP__max_iter=1000, MLP__random_state=42, MLP__solver=adam, pca__n_components=5;, score=0.805 total time=  32.4s\n",
      "[CV 4/5] END MLP__activation=relu, MLP__batch_size=32, MLP__hidden_layer_sizes=4, MLP__max_iter=1000, MLP__random_state=42, MLP__solver=adam, pca__n_components=5;, score=0.807 total time=  35.4s\n",
      "[CV 5/5] END MLP__activation=relu, MLP__batch_size=32, MLP__hidden_layer_sizes=4, MLP__max_iter=1000, MLP__random_state=42, MLP__solver=adam, pca__n_components=5;, score=0.808 total time=  18.6s\n",
      "[CV 1/5] END MLP__activation=relu, MLP__batch_size=32, MLP__hidden_layer_sizes=4, MLP__max_iter=1000, MLP__random_state=42, MLP__solver=adam, pca__n_components=10;, score=0.818 total time=  59.0s\n",
      "[CV 2/5] END MLP__activation=relu, MLP__batch_size=32, MLP__hidden_layer_sizes=4, MLP__max_iter=1000, MLP__random_state=42, MLP__solver=adam, pca__n_components=10;, score=0.821 total time= 1.1min\n",
      "[CV 3/5] END MLP__activation=relu, MLP__batch_size=32, MLP__hidden_layer_sizes=4, MLP__max_iter=1000, MLP__random_state=42, MLP__solver=adam, pca__n_components=10;, score=0.820 total time=  48.0s\n",
      "[CV 4/5] END MLP__activation=relu, MLP__batch_size=32, MLP__hidden_layer_sizes=4, MLP__max_iter=1000, MLP__random_state=42, MLP__solver=adam, pca__n_components=10;, score=0.829 total time= 1.1min\n",
      "[CV 5/5] END MLP__activation=relu, MLP__batch_size=32, MLP__hidden_layer_sizes=4, MLP__max_iter=1000, MLP__random_state=42, MLP__solver=adam, pca__n_components=10;, score=0.817 total time=  55.9s\n",
      "[CV 1/5] END MLP__activation=relu, MLP__batch_size=32, MLP__hidden_layer_sizes=4, MLP__max_iter=1000, MLP__random_state=42, MLP__solver=adam, pca__n_components=20;, score=0.871 total time= 1.8min\n",
      "[CV 2/5] END MLP__activation=relu, MLP__batch_size=32, MLP__hidden_layer_sizes=4, MLP__max_iter=1000, MLP__random_state=42, MLP__solver=adam, pca__n_components=20;, score=0.863 total time= 1.0min\n",
      "[CV 3/5] END MLP__activation=relu, MLP__batch_size=32, MLP__hidden_layer_sizes=4, MLP__max_iter=1000, MLP__random_state=42, MLP__solver=adam, pca__n_components=20;, score=0.876 total time= 1.1min\n",
      "[CV 4/5] END MLP__activation=relu, MLP__batch_size=32, MLP__hidden_layer_sizes=4, MLP__max_iter=1000, MLP__random_state=42, MLP__solver=adam, pca__n_components=20;, score=0.870 total time= 1.4min\n",
      "[CV 5/5] END MLP__activation=relu, MLP__batch_size=32, MLP__hidden_layer_sizes=4, MLP__max_iter=1000, MLP__random_state=42, MLP__solver=adam, pca__n_components=20;, score=0.871 total time= 1.3min\n",
      "[CV 1/5] END MLP__activation=relu, MLP__batch_size=32, MLP__hidden_layer_sizes=16, MLP__max_iter=1000, MLP__random_state=42, MLP__solver=adam, pca__n_components=5;, score=0.821 total time= 2.0min\n",
      "[CV 2/5] END MLP__activation=relu, MLP__batch_size=32, MLP__hidden_layer_sizes=16, MLP__max_iter=1000, MLP__random_state=42, MLP__solver=adam, pca__n_components=5;, score=0.827 total time= 1.6min\n",
      "[CV 3/5] END MLP__activation=relu, MLP__batch_size=32, MLP__hidden_layer_sizes=16, MLP__max_iter=1000, MLP__random_state=42, MLP__solver=adam, pca__n_components=5;, score=0.824 total time= 1.2min\n",
      "[CV 4/5] END MLP__activation=relu, MLP__batch_size=32, MLP__hidden_layer_sizes=16, MLP__max_iter=1000, MLP__random_state=42, MLP__solver=adam, pca__n_components=5;, score=0.816 total time=  56.3s\n",
      "[CV 5/5] END MLP__activation=relu, MLP__batch_size=32, MLP__hidden_layer_sizes=16, MLP__max_iter=1000, MLP__random_state=42, MLP__solver=adam, pca__n_components=5;, score=0.819 total time= 1.6min\n",
      "[CV 1/5] END MLP__activation=relu, MLP__batch_size=32, MLP__hidden_layer_sizes=16, MLP__max_iter=1000, MLP__random_state=42, MLP__solver=adam, pca__n_components=10;, score=0.857 total time= 2.0min\n",
      "[CV 2/5] END MLP__activation=relu, MLP__batch_size=32, MLP__hidden_layer_sizes=16, MLP__max_iter=1000, MLP__random_state=42, MLP__solver=adam, pca__n_components=10;, score=0.865 total time= 1.2min\n",
      "[CV 3/5] END MLP__activation=relu, MLP__batch_size=32, MLP__hidden_layer_sizes=16, MLP__max_iter=1000, MLP__random_state=42, MLP__solver=adam, pca__n_components=10;, score=0.866 total time= 1.6min\n",
      "[CV 4/5] END MLP__activation=relu, MLP__batch_size=32, MLP__hidden_layer_sizes=16, MLP__max_iter=1000, MLP__random_state=42, MLP__solver=adam, pca__n_components=10;, score=0.869 total time= 1.6min\n",
      "[CV 5/5] END MLP__activation=relu, MLP__batch_size=32, MLP__hidden_layer_sizes=16, MLP__max_iter=1000, MLP__random_state=42, MLP__solver=adam, pca__n_components=10;, score=0.867 total time= 2.3min\n",
      "[CV 1/5] END MLP__activation=relu, MLP__batch_size=32, MLP__hidden_layer_sizes=16, MLP__max_iter=1000, MLP__random_state=42, MLP__solver=adam, pca__n_components=20;, score=0.897 total time= 3.0min\n",
      "[CV 2/5] END MLP__activation=relu, MLP__batch_size=32, MLP__hidden_layer_sizes=16, MLP__max_iter=1000, MLP__random_state=42, MLP__solver=adam, pca__n_components=20;, score=0.899 total time= 2.8min\n"
     ]
    },
    {
     "name": "stdout",
     "output_type": "stream",
     "text": [
      "[CV 3/5] END MLP__activation=relu, MLP__batch_size=32, MLP__hidden_layer_sizes=16, MLP__max_iter=1000, MLP__random_state=42, MLP__solver=adam, pca__n_components=20;, score=0.902 total time= 2.2min\n",
      "[CV 4/5] END MLP__activation=relu, MLP__batch_size=32, MLP__hidden_layer_sizes=16, MLP__max_iter=1000, MLP__random_state=42, MLP__solver=adam, pca__n_components=20;, score=0.896 total time= 2.6min\n",
      "[CV 5/5] END MLP__activation=relu, MLP__batch_size=32, MLP__hidden_layer_sizes=16, MLP__max_iter=1000, MLP__random_state=42, MLP__solver=adam, pca__n_components=20;, score=0.895 total time= 2.7min\n",
      "Cross-validation score: 0.8979029718091383\n",
      "Test score: 0.8888246899723018\n"
     ]
    }
   ],
   "source": [
    "pipeline = imbpipeline(steps = [['scaler', scaler],\n",
    "                                ['pca', pca],\n",
    "                                ['smote', SMOTEEN],\n",
    "                                ['MLP', MLPClassifier()]])\n",
    "\n",
    "stratified_kfold = StratifiedKFold(n_splits=5,\n",
    "                                       shuffle=True,\n",
    "                                       random_state=13)\n",
    "    \n",
    "param_grid = {'MLP__hidden_layer_sizes':[8, 4, 16],\n",
    "             'MLP__activation': ['relu'],\n",
    "              'MLP__solver': ['adam'],\n",
    "              'MLP__random_state': [42],\n",
    "              'MLP__max_iter': [1000],\n",
    "              'MLP__batch_size': [32],\n",
    "              'pca__n_components': [5, 10, 20]\n",
    "             }\n",
    "                                                                 \n",
    "search_MLP = GridSearchCV(estimator=pipeline,\n",
    "                           param_grid=param_grid,\n",
    "                           scoring='roc_auc',\n",
    "                           cv=stratified_kfold,\n",
    "                           verbose=3,\n",
    "                           #n_jobs=3\n",
    "                        )\n",
    "\n",
    "search_MLP.fit(X_train, y_train)\n",
    "cv_score = search_MLP.best_score_\n",
    "test_score = search_MLP.score(X_test, y_test)\n",
    "print(f'Cross-validation score: {cv_score}\\nTest score: {test_score}')"
   ]
  },
  {
   "cell_type": "markdown",
   "metadata": {},
   "source": [
    "Achieving scores of classification, saving accuracy, recall and F1 score in data frame:"
   ]
  },
  {
   "cell_type": "markdown",
   "metadata": {},
   "source": [
    "Best hyperparameters:"
   ]
  },
  {
   "cell_type": "code",
   "execution_count": 69,
   "metadata": {},
   "outputs": [
    {
     "data": {
      "text/plain": [
       "{'MLP__activation': 'relu',\n",
       " 'MLP__batch_size': 32,\n",
       " 'MLP__hidden_layer_sizes': 16,\n",
       " 'MLP__max_iter': 1000,\n",
       " 'MLP__random_state': 42,\n",
       " 'MLP__solver': 'adam',\n",
       " 'pca__n_components': 20}"
      ]
     },
     "execution_count": 69,
     "metadata": {},
     "output_type": "execute_result"
    }
   ],
   "source": [
    "search_MLP.best_params_"
   ]
  },
  {
   "cell_type": "code",
   "execution_count": 70,
   "metadata": {},
   "outputs": [
    {
     "name": "stdout",
     "output_type": "stream",
     "text": [
      "              precision    recall  f1-score   support\n",
      "\n",
      "           0       0.84      0.86      0.85     22550\n",
      "           1       0.76      0.73      0.74     13267\n",
      "\n",
      "    accuracy                           0.81     35817\n",
      "   macro avg       0.80      0.80      0.80     35817\n",
      "weighted avg       0.81      0.81      0.81     35817\n",
      "\n"
     ]
    }
   ],
   "source": [
    "y_pred_mlp = search_MLP.predict(X_test)\n",
    "print(classification_report(y_test, y_pred_mlp))\n",
    "A_report_mlp = pd.DataFrame(classification_report(y_test, y_pred_mlp, output_dict=True))"
   ]
  },
  {
   "cell_type": "code",
   "execution_count": 71,
   "metadata": {},
   "outputs": [],
   "source": [
    "for i, name in enumerate(A_report_mlp.columns):\n",
    "  A_report_mlp = A_report_mlp.rename(columns={(A_report_mlp.iloc[:,i].name): ('MLP_'+A_report_mlp.iloc[:,i].name)})\n"
   ]
  },
  {
   "cell_type": "code",
   "execution_count": 72,
   "metadata": {},
   "outputs": [
    {
     "data": {
      "text/html": [
       "<div>\n",
       "<style scoped>\n",
       "    .dataframe tbody tr th:only-of-type {\n",
       "        vertical-align: middle;\n",
       "    }\n",
       "\n",
       "    .dataframe tbody tr th {\n",
       "        vertical-align: top;\n",
       "    }\n",
       "\n",
       "    .dataframe thead th {\n",
       "        text-align: right;\n",
       "    }\n",
       "</style>\n",
       "<table border=\"1\" class=\"dataframe\">\n",
       "  <thead>\n",
       "    <tr style=\"text-align: right;\">\n",
       "      <th></th>\n",
       "      <th>MLP_0</th>\n",
       "      <th>MLP_1</th>\n",
       "      <th>MLP_accuracy</th>\n",
       "      <th>MLP_macro avg</th>\n",
       "      <th>MLP_weighted avg</th>\n",
       "    </tr>\n",
       "  </thead>\n",
       "  <tbody>\n",
       "    <tr>\n",
       "      <th>precision</th>\n",
       "      <td>0.843845</td>\n",
       "      <td>0.755920</td>\n",
       "      <td>0.812435</td>\n",
       "      <td>0.799883</td>\n",
       "      <td>0.811277</td>\n",
       "    </tr>\n",
       "    <tr>\n",
       "      <th>recall</th>\n",
       "      <td>0.861508</td>\n",
       "      <td>0.729027</td>\n",
       "      <td>0.812435</td>\n",
       "      <td>0.795267</td>\n",
       "      <td>0.812435</td>\n",
       "    </tr>\n",
       "    <tr>\n",
       "      <th>f1-score</th>\n",
       "      <td>0.852585</td>\n",
       "      <td>0.742230</td>\n",
       "      <td>0.812435</td>\n",
       "      <td>0.797407</td>\n",
       "      <td>0.811708</td>\n",
       "    </tr>\n",
       "    <tr>\n",
       "      <th>support</th>\n",
       "      <td>22550.000000</td>\n",
       "      <td>13267.000000</td>\n",
       "      <td>0.812435</td>\n",
       "      <td>35817.000000</td>\n",
       "      <td>35817.000000</td>\n",
       "    </tr>\n",
       "  </tbody>\n",
       "</table>\n",
       "</div>"
      ],
      "text/plain": [
       "                  MLP_0         MLP_1  MLP_accuracy  MLP_macro avg  \\\n",
       "precision      0.843845      0.755920      0.812435       0.799883   \n",
       "recall         0.861508      0.729027      0.812435       0.795267   \n",
       "f1-score       0.852585      0.742230      0.812435       0.797407   \n",
       "support    22550.000000  13267.000000      0.812435   35817.000000   \n",
       "\n",
       "           MLP_weighted avg  \n",
       "precision          0.811277  \n",
       "recall             0.812435  \n",
       "f1-score           0.811708  \n",
       "support        35817.000000  "
      ]
     },
     "execution_count": 72,
     "metadata": {},
     "output_type": "execute_result"
    }
   ],
   "source": [
    "A_report_mlp"
   ]
  },
  {
   "cell_type": "markdown",
   "metadata": {},
   "source": [
    "Creating Data Frame containing all six classifiers results:"
   ]
  },
  {
   "cell_type": "code",
   "execution_count": 73,
   "metadata": {},
   "outputs": [],
   "source": [
    "A_results = pd.concat([A_report_rf, \n",
    "                       A_report_dtc, \n",
    "                       A_report_svc, \n",
    "                       A_report_xgb, \n",
    "                       A_report_lr, \n",
    "                       A_report_mlp], \n",
    "                      axis=1)"
   ]
  },
  {
   "cell_type": "code",
   "execution_count": 74,
   "metadata": {},
   "outputs": [
    {
     "data": {
      "text/html": [
       "<div>\n",
       "<style scoped>\n",
       "    .dataframe tbody tr th:only-of-type {\n",
       "        vertical-align: middle;\n",
       "    }\n",
       "\n",
       "    .dataframe tbody tr th {\n",
       "        vertical-align: top;\n",
       "    }\n",
       "\n",
       "    .dataframe thead th {\n",
       "        text-align: right;\n",
       "    }\n",
       "</style>\n",
       "<table border=\"1\" class=\"dataframe\">\n",
       "  <thead>\n",
       "    <tr style=\"text-align: right;\">\n",
       "      <th></th>\n",
       "      <th>RF_0</th>\n",
       "      <th>RF_1</th>\n",
       "      <th>RF_accuracy</th>\n",
       "      <th>RF_macro avg</th>\n",
       "      <th>RF_weighted avg</th>\n",
       "      <th>DTC_0</th>\n",
       "      <th>DTC_1</th>\n",
       "      <th>DTC_accuracy</th>\n",
       "      <th>DTC_macro avg</th>\n",
       "      <th>DTC_weighted avg</th>\n",
       "      <th>...</th>\n",
       "      <th>LR_0</th>\n",
       "      <th>LR_1</th>\n",
       "      <th>LR_accuracy</th>\n",
       "      <th>LR_macro avg</th>\n",
       "      <th>LR_weighted avg</th>\n",
       "      <th>MLP_0</th>\n",
       "      <th>MLP_1</th>\n",
       "      <th>MLP_accuracy</th>\n",
       "      <th>MLP_macro avg</th>\n",
       "      <th>MLP_weighted avg</th>\n",
       "    </tr>\n",
       "  </thead>\n",
       "  <tbody>\n",
       "    <tr>\n",
       "      <th>precision</th>\n",
       "      <td>0.817547</td>\n",
       "      <td>0.792963</td>\n",
       "      <td>0.809979</td>\n",
       "      <td>0.805255</td>\n",
       "      <td>0.808441</td>\n",
       "      <td>0.797431</td>\n",
       "      <td>0.648731</td>\n",
       "      <td>0.741491</td>\n",
       "      <td>0.723081</td>\n",
       "      <td>0.742351</td>\n",
       "      <td>...</td>\n",
       "      <td>0.832342</td>\n",
       "      <td>0.658200</td>\n",
       "      <td>0.760365</td>\n",
       "      <td>0.745271</td>\n",
       "      <td>0.767838</td>\n",
       "      <td>0.843845</td>\n",
       "      <td>0.755920</td>\n",
       "      <td>0.812435</td>\n",
       "      <td>0.799883</td>\n",
       "      <td>0.811277</td>\n",
       "    </tr>\n",
       "    <tr>\n",
       "      <th>recall</th>\n",
       "      <td>0.898758</td>\n",
       "      <td>0.659079</td>\n",
       "      <td>0.809979</td>\n",
       "      <td>0.778919</td>\n",
       "      <td>0.809979</td>\n",
       "      <td>0.790111</td>\n",
       "      <td>0.658853</td>\n",
       "      <td>0.741491</td>\n",
       "      <td>0.724482</td>\n",
       "      <td>0.741491</td>\n",
       "      <td>...</td>\n",
       "      <td>0.775610</td>\n",
       "      <td>0.734454</td>\n",
       "      <td>0.760365</td>\n",
       "      <td>0.755032</td>\n",
       "      <td>0.760365</td>\n",
       "      <td>0.861508</td>\n",
       "      <td>0.729027</td>\n",
       "      <td>0.812435</td>\n",
       "      <td>0.795267</td>\n",
       "      <td>0.812435</td>\n",
       "    </tr>\n",
       "    <tr>\n",
       "      <th>f1-score</th>\n",
       "      <td>0.856232</td>\n",
       "      <td>0.719849</td>\n",
       "      <td>0.809979</td>\n",
       "      <td>0.788040</td>\n",
       "      <td>0.805714</td>\n",
       "      <td>0.793754</td>\n",
       "      <td>0.653753</td>\n",
       "      <td>0.741491</td>\n",
       "      <td>0.723753</td>\n",
       "      <td>0.741896</td>\n",
       "      <td>...</td>\n",
       "      <td>0.802975</td>\n",
       "      <td>0.694240</td>\n",
       "      <td>0.760365</td>\n",
       "      <td>0.748607</td>\n",
       "      <td>0.762698</td>\n",
       "      <td>0.852585</td>\n",
       "      <td>0.742230</td>\n",
       "      <td>0.812435</td>\n",
       "      <td>0.797407</td>\n",
       "      <td>0.811708</td>\n",
       "    </tr>\n",
       "    <tr>\n",
       "      <th>support</th>\n",
       "      <td>22550.000000</td>\n",
       "      <td>13267.000000</td>\n",
       "      <td>0.809979</td>\n",
       "      <td>35817.000000</td>\n",
       "      <td>35817.000000</td>\n",
       "      <td>22550.000000</td>\n",
       "      <td>13267.000000</td>\n",
       "      <td>0.741491</td>\n",
       "      <td>35817.000000</td>\n",
       "      <td>35817.000000</td>\n",
       "      <td>...</td>\n",
       "      <td>22550.000000</td>\n",
       "      <td>13267.000000</td>\n",
       "      <td>0.760365</td>\n",
       "      <td>35817.000000</td>\n",
       "      <td>35817.000000</td>\n",
       "      <td>22550.000000</td>\n",
       "      <td>13267.000000</td>\n",
       "      <td>0.812435</td>\n",
       "      <td>35817.000000</td>\n",
       "      <td>35817.000000</td>\n",
       "    </tr>\n",
       "  </tbody>\n",
       "</table>\n",
       "<p>4 rows × 30 columns</p>\n",
       "</div>"
      ],
      "text/plain": [
       "                   RF_0          RF_1  RF_accuracy  RF_macro avg  \\\n",
       "precision      0.817547      0.792963     0.809979      0.805255   \n",
       "recall         0.898758      0.659079     0.809979      0.778919   \n",
       "f1-score       0.856232      0.719849     0.809979      0.788040   \n",
       "support    22550.000000  13267.000000     0.809979  35817.000000   \n",
       "\n",
       "           RF_weighted avg         DTC_0         DTC_1  DTC_accuracy  \\\n",
       "precision         0.808441      0.797431      0.648731      0.741491   \n",
       "recall            0.809979      0.790111      0.658853      0.741491   \n",
       "f1-score          0.805714      0.793754      0.653753      0.741491   \n",
       "support       35817.000000  22550.000000  13267.000000      0.741491   \n",
       "\n",
       "           DTC_macro avg  DTC_weighted avg  ...          LR_0          LR_1  \\\n",
       "precision       0.723081          0.742351  ...      0.832342      0.658200   \n",
       "recall          0.724482          0.741491  ...      0.775610      0.734454   \n",
       "f1-score        0.723753          0.741896  ...      0.802975      0.694240   \n",
       "support     35817.000000      35817.000000  ...  22550.000000  13267.000000   \n",
       "\n",
       "           LR_accuracy  LR_macro avg  LR_weighted avg         MLP_0  \\\n",
       "precision     0.760365      0.745271         0.767838      0.843845   \n",
       "recall        0.760365      0.755032         0.760365      0.861508   \n",
       "f1-score      0.760365      0.748607         0.762698      0.852585   \n",
       "support       0.760365  35817.000000     35817.000000  22550.000000   \n",
       "\n",
       "                  MLP_1  MLP_accuracy  MLP_macro avg  MLP_weighted avg  \n",
       "precision      0.755920      0.812435       0.799883          0.811277  \n",
       "recall         0.729027      0.812435       0.795267          0.812435  \n",
       "f1-score       0.742230      0.812435       0.797407          0.811708  \n",
       "support    13267.000000      0.812435   35817.000000      35817.000000  \n",
       "\n",
       "[4 rows x 30 columns]"
      ]
     },
     "execution_count": 74,
     "metadata": {},
     "output_type": "execute_result"
    }
   ],
   "source": [
    "A_results"
   ]
  },
  {
   "cell_type": "markdown",
   "metadata": {},
   "source": [
    "Saving results in a file:"
   ]
  },
  {
   "cell_type": "code",
   "execution_count": 75,
   "metadata": {},
   "outputs": [],
   "source": [
    "A_results.to_pickle(\"data/A_dataset_results.pkl\")"
   ]
  },
  {
   "cell_type": "code",
   "execution_count": 76,
   "metadata": {},
   "outputs": [],
   "source": [
    "A_results = pd.read_pickle(\"data/A_dataset_results.pkl\")"
   ]
  },
  {
   "cell_type": "code",
   "execution_count": 77,
   "metadata": {
    "scrolled": true
   },
   "outputs": [
    {
     "data": {
      "text/html": [
       "<div>\n",
       "<style scoped>\n",
       "    .dataframe tbody tr th:only-of-type {\n",
       "        vertical-align: middle;\n",
       "    }\n",
       "\n",
       "    .dataframe tbody tr th {\n",
       "        vertical-align: top;\n",
       "    }\n",
       "\n",
       "    .dataframe thead th {\n",
       "        text-align: right;\n",
       "    }\n",
       "</style>\n",
       "<table border=\"1\" class=\"dataframe\">\n",
       "  <thead>\n",
       "    <tr style=\"text-align: right;\">\n",
       "      <th></th>\n",
       "      <th>RF_0</th>\n",
       "      <th>RF_1</th>\n",
       "      <th>RF_accuracy</th>\n",
       "      <th>RF_macro avg</th>\n",
       "      <th>RF_weighted avg</th>\n",
       "      <th>DTC_0</th>\n",
       "      <th>DTC_1</th>\n",
       "      <th>DTC_accuracy</th>\n",
       "      <th>DTC_macro avg</th>\n",
       "      <th>DTC_weighted avg</th>\n",
       "      <th>...</th>\n",
       "      <th>LR_0</th>\n",
       "      <th>LR_1</th>\n",
       "      <th>LR_accuracy</th>\n",
       "      <th>LR_macro avg</th>\n",
       "      <th>LR_weighted avg</th>\n",
       "      <th>MLP_0</th>\n",
       "      <th>MLP_1</th>\n",
       "      <th>MLP_accuracy</th>\n",
       "      <th>MLP_macro avg</th>\n",
       "      <th>MLP_weighted avg</th>\n",
       "    </tr>\n",
       "  </thead>\n",
       "  <tbody>\n",
       "    <tr>\n",
       "      <th>precision</th>\n",
       "      <td>0.817547</td>\n",
       "      <td>0.792963</td>\n",
       "      <td>0.809979</td>\n",
       "      <td>0.805255</td>\n",
       "      <td>0.808441</td>\n",
       "      <td>0.797431</td>\n",
       "      <td>0.648731</td>\n",
       "      <td>0.741491</td>\n",
       "      <td>0.723081</td>\n",
       "      <td>0.742351</td>\n",
       "      <td>...</td>\n",
       "      <td>0.832342</td>\n",
       "      <td>0.658200</td>\n",
       "      <td>0.760365</td>\n",
       "      <td>0.745271</td>\n",
       "      <td>0.767838</td>\n",
       "      <td>0.843845</td>\n",
       "      <td>0.755920</td>\n",
       "      <td>0.812435</td>\n",
       "      <td>0.799883</td>\n",
       "      <td>0.811277</td>\n",
       "    </tr>\n",
       "    <tr>\n",
       "      <th>recall</th>\n",
       "      <td>0.898758</td>\n",
       "      <td>0.659079</td>\n",
       "      <td>0.809979</td>\n",
       "      <td>0.778919</td>\n",
       "      <td>0.809979</td>\n",
       "      <td>0.790111</td>\n",
       "      <td>0.658853</td>\n",
       "      <td>0.741491</td>\n",
       "      <td>0.724482</td>\n",
       "      <td>0.741491</td>\n",
       "      <td>...</td>\n",
       "      <td>0.775610</td>\n",
       "      <td>0.734454</td>\n",
       "      <td>0.760365</td>\n",
       "      <td>0.755032</td>\n",
       "      <td>0.760365</td>\n",
       "      <td>0.861508</td>\n",
       "      <td>0.729027</td>\n",
       "      <td>0.812435</td>\n",
       "      <td>0.795267</td>\n",
       "      <td>0.812435</td>\n",
       "    </tr>\n",
       "    <tr>\n",
       "      <th>f1-score</th>\n",
       "      <td>0.856232</td>\n",
       "      <td>0.719849</td>\n",
       "      <td>0.809979</td>\n",
       "      <td>0.788040</td>\n",
       "      <td>0.805714</td>\n",
       "      <td>0.793754</td>\n",
       "      <td>0.653753</td>\n",
       "      <td>0.741491</td>\n",
       "      <td>0.723753</td>\n",
       "      <td>0.741896</td>\n",
       "      <td>...</td>\n",
       "      <td>0.802975</td>\n",
       "      <td>0.694240</td>\n",
       "      <td>0.760365</td>\n",
       "      <td>0.748607</td>\n",
       "      <td>0.762698</td>\n",
       "      <td>0.852585</td>\n",
       "      <td>0.742230</td>\n",
       "      <td>0.812435</td>\n",
       "      <td>0.797407</td>\n",
       "      <td>0.811708</td>\n",
       "    </tr>\n",
       "    <tr>\n",
       "      <th>support</th>\n",
       "      <td>22550.000000</td>\n",
       "      <td>13267.000000</td>\n",
       "      <td>0.809979</td>\n",
       "      <td>35817.000000</td>\n",
       "      <td>35817.000000</td>\n",
       "      <td>22550.000000</td>\n",
       "      <td>13267.000000</td>\n",
       "      <td>0.741491</td>\n",
       "      <td>35817.000000</td>\n",
       "      <td>35817.000000</td>\n",
       "      <td>...</td>\n",
       "      <td>22550.000000</td>\n",
       "      <td>13267.000000</td>\n",
       "      <td>0.760365</td>\n",
       "      <td>35817.000000</td>\n",
       "      <td>35817.000000</td>\n",
       "      <td>22550.000000</td>\n",
       "      <td>13267.000000</td>\n",
       "      <td>0.812435</td>\n",
       "      <td>35817.000000</td>\n",
       "      <td>35817.000000</td>\n",
       "    </tr>\n",
       "  </tbody>\n",
       "</table>\n",
       "<p>4 rows × 30 columns</p>\n",
       "</div>"
      ],
      "text/plain": [
       "                   RF_0          RF_1  RF_accuracy  RF_macro avg  \\\n",
       "precision      0.817547      0.792963     0.809979      0.805255   \n",
       "recall         0.898758      0.659079     0.809979      0.778919   \n",
       "f1-score       0.856232      0.719849     0.809979      0.788040   \n",
       "support    22550.000000  13267.000000     0.809979  35817.000000   \n",
       "\n",
       "           RF_weighted avg         DTC_0         DTC_1  DTC_accuracy  \\\n",
       "precision         0.808441      0.797431      0.648731      0.741491   \n",
       "recall            0.809979      0.790111      0.658853      0.741491   \n",
       "f1-score          0.805714      0.793754      0.653753      0.741491   \n",
       "support       35817.000000  22550.000000  13267.000000      0.741491   \n",
       "\n",
       "           DTC_macro avg  DTC_weighted avg  ...          LR_0          LR_1  \\\n",
       "precision       0.723081          0.742351  ...      0.832342      0.658200   \n",
       "recall          0.724482          0.741491  ...      0.775610      0.734454   \n",
       "f1-score        0.723753          0.741896  ...      0.802975      0.694240   \n",
       "support     35817.000000      35817.000000  ...  22550.000000  13267.000000   \n",
       "\n",
       "           LR_accuracy  LR_macro avg  LR_weighted avg         MLP_0  \\\n",
       "precision     0.760365      0.745271         0.767838      0.843845   \n",
       "recall        0.760365      0.755032         0.760365      0.861508   \n",
       "f1-score      0.760365      0.748607         0.762698      0.852585   \n",
       "support       0.760365  35817.000000     35817.000000  22550.000000   \n",
       "\n",
       "                  MLP_1  MLP_accuracy  MLP_macro avg  MLP_weighted avg  \n",
       "precision      0.755920      0.812435       0.799883          0.811277  \n",
       "recall         0.729027      0.812435       0.795267          0.812435  \n",
       "f1-score       0.742230      0.812435       0.797407          0.811708  \n",
       "support    13267.000000      0.812435   35817.000000      35817.000000  \n",
       "\n",
       "[4 rows x 30 columns]"
      ]
     },
     "execution_count": 77,
     "metadata": {},
     "output_type": "execute_result"
    }
   ],
   "source": [
    "A_results"
   ]
  }
 ],
 "metadata": {
  "kernelspec": {
   "display_name": "Python 3",
   "language": "python",
   "name": "python3"
  },
  "language_info": {
   "codemirror_mode": {
    "name": "ipython",
    "version": 3
   },
   "file_extension": ".py",
   "mimetype": "text/x-python",
   "name": "python",
   "nbconvert_exporter": "python",
   "pygments_lexer": "ipython3",
   "version": "3.8.10"
  }
 },
 "nbformat": 4,
 "nbformat_minor": 4
}
