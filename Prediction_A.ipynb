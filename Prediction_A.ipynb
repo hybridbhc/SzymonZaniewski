{
 "cells": [
  {
   "cell_type": "markdown",
   "metadata": {},
   "source": [
    "#Machine Learning Models for prepared significant variables dataset"
   ]
  },
  {
   "cell_type": "markdown",
   "metadata": {},
   "source": [
    "**In this notebook I'm utilizing five Machine Learning algorithms and one Deep Learning algorithm on initially cleaned dataset. Making use of RandomizedSearch in pipelines to find out best hyperparameters for ML algorithms. I'll perform some additional preparations of dataset, divide into train and test subsets, encoding into numbers with pandas get_dummies and OrdinalEncoder, using StandardScaller for scaling, SMOTEENN to make classes equal and PCA to decrease amount of variables**"
   ]
  },
  {
   "cell_type": "markdown",
   "metadata": {},
   "source": [
    "Imports:"
   ]
  },
  {
   "cell_type": "code",
   "execution_count": 352,
   "metadata": {},
   "outputs": [],
   "source": [
    "import pandas as pd\n",
    "import numpy as np\n",
    "from sklearn.tree import DecisionTreeClassifier\n",
    "from sklearn.ensemble import RandomForestClassifier\n",
    "from sklearn.svm import SVC\n",
    "from xgboost.sklearn import XGBClassifier\n",
    "from sklearn.neural_network import MLPClassifier\n",
    "from sklearn.linear_model import LogisticRegression\n",
    "\n",
    "from sklearn.preprocessing import (StandardScaler, \n",
    "                                   OrdinalEncoder, \n",
    "                                   MinMaxScaler)\n",
    "\n",
    "from sklearn.model_selection import (train_test_split, \n",
    "                                     GridSearchCV, \n",
    "                                     StratifiedKFold, \n",
    "                                     RandomizedSearchCV)\n",
    "\n",
    "from imblearn.over_sampling import SMOTE\n",
    "from imblearn.combine import SMOTEENN\n",
    "from imblearn.pipeline import Pipeline as imbpipeline\n",
    "from sklearn.pipeline import Pipeline\n",
    "from sklearn.metrics import (classification_report, \n",
    "                             roc_auc_score, \n",
    "                             make_scorer, \n",
    "                             recall_score, \n",
    "                             confusion_matrix, \n",
    "                             accuracy_score,\n",
    "                            get_scorer_names)\n",
    "from sklearn.decomposition import PCA"
   ]
  },
  {
   "cell_type": "markdown",
   "metadata": {},
   "source": [
    "Loading dataset:"
   ]
  },
  {
   "cell_type": "code",
   "execution_count": 243,
   "metadata": {},
   "outputs": [],
   "source": [
    "data_clean = pd.read_pickle(\"data/data_clear.pkl\")"
   ]
  },
  {
   "cell_type": "markdown",
   "metadata": {},
   "source": [
    "Dividing into predictor variables X and target y (\"is_canceled\"):"
   ]
  },
  {
   "cell_type": "code",
   "execution_count": 245,
   "metadata": {},
   "outputs": [],
   "source": [
    "X = data_clean.drop(\"is_canceled\", axis=1)\n",
    "y = data_clean.is_canceled"
   ]
  },
  {
   "cell_type": "markdown",
   "metadata": {},
   "source": [
    "Splitting dataset into train and test subsets with test size 30% and train 70%:"
   ]
  },
  {
   "cell_type": "code",
   "execution_count": 246,
   "metadata": {},
   "outputs": [],
   "source": [
    "X_train, X_test, y_train, y_test = train_test_split(X, y,\n",
    "                                                    test_size=0.3,\n",
    "                                                    stratify=y,\n",
    "                                                    random_state=42\n",
    "                                                   )"
   ]
  },
  {
   "cell_type": "markdown",
   "metadata": {},
   "source": [
    "Shape after division"
   ]
  },
  {
   "cell_type": "code",
   "execution_count": 247,
   "metadata": {},
   "outputs": [
    {
     "data": {
      "text/plain": [
       "(83573, 27)"
      ]
     },
     "execution_count": 247,
     "metadata": {},
     "output_type": "execute_result"
    }
   ],
   "source": [
    "X_train.shape"
   ]
  },
  {
   "cell_type": "code",
   "execution_count": 248,
   "metadata": {},
   "outputs": [
    {
     "data": {
      "text/plain": [
       "(35817, 27)"
      ]
     },
     "execution_count": 248,
     "metadata": {},
     "output_type": "execute_result"
    }
   ],
   "source": [
    "X_test.shape"
   ]
  },
  {
   "cell_type": "markdown",
   "metadata": {},
   "source": [
    "Outlier value of column adr found in a file \"Data_Preparations\" now is to be replaced with mean of adr column."
   ]
  },
  {
   "cell_type": "code",
   "execution_count": 249,
   "metadata": {},
   "outputs": [
    {
     "data": {
      "text/plain": [
       "1"
      ]
     },
     "execution_count": 249,
     "metadata": {},
     "output_type": "execute_result"
    }
   ],
   "source": [
    "(X_train[\"adr\"]==5400).sum()"
   ]
  },
  {
   "cell_type": "code",
   "execution_count": 250,
   "metadata": {},
   "outputs": [
    {
     "data": {
      "text/plain": [
       "0"
      ]
     },
     "execution_count": 250,
     "metadata": {},
     "output_type": "execute_result"
    }
   ],
   "source": [
    "(X_test[\"adr\"]==5400).sum()"
   ]
  },
  {
   "cell_type": "code",
   "execution_count": 251,
   "metadata": {},
   "outputs": [
    {
     "name": "stdout",
     "output_type": "stream",
     "text": [
      "Abnormal observations in train subset =  0\n"
     ]
    }
   ],
   "source": [
    "if (X_train[\"adr\"]==5400).sum() > 0:\n",
    "    X_train.replace({5400.0:np.round(X_train.adr.mean(), 2)}, inplace=True) #filling inordinary adr value with mean of training set adr column\n",
    "    print(\"Outlier observations in train subset = \", (X_train[\"adr\"]==5400).sum())\n",
    "elif (X_test[\"adr\"]==5400).sum() > 0:\n",
    "    X_test.replace({5400.0:np.round(X_train.adr.mean(), 2)}, inplace=True)\n",
    "    print(\"Outlier observations in test subset = \", (X_test[\"adr\"]==5400).sum())"
   ]
  },
  {
   "cell_type": "markdown",
   "metadata": {},
   "source": [
    "Encoding columns of most numerous classes with OrdinalEncoder:"
   ]
  },
  {
   "cell_type": "code",
   "execution_count": 252,
   "metadata": {},
   "outputs": [],
   "source": [
    "data_label_train = X_train[[\"agent\", \"company\", \"country\", \"reservation_status_date\", \"arrival_date\"]]\n",
    "data_label_test = X_test[[\"agent\", \"company\", \"country\", \"reservation_status_date\", \"arrival_date\"]]"
   ]
  },
  {
   "cell_type": "code",
   "execution_count": 253,
   "metadata": {},
   "outputs": [],
   "source": [
    "ode = OrdinalEncoder(handle_unknown='use_encoded_value', unknown_value=-1)\n",
    "ode.fit(data_label_train)\n",
    "data_label_train_ode = pd.DataFrame(ode.transform(data_label_train),\n",
    "                                    columns=[\"agent\", \"company\", \"country\", \"reservation_status_date\", \"arrival_date\"])\n",
    "data_label_test_ode = pd.DataFrame(ode.transform(data_label_test), \n",
    "                                   columns=[\"agent\", \"company\", \"country\", \"reservation_status_date\", \"arrival_date\"])"
   ]
  },
  {
   "cell_type": "code",
   "execution_count": 254,
   "metadata": {
    "scrolled": true
   },
   "outputs": [
    {
     "data": {
      "text/html": [
       "<div>\n",
       "<style scoped>\n",
       "    .dataframe tbody tr th:only-of-type {\n",
       "        vertical-align: middle;\n",
       "    }\n",
       "\n",
       "    .dataframe tbody tr th {\n",
       "        vertical-align: top;\n",
       "    }\n",
       "\n",
       "    .dataframe thead th {\n",
       "        text-align: right;\n",
       "    }\n",
       "</style>\n",
       "<table border=\"1\" class=\"dataframe\">\n",
       "  <thead>\n",
       "    <tr style=\"text-align: right;\">\n",
       "      <th></th>\n",
       "      <th>agent</th>\n",
       "      <th>company</th>\n",
       "      <th>country</th>\n",
       "      <th>reservation_status_date</th>\n",
       "      <th>arrival_date</th>\n",
       "    </tr>\n",
       "  </thead>\n",
       "  <tbody>\n",
       "    <tr>\n",
       "      <th>0</th>\n",
       "      <td>288.0</td>\n",
       "      <td>323.0</td>\n",
       "      <td>125.0</td>\n",
       "      <td>400.0</td>\n",
       "      <td>562.0</td>\n",
       "    </tr>\n",
       "    <tr>\n",
       "      <th>1</th>\n",
       "      <td>98.0</td>\n",
       "      <td>323.0</td>\n",
       "      <td>125.0</td>\n",
       "      <td>375.0</td>\n",
       "      <td>258.0</td>\n",
       "    </tr>\n",
       "    <tr>\n",
       "      <th>2</th>\n",
       "      <td>316.0</td>\n",
       "      <td>92.0</td>\n",
       "      <td>125.0</td>\n",
       "      <td>886.0</td>\n",
       "      <td>770.0</td>\n",
       "    </tr>\n",
       "    <tr>\n",
       "      <th>3</th>\n",
       "      <td>316.0</td>\n",
       "      <td>76.0</td>\n",
       "      <td>56.0</td>\n",
       "      <td>449.0</td>\n",
       "      <td>330.0</td>\n",
       "    </tr>\n",
       "    <tr>\n",
       "      <th>4</th>\n",
       "      <td>316.0</td>\n",
       "      <td>323.0</td>\n",
       "      <td>125.0</td>\n",
       "      <td>714.0</td>\n",
       "      <td>597.0</td>\n",
       "    </tr>\n",
       "    <tr>\n",
       "      <th>...</th>\n",
       "      <td>...</td>\n",
       "      <td>...</td>\n",
       "      <td>...</td>\n",
       "      <td>...</td>\n",
       "      <td>...</td>\n",
       "    </tr>\n",
       "    <tr>\n",
       "      <th>83568</th>\n",
       "      <td>0.0</td>\n",
       "      <td>323.0</td>\n",
       "      <td>12.0</td>\n",
       "      <td>339.0</td>\n",
       "      <td>220.0</td>\n",
       "    </tr>\n",
       "    <tr>\n",
       "      <th>83569</th>\n",
       "      <td>143.0</td>\n",
       "      <td>323.0</td>\n",
       "      <td>125.0</td>\n",
       "      <td>640.0</td>\n",
       "      <td>660.0</td>\n",
       "    </tr>\n",
       "    <tr>\n",
       "      <th>83570</th>\n",
       "      <td>99.0</td>\n",
       "      <td>323.0</td>\n",
       "      <td>31.0</td>\n",
       "      <td>817.0</td>\n",
       "      <td>699.0</td>\n",
       "    </tr>\n",
       "    <tr>\n",
       "      <th>83571</th>\n",
       "      <td>193.0</td>\n",
       "      <td>323.0</td>\n",
       "      <td>125.0</td>\n",
       "      <td>304.0</td>\n",
       "      <td>231.0</td>\n",
       "    </tr>\n",
       "    <tr>\n",
       "      <th>83572</th>\n",
       "      <td>316.0</td>\n",
       "      <td>76.0</td>\n",
       "      <td>56.0</td>\n",
       "      <td>449.0</td>\n",
       "      <td>328.0</td>\n",
       "    </tr>\n",
       "  </tbody>\n",
       "</table>\n",
       "<p>83573 rows × 5 columns</p>\n",
       "</div>"
      ],
      "text/plain": [
       "       agent  company  country  reservation_status_date  arrival_date\n",
       "0      288.0    323.0    125.0                    400.0         562.0\n",
       "1       98.0    323.0    125.0                    375.0         258.0\n",
       "2      316.0     92.0    125.0                    886.0         770.0\n",
       "3      316.0     76.0     56.0                    449.0         330.0\n",
       "4      316.0    323.0    125.0                    714.0         597.0\n",
       "...      ...      ...      ...                      ...           ...\n",
       "83568    0.0    323.0     12.0                    339.0         220.0\n",
       "83569  143.0    323.0    125.0                    640.0         660.0\n",
       "83570   99.0    323.0     31.0                    817.0         699.0\n",
       "83571  193.0    323.0    125.0                    304.0         231.0\n",
       "83572  316.0     76.0     56.0                    449.0         328.0\n",
       "\n",
       "[83573 rows x 5 columns]"
      ]
     },
     "execution_count": 254,
     "metadata": {},
     "output_type": "execute_result"
    }
   ],
   "source": [
    "data_label_train_ode"
   ]
  },
  {
   "cell_type": "markdown",
   "metadata": {},
   "source": [
    "Updating encoded columns:"
   ]
  },
  {
   "cell_type": "code",
   "execution_count": 255,
   "metadata": {},
   "outputs": [],
   "source": [
    "X_train.drop([\"agent\", \"company\", \"country\", \"reservation_status_date\", \"arrival_date\"], axis=1, inplace=True)\n",
    "X_test.drop([\"agent\", \"company\", \"country\", \"reservation_status_date\", \"arrival_date\"], axis=1, inplace=True)"
   ]
  },
  {
   "cell_type": "code",
   "execution_count": 256,
   "metadata": {},
   "outputs": [],
   "source": [
    "X_train = pd.concat([X_train.reset_index(drop=True), data_label_train_ode.reset_index(drop=True)], axis=1)\n",
    "X_test = pd.concat([X_test.reset_index(drop=True), data_label_test_ode.reset_index(drop=True)], axis=1)"
   ]
  },
  {
   "cell_type": "code",
   "execution_count": 257,
   "metadata": {},
   "outputs": [
    {
     "data": {
      "text/plain": [
       "(83573, 27)"
      ]
     },
     "execution_count": 257,
     "metadata": {},
     "output_type": "execute_result"
    }
   ],
   "source": [
    "X_train.shape"
   ]
  },
  {
   "cell_type": "markdown",
   "metadata": {},
   "source": [
    "Encoding training and test subsets with get_dummies:"
   ]
  },
  {
   "cell_type": "code",
   "execution_count": 258,
   "metadata": {},
   "outputs": [],
   "source": [
    "X_train = pd.get_dummies(X_train, drop_first=True)"
   ]
  },
  {
   "cell_type": "code",
   "execution_count": 259,
   "metadata": {},
   "outputs": [],
   "source": [
    "X_test = pd.get_dummies(X_test, drop_first=True)\n",
    "X_test = X_test.reindex(columns = X_train.columns, fill_value=0)"
   ]
  },
  {
   "cell_type": "code",
   "execution_count": 260,
   "metadata": {},
   "outputs": [
    {
     "data": {
      "text/plain": [
       "(83573, 59)"
      ]
     },
     "execution_count": 260,
     "metadata": {},
     "output_type": "execute_result"
    }
   ],
   "source": [
    "X_train.shape"
   ]
  },
  {
   "cell_type": "markdown",
   "metadata": {},
   "source": [
    "Initiating StandardScaler for further data scaling:"
   ]
  },
  {
   "cell_type": "code",
   "execution_count": 261,
   "metadata": {},
   "outputs": [],
   "source": [
    "scaler = StandardScaler()"
   ]
  },
  {
   "cell_type": "markdown",
   "metadata": {},
   "source": [
    "Initiating Principal Components with ten components reducing dimentions to ten components :"
   ]
  },
  {
   "cell_type": "code",
   "execution_count": 262,
   "metadata": {},
   "outputs": [],
   "source": [
    "pca = PCA(n_components=10)"
   ]
  },
  {
   "cell_type": "markdown",
   "metadata": {},
   "source": [
    "Initiating algorithm to ballance unballanced data- SMOTEENN:"
   ]
  },
  {
   "cell_type": "code",
   "execution_count": 265,
   "metadata": {},
   "outputs": [],
   "source": [
    "SMOTEEN = SMOTEENN()"
   ]
  },
  {
   "cell_type": "markdown",
   "metadata": {},
   "source": [
    "RandomForestClassifier algorythm with RandomizedGridSearch in pipeline, scaling reducing, ballancing:"
   ]
  },
  {
   "cell_type": "code",
   "execution_count": 266,
   "metadata": {},
   "outputs": [
    {
     "name": "stdout",
     "output_type": "stream",
     "text": [
      "Fitting 5 folds for each of 10 candidates, totalling 50 fits\n",
      "[CV 1/5] END pca__n_components=20, rf__max_depth=10, rf__min_samples_split=5, rf__n_estimators=300;, score=0.891 total time= 1.4min\n",
      "[CV 2/5] END pca__n_components=20, rf__max_depth=10, rf__min_samples_split=5, rf__n_estimators=300;, score=0.887 total time= 1.4min\n",
      "[CV 3/5] END pca__n_components=20, rf__max_depth=10, rf__min_samples_split=5, rf__n_estimators=300;, score=0.894 total time= 1.3min\n",
      "[CV 4/5] END pca__n_components=20, rf__max_depth=10, rf__min_samples_split=5, rf__n_estimators=300;, score=0.891 total time= 1.3min\n",
      "[CV 5/5] END pca__n_components=20, rf__max_depth=10, rf__min_samples_split=5, rf__n_estimators=300;, score=0.895 total time= 1.3min\n",
      "[CV 1/5] END pca__n_components=10, rf__max_depth=20, rf__min_samples_split=5, rf__n_estimators=300;, score=0.898 total time= 1.1min\n",
      "[CV 2/5] END pca__n_components=10, rf__max_depth=20, rf__min_samples_split=5, rf__n_estimators=300;, score=0.897 total time= 1.1min\n",
      "[CV 3/5] END pca__n_components=10, rf__max_depth=20, rf__min_samples_split=5, rf__n_estimators=300;, score=0.902 total time= 1.1min\n",
      "[CV 4/5] END pca__n_components=10, rf__max_depth=20, rf__min_samples_split=5, rf__n_estimators=300;, score=0.905 total time= 1.1min\n",
      "[CV 5/5] END pca__n_components=10, rf__max_depth=20, rf__min_samples_split=5, rf__n_estimators=300;, score=0.905 total time= 1.1min\n",
      "[CV 1/5] END pca__n_components=10, rf__max_depth=20, rf__min_samples_split=5, rf__n_estimators=20;, score=0.896 total time=  10.7s\n",
      "[CV 2/5] END pca__n_components=10, rf__max_depth=20, rf__min_samples_split=5, rf__n_estimators=20;, score=0.893 total time=  10.6s\n",
      "[CV 3/5] END pca__n_components=10, rf__max_depth=20, rf__min_samples_split=5, rf__n_estimators=20;, score=0.900 total time=  10.4s\n",
      "[CV 4/5] END pca__n_components=10, rf__max_depth=20, rf__min_samples_split=5, rf__n_estimators=20;, score=0.894 total time=  11.1s\n",
      "[CV 5/5] END pca__n_components=10, rf__max_depth=20, rf__min_samples_split=5, rf__n_estimators=20;, score=0.901 total time=  10.6s\n",
      "[CV 1/5] END pca__n_components=10, rf__max_depth=10, rf__min_samples_split=5, rf__n_estimators=100;, score=0.871 total time=  22.0s\n",
      "[CV 2/5] END pca__n_components=10, rf__max_depth=10, rf__min_samples_split=5, rf__n_estimators=100;, score=0.864 total time=  22.1s\n",
      "[CV 3/5] END pca__n_components=10, rf__max_depth=10, rf__min_samples_split=5, rf__n_estimators=100;, score=0.879 total time=  22.2s\n",
      "[CV 4/5] END pca__n_components=10, rf__max_depth=10, rf__min_samples_split=5, rf__n_estimators=100;, score=0.874 total time=  22.1s\n",
      "[CV 5/5] END pca__n_components=10, rf__max_depth=10, rf__min_samples_split=5, rf__n_estimators=100;, score=0.877 total time=  21.7s\n",
      "[CV 1/5] END pca__n_components=5, rf__max_depth=10, rf__min_samples_split=10, rf__n_estimators=20;, score=0.848 total time=   4.5s\n",
      "[CV 2/5] END pca__n_components=5, rf__max_depth=10, rf__min_samples_split=10, rf__n_estimators=20;, score=0.851 total time=   4.4s\n",
      "[CV 3/5] END pca__n_components=5, rf__max_depth=10, rf__min_samples_split=10, rf__n_estimators=20;, score=0.854 total time=   4.6s\n",
      "[CV 4/5] END pca__n_components=5, rf__max_depth=10, rf__min_samples_split=10, rf__n_estimators=20;, score=0.850 total time=   5.1s\n",
      "[CV 5/5] END pca__n_components=5, rf__max_depth=10, rf__min_samples_split=10, rf__n_estimators=20;, score=0.854 total time=   4.8s\n",
      "[CV 1/5] END pca__n_components=5, rf__max_depth=20, rf__min_samples_split=5, rf__n_estimators=20;, score=0.875 total time=   5.5s\n",
      "[CV 2/5] END pca__n_components=5, rf__max_depth=20, rf__min_samples_split=5, rf__n_estimators=20;, score=0.872 total time=   5.1s\n",
      "[CV 3/5] END pca__n_components=5, rf__max_depth=20, rf__min_samples_split=5, rf__n_estimators=20;, score=0.877 total time=   5.0s\n",
      "[CV 4/5] END pca__n_components=5, rf__max_depth=20, rf__min_samples_split=5, rf__n_estimators=20;, score=0.876 total time=   5.1s\n",
      "[CV 5/5] END pca__n_components=5, rf__max_depth=20, rf__min_samples_split=5, rf__n_estimators=20;, score=0.876 total time=   5.0s\n",
      "[CV 1/5] END pca__n_components=20, rf__max_depth=10, rf__min_samples_split=5, rf__n_estimators=100;, score=0.889 total time=  39.7s\n",
      "[CV 2/5] END pca__n_components=20, rf__max_depth=10, rf__min_samples_split=5, rf__n_estimators=100;, score=0.886 total time=  39.7s\n",
      "[CV 3/5] END pca__n_components=20, rf__max_depth=10, rf__min_samples_split=5, rf__n_estimators=100;, score=0.896 total time=  39.7s\n",
      "[CV 4/5] END pca__n_components=20, rf__max_depth=10, rf__min_samples_split=5, rf__n_estimators=100;, score=0.890 total time=  39.7s\n",
      "[CV 5/5] END pca__n_components=20, rf__max_depth=10, rf__min_samples_split=5, rf__n_estimators=100;, score=0.896 total time=  39.6s\n",
      "[CV 1/5] END pca__n_components=5, rf__max_depth=10, rf__min_samples_split=5, rf__n_estimators=100;, score=0.853 total time=  12.4s\n",
      "[CV 2/5] END pca__n_components=5, rf__max_depth=10, rf__min_samples_split=5, rf__n_estimators=100;, score=0.852 total time=  12.4s\n",
      "[CV 3/5] END pca__n_components=5, rf__max_depth=10, rf__min_samples_split=5, rf__n_estimators=100;, score=0.857 total time=  12.3s\n",
      "[CV 4/5] END pca__n_components=5, rf__max_depth=10, rf__min_samples_split=5, rf__n_estimators=100;, score=0.851 total time=  12.3s\n",
      "[CV 5/5] END pca__n_components=5, rf__max_depth=10, rf__min_samples_split=5, rf__n_estimators=100;, score=0.855 total time=  12.3s\n",
      "[CV 1/5] END pca__n_components=5, rf__max_depth=20, rf__min_samples_split=5, rf__n_estimators=100;, score=0.880 total time=  15.7s\n",
      "[CV 2/5] END pca__n_components=5, rf__max_depth=20, rf__min_samples_split=5, rf__n_estimators=100;, score=0.874 total time=  15.8s\n",
      "[CV 3/5] END pca__n_components=5, rf__max_depth=20, rf__min_samples_split=5, rf__n_estimators=100;, score=0.881 total time=  15.4s\n",
      "[CV 4/5] END pca__n_components=5, rf__max_depth=20, rf__min_samples_split=5, rf__n_estimators=100;, score=0.880 total time=  15.4s\n",
      "[CV 5/5] END pca__n_components=5, rf__max_depth=20, rf__min_samples_split=5, rf__n_estimators=100;, score=0.879 total time=  15.5s\n",
      "[CV 1/5] END pca__n_components=10, rf__max_depth=20, rf__min_samples_split=10, rf__n_estimators=300;, score=0.899 total time= 1.1min\n",
      "[CV 2/5] END pca__n_components=10, rf__max_depth=20, rf__min_samples_split=10, rf__n_estimators=300;, score=0.895 total time= 1.1min\n",
      "[CV 3/5] END pca__n_components=10, rf__max_depth=20, rf__min_samples_split=10, rf__n_estimators=300;, score=0.903 total time= 1.1min\n",
      "[CV 4/5] END pca__n_components=10, rf__max_depth=20, rf__min_samples_split=10, rf__n_estimators=300;, score=0.900 total time= 1.1min\n",
      "[CV 5/5] END pca__n_components=10, rf__max_depth=20, rf__min_samples_split=10, rf__n_estimators=300;, score=0.903 total time= 1.1min\n",
      "Random Forest:\n",
      "{'rf__n_estimators': 300, 'rf__min_samples_split': 5, 'rf__max_depth': 20, 'pca__n_components': 10}\n",
      "Wyniki test: 0.7965770444202473\n",
      "Wyniki train: 0.8635205149988633\n"
     ]
    }
   ],
   "source": [
    "stratified_kfold = StratifiedKFold(n_splits=5,\n",
    "                                       shuffle=True,\n",
    "                                       random_state=11)\n",
    "#imbpipeline\n",
    "pipeline_rf = imbpipeline(steps=[\n",
    "    ['scaler', scaler],\n",
    "    ['pca', pca],\n",
    "    ['smote', SMOTEEN],\n",
    "    ['rf', RandomForestClassifier()]])\n",
    "    \n",
    "param_distributions_rf = {\n",
    "    'rf__n_estimators': [20, 100, 300],\n",
    "    'rf__max_depth': [10, 20],\n",
    "    'rf__min_samples_split': [5, 10],\n",
    "    'pca__n_components': [5, 10, 20]\n",
    "}\n",
    "\n",
    "search_rf = RandomizedSearchCV(pipeline_rf, \n",
    "                               param_distributions_rf, \n",
    "                               n_iter=10, \n",
    "                               cv=stratified_kfold, \n",
    "                               scoring='roc_auc',\n",
    "                               verbose=3\n",
    "                              )\n",
    "\n",
    "search_rf.fit(X_train, y_train)\n",
    "y_pred_rf = search_rf.best_estimator_.predict(X_test)\n",
    "print(\"Random Forest:\")\n",
    "print(search_rf.best_params_)\n",
    "print(f'Results on test: {search_rf.best_estimator_.score(X_test, y_test)}')\n",
    "print(f'Results on train: {search_rf.best_estimator_.score(X_train, y_train)}')"
   ]
  },
  {
   "cell_type": "markdown",
   "metadata": {},
   "source": [
    "Achieving scores of classification, saving accuracy, recall and F1 score in data frame:"
   ]
  },
  {
   "cell_type": "markdown",
   "metadata": {},
   "source": [
    "Best hyperparameters:"
   ]
  },
  {
   "cell_type": "code",
   "execution_count": null,
   "metadata": {},
   "outputs": [],
   "source": [
    "search_rf.best_params_"
   ]
  },
  {
   "cell_type": "code",
   "execution_count": 267,
   "metadata": {},
   "outputs": [],
   "source": [
    "#print(get_scorer_names())"
   ]
  },
  {
   "cell_type": "code",
   "execution_count": 268,
   "metadata": {},
   "outputs": [
    {
     "data": {
      "text/plain": [
       "array([0, 1, 1, ..., 0, 0, 0])"
      ]
     },
     "execution_count": 268,
     "metadata": {},
     "output_type": "execute_result"
    }
   ],
   "source": [
    "y_pred_rf"
   ]
  },
  {
   "cell_type": "code",
   "execution_count": 269,
   "metadata": {},
   "outputs": [
    {
     "name": "stdout",
     "output_type": "stream",
     "text": [
      "              precision    recall  f1-score   support\n",
      "\n",
      "           0       0.80      0.91      0.85     22550\n",
      "           1       0.79      0.61      0.69     13267\n",
      "\n",
      "    accuracy                           0.80     35817\n",
      "   macro avg       0.80      0.76      0.77     35817\n",
      "weighted avg       0.80      0.80      0.79     35817\n",
      "\n"
     ]
    }
   ],
   "source": [
    "print(classification_report(y_test, y_pred_rf))"
   ]
  },
  {
   "cell_type": "code",
   "execution_count": 270,
   "metadata": {
    "scrolled": true
   },
   "outputs": [],
   "source": [
    "A_report_rf = pd.DataFrame(classification_report(y_test, y_pred_rf, output_dict=True))"
   ]
  },
  {
   "cell_type": "code",
   "execution_count": 324,
   "metadata": {},
   "outputs": [],
   "source": [
    "for i, name in enumerate(A_report_rf.columns):\n",
    "  A_report_rf = A_report_rf.rename(columns={(A_report_rf.iloc[:,i].name): ('RF_'+A_report_xgb.iloc[:,i].name)})"
   ]
  },
  {
   "cell_type": "code",
   "execution_count": 325,
   "metadata": {},
   "outputs": [
    {
     "data": {
      "text/html": [
       "<div>\n",
       "<style scoped>\n",
       "    .dataframe tbody tr th:only-of-type {\n",
       "        vertical-align: middle;\n",
       "    }\n",
       "\n",
       "    .dataframe tbody tr th {\n",
       "        vertical-align: top;\n",
       "    }\n",
       "\n",
       "    .dataframe thead th {\n",
       "        text-align: right;\n",
       "    }\n",
       "</style>\n",
       "<table border=\"1\" class=\"dataframe\">\n",
       "  <thead>\n",
       "    <tr style=\"text-align: right;\">\n",
       "      <th></th>\n",
       "      <th>RF_0</th>\n",
       "      <th>RF_1</th>\n",
       "      <th>RF_accuracy</th>\n",
       "      <th>RF_macro avg</th>\n",
       "      <th>RF_weighted avg</th>\n",
       "    </tr>\n",
       "  </thead>\n",
       "  <tbody>\n",
       "    <tr>\n",
       "      <th>precision</th>\n",
       "      <td>0.798638</td>\n",
       "      <td>0.791443</td>\n",
       "      <td>0.796577</td>\n",
       "      <td>0.795041</td>\n",
       "      <td>0.795973</td>\n",
       "    </tr>\n",
       "    <tr>\n",
       "      <th>recall</th>\n",
       "      <td>0.905100</td>\n",
       "      <td>0.612120</td>\n",
       "      <td>0.796577</td>\n",
       "      <td>0.758610</td>\n",
       "      <td>0.796577</td>\n",
       "    </tr>\n",
       "    <tr>\n",
       "      <th>f1-score</th>\n",
       "      <td>0.848543</td>\n",
       "      <td>0.690326</td>\n",
       "      <td>0.796577</td>\n",
       "      <td>0.769435</td>\n",
       "      <td>0.789938</td>\n",
       "    </tr>\n",
       "    <tr>\n",
       "      <th>support</th>\n",
       "      <td>22550.000000</td>\n",
       "      <td>13267.000000</td>\n",
       "      <td>0.796577</td>\n",
       "      <td>35817.000000</td>\n",
       "      <td>35817.000000</td>\n",
       "    </tr>\n",
       "  </tbody>\n",
       "</table>\n",
       "</div>"
      ],
      "text/plain": [
       "                   RF_0          RF_1  RF_accuracy  RF_macro avg  \\\n",
       "precision      0.798638      0.791443     0.796577      0.795041   \n",
       "recall         0.905100      0.612120     0.796577      0.758610   \n",
       "f1-score       0.848543      0.690326     0.796577      0.769435   \n",
       "support    22550.000000  13267.000000     0.796577  35817.000000   \n",
       "\n",
       "           RF_weighted avg  \n",
       "precision         0.795973  \n",
       "recall            0.796577  \n",
       "f1-score          0.789938  \n",
       "support       35817.000000  "
      ]
     },
     "execution_count": 325,
     "metadata": {},
     "output_type": "execute_result"
    }
   ],
   "source": [
    "A_report_rf"
   ]
  },
  {
   "cell_type": "markdown",
   "metadata": {},
   "source": [
    "DecisionTreeClassifier algorythm with RandomizedGridSearch in pipeline, scaling reducing, ballancing:"
   ]
  },
  {
   "cell_type": "code",
   "execution_count": 271,
   "metadata": {},
   "outputs": [
    {
     "name": "stdout",
     "output_type": "stream",
     "text": [
      "Fitting 5 folds for each of 144 candidates, totalling 720 fits\n",
      "[CV 1/5] END dtc__max_depth=4, dtc__max_leaf_nodes=2, dtc__random_state=43, pca__n_components=5;, score=0.644 total time=   2.6s\n",
      "[CV 2/5] END dtc__max_depth=4, dtc__max_leaf_nodes=2, dtc__random_state=43, pca__n_components=5;, score=0.638 total time=   2.5s\n",
      "[CV 3/5] END dtc__max_depth=4, dtc__max_leaf_nodes=2, dtc__random_state=43, pca__n_components=5;, score=0.641 total time=   2.5s\n",
      "[CV 4/5] END dtc__max_depth=4, dtc__max_leaf_nodes=2, dtc__random_state=43, pca__n_components=5;, score=0.646 total time=   2.7s\n",
      "[CV 5/5] END dtc__max_depth=4, dtc__max_leaf_nodes=2, dtc__random_state=43, pca__n_components=5;, score=0.644 total time=   2.6s\n",
      "[CV 1/5] END dtc__max_depth=4, dtc__max_leaf_nodes=2, dtc__random_state=43, pca__n_components=10;, score=0.643 total time=   7.3s\n",
      "[CV 2/5] END dtc__max_depth=4, dtc__max_leaf_nodes=2, dtc__random_state=43, pca__n_components=10;, score=0.632 total time=   6.6s\n",
      "[CV 3/5] END dtc__max_depth=4, dtc__max_leaf_nodes=2, dtc__random_state=43, pca__n_components=10;, score=0.641 total time=   6.9s\n",
      "[CV 4/5] END dtc__max_depth=4, dtc__max_leaf_nodes=2, dtc__random_state=43, pca__n_components=10;, score=0.643 total time=   6.7s\n",
      "[CV 5/5] END dtc__max_depth=4, dtc__max_leaf_nodes=2, dtc__random_state=43, pca__n_components=10;, score=0.644 total time=   6.4s\n",
      "[CV 1/5] END dtc__max_depth=4, dtc__max_leaf_nodes=2, dtc__random_state=43, pca__n_components=20;, score=0.642 total time=  19.8s\n",
      "[CV 2/5] END dtc__max_depth=4, dtc__max_leaf_nodes=2, dtc__random_state=43, pca__n_components=20;, score=0.638 total time=  20.1s\n",
      "[CV 3/5] END dtc__max_depth=4, dtc__max_leaf_nodes=2, dtc__random_state=43, pca__n_components=20;, score=0.639 total time=  20.0s\n",
      "[CV 4/5] END dtc__max_depth=4, dtc__max_leaf_nodes=2, dtc__random_state=43, pca__n_components=20;, score=0.647 total time=  19.8s\n",
      "[CV 5/5] END dtc__max_depth=4, dtc__max_leaf_nodes=2, dtc__random_state=43, pca__n_components=20;, score=0.643 total time=  19.6s\n",
      "[CV 1/5] END dtc__max_depth=4, dtc__max_leaf_nodes=2, dtc__random_state=11, pca__n_components=5;, score=0.643 total time=   2.7s\n",
      "[CV 2/5] END dtc__max_depth=4, dtc__max_leaf_nodes=2, dtc__random_state=11, pca__n_components=5;, score=0.638 total time=   2.6s\n",
      "[CV 3/5] END dtc__max_depth=4, dtc__max_leaf_nodes=2, dtc__random_state=11, pca__n_components=5;, score=0.641 total time=   2.7s\n",
      "[CV 4/5] END dtc__max_depth=4, dtc__max_leaf_nodes=2, dtc__random_state=11, pca__n_components=5;, score=0.647 total time=   2.6s\n",
      "[CV 5/5] END dtc__max_depth=4, dtc__max_leaf_nodes=2, dtc__random_state=11, pca__n_components=5;, score=0.644 total time=   2.7s\n",
      "[CV 1/5] END dtc__max_depth=4, dtc__max_leaf_nodes=2, dtc__random_state=11, pca__n_components=10;, score=0.640 total time=   7.2s\n",
      "[CV 2/5] END dtc__max_depth=4, dtc__max_leaf_nodes=2, dtc__random_state=11, pca__n_components=10;, score=0.636 total time=   6.8s\n",
      "[CV 3/5] END dtc__max_depth=4, dtc__max_leaf_nodes=2, dtc__random_state=11, pca__n_components=10;, score=0.639 total time=   6.5s\n",
      "[CV 4/5] END dtc__max_depth=4, dtc__max_leaf_nodes=2, dtc__random_state=11, pca__n_components=10;, score=0.643 total time=   7.0s\n",
      "[CV 5/5] END dtc__max_depth=4, dtc__max_leaf_nodes=2, dtc__random_state=11, pca__n_components=10;, score=0.640 total time=   6.8s\n",
      "[CV 1/5] END dtc__max_depth=4, dtc__max_leaf_nodes=2, dtc__random_state=11, pca__n_components=20;, score=0.643 total time=  19.6s\n",
      "[CV 2/5] END dtc__max_depth=4, dtc__max_leaf_nodes=2, dtc__random_state=11, pca__n_components=20;, score=0.637 total time=  19.6s\n",
      "[CV 3/5] END dtc__max_depth=4, dtc__max_leaf_nodes=2, dtc__random_state=11, pca__n_components=20;, score=0.641 total time=  19.5s\n",
      "[CV 4/5] END dtc__max_depth=4, dtc__max_leaf_nodes=2, dtc__random_state=11, pca__n_components=20;, score=0.646 total time=  19.5s\n",
      "[CV 5/5] END dtc__max_depth=4, dtc__max_leaf_nodes=2, dtc__random_state=11, pca__n_components=20;, score=0.644 total time=  19.8s\n",
      "[CV 1/5] END dtc__max_depth=4, dtc__max_leaf_nodes=2, dtc__random_state=23, pca__n_components=5;, score=0.643 total time=   2.7s\n",
      "[CV 2/5] END dtc__max_depth=4, dtc__max_leaf_nodes=2, dtc__random_state=23, pca__n_components=5;, score=0.637 total time=   2.7s\n",
      "[CV 3/5] END dtc__max_depth=4, dtc__max_leaf_nodes=2, dtc__random_state=23, pca__n_components=5;, score=0.642 total time=   2.5s\n",
      "[CV 4/5] END dtc__max_depth=4, dtc__max_leaf_nodes=2, dtc__random_state=23, pca__n_components=5;, score=0.646 total time=   2.6s\n",
      "[CV 5/5] END dtc__max_depth=4, dtc__max_leaf_nodes=2, dtc__random_state=23, pca__n_components=5;, score=0.646 total time=   2.5s\n",
      "[CV 1/5] END dtc__max_depth=4, dtc__max_leaf_nodes=2, dtc__random_state=23, pca__n_components=10;, score=0.642 total time=   7.3s\n",
      "[CV 2/5] END dtc__max_depth=4, dtc__max_leaf_nodes=2, dtc__random_state=23, pca__n_components=10;, score=0.638 total time=   6.2s\n",
      "[CV 3/5] END dtc__max_depth=4, dtc__max_leaf_nodes=2, dtc__random_state=23, pca__n_components=10;, score=0.639 total time=   6.9s\n",
      "[CV 4/5] END dtc__max_depth=4, dtc__max_leaf_nodes=2, dtc__random_state=23, pca__n_components=10;, score=0.646 total time=   6.6s\n",
      "[CV 5/5] END dtc__max_depth=4, dtc__max_leaf_nodes=2, dtc__random_state=23, pca__n_components=10;, score=0.645 total time=   7.0s\n",
      "[CV 1/5] END dtc__max_depth=4, dtc__max_leaf_nodes=2, dtc__random_state=23, pca__n_components=20;, score=0.643 total time=  19.8s\n",
      "[CV 2/5] END dtc__max_depth=4, dtc__max_leaf_nodes=2, dtc__random_state=23, pca__n_components=20;, score=0.638 total time=  19.6s\n",
      "[CV 3/5] END dtc__max_depth=4, dtc__max_leaf_nodes=2, dtc__random_state=23, pca__n_components=20;, score=0.639 total time=  19.7s\n",
      "[CV 4/5] END dtc__max_depth=4, dtc__max_leaf_nodes=2, dtc__random_state=23, pca__n_components=20;, score=0.647 total time=  19.6s\n",
      "[CV 5/5] END dtc__max_depth=4, dtc__max_leaf_nodes=2, dtc__random_state=23, pca__n_components=20;, score=0.643 total time=  19.7s\n",
      "[CV 1/5] END dtc__max_depth=4, dtc__max_leaf_nodes=5, dtc__random_state=43, pca__n_components=5;, score=0.710 total time=   2.6s\n",
      "[CV 2/5] END dtc__max_depth=4, dtc__max_leaf_nodes=5, dtc__random_state=43, pca__n_components=5;, score=0.710 total time=   2.7s\n",
      "[CV 3/5] END dtc__max_depth=4, dtc__max_leaf_nodes=5, dtc__random_state=43, pca__n_components=5;, score=0.722 total time=   2.7s\n",
      "[CV 4/5] END dtc__max_depth=4, dtc__max_leaf_nodes=5, dtc__random_state=43, pca__n_components=5;, score=0.718 total time=   2.7s\n",
      "[CV 5/5] END dtc__max_depth=4, dtc__max_leaf_nodes=5, dtc__random_state=43, pca__n_components=5;, score=0.720 total time=   2.7s\n",
      "[CV 1/5] END dtc__max_depth=4, dtc__max_leaf_nodes=5, dtc__random_state=43, pca__n_components=10;, score=0.712 total time=   7.6s\n",
      "[CV 2/5] END dtc__max_depth=4, dtc__max_leaf_nodes=5, dtc__random_state=43, pca__n_components=10;, score=0.705 total time=   6.6s\n",
      "[CV 3/5] END dtc__max_depth=4, dtc__max_leaf_nodes=5, dtc__random_state=43, pca__n_components=10;, score=0.709 total time=   7.6s\n",
      "[CV 4/5] END dtc__max_depth=4, dtc__max_leaf_nodes=5, dtc__random_state=43, pca__n_components=10;, score=0.712 total time=   7.1s\n",
      "[CV 5/5] END dtc__max_depth=4, dtc__max_leaf_nodes=5, dtc__random_state=43, pca__n_components=10;, score=0.726 total time=   7.3s\n",
      "[CV 1/5] END dtc__max_depth=4, dtc__max_leaf_nodes=5, dtc__random_state=43, pca__n_components=20;, score=0.716 total time=  19.9s\n",
      "[CV 2/5] END dtc__max_depth=4, dtc__max_leaf_nodes=5, dtc__random_state=43, pca__n_components=20;, score=0.715 total time=  19.8s\n",
      "[CV 3/5] END dtc__max_depth=4, dtc__max_leaf_nodes=5, dtc__random_state=43, pca__n_components=20;, score=0.713 total time=  19.8s\n",
      "[CV 4/5] END dtc__max_depth=4, dtc__max_leaf_nodes=5, dtc__random_state=43, pca__n_components=20;, score=0.713 total time=  19.9s\n",
      "[CV 5/5] END dtc__max_depth=4, dtc__max_leaf_nodes=5, dtc__random_state=43, pca__n_components=20;, score=0.714 total time=  19.8s\n",
      "[CV 1/5] END dtc__max_depth=4, dtc__max_leaf_nodes=5, dtc__random_state=11, pca__n_components=5;, score=0.705 total time=   2.6s\n",
      "[CV 2/5] END dtc__max_depth=4, dtc__max_leaf_nodes=5, dtc__random_state=11, pca__n_components=5;, score=0.711 total time=   2.6s\n",
      "[CV 3/5] END dtc__max_depth=4, dtc__max_leaf_nodes=5, dtc__random_state=11, pca__n_components=5;, score=0.718 total time=   2.6s\n"
     ]
    },
    {
     "name": "stdout",
     "output_type": "stream",
     "text": [
      "[CV 4/5] END dtc__max_depth=4, dtc__max_leaf_nodes=5, dtc__random_state=11, pca__n_components=5;, score=0.714 total time=   2.7s\n",
      "[CV 5/5] END dtc__max_depth=4, dtc__max_leaf_nodes=5, dtc__random_state=11, pca__n_components=5;, score=0.720 total time=   2.8s\n",
      "[CV 1/5] END dtc__max_depth=4, dtc__max_leaf_nodes=5, dtc__random_state=11, pca__n_components=10;, score=0.717 total time=   7.4s\n",
      "[CV 2/5] END dtc__max_depth=4, dtc__max_leaf_nodes=5, dtc__random_state=11, pca__n_components=10;, score=0.713 total time=   6.7s\n",
      "[CV 3/5] END dtc__max_depth=4, dtc__max_leaf_nodes=5, dtc__random_state=11, pca__n_components=10;, score=0.718 total time=   7.0s\n",
      "[CV 4/5] END dtc__max_depth=4, dtc__max_leaf_nodes=5, dtc__random_state=11, pca__n_components=10;, score=0.718 total time=   6.8s\n",
      "[CV 5/5] END dtc__max_depth=4, dtc__max_leaf_nodes=5, dtc__random_state=11, pca__n_components=10;, score=0.724 total time=   7.6s\n",
      "[CV 1/5] END dtc__max_depth=4, dtc__max_leaf_nodes=5, dtc__random_state=11, pca__n_components=20;, score=0.708 total time=  20.0s\n",
      "[CV 2/5] END dtc__max_depth=4, dtc__max_leaf_nodes=5, dtc__random_state=11, pca__n_components=20;, score=0.703 total time=  19.9s\n",
      "[CV 3/5] END dtc__max_depth=4, dtc__max_leaf_nodes=5, dtc__random_state=11, pca__n_components=20;, score=0.704 total time=  19.8s\n",
      "[CV 4/5] END dtc__max_depth=4, dtc__max_leaf_nodes=5, dtc__random_state=11, pca__n_components=20;, score=0.712 total time=  19.9s\n",
      "[CV 5/5] END dtc__max_depth=4, dtc__max_leaf_nodes=5, dtc__random_state=11, pca__n_components=20;, score=0.722 total time=  19.9s\n",
      "[CV 1/5] END dtc__max_depth=4, dtc__max_leaf_nodes=5, dtc__random_state=23, pca__n_components=5;, score=0.709 total time=   2.7s\n",
      "[CV 2/5] END dtc__max_depth=4, dtc__max_leaf_nodes=5, dtc__random_state=23, pca__n_components=5;, score=0.712 total time=   2.6s\n",
      "[CV 3/5] END dtc__max_depth=4, dtc__max_leaf_nodes=5, dtc__random_state=23, pca__n_components=5;, score=0.707 total time=   2.6s\n",
      "[CV 4/5] END dtc__max_depth=4, dtc__max_leaf_nodes=5, dtc__random_state=23, pca__n_components=5;, score=0.718 total time=   2.6s\n",
      "[CV 5/5] END dtc__max_depth=4, dtc__max_leaf_nodes=5, dtc__random_state=23, pca__n_components=5;, score=0.719 total time=   2.6s\n",
      "[CV 1/5] END dtc__max_depth=4, dtc__max_leaf_nodes=5, dtc__random_state=23, pca__n_components=10;, score=0.709 total time=   7.4s\n",
      "[CV 2/5] END dtc__max_depth=4, dtc__max_leaf_nodes=5, dtc__random_state=23, pca__n_components=10;, score=0.711 total time=   7.0s\n",
      "[CV 3/5] END dtc__max_depth=4, dtc__max_leaf_nodes=5, dtc__random_state=23, pca__n_components=10;, score=0.709 total time=   7.4s\n",
      "[CV 4/5] END dtc__max_depth=4, dtc__max_leaf_nodes=5, dtc__random_state=23, pca__n_components=10;, score=0.715 total time=   6.6s\n",
      "[CV 5/5] END dtc__max_depth=4, dtc__max_leaf_nodes=5, dtc__random_state=23, pca__n_components=10;, score=0.710 total time=   6.4s\n",
      "[CV 1/5] END dtc__max_depth=4, dtc__max_leaf_nodes=5, dtc__random_state=23, pca__n_components=20;, score=0.716 total time=  19.8s\n",
      "[CV 2/5] END dtc__max_depth=4, dtc__max_leaf_nodes=5, dtc__random_state=23, pca__n_components=20;, score=0.704 total time=  19.7s\n",
      "[CV 3/5] END dtc__max_depth=4, dtc__max_leaf_nodes=5, dtc__random_state=23, pca__n_components=20;, score=0.715 total time=  19.9s\n",
      "[CV 4/5] END dtc__max_depth=4, dtc__max_leaf_nodes=5, dtc__random_state=23, pca__n_components=20;, score=0.746 total time=  19.7s\n",
      "[CV 5/5] END dtc__max_depth=4, dtc__max_leaf_nodes=5, dtc__random_state=23, pca__n_components=20;, score=0.723 total time=  19.9s\n",
      "[CV 1/5] END dtc__max_depth=4, dtc__max_leaf_nodes=10, dtc__random_state=43, pca__n_components=5;, score=0.746 total time=   2.8s\n",
      "[CV 2/5] END dtc__max_depth=4, dtc__max_leaf_nodes=10, dtc__random_state=43, pca__n_components=5;, score=0.753 total time=   2.7s\n",
      "[CV 3/5] END dtc__max_depth=4, dtc__max_leaf_nodes=10, dtc__random_state=43, pca__n_components=5;, score=0.753 total time=   2.7s\n",
      "[CV 4/5] END dtc__max_depth=4, dtc__max_leaf_nodes=10, dtc__random_state=43, pca__n_components=5;, score=0.753 total time=   2.7s\n",
      "[CV 5/5] END dtc__max_depth=4, dtc__max_leaf_nodes=10, dtc__random_state=43, pca__n_components=5;, score=0.762 total time=   2.7s\n",
      "[CV 1/5] END dtc__max_depth=4, dtc__max_leaf_nodes=10, dtc__random_state=43, pca__n_components=10;, score=0.751 total time=   7.3s\n",
      "[CV 2/5] END dtc__max_depth=4, dtc__max_leaf_nodes=10, dtc__random_state=43, pca__n_components=10;, score=0.757 total time=   6.7s\n",
      "[CV 3/5] END dtc__max_depth=4, dtc__max_leaf_nodes=10, dtc__random_state=43, pca__n_components=10;, score=0.754 total time=   7.2s\n",
      "[CV 4/5] END dtc__max_depth=4, dtc__max_leaf_nodes=10, dtc__random_state=43, pca__n_components=10;, score=0.759 total time=   6.6s\n",
      "[CV 5/5] END dtc__max_depth=4, dtc__max_leaf_nodes=10, dtc__random_state=43, pca__n_components=10;, score=0.762 total time=   6.8s\n",
      "[CV 1/5] END dtc__max_depth=4, dtc__max_leaf_nodes=10, dtc__random_state=43, pca__n_components=20;, score=0.751 total time=  19.9s\n",
      "[CV 2/5] END dtc__max_depth=4, dtc__max_leaf_nodes=10, dtc__random_state=43, pca__n_components=20;, score=0.756 total time=  20.0s\n",
      "[CV 3/5] END dtc__max_depth=4, dtc__max_leaf_nodes=10, dtc__random_state=43, pca__n_components=20;, score=0.766 total time=  20.0s\n",
      "[CV 4/5] END dtc__max_depth=4, dtc__max_leaf_nodes=10, dtc__random_state=43, pca__n_components=20;, score=0.762 total time=  19.9s\n",
      "[CV 5/5] END dtc__max_depth=4, dtc__max_leaf_nodes=10, dtc__random_state=43, pca__n_components=20;, score=0.769 total time=  20.0s\n",
      "[CV 1/5] END dtc__max_depth=4, dtc__max_leaf_nodes=10, dtc__random_state=11, pca__n_components=5;, score=0.752 total time=   2.6s\n",
      "[CV 2/5] END dtc__max_depth=4, dtc__max_leaf_nodes=10, dtc__random_state=11, pca__n_components=5;, score=0.754 total time=   2.7s\n",
      "[CV 3/5] END dtc__max_depth=4, dtc__max_leaf_nodes=10, dtc__random_state=11, pca__n_components=5;, score=0.753 total time=   2.8s\n",
      "[CV 4/5] END dtc__max_depth=4, dtc__max_leaf_nodes=10, dtc__random_state=11, pca__n_components=5;, score=0.753 total time=   2.8s\n",
      "[CV 5/5] END dtc__max_depth=4, dtc__max_leaf_nodes=10, dtc__random_state=11, pca__n_components=5;, score=0.762 total time=   2.7s\n",
      "[CV 1/5] END dtc__max_depth=4, dtc__max_leaf_nodes=10, dtc__random_state=11, pca__n_components=10;, score=0.752 total time=   7.3s\n",
      "[CV 2/5] END dtc__max_depth=4, dtc__max_leaf_nodes=10, dtc__random_state=11, pca__n_components=10;, score=0.749 total time=   7.5s\n",
      "[CV 3/5] END dtc__max_depth=4, dtc__max_leaf_nodes=10, dtc__random_state=11, pca__n_components=10;, score=0.751 total time=   7.4s\n",
      "[CV 4/5] END dtc__max_depth=4, dtc__max_leaf_nodes=10, dtc__random_state=11, pca__n_components=10;, score=0.761 total time=   6.7s\n",
      "[CV 5/5] END dtc__max_depth=4, dtc__max_leaf_nodes=10, dtc__random_state=11, pca__n_components=10;, score=0.757 total time=   7.2s\n",
      "[CV 1/5] END dtc__max_depth=4, dtc__max_leaf_nodes=10, dtc__random_state=11, pca__n_components=20;, score=0.756 total time=  19.8s\n",
      "[CV 2/5] END dtc__max_depth=4, dtc__max_leaf_nodes=10, dtc__random_state=11, pca__n_components=20;, score=0.753 total time=  20.0s\n",
      "[CV 3/5] END dtc__max_depth=4, dtc__max_leaf_nodes=10, dtc__random_state=11, pca__n_components=20;, score=0.764 total time=  20.0s\n",
      "[CV 4/5] END dtc__max_depth=4, dtc__max_leaf_nodes=10, dtc__random_state=11, pca__n_components=20;, score=0.762 total time=  19.8s\n",
      "[CV 5/5] END dtc__max_depth=4, dtc__max_leaf_nodes=10, dtc__random_state=11, pca__n_components=20;, score=0.771 total time=  19.9s\n",
      "[CV 1/5] END dtc__max_depth=4, dtc__max_leaf_nodes=10, dtc__random_state=23, pca__n_components=5;, score=0.751 total time=   2.6s\n",
      "[CV 2/5] END dtc__max_depth=4, dtc__max_leaf_nodes=10, dtc__random_state=23, pca__n_components=5;, score=0.753 total time=   2.7s\n",
      "[CV 3/5] END dtc__max_depth=4, dtc__max_leaf_nodes=10, dtc__random_state=23, pca__n_components=5;, score=0.757 total time=   2.6s\n",
      "[CV 4/5] END dtc__max_depth=4, dtc__max_leaf_nodes=10, dtc__random_state=23, pca__n_components=5;, score=0.757 total time=   2.6s\n",
      "[CV 5/5] END dtc__max_depth=4, dtc__max_leaf_nodes=10, dtc__random_state=23, pca__n_components=5;, score=0.763 total time=   2.8s\n",
      "[CV 1/5] END dtc__max_depth=4, dtc__max_leaf_nodes=10, dtc__random_state=23, pca__n_components=10;, score=0.753 total time=   6.8s\n"
     ]
    },
    {
     "name": "stdout",
     "output_type": "stream",
     "text": [
      "[CV 2/5] END dtc__max_depth=4, dtc__max_leaf_nodes=10, dtc__random_state=23, pca__n_components=10;, score=0.762 total time=   7.1s\n",
      "[CV 3/5] END dtc__max_depth=4, dtc__max_leaf_nodes=10, dtc__random_state=23, pca__n_components=10;, score=0.760 total time=   6.7s\n",
      "[CV 4/5] END dtc__max_depth=4, dtc__max_leaf_nodes=10, dtc__random_state=23, pca__n_components=10;, score=0.761 total time=   6.8s\n",
      "[CV 5/5] END dtc__max_depth=4, dtc__max_leaf_nodes=10, dtc__random_state=23, pca__n_components=10;, score=0.761 total time=   6.6s\n",
      "[CV 1/5] END dtc__max_depth=4, dtc__max_leaf_nodes=10, dtc__random_state=23, pca__n_components=20;, score=0.757 total time=  20.0s\n",
      "[CV 2/5] END dtc__max_depth=4, dtc__max_leaf_nodes=10, dtc__random_state=23, pca__n_components=20;, score=0.759 total time=  19.9s\n",
      "[CV 3/5] END dtc__max_depth=4, dtc__max_leaf_nodes=10, dtc__random_state=23, pca__n_components=20;, score=0.765 total time=  19.9s\n",
      "[CV 4/5] END dtc__max_depth=4, dtc__max_leaf_nodes=10, dtc__random_state=23, pca__n_components=20;, score=0.762 total time=  20.0s\n",
      "[CV 5/5] END dtc__max_depth=4, dtc__max_leaf_nodes=10, dtc__random_state=23, pca__n_components=20;, score=0.770 total time=  20.0s\n",
      "[CV 1/5] END dtc__max_depth=4, dtc__max_leaf_nodes=30, dtc__random_state=43, pca__n_components=5;, score=0.761 total time=   2.7s\n",
      "[CV 2/5] END dtc__max_depth=4, dtc__max_leaf_nodes=30, dtc__random_state=43, pca__n_components=5;, score=0.757 total time=   2.6s\n",
      "[CV 3/5] END dtc__max_depth=4, dtc__max_leaf_nodes=30, dtc__random_state=43, pca__n_components=5;, score=0.758 total time=   2.8s\n",
      "[CV 4/5] END dtc__max_depth=4, dtc__max_leaf_nodes=30, dtc__random_state=43, pca__n_components=5;, score=0.757 total time=   2.7s\n",
      "[CV 5/5] END dtc__max_depth=4, dtc__max_leaf_nodes=30, dtc__random_state=43, pca__n_components=5;, score=0.763 total time=   2.7s\n",
      "[CV 1/5] END dtc__max_depth=4, dtc__max_leaf_nodes=30, dtc__random_state=43, pca__n_components=10;, score=0.759 total time=   7.2s\n",
      "[CV 2/5] END dtc__max_depth=4, dtc__max_leaf_nodes=30, dtc__random_state=43, pca__n_components=10;, score=0.768 total time=   7.4s\n",
      "[CV 3/5] END dtc__max_depth=4, dtc__max_leaf_nodes=30, dtc__random_state=43, pca__n_components=10;, score=0.758 total time=   7.2s\n",
      "[CV 4/5] END dtc__max_depth=4, dtc__max_leaf_nodes=30, dtc__random_state=43, pca__n_components=10;, score=0.764 total time=   6.5s\n",
      "[CV 5/5] END dtc__max_depth=4, dtc__max_leaf_nodes=30, dtc__random_state=43, pca__n_components=10;, score=0.773 total time=   7.0s\n",
      "[CV 1/5] END dtc__max_depth=4, dtc__max_leaf_nodes=30, dtc__random_state=43, pca__n_components=20;, score=0.767 total time=  19.9s\n",
      "[CV 2/5] END dtc__max_depth=4, dtc__max_leaf_nodes=30, dtc__random_state=43, pca__n_components=20;, score=0.766 total time=  19.9s\n",
      "[CV 3/5] END dtc__max_depth=4, dtc__max_leaf_nodes=30, dtc__random_state=43, pca__n_components=20;, score=0.769 total time=  19.8s\n",
      "[CV 4/5] END dtc__max_depth=4, dtc__max_leaf_nodes=30, dtc__random_state=43, pca__n_components=20;, score=0.779 total time=  20.0s\n",
      "[CV 5/5] END dtc__max_depth=4, dtc__max_leaf_nodes=30, dtc__random_state=43, pca__n_components=20;, score=0.771 total time=  19.9s\n",
      "[CV 1/5] END dtc__max_depth=4, dtc__max_leaf_nodes=30, dtc__random_state=11, pca__n_components=5;, score=0.761 total time=   2.7s\n",
      "[CV 2/5] END dtc__max_depth=4, dtc__max_leaf_nodes=30, dtc__random_state=11, pca__n_components=5;, score=0.757 total time=   2.9s\n",
      "[CV 3/5] END dtc__max_depth=4, dtc__max_leaf_nodes=30, dtc__random_state=11, pca__n_components=5;, score=0.752 total time=   2.6s\n",
      "[CV 4/5] END dtc__max_depth=4, dtc__max_leaf_nodes=30, dtc__random_state=11, pca__n_components=5;, score=0.755 total time=   2.7s\n",
      "[CV 5/5] END dtc__max_depth=4, dtc__max_leaf_nodes=30, dtc__random_state=11, pca__n_components=5;, score=0.766 total time=   2.6s\n",
      "[CV 1/5] END dtc__max_depth=4, dtc__max_leaf_nodes=30, dtc__random_state=11, pca__n_components=10;, score=0.760 total time=   6.7s\n",
      "[CV 2/5] END dtc__max_depth=4, dtc__max_leaf_nodes=30, dtc__random_state=11, pca__n_components=10;, score=0.767 total time=   6.6s\n",
      "[CV 3/5] END dtc__max_depth=4, dtc__max_leaf_nodes=30, dtc__random_state=11, pca__n_components=10;, score=0.756 total time=   7.1s\n",
      "[CV 4/5] END dtc__max_depth=4, dtc__max_leaf_nodes=30, dtc__random_state=11, pca__n_components=10;, score=0.770 total time=   7.2s\n",
      "[CV 5/5] END dtc__max_depth=4, dtc__max_leaf_nodes=30, dtc__random_state=11, pca__n_components=10;, score=0.773 total time=   7.4s\n",
      "[CV 1/5] END dtc__max_depth=4, dtc__max_leaf_nodes=30, dtc__random_state=11, pca__n_components=20;, score=0.763 total time=  19.9s\n",
      "[CV 2/5] END dtc__max_depth=4, dtc__max_leaf_nodes=30, dtc__random_state=11, pca__n_components=20;, score=0.773 total time=  19.9s\n",
      "[CV 3/5] END dtc__max_depth=4, dtc__max_leaf_nodes=30, dtc__random_state=11, pca__n_components=20;, score=0.788 total time=  19.9s\n",
      "[CV 4/5] END dtc__max_depth=4, dtc__max_leaf_nodes=30, dtc__random_state=11, pca__n_components=20;, score=0.775 total time=  20.0s\n",
      "[CV 5/5] END dtc__max_depth=4, dtc__max_leaf_nodes=30, dtc__random_state=11, pca__n_components=20;, score=0.773 total time=  19.9s\n",
      "[CV 1/5] END dtc__max_depth=4, dtc__max_leaf_nodes=30, dtc__random_state=23, pca__n_components=5;, score=0.758 total time=   2.7s\n",
      "[CV 2/5] END dtc__max_depth=4, dtc__max_leaf_nodes=30, dtc__random_state=23, pca__n_components=5;, score=0.759 total time=   2.7s\n",
      "[CV 3/5] END dtc__max_depth=4, dtc__max_leaf_nodes=30, dtc__random_state=23, pca__n_components=5;, score=0.753 total time=   2.6s\n",
      "[CV 4/5] END dtc__max_depth=4, dtc__max_leaf_nodes=30, dtc__random_state=23, pca__n_components=5;, score=0.755 total time=   2.7s\n",
      "[CV 5/5] END dtc__max_depth=4, dtc__max_leaf_nodes=30, dtc__random_state=23, pca__n_components=5;, score=0.767 total time=   2.6s\n",
      "[CV 1/5] END dtc__max_depth=4, dtc__max_leaf_nodes=30, dtc__random_state=23, pca__n_components=10;, score=0.754 total time=   7.2s\n",
      "[CV 2/5] END dtc__max_depth=4, dtc__max_leaf_nodes=30, dtc__random_state=23, pca__n_components=10;, score=0.762 total time=   6.6s\n",
      "[CV 3/5] END dtc__max_depth=4, dtc__max_leaf_nodes=30, dtc__random_state=23, pca__n_components=10;, score=0.761 total time=   6.8s\n",
      "[CV 4/5] END dtc__max_depth=4, dtc__max_leaf_nodes=30, dtc__random_state=23, pca__n_components=10;, score=0.758 total time=   7.1s\n",
      "[CV 5/5] END dtc__max_depth=4, dtc__max_leaf_nodes=30, dtc__random_state=23, pca__n_components=10;, score=0.775 total time=   6.7s\n",
      "[CV 1/5] END dtc__max_depth=4, dtc__max_leaf_nodes=30, dtc__random_state=23, pca__n_components=20;, score=0.762 total time=  19.9s\n",
      "[CV 2/5] END dtc__max_depth=4, dtc__max_leaf_nodes=30, dtc__random_state=23, pca__n_components=20;, score=0.764 total time=  20.1s\n",
      "[CV 3/5] END dtc__max_depth=4, dtc__max_leaf_nodes=30, dtc__random_state=23, pca__n_components=20;, score=0.766 total time=  20.0s\n",
      "[CV 4/5] END dtc__max_depth=4, dtc__max_leaf_nodes=30, dtc__random_state=23, pca__n_components=20;, score=0.767 total time=  19.9s\n",
      "[CV 5/5] END dtc__max_depth=4, dtc__max_leaf_nodes=30, dtc__random_state=23, pca__n_components=20;, score=0.777 total time=  20.0s\n",
      "[CV 1/5] END dtc__max_depth=10, dtc__max_leaf_nodes=2, dtc__random_state=43, pca__n_components=5;, score=0.641 total time=   2.6s\n",
      "[CV 2/5] END dtc__max_depth=10, dtc__max_leaf_nodes=2, dtc__random_state=43, pca__n_components=5;, score=0.636 total time=   2.5s\n",
      "[CV 3/5] END dtc__max_depth=10, dtc__max_leaf_nodes=2, dtc__random_state=43, pca__n_components=5;, score=0.638 total time=   2.6s\n",
      "[CV 4/5] END dtc__max_depth=10, dtc__max_leaf_nodes=2, dtc__random_state=43, pca__n_components=5;, score=0.647 total time=   2.6s\n",
      "[CV 5/5] END dtc__max_depth=10, dtc__max_leaf_nodes=2, dtc__random_state=43, pca__n_components=5;, score=0.644 total time=   2.5s\n",
      "[CV 1/5] END dtc__max_depth=10, dtc__max_leaf_nodes=2, dtc__random_state=43, pca__n_components=10;, score=0.644 total time=   7.0s\n",
      "[CV 2/5] END dtc__max_depth=10, dtc__max_leaf_nodes=2, dtc__random_state=43, pca__n_components=10;, score=0.636 total time=   7.0s\n",
      "[CV 3/5] END dtc__max_depth=10, dtc__max_leaf_nodes=2, dtc__random_state=43, pca__n_components=10;, score=0.640 total time=   7.4s\n",
      "[CV 4/5] END dtc__max_depth=10, dtc__max_leaf_nodes=2, dtc__random_state=43, pca__n_components=10;, score=0.646 total time=   6.6s\n"
     ]
    },
    {
     "name": "stdout",
     "output_type": "stream",
     "text": [
      "[CV 5/5] END dtc__max_depth=10, dtc__max_leaf_nodes=2, dtc__random_state=43, pca__n_components=10;, score=0.646 total time=   6.8s\n",
      "[CV 1/5] END dtc__max_depth=10, dtc__max_leaf_nodes=2, dtc__random_state=43, pca__n_components=20;, score=0.643 total time=  20.4s\n",
      "[CV 2/5] END dtc__max_depth=10, dtc__max_leaf_nodes=2, dtc__random_state=43, pca__n_components=20;, score=0.638 total time=  22.3s\n",
      "[CV 3/5] END dtc__max_depth=10, dtc__max_leaf_nodes=2, dtc__random_state=43, pca__n_components=20;, score=0.641 total time=  22.7s\n",
      "[CV 4/5] END dtc__max_depth=10, dtc__max_leaf_nodes=2, dtc__random_state=43, pca__n_components=20;, score=0.646 total time=  22.1s\n",
      "[CV 5/5] END dtc__max_depth=10, dtc__max_leaf_nodes=2, dtc__random_state=43, pca__n_components=20;, score=0.643 total time=  23.8s\n",
      "[CV 1/5] END dtc__max_depth=10, dtc__max_leaf_nodes=2, dtc__random_state=11, pca__n_components=5;, score=0.643 total time=   3.2s\n",
      "[CV 2/5] END dtc__max_depth=10, dtc__max_leaf_nodes=2, dtc__random_state=11, pca__n_components=5;, score=0.638 total time=   3.1s\n",
      "[CV 3/5] END dtc__max_depth=10, dtc__max_leaf_nodes=2, dtc__random_state=11, pca__n_components=5;, score=0.642 total time=   3.3s\n",
      "[CV 4/5] END dtc__max_depth=10, dtc__max_leaf_nodes=2, dtc__random_state=11, pca__n_components=5;, score=0.648 total time=   3.4s\n",
      "[CV 5/5] END dtc__max_depth=10, dtc__max_leaf_nodes=2, dtc__random_state=11, pca__n_components=5;, score=0.643 total time=   3.4s\n",
      "[CV 1/5] END dtc__max_depth=10, dtc__max_leaf_nodes=2, dtc__random_state=11, pca__n_components=10;, score=0.642 total time=   9.0s\n",
      "[CV 2/5] END dtc__max_depth=10, dtc__max_leaf_nodes=2, dtc__random_state=11, pca__n_components=10;, score=0.636 total time=   7.8s\n",
      "[CV 3/5] END dtc__max_depth=10, dtc__max_leaf_nodes=2, dtc__random_state=11, pca__n_components=10;, score=0.640 total time=   7.9s\n",
      "[CV 4/5] END dtc__max_depth=10, dtc__max_leaf_nodes=2, dtc__random_state=11, pca__n_components=10;, score=0.646 total time=   7.4s\n",
      "[CV 5/5] END dtc__max_depth=10, dtc__max_leaf_nodes=2, dtc__random_state=11, pca__n_components=10;, score=0.643 total time=   7.9s\n",
      "[CV 1/5] END dtc__max_depth=10, dtc__max_leaf_nodes=2, dtc__random_state=11, pca__n_components=20;, score=0.643 total time=  22.7s\n",
      "[CV 2/5] END dtc__max_depth=10, dtc__max_leaf_nodes=2, dtc__random_state=11, pca__n_components=20;, score=0.638 total time=  22.7s\n",
      "[CV 3/5] END dtc__max_depth=10, dtc__max_leaf_nodes=2, dtc__random_state=11, pca__n_components=20;, score=0.640 total time=  21.4s\n",
      "[CV 4/5] END dtc__max_depth=10, dtc__max_leaf_nodes=2, dtc__random_state=11, pca__n_components=20;, score=0.647 total time=  20.5s\n",
      "[CV 5/5] END dtc__max_depth=10, dtc__max_leaf_nodes=2, dtc__random_state=11, pca__n_components=20;, score=0.643 total time=  21.6s\n",
      "[CV 1/5] END dtc__max_depth=10, dtc__max_leaf_nodes=2, dtc__random_state=23, pca__n_components=5;, score=0.643 total time=   2.8s\n",
      "[CV 2/5] END dtc__max_depth=10, dtc__max_leaf_nodes=2, dtc__random_state=23, pca__n_components=5;, score=0.638 total time=   2.6s\n",
      "[CV 3/5] END dtc__max_depth=10, dtc__max_leaf_nodes=2, dtc__random_state=23, pca__n_components=5;, score=0.639 total time=   3.0s\n",
      "[CV 4/5] END dtc__max_depth=10, dtc__max_leaf_nodes=2, dtc__random_state=23, pca__n_components=5;, score=0.646 total time=   2.9s\n",
      "[CV 5/5] END dtc__max_depth=10, dtc__max_leaf_nodes=2, dtc__random_state=23, pca__n_components=5;, score=0.644 total time=   2.7s\n",
      "[CV 1/5] END dtc__max_depth=10, dtc__max_leaf_nodes=2, dtc__random_state=23, pca__n_components=10;, score=0.641 total time=   7.3s\n",
      "[CV 2/5] END dtc__max_depth=10, dtc__max_leaf_nodes=2, dtc__random_state=23, pca__n_components=10;, score=0.638 total time=   7.0s\n",
      "[CV 3/5] END dtc__max_depth=10, dtc__max_leaf_nodes=2, dtc__random_state=23, pca__n_components=10;, score=0.642 total time=   7.7s\n",
      "[CV 4/5] END dtc__max_depth=10, dtc__max_leaf_nodes=2, dtc__random_state=23, pca__n_components=10;, score=0.640 total time=   7.6s\n",
      "[CV 5/5] END dtc__max_depth=10, dtc__max_leaf_nodes=2, dtc__random_state=23, pca__n_components=10;, score=0.644 total time=   7.5s\n",
      "[CV 1/5] END dtc__max_depth=10, dtc__max_leaf_nodes=2, dtc__random_state=23, pca__n_components=20;, score=0.642 total time=  21.2s\n",
      "[CV 2/5] END dtc__max_depth=10, dtc__max_leaf_nodes=2, dtc__random_state=23, pca__n_components=20;, score=0.638 total time=  22.4s\n",
      "[CV 3/5] END dtc__max_depth=10, dtc__max_leaf_nodes=2, dtc__random_state=23, pca__n_components=20;, score=0.641 total time=  22.4s\n",
      "[CV 4/5] END dtc__max_depth=10, dtc__max_leaf_nodes=2, dtc__random_state=23, pca__n_components=20;, score=0.646 total time=  23.0s\n",
      "[CV 5/5] END dtc__max_depth=10, dtc__max_leaf_nodes=2, dtc__random_state=23, pca__n_components=20;, score=0.644 total time=  21.0s\n",
      "[CV 1/5] END dtc__max_depth=10, dtc__max_leaf_nodes=5, dtc__random_state=43, pca__n_components=5;, score=0.710 total time=   2.7s\n",
      "[CV 2/5] END dtc__max_depth=10, dtc__max_leaf_nodes=5, dtc__random_state=43, pca__n_components=5;, score=0.712 total time=   2.7s\n",
      "[CV 3/5] END dtc__max_depth=10, dtc__max_leaf_nodes=5, dtc__random_state=43, pca__n_components=5;, score=0.710 total time=   2.7s\n",
      "[CV 4/5] END dtc__max_depth=10, dtc__max_leaf_nodes=5, dtc__random_state=43, pca__n_components=5;, score=0.716 total time=   2.7s\n",
      "[CV 5/5] END dtc__max_depth=10, dtc__max_leaf_nodes=5, dtc__random_state=43, pca__n_components=5;, score=0.715 total time=   2.7s\n",
      "[CV 1/5] END dtc__max_depth=10, dtc__max_leaf_nodes=5, dtc__random_state=43, pca__n_components=10;, score=0.715 total time=   7.9s\n",
      "[CV 2/5] END dtc__max_depth=10, dtc__max_leaf_nodes=5, dtc__random_state=43, pca__n_components=10;, score=0.712 total time=   6.7s\n",
      "[CV 3/5] END dtc__max_depth=10, dtc__max_leaf_nodes=5, dtc__random_state=43, pca__n_components=10;, score=0.705 total time=   7.7s\n",
      "[CV 4/5] END dtc__max_depth=10, dtc__max_leaf_nodes=5, dtc__random_state=43, pca__n_components=10;, score=0.718 total time=   7.2s\n",
      "[CV 5/5] END dtc__max_depth=10, dtc__max_leaf_nodes=5, dtc__random_state=43, pca__n_components=10;, score=0.726 total time=   6.9s\n",
      "[CV 1/5] END dtc__max_depth=10, dtc__max_leaf_nodes=5, dtc__random_state=43, pca__n_components=20;, score=0.706 total time=  20.1s\n",
      "[CV 2/5] END dtc__max_depth=10, dtc__max_leaf_nodes=5, dtc__random_state=43, pca__n_components=20;, score=0.709 total time=  20.1s\n",
      "[CV 3/5] END dtc__max_depth=10, dtc__max_leaf_nodes=5, dtc__random_state=43, pca__n_components=20;, score=0.714 total time=  20.1s\n",
      "[CV 4/5] END dtc__max_depth=10, dtc__max_leaf_nodes=5, dtc__random_state=43, pca__n_components=20;, score=0.714 total time=  19.9s\n",
      "[CV 5/5] END dtc__max_depth=10, dtc__max_leaf_nodes=5, dtc__random_state=43, pca__n_components=20;, score=0.723 total time=  19.9s\n",
      "[CV 1/5] END dtc__max_depth=10, dtc__max_leaf_nodes=5, dtc__random_state=11, pca__n_components=5;, score=0.710 total time=   2.7s\n",
      "[CV 2/5] END dtc__max_depth=10, dtc__max_leaf_nodes=5, dtc__random_state=11, pca__n_components=5;, score=0.711 total time=   2.7s\n",
      "[CV 3/5] END dtc__max_depth=10, dtc__max_leaf_nodes=5, dtc__random_state=11, pca__n_components=5;, score=0.709 total time=   2.7s\n",
      "[CV 4/5] END dtc__max_depth=10, dtc__max_leaf_nodes=5, dtc__random_state=11, pca__n_components=5;, score=0.716 total time=   2.6s\n",
      "[CV 5/5] END dtc__max_depth=10, dtc__max_leaf_nodes=5, dtc__random_state=11, pca__n_components=5;, score=0.721 total time=   2.7s\n",
      "[CV 1/5] END dtc__max_depth=10, dtc__max_leaf_nodes=5, dtc__random_state=11, pca__n_components=10;, score=0.709 total time=   6.9s\n",
      "[CV 2/5] END dtc__max_depth=10, dtc__max_leaf_nodes=5, dtc__random_state=11, pca__n_components=10;, score=0.704 total time=   6.6s\n",
      "[CV 3/5] END dtc__max_depth=10, dtc__max_leaf_nodes=5, dtc__random_state=11, pca__n_components=10;, score=0.716 total time=   7.5s\n",
      "[CV 4/5] END dtc__max_depth=10, dtc__max_leaf_nodes=5, dtc__random_state=11, pca__n_components=10;, score=0.718 total time=   7.1s\n",
      "[CV 5/5] END dtc__max_depth=10, dtc__max_leaf_nodes=5, dtc__random_state=11, pca__n_components=10;, score=0.724 total time=   6.8s\n",
      "[CV 1/5] END dtc__max_depth=10, dtc__max_leaf_nodes=5, dtc__random_state=11, pca__n_components=20;, score=0.707 total time=  19.9s\n",
      "[CV 2/5] END dtc__max_depth=10, dtc__max_leaf_nodes=5, dtc__random_state=11, pca__n_components=20;, score=0.705 total time=  20.0s\n"
     ]
    },
    {
     "name": "stdout",
     "output_type": "stream",
     "text": [
      "[CV 3/5] END dtc__max_depth=10, dtc__max_leaf_nodes=5, dtc__random_state=11, pca__n_components=20;, score=0.713 total time=  20.0s\n",
      "[CV 4/5] END dtc__max_depth=10, dtc__max_leaf_nodes=5, dtc__random_state=11, pca__n_components=20;, score=0.713 total time=  20.0s\n",
      "[CV 5/5] END dtc__max_depth=10, dtc__max_leaf_nodes=5, dtc__random_state=11, pca__n_components=20;, score=0.714 total time=  20.1s\n",
      "[CV 1/5] END dtc__max_depth=10, dtc__max_leaf_nodes=5, dtc__random_state=23, pca__n_components=5;, score=0.713 total time=   2.6s\n",
      "[CV 2/5] END dtc__max_depth=10, dtc__max_leaf_nodes=5, dtc__random_state=23, pca__n_components=5;, score=0.714 total time=   2.7s\n",
      "[CV 3/5] END dtc__max_depth=10, dtc__max_leaf_nodes=5, dtc__random_state=23, pca__n_components=5;, score=0.720 total time=   2.6s\n",
      "[CV 4/5] END dtc__max_depth=10, dtc__max_leaf_nodes=5, dtc__random_state=23, pca__n_components=5;, score=0.710 total time=   2.6s\n",
      "[CV 5/5] END dtc__max_depth=10, dtc__max_leaf_nodes=5, dtc__random_state=23, pca__n_components=5;, score=0.725 total time=   2.6s\n",
      "[CV 1/5] END dtc__max_depth=10, dtc__max_leaf_nodes=5, dtc__random_state=23, pca__n_components=10;, score=0.713 total time=   7.5s\n",
      "[CV 2/5] END dtc__max_depth=10, dtc__max_leaf_nodes=5, dtc__random_state=23, pca__n_components=10;, score=0.705 total time=   6.6s\n",
      "[CV 3/5] END dtc__max_depth=10, dtc__max_leaf_nodes=5, dtc__random_state=23, pca__n_components=10;, score=0.708 total time=   6.8s\n",
      "[CV 4/5] END dtc__max_depth=10, dtc__max_leaf_nodes=5, dtc__random_state=23, pca__n_components=10;, score=0.717 total time=   6.4s\n",
      "[CV 5/5] END dtc__max_depth=10, dtc__max_leaf_nodes=5, dtc__random_state=23, pca__n_components=10;, score=0.720 total time=   7.6s\n",
      "[CV 1/5] END dtc__max_depth=10, dtc__max_leaf_nodes=5, dtc__random_state=23, pca__n_components=20;, score=0.712 total time=  20.0s\n",
      "[CV 2/5] END dtc__max_depth=10, dtc__max_leaf_nodes=5, dtc__random_state=23, pca__n_components=20;, score=0.704 total time=  19.9s\n",
      "[CV 3/5] END dtc__max_depth=10, dtc__max_leaf_nodes=5, dtc__random_state=23, pca__n_components=20;, score=0.710 total time=  19.9s\n",
      "[CV 4/5] END dtc__max_depth=10, dtc__max_leaf_nodes=5, dtc__random_state=23, pca__n_components=20;, score=0.713 total time=  20.0s\n",
      "[CV 5/5] END dtc__max_depth=10, dtc__max_leaf_nodes=5, dtc__random_state=23, pca__n_components=20;, score=0.713 total time=  20.0s\n",
      "[CV 1/5] END dtc__max_depth=10, dtc__max_leaf_nodes=10, dtc__random_state=43, pca__n_components=5;, score=0.751 total time=   2.8s\n",
      "[CV 2/5] END dtc__max_depth=10, dtc__max_leaf_nodes=10, dtc__random_state=43, pca__n_components=5;, score=0.754 total time=   2.7s\n",
      "[CV 3/5] END dtc__max_depth=10, dtc__max_leaf_nodes=10, dtc__random_state=43, pca__n_components=5;, score=0.759 total time=   2.8s\n",
      "[CV 4/5] END dtc__max_depth=10, dtc__max_leaf_nodes=10, dtc__random_state=43, pca__n_components=5;, score=0.759 total time=   2.7s\n",
      "[CV 5/5] END dtc__max_depth=10, dtc__max_leaf_nodes=10, dtc__random_state=43, pca__n_components=5;, score=0.762 total time=   2.8s\n",
      "[CV 1/5] END dtc__max_depth=10, dtc__max_leaf_nodes=10, dtc__random_state=43, pca__n_components=10;, score=0.755 total time=   7.9s\n",
      "[CV 2/5] END dtc__max_depth=10, dtc__max_leaf_nodes=10, dtc__random_state=43, pca__n_components=10;, score=0.762 total time=   6.8s\n",
      "[CV 3/5] END dtc__max_depth=10, dtc__max_leaf_nodes=10, dtc__random_state=43, pca__n_components=10;, score=0.763 total time=   7.0s\n",
      "[CV 4/5] END dtc__max_depth=10, dtc__max_leaf_nodes=10, dtc__random_state=43, pca__n_components=10;, score=0.760 total time=   7.4s\n",
      "[CV 5/5] END dtc__max_depth=10, dtc__max_leaf_nodes=10, dtc__random_state=43, pca__n_components=10;, score=0.766 total time=   7.3s\n",
      "[CV 1/5] END dtc__max_depth=10, dtc__max_leaf_nodes=10, dtc__random_state=43, pca__n_components=20;, score=0.758 total time=  20.1s\n",
      "[CV 2/5] END dtc__max_depth=10, dtc__max_leaf_nodes=10, dtc__random_state=43, pca__n_components=20;, score=0.761 total time=  20.2s\n",
      "[CV 3/5] END dtc__max_depth=10, dtc__max_leaf_nodes=10, dtc__random_state=43, pca__n_components=20;, score=0.779 total time=  20.2s\n",
      "[CV 4/5] END dtc__max_depth=10, dtc__max_leaf_nodes=10, dtc__random_state=43, pca__n_components=20;, score=0.764 total time=  20.1s\n",
      "[CV 5/5] END dtc__max_depth=10, dtc__max_leaf_nodes=10, dtc__random_state=43, pca__n_components=20;, score=0.774 total time=  20.2s\n",
      "[CV 1/5] END dtc__max_depth=10, dtc__max_leaf_nodes=10, dtc__random_state=11, pca__n_components=5;, score=0.749 total time=   2.8s\n",
      "[CV 2/5] END dtc__max_depth=10, dtc__max_leaf_nodes=10, dtc__random_state=11, pca__n_components=5;, score=0.755 total time=   2.6s\n",
      "[CV 3/5] END dtc__max_depth=10, dtc__max_leaf_nodes=10, dtc__random_state=11, pca__n_components=5;, score=0.761 total time=   2.7s\n",
      "[CV 4/5] END dtc__max_depth=10, dtc__max_leaf_nodes=10, dtc__random_state=11, pca__n_components=5;, score=0.761 total time=   2.7s\n",
      "[CV 5/5] END dtc__max_depth=10, dtc__max_leaf_nodes=10, dtc__random_state=11, pca__n_components=5;, score=0.763 total time=   2.8s\n",
      "[CV 1/5] END dtc__max_depth=10, dtc__max_leaf_nodes=10, dtc__random_state=11, pca__n_components=10;, score=0.759 total time=   7.4s\n",
      "[CV 2/5] END dtc__max_depth=10, dtc__max_leaf_nodes=10, dtc__random_state=11, pca__n_components=10;, score=0.764 total time=   7.4s\n",
      "[CV 3/5] END dtc__max_depth=10, dtc__max_leaf_nodes=10, dtc__random_state=11, pca__n_components=10;, score=0.763 total time=   7.0s\n",
      "[CV 4/5] END dtc__max_depth=10, dtc__max_leaf_nodes=10, dtc__random_state=11, pca__n_components=10;, score=0.764 total time=   6.9s\n",
      "[CV 5/5] END dtc__max_depth=10, dtc__max_leaf_nodes=10, dtc__random_state=11, pca__n_components=10;, score=0.768 total time=   6.5s\n",
      "[CV 1/5] END dtc__max_depth=10, dtc__max_leaf_nodes=10, dtc__random_state=11, pca__n_components=20;, score=0.772 total time=  20.4s\n",
      "[CV 2/5] END dtc__max_depth=10, dtc__max_leaf_nodes=10, dtc__random_state=11, pca__n_components=20;, score=0.767 total time=  20.1s\n",
      "[CV 3/5] END dtc__max_depth=10, dtc__max_leaf_nodes=10, dtc__random_state=11, pca__n_components=20;, score=0.772 total time=  20.1s\n",
      "[CV 4/5] END dtc__max_depth=10, dtc__max_leaf_nodes=10, dtc__random_state=11, pca__n_components=20;, score=0.772 total time=  20.2s\n",
      "[CV 5/5] END dtc__max_depth=10, dtc__max_leaf_nodes=10, dtc__random_state=11, pca__n_components=20;, score=0.773 total time=  20.1s\n",
      "[CV 1/5] END dtc__max_depth=10, dtc__max_leaf_nodes=10, dtc__random_state=23, pca__n_components=5;, score=0.752 total time=   2.8s\n",
      "[CV 2/5] END dtc__max_depth=10, dtc__max_leaf_nodes=10, dtc__random_state=23, pca__n_components=5;, score=0.753 total time=   2.8s\n",
      "[CV 3/5] END dtc__max_depth=10, dtc__max_leaf_nodes=10, dtc__random_state=23, pca__n_components=5;, score=0.759 total time=   2.7s\n",
      "[CV 4/5] END dtc__max_depth=10, dtc__max_leaf_nodes=10, dtc__random_state=23, pca__n_components=5;, score=0.758 total time=   2.8s\n",
      "[CV 5/5] END dtc__max_depth=10, dtc__max_leaf_nodes=10, dtc__random_state=23, pca__n_components=5;, score=0.764 total time=   2.7s\n",
      "[CV 1/5] END dtc__max_depth=10, dtc__max_leaf_nodes=10, dtc__random_state=23, pca__n_components=10;, score=0.752 total time=   7.4s\n",
      "[CV 2/5] END dtc__max_depth=10, dtc__max_leaf_nodes=10, dtc__random_state=23, pca__n_components=10;, score=0.763 total time=   6.7s\n",
      "[CV 3/5] END dtc__max_depth=10, dtc__max_leaf_nodes=10, dtc__random_state=23, pca__n_components=10;, score=0.757 total time=   7.0s\n",
      "[CV 4/5] END dtc__max_depth=10, dtc__max_leaf_nodes=10, dtc__random_state=23, pca__n_components=10;, score=0.762 total time=   6.6s\n",
      "[CV 5/5] END dtc__max_depth=10, dtc__max_leaf_nodes=10, dtc__random_state=23, pca__n_components=10;, score=0.772 total time=   6.9s\n",
      "[CV 1/5] END dtc__max_depth=10, dtc__max_leaf_nodes=10, dtc__random_state=23, pca__n_components=20;, score=0.762 total time=  20.2s\n",
      "[CV 2/5] END dtc__max_depth=10, dtc__max_leaf_nodes=10, dtc__random_state=23, pca__n_components=20;, score=0.768 total time=  20.1s\n",
      "[CV 3/5] END dtc__max_depth=10, dtc__max_leaf_nodes=10, dtc__random_state=23, pca__n_components=20;, score=0.771 total time=  20.0s\n",
      "[CV 4/5] END dtc__max_depth=10, dtc__max_leaf_nodes=10, dtc__random_state=23, pca__n_components=20;, score=0.771 total time=  20.0s\n",
      "[CV 5/5] END dtc__max_depth=10, dtc__max_leaf_nodes=10, dtc__random_state=23, pca__n_components=20;, score=0.773 total time=  20.0s\n"
     ]
    },
    {
     "name": "stdout",
     "output_type": "stream",
     "text": [
      "[CV 1/5] END dtc__max_depth=10, dtc__max_leaf_nodes=30, dtc__random_state=43, pca__n_components=5;, score=0.787 total time=   2.8s\n",
      "[CV 2/5] END dtc__max_depth=10, dtc__max_leaf_nodes=30, dtc__random_state=43, pca__n_components=5;, score=0.795 total time=   2.7s\n",
      "[CV 3/5] END dtc__max_depth=10, dtc__max_leaf_nodes=30, dtc__random_state=43, pca__n_components=5;, score=0.791 total time=   2.9s\n",
      "[CV 4/5] END dtc__max_depth=10, dtc__max_leaf_nodes=30, dtc__random_state=43, pca__n_components=5;, score=0.794 total time=   2.8s\n",
      "[CV 5/5] END dtc__max_depth=10, dtc__max_leaf_nodes=30, dtc__random_state=43, pca__n_components=5;, score=0.800 total time=   2.7s\n",
      "[CV 1/5] END dtc__max_depth=10, dtc__max_leaf_nodes=30, dtc__random_state=43, pca__n_components=10;, score=0.797 total time=   7.3s\n",
      "[CV 2/5] END dtc__max_depth=10, dtc__max_leaf_nodes=30, dtc__random_state=43, pca__n_components=10;, score=0.795 total time=   6.9s\n",
      "[CV 3/5] END dtc__max_depth=10, dtc__max_leaf_nodes=30, dtc__random_state=43, pca__n_components=10;, score=0.798 total time=   7.4s\n",
      "[CV 4/5] END dtc__max_depth=10, dtc__max_leaf_nodes=30, dtc__random_state=43, pca__n_components=10;, score=0.799 total time=   6.9s\n",
      "[CV 5/5] END dtc__max_depth=10, dtc__max_leaf_nodes=30, dtc__random_state=43, pca__n_components=10;, score=0.807 total time=   7.3s\n",
      "[CV 1/5] END dtc__max_depth=10, dtc__max_leaf_nodes=30, dtc__random_state=43, pca__n_components=20;, score=0.805 total time=  20.3s\n",
      "[CV 2/5] END dtc__max_depth=10, dtc__max_leaf_nodes=30, dtc__random_state=43, pca__n_components=20;, score=0.813 total time=  20.3s\n",
      "[CV 3/5] END dtc__max_depth=10, dtc__max_leaf_nodes=30, dtc__random_state=43, pca__n_components=20;, score=0.810 total time=  20.3s\n",
      "[CV 4/5] END dtc__max_depth=10, dtc__max_leaf_nodes=30, dtc__random_state=43, pca__n_components=20;, score=0.808 total time=  20.4s\n",
      "[CV 5/5] END dtc__max_depth=10, dtc__max_leaf_nodes=30, dtc__random_state=43, pca__n_components=20;, score=0.820 total time=  20.5s\n",
      "[CV 1/5] END dtc__max_depth=10, dtc__max_leaf_nodes=30, dtc__random_state=11, pca__n_components=5;, score=0.789 total time=   2.8s\n",
      "[CV 2/5] END dtc__max_depth=10, dtc__max_leaf_nodes=30, dtc__random_state=11, pca__n_components=5;, score=0.795 total time=   2.7s\n",
      "[CV 3/5] END dtc__max_depth=10, dtc__max_leaf_nodes=30, dtc__random_state=11, pca__n_components=5;, score=0.792 total time=   2.7s\n",
      "[CV 4/5] END dtc__max_depth=10, dtc__max_leaf_nodes=30, dtc__random_state=11, pca__n_components=5;, score=0.793 total time=   2.8s\n",
      "[CV 5/5] END dtc__max_depth=10, dtc__max_leaf_nodes=30, dtc__random_state=11, pca__n_components=5;, score=0.801 total time=   2.8s\n",
      "[CV 1/5] END dtc__max_depth=10, dtc__max_leaf_nodes=30, dtc__random_state=11, pca__n_components=10;, score=0.798 total time=   7.4s\n",
      "[CV 2/5] END dtc__max_depth=10, dtc__max_leaf_nodes=30, dtc__random_state=11, pca__n_components=10;, score=0.803 total time=   7.7s\n",
      "[CV 3/5] END dtc__max_depth=10, dtc__max_leaf_nodes=30, dtc__random_state=11, pca__n_components=10;, score=0.801 total time=   7.5s\n",
      "[CV 4/5] END dtc__max_depth=10, dtc__max_leaf_nodes=30, dtc__random_state=11, pca__n_components=10;, score=0.807 total time=   6.7s\n",
      "[CV 5/5] END dtc__max_depth=10, dtc__max_leaf_nodes=30, dtc__random_state=11, pca__n_components=10;, score=0.812 total time=   7.0s\n",
      "[CV 1/5] END dtc__max_depth=10, dtc__max_leaf_nodes=30, dtc__random_state=11, pca__n_components=20;, score=0.802 total time=  20.2s\n",
      "[CV 2/5] END dtc__max_depth=10, dtc__max_leaf_nodes=30, dtc__random_state=11, pca__n_components=20;, score=0.813 total time=  20.4s\n",
      "[CV 3/5] END dtc__max_depth=10, dtc__max_leaf_nodes=30, dtc__random_state=11, pca__n_components=20;, score=0.816 total time=  20.5s\n",
      "[CV 4/5] END dtc__max_depth=10, dtc__max_leaf_nodes=30, dtc__random_state=11, pca__n_components=20;, score=0.810 total time=  20.4s\n",
      "[CV 5/5] END dtc__max_depth=10, dtc__max_leaf_nodes=30, dtc__random_state=11, pca__n_components=20;, score=0.816 total time=  20.4s\n",
      "[CV 1/5] END dtc__max_depth=10, dtc__max_leaf_nodes=30, dtc__random_state=23, pca__n_components=5;, score=0.782 total time=   2.7s\n",
      "[CV 2/5] END dtc__max_depth=10, dtc__max_leaf_nodes=30, dtc__random_state=23, pca__n_components=5;, score=0.793 total time=   2.8s\n",
      "[CV 3/5] END dtc__max_depth=10, dtc__max_leaf_nodes=30, dtc__random_state=23, pca__n_components=5;, score=0.793 total time=   2.7s\n",
      "[CV 4/5] END dtc__max_depth=10, dtc__max_leaf_nodes=30, dtc__random_state=23, pca__n_components=5;, score=0.790 total time=   2.8s\n",
      "[CV 5/5] END dtc__max_depth=10, dtc__max_leaf_nodes=30, dtc__random_state=23, pca__n_components=5;, score=0.798 total time=   2.8s\n",
      "[CV 1/5] END dtc__max_depth=10, dtc__max_leaf_nodes=30, dtc__random_state=23, pca__n_components=10;, score=0.795 total time=   7.4s\n",
      "[CV 2/5] END dtc__max_depth=10, dtc__max_leaf_nodes=30, dtc__random_state=23, pca__n_components=10;, score=0.795 total time=   7.4s\n",
      "[CV 3/5] END dtc__max_depth=10, dtc__max_leaf_nodes=30, dtc__random_state=23, pca__n_components=10;, score=0.793 total time=   7.5s\n",
      "[CV 4/5] END dtc__max_depth=10, dtc__max_leaf_nodes=30, dtc__random_state=23, pca__n_components=10;, score=0.802 total time=   7.5s\n",
      "[CV 5/5] END dtc__max_depth=10, dtc__max_leaf_nodes=30, dtc__random_state=23, pca__n_components=10;, score=0.805 total time=   7.4s\n",
      "[CV 1/5] END dtc__max_depth=10, dtc__max_leaf_nodes=30, dtc__random_state=23, pca__n_components=20;, score=0.810 total time=  20.6s\n",
      "[CV 2/5] END dtc__max_depth=10, dtc__max_leaf_nodes=30, dtc__random_state=23, pca__n_components=20;, score=0.819 total time=  21.2s\n",
      "[CV 3/5] END dtc__max_depth=10, dtc__max_leaf_nodes=30, dtc__random_state=23, pca__n_components=20;, score=0.810 total time=  20.4s\n",
      "[CV 4/5] END dtc__max_depth=10, dtc__max_leaf_nodes=30, dtc__random_state=23, pca__n_components=20;, score=0.815 total time=  20.3s\n",
      "[CV 5/5] END dtc__max_depth=10, dtc__max_leaf_nodes=30, dtc__random_state=23, pca__n_components=20;, score=0.817 total time=  20.3s\n",
      "[CV 1/5] END dtc__max_depth=20, dtc__max_leaf_nodes=2, dtc__random_state=43, pca__n_components=5;, score=0.644 total time=   2.6s\n",
      "[CV 2/5] END dtc__max_depth=20, dtc__max_leaf_nodes=2, dtc__random_state=43, pca__n_components=5;, score=0.638 total time=   2.7s\n",
      "[CV 3/5] END dtc__max_depth=20, dtc__max_leaf_nodes=2, dtc__random_state=43, pca__n_components=5;, score=0.639 total time=   2.7s\n",
      "[CV 4/5] END dtc__max_depth=20, dtc__max_leaf_nodes=2, dtc__random_state=43, pca__n_components=5;, score=0.645 total time=   2.7s\n",
      "[CV 5/5] END dtc__max_depth=20, dtc__max_leaf_nodes=2, dtc__random_state=43, pca__n_components=5;, score=0.643 total time=   2.6s\n",
      "[CV 1/5] END dtc__max_depth=20, dtc__max_leaf_nodes=2, dtc__random_state=43, pca__n_components=10;, score=0.641 total time=   7.1s\n",
      "[CV 2/5] END dtc__max_depth=20, dtc__max_leaf_nodes=2, dtc__random_state=43, pca__n_components=10;, score=0.635 total time=   7.2s\n",
      "[CV 3/5] END dtc__max_depth=20, dtc__max_leaf_nodes=2, dtc__random_state=43, pca__n_components=10;, score=0.640 total time=   7.6s\n",
      "[CV 4/5] END dtc__max_depth=20, dtc__max_leaf_nodes=2, dtc__random_state=43, pca__n_components=10;, score=0.648 total time=   6.8s\n",
      "[CV 5/5] END dtc__max_depth=20, dtc__max_leaf_nodes=2, dtc__random_state=43, pca__n_components=10;, score=0.642 total time=   6.3s\n",
      "[CV 1/5] END dtc__max_depth=20, dtc__max_leaf_nodes=2, dtc__random_state=43, pca__n_components=20;, score=0.644 total time=  19.7s\n",
      "[CV 2/5] END dtc__max_depth=20, dtc__max_leaf_nodes=2, dtc__random_state=43, pca__n_components=20;, score=0.638 total time=  20.6s\n",
      "[CV 3/5] END dtc__max_depth=20, dtc__max_leaf_nodes=2, dtc__random_state=43, pca__n_components=20;, score=0.640 total time=  19.8s\n",
      "[CV 4/5] END dtc__max_depth=20, dtc__max_leaf_nodes=2, dtc__random_state=43, pca__n_components=20;, score=0.645 total time=  19.8s\n",
      "[CV 5/5] END dtc__max_depth=20, dtc__max_leaf_nodes=2, dtc__random_state=43, pca__n_components=20;, score=0.644 total time=  19.8s\n",
      "[CV 1/5] END dtc__max_depth=20, dtc__max_leaf_nodes=2, dtc__random_state=11, pca__n_components=5;, score=0.643 total time=   2.7s\n",
      "[CV 2/5] END dtc__max_depth=20, dtc__max_leaf_nodes=2, dtc__random_state=11, pca__n_components=5;, score=0.637 total time=   2.7s\n",
      "[CV 3/5] END dtc__max_depth=20, dtc__max_leaf_nodes=2, dtc__random_state=11, pca__n_components=5;, score=0.638 total time=   2.6s\n"
     ]
    },
    {
     "name": "stdout",
     "output_type": "stream",
     "text": [
      "[CV 4/5] END dtc__max_depth=20, dtc__max_leaf_nodes=2, dtc__random_state=11, pca__n_components=5;, score=0.647 total time=   2.6s\n",
      "[CV 5/5] END dtc__max_depth=20, dtc__max_leaf_nodes=2, dtc__random_state=11, pca__n_components=5;, score=0.644 total time=   2.7s\n",
      "[CV 1/5] END dtc__max_depth=20, dtc__max_leaf_nodes=2, dtc__random_state=11, pca__n_components=10;, score=0.645 total time=   7.4s\n",
      "[CV 2/5] END dtc__max_depth=20, dtc__max_leaf_nodes=2, dtc__random_state=11, pca__n_components=10;, score=0.636 total time=   6.4s\n",
      "[CV 3/5] END dtc__max_depth=20, dtc__max_leaf_nodes=2, dtc__random_state=11, pca__n_components=10;, score=0.642 total time=   7.1s\n",
      "[CV 4/5] END dtc__max_depth=20, dtc__max_leaf_nodes=2, dtc__random_state=11, pca__n_components=10;, score=0.647 total time=   6.8s\n",
      "[CV 5/5] END dtc__max_depth=20, dtc__max_leaf_nodes=2, dtc__random_state=11, pca__n_components=10;, score=0.641 total time=   7.3s\n",
      "[CV 1/5] END dtc__max_depth=20, dtc__max_leaf_nodes=2, dtc__random_state=11, pca__n_components=20;, score=0.643 total time=  19.7s\n",
      "[CV 2/5] END dtc__max_depth=20, dtc__max_leaf_nodes=2, dtc__random_state=11, pca__n_components=20;, score=0.638 total time=  19.7s\n",
      "[CV 3/5] END dtc__max_depth=20, dtc__max_leaf_nodes=2, dtc__random_state=11, pca__n_components=20;, score=0.640 total time=  19.8s\n",
      "[CV 4/5] END dtc__max_depth=20, dtc__max_leaf_nodes=2, dtc__random_state=11, pca__n_components=20;, score=0.647 total time=  19.9s\n",
      "[CV 5/5] END dtc__max_depth=20, dtc__max_leaf_nodes=2, dtc__random_state=11, pca__n_components=20;, score=0.644 total time=  19.7s\n",
      "[CV 1/5] END dtc__max_depth=20, dtc__max_leaf_nodes=2, dtc__random_state=23, pca__n_components=5;, score=0.642 total time=   2.6s\n",
      "[CV 2/5] END dtc__max_depth=20, dtc__max_leaf_nodes=2, dtc__random_state=23, pca__n_components=5;, score=0.638 total time=   2.7s\n",
      "[CV 3/5] END dtc__max_depth=20, dtc__max_leaf_nodes=2, dtc__random_state=23, pca__n_components=5;, score=0.641 total time=   2.6s\n",
      "[CV 4/5] END dtc__max_depth=20, dtc__max_leaf_nodes=2, dtc__random_state=23, pca__n_components=5;, score=0.647 total time=   2.6s\n",
      "[CV 5/5] END dtc__max_depth=20, dtc__max_leaf_nodes=2, dtc__random_state=23, pca__n_components=5;, score=0.644 total time=   2.7s\n",
      "[CV 1/5] END dtc__max_depth=20, dtc__max_leaf_nodes=2, dtc__random_state=23, pca__n_components=10;, score=0.643 total time=   7.0s\n",
      "[CV 2/5] END dtc__max_depth=20, dtc__max_leaf_nodes=2, dtc__random_state=23, pca__n_components=10;, score=0.638 total time=   7.5s\n",
      "[CV 3/5] END dtc__max_depth=20, dtc__max_leaf_nodes=2, dtc__random_state=23, pca__n_components=10;, score=0.639 total time=   6.7s\n",
      "[CV 4/5] END dtc__max_depth=20, dtc__max_leaf_nodes=2, dtc__random_state=23, pca__n_components=10;, score=0.640 total time=   6.9s\n",
      "[CV 5/5] END dtc__max_depth=20, dtc__max_leaf_nodes=2, dtc__random_state=23, pca__n_components=10;, score=0.642 total time=   6.7s\n",
      "[CV 1/5] END dtc__max_depth=20, dtc__max_leaf_nodes=2, dtc__random_state=23, pca__n_components=20;, score=0.643 total time=  19.7s\n",
      "[CV 2/5] END dtc__max_depth=20, dtc__max_leaf_nodes=2, dtc__random_state=23, pca__n_components=20;, score=0.638 total time=  19.7s\n",
      "[CV 3/5] END dtc__max_depth=20, dtc__max_leaf_nodes=2, dtc__random_state=23, pca__n_components=20;, score=0.641 total time=  19.8s\n",
      "[CV 4/5] END dtc__max_depth=20, dtc__max_leaf_nodes=2, dtc__random_state=23, pca__n_components=20;, score=0.646 total time=  19.7s\n",
      "[CV 5/5] END dtc__max_depth=20, dtc__max_leaf_nodes=2, dtc__random_state=23, pca__n_components=20;, score=0.644 total time=  19.6s\n",
      "[CV 1/5] END dtc__max_depth=20, dtc__max_leaf_nodes=5, dtc__random_state=43, pca__n_components=5;, score=0.714 total time=   2.7s\n",
      "[CV 2/5] END dtc__max_depth=20, dtc__max_leaf_nodes=5, dtc__random_state=43, pca__n_components=5;, score=0.714 total time=   2.7s\n",
      "[CV 3/5] END dtc__max_depth=20, dtc__max_leaf_nodes=5, dtc__random_state=43, pca__n_components=5;, score=0.710 total time=   2.6s\n",
      "[CV 4/5] END dtc__max_depth=20, dtc__max_leaf_nodes=5, dtc__random_state=43, pca__n_components=5;, score=0.723 total time=   2.6s\n",
      "[CV 5/5] END dtc__max_depth=20, dtc__max_leaf_nodes=5, dtc__random_state=43, pca__n_components=5;, score=0.719 total time=   2.6s\n",
      "[CV 1/5] END dtc__max_depth=20, dtc__max_leaf_nodes=5, dtc__random_state=43, pca__n_components=10;, score=0.717 total time=   7.4s\n",
      "[CV 2/5] END dtc__max_depth=20, dtc__max_leaf_nodes=5, dtc__random_state=43, pca__n_components=10;, score=0.707 total time=   6.7s\n",
      "[CV 3/5] END dtc__max_depth=20, dtc__max_leaf_nodes=5, dtc__random_state=43, pca__n_components=10;, score=0.709 total time=   7.1s\n",
      "[CV 4/5] END dtc__max_depth=20, dtc__max_leaf_nodes=5, dtc__random_state=43, pca__n_components=10;, score=0.722 total time=   6.8s\n",
      "[CV 5/5] END dtc__max_depth=20, dtc__max_leaf_nodes=5, dtc__random_state=43, pca__n_components=10;, score=0.719 total time=   7.7s\n",
      "[CV 1/5] END dtc__max_depth=20, dtc__max_leaf_nodes=5, dtc__random_state=43, pca__n_components=20;, score=0.708 total time=  19.9s\n",
      "[CV 2/5] END dtc__max_depth=20, dtc__max_leaf_nodes=5, dtc__random_state=43, pca__n_components=20;, score=0.705 total time=  20.9s\n",
      "[CV 3/5] END dtc__max_depth=20, dtc__max_leaf_nodes=5, dtc__random_state=43, pca__n_components=20;, score=0.716 total time=  22.2s\n",
      "[CV 4/5] END dtc__max_depth=20, dtc__max_leaf_nodes=5, dtc__random_state=43, pca__n_components=20;, score=0.713 total time=  24.2s\n",
      "[CV 5/5] END dtc__max_depth=20, dtc__max_leaf_nodes=5, dtc__random_state=43, pca__n_components=20;, score=0.714 total time=  22.1s\n",
      "[CV 1/5] END dtc__max_depth=20, dtc__max_leaf_nodes=5, dtc__random_state=11, pca__n_components=5;, score=0.712 total time=   3.1s\n",
      "[CV 2/5] END dtc__max_depth=20, dtc__max_leaf_nodes=5, dtc__random_state=11, pca__n_components=5;, score=0.710 total time=   2.9s\n",
      "[CV 3/5] END dtc__max_depth=20, dtc__max_leaf_nodes=5, dtc__random_state=11, pca__n_components=5;, score=0.710 total time=   3.0s\n",
      "[CV 4/5] END dtc__max_depth=20, dtc__max_leaf_nodes=5, dtc__random_state=11, pca__n_components=5;, score=0.718 total time=   3.0s\n",
      "[CV 5/5] END dtc__max_depth=20, dtc__max_leaf_nodes=5, dtc__random_state=11, pca__n_components=5;, score=0.720 total time=   2.9s\n",
      "[CV 1/5] END dtc__max_depth=20, dtc__max_leaf_nodes=5, dtc__random_state=11, pca__n_components=10;, score=0.715 total time=   8.0s\n",
      "[CV 2/5] END dtc__max_depth=20, dtc__max_leaf_nodes=5, dtc__random_state=11, pca__n_components=10;, score=0.712 total time=   7.8s\n",
      "[CV 3/5] END dtc__max_depth=20, dtc__max_leaf_nodes=5, dtc__random_state=11, pca__n_components=10;, score=0.712 total time=   7.2s\n",
      "[CV 4/5] END dtc__max_depth=20, dtc__max_leaf_nodes=5, dtc__random_state=11, pca__n_components=10;, score=0.714 total time=   7.2s\n",
      "[CV 5/5] END dtc__max_depth=20, dtc__max_leaf_nodes=5, dtc__random_state=11, pca__n_components=10;, score=0.717 total time=   8.2s\n",
      "[CV 1/5] END dtc__max_depth=20, dtc__max_leaf_nodes=5, dtc__random_state=11, pca__n_components=20;, score=0.708 total time=  22.1s\n",
      "[CV 2/5] END dtc__max_depth=20, dtc__max_leaf_nodes=5, dtc__random_state=11, pca__n_components=20;, score=0.702 total time=  21.8s\n",
      "[CV 3/5] END dtc__max_depth=20, dtc__max_leaf_nodes=5, dtc__random_state=11, pca__n_components=20;, score=0.712 total time=  21.7s\n",
      "[CV 4/5] END dtc__max_depth=20, dtc__max_leaf_nodes=5, dtc__random_state=11, pca__n_components=20;, score=0.741 total time=  21.8s\n",
      "[CV 5/5] END dtc__max_depth=20, dtc__max_leaf_nodes=5, dtc__random_state=11, pca__n_components=20;, score=0.710 total time=  21.7s\n",
      "[CV 1/5] END dtc__max_depth=20, dtc__max_leaf_nodes=5, dtc__random_state=23, pca__n_components=5;, score=0.706 total time=   2.9s\n",
      "[CV 2/5] END dtc__max_depth=20, dtc__max_leaf_nodes=5, dtc__random_state=23, pca__n_components=5;, score=0.714 total time=   3.0s\n",
      "[CV 3/5] END dtc__max_depth=20, dtc__max_leaf_nodes=5, dtc__random_state=23, pca__n_components=5;, score=0.710 total time=   2.9s\n",
      "[CV 4/5] END dtc__max_depth=20, dtc__max_leaf_nodes=5, dtc__random_state=23, pca__n_components=5;, score=0.719 total time=   3.0s\n",
      "[CV 5/5] END dtc__max_depth=20, dtc__max_leaf_nodes=5, dtc__random_state=23, pca__n_components=5;, score=0.717 total time=   2.9s\n",
      "[CV 1/5] END dtc__max_depth=20, dtc__max_leaf_nodes=5, dtc__random_state=23, pca__n_components=10;, score=0.718 total time=   7.9s\n"
     ]
    },
    {
     "name": "stdout",
     "output_type": "stream",
     "text": [
      "[CV 2/5] END dtc__max_depth=20, dtc__max_leaf_nodes=5, dtc__random_state=23, pca__n_components=10;, score=0.714 total time=   7.7s\n",
      "[CV 3/5] END dtc__max_depth=20, dtc__max_leaf_nodes=5, dtc__random_state=23, pca__n_components=10;, score=0.706 total time=   8.3s\n",
      "[CV 4/5] END dtc__max_depth=20, dtc__max_leaf_nodes=5, dtc__random_state=23, pca__n_components=10;, score=0.724 total time=   7.5s\n",
      "[CV 5/5] END dtc__max_depth=20, dtc__max_leaf_nodes=5, dtc__random_state=23, pca__n_components=10;, score=0.715 total time=   7.3s\n",
      "[CV 1/5] END dtc__max_depth=20, dtc__max_leaf_nodes=5, dtc__random_state=23, pca__n_components=20;, score=0.709 total time=  21.8s\n",
      "[CV 2/5] END dtc__max_depth=20, dtc__max_leaf_nodes=5, dtc__random_state=23, pca__n_components=20;, score=0.704 total time=  21.7s\n",
      "[CV 3/5] END dtc__max_depth=20, dtc__max_leaf_nodes=5, dtc__random_state=23, pca__n_components=20;, score=0.714 total time=  21.8s\n",
      "[CV 4/5] END dtc__max_depth=20, dtc__max_leaf_nodes=5, dtc__random_state=23, pca__n_components=20;, score=0.712 total time=  22.6s\n",
      "[CV 5/5] END dtc__max_depth=20, dtc__max_leaf_nodes=5, dtc__random_state=23, pca__n_components=20;, score=0.722 total time=  22.0s\n",
      "[CV 1/5] END dtc__max_depth=20, dtc__max_leaf_nodes=10, dtc__random_state=43, pca__n_components=5;, score=0.751 total time=   2.9s\n",
      "[CV 2/5] END dtc__max_depth=20, dtc__max_leaf_nodes=10, dtc__random_state=43, pca__n_components=5;, score=0.758 total time=   2.9s\n",
      "[CV 3/5] END dtc__max_depth=20, dtc__max_leaf_nodes=10, dtc__random_state=43, pca__n_components=5;, score=0.759 total time=   2.9s\n",
      "[CV 4/5] END dtc__max_depth=20, dtc__max_leaf_nodes=10, dtc__random_state=43, pca__n_components=5;, score=0.757 total time=   2.9s\n",
      "[CV 5/5] END dtc__max_depth=20, dtc__max_leaf_nodes=10, dtc__random_state=43, pca__n_components=5;, score=0.762 total time=   3.0s\n",
      "[CV 1/5] END dtc__max_depth=20, dtc__max_leaf_nodes=10, dtc__random_state=43, pca__n_components=10;, score=0.762 total time=   8.2s\n",
      "[CV 2/5] END dtc__max_depth=20, dtc__max_leaf_nodes=10, dtc__random_state=43, pca__n_components=10;, score=0.765 total time=   7.2s\n",
      "[CV 3/5] END dtc__max_depth=20, dtc__max_leaf_nodes=10, dtc__random_state=43, pca__n_components=10;, score=0.759 total time=   8.0s\n",
      "[CV 4/5] END dtc__max_depth=20, dtc__max_leaf_nodes=10, dtc__random_state=43, pca__n_components=10;, score=0.761 total time=   7.6s\n",
      "[CV 5/5] END dtc__max_depth=20, dtc__max_leaf_nodes=10, dtc__random_state=43, pca__n_components=10;, score=0.771 total time=   7.6s\n",
      "[CV 1/5] END dtc__max_depth=20, dtc__max_leaf_nodes=10, dtc__random_state=43, pca__n_components=20;, score=0.769 total time=  21.8s\n",
      "[CV 2/5] END dtc__max_depth=20, dtc__max_leaf_nodes=10, dtc__random_state=43, pca__n_components=20;, score=0.769 total time=  22.0s\n",
      "[CV 3/5] END dtc__max_depth=20, dtc__max_leaf_nodes=10, dtc__random_state=43, pca__n_components=20;, score=0.768 total time=  21.7s\n",
      "[CV 4/5] END dtc__max_depth=20, dtc__max_leaf_nodes=10, dtc__random_state=43, pca__n_components=20;, score=0.770 total time=  23.2s\n",
      "[CV 5/5] END dtc__max_depth=20, dtc__max_leaf_nodes=10, dtc__random_state=43, pca__n_components=20;, score=0.777 total time=  23.0s\n",
      "[CV 1/5] END dtc__max_depth=20, dtc__max_leaf_nodes=10, dtc__random_state=11, pca__n_components=5;, score=0.751 total time=   3.2s\n",
      "[CV 2/5] END dtc__max_depth=20, dtc__max_leaf_nodes=10, dtc__random_state=11, pca__n_components=5;, score=0.757 total time=   3.1s\n",
      "[CV 3/5] END dtc__max_depth=20, dtc__max_leaf_nodes=10, dtc__random_state=11, pca__n_components=5;, score=0.759 total time=   3.3s\n",
      "[CV 4/5] END dtc__max_depth=20, dtc__max_leaf_nodes=10, dtc__random_state=11, pca__n_components=5;, score=0.760 total time=   3.2s\n",
      "[CV 5/5] END dtc__max_depth=20, dtc__max_leaf_nodes=10, dtc__random_state=11, pca__n_components=5;, score=0.765 total time=   3.2s\n",
      "[CV 1/5] END dtc__max_depth=20, dtc__max_leaf_nodes=10, dtc__random_state=11, pca__n_components=10;, score=0.752 total time=   7.4s\n",
      "[CV 2/5] END dtc__max_depth=20, dtc__max_leaf_nodes=10, dtc__random_state=11, pca__n_components=10;, score=0.762 total time=   7.8s\n",
      "[CV 3/5] END dtc__max_depth=20, dtc__max_leaf_nodes=10, dtc__random_state=11, pca__n_components=10;, score=0.761 total time=   9.1s\n",
      "[CV 4/5] END dtc__max_depth=20, dtc__max_leaf_nodes=10, dtc__random_state=11, pca__n_components=10;, score=0.758 total time=   7.8s\n",
      "[CV 5/5] END dtc__max_depth=20, dtc__max_leaf_nodes=10, dtc__random_state=11, pca__n_components=10;, score=0.766 total time=   8.7s\n",
      "[CV 1/5] END dtc__max_depth=20, dtc__max_leaf_nodes=10, dtc__random_state=11, pca__n_components=20;, score=0.762 total time=  22.6s\n",
      "[CV 2/5] END dtc__max_depth=20, dtc__max_leaf_nodes=10, dtc__random_state=11, pca__n_components=20;, score=0.764 total time=  21.9s\n",
      "[CV 3/5] END dtc__max_depth=20, dtc__max_leaf_nodes=10, dtc__random_state=11, pca__n_components=20;, score=0.774 total time=  22.2s\n",
      "[CV 4/5] END dtc__max_depth=20, dtc__max_leaf_nodes=10, dtc__random_state=11, pca__n_components=20;, score=0.765 total time=  21.9s\n",
      "[CV 5/5] END dtc__max_depth=20, dtc__max_leaf_nodes=10, dtc__random_state=11, pca__n_components=20;, score=0.769 total time=  21.9s\n",
      "[CV 1/5] END dtc__max_depth=20, dtc__max_leaf_nodes=10, dtc__random_state=23, pca__n_components=5;, score=0.752 total time=   3.1s\n",
      "[CV 2/5] END dtc__max_depth=20, dtc__max_leaf_nodes=10, dtc__random_state=23, pca__n_components=5;, score=0.754 total time=   2.8s\n",
      "[CV 3/5] END dtc__max_depth=20, dtc__max_leaf_nodes=10, dtc__random_state=23, pca__n_components=5;, score=0.755 total time=   2.9s\n",
      "[CV 4/5] END dtc__max_depth=20, dtc__max_leaf_nodes=10, dtc__random_state=23, pca__n_components=5;, score=0.760 total time=   2.7s\n",
      "[CV 5/5] END dtc__max_depth=20, dtc__max_leaf_nodes=10, dtc__random_state=23, pca__n_components=5;, score=0.766 total time=   2.7s\n",
      "[CV 1/5] END dtc__max_depth=20, dtc__max_leaf_nodes=10, dtc__random_state=23, pca__n_components=10;, score=0.761 total time=   7.6s\n",
      "[CV 2/5] END dtc__max_depth=20, dtc__max_leaf_nodes=10, dtc__random_state=23, pca__n_components=10;, score=0.752 total time=   7.8s\n",
      "[CV 3/5] END dtc__max_depth=20, dtc__max_leaf_nodes=10, dtc__random_state=23, pca__n_components=10;, score=0.760 total time=   8.1s\n",
      "[CV 4/5] END dtc__max_depth=20, dtc__max_leaf_nodes=10, dtc__random_state=23, pca__n_components=10;, score=0.768 total time=   7.2s\n",
      "[CV 5/5] END dtc__max_depth=20, dtc__max_leaf_nodes=10, dtc__random_state=23, pca__n_components=10;, score=0.756 total time=   7.4s\n",
      "[CV 1/5] END dtc__max_depth=20, dtc__max_leaf_nodes=10, dtc__random_state=23, pca__n_components=20;, score=0.769 total time=  20.3s\n",
      "[CV 2/5] END dtc__max_depth=20, dtc__max_leaf_nodes=10, dtc__random_state=23, pca__n_components=20;, score=0.769 total time=  20.3s\n",
      "[CV 3/5] END dtc__max_depth=20, dtc__max_leaf_nodes=10, dtc__random_state=23, pca__n_components=20;, score=0.764 total time=  20.3s\n",
      "[CV 4/5] END dtc__max_depth=20, dtc__max_leaf_nodes=10, dtc__random_state=23, pca__n_components=20;, score=0.772 total time=  20.3s\n",
      "[CV 5/5] END dtc__max_depth=20, dtc__max_leaf_nodes=10, dtc__random_state=23, pca__n_components=20;, score=0.766 total time=  20.2s\n",
      "[CV 1/5] END dtc__max_depth=20, dtc__max_leaf_nodes=30, dtc__random_state=43, pca__n_components=5;, score=0.782 total time=   2.7s\n",
      "[CV 2/5] END dtc__max_depth=20, dtc__max_leaf_nodes=30, dtc__random_state=43, pca__n_components=5;, score=0.793 total time=   2.8s\n",
      "[CV 3/5] END dtc__max_depth=20, dtc__max_leaf_nodes=30, dtc__random_state=43, pca__n_components=5;, score=0.791 total time=   2.8s\n",
      "[CV 4/5] END dtc__max_depth=20, dtc__max_leaf_nodes=30, dtc__random_state=43, pca__n_components=5;, score=0.785 total time=   2.8s\n",
      "[CV 5/5] END dtc__max_depth=20, dtc__max_leaf_nodes=30, dtc__random_state=43, pca__n_components=5;, score=0.796 total time=   2.8s\n",
      "[CV 1/5] END dtc__max_depth=20, dtc__max_leaf_nodes=30, dtc__random_state=43, pca__n_components=10;, score=0.803 total time=   7.2s\n",
      "[CV 2/5] END dtc__max_depth=20, dtc__max_leaf_nodes=30, dtc__random_state=43, pca__n_components=10;, score=0.793 total time=   7.2s\n",
      "[CV 3/5] END dtc__max_depth=20, dtc__max_leaf_nodes=30, dtc__random_state=43, pca__n_components=10;, score=0.792 total time=   7.7s\n",
      "[CV 4/5] END dtc__max_depth=20, dtc__max_leaf_nodes=30, dtc__random_state=43, pca__n_components=10;, score=0.800 total time=   7.0s\n"
     ]
    },
    {
     "name": "stdout",
     "output_type": "stream",
     "text": [
      "[CV 5/5] END dtc__max_depth=20, dtc__max_leaf_nodes=30, dtc__random_state=43, pca__n_components=10;, score=0.809 total time=   7.8s\n",
      "[CV 1/5] END dtc__max_depth=20, dtc__max_leaf_nodes=30, dtc__random_state=43, pca__n_components=20;, score=0.808 total time=  20.4s\n",
      "[CV 2/5] END dtc__max_depth=20, dtc__max_leaf_nodes=30, dtc__random_state=43, pca__n_components=20;, score=0.810 total time=  20.4s\n",
      "[CV 3/5] END dtc__max_depth=20, dtc__max_leaf_nodes=30, dtc__random_state=43, pca__n_components=20;, score=0.821 total time=  20.5s\n",
      "[CV 4/5] END dtc__max_depth=20, dtc__max_leaf_nodes=30, dtc__random_state=43, pca__n_components=20;, score=0.816 total time=  20.5s\n",
      "[CV 5/5] END dtc__max_depth=20, dtc__max_leaf_nodes=30, dtc__random_state=43, pca__n_components=20;, score=0.818 total time=  20.3s\n",
      "[CV 1/5] END dtc__max_depth=20, dtc__max_leaf_nodes=30, dtc__random_state=11, pca__n_components=5;, score=0.788 total time=   2.9s\n",
      "[CV 2/5] END dtc__max_depth=20, dtc__max_leaf_nodes=30, dtc__random_state=11, pca__n_components=5;, score=0.794 total time=   2.8s\n",
      "[CV 3/5] END dtc__max_depth=20, dtc__max_leaf_nodes=30, dtc__random_state=11, pca__n_components=5;, score=0.793 total time=   2.8s\n",
      "[CV 4/5] END dtc__max_depth=20, dtc__max_leaf_nodes=30, dtc__random_state=11, pca__n_components=5;, score=0.790 total time=   2.8s\n",
      "[CV 5/5] END dtc__max_depth=20, dtc__max_leaf_nodes=30, dtc__random_state=11, pca__n_components=5;, score=0.796 total time=   2.8s\n",
      "[CV 1/5] END dtc__max_depth=20, dtc__max_leaf_nodes=30, dtc__random_state=11, pca__n_components=10;, score=0.793 total time=   7.7s\n",
      "[CV 2/5] END dtc__max_depth=20, dtc__max_leaf_nodes=30, dtc__random_state=11, pca__n_components=10;, score=0.802 total time=   8.0s\n",
      "[CV 3/5] END dtc__max_depth=20, dtc__max_leaf_nodes=30, dtc__random_state=11, pca__n_components=10;, score=0.802 total time=   8.5s\n",
      "[CV 4/5] END dtc__max_depth=20, dtc__max_leaf_nodes=30, dtc__random_state=11, pca__n_components=10;, score=0.804 total time=   7.6s\n",
      "[CV 5/5] END dtc__max_depth=20, dtc__max_leaf_nodes=30, dtc__random_state=11, pca__n_components=10;, score=0.803 total time=   7.5s\n",
      "[CV 1/5] END dtc__max_depth=20, dtc__max_leaf_nodes=30, dtc__random_state=11, pca__n_components=20;, score=0.806 total time=  22.3s\n",
      "[CV 2/5] END dtc__max_depth=20, dtc__max_leaf_nodes=30, dtc__random_state=11, pca__n_components=20;, score=0.814 total time=  22.0s\n",
      "[CV 3/5] END dtc__max_depth=20, dtc__max_leaf_nodes=30, dtc__random_state=11, pca__n_components=20;, score=0.817 total time=  22.2s\n",
      "[CV 4/5] END dtc__max_depth=20, dtc__max_leaf_nodes=30, dtc__random_state=11, pca__n_components=20;, score=0.811 total time=  22.3s\n",
      "[CV 5/5] END dtc__max_depth=20, dtc__max_leaf_nodes=30, dtc__random_state=11, pca__n_components=20;, score=0.818 total time=  22.4s\n",
      "[CV 1/5] END dtc__max_depth=20, dtc__max_leaf_nodes=30, dtc__random_state=23, pca__n_components=5;, score=0.790 total time=   3.0s\n",
      "[CV 2/5] END dtc__max_depth=20, dtc__max_leaf_nodes=30, dtc__random_state=23, pca__n_components=5;, score=0.791 total time=   3.1s\n",
      "[CV 3/5] END dtc__max_depth=20, dtc__max_leaf_nodes=30, dtc__random_state=23, pca__n_components=5;, score=0.792 total time=   3.1s\n",
      "[CV 4/5] END dtc__max_depth=20, dtc__max_leaf_nodes=30, dtc__random_state=23, pca__n_components=5;, score=0.786 total time=   3.1s\n",
      "[CV 5/5] END dtc__max_depth=20, dtc__max_leaf_nodes=30, dtc__random_state=23, pca__n_components=5;, score=0.796 total time=   3.0s\n",
      "[CV 1/5] END dtc__max_depth=20, dtc__max_leaf_nodes=30, dtc__random_state=23, pca__n_components=10;, score=0.792 total time=   8.0s\n",
      "[CV 2/5] END dtc__max_depth=20, dtc__max_leaf_nodes=30, dtc__random_state=23, pca__n_components=10;, score=0.801 total time=   7.5s\n",
      "[CV 3/5] END dtc__max_depth=20, dtc__max_leaf_nodes=30, dtc__random_state=23, pca__n_components=10;, score=0.800 total time=   8.1s\n",
      "[CV 4/5] END dtc__max_depth=20, dtc__max_leaf_nodes=30, dtc__random_state=23, pca__n_components=10;, score=0.797 total time=   7.6s\n",
      "[CV 5/5] END dtc__max_depth=20, dtc__max_leaf_nodes=30, dtc__random_state=23, pca__n_components=10;, score=0.804 total time=   8.1s\n",
      "[CV 1/5] END dtc__max_depth=20, dtc__max_leaf_nodes=30, dtc__random_state=23, pca__n_components=20;, score=0.812 total time=  21.5s\n",
      "[CV 2/5] END dtc__max_depth=20, dtc__max_leaf_nodes=30, dtc__random_state=23, pca__n_components=20;, score=0.810 total time=  21.1s\n",
      "[CV 3/5] END dtc__max_depth=20, dtc__max_leaf_nodes=30, dtc__random_state=23, pca__n_components=20;, score=0.815 total time=  22.6s\n",
      "[CV 4/5] END dtc__max_depth=20, dtc__max_leaf_nodes=30, dtc__random_state=23, pca__n_components=20;, score=0.814 total time=  22.6s\n",
      "[CV 5/5] END dtc__max_depth=20, dtc__max_leaf_nodes=30, dtc__random_state=23, pca__n_components=20;, score=0.814 total time=  22.1s\n",
      "[CV 1/5] END dtc__max_depth=40, dtc__max_leaf_nodes=2, dtc__random_state=43, pca__n_components=5;, score=0.643 total time=   2.9s\n",
      "[CV 2/5] END dtc__max_depth=40, dtc__max_leaf_nodes=2, dtc__random_state=43, pca__n_components=5;, score=0.638 total time=   2.9s\n",
      "[CV 3/5] END dtc__max_depth=40, dtc__max_leaf_nodes=2, dtc__random_state=43, pca__n_components=5;, score=0.641 total time=   2.9s\n",
      "[CV 4/5] END dtc__max_depth=40, dtc__max_leaf_nodes=2, dtc__random_state=43, pca__n_components=5;, score=0.647 total time=   3.0s\n",
      "[CV 5/5] END dtc__max_depth=40, dtc__max_leaf_nodes=2, dtc__random_state=43, pca__n_components=5;, score=0.644 total time=   2.9s\n",
      "[CV 1/5] END dtc__max_depth=40, dtc__max_leaf_nodes=2, dtc__random_state=43, pca__n_components=10;, score=0.640 total time=   7.3s\n",
      "[CV 2/5] END dtc__max_depth=40, dtc__max_leaf_nodes=2, dtc__random_state=43, pca__n_components=10;, score=0.641 total time=   7.0s\n",
      "[CV 3/5] END dtc__max_depth=40, dtc__max_leaf_nodes=2, dtc__random_state=43, pca__n_components=10;, score=0.640 total time=   7.2s\n",
      "[CV 4/5] END dtc__max_depth=40, dtc__max_leaf_nodes=2, dtc__random_state=43, pca__n_components=10;, score=0.646 total time=   7.7s\n",
      "[CV 5/5] END dtc__max_depth=40, dtc__max_leaf_nodes=2, dtc__random_state=43, pca__n_components=10;, score=0.643 total time=   6.6s\n",
      "[CV 1/5] END dtc__max_depth=40, dtc__max_leaf_nodes=2, dtc__random_state=43, pca__n_components=20;, score=0.642 total time=  22.8s\n",
      "[CV 2/5] END dtc__max_depth=40, dtc__max_leaf_nodes=2, dtc__random_state=43, pca__n_components=20;, score=0.638 total time=  21.0s\n",
      "[CV 3/5] END dtc__max_depth=40, dtc__max_leaf_nodes=2, dtc__random_state=43, pca__n_components=20;, score=0.640 total time=  20.6s\n",
      "[CV 4/5] END dtc__max_depth=40, dtc__max_leaf_nodes=2, dtc__random_state=43, pca__n_components=20;, score=0.647 total time=  20.8s\n",
      "[CV 5/5] END dtc__max_depth=40, dtc__max_leaf_nodes=2, dtc__random_state=43, pca__n_components=20;, score=0.643 total time=  23.9s\n",
      "[CV 1/5] END dtc__max_depth=40, dtc__max_leaf_nodes=2, dtc__random_state=11, pca__n_components=5;, score=0.643 total time=   3.0s\n",
      "[CV 2/5] END dtc__max_depth=40, dtc__max_leaf_nodes=2, dtc__random_state=11, pca__n_components=5;, score=0.637 total time=   2.7s\n",
      "[CV 3/5] END dtc__max_depth=40, dtc__max_leaf_nodes=2, dtc__random_state=11, pca__n_components=5;, score=0.641 total time=   3.0s\n",
      "[CV 4/5] END dtc__max_depth=40, dtc__max_leaf_nodes=2, dtc__random_state=11, pca__n_components=5;, score=0.646 total time=   2.7s\n",
      "[CV 5/5] END dtc__max_depth=40, dtc__max_leaf_nodes=2, dtc__random_state=11, pca__n_components=5;, score=0.644 total time=   2.8s\n",
      "[CV 1/5] END dtc__max_depth=40, dtc__max_leaf_nodes=2, dtc__random_state=11, pca__n_components=10;, score=0.644 total time=   7.8s\n",
      "[CV 2/5] END dtc__max_depth=40, dtc__max_leaf_nodes=2, dtc__random_state=11, pca__n_components=10;, score=0.635 total time=   7.1s\n",
      "[CV 3/5] END dtc__max_depth=40, dtc__max_leaf_nodes=2, dtc__random_state=11, pca__n_components=10;, score=0.641 total time=   7.3s\n",
      "[CV 4/5] END dtc__max_depth=40, dtc__max_leaf_nodes=2, dtc__random_state=11, pca__n_components=10;, score=0.646 total time=   7.1s\n",
      "[CV 5/5] END dtc__max_depth=40, dtc__max_leaf_nodes=2, dtc__random_state=11, pca__n_components=10;, score=0.643 total time=   6.8s\n",
      "[CV 1/5] END dtc__max_depth=40, dtc__max_leaf_nodes=2, dtc__random_state=11, pca__n_components=20;, score=0.644 total time=  21.5s\n",
      "[CV 2/5] END dtc__max_depth=40, dtc__max_leaf_nodes=2, dtc__random_state=11, pca__n_components=20;, score=0.638 total time=  21.4s\n"
     ]
    },
    {
     "name": "stdout",
     "output_type": "stream",
     "text": [
      "[CV 3/5] END dtc__max_depth=40, dtc__max_leaf_nodes=2, dtc__random_state=11, pca__n_components=20;, score=0.641 total time=  22.1s\n",
      "[CV 4/5] END dtc__max_depth=40, dtc__max_leaf_nodes=2, dtc__random_state=11, pca__n_components=20;, score=0.646 total time=  22.1s\n",
      "[CV 5/5] END dtc__max_depth=40, dtc__max_leaf_nodes=2, dtc__random_state=11, pca__n_components=20;, score=0.644 total time=  20.9s\n",
      "[CV 1/5] END dtc__max_depth=40, dtc__max_leaf_nodes=2, dtc__random_state=23, pca__n_components=5;, score=0.644 total time=   2.7s\n",
      "[CV 2/5] END dtc__max_depth=40, dtc__max_leaf_nodes=2, dtc__random_state=23, pca__n_components=5;, score=0.638 total time=   2.7s\n",
      "[CV 3/5] END dtc__max_depth=40, dtc__max_leaf_nodes=2, dtc__random_state=23, pca__n_components=5;, score=0.640 total time=   2.7s\n",
      "[CV 4/5] END dtc__max_depth=40, dtc__max_leaf_nodes=2, dtc__random_state=23, pca__n_components=5;, score=0.647 total time=   2.7s\n",
      "[CV 5/5] END dtc__max_depth=40, dtc__max_leaf_nodes=2, dtc__random_state=23, pca__n_components=5;, score=0.645 total time=   2.5s\n",
      "[CV 1/5] END dtc__max_depth=40, dtc__max_leaf_nodes=2, dtc__random_state=23, pca__n_components=10;, score=0.644 total time=   6.9s\n",
      "[CV 2/5] END dtc__max_depth=40, dtc__max_leaf_nodes=2, dtc__random_state=23, pca__n_components=10;, score=0.637 total time=   6.9s\n",
      "[CV 3/5] END dtc__max_depth=40, dtc__max_leaf_nodes=2, dtc__random_state=23, pca__n_components=10;, score=0.642 total time=   7.5s\n",
      "[CV 4/5] END dtc__max_depth=40, dtc__max_leaf_nodes=2, dtc__random_state=23, pca__n_components=10;, score=0.645 total time=   7.0s\n",
      "[CV 5/5] END dtc__max_depth=40, dtc__max_leaf_nodes=2, dtc__random_state=23, pca__n_components=10;, score=0.644 total time=   7.3s\n",
      "[CV 1/5] END dtc__max_depth=40, dtc__max_leaf_nodes=2, dtc__random_state=23, pca__n_components=20;, score=0.644 total time=  21.3s\n",
      "[CV 2/5] END dtc__max_depth=40, dtc__max_leaf_nodes=2, dtc__random_state=23, pca__n_components=20;, score=0.638 total time=  22.6s\n",
      "[CV 3/5] END dtc__max_depth=40, dtc__max_leaf_nodes=2, dtc__random_state=23, pca__n_components=20;, score=0.641 total time=  20.7s\n",
      "[CV 4/5] END dtc__max_depth=40, dtc__max_leaf_nodes=2, dtc__random_state=23, pca__n_components=20;, score=0.646 total time=  22.8s\n",
      "[CV 5/5] END dtc__max_depth=40, dtc__max_leaf_nodes=2, dtc__random_state=23, pca__n_components=20;, score=0.644 total time=  20.6s\n",
      "[CV 1/5] END dtc__max_depth=40, dtc__max_leaf_nodes=5, dtc__random_state=43, pca__n_components=5;, score=0.712 total time=   2.7s\n",
      "[CV 2/5] END dtc__max_depth=40, dtc__max_leaf_nodes=5, dtc__random_state=43, pca__n_components=5;, score=0.713 total time=   2.9s\n",
      "[CV 3/5] END dtc__max_depth=40, dtc__max_leaf_nodes=5, dtc__random_state=43, pca__n_components=5;, score=0.708 total time=   2.8s\n",
      "[CV 4/5] END dtc__max_depth=40, dtc__max_leaf_nodes=5, dtc__random_state=43, pca__n_components=5;, score=0.711 total time=   2.6s\n",
      "[CV 5/5] END dtc__max_depth=40, dtc__max_leaf_nodes=5, dtc__random_state=43, pca__n_components=5;, score=0.715 total time=   2.7s\n",
      "[CV 1/5] END dtc__max_depth=40, dtc__max_leaf_nodes=5, dtc__random_state=43, pca__n_components=10;, score=0.714 total time=   7.5s\n",
      "[CV 2/5] END dtc__max_depth=40, dtc__max_leaf_nodes=5, dtc__random_state=43, pca__n_components=10;, score=0.705 total time=   6.9s\n",
      "[CV 3/5] END dtc__max_depth=40, dtc__max_leaf_nodes=5, dtc__random_state=43, pca__n_components=10;, score=0.701 total time=   8.0s\n",
      "[CV 4/5] END dtc__max_depth=40, dtc__max_leaf_nodes=5, dtc__random_state=43, pca__n_components=10;, score=0.716 total time=   8.3s\n",
      "[CV 5/5] END dtc__max_depth=40, dtc__max_leaf_nodes=5, dtc__random_state=43, pca__n_components=10;, score=0.720 total time=   7.8s\n",
      "[CV 1/5] END dtc__max_depth=40, dtc__max_leaf_nodes=5, dtc__random_state=43, pca__n_components=20;, score=0.718 total time=  21.7s\n",
      "[CV 2/5] END dtc__max_depth=40, dtc__max_leaf_nodes=5, dtc__random_state=43, pca__n_components=20;, score=0.704 total time=  21.2s\n",
      "[CV 3/5] END dtc__max_depth=40, dtc__max_leaf_nodes=5, dtc__random_state=43, pca__n_components=20;, score=0.711 total time=  20.9s\n",
      "[CV 4/5] END dtc__max_depth=40, dtc__max_leaf_nodes=5, dtc__random_state=43, pca__n_components=20;, score=0.714 total time=  21.3s\n",
      "[CV 5/5] END dtc__max_depth=40, dtc__max_leaf_nodes=5, dtc__random_state=43, pca__n_components=20;, score=0.724 total time=  21.2s\n",
      "[CV 1/5] END dtc__max_depth=40, dtc__max_leaf_nodes=5, dtc__random_state=11, pca__n_components=5;, score=0.710 total time=   2.9s\n",
      "[CV 2/5] END dtc__max_depth=40, dtc__max_leaf_nodes=5, dtc__random_state=11, pca__n_components=5;, score=0.713 total time=   2.7s\n",
      "[CV 3/5] END dtc__max_depth=40, dtc__max_leaf_nodes=5, dtc__random_state=11, pca__n_components=5;, score=0.711 total time=   2.9s\n",
      "[CV 4/5] END dtc__max_depth=40, dtc__max_leaf_nodes=5, dtc__random_state=11, pca__n_components=5;, score=0.716 total time=   2.8s\n",
      "[CV 5/5] END dtc__max_depth=40, dtc__max_leaf_nodes=5, dtc__random_state=11, pca__n_components=5;, score=0.724 total time=   2.8s\n",
      "[CV 1/5] END dtc__max_depth=40, dtc__max_leaf_nodes=5, dtc__random_state=11, pca__n_components=10;, score=0.710 total time=   8.0s\n",
      "[CV 2/5] END dtc__max_depth=40, dtc__max_leaf_nodes=5, dtc__random_state=11, pca__n_components=10;, score=0.715 total time=   7.3s\n",
      "[CV 3/5] END dtc__max_depth=40, dtc__max_leaf_nodes=5, dtc__random_state=11, pca__n_components=10;, score=0.715 total time=   7.9s\n",
      "[CV 4/5] END dtc__max_depth=40, dtc__max_leaf_nodes=5, dtc__random_state=11, pca__n_components=10;, score=0.718 total time=   7.4s\n",
      "[CV 5/5] END dtc__max_depth=40, dtc__max_leaf_nodes=5, dtc__random_state=11, pca__n_components=10;, score=0.722 total time=   8.0s\n",
      "[CV 1/5] END dtc__max_depth=40, dtc__max_leaf_nodes=5, dtc__random_state=11, pca__n_components=20;, score=0.709 total time=  21.5s\n",
      "[CV 2/5] END dtc__max_depth=40, dtc__max_leaf_nodes=5, dtc__random_state=11, pca__n_components=20;, score=0.705 total time=  21.3s\n",
      "[CV 3/5] END dtc__max_depth=40, dtc__max_leaf_nodes=5, dtc__random_state=11, pca__n_components=20;, score=0.715 total time=  21.9s\n",
      "[CV 4/5] END dtc__max_depth=40, dtc__max_leaf_nodes=5, dtc__random_state=11, pca__n_components=20;, score=0.714 total time=  20.3s\n",
      "[CV 5/5] END dtc__max_depth=40, dtc__max_leaf_nodes=5, dtc__random_state=11, pca__n_components=20;, score=0.713 total time=  20.8s\n",
      "[CV 1/5] END dtc__max_depth=40, dtc__max_leaf_nodes=5, dtc__random_state=23, pca__n_components=5;, score=0.715 total time=   2.6s\n",
      "[CV 2/5] END dtc__max_depth=40, dtc__max_leaf_nodes=5, dtc__random_state=23, pca__n_components=5;, score=0.713 total time=   2.8s\n",
      "[CV 3/5] END dtc__max_depth=40, dtc__max_leaf_nodes=5, dtc__random_state=23, pca__n_components=5;, score=0.707 total time=   2.7s\n",
      "[CV 4/5] END dtc__max_depth=40, dtc__max_leaf_nodes=5, dtc__random_state=23, pca__n_components=5;, score=0.717 total time=   2.7s\n",
      "[CV 5/5] END dtc__max_depth=40, dtc__max_leaf_nodes=5, dtc__random_state=23, pca__n_components=5;, score=0.718 total time=   2.6s\n",
      "[CV 1/5] END dtc__max_depth=40, dtc__max_leaf_nodes=5, dtc__random_state=23, pca__n_components=10;, score=0.709 total time=   7.4s\n",
      "[CV 2/5] END dtc__max_depth=40, dtc__max_leaf_nodes=5, dtc__random_state=23, pca__n_components=10;, score=0.710 total time=   7.9s\n",
      "[CV 3/5] END dtc__max_depth=40, dtc__max_leaf_nodes=5, dtc__random_state=23, pca__n_components=10;, score=0.711 total time=   7.7s\n",
      "[CV 4/5] END dtc__max_depth=40, dtc__max_leaf_nodes=5, dtc__random_state=23, pca__n_components=10;, score=0.722 total time=   7.1s\n",
      "[CV 5/5] END dtc__max_depth=40, dtc__max_leaf_nodes=5, dtc__random_state=23, pca__n_components=10;, score=0.712 total time=   7.5s\n",
      "[CV 1/5] END dtc__max_depth=40, dtc__max_leaf_nodes=5, dtc__random_state=23, pca__n_components=20;, score=0.708 total time=  20.2s\n",
      "[CV 2/5] END dtc__max_depth=40, dtc__max_leaf_nodes=5, dtc__random_state=23, pca__n_components=20;, score=0.714 total time=  20.0s\n",
      "[CV 3/5] END dtc__max_depth=40, dtc__max_leaf_nodes=5, dtc__random_state=23, pca__n_components=20;, score=0.714 total time=  21.7s\n",
      "[CV 4/5] END dtc__max_depth=40, dtc__max_leaf_nodes=5, dtc__random_state=23, pca__n_components=20;, score=0.712 total time=  23.3s\n",
      "[CV 5/5] END dtc__max_depth=40, dtc__max_leaf_nodes=5, dtc__random_state=23, pca__n_components=20;, score=0.724 total time=  21.4s\n"
     ]
    },
    {
     "name": "stdout",
     "output_type": "stream",
     "text": [
      "[CV 1/5] END dtc__max_depth=40, dtc__max_leaf_nodes=10, dtc__random_state=43, pca__n_components=5;, score=0.750 total time=   2.8s\n",
      "[CV 2/5] END dtc__max_depth=40, dtc__max_leaf_nodes=10, dtc__random_state=43, pca__n_components=5;, score=0.754 total time=   2.8s\n",
      "[CV 3/5] END dtc__max_depth=40, dtc__max_leaf_nodes=10, dtc__random_state=43, pca__n_components=5;, score=0.761 total time=   3.0s\n",
      "[CV 4/5] END dtc__max_depth=40, dtc__max_leaf_nodes=10, dtc__random_state=43, pca__n_components=5;, score=0.764 total time=   2.9s\n",
      "[CV 5/5] END dtc__max_depth=40, dtc__max_leaf_nodes=10, dtc__random_state=43, pca__n_components=5;, score=0.763 total time=   2.9s\n",
      "[CV 1/5] END dtc__max_depth=40, dtc__max_leaf_nodes=10, dtc__random_state=43, pca__n_components=10;, score=0.755 total time=   7.3s\n",
      "[CV 2/5] END dtc__max_depth=40, dtc__max_leaf_nodes=10, dtc__random_state=43, pca__n_components=10;, score=0.750 total time=   7.1s\n",
      "[CV 3/5] END dtc__max_depth=40, dtc__max_leaf_nodes=10, dtc__random_state=43, pca__n_components=10;, score=0.753 total time=   7.7s\n",
      "[CV 4/5] END dtc__max_depth=40, dtc__max_leaf_nodes=10, dtc__random_state=43, pca__n_components=10;, score=0.775 total time=   6.7s\n",
      "[CV 5/5] END dtc__max_depth=40, dtc__max_leaf_nodes=10, dtc__random_state=43, pca__n_components=10;, score=0.768 total time=   7.4s\n",
      "[CV 1/5] END dtc__max_depth=40, dtc__max_leaf_nodes=10, dtc__random_state=43, pca__n_components=20;, score=0.761 total time=  21.0s\n",
      "[CV 2/5] END dtc__max_depth=40, dtc__max_leaf_nodes=10, dtc__random_state=43, pca__n_components=20;, score=0.766 total time=  20.9s\n",
      "[CV 3/5] END dtc__max_depth=40, dtc__max_leaf_nodes=10, dtc__random_state=43, pca__n_components=20;, score=0.773 total time=  20.8s\n",
      "[CV 4/5] END dtc__max_depth=40, dtc__max_leaf_nodes=10, dtc__random_state=43, pca__n_components=20;, score=0.769 total time=  21.5s\n",
      "[CV 5/5] END dtc__max_depth=40, dtc__max_leaf_nodes=10, dtc__random_state=43, pca__n_components=20;, score=0.769 total time=  22.8s\n",
      "[CV 1/5] END dtc__max_depth=40, dtc__max_leaf_nodes=10, dtc__random_state=11, pca__n_components=5;, score=0.752 total time=   3.2s\n",
      "[CV 2/5] END dtc__max_depth=40, dtc__max_leaf_nodes=10, dtc__random_state=11, pca__n_components=5;, score=0.752 total time=   2.7s\n",
      "[CV 3/5] END dtc__max_depth=40, dtc__max_leaf_nodes=10, dtc__random_state=11, pca__n_components=5;, score=0.761 total time=   2.8s\n",
      "[CV 4/5] END dtc__max_depth=40, dtc__max_leaf_nodes=10, dtc__random_state=11, pca__n_components=5;, score=0.760 total time=   2.8s\n",
      "[CV 5/5] END dtc__max_depth=40, dtc__max_leaf_nodes=10, dtc__random_state=11, pca__n_components=5;, score=0.764 total time=   3.5s\n",
      "[CV 1/5] END dtc__max_depth=40, dtc__max_leaf_nodes=10, dtc__random_state=11, pca__n_components=10;, score=0.759 total time=   8.1s\n",
      "[CV 2/5] END dtc__max_depth=40, dtc__max_leaf_nodes=10, dtc__random_state=11, pca__n_components=10;, score=0.756 total time=   7.2s\n",
      "[CV 3/5] END dtc__max_depth=40, dtc__max_leaf_nodes=10, dtc__random_state=11, pca__n_components=10;, score=0.758 total time=   7.1s\n",
      "[CV 4/5] END dtc__max_depth=40, dtc__max_leaf_nodes=10, dtc__random_state=11, pca__n_components=10;, score=0.758 total time=   7.9s\n",
      "[CV 5/5] END dtc__max_depth=40, dtc__max_leaf_nodes=10, dtc__random_state=11, pca__n_components=10;, score=0.763 total time=   8.3s\n",
      "[CV 1/5] END dtc__max_depth=40, dtc__max_leaf_nodes=10, dtc__random_state=11, pca__n_components=20;, score=0.760 total time=  21.2s\n",
      "[CV 2/5] END dtc__max_depth=40, dtc__max_leaf_nodes=10, dtc__random_state=11, pca__n_components=20;, score=0.765 total time=  22.8s\n",
      "[CV 3/5] END dtc__max_depth=40, dtc__max_leaf_nodes=10, dtc__random_state=11, pca__n_components=20;, score=0.772 total time=  23.8s\n",
      "[CV 4/5] END dtc__max_depth=40, dtc__max_leaf_nodes=10, dtc__random_state=11, pca__n_components=20;, score=0.774 total time=  25.2s\n",
      "[CV 5/5] END dtc__max_depth=40, dtc__max_leaf_nodes=10, dtc__random_state=11, pca__n_components=20;, score=0.775 total time=  22.3s\n",
      "[CV 1/5] END dtc__max_depth=40, dtc__max_leaf_nodes=10, dtc__random_state=23, pca__n_components=5;, score=0.749 total time=   2.8s\n",
      "[CV 2/5] END dtc__max_depth=40, dtc__max_leaf_nodes=10, dtc__random_state=23, pca__n_components=5;, score=0.753 total time=   2.7s\n",
      "[CV 3/5] END dtc__max_depth=40, dtc__max_leaf_nodes=10, dtc__random_state=23, pca__n_components=5;, score=0.761 total time=   2.7s\n",
      "[CV 4/5] END dtc__max_depth=40, dtc__max_leaf_nodes=10, dtc__random_state=23, pca__n_components=5;, score=0.764 total time=   2.9s\n",
      "[CV 5/5] END dtc__max_depth=40, dtc__max_leaf_nodes=10, dtc__random_state=23, pca__n_components=5;, score=0.759 total time=   2.9s\n",
      "[CV 1/5] END dtc__max_depth=40, dtc__max_leaf_nodes=10, dtc__random_state=23, pca__n_components=10;, score=0.755 total time=   7.3s\n",
      "[CV 2/5] END dtc__max_depth=40, dtc__max_leaf_nodes=10, dtc__random_state=23, pca__n_components=10;, score=0.765 total time=   8.2s\n",
      "[CV 3/5] END dtc__max_depth=40, dtc__max_leaf_nodes=10, dtc__random_state=23, pca__n_components=10;, score=0.761 total time=   7.1s\n",
      "[CV 4/5] END dtc__max_depth=40, dtc__max_leaf_nodes=10, dtc__random_state=23, pca__n_components=10;, score=0.762 total time=   6.7s\n",
      "[CV 5/5] END dtc__max_depth=40, dtc__max_leaf_nodes=10, dtc__random_state=23, pca__n_components=10;, score=0.774 total time=   7.6s\n",
      "[CV 1/5] END dtc__max_depth=40, dtc__max_leaf_nodes=10, dtc__random_state=23, pca__n_components=20;, score=0.773 total time=  20.7s\n",
      "[CV 2/5] END dtc__max_depth=40, dtc__max_leaf_nodes=10, dtc__random_state=23, pca__n_components=20;, score=0.764 total time=  20.5s\n",
      "[CV 3/5] END dtc__max_depth=40, dtc__max_leaf_nodes=10, dtc__random_state=23, pca__n_components=20;, score=0.769 total time=  20.5s\n",
      "[CV 4/5] END dtc__max_depth=40, dtc__max_leaf_nodes=10, dtc__random_state=23, pca__n_components=20;, score=0.772 total time=  21.3s\n",
      "[CV 5/5] END dtc__max_depth=40, dtc__max_leaf_nodes=10, dtc__random_state=23, pca__n_components=20;, score=0.780 total time=  21.2s\n",
      "[CV 1/5] END dtc__max_depth=40, dtc__max_leaf_nodes=30, dtc__random_state=43, pca__n_components=5;, score=0.788 total time=   3.0s\n",
      "[CV 2/5] END dtc__max_depth=40, dtc__max_leaf_nodes=30, dtc__random_state=43, pca__n_components=5;, score=0.790 total time=   3.2s\n",
      "[CV 3/5] END dtc__max_depth=40, dtc__max_leaf_nodes=30, dtc__random_state=43, pca__n_components=5;, score=0.791 total time=   3.0s\n",
      "[CV 4/5] END dtc__max_depth=40, dtc__max_leaf_nodes=30, dtc__random_state=43, pca__n_components=5;, score=0.782 total time=   2.8s\n",
      "[CV 5/5] END dtc__max_depth=40, dtc__max_leaf_nodes=30, dtc__random_state=43, pca__n_components=5;, score=0.798 total time=   2.8s\n",
      "[CV 1/5] END dtc__max_depth=40, dtc__max_leaf_nodes=30, dtc__random_state=43, pca__n_components=10;, score=0.803 total time=   7.9s\n",
      "[CV 2/5] END dtc__max_depth=40, dtc__max_leaf_nodes=30, dtc__random_state=43, pca__n_components=10;, score=0.806 total time=   7.1s\n",
      "[CV 3/5] END dtc__max_depth=40, dtc__max_leaf_nodes=30, dtc__random_state=43, pca__n_components=10;, score=0.797 total time=   7.8s\n",
      "[CV 4/5] END dtc__max_depth=40, dtc__max_leaf_nodes=30, dtc__random_state=43, pca__n_components=10;, score=0.798 total time=   7.4s\n",
      "[CV 5/5] END dtc__max_depth=40, dtc__max_leaf_nodes=30, dtc__random_state=43, pca__n_components=10;, score=0.808 total time=   8.4s\n",
      "[CV 1/5] END dtc__max_depth=40, dtc__max_leaf_nodes=30, dtc__random_state=43, pca__n_components=20;, score=0.809 total time=  21.2s\n",
      "[CV 2/5] END dtc__max_depth=40, dtc__max_leaf_nodes=30, dtc__random_state=43, pca__n_components=20;, score=0.815 total time=  21.6s\n",
      "[CV 3/5] END dtc__max_depth=40, dtc__max_leaf_nodes=30, dtc__random_state=43, pca__n_components=20;, score=0.814 total time=  20.5s\n",
      "[CV 4/5] END dtc__max_depth=40, dtc__max_leaf_nodes=30, dtc__random_state=43, pca__n_components=20;, score=0.810 total time=  20.5s\n",
      "[CV 5/5] END dtc__max_depth=40, dtc__max_leaf_nodes=30, dtc__random_state=43, pca__n_components=20;, score=0.817 total time=  20.4s\n",
      "[CV 1/5] END dtc__max_depth=40, dtc__max_leaf_nodes=30, dtc__random_state=11, pca__n_components=5;, score=0.784 total time=   2.7s\n",
      "[CV 2/5] END dtc__max_depth=40, dtc__max_leaf_nodes=30, dtc__random_state=11, pca__n_components=5;, score=0.792 total time=   2.8s\n",
      "[CV 3/5] END dtc__max_depth=40, dtc__max_leaf_nodes=30, dtc__random_state=11, pca__n_components=5;, score=0.792 total time=   2.9s\n"
     ]
    },
    {
     "name": "stdout",
     "output_type": "stream",
     "text": [
      "[CV 4/5] END dtc__max_depth=40, dtc__max_leaf_nodes=30, dtc__random_state=11, pca__n_components=5;, score=0.784 total time=   2.9s\n",
      "[CV 5/5] END dtc__max_depth=40, dtc__max_leaf_nodes=30, dtc__random_state=11, pca__n_components=5;, score=0.793 total time=   3.1s\n",
      "[CV 1/5] END dtc__max_depth=40, dtc__max_leaf_nodes=30, dtc__random_state=11, pca__n_components=10;, score=0.799 total time=   7.3s\n",
      "[CV 2/5] END dtc__max_depth=40, dtc__max_leaf_nodes=30, dtc__random_state=11, pca__n_components=10;, score=0.805 total time=   7.8s\n",
      "[CV 3/5] END dtc__max_depth=40, dtc__max_leaf_nodes=30, dtc__random_state=11, pca__n_components=10;, score=0.803 total time=   8.0s\n",
      "[CV 4/5] END dtc__max_depth=40, dtc__max_leaf_nodes=30, dtc__random_state=11, pca__n_components=10;, score=0.806 total time=   7.5s\n",
      "[CV 5/5] END dtc__max_depth=40, dtc__max_leaf_nodes=30, dtc__random_state=11, pca__n_components=10;, score=0.806 total time=   7.4s\n",
      "[CV 1/5] END dtc__max_depth=40, dtc__max_leaf_nodes=30, dtc__random_state=11, pca__n_components=20;, score=0.809 total time=  20.8s\n",
      "[CV 2/5] END dtc__max_depth=40, dtc__max_leaf_nodes=30, dtc__random_state=11, pca__n_components=20;, score=0.811 total time=  20.8s\n",
      "[CV 3/5] END dtc__max_depth=40, dtc__max_leaf_nodes=30, dtc__random_state=11, pca__n_components=20;, score=0.818 total time=  20.3s\n",
      "[CV 4/5] END dtc__max_depth=40, dtc__max_leaf_nodes=30, dtc__random_state=11, pca__n_components=20;, score=0.813 total time=  20.9s\n",
      "[CV 5/5] END dtc__max_depth=40, dtc__max_leaf_nodes=30, dtc__random_state=11, pca__n_components=20;, score=0.817 total time=  22.1s\n",
      "[CV 1/5] END dtc__max_depth=40, dtc__max_leaf_nodes=30, dtc__random_state=23, pca__n_components=5;, score=0.784 total time=   3.0s\n",
      "[CV 2/5] END dtc__max_depth=40, dtc__max_leaf_nodes=30, dtc__random_state=23, pca__n_components=5;, score=0.795 total time=   2.9s\n",
      "[CV 3/5] END dtc__max_depth=40, dtc__max_leaf_nodes=30, dtc__random_state=23, pca__n_components=5;, score=0.791 total time=   2.9s\n",
      "[CV 4/5] END dtc__max_depth=40, dtc__max_leaf_nodes=30, dtc__random_state=23, pca__n_components=5;, score=0.786 total time=   2.9s\n",
      "[CV 5/5] END dtc__max_depth=40, dtc__max_leaf_nodes=30, dtc__random_state=23, pca__n_components=5;, score=0.793 total time=   3.0s\n",
      "[CV 1/5] END dtc__max_depth=40, dtc__max_leaf_nodes=30, dtc__random_state=23, pca__n_components=10;, score=0.786 total time=   7.6s\n",
      "[CV 2/5] END dtc__max_depth=40, dtc__max_leaf_nodes=30, dtc__random_state=23, pca__n_components=10;, score=0.797 total time=   7.3s\n",
      "[CV 3/5] END dtc__max_depth=40, dtc__max_leaf_nodes=30, dtc__random_state=23, pca__n_components=10;, score=0.798 total time=   7.5s\n",
      "[CV 4/5] END dtc__max_depth=40, dtc__max_leaf_nodes=30, dtc__random_state=23, pca__n_components=10;, score=0.803 total time=   8.6s\n",
      "[CV 5/5] END dtc__max_depth=40, dtc__max_leaf_nodes=30, dtc__random_state=23, pca__n_components=10;, score=0.800 total time=   8.0s\n",
      "[CV 1/5] END dtc__max_depth=40, dtc__max_leaf_nodes=30, dtc__random_state=23, pca__n_components=20;, score=0.808 total time=  22.3s\n",
      "[CV 2/5] END dtc__max_depth=40, dtc__max_leaf_nodes=30, dtc__random_state=23, pca__n_components=20;, score=0.810 total time=  20.6s\n",
      "[CV 3/5] END dtc__max_depth=40, dtc__max_leaf_nodes=30, dtc__random_state=23, pca__n_components=20;, score=0.813 total time=  20.6s\n",
      "[CV 4/5] END dtc__max_depth=40, dtc__max_leaf_nodes=30, dtc__random_state=23, pca__n_components=20;, score=0.811 total time=  20.6s\n",
      "[CV 5/5] END dtc__max_depth=40, dtc__max_leaf_nodes=30, dtc__random_state=23, pca__n_components=20;, score=0.814 total time=  20.6s\n",
      "Cross-validation score: 0.8146708321412355\n",
      "Test score: 0.7984819961570453\n",
      "Decision Tree:\n",
      "{'rf__n_estimators': 300, 'rf__min_samples_split': 5, 'rf__max_depth': 20, 'pca__n_components': 10}\n",
      "Wyniki test: 0.7965770444202473\n",
      "Wyniki train: 0.8635205149988633\n"
     ]
    }
   ],
   "source": [
    "stratified_kfold = StratifiedKFold(n_splits=5,\n",
    "                                       shuffle=True,\n",
    "                                       random_state=13)\n",
    "\n",
    "pipeline = imbpipeline(steps = [['scaler', scaler],\n",
    "                                ['pca', pca],\n",
    "                                ['smote', SMOTEEN],\n",
    "                                ['dtc', DecisionTreeClassifier()]])\n",
    "\n",
    "    \n",
    "param_grid = {'dtc__max_leaf_nodes' : [2, 5, 10, 30], \n",
    "             'dtc__max_depth': [4, 10, 20, 40],\n",
    "             'dtc__random_state' : [23],\n",
    "             'pca__n_components': [5, 10, 20]\n",
    "             }\n",
    "\n",
    "search_dtc = GridSearchCV(estimator=pipeline,\n",
    "                           param_grid=param_grid,\n",
    "                           scoring='roc_auc',\n",
    "                           cv=stratified_kfold,                           \n",
    "                          verbose=3,\n",
    "                           #n_jobs=3\n",
    "                         )\n",
    "\n",
    "search_dtc.fit(X_train, y_train)\n",
    "y_pred_dtc = search_dtc.best_estimator_.predict(X_test)\n",
    "cv_score = search_dtc.best_score_\n",
    "test_score = search_dtc.score(X_test, y_test)\n",
    "print(f'Cross-validation score: {cv_score}\\nTest score: {test_score}')\n",
    "print(\"Decision Tree:\")\n",
    "print(search_rf.best_params_)\n",
    "print(f'Results on test: {search_rf.best_estimator_.score(X_test, y_test)}')\n",
    "print(f'Results on train: {search_rf.best_estimator_.score(X_train, y_train)}')"
   ]
  },
  {
   "cell_type": "markdown",
   "metadata": {},
   "source": [
    "Achieving scores of classification, saving accuracy, recall and F1 score in data frame:"
   ]
  },
  {
   "cell_type": "markdown",
   "metadata": {},
   "source": [
    "Best hyperparameters:"
   ]
  },
  {
   "cell_type": "code",
   "execution_count": null,
   "metadata": {},
   "outputs": [],
   "source": [
    "search_dtc.best_params_"
   ]
  },
  {
   "cell_type": "code",
   "execution_count": 272,
   "metadata": {},
   "outputs": [
    {
     "data": {
      "text/plain": [
       "array([0, 1, 1, ..., 1, 1, 0])"
      ]
     },
     "execution_count": 272,
     "metadata": {},
     "output_type": "execute_result"
    }
   ],
   "source": [
    "y_pred_dtc"
   ]
  },
  {
   "cell_type": "code",
   "execution_count": 326,
   "metadata": {
    "scrolled": true
   },
   "outputs": [
    {
     "name": "stdout",
     "output_type": "stream",
     "text": [
      "              precision    recall  f1-score   support\n",
      "\n",
      "           0       0.80      0.78      0.79     22550\n",
      "           1       0.64      0.67      0.66     13267\n",
      "\n",
      "    accuracy                           0.74     35817\n",
      "   macro avg       0.72      0.73      0.72     35817\n",
      "weighted avg       0.74      0.74      0.74     35817\n",
      "\n"
     ]
    }
   ],
   "source": [
    "print(classification_report(y_test, y_pred_dtc))\n",
    "A_report_dtc = pd.DataFrame(classification_report(y_test, y_pred_dtc, output_dict=True))"
   ]
  },
  {
   "cell_type": "code",
   "execution_count": 327,
   "metadata": {},
   "outputs": [],
   "source": [
    "for i, name in enumerate(A_report_dtc.columns):\n",
    "  A_report_dtc = A_report_dtc.rename(columns={(A_report_dtc.iloc[:,i].name): ('DTC_'+A_report_dtc.iloc[:,i].name)})\n"
   ]
  },
  {
   "cell_type": "code",
   "execution_count": 328,
   "metadata": {},
   "outputs": [
    {
     "data": {
      "text/html": [
       "<div>\n",
       "<style scoped>\n",
       "    .dataframe tbody tr th:only-of-type {\n",
       "        vertical-align: middle;\n",
       "    }\n",
       "\n",
       "    .dataframe tbody tr th {\n",
       "        vertical-align: top;\n",
       "    }\n",
       "\n",
       "    .dataframe thead th {\n",
       "        text-align: right;\n",
       "    }\n",
       "</style>\n",
       "<table border=\"1\" class=\"dataframe\">\n",
       "  <thead>\n",
       "    <tr style=\"text-align: right;\">\n",
       "      <th></th>\n",
       "      <th>DTC_0</th>\n",
       "      <th>DTC_1</th>\n",
       "      <th>DTC_accuracy</th>\n",
       "      <th>DTC_macro avg</th>\n",
       "      <th>DTC_weighted avg</th>\n",
       "    </tr>\n",
       "  </thead>\n",
       "  <tbody>\n",
       "    <tr>\n",
       "      <th>precision</th>\n",
       "      <td>0.801758</td>\n",
       "      <td>0.639499</td>\n",
       "      <td>0.738448</td>\n",
       "      <td>0.720629</td>\n",
       "      <td>0.741656</td>\n",
       "    </tr>\n",
       "    <tr>\n",
       "      <th>recall</th>\n",
       "      <td>0.776585</td>\n",
       "      <td>0.673626</td>\n",
       "      <td>0.738448</td>\n",
       "      <td>0.725106</td>\n",
       "      <td>0.738448</td>\n",
       "    </tr>\n",
       "    <tr>\n",
       "      <th>f1-score</th>\n",
       "      <td>0.788971</td>\n",
       "      <td>0.656119</td>\n",
       "      <td>0.738448</td>\n",
       "      <td>0.722545</td>\n",
       "      <td>0.739761</td>\n",
       "    </tr>\n",
       "    <tr>\n",
       "      <th>support</th>\n",
       "      <td>22550.000000</td>\n",
       "      <td>13267.000000</td>\n",
       "      <td>0.738448</td>\n",
       "      <td>35817.000000</td>\n",
       "      <td>35817.000000</td>\n",
       "    </tr>\n",
       "  </tbody>\n",
       "</table>\n",
       "</div>"
      ],
      "text/plain": [
       "                  DTC_0         DTC_1  DTC_accuracy  DTC_macro avg  \\\n",
       "precision      0.801758      0.639499      0.738448       0.720629   \n",
       "recall         0.776585      0.673626      0.738448       0.725106   \n",
       "f1-score       0.788971      0.656119      0.738448       0.722545   \n",
       "support    22550.000000  13267.000000      0.738448   35817.000000   \n",
       "\n",
       "           DTC_weighted avg  \n",
       "precision          0.741656  \n",
       "recall             0.738448  \n",
       "f1-score           0.739761  \n",
       "support        35817.000000  "
      ]
     },
     "execution_count": 328,
     "metadata": {},
     "output_type": "execute_result"
    }
   ],
   "source": [
    "A_report_dtc"
   ]
  },
  {
   "cell_type": "markdown",
   "metadata": {},
   "source": [
    "Support Vector Classifier algorythm with RandomizedGridSearch in pipeline, scaling reducing, ballancing:"
   ]
  },
  {
   "cell_type": "code",
   "execution_count": 274,
   "metadata": {},
   "outputs": [
    {
     "name": "stdout",
     "output_type": "stream",
     "text": [
      "Fitting 5 folds for each of 9 candidates, totalling 45 fits\n"
     ]
    },
    {
     "name": "stderr",
     "output_type": "stream",
     "text": [
      "/home/hybrid/.local/lib/python3.8/site-packages/sklearn/svm/_base.py:299: ConvergenceWarning: Solver terminated early (max_iter=150).  Consider pre-processing your data with StandardScaler or MinMaxScaler.\n",
      "  warnings.warn(\n"
     ]
    },
    {
     "name": "stdout",
     "output_type": "stream",
     "text": [
      "[CV 1/5] END SVC__decision_function_shape=ovo, SVC__degree=1, SVC__gamma=auto, SVC__kernel=rbf, SVC__max_iter=150, SVC__random_state=11, pca__n_components=5;, score=0.613 total time=   3.8s\n"
     ]
    },
    {
     "name": "stderr",
     "output_type": "stream",
     "text": [
      "/home/hybrid/.local/lib/python3.8/site-packages/sklearn/svm/_base.py:299: ConvergenceWarning: Solver terminated early (max_iter=150).  Consider pre-processing your data with StandardScaler or MinMaxScaler.\n",
      "  warnings.warn(\n"
     ]
    },
    {
     "name": "stdout",
     "output_type": "stream",
     "text": [
      "[CV 2/5] END SVC__decision_function_shape=ovo, SVC__degree=1, SVC__gamma=auto, SVC__kernel=rbf, SVC__max_iter=150, SVC__random_state=11, pca__n_components=5;, score=0.603 total time=   3.7s\n"
     ]
    },
    {
     "name": "stderr",
     "output_type": "stream",
     "text": [
      "/home/hybrid/.local/lib/python3.8/site-packages/sklearn/svm/_base.py:299: ConvergenceWarning: Solver terminated early (max_iter=150).  Consider pre-processing your data with StandardScaler or MinMaxScaler.\n",
      "  warnings.warn(\n"
     ]
    },
    {
     "name": "stdout",
     "output_type": "stream",
     "text": [
      "[CV 3/5] END SVC__decision_function_shape=ovo, SVC__degree=1, SVC__gamma=auto, SVC__kernel=rbf, SVC__max_iter=150, SVC__random_state=11, pca__n_components=5;, score=0.540 total time=   3.8s\n"
     ]
    },
    {
     "name": "stderr",
     "output_type": "stream",
     "text": [
      "/home/hybrid/.local/lib/python3.8/site-packages/sklearn/svm/_base.py:299: ConvergenceWarning: Solver terminated early (max_iter=150).  Consider pre-processing your data with StandardScaler or MinMaxScaler.\n",
      "  warnings.warn(\n"
     ]
    },
    {
     "name": "stdout",
     "output_type": "stream",
     "text": [
      "[CV 4/5] END SVC__decision_function_shape=ovo, SVC__degree=1, SVC__gamma=auto, SVC__kernel=rbf, SVC__max_iter=150, SVC__random_state=11, pca__n_components=5;, score=0.583 total time=   3.7s\n"
     ]
    },
    {
     "name": "stderr",
     "output_type": "stream",
     "text": [
      "/home/hybrid/.local/lib/python3.8/site-packages/sklearn/svm/_base.py:299: ConvergenceWarning: Solver terminated early (max_iter=150).  Consider pre-processing your data with StandardScaler or MinMaxScaler.\n",
      "  warnings.warn(\n"
     ]
    },
    {
     "name": "stdout",
     "output_type": "stream",
     "text": [
      "[CV 5/5] END SVC__decision_function_shape=ovo, SVC__degree=1, SVC__gamma=auto, SVC__kernel=rbf, SVC__max_iter=150, SVC__random_state=11, pca__n_components=5;, score=0.501 total time=   3.7s\n"
     ]
    },
    {
     "name": "stderr",
     "output_type": "stream",
     "text": [
      "/home/hybrid/.local/lib/python3.8/site-packages/sklearn/svm/_base.py:299: ConvergenceWarning: Solver terminated early (max_iter=150).  Consider pre-processing your data with StandardScaler or MinMaxScaler.\n",
      "  warnings.warn(\n"
     ]
    },
    {
     "name": "stdout",
     "output_type": "stream",
     "text": [
      "[CV 1/5] END SVC__decision_function_shape=ovo, SVC__degree=1, SVC__gamma=auto, SVC__kernel=rbf, SVC__max_iter=150, SVC__random_state=11, pca__n_components=10;, score=0.592 total time=   8.8s\n"
     ]
    },
    {
     "name": "stderr",
     "output_type": "stream",
     "text": [
      "/home/hybrid/.local/lib/python3.8/site-packages/sklearn/svm/_base.py:299: ConvergenceWarning: Solver terminated early (max_iter=150).  Consider pre-processing your data with StandardScaler or MinMaxScaler.\n",
      "  warnings.warn(\n"
     ]
    },
    {
     "name": "stdout",
     "output_type": "stream",
     "text": [
      "[CV 2/5] END SVC__decision_function_shape=ovo, SVC__degree=1, SVC__gamma=auto, SVC__kernel=rbf, SVC__max_iter=150, SVC__random_state=11, pca__n_components=10;, score=0.675 total time=   8.3s\n"
     ]
    },
    {
     "name": "stderr",
     "output_type": "stream",
     "text": [
      "/home/hybrid/.local/lib/python3.8/site-packages/sklearn/svm/_base.py:299: ConvergenceWarning: Solver terminated early (max_iter=150).  Consider pre-processing your data with StandardScaler or MinMaxScaler.\n",
      "  warnings.warn(\n"
     ]
    },
    {
     "name": "stdout",
     "output_type": "stream",
     "text": [
      "[CV 3/5] END SVC__decision_function_shape=ovo, SVC__degree=1, SVC__gamma=auto, SVC__kernel=rbf, SVC__max_iter=150, SVC__random_state=11, pca__n_components=10;, score=0.462 total time=   8.3s\n"
     ]
    },
    {
     "name": "stderr",
     "output_type": "stream",
     "text": [
      "/home/hybrid/.local/lib/python3.8/site-packages/sklearn/svm/_base.py:299: ConvergenceWarning: Solver terminated early (max_iter=150).  Consider pre-processing your data with StandardScaler or MinMaxScaler.\n",
      "  warnings.warn(\n"
     ]
    },
    {
     "name": "stdout",
     "output_type": "stream",
     "text": [
      "[CV 4/5] END SVC__decision_function_shape=ovo, SVC__degree=1, SVC__gamma=auto, SVC__kernel=rbf, SVC__max_iter=150, SVC__random_state=11, pca__n_components=10;, score=0.647 total time=   7.9s\n"
     ]
    },
    {
     "name": "stderr",
     "output_type": "stream",
     "text": [
      "/home/hybrid/.local/lib/python3.8/site-packages/sklearn/svm/_base.py:299: ConvergenceWarning: Solver terminated early (max_iter=150).  Consider pre-processing your data with StandardScaler or MinMaxScaler.\n",
      "  warnings.warn(\n"
     ]
    },
    {
     "name": "stdout",
     "output_type": "stream",
     "text": [
      "[CV 5/5] END SVC__decision_function_shape=ovo, SVC__degree=1, SVC__gamma=auto, SVC__kernel=rbf, SVC__max_iter=150, SVC__random_state=11, pca__n_components=10;, score=0.586 total time=   8.1s\n"
     ]
    },
    {
     "name": "stderr",
     "output_type": "stream",
     "text": [
      "/home/hybrid/.local/lib/python3.8/site-packages/sklearn/svm/_base.py:299: ConvergenceWarning: Solver terminated early (max_iter=150).  Consider pre-processing your data with StandardScaler or MinMaxScaler.\n",
      "  warnings.warn(\n"
     ]
    },
    {
     "name": "stdout",
     "output_type": "stream",
     "text": [
      "[CV 1/5] END SVC__decision_function_shape=ovo, SVC__degree=1, SVC__gamma=auto, SVC__kernel=rbf, SVC__max_iter=150, SVC__random_state=11, pca__n_components=20;, score=0.682 total time=  21.2s\n"
     ]
    },
    {
     "name": "stderr",
     "output_type": "stream",
     "text": [
      "/home/hybrid/.local/lib/python3.8/site-packages/sklearn/svm/_base.py:299: ConvergenceWarning: Solver terminated early (max_iter=150).  Consider pre-processing your data with StandardScaler or MinMaxScaler.\n",
      "  warnings.warn(\n"
     ]
    },
    {
     "name": "stdout",
     "output_type": "stream",
     "text": [
      "[CV 2/5] END SVC__decision_function_shape=ovo, SVC__degree=1, SVC__gamma=auto, SVC__kernel=rbf, SVC__max_iter=150, SVC__random_state=11, pca__n_components=20;, score=0.629 total time=  21.2s\n"
     ]
    },
    {
     "name": "stderr",
     "output_type": "stream",
     "text": [
      "/home/hybrid/.local/lib/python3.8/site-packages/sklearn/svm/_base.py:299: ConvergenceWarning: Solver terminated early (max_iter=150).  Consider pre-processing your data with StandardScaler or MinMaxScaler.\n",
      "  warnings.warn(\n"
     ]
    },
    {
     "name": "stdout",
     "output_type": "stream",
     "text": [
      "[CV 3/5] END SVC__decision_function_shape=ovo, SVC__degree=1, SVC__gamma=auto, SVC__kernel=rbf, SVC__max_iter=150, SVC__random_state=11, pca__n_components=20;, score=0.652 total time=  21.0s\n"
     ]
    },
    {
     "name": "stderr",
     "output_type": "stream",
     "text": [
      "/home/hybrid/.local/lib/python3.8/site-packages/sklearn/svm/_base.py:299: ConvergenceWarning: Solver terminated early (max_iter=150).  Consider pre-processing your data with StandardScaler or MinMaxScaler.\n",
      "  warnings.warn(\n"
     ]
    },
    {
     "name": "stdout",
     "output_type": "stream",
     "text": [
      "[CV 4/5] END SVC__decision_function_shape=ovo, SVC__degree=1, SVC__gamma=auto, SVC__kernel=rbf, SVC__max_iter=150, SVC__random_state=11, pca__n_components=20;, score=0.572 total time=  21.4s\n"
     ]
    },
    {
     "name": "stderr",
     "output_type": "stream",
     "text": [
      "/home/hybrid/.local/lib/python3.8/site-packages/sklearn/svm/_base.py:299: ConvergenceWarning: Solver terminated early (max_iter=150).  Consider pre-processing your data with StandardScaler or MinMaxScaler.\n",
      "  warnings.warn(\n"
     ]
    },
    {
     "name": "stdout",
     "output_type": "stream",
     "text": [
      "[CV 5/5] END SVC__decision_function_shape=ovo, SVC__degree=1, SVC__gamma=auto, SVC__kernel=rbf, SVC__max_iter=150, SVC__random_state=11, pca__n_components=20;, score=0.634 total time=  21.3s\n"
     ]
    },
    {
     "name": "stderr",
     "output_type": "stream",
     "text": [
      "/home/hybrid/.local/lib/python3.8/site-packages/sklearn/svm/_base.py:299: ConvergenceWarning: Solver terminated early (max_iter=300).  Consider pre-processing your data with StandardScaler or MinMaxScaler.\n",
      "  warnings.warn(\n"
     ]
    },
    {
     "name": "stdout",
     "output_type": "stream",
     "text": [
      "[CV 1/5] END SVC__decision_function_shape=ovo, SVC__degree=1, SVC__gamma=auto, SVC__kernel=rbf, SVC__max_iter=300, SVC__random_state=11, pca__n_components=5;, score=0.580 total time=   5.0s\n"
     ]
    },
    {
     "name": "stderr",
     "output_type": "stream",
     "text": [
      "/home/hybrid/.local/lib/python3.8/site-packages/sklearn/svm/_base.py:299: ConvergenceWarning: Solver terminated early (max_iter=300).  Consider pre-processing your data with StandardScaler or MinMaxScaler.\n",
      "  warnings.warn(\n"
     ]
    },
    {
     "name": "stdout",
     "output_type": "stream",
     "text": [
      "[CV 2/5] END SVC__decision_function_shape=ovo, SVC__degree=1, SVC__gamma=auto, SVC__kernel=rbf, SVC__max_iter=300, SVC__random_state=11, pca__n_components=5;, score=0.577 total time=   4.9s\n"
     ]
    },
    {
     "name": "stderr",
     "output_type": "stream",
     "text": [
      "/home/hybrid/.local/lib/python3.8/site-packages/sklearn/svm/_base.py:299: ConvergenceWarning: Solver terminated early (max_iter=300).  Consider pre-processing your data with StandardScaler or MinMaxScaler.\n",
      "  warnings.warn(\n"
     ]
    },
    {
     "name": "stdout",
     "output_type": "stream",
     "text": [
      "[CV 3/5] END SVC__decision_function_shape=ovo, SVC__degree=1, SVC__gamma=auto, SVC__kernel=rbf, SVC__max_iter=300, SVC__random_state=11, pca__n_components=5;, score=0.570 total time=   5.0s\n"
     ]
    },
    {
     "name": "stderr",
     "output_type": "stream",
     "text": [
      "/home/hybrid/.local/lib/python3.8/site-packages/sklearn/svm/_base.py:299: ConvergenceWarning: Solver terminated early (max_iter=300).  Consider pre-processing your data with StandardScaler or MinMaxScaler.\n",
      "  warnings.warn(\n"
     ]
    },
    {
     "name": "stdout",
     "output_type": "stream",
     "text": [
      "[CV 4/5] END SVC__decision_function_shape=ovo, SVC__degree=1, SVC__gamma=auto, SVC__kernel=rbf, SVC__max_iter=300, SVC__random_state=11, pca__n_components=5;, score=0.606 total time=   4.9s\n"
     ]
    },
    {
     "name": "stderr",
     "output_type": "stream",
     "text": [
      "/home/hybrid/.local/lib/python3.8/site-packages/sklearn/svm/_base.py:299: ConvergenceWarning: Solver terminated early (max_iter=300).  Consider pre-processing your data with StandardScaler or MinMaxScaler.\n",
      "  warnings.warn(\n"
     ]
    },
    {
     "name": "stdout",
     "output_type": "stream",
     "text": [
      "[CV 5/5] END SVC__decision_function_shape=ovo, SVC__degree=1, SVC__gamma=auto, SVC__kernel=rbf, SVC__max_iter=300, SVC__random_state=11, pca__n_components=5;, score=0.530 total time=   4.9s\n"
     ]
    },
    {
     "name": "stderr",
     "output_type": "stream",
     "text": [
      "/home/hybrid/.local/lib/python3.8/site-packages/sklearn/svm/_base.py:299: ConvergenceWarning: Solver terminated early (max_iter=300).  Consider pre-processing your data with StandardScaler or MinMaxScaler.\n",
      "  warnings.warn(\n"
     ]
    },
    {
     "name": "stdout",
     "output_type": "stream",
     "text": [
      "[CV 1/5] END SVC__decision_function_shape=ovo, SVC__degree=1, SVC__gamma=auto, SVC__kernel=rbf, SVC__max_iter=300, SVC__random_state=11, pca__n_components=10;, score=0.598 total time=  10.0s\n"
     ]
    },
    {
     "name": "stderr",
     "output_type": "stream",
     "text": [
      "/home/hybrid/.local/lib/python3.8/site-packages/sklearn/svm/_base.py:299: ConvergenceWarning: Solver terminated early (max_iter=300).  Consider pre-processing your data with StandardScaler or MinMaxScaler.\n",
      "  warnings.warn(\n"
     ]
    },
    {
     "name": "stdout",
     "output_type": "stream",
     "text": [
      "[CV 2/5] END SVC__decision_function_shape=ovo, SVC__degree=1, SVC__gamma=auto, SVC__kernel=rbf, SVC__max_iter=300, SVC__random_state=11, pca__n_components=10;, score=0.467 total time=   9.8s\n"
     ]
    },
    {
     "name": "stderr",
     "output_type": "stream",
     "text": [
      "/home/hybrid/.local/lib/python3.8/site-packages/sklearn/svm/_base.py:299: ConvergenceWarning: Solver terminated early (max_iter=300).  Consider pre-processing your data with StandardScaler or MinMaxScaler.\n",
      "  warnings.warn(\n"
     ]
    },
    {
     "name": "stdout",
     "output_type": "stream",
     "text": [
      "[CV 3/5] END SVC__decision_function_shape=ovo, SVC__degree=1, SVC__gamma=auto, SVC__kernel=rbf, SVC__max_iter=300, SVC__random_state=11, pca__n_components=10;, score=0.534 total time=  10.0s\n"
     ]
    },
    {
     "name": "stderr",
     "output_type": "stream",
     "text": [
      "/home/hybrid/.local/lib/python3.8/site-packages/sklearn/svm/_base.py:299: ConvergenceWarning: Solver terminated early (max_iter=300).  Consider pre-processing your data with StandardScaler or MinMaxScaler.\n",
      "  warnings.warn(\n"
     ]
    },
    {
     "name": "stdout",
     "output_type": "stream",
     "text": [
      "[CV 4/5] END SVC__decision_function_shape=ovo, SVC__degree=1, SVC__gamma=auto, SVC__kernel=rbf, SVC__max_iter=300, SVC__random_state=11, pca__n_components=10;, score=0.600 total time=   9.4s\n"
     ]
    },
    {
     "name": "stderr",
     "output_type": "stream",
     "text": [
      "/home/hybrid/.local/lib/python3.8/site-packages/sklearn/svm/_base.py:299: ConvergenceWarning: Solver terminated early (max_iter=300).  Consider pre-processing your data with StandardScaler or MinMaxScaler.\n",
      "  warnings.warn(\n"
     ]
    },
    {
     "name": "stdout",
     "output_type": "stream",
     "text": [
      "[CV 5/5] END SVC__decision_function_shape=ovo, SVC__degree=1, SVC__gamma=auto, SVC__kernel=rbf, SVC__max_iter=300, SVC__random_state=11, pca__n_components=10;, score=0.489 total time=   9.6s\n"
     ]
    },
    {
     "name": "stderr",
     "output_type": "stream",
     "text": [
      "/home/hybrid/.local/lib/python3.8/site-packages/sklearn/svm/_base.py:299: ConvergenceWarning: Solver terminated early (max_iter=300).  Consider pre-processing your data with StandardScaler or MinMaxScaler.\n",
      "  warnings.warn(\n"
     ]
    },
    {
     "name": "stdout",
     "output_type": "stream",
     "text": [
      "[CV 1/5] END SVC__decision_function_shape=ovo, SVC__degree=1, SVC__gamma=auto, SVC__kernel=rbf, SVC__max_iter=300, SVC__random_state=11, pca__n_components=20;, score=0.688 total time=  22.7s\n"
     ]
    },
    {
     "name": "stderr",
     "output_type": "stream",
     "text": [
      "/home/hybrid/.local/lib/python3.8/site-packages/sklearn/svm/_base.py:299: ConvergenceWarning: Solver terminated early (max_iter=300).  Consider pre-processing your data with StandardScaler or MinMaxScaler.\n",
      "  warnings.warn(\n"
     ]
    },
    {
     "name": "stdout",
     "output_type": "stream",
     "text": [
      "[CV 2/5] END SVC__decision_function_shape=ovo, SVC__degree=1, SVC__gamma=auto, SVC__kernel=rbf, SVC__max_iter=300, SVC__random_state=11, pca__n_components=20;, score=0.673 total time=  22.8s\n"
     ]
    },
    {
     "name": "stderr",
     "output_type": "stream",
     "text": [
      "/home/hybrid/.local/lib/python3.8/site-packages/sklearn/svm/_base.py:299: ConvergenceWarning: Solver terminated early (max_iter=300).  Consider pre-processing your data with StandardScaler or MinMaxScaler.\n",
      "  warnings.warn(\n"
     ]
    },
    {
     "name": "stdout",
     "output_type": "stream",
     "text": [
      "[CV 3/5] END SVC__decision_function_shape=ovo, SVC__degree=1, SVC__gamma=auto, SVC__kernel=rbf, SVC__max_iter=300, SVC__random_state=11, pca__n_components=20;, score=0.622 total time=  23.0s\n"
     ]
    },
    {
     "name": "stderr",
     "output_type": "stream",
     "text": [
      "/home/hybrid/.local/lib/python3.8/site-packages/sklearn/svm/_base.py:299: ConvergenceWarning: Solver terminated early (max_iter=300).  Consider pre-processing your data with StandardScaler or MinMaxScaler.\n",
      "  warnings.warn(\n"
     ]
    },
    {
     "name": "stdout",
     "output_type": "stream",
     "text": [
      "[CV 4/5] END SVC__decision_function_shape=ovo, SVC__degree=1, SVC__gamma=auto, SVC__kernel=rbf, SVC__max_iter=300, SVC__random_state=11, pca__n_components=20;, score=0.694 total time=  22.8s\n"
     ]
    },
    {
     "name": "stderr",
     "output_type": "stream",
     "text": [
      "/home/hybrid/.local/lib/python3.8/site-packages/sklearn/svm/_base.py:299: ConvergenceWarning: Solver terminated early (max_iter=300).  Consider pre-processing your data with StandardScaler or MinMaxScaler.\n",
      "  warnings.warn(\n"
     ]
    },
    {
     "name": "stdout",
     "output_type": "stream",
     "text": [
      "[CV 5/5] END SVC__decision_function_shape=ovo, SVC__degree=1, SVC__gamma=auto, SVC__kernel=rbf, SVC__max_iter=300, SVC__random_state=11, pca__n_components=20;, score=0.663 total time=  22.7s\n"
     ]
    },
    {
     "name": "stderr",
     "output_type": "stream",
     "text": [
      "/home/hybrid/.local/lib/python3.8/site-packages/sklearn/svm/_base.py:299: ConvergenceWarning: Solver terminated early (max_iter=500).  Consider pre-processing your data with StandardScaler or MinMaxScaler.\n",
      "  warnings.warn(\n"
     ]
    },
    {
     "name": "stdout",
     "output_type": "stream",
     "text": [
      "[CV 1/5] END SVC__decision_function_shape=ovo, SVC__degree=1, SVC__gamma=auto, SVC__kernel=rbf, SVC__max_iter=500, SVC__random_state=11, pca__n_components=5;, score=0.532 total time=   6.4s\n"
     ]
    },
    {
     "name": "stderr",
     "output_type": "stream",
     "text": [
      "/home/hybrid/.local/lib/python3.8/site-packages/sklearn/svm/_base.py:299: ConvergenceWarning: Solver terminated early (max_iter=500).  Consider pre-processing your data with StandardScaler or MinMaxScaler.\n",
      "  warnings.warn(\n"
     ]
    },
    {
     "name": "stdout",
     "output_type": "stream",
     "text": [
      "[CV 2/5] END SVC__decision_function_shape=ovo, SVC__degree=1, SVC__gamma=auto, SVC__kernel=rbf, SVC__max_iter=500, SVC__random_state=11, pca__n_components=5;, score=0.588 total time=   6.4s\n"
     ]
    },
    {
     "name": "stderr",
     "output_type": "stream",
     "text": [
      "/home/hybrid/.local/lib/python3.8/site-packages/sklearn/svm/_base.py:299: ConvergenceWarning: Solver terminated early (max_iter=500).  Consider pre-processing your data with StandardScaler or MinMaxScaler.\n",
      "  warnings.warn(\n"
     ]
    },
    {
     "name": "stdout",
     "output_type": "stream",
     "text": [
      "[CV 3/5] END SVC__decision_function_shape=ovo, SVC__degree=1, SVC__gamma=auto, SVC__kernel=rbf, SVC__max_iter=500, SVC__random_state=11, pca__n_components=5;, score=0.645 total time=   6.5s\n"
     ]
    },
    {
     "name": "stderr",
     "output_type": "stream",
     "text": [
      "/home/hybrid/.local/lib/python3.8/site-packages/sklearn/svm/_base.py:299: ConvergenceWarning: Solver terminated early (max_iter=500).  Consider pre-processing your data with StandardScaler or MinMaxScaler.\n",
      "  warnings.warn(\n"
     ]
    },
    {
     "name": "stdout",
     "output_type": "stream",
     "text": [
      "[CV 4/5] END SVC__decision_function_shape=ovo, SVC__degree=1, SVC__gamma=auto, SVC__kernel=rbf, SVC__max_iter=500, SVC__random_state=11, pca__n_components=5;, score=0.454 total time=   6.4s\n"
     ]
    },
    {
     "name": "stderr",
     "output_type": "stream",
     "text": [
      "/home/hybrid/.local/lib/python3.8/site-packages/sklearn/svm/_base.py:299: ConvergenceWarning: Solver terminated early (max_iter=500).  Consider pre-processing your data with StandardScaler or MinMaxScaler.\n",
      "  warnings.warn(\n"
     ]
    },
    {
     "name": "stdout",
     "output_type": "stream",
     "text": [
      "[CV 5/5] END SVC__decision_function_shape=ovo, SVC__degree=1, SVC__gamma=auto, SVC__kernel=rbf, SVC__max_iter=500, SVC__random_state=11, pca__n_components=5;, score=0.606 total time=   6.5s\n"
     ]
    },
    {
     "name": "stderr",
     "output_type": "stream",
     "text": [
      "/home/hybrid/.local/lib/python3.8/site-packages/sklearn/svm/_base.py:299: ConvergenceWarning: Solver terminated early (max_iter=500).  Consider pre-processing your data with StandardScaler or MinMaxScaler.\n",
      "  warnings.warn(\n"
     ]
    },
    {
     "name": "stdout",
     "output_type": "stream",
     "text": [
      "[CV 1/5] END SVC__decision_function_shape=ovo, SVC__degree=1, SVC__gamma=auto, SVC__kernel=rbf, SVC__max_iter=500, SVC__random_state=11, pca__n_components=10;, score=0.692 total time=  11.2s\n"
     ]
    },
    {
     "name": "stderr",
     "output_type": "stream",
     "text": [
      "/home/hybrid/.local/lib/python3.8/site-packages/sklearn/svm/_base.py:299: ConvergenceWarning: Solver terminated early (max_iter=500).  Consider pre-processing your data with StandardScaler or MinMaxScaler.\n",
      "  warnings.warn(\n"
     ]
    },
    {
     "name": "stdout",
     "output_type": "stream",
     "text": [
      "[CV 2/5] END SVC__decision_function_shape=ovo, SVC__degree=1, SVC__gamma=auto, SVC__kernel=rbf, SVC__max_iter=500, SVC__random_state=11, pca__n_components=10;, score=0.629 total time=  11.6s\n"
     ]
    },
    {
     "name": "stderr",
     "output_type": "stream",
     "text": [
      "/home/hybrid/.local/lib/python3.8/site-packages/sklearn/svm/_base.py:299: ConvergenceWarning: Solver terminated early (max_iter=500).  Consider pre-processing your data with StandardScaler or MinMaxScaler.\n",
      "  warnings.warn(\n"
     ]
    },
    {
     "name": "stdout",
     "output_type": "stream",
     "text": [
      "[CV 3/5] END SVC__decision_function_shape=ovo, SVC__degree=1, SVC__gamma=auto, SVC__kernel=rbf, SVC__max_iter=500, SVC__random_state=11, pca__n_components=10;, score=0.553 total time=  11.6s\n"
     ]
    },
    {
     "name": "stderr",
     "output_type": "stream",
     "text": [
      "/home/hybrid/.local/lib/python3.8/site-packages/sklearn/svm/_base.py:299: ConvergenceWarning: Solver terminated early (max_iter=500).  Consider pre-processing your data with StandardScaler or MinMaxScaler.\n",
      "  warnings.warn(\n"
     ]
    },
    {
     "name": "stdout",
     "output_type": "stream",
     "text": [
      "[CV 4/5] END SVC__decision_function_shape=ovo, SVC__degree=1, SVC__gamma=auto, SVC__kernel=rbf, SVC__max_iter=500, SVC__random_state=11, pca__n_components=10;, score=0.561 total time=  12.9s\n"
     ]
    },
    {
     "name": "stderr",
     "output_type": "stream",
     "text": [
      "/home/hybrid/.local/lib/python3.8/site-packages/sklearn/svm/_base.py:299: ConvergenceWarning: Solver terminated early (max_iter=500).  Consider pre-processing your data with StandardScaler or MinMaxScaler.\n",
      "  warnings.warn(\n"
     ]
    },
    {
     "name": "stdout",
     "output_type": "stream",
     "text": [
      "[CV 5/5] END SVC__decision_function_shape=ovo, SVC__degree=1, SVC__gamma=auto, SVC__kernel=rbf, SVC__max_iter=500, SVC__random_state=11, pca__n_components=10;, score=0.590 total time=  11.5s\n"
     ]
    },
    {
     "name": "stderr",
     "output_type": "stream",
     "text": [
      "/home/hybrid/.local/lib/python3.8/site-packages/sklearn/svm/_base.py:299: ConvergenceWarning: Solver terminated early (max_iter=500).  Consider pre-processing your data with StandardScaler or MinMaxScaler.\n",
      "  warnings.warn(\n"
     ]
    },
    {
     "name": "stdout",
     "output_type": "stream",
     "text": [
      "[CV 1/5] END SVC__decision_function_shape=ovo, SVC__degree=1, SVC__gamma=auto, SVC__kernel=rbf, SVC__max_iter=500, SVC__random_state=11, pca__n_components=20;, score=0.656 total time=  27.3s\n"
     ]
    },
    {
     "name": "stderr",
     "output_type": "stream",
     "text": [
      "/home/hybrid/.local/lib/python3.8/site-packages/sklearn/svm/_base.py:299: ConvergenceWarning: Solver terminated early (max_iter=500).  Consider pre-processing your data with StandardScaler or MinMaxScaler.\n",
      "  warnings.warn(\n"
     ]
    },
    {
     "name": "stdout",
     "output_type": "stream",
     "text": [
      "[CV 2/5] END SVC__decision_function_shape=ovo, SVC__degree=1, SVC__gamma=auto, SVC__kernel=rbf, SVC__max_iter=500, SVC__random_state=11, pca__n_components=20;, score=0.664 total time=  26.4s\n"
     ]
    },
    {
     "name": "stderr",
     "output_type": "stream",
     "text": [
      "/home/hybrid/.local/lib/python3.8/site-packages/sklearn/svm/_base.py:299: ConvergenceWarning: Solver terminated early (max_iter=500).  Consider pre-processing your data with StandardScaler or MinMaxScaler.\n",
      "  warnings.warn(\n"
     ]
    },
    {
     "name": "stdout",
     "output_type": "stream",
     "text": [
      "[CV 3/5] END SVC__decision_function_shape=ovo, SVC__degree=1, SVC__gamma=auto, SVC__kernel=rbf, SVC__max_iter=500, SVC__random_state=11, pca__n_components=20;, score=0.672 total time=  26.3s\n"
     ]
    },
    {
     "name": "stderr",
     "output_type": "stream",
     "text": [
      "/home/hybrid/.local/lib/python3.8/site-packages/sklearn/svm/_base.py:299: ConvergenceWarning: Solver terminated early (max_iter=500).  Consider pre-processing your data with StandardScaler or MinMaxScaler.\n",
      "  warnings.warn(\n"
     ]
    },
    {
     "name": "stdout",
     "output_type": "stream",
     "text": [
      "[CV 4/5] END SVC__decision_function_shape=ovo, SVC__degree=1, SVC__gamma=auto, SVC__kernel=rbf, SVC__max_iter=500, SVC__random_state=11, pca__n_components=20;, score=0.701 total time=  27.0s\n"
     ]
    },
    {
     "name": "stderr",
     "output_type": "stream",
     "text": [
      "/home/hybrid/.local/lib/python3.8/site-packages/sklearn/svm/_base.py:299: ConvergenceWarning: Solver terminated early (max_iter=500).  Consider pre-processing your data with StandardScaler or MinMaxScaler.\n",
      "  warnings.warn(\n"
     ]
    },
    {
     "name": "stdout",
     "output_type": "stream",
     "text": [
      "[CV 5/5] END SVC__decision_function_shape=ovo, SVC__degree=1, SVC__gamma=auto, SVC__kernel=rbf, SVC__max_iter=500, SVC__random_state=11, pca__n_components=20;, score=0.692 total time=  27.5s\n"
     ]
    },
    {
     "name": "stderr",
     "output_type": "stream",
     "text": [
      "/home/hybrid/.local/lib/python3.8/site-packages/sklearn/svm/_base.py:299: ConvergenceWarning: Solver terminated early (max_iter=500).  Consider pre-processing your data with StandardScaler or MinMaxScaler.\n",
      "  warnings.warn(\n"
     ]
    },
    {
     "name": "stdout",
     "output_type": "stream",
     "text": [
      "Cross-validation score: 0.6772759494225262\n",
      "Test score: 0.6486881860314934\n",
      "Support Vector:\n",
      "{'SVC__decision_function_shape': 'ovo', 'SVC__degree': 1, 'SVC__gamma': 'auto', 'SVC__kernel': 'rbf', 'SVC__max_iter': 500, 'SVC__random_state': 11, 'pca__n_components': 20}\n",
      "Wyniki test: 0.6097663120864394\n",
      "Wyniki train: 0.6038553121223361\n"
     ]
    }
   ],
   "source": [
    "stratified_kfold = StratifiedKFold(n_splits=5,\n",
    "                                       shuffle=True,\n",
    "                                       random_state=23)\n",
    "\n",
    "pipeline_SVC = imbpipeline([('scaler', scaler),\n",
    "                            ('pca', pca),\n",
    "                            ('SMOTE', SMOTEEN),\n",
    "                            ('SVC', SVC())])\n",
    "    \n",
    "params_SVC = {\n",
    "              'SVC__gamma': ['auto'],\n",
    "              'SVC__max_iter': [150, 300, 500],\n",
    "              'SVC__decision_function_shape': ['ovo'],\n",
    "              'SVC__degree': [1],\n",
    "              'SVC__kernel': ['rbf'],\n",
    "              'SVC__random_state': [11],\n",
    "              'pca__n_components': [5, 10, 20]\n",
    "             }\n",
    "\n",
    "search_SVC = GridSearchCV(pipeline_SVC,\n",
    "                             params_SVC,\n",
    "                             scoring='roc_auc',\n",
    "                             cv=stratified_kfold,\n",
    "                            verbose=3,\n",
    "                            #n_jobs=3\n",
    "                         )\n",
    "\n",
    "search_SVC.fit(X_train, y_train)\n",
    "\n",
    "cv_score = search_SVC.best_score_\n",
    "test_score = search_SVC.score(X_test, y_test)\n",
    "print(f'Cross-validation score: {cv_score}\\nTest score: {test_score}')\n",
    "print(\"Support Vector:\")\n",
    "print(search_SVC.best_params_)\n",
    "print(f'Results on test: {search_SVC.best_estimator_.score(X_test, y_test)}')\n",
    "print(f'Results on train: {search_SVC.best_estimator_.score(X_train, y_train)}')\n"
   ]
  },
  {
   "cell_type": "markdown",
   "metadata": {},
   "source": [
    "Achieving scores of classification, saving accuracy, recall and F1 score in data frame:"
   ]
  },
  {
   "cell_type": "code",
   "execution_count": 275,
   "metadata": {},
   "outputs": [],
   "source": [
    "y_pred_SVC_train = search_SVC.best_estimator_.predict(X_train)"
   ]
  },
  {
   "cell_type": "code",
   "execution_count": 276,
   "metadata": {},
   "outputs": [],
   "source": [
    "y_pred_svc_test = search_SVC.best_estimator_.predict(X_test)"
   ]
  },
  {
   "cell_type": "code",
   "execution_count": 277,
   "metadata": {},
   "outputs": [],
   "source": [
    "y_pred_SVC = search_SVC.predict(X_test)"
   ]
  },
  {
   "cell_type": "markdown",
   "metadata": {},
   "source": [
    "Best hyperparameters:"
   ]
  },
  {
   "cell_type": "code",
   "execution_count": 278,
   "metadata": {},
   "outputs": [
    {
     "data": {
      "text/plain": [
       "{'SVC__decision_function_shape': 'ovo',\n",
       " 'SVC__degree': 1,\n",
       " 'SVC__gamma': 'auto',\n",
       " 'SVC__kernel': 'rbf',\n",
       " 'SVC__max_iter': 500,\n",
       " 'SVC__random_state': 11,\n",
       " 'pca__n_components': 20}"
      ]
     },
     "execution_count": 278,
     "metadata": {},
     "output_type": "execute_result"
    }
   ],
   "source": [
    "search_SVC.best_params_"
   ]
  },
  {
   "cell_type": "code",
   "execution_count": 316,
   "metadata": {
    "scrolled": true
   },
   "outputs": [
    {
     "name": "stdout",
     "output_type": "stream",
     "text": [
      "              precision    recall  f1-score   support\n",
      "\n",
      "           0       0.66      0.78      0.72     22550\n",
      "           1       0.46      0.32      0.38     13267\n",
      "\n",
      "    accuracy                           0.61     35817\n",
      "   macro avg       0.56      0.55      0.55     35817\n",
      "weighted avg       0.59      0.61      0.59     35817\n",
      "\n"
     ]
    }
   ],
   "source": [
    "print(classification_report(y_test, y_pred_SVC))\n",
    "A_report_svc = pd.DataFrame(classification_report(y_test, y_pred_SVC, output_dict=True))"
   ]
  },
  {
   "cell_type": "code",
   "execution_count": 280,
   "metadata": {},
   "outputs": [
    {
     "data": {
      "text/html": [
       "<div>\n",
       "<style scoped>\n",
       "    .dataframe tbody tr th:only-of-type {\n",
       "        vertical-align: middle;\n",
       "    }\n",
       "\n",
       "    .dataframe tbody tr th {\n",
       "        vertical-align: top;\n",
       "    }\n",
       "\n",
       "    .dataframe thead th {\n",
       "        text-align: right;\n",
       "    }\n",
       "</style>\n",
       "<table border=\"1\" class=\"dataframe\">\n",
       "  <thead>\n",
       "    <tr style=\"text-align: right;\">\n",
       "      <th></th>\n",
       "      <th>0</th>\n",
       "      <th>1</th>\n",
       "      <th>accuracy</th>\n",
       "      <th>macro avg</th>\n",
       "      <th>weighted avg</th>\n",
       "    </tr>\n",
       "  </thead>\n",
       "  <tbody>\n",
       "    <tr>\n",
       "      <th>precision</th>\n",
       "      <td>0.661566</td>\n",
       "      <td>0.461770</td>\n",
       "      <td>0.609766</td>\n",
       "      <td>0.561668</td>\n",
       "      <td>0.587559</td>\n",
       "    </tr>\n",
       "    <tr>\n",
       "      <th>recall</th>\n",
       "      <td>0.778359</td>\n",
       "      <td>0.323208</td>\n",
       "      <td>0.609766</td>\n",
       "      <td>0.550784</td>\n",
       "      <td>0.609766</td>\n",
       "    </tr>\n",
       "    <tr>\n",
       "      <th>f1-score</th>\n",
       "      <td>0.715226</td>\n",
       "      <td>0.380260</td>\n",
       "      <td>0.609766</td>\n",
       "      <td>0.547743</td>\n",
       "      <td>0.591151</td>\n",
       "    </tr>\n",
       "    <tr>\n",
       "      <th>support</th>\n",
       "      <td>22550.000000</td>\n",
       "      <td>13267.000000</td>\n",
       "      <td>0.609766</td>\n",
       "      <td>35817.000000</td>\n",
       "      <td>35817.000000</td>\n",
       "    </tr>\n",
       "  </tbody>\n",
       "</table>\n",
       "</div>"
      ],
      "text/plain": [
       "                      0             1  accuracy     macro avg  weighted avg\n",
       "precision      0.661566      0.461770  0.609766      0.561668      0.587559\n",
       "recall         0.778359      0.323208  0.609766      0.550784      0.609766\n",
       "f1-score       0.715226      0.380260  0.609766      0.547743      0.591151\n",
       "support    22550.000000  13267.000000  0.609766  35817.000000  35817.000000"
      ]
     },
     "execution_count": 280,
     "metadata": {},
     "output_type": "execute_result"
    }
   ],
   "source": [
    "A_report_svc"
   ]
  },
  {
   "cell_type": "code",
   "execution_count": 317,
   "metadata": {},
   "outputs": [],
   "source": [
    "for i, name in enumerate(A_report_svc.columns):\n",
    "  A_report_svc = A_report_svc.rename(columns={(A_report_svc.iloc[:,i].name): ('SVC_'+A_report_svc.iloc[:,i].name)})\n"
   ]
  },
  {
   "cell_type": "code",
   "execution_count": 318,
   "metadata": {},
   "outputs": [
    {
     "data": {
      "text/html": [
       "<div>\n",
       "<style scoped>\n",
       "    .dataframe tbody tr th:only-of-type {\n",
       "        vertical-align: middle;\n",
       "    }\n",
       "\n",
       "    .dataframe tbody tr th {\n",
       "        vertical-align: top;\n",
       "    }\n",
       "\n",
       "    .dataframe thead th {\n",
       "        text-align: right;\n",
       "    }\n",
       "</style>\n",
       "<table border=\"1\" class=\"dataframe\">\n",
       "  <thead>\n",
       "    <tr style=\"text-align: right;\">\n",
       "      <th></th>\n",
       "      <th>SVC_0</th>\n",
       "      <th>SVC_1</th>\n",
       "      <th>SVC_accuracy</th>\n",
       "      <th>SVC_macro avg</th>\n",
       "      <th>SVC_weighted avg</th>\n",
       "    </tr>\n",
       "  </thead>\n",
       "  <tbody>\n",
       "    <tr>\n",
       "      <th>precision</th>\n",
       "      <td>0.661566</td>\n",
       "      <td>0.461770</td>\n",
       "      <td>0.609766</td>\n",
       "      <td>0.561668</td>\n",
       "      <td>0.587559</td>\n",
       "    </tr>\n",
       "    <tr>\n",
       "      <th>recall</th>\n",
       "      <td>0.778359</td>\n",
       "      <td>0.323208</td>\n",
       "      <td>0.609766</td>\n",
       "      <td>0.550784</td>\n",
       "      <td>0.609766</td>\n",
       "    </tr>\n",
       "    <tr>\n",
       "      <th>f1-score</th>\n",
       "      <td>0.715226</td>\n",
       "      <td>0.380260</td>\n",
       "      <td>0.609766</td>\n",
       "      <td>0.547743</td>\n",
       "      <td>0.591151</td>\n",
       "    </tr>\n",
       "    <tr>\n",
       "      <th>support</th>\n",
       "      <td>22550.000000</td>\n",
       "      <td>13267.000000</td>\n",
       "      <td>0.609766</td>\n",
       "      <td>35817.000000</td>\n",
       "      <td>35817.000000</td>\n",
       "    </tr>\n",
       "  </tbody>\n",
       "</table>\n",
       "</div>"
      ],
      "text/plain": [
       "                  SVC_0         SVC_1  SVC_accuracy  SVC_macro avg  \\\n",
       "precision      0.661566      0.461770      0.609766       0.561668   \n",
       "recall         0.778359      0.323208      0.609766       0.550784   \n",
       "f1-score       0.715226      0.380260      0.609766       0.547743   \n",
       "support    22550.000000  13267.000000      0.609766   35817.000000   \n",
       "\n",
       "           SVC_weighted avg  \n",
       "precision          0.587559  \n",
       "recall             0.609766  \n",
       "f1-score           0.591151  \n",
       "support        35817.000000  "
      ]
     },
     "execution_count": 318,
     "metadata": {},
     "output_type": "execute_result"
    }
   ],
   "source": [
    "A_report_svc"
   ]
  },
  {
   "cell_type": "markdown",
   "metadata": {},
   "source": [
    "XGBClassifier algorythm with RandomizedGridSearch in pipeline, scaling reducing, ballancing:"
   ]
  },
  {
   "cell_type": "code",
   "execution_count": 284,
   "metadata": {},
   "outputs": [
    {
     "name": "stdout",
     "output_type": "stream",
     "text": [
      "Fitting 3 folds for each of 54 candidates, totalling 162 fits\n",
      "[CV 1/3] END XGB__learning_rate=0.1, XGB__max_depth=3, XGB__n_estimators=100, pca__n_components=5;, score=0.813 total time=   3.8s\n",
      "[CV 2/3] END XGB__learning_rate=0.1, XGB__max_depth=3, XGB__n_estimators=100, pca__n_components=5;, score=0.824 total time=   3.6s\n",
      "[CV 3/3] END XGB__learning_rate=0.1, XGB__max_depth=3, XGB__n_estimators=100, pca__n_components=5;, score=0.818 total time=   3.6s\n",
      "[CV 1/3] END XGB__learning_rate=0.1, XGB__max_depth=3, XGB__n_estimators=100, pca__n_components=10;, score=0.838 total time=   8.0s\n",
      "[CV 2/3] END XGB__learning_rate=0.1, XGB__max_depth=3, XGB__n_estimators=100, pca__n_components=10;, score=0.849 total time=   7.7s\n",
      "[CV 3/3] END XGB__learning_rate=0.1, XGB__max_depth=3, XGB__n_estimators=100, pca__n_components=10;, score=0.843 total time=   7.5s\n",
      "[CV 1/3] END XGB__learning_rate=0.1, XGB__max_depth=3, XGB__n_estimators=100, pca__n_components=20;, score=0.864 total time=  18.1s\n",
      "[CV 2/3] END XGB__learning_rate=0.1, XGB__max_depth=3, XGB__n_estimators=100, pca__n_components=20;, score=0.869 total time=  17.7s\n",
      "[CV 3/3] END XGB__learning_rate=0.1, XGB__max_depth=3, XGB__n_estimators=100, pca__n_components=20;, score=0.866 total time=  20.4s\n",
      "[CV 1/3] END XGB__learning_rate=0.1, XGB__max_depth=3, XGB__n_estimators=500, pca__n_components=5;, score=0.840 total time=  12.2s\n",
      "[CV 2/3] END XGB__learning_rate=0.1, XGB__max_depth=3, XGB__n_estimators=500, pca__n_components=5;, score=0.846 total time=  11.3s\n",
      "[CV 3/3] END XGB__learning_rate=0.1, XGB__max_depth=3, XGB__n_estimators=500, pca__n_components=5;, score=0.841 total time=  11.9s\n",
      "[CV 1/3] END XGB__learning_rate=0.1, XGB__max_depth=3, XGB__n_estimators=500, pca__n_components=10;, score=0.871 total time=  22.2s\n",
      "[CV 2/3] END XGB__learning_rate=0.1, XGB__max_depth=3, XGB__n_estimators=500, pca__n_components=10;, score=0.874 total time=  21.6s\n",
      "[CV 3/3] END XGB__learning_rate=0.1, XGB__max_depth=3, XGB__n_estimators=500, pca__n_components=10;, score=0.875 total time=  18.0s\n",
      "[CV 1/3] END XGB__learning_rate=0.1, XGB__max_depth=3, XGB__n_estimators=500, pca__n_components=20;, score=0.892 total time=  37.9s\n",
      "[CV 2/3] END XGB__learning_rate=0.1, XGB__max_depth=3, XGB__n_estimators=500, pca__n_components=20;, score=0.897 total time=  35.4s\n",
      "[CV 3/3] END XGB__learning_rate=0.1, XGB__max_depth=3, XGB__n_estimators=500, pca__n_components=20;, score=0.895 total time=  38.9s\n",
      "[CV 1/3] END XGB__learning_rate=0.1, XGB__max_depth=3, XGB__n_estimators=800, pca__n_components=5;, score=0.843 total time=  15.2s\n",
      "[CV 2/3] END XGB__learning_rate=0.1, XGB__max_depth=3, XGB__n_estimators=800, pca__n_components=5;, score=0.849 total time=  15.0s\n",
      "[CV 3/3] END XGB__learning_rate=0.1, XGB__max_depth=3, XGB__n_estimators=800, pca__n_components=5;, score=0.846 total time=  15.3s\n",
      "[CV 1/3] END XGB__learning_rate=0.1, XGB__max_depth=3, XGB__n_estimators=800, pca__n_components=10;, score=0.873 total time=  29.7s\n",
      "[CV 2/3] END XGB__learning_rate=0.1, XGB__max_depth=3, XGB__n_estimators=800, pca__n_components=10;, score=0.881 total time=  25.8s\n",
      "[CV 3/3] END XGB__learning_rate=0.1, XGB__max_depth=3, XGB__n_estimators=800, pca__n_components=10;, score=0.879 total time=  28.6s\n",
      "[CV 1/3] END XGB__learning_rate=0.1, XGB__max_depth=3, XGB__n_estimators=800, pca__n_components=20;, score=0.898 total time=  57.6s\n",
      "[CV 2/3] END XGB__learning_rate=0.1, XGB__max_depth=3, XGB__n_estimators=800, pca__n_components=20;, score=0.901 total time=  58.2s\n",
      "[CV 3/3] END XGB__learning_rate=0.1, XGB__max_depth=3, XGB__n_estimators=800, pca__n_components=20;, score=0.901 total time=  45.7s\n",
      "[CV 1/3] END XGB__learning_rate=0.1, XGB__max_depth=5, XGB__n_estimators=100, pca__n_components=5;, score=0.837 total time=   4.7s\n",
      "[CV 2/3] END XGB__learning_rate=0.1, XGB__max_depth=5, XGB__n_estimators=100, pca__n_components=5;, score=0.842 total time=   4.7s\n",
      "[CV 3/3] END XGB__learning_rate=0.1, XGB__max_depth=5, XGB__n_estimators=100, pca__n_components=5;, score=0.842 total time=   4.6s\n",
      "[CV 1/3] END XGB__learning_rate=0.1, XGB__max_depth=5, XGB__n_estimators=100, pca__n_components=10;, score=0.870 total time=   9.8s\n",
      "[CV 2/3] END XGB__learning_rate=0.1, XGB__max_depth=5, XGB__n_estimators=100, pca__n_components=10;, score=0.874 total time=   9.6s\n",
      "[CV 3/3] END XGB__learning_rate=0.1, XGB__max_depth=5, XGB__n_estimators=100, pca__n_components=10;, score=0.873 total time=   9.7s\n",
      "[CV 1/3] END XGB__learning_rate=0.1, XGB__max_depth=5, XGB__n_estimators=100, pca__n_components=20;, score=0.890 total time=  20.7s\n",
      "[CV 2/3] END XGB__learning_rate=0.1, XGB__max_depth=5, XGB__n_estimators=100, pca__n_components=20;, score=0.894 total time=  23.1s\n",
      "[CV 3/3] END XGB__learning_rate=0.1, XGB__max_depth=5, XGB__n_estimators=100, pca__n_components=20;, score=0.895 total time=  22.9s\n",
      "[CV 1/3] END XGB__learning_rate=0.1, XGB__max_depth=5, XGB__n_estimators=500, pca__n_components=5;, score=0.858 total time=  16.9s\n",
      "[CV 2/3] END XGB__learning_rate=0.1, XGB__max_depth=5, XGB__n_estimators=500, pca__n_components=5;, score=0.858 total time=  16.9s\n",
      "[CV 3/3] END XGB__learning_rate=0.1, XGB__max_depth=5, XGB__n_estimators=500, pca__n_components=5;, score=0.858 total time=  16.8s\n",
      "[CV 1/3] END XGB__learning_rate=0.1, XGB__max_depth=5, XGB__n_estimators=500, pca__n_components=10;, score=0.886 total time=  29.6s\n",
      "[CV 2/3] END XGB__learning_rate=0.1, XGB__max_depth=5, XGB__n_estimators=500, pca__n_components=10;, score=0.891 total time=  28.7s\n",
      "[CV 3/3] END XGB__learning_rate=0.1, XGB__max_depth=5, XGB__n_estimators=500, pca__n_components=10;, score=0.893 total time=  28.1s\n",
      "[CV 1/3] END XGB__learning_rate=0.1, XGB__max_depth=5, XGB__n_estimators=500, pca__n_components=20;, score=0.908 total time=  52.7s\n",
      "[CV 2/3] END XGB__learning_rate=0.1, XGB__max_depth=5, XGB__n_estimators=500, pca__n_components=20;, score=0.909 total time=  53.2s\n",
      "[CV 3/3] END XGB__learning_rate=0.1, XGB__max_depth=5, XGB__n_estimators=500, pca__n_components=20;, score=0.909 total time=  59.9s\n",
      "[CV 1/3] END XGB__learning_rate=0.1, XGB__max_depth=5, XGB__n_estimators=800, pca__n_components=5;, score=0.859 total time=  27.6s\n",
      "[CV 2/3] END XGB__learning_rate=0.1, XGB__max_depth=5, XGB__n_estimators=800, pca__n_components=5;, score=0.863 total time=  30.5s\n",
      "[CV 3/3] END XGB__learning_rate=0.1, XGB__max_depth=5, XGB__n_estimators=800, pca__n_components=5;, score=0.861 total time=  25.7s\n",
      "[CV 1/3] END XGB__learning_rate=0.1, XGB__max_depth=5, XGB__n_estimators=800, pca__n_components=10;, score=0.892 total time=  43.4s\n",
      "[CV 2/3] END XGB__learning_rate=0.1, XGB__max_depth=5, XGB__n_estimators=800, pca__n_components=10;, score=0.894 total time=  43.0s\n",
      "[CV 3/3] END XGB__learning_rate=0.1, XGB__max_depth=5, XGB__n_estimators=800, pca__n_components=10;, score=0.892 total time=  41.2s\n",
      "[CV 1/3] END XGB__learning_rate=0.1, XGB__max_depth=5, XGB__n_estimators=800, pca__n_components=20;, score=0.909 total time= 1.4min\n",
      "[CV 2/3] END XGB__learning_rate=0.1, XGB__max_depth=5, XGB__n_estimators=800, pca__n_components=20;, score=0.915 total time= 1.5min\n",
      "[CV 3/3] END XGB__learning_rate=0.1, XGB__max_depth=5, XGB__n_estimators=800, pca__n_components=20;, score=0.913 total time= 1.3min\n",
      "[CV 1/3] END XGB__learning_rate=0.1, XGB__max_depth=10, XGB__n_estimators=100, pca__n_components=5;, score=0.864 total time=   8.1s\n",
      "[CV 2/3] END XGB__learning_rate=0.1, XGB__max_depth=10, XGB__n_estimators=100, pca__n_components=5;, score=0.865 total time=   8.1s\n",
      "[CV 3/3] END XGB__learning_rate=0.1, XGB__max_depth=10, XGB__n_estimators=100, pca__n_components=5;, score=0.866 total time=   8.2s\n",
      "[CV 1/3] END XGB__learning_rate=0.1, XGB__max_depth=10, XGB__n_estimators=100, pca__n_components=10;, score=0.894 total time=  16.4s\n",
      "[CV 2/3] END XGB__learning_rate=0.1, XGB__max_depth=10, XGB__n_estimators=100, pca__n_components=10;, score=0.894 total time=  15.2s\n",
      "[CV 3/3] END XGB__learning_rate=0.1, XGB__max_depth=10, XGB__n_estimators=100, pca__n_components=10;, score=0.897 total time=  15.2s\n",
      "[CV 1/3] END XGB__learning_rate=0.1, XGB__max_depth=10, XGB__n_estimators=100, pca__n_components=20;, score=0.911 total time=  31.1s\n",
      "[CV 2/3] END XGB__learning_rate=0.1, XGB__max_depth=10, XGB__n_estimators=100, pca__n_components=20;, score=0.914 total time=  30.8s\n"
     ]
    },
    {
     "name": "stdout",
     "output_type": "stream",
     "text": [
      "[CV 3/3] END XGB__learning_rate=0.1, XGB__max_depth=10, XGB__n_estimators=100, pca__n_components=20;, score=0.912 total time= 1.4min\n",
      "[CV 1/3] END XGB__learning_rate=0.1, XGB__max_depth=10, XGB__n_estimators=500, pca__n_components=5;, score=0.871 total time=  31.0s\n",
      "[CV 2/3] END XGB__learning_rate=0.1, XGB__max_depth=10, XGB__n_estimators=500, pca__n_components=5;, score=0.872 total time=  31.8s\n",
      "[CV 3/3] END XGB__learning_rate=0.1, XGB__max_depth=10, XGB__n_estimators=500, pca__n_components=5;, score=0.870 total time=  31.1s\n",
      "[CV 1/3] END XGB__learning_rate=0.1, XGB__max_depth=10, XGB__n_estimators=500, pca__n_components=10;, score=0.899 total time=  52.0s\n",
      "[CV 2/3] END XGB__learning_rate=0.1, XGB__max_depth=10, XGB__n_estimators=500, pca__n_components=10;, score=0.901 total time=  50.9s\n",
      "[CV 3/3] END XGB__learning_rate=0.1, XGB__max_depth=10, XGB__n_estimators=500, pca__n_components=10;, score=0.900 total time=  50.5s\n",
      "[CV 1/3] END XGB__learning_rate=0.1, XGB__max_depth=10, XGB__n_estimators=500, pca__n_components=20;, score=0.914 total time= 1.5min\n",
      "[CV 2/3] END XGB__learning_rate=0.1, XGB__max_depth=10, XGB__n_estimators=500, pca__n_components=20;, score=0.918 total time= 1.5min\n",
      "[CV 3/3] END XGB__learning_rate=0.1, XGB__max_depth=10, XGB__n_estimators=500, pca__n_components=20;, score=0.917 total time= 1.4min\n",
      "[CV 1/3] END XGB__learning_rate=0.1, XGB__max_depth=10, XGB__n_estimators=800, pca__n_components=5;, score=0.869 total time=  45.3s\n",
      "[CV 2/3] END XGB__learning_rate=0.1, XGB__max_depth=10, XGB__n_estimators=800, pca__n_components=5;, score=0.873 total time=  42.0s\n",
      "[CV 3/3] END XGB__learning_rate=0.1, XGB__max_depth=10, XGB__n_estimators=800, pca__n_components=5;, score=0.872 total time=  48.5s\n",
      "[CV 1/3] END XGB__learning_rate=0.1, XGB__max_depth=10, XGB__n_estimators=800, pca__n_components=10;, score=0.895 total time= 1.3min\n",
      "[CV 2/3] END XGB__learning_rate=0.1, XGB__max_depth=10, XGB__n_estimators=800, pca__n_components=10;, score=0.904 total time= 1.3min\n",
      "[CV 3/3] END XGB__learning_rate=0.1, XGB__max_depth=10, XGB__n_estimators=800, pca__n_components=10;, score=0.900 total time= 1.4min\n",
      "[CV 1/3] END XGB__learning_rate=0.1, XGB__max_depth=10, XGB__n_estimators=800, pca__n_components=20;, score=0.914 total time= 2.0min\n",
      "[CV 2/3] END XGB__learning_rate=0.1, XGB__max_depth=10, XGB__n_estimators=800, pca__n_components=20;, score=0.918 total time= 2.0min\n",
      "[CV 3/3] END XGB__learning_rate=0.1, XGB__max_depth=10, XGB__n_estimators=800, pca__n_components=20;, score=0.917 total time= 2.1min\n",
      "[CV 1/3] END XGB__learning_rate=0.5, XGB__max_depth=3, XGB__n_estimators=100, pca__n_components=5;, score=0.840 total time=   3.7s\n",
      "[CV 2/3] END XGB__learning_rate=0.5, XGB__max_depth=3, XGB__n_estimators=100, pca__n_components=5;, score=0.843 total time=   3.8s\n",
      "[CV 3/3] END XGB__learning_rate=0.5, XGB__max_depth=3, XGB__n_estimators=100, pca__n_components=5;, score=0.841 total time=   3.9s\n",
      "[CV 1/3] END XGB__learning_rate=0.5, XGB__max_depth=3, XGB__n_estimators=100, pca__n_components=10;, score=0.870 total time=   8.6s\n",
      "[CV 2/3] END XGB__learning_rate=0.5, XGB__max_depth=3, XGB__n_estimators=100, pca__n_components=10;, score=0.874 total time=   9.1s\n",
      "[CV 3/3] END XGB__learning_rate=0.5, XGB__max_depth=3, XGB__n_estimators=100, pca__n_components=10;, score=0.873 total time=   9.0s\n",
      "[CV 1/3] END XGB__learning_rate=0.5, XGB__max_depth=3, XGB__n_estimators=100, pca__n_components=20;, score=0.891 total time=  20.6s\n",
      "[CV 2/3] END XGB__learning_rate=0.5, XGB__max_depth=3, XGB__n_estimators=100, pca__n_components=20;, score=0.893 total time=  17.9s\n",
      "[CV 3/3] END XGB__learning_rate=0.5, XGB__max_depth=3, XGB__n_estimators=100, pca__n_components=20;, score=0.892 total time=  17.9s\n",
      "[CV 1/3] END XGB__learning_rate=0.5, XGB__max_depth=3, XGB__n_estimators=500, pca__n_components=5;, score=0.852 total time=  12.5s\n",
      "[CV 2/3] END XGB__learning_rate=0.5, XGB__max_depth=3, XGB__n_estimators=500, pca__n_components=5;, score=0.855 total time=  10.0s\n",
      "[CV 3/3] END XGB__learning_rate=0.5, XGB__max_depth=3, XGB__n_estimators=500, pca__n_components=5;, score=0.852 total time=  11.8s\n",
      "[CV 1/3] END XGB__learning_rate=0.5, XGB__max_depth=3, XGB__n_estimators=500, pca__n_components=10;, score=0.883 total time=  19.9s\n",
      "[CV 2/3] END XGB__learning_rate=0.5, XGB__max_depth=3, XGB__n_estimators=500, pca__n_components=10;, score=0.886 total time=  20.8s\n",
      "[CV 3/3] END XGB__learning_rate=0.5, XGB__max_depth=3, XGB__n_estimators=500, pca__n_components=10;, score=0.887 total time=  19.3s\n",
      "[CV 1/3] END XGB__learning_rate=0.5, XGB__max_depth=3, XGB__n_estimators=500, pca__n_components=20;, score=0.902 total time=  35.8s\n",
      "[CV 2/3] END XGB__learning_rate=0.5, XGB__max_depth=3, XGB__n_estimators=500, pca__n_components=20;, score=0.907 total time=  40.1s\n",
      "[CV 3/3] END XGB__learning_rate=0.5, XGB__max_depth=3, XGB__n_estimators=500, pca__n_components=20;, score=0.907 total time=  36.4s\n",
      "[CV 1/3] END XGB__learning_rate=0.5, XGB__max_depth=3, XGB__n_estimators=800, pca__n_components=5;, score=0.852 total time=  15.5s\n",
      "[CV 2/3] END XGB__learning_rate=0.5, XGB__max_depth=3, XGB__n_estimators=800, pca__n_components=5;, score=0.860 total time=  14.3s\n",
      "[CV 3/3] END XGB__learning_rate=0.5, XGB__max_depth=3, XGB__n_estimators=800, pca__n_components=5;, score=0.854 total time=  16.6s\n",
      "[CV 1/3] END XGB__learning_rate=0.5, XGB__max_depth=3, XGB__n_estimators=800, pca__n_components=10;, score=0.883 total time=  29.6s\n",
      "[CV 2/3] END XGB__learning_rate=0.5, XGB__max_depth=3, XGB__n_estimators=800, pca__n_components=10;, score=0.885 total time=  26.4s\n",
      "[CV 3/3] END XGB__learning_rate=0.5, XGB__max_depth=3, XGB__n_estimators=800, pca__n_components=10;, score=0.887 total time=  23.2s\n",
      "[CV 1/3] END XGB__learning_rate=0.5, XGB__max_depth=3, XGB__n_estimators=800, pca__n_components=20;, score=0.904 total time=  43.8s\n",
      "[CV 2/3] END XGB__learning_rate=0.5, XGB__max_depth=3, XGB__n_estimators=800, pca__n_components=20;, score=0.911 total time=  49.5s\n",
      "[CV 3/3] END XGB__learning_rate=0.5, XGB__max_depth=3, XGB__n_estimators=800, pca__n_components=20;, score=0.908 total time=  48.2s\n",
      "[CV 1/3] END XGB__learning_rate=0.5, XGB__max_depth=5, XGB__n_estimators=100, pca__n_components=5;, score=0.853 total time=   4.7s\n",
      "[CV 2/3] END XGB__learning_rate=0.5, XGB__max_depth=5, XGB__n_estimators=100, pca__n_components=5;, score=0.858 total time=   5.1s\n",
      "[CV 3/3] END XGB__learning_rate=0.5, XGB__max_depth=5, XGB__n_estimators=100, pca__n_components=5;, score=0.858 total time=   4.9s\n",
      "[CV 1/3] END XGB__learning_rate=0.5, XGB__max_depth=5, XGB__n_estimators=100, pca__n_components=10;, score=0.884 total time=  10.6s\n",
      "[CV 2/3] END XGB__learning_rate=0.5, XGB__max_depth=5, XGB__n_estimators=100, pca__n_components=10;, score=0.887 total time=   9.3s\n",
      "[CV 3/3] END XGB__learning_rate=0.5, XGB__max_depth=5, XGB__n_estimators=100, pca__n_components=10;, score=0.886 total time=  10.0s\n",
      "[CV 1/3] END XGB__learning_rate=0.5, XGB__max_depth=5, XGB__n_estimators=100, pca__n_components=20;, score=0.904 total time=  24.2s\n",
      "[CV 2/3] END XGB__learning_rate=0.5, XGB__max_depth=5, XGB__n_estimators=100, pca__n_components=20;, score=0.906 total time=  22.6s\n",
      "[CV 3/3] END XGB__learning_rate=0.5, XGB__max_depth=5, XGB__n_estimators=100, pca__n_components=20;, score=0.905 total time=  21.9s\n",
      "[CV 1/3] END XGB__learning_rate=0.5, XGB__max_depth=5, XGB__n_estimators=500, pca__n_components=5;, score=0.860 total time=  17.7s\n",
      "[CV 2/3] END XGB__learning_rate=0.5, XGB__max_depth=5, XGB__n_estimators=500, pca__n_components=5;, score=0.866 total time=  17.9s\n",
      "[CV 3/3] END XGB__learning_rate=0.5, XGB__max_depth=5, XGB__n_estimators=500, pca__n_components=5;, score=0.863 total time=  15.3s\n",
      "[CV 1/3] END XGB__learning_rate=0.5, XGB__max_depth=5, XGB__n_estimators=500, pca__n_components=10;, score=0.890 total time=  32.7s\n",
      "[CV 2/3] END XGB__learning_rate=0.5, XGB__max_depth=5, XGB__n_estimators=500, pca__n_components=10;, score=0.891 total time=  27.7s\n",
      "[CV 3/3] END XGB__learning_rate=0.5, XGB__max_depth=5, XGB__n_estimators=500, pca__n_components=10;, score=0.894 total time=  30.3s\n",
      "[CV 1/3] END XGB__learning_rate=0.5, XGB__max_depth=5, XGB__n_estimators=500, pca__n_components=20;, score=0.910 total time= 1.0min\n",
      "[CV 2/3] END XGB__learning_rate=0.5, XGB__max_depth=5, XGB__n_estimators=500, pca__n_components=20;, score=0.912 total time=  57.3s\n"
     ]
    },
    {
     "name": "stdout",
     "output_type": "stream",
     "text": [
      "[CV 3/3] END XGB__learning_rate=0.5, XGB__max_depth=5, XGB__n_estimators=500, pca__n_components=20;, score=0.913 total time= 1.0min\n",
      "[CV 1/3] END XGB__learning_rate=0.5, XGB__max_depth=5, XGB__n_estimators=800, pca__n_components=5;, score=0.856 total time=  30.0s\n",
      "[CV 2/3] END XGB__learning_rate=0.5, XGB__max_depth=5, XGB__n_estimators=800, pca__n_components=5;, score=0.868 total time=  27.0s\n",
      "[CV 3/3] END XGB__learning_rate=0.5, XGB__max_depth=5, XGB__n_estimators=800, pca__n_components=5;, score=0.864 total time=  27.1s\n",
      "[CV 1/3] END XGB__learning_rate=0.5, XGB__max_depth=5, XGB__n_estimators=800, pca__n_components=10;, score=0.890 total time=  50.1s\n",
      "[CV 2/3] END XGB__learning_rate=0.5, XGB__max_depth=5, XGB__n_estimators=800, pca__n_components=10;, score=0.893 total time=  46.3s\n",
      "[CV 3/3] END XGB__learning_rate=0.5, XGB__max_depth=5, XGB__n_estimators=800, pca__n_components=10;, score=0.894 total time=  49.1s\n",
      "[CV 1/3] END XGB__learning_rate=0.5, XGB__max_depth=5, XGB__n_estimators=800, pca__n_components=20;, score=0.912 total time= 1.4min\n",
      "[CV 2/3] END XGB__learning_rate=0.5, XGB__max_depth=5, XGB__n_estimators=800, pca__n_components=20;, score=0.914 total time= 1.4min\n",
      "[CV 3/3] END XGB__learning_rate=0.5, XGB__max_depth=5, XGB__n_estimators=800, pca__n_components=20;, score=0.913 total time= 1.4min\n",
      "[CV 1/3] END XGB__learning_rate=0.5, XGB__max_depth=10, XGB__n_estimators=100, pca__n_components=5;, score=0.866 total time=   8.3s\n",
      "[CV 2/3] END XGB__learning_rate=0.5, XGB__max_depth=10, XGB__n_estimators=100, pca__n_components=5;, score=0.871 total time=  10.0s\n",
      "[CV 3/3] END XGB__learning_rate=0.5, XGB__max_depth=10, XGB__n_estimators=100, pca__n_components=5;, score=0.869 total time=   8.2s\n",
      "[CV 1/3] END XGB__learning_rate=0.5, XGB__max_depth=10, XGB__n_estimators=100, pca__n_components=10;, score=0.893 total time=  15.7s\n",
      "[CV 2/3] END XGB__learning_rate=0.5, XGB__max_depth=10, XGB__n_estimators=100, pca__n_components=10;, score=0.897 total time=  13.8s\n",
      "[CV 3/3] END XGB__learning_rate=0.5, XGB__max_depth=10, XGB__n_estimators=100, pca__n_components=10;, score=0.898 total time=  14.0s\n",
      "[CV 1/3] END XGB__learning_rate=0.5, XGB__max_depth=10, XGB__n_estimators=100, pca__n_components=20;, score=0.911 total time=  29.5s\n",
      "[CV 2/3] END XGB__learning_rate=0.5, XGB__max_depth=10, XGB__n_estimators=100, pca__n_components=20;, score=0.914 total time=  30.1s\n",
      "[CV 3/3] END XGB__learning_rate=0.5, XGB__max_depth=10, XGB__n_estimators=100, pca__n_components=20;, score=0.913 total time=  31.4s\n",
      "[CV 1/3] END XGB__learning_rate=0.5, XGB__max_depth=10, XGB__n_estimators=500, pca__n_components=5;, score=0.860 total time=  35.4s\n",
      "[CV 2/3] END XGB__learning_rate=0.5, XGB__max_depth=10, XGB__n_estimators=500, pca__n_components=5;, score=0.871 total time=  28.8s\n",
      "[CV 3/3] END XGB__learning_rate=0.5, XGB__max_depth=10, XGB__n_estimators=500, pca__n_components=5;, score=0.868 total time=  33.7s\n",
      "[CV 1/3] END XGB__learning_rate=0.5, XGB__max_depth=10, XGB__n_estimators=500, pca__n_components=10;, score=0.896 total time=  50.0s\n",
      "[CV 2/3] END XGB__learning_rate=0.5, XGB__max_depth=10, XGB__n_estimators=500, pca__n_components=10;, score=0.900 total time=  42.4s\n",
      "[CV 3/3] END XGB__learning_rate=0.5, XGB__max_depth=10, XGB__n_estimators=500, pca__n_components=10;, score=0.901 total time=  45.2s\n",
      "[CV 1/3] END XGB__learning_rate=0.5, XGB__max_depth=10, XGB__n_estimators=500, pca__n_components=20;, score=0.914 total time= 1.1min\n",
      "[CV 2/3] END XGB__learning_rate=0.5, XGB__max_depth=10, XGB__n_estimators=500, pca__n_components=20;, score=0.916 total time= 1.4min\n",
      "[CV 3/3] END XGB__learning_rate=0.5, XGB__max_depth=10, XGB__n_estimators=500, pca__n_components=20;, score=0.914 total time= 1.3min\n",
      "[CV 1/3] END XGB__learning_rate=0.5, XGB__max_depth=10, XGB__n_estimators=800, pca__n_components=5;, score=0.864 total time=  45.5s\n",
      "[CV 2/3] END XGB__learning_rate=0.5, XGB__max_depth=10, XGB__n_estimators=800, pca__n_components=5;, score=0.871 total time=  43.0s\n",
      "[CV 3/3] END XGB__learning_rate=0.5, XGB__max_depth=10, XGB__n_estimators=800, pca__n_components=5;, score=0.867 total time=  54.1s\n",
      "[CV 1/3] END XGB__learning_rate=0.5, XGB__max_depth=10, XGB__n_estimators=800, pca__n_components=10;, score=0.893 total time=  58.6s\n",
      "[CV 2/3] END XGB__learning_rate=0.5, XGB__max_depth=10, XGB__n_estimators=800, pca__n_components=10;, score=0.900 total time=  59.7s\n",
      "[CV 3/3] END XGB__learning_rate=0.5, XGB__max_depth=10, XGB__n_estimators=800, pca__n_components=10;, score=0.900 total time=  54.5s\n",
      "[CV 1/3] END XGB__learning_rate=0.5, XGB__max_depth=10, XGB__n_estimators=800, pca__n_components=20;, score=0.911 total time= 1.6min\n",
      "[CV 2/3] END XGB__learning_rate=0.5, XGB__max_depth=10, XGB__n_estimators=800, pca__n_components=20;, score=0.915 total time= 1.6min\n",
      "[CV 3/3] END XGB__learning_rate=0.5, XGB__max_depth=10, XGB__n_estimators=800, pca__n_components=20;, score=0.912 total time= 1.6min\n"
     ]
    },
    {
     "data": {
      "text/plain": [
       "0.8155903621185471"
      ]
     },
     "execution_count": 284,
     "metadata": {},
     "output_type": "execute_result"
    }
   ],
   "source": [
    "stratified_kfold = StratifiedKFold(n_splits=3,\n",
    "                                       shuffle=True,\n",
    "                                       random_state=77)\n",
    "\n",
    "pipeline = imbpipeline(steps=[('scaler', scaler),\n",
    "                              ('pca', pca),\n",
    "                              ('smote', SMOTEEN),\n",
    "                              ('XGB', XGBClassifier())])\n",
    "\n",
    "params = {\n",
    "    'XGB__n_estimators': [100, 500, 800],\n",
    "    'XGB__max_depth': [3, 5, 10],\n",
    "    'XGB__learning_rate': [0.1, 0.5],\n",
    "    'pca__n_components': [5, 10, 20]\n",
    "    }\n",
    "\n",
    "search_XGB = GridSearchCV(pipeline, \n",
    "                          params, \n",
    "                          scoring='roc_auc', \n",
    "                          cv=stratified_kfold, \n",
    "                          verbose=3,\n",
    "                        #n_jobs=3\n",
    "                         ) \n",
    "\n",
    "search_XGB.fit(X_train, y_train) \n",
    "accuracy_score(y_test, search_XGB.predict(X_test))"
   ]
  },
  {
   "cell_type": "markdown",
   "metadata": {},
   "source": [
    "Achieving scores of classification, saving accuracy, recall and F1 score in data frame:"
   ]
  },
  {
   "cell_type": "markdown",
   "metadata": {},
   "source": [
    "Best hyperparameters:"
   ]
  },
  {
   "cell_type": "code",
   "execution_count": 285,
   "metadata": {},
   "outputs": [
    {
     "data": {
      "text/plain": [
       "{'XGB__learning_rate': 0.1,\n",
       " 'XGB__max_depth': 10,\n",
       " 'XGB__n_estimators': 500,\n",
       " 'pca__n_components': 20}"
      ]
     },
     "execution_count": 285,
     "metadata": {},
     "output_type": "execute_result"
    }
   ],
   "source": [
    "search_XGB.best_params_"
   ]
  },
  {
   "cell_type": "code",
   "execution_count": 286,
   "metadata": {},
   "outputs": [],
   "source": [
    "#XGBClassifier().get_params().keys()"
   ]
  },
  {
   "cell_type": "code",
   "execution_count": 287,
   "metadata": {},
   "outputs": [
    {
     "data": {
      "text/plain": [
       "array([0.81814827, 0.8433423 , 0.8663882 , 0.8423512 , 0.87293739,\n",
       "       0.89460945, 0.84606465, 0.87772284, 0.90008461, 0.84032295,\n",
       "       0.87218937, 0.89291861, 0.85804679, 0.88999013, 0.90896097,\n",
       "       0.86083837, 0.89276161, 0.9122498 , 0.86490965, 0.8947273 ,\n",
       "       0.91238036, 0.87090103, 0.90015782, 0.91644698, 0.87122343,\n",
       "       0.89984058, 0.91609685, 0.84118567, 0.8721394 , 0.89191442,\n",
       "       0.85291425, 0.88541865, 0.90549588, 0.85539647, 0.88527059,\n",
       "       0.90759859, 0.85603816, 0.88531402, 0.90509017, 0.86314625,\n",
       "       0.891598  , 0.91146266, 0.86276763, 0.89220987, 0.91328466,\n",
       "       0.86857464, 0.89596866, 0.91276622, 0.86598245, 0.89888359,\n",
       "       0.91459415, 0.8673686 , 0.89776334, 0.91266936])"
      ]
     },
     "execution_count": 287,
     "metadata": {},
     "output_type": "execute_result"
    }
   ],
   "source": [
    "search_XGB.cv_results_[\"mean_test_score\"]"
   ]
  },
  {
   "cell_type": "code",
   "execution_count": 288,
   "metadata": {},
   "outputs": [
    {
     "data": {
      "text/plain": [
       "0.8155903621185471"
      ]
     },
     "execution_count": 288,
     "metadata": {},
     "output_type": "execute_result"
    }
   ],
   "source": [
    "accuracy_score(y_test, search_XGB.predict(X_test))"
   ]
  },
  {
   "cell_type": "code",
   "execution_count": 289,
   "metadata": {},
   "outputs": [],
   "source": [
    "y_pred_XGB = search_XGB.best_estimator_.predict(X_test)\n",
    "test_score = search_XGB.score(X_test, y_test)\n",
    "cv_score = search_XGB.best_score_"
   ]
  },
  {
   "cell_type": "code",
   "execution_count": 290,
   "metadata": {},
   "outputs": [
    {
     "name": "stdout",
     "output_type": "stream",
     "text": [
      "Cross-validation score: 0.9164469813848809\n",
      "Test score: 0.8862855455335973\n",
      "XGBClassifier:\n",
      "{'XGB__learning_rate': 0.1, 'XGB__max_depth': 10, 'XGB__n_estimators': 500, 'pca__n_components': 20}\n",
      "Results on test: 0.8155903621185471\n",
      "Results on train: 0.8821389683270913\n"
     ]
    }
   ],
   "source": [
    "print(f'Cross-validation score: {cv_score}\\nTest score: {test_score}')\n",
    "print(\"XGBClassifier:\")\n",
    "print(search_XGB.best_params_)\n",
    "print(f'Results on test: {search_XGB.best_estimator_.score(X_test, y_test)}')\n",
    "print(f'Results on train: {search_XGB.best_estimator_.score(X_train, y_train)}')"
   ]
  },
  {
   "cell_type": "code",
   "execution_count": 364,
   "metadata": {},
   "outputs": [
    {
     "name": "stdout",
     "output_type": "stream",
     "text": [
      "              precision    recall  f1-score   support\n",
      "\n",
      "           0       0.82      0.90      0.86     22550\n",
      "           1       0.80      0.67      0.73     13267\n",
      "\n",
      "    accuracy                           0.82     35817\n",
      "   macro avg       0.81      0.79      0.79     35817\n",
      "weighted avg       0.81      0.82      0.81     35817\n",
      "\n"
     ]
    }
   ],
   "source": [
    "print(classification_report(y_test, y_pred_XGB))\n",
    "A_report_xgb = pd.DataFrame(classification_report(y_test, y_pred_XGB, output_dict=True))"
   ]
  },
  {
   "cell_type": "code",
   "execution_count": 365,
   "metadata": {},
   "outputs": [],
   "source": [
    "for i, name in enumerate(A_report_xgb.columns):\n",
    "  A_report_xgb = A_report_xgb.rename(columns={(A_report_xgb.iloc[:,i].name): ('XGB_'+A_report_xgb.iloc[:,i].name)})\n"
   ]
  },
  {
   "cell_type": "code",
   "execution_count": 366,
   "metadata": {},
   "outputs": [
    {
     "data": {
      "text/html": [
       "<div>\n",
       "<style scoped>\n",
       "    .dataframe tbody tr th:only-of-type {\n",
       "        vertical-align: middle;\n",
       "    }\n",
       "\n",
       "    .dataframe tbody tr th {\n",
       "        vertical-align: top;\n",
       "    }\n",
       "\n",
       "    .dataframe thead th {\n",
       "        text-align: right;\n",
       "    }\n",
       "</style>\n",
       "<table border=\"1\" class=\"dataframe\">\n",
       "  <thead>\n",
       "    <tr style=\"text-align: right;\">\n",
       "      <th></th>\n",
       "      <th>XGB_0</th>\n",
       "      <th>XGB_1</th>\n",
       "      <th>XGB_accuracy</th>\n",
       "      <th>XGB_macro avg</th>\n",
       "      <th>XGB_weighted avg</th>\n",
       "    </tr>\n",
       "  </thead>\n",
       "  <tbody>\n",
       "    <tr>\n",
       "      <th>precision</th>\n",
       "      <td>0.822499</td>\n",
       "      <td>0.800198</td>\n",
       "      <td>0.81559</td>\n",
       "      <td>0.811349</td>\n",
       "      <td>0.814239</td>\n",
       "    </tr>\n",
       "    <tr>\n",
       "      <th>recall</th>\n",
       "      <td>0.901685</td>\n",
       "      <td>0.669255</td>\n",
       "      <td>0.81559</td>\n",
       "      <td>0.785470</td>\n",
       "      <td>0.815590</td>\n",
       "    </tr>\n",
       "    <tr>\n",
       "      <th>f1-score</th>\n",
       "      <td>0.860274</td>\n",
       "      <td>0.728892</td>\n",
       "      <td>0.81559</td>\n",
       "      <td>0.794583</td>\n",
       "      <td>0.811609</td>\n",
       "    </tr>\n",
       "    <tr>\n",
       "      <th>support</th>\n",
       "      <td>22550.000000</td>\n",
       "      <td>13267.000000</td>\n",
       "      <td>0.81559</td>\n",
       "      <td>35817.000000</td>\n",
       "      <td>35817.000000</td>\n",
       "    </tr>\n",
       "  </tbody>\n",
       "</table>\n",
       "</div>"
      ],
      "text/plain": [
       "                  XGB_0         XGB_1  XGB_accuracy  XGB_macro avg  \\\n",
       "precision      0.822499      0.800198       0.81559       0.811349   \n",
       "recall         0.901685      0.669255       0.81559       0.785470   \n",
       "f1-score       0.860274      0.728892       0.81559       0.794583   \n",
       "support    22550.000000  13267.000000       0.81559   35817.000000   \n",
       "\n",
       "           XGB_weighted avg  \n",
       "precision          0.814239  \n",
       "recall             0.815590  \n",
       "f1-score           0.811609  \n",
       "support        35817.000000  "
      ]
     },
     "execution_count": 366,
     "metadata": {},
     "output_type": "execute_result"
    }
   ],
   "source": [
    "A_report_xgb"
   ]
  },
  {
   "cell_type": "markdown",
   "metadata": {},
   "source": [
    "LogisticRegression algorythm with RandomizedGridSearch in pipeline, scaling reducing, ballancing:"
   ]
  },
  {
   "cell_type": "code",
   "execution_count": 293,
   "metadata": {},
   "outputs": [
    {
     "name": "stdout",
     "output_type": "stream",
     "text": [
      "Fitting 5 folds for each of 54 candidates, totalling 270 fits\n",
      "[CV 1/5] END LR__C=20, LR__max_iter=100, LR__multi_class=auto, LR__penalty=l2, LR__random_state=11, LR__solver=saga, pca__n_components=5;, score=0.765 total time=   2.5s\n",
      "[CV 2/5] END LR__C=20, LR__max_iter=100, LR__multi_class=auto, LR__penalty=l2, LR__random_state=11, LR__solver=saga, pca__n_components=5;, score=0.764 total time=   2.7s\n",
      "[CV 3/5] END LR__C=20, LR__max_iter=100, LR__multi_class=auto, LR__penalty=l2, LR__random_state=11, LR__solver=saga, pca__n_components=5;, score=0.764 total time=   2.8s\n",
      "[CV 4/5] END LR__C=20, LR__max_iter=100, LR__multi_class=auto, LR__penalty=l2, LR__random_state=11, LR__solver=saga, pca__n_components=5;, score=0.769 total time=   2.7s\n",
      "[CV 5/5] END LR__C=20, LR__max_iter=100, LR__multi_class=auto, LR__penalty=l2, LR__random_state=11, LR__solver=saga, pca__n_components=5;, score=0.773 total time=   2.8s\n",
      "[CV 1/5] END LR__C=20, LR__max_iter=100, LR__multi_class=auto, LR__penalty=l2, LR__random_state=11, LR__solver=saga, pca__n_components=10;, score=0.781 total time=   8.6s\n",
      "[CV 2/5] END LR__C=20, LR__max_iter=100, LR__multi_class=auto, LR__penalty=l2, LR__random_state=11, LR__solver=saga, pca__n_components=10;, score=0.786 total time=   6.7s\n",
      "[CV 3/5] END LR__C=20, LR__max_iter=100, LR__multi_class=auto, LR__penalty=l2, LR__random_state=11, LR__solver=saga, pca__n_components=10;, score=0.782 total time=   7.0s\n",
      "[CV 4/5] END LR__C=20, LR__max_iter=100, LR__multi_class=auto, LR__penalty=l2, LR__random_state=11, LR__solver=saga, pca__n_components=10;, score=0.784 total time=   6.3s\n",
      "[CV 5/5] END LR__C=20, LR__max_iter=100, LR__multi_class=auto, LR__penalty=l2, LR__random_state=11, LR__solver=saga, pca__n_components=10;, score=0.785 total time=   6.8s\n"
     ]
    },
    {
     "name": "stderr",
     "output_type": "stream",
     "text": [
      "/home/hybrid/.local/lib/python3.8/site-packages/sklearn/linear_model/_sag.py:350: ConvergenceWarning: The max_iter was reached which means the coef_ did not converge\n",
      "  warnings.warn(\n"
     ]
    },
    {
     "name": "stdout",
     "output_type": "stream",
     "text": [
      "[CV 1/5] END LR__C=20, LR__max_iter=100, LR__multi_class=auto, LR__penalty=l2, LR__random_state=11, LR__solver=saga, pca__n_components=20;, score=0.832 total time=  23.6s\n"
     ]
    },
    {
     "name": "stderr",
     "output_type": "stream",
     "text": [
      "/home/hybrid/.local/lib/python3.8/site-packages/sklearn/linear_model/_sag.py:350: ConvergenceWarning: The max_iter was reached which means the coef_ did not converge\n",
      "  warnings.warn(\n"
     ]
    },
    {
     "name": "stdout",
     "output_type": "stream",
     "text": [
      "[CV 2/5] END LR__C=20, LR__max_iter=100, LR__multi_class=auto, LR__penalty=l2, LR__random_state=11, LR__solver=saga, pca__n_components=20;, score=0.833 total time=  23.3s\n"
     ]
    },
    {
     "name": "stderr",
     "output_type": "stream",
     "text": [
      "/home/hybrid/.local/lib/python3.8/site-packages/sklearn/linear_model/_sag.py:350: ConvergenceWarning: The max_iter was reached which means the coef_ did not converge\n",
      "  warnings.warn(\n"
     ]
    },
    {
     "name": "stdout",
     "output_type": "stream",
     "text": [
      "[CV 3/5] END LR__C=20, LR__max_iter=100, LR__multi_class=auto, LR__penalty=l2, LR__random_state=11, LR__solver=saga, pca__n_components=20;, score=0.841 total time=  23.4s\n"
     ]
    },
    {
     "name": "stderr",
     "output_type": "stream",
     "text": [
      "/home/hybrid/.local/lib/python3.8/site-packages/sklearn/linear_model/_sag.py:350: ConvergenceWarning: The max_iter was reached which means the coef_ did not converge\n",
      "  warnings.warn(\n"
     ]
    },
    {
     "name": "stdout",
     "output_type": "stream",
     "text": [
      "[CV 4/5] END LR__C=20, LR__max_iter=100, LR__multi_class=auto, LR__penalty=l2, LR__random_state=11, LR__solver=saga, pca__n_components=20;, score=0.835 total time=  23.2s\n"
     ]
    },
    {
     "name": "stderr",
     "output_type": "stream",
     "text": [
      "/home/hybrid/.local/lib/python3.8/site-packages/sklearn/linear_model/_sag.py:350: ConvergenceWarning: The max_iter was reached which means the coef_ did not converge\n",
      "  warnings.warn(\n"
     ]
    },
    {
     "name": "stdout",
     "output_type": "stream",
     "text": [
      "[CV 5/5] END LR__C=20, LR__max_iter=100, LR__multi_class=auto, LR__penalty=l2, LR__random_state=11, LR__solver=saga, pca__n_components=20;, score=0.836 total time=  23.5s\n",
      "[CV 1/5] END LR__C=20, LR__max_iter=100, LR__multi_class=auto, LR__penalty=l1, LR__random_state=11, LR__solver=saga, pca__n_components=5;, score=0.767 total time=   2.5s\n",
      "[CV 2/5] END LR__C=20, LR__max_iter=100, LR__multi_class=auto, LR__penalty=l1, LR__random_state=11, LR__solver=saga, pca__n_components=5;, score=0.764 total time=   2.5s\n",
      "[CV 3/5] END LR__C=20, LR__max_iter=100, LR__multi_class=auto, LR__penalty=l1, LR__random_state=11, LR__solver=saga, pca__n_components=5;, score=0.770 total time=   2.5s\n",
      "[CV 4/5] END LR__C=20, LR__max_iter=100, LR__multi_class=auto, LR__penalty=l1, LR__random_state=11, LR__solver=saga, pca__n_components=5;, score=0.767 total time=   2.5s\n",
      "[CV 5/5] END LR__C=20, LR__max_iter=100, LR__multi_class=auto, LR__penalty=l1, LR__random_state=11, LR__solver=saga, pca__n_components=5;, score=0.771 total time=   2.5s\n",
      "[CV 1/5] END LR__C=20, LR__max_iter=100, LR__multi_class=auto, LR__penalty=l1, LR__random_state=11, LR__solver=saga, pca__n_components=10;, score=0.780 total time=   6.8s\n",
      "[CV 2/5] END LR__C=20, LR__max_iter=100, LR__multi_class=auto, LR__penalty=l1, LR__random_state=11, LR__solver=saga, pca__n_components=10;, score=0.786 total time=   7.8s\n",
      "[CV 3/5] END LR__C=20, LR__max_iter=100, LR__multi_class=auto, LR__penalty=l1, LR__random_state=11, LR__solver=saga, pca__n_components=10;, score=0.786 total time=   7.5s\n",
      "[CV 4/5] END LR__C=20, LR__max_iter=100, LR__multi_class=auto, LR__penalty=l1, LR__random_state=11, LR__solver=saga, pca__n_components=10;, score=0.788 total time=   6.9s\n",
      "[CV 5/5] END LR__C=20, LR__max_iter=100, LR__multi_class=auto, LR__penalty=l1, LR__random_state=11, LR__solver=saga, pca__n_components=10;, score=0.784 total time=   6.8s\n"
     ]
    },
    {
     "name": "stderr",
     "output_type": "stream",
     "text": [
      "/home/hybrid/.local/lib/python3.8/site-packages/sklearn/linear_model/_sag.py:350: ConvergenceWarning: The max_iter was reached which means the coef_ did not converge\n",
      "  warnings.warn(\n"
     ]
    },
    {
     "name": "stdout",
     "output_type": "stream",
     "text": [
      "[CV 1/5] END LR__C=20, LR__max_iter=100, LR__multi_class=auto, LR__penalty=l1, LR__random_state=11, LR__solver=saga, pca__n_components=20;, score=0.835 total time=  24.8s\n"
     ]
    },
    {
     "name": "stderr",
     "output_type": "stream",
     "text": [
      "/home/hybrid/.local/lib/python3.8/site-packages/sklearn/linear_model/_sag.py:350: ConvergenceWarning: The max_iter was reached which means the coef_ did not converge\n",
      "  warnings.warn(\n"
     ]
    },
    {
     "name": "stdout",
     "output_type": "stream",
     "text": [
      "[CV 2/5] END LR__C=20, LR__max_iter=100, LR__multi_class=auto, LR__penalty=l1, LR__random_state=11, LR__solver=saga, pca__n_components=20;, score=0.834 total time=  24.2s\n"
     ]
    },
    {
     "name": "stderr",
     "output_type": "stream",
     "text": [
      "/home/hybrid/.local/lib/python3.8/site-packages/sklearn/linear_model/_sag.py:350: ConvergenceWarning: The max_iter was reached which means the coef_ did not converge\n",
      "  warnings.warn(\n"
     ]
    },
    {
     "name": "stdout",
     "output_type": "stream",
     "text": [
      "[CV 3/5] END LR__C=20, LR__max_iter=100, LR__multi_class=auto, LR__penalty=l1, LR__random_state=11, LR__solver=saga, pca__n_components=20;, score=0.839 total time=  24.1s\n"
     ]
    },
    {
     "name": "stderr",
     "output_type": "stream",
     "text": [
      "/home/hybrid/.local/lib/python3.8/site-packages/sklearn/linear_model/_sag.py:350: ConvergenceWarning: The max_iter was reached which means the coef_ did not converge\n",
      "  warnings.warn(\n"
     ]
    },
    {
     "name": "stdout",
     "output_type": "stream",
     "text": [
      "[CV 4/5] END LR__C=20, LR__max_iter=100, LR__multi_class=auto, LR__penalty=l1, LR__random_state=11, LR__solver=saga, pca__n_components=20;, score=0.836 total time=  23.9s\n"
     ]
    },
    {
     "name": "stderr",
     "output_type": "stream",
     "text": [
      "/home/hybrid/.local/lib/python3.8/site-packages/sklearn/linear_model/_sag.py:350: ConvergenceWarning: The max_iter was reached which means the coef_ did not converge\n",
      "  warnings.warn(\n"
     ]
    },
    {
     "name": "stdout",
     "output_type": "stream",
     "text": [
      "[CV 5/5] END LR__C=20, LR__max_iter=100, LR__multi_class=auto, LR__penalty=l1, LR__random_state=11, LR__solver=saga, pca__n_components=20;, score=0.838 total time=  24.0s\n",
      "[CV 1/5] END LR__C=20, LR__max_iter=200, LR__multi_class=auto, LR__penalty=l2, LR__random_state=11, LR__solver=saga, pca__n_components=5;, score=0.762 total time=   2.5s\n",
      "[CV 2/5] END LR__C=20, LR__max_iter=200, LR__multi_class=auto, LR__penalty=l2, LR__random_state=11, LR__solver=saga, pca__n_components=5;, score=0.764 total time=   2.6s\n",
      "[CV 3/5] END LR__C=20, LR__max_iter=200, LR__multi_class=auto, LR__penalty=l2, LR__random_state=11, LR__solver=saga, pca__n_components=5;, score=0.768 total time=   2.5s\n",
      "[CV 4/5] END LR__C=20, LR__max_iter=200, LR__multi_class=auto, LR__penalty=l2, LR__random_state=11, LR__solver=saga, pca__n_components=5;, score=0.765 total time=   2.5s\n",
      "[CV 5/5] END LR__C=20, LR__max_iter=200, LR__multi_class=auto, LR__penalty=l2, LR__random_state=11, LR__solver=saga, pca__n_components=5;, score=0.774 total time=   2.6s\n",
      "[CV 1/5] END LR__C=20, LR__max_iter=200, LR__multi_class=auto, LR__penalty=l2, LR__random_state=11, LR__solver=saga, pca__n_components=10;, score=0.782 total time=   6.9s\n",
      "[CV 2/5] END LR__C=20, LR__max_iter=200, LR__multi_class=auto, LR__penalty=l2, LR__random_state=11, LR__solver=saga, pca__n_components=10;, score=0.783 total time=   6.5s\n",
      "[CV 3/5] END LR__C=20, LR__max_iter=200, LR__multi_class=auto, LR__penalty=l2, LR__random_state=11, LR__solver=saga, pca__n_components=10;, score=0.782 total time=   7.0s\n",
      "[CV 4/5] END LR__C=20, LR__max_iter=200, LR__multi_class=auto, LR__penalty=l2, LR__random_state=11, LR__solver=saga, pca__n_components=10;, score=0.795 total time=   7.2s\n",
      "[CV 5/5] END LR__C=20, LR__max_iter=200, LR__multi_class=auto, LR__penalty=l2, LR__random_state=11, LR__solver=saga, pca__n_components=10;, score=0.788 total time=   7.0s\n"
     ]
    },
    {
     "name": "stderr",
     "output_type": "stream",
     "text": [
      "/home/hybrid/.local/lib/python3.8/site-packages/sklearn/linear_model/_sag.py:350: ConvergenceWarning: The max_iter was reached which means the coef_ did not converge\n",
      "  warnings.warn(\n"
     ]
    },
    {
     "name": "stdout",
     "output_type": "stream",
     "text": [
      "[CV 1/5] END LR__C=20, LR__max_iter=200, LR__multi_class=auto, LR__penalty=l2, LR__random_state=11, LR__solver=saga, pca__n_components=20;, score=0.834 total time=  27.2s\n"
     ]
    },
    {
     "name": "stderr",
     "output_type": "stream",
     "text": [
      "/home/hybrid/.local/lib/python3.8/site-packages/sklearn/linear_model/_sag.py:350: ConvergenceWarning: The max_iter was reached which means the coef_ did not converge\n",
      "  warnings.warn(\n"
     ]
    },
    {
     "name": "stdout",
     "output_type": "stream",
     "text": [
      "[CV 2/5] END LR__C=20, LR__max_iter=200, LR__multi_class=auto, LR__penalty=l2, LR__random_state=11, LR__solver=saga, pca__n_components=20;, score=0.838 total time=  26.9s\n"
     ]
    },
    {
     "name": "stderr",
     "output_type": "stream",
     "text": [
      "/home/hybrid/.local/lib/python3.8/site-packages/sklearn/linear_model/_sag.py:350: ConvergenceWarning: The max_iter was reached which means the coef_ did not converge\n",
      "  warnings.warn(\n"
     ]
    },
    {
     "name": "stdout",
     "output_type": "stream",
     "text": [
      "[CV 3/5] END LR__C=20, LR__max_iter=200, LR__multi_class=auto, LR__penalty=l2, LR__random_state=11, LR__solver=saga, pca__n_components=20;, score=0.837 total time=  26.8s\n"
     ]
    },
    {
     "name": "stderr",
     "output_type": "stream",
     "text": [
      "/home/hybrid/.local/lib/python3.8/site-packages/sklearn/linear_model/_sag.py:350: ConvergenceWarning: The max_iter was reached which means the coef_ did not converge\n",
      "  warnings.warn(\n"
     ]
    },
    {
     "name": "stdout",
     "output_type": "stream",
     "text": [
      "[CV 4/5] END LR__C=20, LR__max_iter=200, LR__multi_class=auto, LR__penalty=l2, LR__random_state=11, LR__solver=saga, pca__n_components=20;, score=0.834 total time=  26.6s\n"
     ]
    },
    {
     "name": "stderr",
     "output_type": "stream",
     "text": [
      "/home/hybrid/.local/lib/python3.8/site-packages/sklearn/linear_model/_sag.py:350: ConvergenceWarning: The max_iter was reached which means the coef_ did not converge\n",
      "  warnings.warn(\n"
     ]
    },
    {
     "name": "stdout",
     "output_type": "stream",
     "text": [
      "[CV 5/5] END LR__C=20, LR__max_iter=200, LR__multi_class=auto, LR__penalty=l2, LR__random_state=11, LR__solver=saga, pca__n_components=20;, score=0.835 total time=  26.8s\n",
      "[CV 1/5] END LR__C=20, LR__max_iter=200, LR__multi_class=auto, LR__penalty=l1, LR__random_state=11, LR__solver=saga, pca__n_components=5;, score=0.765 total time=   2.5s\n",
      "[CV 2/5] END LR__C=20, LR__max_iter=200, LR__multi_class=auto, LR__penalty=l1, LR__random_state=11, LR__solver=saga, pca__n_components=5;, score=0.764 total time=   2.5s\n",
      "[CV 3/5] END LR__C=20, LR__max_iter=200, LR__multi_class=auto, LR__penalty=l1, LR__random_state=11, LR__solver=saga, pca__n_components=5;, score=0.769 total time=   2.5s\n",
      "[CV 4/5] END LR__C=20, LR__max_iter=200, LR__multi_class=auto, LR__penalty=l1, LR__random_state=11, LR__solver=saga, pca__n_components=5;, score=0.766 total time=   2.5s\n",
      "[CV 5/5] END LR__C=20, LR__max_iter=200, LR__multi_class=auto, LR__penalty=l1, LR__random_state=11, LR__solver=saga, pca__n_components=5;, score=0.773 total time=   2.4s\n",
      "[CV 1/5] END LR__C=20, LR__max_iter=200, LR__multi_class=auto, LR__penalty=l1, LR__random_state=11, LR__solver=saga, pca__n_components=10;, score=0.788 total time=   6.5s\n",
      "[CV 2/5] END LR__C=20, LR__max_iter=200, LR__multi_class=auto, LR__penalty=l1, LR__random_state=11, LR__solver=saga, pca__n_components=10;, score=0.785 total time=   7.5s\n",
      "[CV 3/5] END LR__C=20, LR__max_iter=200, LR__multi_class=auto, LR__penalty=l1, LR__random_state=11, LR__solver=saga, pca__n_components=10;, score=0.780 total time=   6.7s\n",
      "[CV 4/5] END LR__C=20, LR__max_iter=200, LR__multi_class=auto, LR__penalty=l1, LR__random_state=11, LR__solver=saga, pca__n_components=10;, score=0.780 total time=   6.8s\n",
      "[CV 5/5] END LR__C=20, LR__max_iter=200, LR__multi_class=auto, LR__penalty=l1, LR__random_state=11, LR__solver=saga, pca__n_components=10;, score=0.789 total time=   6.1s\n"
     ]
    },
    {
     "name": "stderr",
     "output_type": "stream",
     "text": [
      "/home/hybrid/.local/lib/python3.8/site-packages/sklearn/linear_model/_sag.py:350: ConvergenceWarning: The max_iter was reached which means the coef_ did not converge\n",
      "  warnings.warn(\n"
     ]
    },
    {
     "name": "stdout",
     "output_type": "stream",
     "text": [
      "[CV 1/5] END LR__C=20, LR__max_iter=200, LR__multi_class=auto, LR__penalty=l1, LR__random_state=11, LR__solver=saga, pca__n_components=20;, score=0.834 total time=  28.0s\n"
     ]
    },
    {
     "name": "stderr",
     "output_type": "stream",
     "text": [
      "/home/hybrid/.local/lib/python3.8/site-packages/sklearn/linear_model/_sag.py:350: ConvergenceWarning: The max_iter was reached which means the coef_ did not converge\n",
      "  warnings.warn(\n"
     ]
    },
    {
     "name": "stdout",
     "output_type": "stream",
     "text": [
      "[CV 2/5] END LR__C=20, LR__max_iter=200, LR__multi_class=auto, LR__penalty=l1, LR__random_state=11, LR__solver=saga, pca__n_components=20;, score=0.836 total time=  27.9s\n"
     ]
    },
    {
     "name": "stderr",
     "output_type": "stream",
     "text": [
      "/home/hybrid/.local/lib/python3.8/site-packages/sklearn/linear_model/_sag.py:350: ConvergenceWarning: The max_iter was reached which means the coef_ did not converge\n",
      "  warnings.warn(\n"
     ]
    },
    {
     "name": "stdout",
     "output_type": "stream",
     "text": [
      "[CV 3/5] END LR__C=20, LR__max_iter=200, LR__multi_class=auto, LR__penalty=l1, LR__random_state=11, LR__solver=saga, pca__n_components=20;, score=0.836 total time=  27.8s\n"
     ]
    },
    {
     "name": "stderr",
     "output_type": "stream",
     "text": [
      "/home/hybrid/.local/lib/python3.8/site-packages/sklearn/linear_model/_sag.py:350: ConvergenceWarning: The max_iter was reached which means the coef_ did not converge\n",
      "  warnings.warn(\n"
     ]
    },
    {
     "name": "stdout",
     "output_type": "stream",
     "text": [
      "[CV 4/5] END LR__C=20, LR__max_iter=200, LR__multi_class=auto, LR__penalty=l1, LR__random_state=11, LR__solver=saga, pca__n_components=20;, score=0.837 total time=  28.0s\n"
     ]
    },
    {
     "name": "stderr",
     "output_type": "stream",
     "text": [
      "/home/hybrid/.local/lib/python3.8/site-packages/sklearn/linear_model/_sag.py:350: ConvergenceWarning: The max_iter was reached which means the coef_ did not converge\n",
      "  warnings.warn(\n"
     ]
    },
    {
     "name": "stdout",
     "output_type": "stream",
     "text": [
      "[CV 5/5] END LR__C=20, LR__max_iter=200, LR__multi_class=auto, LR__penalty=l1, LR__random_state=11, LR__solver=saga, pca__n_components=20;, score=0.837 total time=  27.9s\n",
      "[CV 1/5] END LR__C=20, LR__max_iter=500, LR__multi_class=auto, LR__penalty=l2, LR__random_state=11, LR__solver=saga, pca__n_components=5;, score=0.766 total time=   2.5s\n",
      "[CV 2/5] END LR__C=20, LR__max_iter=500, LR__multi_class=auto, LR__penalty=l2, LR__random_state=11, LR__solver=saga, pca__n_components=5;, score=0.764 total time=   2.5s\n",
      "[CV 3/5] END LR__C=20, LR__max_iter=500, LR__multi_class=auto, LR__penalty=l2, LR__random_state=11, LR__solver=saga, pca__n_components=5;, score=0.769 total time=   2.6s\n",
      "[CV 4/5] END LR__C=20, LR__max_iter=500, LR__multi_class=auto, LR__penalty=l2, LR__random_state=11, LR__solver=saga, pca__n_components=5;, score=0.768 total time=   2.5s\n",
      "[CV 5/5] END LR__C=20, LR__max_iter=500, LR__multi_class=auto, LR__penalty=l2, LR__random_state=11, LR__solver=saga, pca__n_components=5;, score=0.770 total time=   2.4s\n",
      "[CV 1/5] END LR__C=20, LR__max_iter=500, LR__multi_class=auto, LR__penalty=l2, LR__random_state=11, LR__solver=saga, pca__n_components=10;, score=0.782 total time=   7.3s\n",
      "[CV 2/5] END LR__C=20, LR__max_iter=500, LR__multi_class=auto, LR__penalty=l2, LR__random_state=11, LR__solver=saga, pca__n_components=10;, score=0.786 total time=   9.4s\n",
      "[CV 3/5] END LR__C=20, LR__max_iter=500, LR__multi_class=auto, LR__penalty=l2, LR__random_state=11, LR__solver=saga, pca__n_components=10;, score=0.783 total time=   7.3s\n",
      "[CV 4/5] END LR__C=20, LR__max_iter=500, LR__multi_class=auto, LR__penalty=l2, LR__random_state=11, LR__solver=saga, pca__n_components=10;, score=0.781 total time=   7.0s\n",
      "[CV 5/5] END LR__C=20, LR__max_iter=500, LR__multi_class=auto, LR__penalty=l2, LR__random_state=11, LR__solver=saga, pca__n_components=10;, score=0.784 total time=   7.7s\n"
     ]
    },
    {
     "name": "stderr",
     "output_type": "stream",
     "text": [
      "/home/hybrid/.local/lib/python3.8/site-packages/sklearn/linear_model/_sag.py:350: ConvergenceWarning: The max_iter was reached which means the coef_ did not converge\n",
      "  warnings.warn(\n"
     ]
    },
    {
     "name": "stdout",
     "output_type": "stream",
     "text": [
      "[CV 1/5] END LR__C=20, LR__max_iter=500, LR__multi_class=auto, LR__penalty=l2, LR__random_state=11, LR__solver=saga, pca__n_components=20;, score=0.831 total time=  36.5s\n"
     ]
    },
    {
     "name": "stderr",
     "output_type": "stream",
     "text": [
      "/home/hybrid/.local/lib/python3.8/site-packages/sklearn/linear_model/_sag.py:350: ConvergenceWarning: The max_iter was reached which means the coef_ did not converge\n",
      "  warnings.warn(\n"
     ]
    },
    {
     "name": "stdout",
     "output_type": "stream",
     "text": [
      "[CV 2/5] END LR__C=20, LR__max_iter=500, LR__multi_class=auto, LR__penalty=l2, LR__random_state=11, LR__solver=saga, pca__n_components=20;, score=0.836 total time=  36.6s\n"
     ]
    },
    {
     "name": "stderr",
     "output_type": "stream",
     "text": [
      "/home/hybrid/.local/lib/python3.8/site-packages/sklearn/linear_model/_sag.py:350: ConvergenceWarning: The max_iter was reached which means the coef_ did not converge\n",
      "  warnings.warn(\n"
     ]
    },
    {
     "name": "stdout",
     "output_type": "stream",
     "text": [
      "[CV 3/5] END LR__C=20, LR__max_iter=500, LR__multi_class=auto, LR__penalty=l2, LR__random_state=11, LR__solver=saga, pca__n_components=20;, score=0.841 total time=  36.7s\n"
     ]
    },
    {
     "name": "stderr",
     "output_type": "stream",
     "text": [
      "/home/hybrid/.local/lib/python3.8/site-packages/sklearn/linear_model/_sag.py:350: ConvergenceWarning: The max_iter was reached which means the coef_ did not converge\n",
      "  warnings.warn(\n"
     ]
    },
    {
     "name": "stdout",
     "output_type": "stream",
     "text": [
      "[CV 4/5] END LR__C=20, LR__max_iter=500, LR__multi_class=auto, LR__penalty=l2, LR__random_state=11, LR__solver=saga, pca__n_components=20;, score=0.842 total time=  36.6s\n"
     ]
    },
    {
     "name": "stderr",
     "output_type": "stream",
     "text": [
      "/home/hybrid/.local/lib/python3.8/site-packages/sklearn/linear_model/_sag.py:350: ConvergenceWarning: The max_iter was reached which means the coef_ did not converge\n",
      "  warnings.warn(\n"
     ]
    },
    {
     "name": "stdout",
     "output_type": "stream",
     "text": [
      "[CV 5/5] END LR__C=20, LR__max_iter=500, LR__multi_class=auto, LR__penalty=l2, LR__random_state=11, LR__solver=saga, pca__n_components=20;, score=0.837 total time=  36.4s\n",
      "[CV 1/5] END LR__C=20, LR__max_iter=500, LR__multi_class=auto, LR__penalty=l1, LR__random_state=11, LR__solver=saga, pca__n_components=5;, score=0.760 total time=   2.5s\n",
      "[CV 2/5] END LR__C=20, LR__max_iter=500, LR__multi_class=auto, LR__penalty=l1, LR__random_state=11, LR__solver=saga, pca__n_components=5;, score=0.764 total time=   2.5s\n",
      "[CV 3/5] END LR__C=20, LR__max_iter=500, LR__multi_class=auto, LR__penalty=l1, LR__random_state=11, LR__solver=saga, pca__n_components=5;, score=0.767 total time=   2.5s\n",
      "[CV 4/5] END LR__C=20, LR__max_iter=500, LR__multi_class=auto, LR__penalty=l1, LR__random_state=11, LR__solver=saga, pca__n_components=5;, score=0.767 total time=   2.5s\n",
      "[CV 5/5] END LR__C=20, LR__max_iter=500, LR__multi_class=auto, LR__penalty=l1, LR__random_state=11, LR__solver=saga, pca__n_components=5;, score=0.768 total time=   2.5s\n",
      "[CV 1/5] END LR__C=20, LR__max_iter=500, LR__multi_class=auto, LR__penalty=l1, LR__random_state=11, LR__solver=saga, pca__n_components=10;, score=0.786 total time=   8.4s\n",
      "[CV 2/5] END LR__C=20, LR__max_iter=500, LR__multi_class=auto, LR__penalty=l1, LR__random_state=11, LR__solver=saga, pca__n_components=10;, score=0.784 total time=   6.7s\n",
      "[CV 3/5] END LR__C=20, LR__max_iter=500, LR__multi_class=auto, LR__penalty=l1, LR__random_state=11, LR__solver=saga, pca__n_components=10;, score=0.780 total time=   6.7s\n",
      "[CV 4/5] END LR__C=20, LR__max_iter=500, LR__multi_class=auto, LR__penalty=l1, LR__random_state=11, LR__solver=saga, pca__n_components=10;, score=0.784 total time=   6.6s\n",
      "[CV 5/5] END LR__C=20, LR__max_iter=500, LR__multi_class=auto, LR__penalty=l1, LR__random_state=11, LR__solver=saga, pca__n_components=10;, score=0.784 total time=   6.7s\n"
     ]
    },
    {
     "name": "stderr",
     "output_type": "stream",
     "text": [
      "/home/hybrid/.local/lib/python3.8/site-packages/sklearn/linear_model/_sag.py:350: ConvergenceWarning: The max_iter was reached which means the coef_ did not converge\n",
      "  warnings.warn(\n"
     ]
    },
    {
     "name": "stdout",
     "output_type": "stream",
     "text": [
      "[CV 1/5] END LR__C=20, LR__max_iter=500, LR__multi_class=auto, LR__penalty=l1, LR__random_state=11, LR__solver=saga, pca__n_components=20;, score=0.836 total time=  40.1s\n"
     ]
    },
    {
     "name": "stderr",
     "output_type": "stream",
     "text": [
      "/home/hybrid/.local/lib/python3.8/site-packages/sklearn/linear_model/_sag.py:350: ConvergenceWarning: The max_iter was reached which means the coef_ did not converge\n",
      "  warnings.warn(\n"
     ]
    },
    {
     "name": "stdout",
     "output_type": "stream",
     "text": [
      "[CV 2/5] END LR__C=20, LR__max_iter=500, LR__multi_class=auto, LR__penalty=l1, LR__random_state=11, LR__solver=saga, pca__n_components=20;, score=0.834 total time=  39.7s\n"
     ]
    },
    {
     "name": "stderr",
     "output_type": "stream",
     "text": [
      "/home/hybrid/.local/lib/python3.8/site-packages/sklearn/linear_model/_sag.py:350: ConvergenceWarning: The max_iter was reached which means the coef_ did not converge\n",
      "  warnings.warn(\n"
     ]
    },
    {
     "name": "stdout",
     "output_type": "stream",
     "text": [
      "[CV 3/5] END LR__C=20, LR__max_iter=500, LR__multi_class=auto, LR__penalty=l1, LR__random_state=11, LR__solver=saga, pca__n_components=20;, score=0.840 total time=  40.7s\n"
     ]
    },
    {
     "name": "stderr",
     "output_type": "stream",
     "text": [
      "/home/hybrid/.local/lib/python3.8/site-packages/sklearn/linear_model/_sag.py:350: ConvergenceWarning: The max_iter was reached which means the coef_ did not converge\n",
      "  warnings.warn(\n"
     ]
    },
    {
     "name": "stdout",
     "output_type": "stream",
     "text": [
      "[CV 4/5] END LR__C=20, LR__max_iter=500, LR__multi_class=auto, LR__penalty=l1, LR__random_state=11, LR__solver=saga, pca__n_components=20;, score=0.838 total time=  39.9s\n"
     ]
    },
    {
     "name": "stderr",
     "output_type": "stream",
     "text": [
      "/home/hybrid/.local/lib/python3.8/site-packages/sklearn/linear_model/_sag.py:350: ConvergenceWarning: The max_iter was reached which means the coef_ did not converge\n",
      "  warnings.warn(\n"
     ]
    },
    {
     "name": "stdout",
     "output_type": "stream",
     "text": [
      "[CV 5/5] END LR__C=20, LR__max_iter=500, LR__multi_class=auto, LR__penalty=l1, LR__random_state=11, LR__solver=saga, pca__n_components=20;, score=0.835 total time=  39.6s\n",
      "[CV 1/5] END LR__C=50, LR__max_iter=100, LR__multi_class=auto, LR__penalty=l2, LR__random_state=11, LR__solver=saga, pca__n_components=5;, score=0.764 total time=   2.4s\n",
      "[CV 2/5] END LR__C=50, LR__max_iter=100, LR__multi_class=auto, LR__penalty=l2, LR__random_state=11, LR__solver=saga, pca__n_components=5;, score=0.763 total time=   2.5s\n",
      "[CV 3/5] END LR__C=50, LR__max_iter=100, LR__multi_class=auto, LR__penalty=l2, LR__random_state=11, LR__solver=saga, pca__n_components=5;, score=0.768 total time=   2.4s\n",
      "[CV 4/5] END LR__C=50, LR__max_iter=100, LR__multi_class=auto, LR__penalty=l2, LR__random_state=11, LR__solver=saga, pca__n_components=5;, score=0.766 total time=   2.5s\n",
      "[CV 5/5] END LR__C=50, LR__max_iter=100, LR__multi_class=auto, LR__penalty=l2, LR__random_state=11, LR__solver=saga, pca__n_components=5;, score=0.771 total time=   2.5s\n",
      "[CV 1/5] END LR__C=50, LR__max_iter=100, LR__multi_class=auto, LR__penalty=l2, LR__random_state=11, LR__solver=saga, pca__n_components=10;, score=0.782 total time=   6.9s\n",
      "[CV 2/5] END LR__C=50, LR__max_iter=100, LR__multi_class=auto, LR__penalty=l2, LR__random_state=11, LR__solver=saga, pca__n_components=10;, score=0.782 total time=   6.6s\n",
      "[CV 3/5] END LR__C=50, LR__max_iter=100, LR__multi_class=auto, LR__penalty=l2, LR__random_state=11, LR__solver=saga, pca__n_components=10;, score=0.784 total time=   6.9s\n",
      "[CV 4/5] END LR__C=50, LR__max_iter=100, LR__multi_class=auto, LR__penalty=l2, LR__random_state=11, LR__solver=saga, pca__n_components=10;, score=0.789 total time=   7.2s\n",
      "[CV 5/5] END LR__C=50, LR__max_iter=100, LR__multi_class=auto, LR__penalty=l2, LR__random_state=11, LR__solver=saga, pca__n_components=10;, score=0.788 total time=   7.0s\n"
     ]
    },
    {
     "name": "stderr",
     "output_type": "stream",
     "text": [
      "/home/hybrid/.local/lib/python3.8/site-packages/sklearn/linear_model/_sag.py:350: ConvergenceWarning: The max_iter was reached which means the coef_ did not converge\n",
      "  warnings.warn(\n"
     ]
    },
    {
     "name": "stdout",
     "output_type": "stream",
     "text": [
      "[CV 1/5] END LR__C=50, LR__max_iter=100, LR__multi_class=auto, LR__penalty=l2, LR__random_state=11, LR__solver=saga, pca__n_components=20;, score=0.834 total time=  23.5s\n"
     ]
    },
    {
     "name": "stderr",
     "output_type": "stream",
     "text": [
      "/home/hybrid/.local/lib/python3.8/site-packages/sklearn/linear_model/_sag.py:350: ConvergenceWarning: The max_iter was reached which means the coef_ did not converge\n",
      "  warnings.warn(\n"
     ]
    },
    {
     "name": "stdout",
     "output_type": "stream",
     "text": [
      "[CV 2/5] END LR__C=50, LR__max_iter=100, LR__multi_class=auto, LR__penalty=l2, LR__random_state=11, LR__solver=saga, pca__n_components=20;, score=0.833 total time=  24.7s\n"
     ]
    },
    {
     "name": "stderr",
     "output_type": "stream",
     "text": [
      "/home/hybrid/.local/lib/python3.8/site-packages/sklearn/linear_model/_sag.py:350: ConvergenceWarning: The max_iter was reached which means the coef_ did not converge\n",
      "  warnings.warn(\n"
     ]
    },
    {
     "name": "stdout",
     "output_type": "stream",
     "text": [
      "[CV 3/5] END LR__C=50, LR__max_iter=100, LR__multi_class=auto, LR__penalty=l2, LR__random_state=11, LR__solver=saga, pca__n_components=20;, score=0.836 total time=  23.8s\n"
     ]
    },
    {
     "name": "stderr",
     "output_type": "stream",
     "text": [
      "/home/hybrid/.local/lib/python3.8/site-packages/sklearn/linear_model/_sag.py:350: ConvergenceWarning: The max_iter was reached which means the coef_ did not converge\n",
      "  warnings.warn(\n"
     ]
    },
    {
     "name": "stdout",
     "output_type": "stream",
     "text": [
      "[CV 4/5] END LR__C=50, LR__max_iter=100, LR__multi_class=auto, LR__penalty=l2, LR__random_state=11, LR__solver=saga, pca__n_components=20;, score=0.835 total time=  23.3s\n"
     ]
    },
    {
     "name": "stderr",
     "output_type": "stream",
     "text": [
      "/home/hybrid/.local/lib/python3.8/site-packages/sklearn/linear_model/_sag.py:350: ConvergenceWarning: The max_iter was reached which means the coef_ did not converge\n",
      "  warnings.warn(\n"
     ]
    },
    {
     "name": "stdout",
     "output_type": "stream",
     "text": [
      "[CV 5/5] END LR__C=50, LR__max_iter=100, LR__multi_class=auto, LR__penalty=l2, LR__random_state=11, LR__solver=saga, pca__n_components=20;, score=0.835 total time=  22.8s\n",
      "[CV 1/5] END LR__C=50, LR__max_iter=100, LR__multi_class=auto, LR__penalty=l1, LR__random_state=11, LR__solver=saga, pca__n_components=5;, score=0.766 total time=   2.5s\n",
      "[CV 2/5] END LR__C=50, LR__max_iter=100, LR__multi_class=auto, LR__penalty=l1, LR__random_state=11, LR__solver=saga, pca__n_components=5;, score=0.764 total time=   2.5s\n",
      "[CV 3/5] END LR__C=50, LR__max_iter=100, LR__multi_class=auto, LR__penalty=l1, LR__random_state=11, LR__solver=saga, pca__n_components=5;, score=0.765 total time=   2.5s\n",
      "[CV 4/5] END LR__C=50, LR__max_iter=100, LR__multi_class=auto, LR__penalty=l1, LR__random_state=11, LR__solver=saga, pca__n_components=5;, score=0.767 total time=   2.4s\n",
      "[CV 5/5] END LR__C=50, LR__max_iter=100, LR__multi_class=auto, LR__penalty=l1, LR__random_state=11, LR__solver=saga, pca__n_components=5;, score=0.772 total time=   2.4s\n",
      "[CV 1/5] END LR__C=50, LR__max_iter=100, LR__multi_class=auto, LR__penalty=l1, LR__random_state=11, LR__solver=saga, pca__n_components=10;, score=0.781 total time=   8.0s\n",
      "[CV 2/5] END LR__C=50, LR__max_iter=100, LR__multi_class=auto, LR__penalty=l1, LR__random_state=11, LR__solver=saga, pca__n_components=10;, score=0.789 total time=   6.8s\n",
      "[CV 3/5] END LR__C=50, LR__max_iter=100, LR__multi_class=auto, LR__penalty=l1, LR__random_state=11, LR__solver=saga, pca__n_components=10;, score=0.778 total time=   6.9s\n",
      "[CV 4/5] END LR__C=50, LR__max_iter=100, LR__multi_class=auto, LR__penalty=l1, LR__random_state=11, LR__solver=saga, pca__n_components=10;, score=0.783 total time=   6.7s\n",
      "[CV 5/5] END LR__C=50, LR__max_iter=100, LR__multi_class=auto, LR__penalty=l1, LR__random_state=11, LR__solver=saga, pca__n_components=10;, score=0.783 total time=   6.9s\n"
     ]
    },
    {
     "name": "stderr",
     "output_type": "stream",
     "text": [
      "/home/hybrid/.local/lib/python3.8/site-packages/sklearn/linear_model/_sag.py:350: ConvergenceWarning: The max_iter was reached which means the coef_ did not converge\n",
      "  warnings.warn(\n"
     ]
    },
    {
     "name": "stdout",
     "output_type": "stream",
     "text": [
      "[CV 1/5] END LR__C=50, LR__max_iter=100, LR__multi_class=auto, LR__penalty=l1, LR__random_state=11, LR__solver=saga, pca__n_components=20;, score=0.832 total time=  24.3s\n"
     ]
    },
    {
     "name": "stderr",
     "output_type": "stream",
     "text": [
      "/home/hybrid/.local/lib/python3.8/site-packages/sklearn/linear_model/_sag.py:350: ConvergenceWarning: The max_iter was reached which means the coef_ did not converge\n",
      "  warnings.warn(\n"
     ]
    },
    {
     "name": "stdout",
     "output_type": "stream",
     "text": [
      "[CV 2/5] END LR__C=50, LR__max_iter=100, LR__multi_class=auto, LR__penalty=l1, LR__random_state=11, LR__solver=saga, pca__n_components=20;, score=0.838 total time=  24.1s\n"
     ]
    },
    {
     "name": "stderr",
     "output_type": "stream",
     "text": [
      "/home/hybrid/.local/lib/python3.8/site-packages/sklearn/linear_model/_sag.py:350: ConvergenceWarning: The max_iter was reached which means the coef_ did not converge\n",
      "  warnings.warn(\n"
     ]
    },
    {
     "name": "stdout",
     "output_type": "stream",
     "text": [
      "[CV 3/5] END LR__C=50, LR__max_iter=100, LR__multi_class=auto, LR__penalty=l1, LR__random_state=11, LR__solver=saga, pca__n_components=20;, score=0.835 total time=  24.2s\n"
     ]
    },
    {
     "name": "stderr",
     "output_type": "stream",
     "text": [
      "/home/hybrid/.local/lib/python3.8/site-packages/sklearn/linear_model/_sag.py:350: ConvergenceWarning: The max_iter was reached which means the coef_ did not converge\n",
      "  warnings.warn(\n"
     ]
    },
    {
     "name": "stdout",
     "output_type": "stream",
     "text": [
      "[CV 4/5] END LR__C=50, LR__max_iter=100, LR__multi_class=auto, LR__penalty=l1, LR__random_state=11, LR__solver=saga, pca__n_components=20;, score=0.837 total time=  23.8s\n"
     ]
    },
    {
     "name": "stderr",
     "output_type": "stream",
     "text": [
      "/home/hybrid/.local/lib/python3.8/site-packages/sklearn/linear_model/_sag.py:350: ConvergenceWarning: The max_iter was reached which means the coef_ did not converge\n",
      "  warnings.warn(\n"
     ]
    },
    {
     "name": "stdout",
     "output_type": "stream",
     "text": [
      "[CV 5/5] END LR__C=50, LR__max_iter=100, LR__multi_class=auto, LR__penalty=l1, LR__random_state=11, LR__solver=saga, pca__n_components=20;, score=0.834 total time=  24.1s\n",
      "[CV 1/5] END LR__C=50, LR__max_iter=200, LR__multi_class=auto, LR__penalty=l2, LR__random_state=11, LR__solver=saga, pca__n_components=5;, score=0.765 total time=   2.4s\n",
      "[CV 2/5] END LR__C=50, LR__max_iter=200, LR__multi_class=auto, LR__penalty=l2, LR__random_state=11, LR__solver=saga, pca__n_components=5;, score=0.765 total time=   2.5s\n",
      "[CV 3/5] END LR__C=50, LR__max_iter=200, LR__multi_class=auto, LR__penalty=l2, LR__random_state=11, LR__solver=saga, pca__n_components=5;, score=0.769 total time=   2.5s\n",
      "[CV 4/5] END LR__C=50, LR__max_iter=200, LR__multi_class=auto, LR__penalty=l2, LR__random_state=11, LR__solver=saga, pca__n_components=5;, score=0.767 total time=   2.5s\n",
      "[CV 5/5] END LR__C=50, LR__max_iter=200, LR__multi_class=auto, LR__penalty=l2, LR__random_state=11, LR__solver=saga, pca__n_components=5;, score=0.771 total time=   2.5s\n",
      "[CV 1/5] END LR__C=50, LR__max_iter=200, LR__multi_class=auto, LR__penalty=l2, LR__random_state=11, LR__solver=saga, pca__n_components=10;, score=0.779 total time=   7.4s\n",
      "[CV 2/5] END LR__C=50, LR__max_iter=200, LR__multi_class=auto, LR__penalty=l2, LR__random_state=11, LR__solver=saga, pca__n_components=10;, score=0.787 total time=   6.6s\n",
      "[CV 3/5] END LR__C=50, LR__max_iter=200, LR__multi_class=auto, LR__penalty=l2, LR__random_state=11, LR__solver=saga, pca__n_components=10;, score=0.781 total time=   7.0s\n",
      "[CV 4/5] END LR__C=50, LR__max_iter=200, LR__multi_class=auto, LR__penalty=l2, LR__random_state=11, LR__solver=saga, pca__n_components=10;, score=0.786 total time=   7.0s\n",
      "[CV 5/5] END LR__C=50, LR__max_iter=200, LR__multi_class=auto, LR__penalty=l2, LR__random_state=11, LR__solver=saga, pca__n_components=10;, score=0.787 total time=   7.1s\n"
     ]
    },
    {
     "name": "stderr",
     "output_type": "stream",
     "text": [
      "/home/hybrid/.local/lib/python3.8/site-packages/sklearn/linear_model/_sag.py:350: ConvergenceWarning: The max_iter was reached which means the coef_ did not converge\n",
      "  warnings.warn(\n"
     ]
    },
    {
     "name": "stdout",
     "output_type": "stream",
     "text": [
      "[CV 1/5] END LR__C=50, LR__max_iter=200, LR__multi_class=auto, LR__penalty=l2, LR__random_state=11, LR__solver=saga, pca__n_components=20;, score=0.834 total time=  26.4s\n"
     ]
    },
    {
     "name": "stderr",
     "output_type": "stream",
     "text": [
      "/home/hybrid/.local/lib/python3.8/site-packages/sklearn/linear_model/_sag.py:350: ConvergenceWarning: The max_iter was reached which means the coef_ did not converge\n",
      "  warnings.warn(\n"
     ]
    },
    {
     "name": "stdout",
     "output_type": "stream",
     "text": [
      "[CV 2/5] END LR__C=50, LR__max_iter=200, LR__multi_class=auto, LR__penalty=l2, LR__random_state=11, LR__solver=saga, pca__n_components=20;, score=0.835 total time=  27.4s\n"
     ]
    },
    {
     "name": "stderr",
     "output_type": "stream",
     "text": [
      "/home/hybrid/.local/lib/python3.8/site-packages/sklearn/linear_model/_sag.py:350: ConvergenceWarning: The max_iter was reached which means the coef_ did not converge\n",
      "  warnings.warn(\n"
     ]
    },
    {
     "name": "stdout",
     "output_type": "stream",
     "text": [
      "[CV 3/5] END LR__C=50, LR__max_iter=200, LR__multi_class=auto, LR__penalty=l2, LR__random_state=11, LR__solver=saga, pca__n_components=20;, score=0.836 total time=  27.2s\n"
     ]
    },
    {
     "name": "stderr",
     "output_type": "stream",
     "text": [
      "/home/hybrid/.local/lib/python3.8/site-packages/sklearn/linear_model/_sag.py:350: ConvergenceWarning: The max_iter was reached which means the coef_ did not converge\n",
      "  warnings.warn(\n"
     ]
    },
    {
     "name": "stdout",
     "output_type": "stream",
     "text": [
      "[CV 4/5] END LR__C=50, LR__max_iter=200, LR__multi_class=auto, LR__penalty=l2, LR__random_state=11, LR__solver=saga, pca__n_components=20;, score=0.838 total time=  27.0s\n"
     ]
    },
    {
     "name": "stderr",
     "output_type": "stream",
     "text": [
      "/home/hybrid/.local/lib/python3.8/site-packages/sklearn/linear_model/_sag.py:350: ConvergenceWarning: The max_iter was reached which means the coef_ did not converge\n",
      "  warnings.warn(\n"
     ]
    },
    {
     "name": "stdout",
     "output_type": "stream",
     "text": [
      "[CV 5/5] END LR__C=50, LR__max_iter=200, LR__multi_class=auto, LR__penalty=l2, LR__random_state=11, LR__solver=saga, pca__n_components=20;, score=0.832 total time=  26.1s\n",
      "[CV 1/5] END LR__C=50, LR__max_iter=200, LR__multi_class=auto, LR__penalty=l1, LR__random_state=11, LR__solver=saga, pca__n_components=5;, score=0.764 total time=   2.4s\n",
      "[CV 2/5] END LR__C=50, LR__max_iter=200, LR__multi_class=auto, LR__penalty=l1, LR__random_state=11, LR__solver=saga, pca__n_components=5;, score=0.765 total time=   2.4s\n",
      "[CV 3/5] END LR__C=50, LR__max_iter=200, LR__multi_class=auto, LR__penalty=l1, LR__random_state=11, LR__solver=saga, pca__n_components=5;, score=0.770 total time=   2.6s\n",
      "[CV 4/5] END LR__C=50, LR__max_iter=200, LR__multi_class=auto, LR__penalty=l1, LR__random_state=11, LR__solver=saga, pca__n_components=5;, score=0.767 total time=   2.5s\n",
      "[CV 5/5] END LR__C=50, LR__max_iter=200, LR__multi_class=auto, LR__penalty=l1, LR__random_state=11, LR__solver=saga, pca__n_components=5;, score=0.774 total time=   2.4s\n",
      "[CV 1/5] END LR__C=50, LR__max_iter=200, LR__multi_class=auto, LR__penalty=l1, LR__random_state=11, LR__solver=saga, pca__n_components=10;, score=0.778 total time=   6.6s\n",
      "[CV 2/5] END LR__C=50, LR__max_iter=200, LR__multi_class=auto, LR__penalty=l1, LR__random_state=11, LR__solver=saga, pca__n_components=10;, score=0.784 total time=   7.3s\n",
      "[CV 3/5] END LR__C=50, LR__max_iter=200, LR__multi_class=auto, LR__penalty=l1, LR__random_state=11, LR__solver=saga, pca__n_components=10;, score=0.784 total time=   7.7s\n",
      "[CV 4/5] END LR__C=50, LR__max_iter=200, LR__multi_class=auto, LR__penalty=l1, LR__random_state=11, LR__solver=saga, pca__n_components=10;, score=0.788 total time=   6.5s\n",
      "[CV 5/5] END LR__C=50, LR__max_iter=200, LR__multi_class=auto, LR__penalty=l1, LR__random_state=11, LR__solver=saga, pca__n_components=10;, score=0.782 total time=   7.5s\n"
     ]
    },
    {
     "name": "stderr",
     "output_type": "stream",
     "text": [
      "/home/hybrid/.local/lib/python3.8/site-packages/sklearn/linear_model/_sag.py:350: ConvergenceWarning: The max_iter was reached which means the coef_ did not converge\n",
      "  warnings.warn(\n"
     ]
    },
    {
     "name": "stdout",
     "output_type": "stream",
     "text": [
      "[CV 1/5] END LR__C=50, LR__max_iter=200, LR__multi_class=auto, LR__penalty=l1, LR__random_state=11, LR__solver=saga, pca__n_components=20;, score=0.830 total time=  28.1s\n"
     ]
    },
    {
     "name": "stderr",
     "output_type": "stream",
     "text": [
      "/home/hybrid/.local/lib/python3.8/site-packages/sklearn/linear_model/_sag.py:350: ConvergenceWarning: The max_iter was reached which means the coef_ did not converge\n",
      "  warnings.warn(\n"
     ]
    },
    {
     "name": "stdout",
     "output_type": "stream",
     "text": [
      "[CV 2/5] END LR__C=50, LR__max_iter=200, LR__multi_class=auto, LR__penalty=l1, LR__random_state=11, LR__solver=saga, pca__n_components=20;, score=0.840 total time=  27.8s\n",
      "[CV 3/5] END LR__C=50, LR__max_iter=200, LR__multi_class=auto, LR__penalty=l1, LR__random_state=11, LR__solver=saga, pca__n_components=20;, score=0.835 total time=  21.5s\n"
     ]
    },
    {
     "name": "stderr",
     "output_type": "stream",
     "text": [
      "/home/hybrid/.local/lib/python3.8/site-packages/sklearn/linear_model/_sag.py:350: ConvergenceWarning: The max_iter was reached which means the coef_ did not converge\n",
      "  warnings.warn(\n"
     ]
    },
    {
     "name": "stdout",
     "output_type": "stream",
     "text": [
      "[CV 4/5] END LR__C=50, LR__max_iter=200, LR__multi_class=auto, LR__penalty=l1, LR__random_state=11, LR__solver=saga, pca__n_components=20;, score=0.839 total time=  28.3s\n"
     ]
    },
    {
     "name": "stderr",
     "output_type": "stream",
     "text": [
      "/home/hybrid/.local/lib/python3.8/site-packages/sklearn/linear_model/_sag.py:350: ConvergenceWarning: The max_iter was reached which means the coef_ did not converge\n",
      "  warnings.warn(\n"
     ]
    },
    {
     "name": "stdout",
     "output_type": "stream",
     "text": [
      "[CV 5/5] END LR__C=50, LR__max_iter=200, LR__multi_class=auto, LR__penalty=l1, LR__random_state=11, LR__solver=saga, pca__n_components=20;, score=0.839 total time=  27.9s\n",
      "[CV 1/5] END LR__C=50, LR__max_iter=500, LR__multi_class=auto, LR__penalty=l2, LR__random_state=11, LR__solver=saga, pca__n_components=5;, score=0.766 total time=   2.5s\n",
      "[CV 2/5] END LR__C=50, LR__max_iter=500, LR__multi_class=auto, LR__penalty=l2, LR__random_state=11, LR__solver=saga, pca__n_components=5;, score=0.764 total time=   2.5s\n",
      "[CV 3/5] END LR__C=50, LR__max_iter=500, LR__multi_class=auto, LR__penalty=l2, LR__random_state=11, LR__solver=saga, pca__n_components=5;, score=0.768 total time=   2.5s\n",
      "[CV 4/5] END LR__C=50, LR__max_iter=500, LR__multi_class=auto, LR__penalty=l2, LR__random_state=11, LR__solver=saga, pca__n_components=5;, score=0.767 total time=   2.5s\n",
      "[CV 5/5] END LR__C=50, LR__max_iter=500, LR__multi_class=auto, LR__penalty=l2, LR__random_state=11, LR__solver=saga, pca__n_components=5;, score=0.771 total time=   2.5s\n",
      "[CV 1/5] END LR__C=50, LR__max_iter=500, LR__multi_class=auto, LR__penalty=l2, LR__random_state=11, LR__solver=saga, pca__n_components=10;, score=0.780 total time=   7.7s\n",
      "[CV 2/5] END LR__C=50, LR__max_iter=500, LR__multi_class=auto, LR__penalty=l2, LR__random_state=11, LR__solver=saga, pca__n_components=10;, score=0.783 total time=   7.0s\n",
      "[CV 3/5] END LR__C=50, LR__max_iter=500, LR__multi_class=auto, LR__penalty=l2, LR__random_state=11, LR__solver=saga, pca__n_components=10;, score=0.785 total time=   7.7s\n",
      "[CV 4/5] END LR__C=50, LR__max_iter=500, LR__multi_class=auto, LR__penalty=l2, LR__random_state=11, LR__solver=saga, pca__n_components=10;, score=0.782 total time=   7.5s\n",
      "[CV 5/5] END LR__C=50, LR__max_iter=500, LR__multi_class=auto, LR__penalty=l2, LR__random_state=11, LR__solver=saga, pca__n_components=10;, score=0.787 total time=   7.2s\n"
     ]
    },
    {
     "name": "stderr",
     "output_type": "stream",
     "text": [
      "/home/hybrid/.local/lib/python3.8/site-packages/sklearn/linear_model/_sag.py:350: ConvergenceWarning: The max_iter was reached which means the coef_ did not converge\n",
      "  warnings.warn(\n"
     ]
    },
    {
     "name": "stdout",
     "output_type": "stream",
     "text": [
      "[CV 1/5] END LR__C=50, LR__max_iter=500, LR__multi_class=auto, LR__penalty=l2, LR__random_state=11, LR__solver=saga, pca__n_components=20;, score=0.832 total time=  39.1s\n"
     ]
    },
    {
     "name": "stderr",
     "output_type": "stream",
     "text": [
      "/home/hybrid/.local/lib/python3.8/site-packages/sklearn/linear_model/_sag.py:350: ConvergenceWarning: The max_iter was reached which means the coef_ did not converge\n",
      "  warnings.warn(\n"
     ]
    },
    {
     "name": "stdout",
     "output_type": "stream",
     "text": [
      "[CV 2/5] END LR__C=50, LR__max_iter=500, LR__multi_class=auto, LR__penalty=l2, LR__random_state=11, LR__solver=saga, pca__n_components=20;, score=0.832 total time=  38.8s\n"
     ]
    },
    {
     "name": "stderr",
     "output_type": "stream",
     "text": [
      "/home/hybrid/.local/lib/python3.8/site-packages/sklearn/linear_model/_sag.py:350: ConvergenceWarning: The max_iter was reached which means the coef_ did not converge\n",
      "  warnings.warn(\n"
     ]
    },
    {
     "name": "stdout",
     "output_type": "stream",
     "text": [
      "[CV 3/5] END LR__C=50, LR__max_iter=500, LR__multi_class=auto, LR__penalty=l2, LR__random_state=11, LR__solver=saga, pca__n_components=20;, score=0.837 total time=  38.8s\n"
     ]
    },
    {
     "name": "stderr",
     "output_type": "stream",
     "text": [
      "/home/hybrid/.local/lib/python3.8/site-packages/sklearn/linear_model/_sag.py:350: ConvergenceWarning: The max_iter was reached which means the coef_ did not converge\n",
      "  warnings.warn(\n"
     ]
    },
    {
     "name": "stdout",
     "output_type": "stream",
     "text": [
      "[CV 4/5] END LR__C=50, LR__max_iter=500, LR__multi_class=auto, LR__penalty=l2, LR__random_state=11, LR__solver=saga, pca__n_components=20;, score=0.835 total time=  36.1s\n"
     ]
    },
    {
     "name": "stderr",
     "output_type": "stream",
     "text": [
      "/home/hybrid/.local/lib/python3.8/site-packages/sklearn/linear_model/_sag.py:350: ConvergenceWarning: The max_iter was reached which means the coef_ did not converge\n",
      "  warnings.warn(\n"
     ]
    },
    {
     "name": "stdout",
     "output_type": "stream",
     "text": [
      "[CV 5/5] END LR__C=50, LR__max_iter=500, LR__multi_class=auto, LR__penalty=l2, LR__random_state=11, LR__solver=saga, pca__n_components=20;, score=0.835 total time=  38.8s\n",
      "[CV 1/5] END LR__C=50, LR__max_iter=500, LR__multi_class=auto, LR__penalty=l1, LR__random_state=11, LR__solver=saga, pca__n_components=5;, score=0.764 total time=   2.5s\n",
      "[CV 2/5] END LR__C=50, LR__max_iter=500, LR__multi_class=auto, LR__penalty=l1, LR__random_state=11, LR__solver=saga, pca__n_components=5;, score=0.763 total time=   2.5s\n",
      "[CV 3/5] END LR__C=50, LR__max_iter=500, LR__multi_class=auto, LR__penalty=l1, LR__random_state=11, LR__solver=saga, pca__n_components=5;, score=0.764 total time=   2.6s\n",
      "[CV 4/5] END LR__C=50, LR__max_iter=500, LR__multi_class=auto, LR__penalty=l1, LR__random_state=11, LR__solver=saga, pca__n_components=5;, score=0.767 total time=   2.5s\n",
      "[CV 5/5] END LR__C=50, LR__max_iter=500, LR__multi_class=auto, LR__penalty=l1, LR__random_state=11, LR__solver=saga, pca__n_components=5;, score=0.774 total time=   2.5s\n",
      "[CV 1/5] END LR__C=50, LR__max_iter=500, LR__multi_class=auto, LR__penalty=l1, LR__random_state=11, LR__solver=saga, pca__n_components=10;, score=0.780 total time=   7.9s\n",
      "[CV 2/5] END LR__C=50, LR__max_iter=500, LR__multi_class=auto, LR__penalty=l1, LR__random_state=11, LR__solver=saga, pca__n_components=10;, score=0.785 total time=   7.6s\n",
      "[CV 3/5] END LR__C=50, LR__max_iter=500, LR__multi_class=auto, LR__penalty=l1, LR__random_state=11, LR__solver=saga, pca__n_components=10;, score=0.783 total time=   7.1s\n",
      "[CV 4/5] END LR__C=50, LR__max_iter=500, LR__multi_class=auto, LR__penalty=l1, LR__random_state=11, LR__solver=saga, pca__n_components=10;, score=0.782 total time=   7.3s\n",
      "[CV 5/5] END LR__C=50, LR__max_iter=500, LR__multi_class=auto, LR__penalty=l1, LR__random_state=11, LR__solver=saga, pca__n_components=10;, score=0.786 total time=   7.3s\n"
     ]
    },
    {
     "name": "stderr",
     "output_type": "stream",
     "text": [
      "/home/hybrid/.local/lib/python3.8/site-packages/sklearn/linear_model/_sag.py:350: ConvergenceWarning: The max_iter was reached which means the coef_ did not converge\n",
      "  warnings.warn(\n"
     ]
    },
    {
     "name": "stdout",
     "output_type": "stream",
     "text": [
      "[CV 1/5] END LR__C=50, LR__max_iter=500, LR__multi_class=auto, LR__penalty=l1, LR__random_state=11, LR__solver=saga, pca__n_components=20;, score=0.833 total time=  39.6s\n"
     ]
    },
    {
     "name": "stderr",
     "output_type": "stream",
     "text": [
      "/home/hybrid/.local/lib/python3.8/site-packages/sklearn/linear_model/_sag.py:350: ConvergenceWarning: The max_iter was reached which means the coef_ did not converge\n",
      "  warnings.warn(\n"
     ]
    },
    {
     "name": "stdout",
     "output_type": "stream",
     "text": [
      "[CV 2/5] END LR__C=50, LR__max_iter=500, LR__multi_class=auto, LR__penalty=l1, LR__random_state=11, LR__solver=saga, pca__n_components=20;, score=0.836 total time=  40.1s\n"
     ]
    },
    {
     "name": "stderr",
     "output_type": "stream",
     "text": [
      "/home/hybrid/.local/lib/python3.8/site-packages/sklearn/linear_model/_sag.py:350: ConvergenceWarning: The max_iter was reached which means the coef_ did not converge\n",
      "  warnings.warn(\n"
     ]
    },
    {
     "name": "stdout",
     "output_type": "stream",
     "text": [
      "[CV 3/5] END LR__C=50, LR__max_iter=500, LR__multi_class=auto, LR__penalty=l1, LR__random_state=11, LR__solver=saga, pca__n_components=20;, score=0.839 total time=  39.8s\n"
     ]
    },
    {
     "name": "stderr",
     "output_type": "stream",
     "text": [
      "/home/hybrid/.local/lib/python3.8/site-packages/sklearn/linear_model/_sag.py:350: ConvergenceWarning: The max_iter was reached which means the coef_ did not converge\n",
      "  warnings.warn(\n"
     ]
    },
    {
     "name": "stdout",
     "output_type": "stream",
     "text": [
      "[CV 4/5] END LR__C=50, LR__max_iter=500, LR__multi_class=auto, LR__penalty=l1, LR__random_state=11, LR__solver=saga, pca__n_components=20;, score=0.839 total time=  39.9s\n"
     ]
    },
    {
     "name": "stderr",
     "output_type": "stream",
     "text": [
      "/home/hybrid/.local/lib/python3.8/site-packages/sklearn/linear_model/_sag.py:350: ConvergenceWarning: The max_iter was reached which means the coef_ did not converge\n",
      "  warnings.warn(\n"
     ]
    },
    {
     "name": "stdout",
     "output_type": "stream",
     "text": [
      "[CV 5/5] END LR__C=50, LR__max_iter=500, LR__multi_class=auto, LR__penalty=l1, LR__random_state=11, LR__solver=saga, pca__n_components=20;, score=0.833 total time=  39.7s\n",
      "[CV 1/5] END LR__C=70, LR__max_iter=100, LR__multi_class=auto, LR__penalty=l2, LR__random_state=11, LR__solver=saga, pca__n_components=5;, score=0.766 total time=   2.4s\n",
      "[CV 2/5] END LR__C=70, LR__max_iter=100, LR__multi_class=auto, LR__penalty=l2, LR__random_state=11, LR__solver=saga, pca__n_components=5;, score=0.764 total time=   2.5s\n",
      "[CV 3/5] END LR__C=70, LR__max_iter=100, LR__multi_class=auto, LR__penalty=l2, LR__random_state=11, LR__solver=saga, pca__n_components=5;, score=0.769 total time=   2.5s\n",
      "[CV 4/5] END LR__C=70, LR__max_iter=100, LR__multi_class=auto, LR__penalty=l2, LR__random_state=11, LR__solver=saga, pca__n_components=5;, score=0.767 total time=   2.5s\n",
      "[CV 5/5] END LR__C=70, LR__max_iter=100, LR__multi_class=auto, LR__penalty=l2, LR__random_state=11, LR__solver=saga, pca__n_components=5;, score=0.772 total time=   2.5s\n",
      "[CV 1/5] END LR__C=70, LR__max_iter=100, LR__multi_class=auto, LR__penalty=l2, LR__random_state=11, LR__solver=saga, pca__n_components=10;, score=0.782 total time=   7.2s\n",
      "[CV 2/5] END LR__C=70, LR__max_iter=100, LR__multi_class=auto, LR__penalty=l2, LR__random_state=11, LR__solver=saga, pca__n_components=10;, score=0.784 total time=   7.0s\n",
      "[CV 3/5] END LR__C=70, LR__max_iter=100, LR__multi_class=auto, LR__penalty=l2, LR__random_state=11, LR__solver=saga, pca__n_components=10;, score=0.783 total time=   6.8s\n",
      "[CV 4/5] END LR__C=70, LR__max_iter=100, LR__multi_class=auto, LR__penalty=l2, LR__random_state=11, LR__solver=saga, pca__n_components=10;, score=0.792 total time=   6.5s\n",
      "[CV 5/5] END LR__C=70, LR__max_iter=100, LR__multi_class=auto, LR__penalty=l2, LR__random_state=11, LR__solver=saga, pca__n_components=10;, score=0.783 total time=   8.1s\n"
     ]
    },
    {
     "name": "stderr",
     "output_type": "stream",
     "text": [
      "/home/hybrid/.local/lib/python3.8/site-packages/sklearn/linear_model/_sag.py:350: ConvergenceWarning: The max_iter was reached which means the coef_ did not converge\n",
      "  warnings.warn(\n"
     ]
    },
    {
     "name": "stdout",
     "output_type": "stream",
     "text": [
      "[CV 1/5] END LR__C=70, LR__max_iter=100, LR__multi_class=auto, LR__penalty=l2, LR__random_state=11, LR__solver=saga, pca__n_components=20;, score=0.832 total time=  24.8s\n"
     ]
    },
    {
     "name": "stderr",
     "output_type": "stream",
     "text": [
      "/home/hybrid/.local/lib/python3.8/site-packages/sklearn/linear_model/_sag.py:350: ConvergenceWarning: The max_iter was reached which means the coef_ did not converge\n",
      "  warnings.warn(\n"
     ]
    },
    {
     "name": "stdout",
     "output_type": "stream",
     "text": [
      "[CV 2/5] END LR__C=70, LR__max_iter=100, LR__multi_class=auto, LR__penalty=l2, LR__random_state=11, LR__solver=saga, pca__n_components=20;, score=0.831 total time=  25.4s\n"
     ]
    },
    {
     "name": "stderr",
     "output_type": "stream",
     "text": [
      "/home/hybrid/.local/lib/python3.8/site-packages/sklearn/linear_model/_sag.py:350: ConvergenceWarning: The max_iter was reached which means the coef_ did not converge\n",
      "  warnings.warn(\n"
     ]
    },
    {
     "name": "stdout",
     "output_type": "stream",
     "text": [
      "[CV 3/5] END LR__C=70, LR__max_iter=100, LR__multi_class=auto, LR__penalty=l2, LR__random_state=11, LR__solver=saga, pca__n_components=20;, score=0.837 total time=  24.2s\n"
     ]
    },
    {
     "name": "stderr",
     "output_type": "stream",
     "text": [
      "/home/hybrid/.local/lib/python3.8/site-packages/sklearn/linear_model/_sag.py:350: ConvergenceWarning: The max_iter was reached which means the coef_ did not converge\n",
      "  warnings.warn(\n"
     ]
    },
    {
     "name": "stdout",
     "output_type": "stream",
     "text": [
      "[CV 4/5] END LR__C=70, LR__max_iter=100, LR__multi_class=auto, LR__penalty=l2, LR__random_state=11, LR__solver=saga, pca__n_components=20;, score=0.838 total time=  23.4s\n"
     ]
    },
    {
     "name": "stderr",
     "output_type": "stream",
     "text": [
      "/home/hybrid/.local/lib/python3.8/site-packages/sklearn/linear_model/_sag.py:350: ConvergenceWarning: The max_iter was reached which means the coef_ did not converge\n",
      "  warnings.warn(\n"
     ]
    },
    {
     "name": "stdout",
     "output_type": "stream",
     "text": [
      "[CV 5/5] END LR__C=70, LR__max_iter=100, LR__multi_class=auto, LR__penalty=l2, LR__random_state=11, LR__solver=saga, pca__n_components=20;, score=0.835 total time=  23.5s\n",
      "[CV 1/5] END LR__C=70, LR__max_iter=100, LR__multi_class=auto, LR__penalty=l1, LR__random_state=11, LR__solver=saga, pca__n_components=5;, score=0.764 total time=   2.5s\n",
      "[CV 2/5] END LR__C=70, LR__max_iter=100, LR__multi_class=auto, LR__penalty=l1, LR__random_state=11, LR__solver=saga, pca__n_components=5;, score=0.764 total time=   2.5s\n",
      "[CV 3/5] END LR__C=70, LR__max_iter=100, LR__multi_class=auto, LR__penalty=l1, LR__random_state=11, LR__solver=saga, pca__n_components=5;, score=0.768 total time=   2.5s\n",
      "[CV 4/5] END LR__C=70, LR__max_iter=100, LR__multi_class=auto, LR__penalty=l1, LR__random_state=11, LR__solver=saga, pca__n_components=5;, score=0.768 total time=   2.5s\n",
      "[CV 5/5] END LR__C=70, LR__max_iter=100, LR__multi_class=auto, LR__penalty=l1, LR__random_state=11, LR__solver=saga, pca__n_components=5;, score=0.771 total time=   2.5s\n",
      "[CV 1/5] END LR__C=70, LR__max_iter=100, LR__multi_class=auto, LR__penalty=l1, LR__random_state=11, LR__solver=saga, pca__n_components=10;, score=0.785 total time=   7.4s\n",
      "[CV 2/5] END LR__C=70, LR__max_iter=100, LR__multi_class=auto, LR__penalty=l1, LR__random_state=11, LR__solver=saga, pca__n_components=10;, score=0.794 total time=   6.9s\n",
      "[CV 3/5] END LR__C=70, LR__max_iter=100, LR__multi_class=auto, LR__penalty=l1, LR__random_state=11, LR__solver=saga, pca__n_components=10;, score=0.786 total time=   6.9s\n",
      "[CV 4/5] END LR__C=70, LR__max_iter=100, LR__multi_class=auto, LR__penalty=l1, LR__random_state=11, LR__solver=saga, pca__n_components=10;, score=0.786 total time=   7.0s\n",
      "[CV 5/5] END LR__C=70, LR__max_iter=100, LR__multi_class=auto, LR__penalty=l1, LR__random_state=11, LR__solver=saga, pca__n_components=10;, score=0.785 total time=   7.8s\n"
     ]
    },
    {
     "name": "stderr",
     "output_type": "stream",
     "text": [
      "/home/hybrid/.local/lib/python3.8/site-packages/sklearn/linear_model/_sag.py:350: ConvergenceWarning: The max_iter was reached which means the coef_ did not converge\n",
      "  warnings.warn(\n"
     ]
    },
    {
     "name": "stdout",
     "output_type": "stream",
     "text": [
      "[CV 1/5] END LR__C=70, LR__max_iter=100, LR__multi_class=auto, LR__penalty=l1, LR__random_state=11, LR__solver=saga, pca__n_components=20;, score=0.835 total time=  23.8s\n"
     ]
    },
    {
     "name": "stderr",
     "output_type": "stream",
     "text": [
      "/home/hybrid/.local/lib/python3.8/site-packages/sklearn/linear_model/_sag.py:350: ConvergenceWarning: The max_iter was reached which means the coef_ did not converge\n",
      "  warnings.warn(\n"
     ]
    },
    {
     "name": "stdout",
     "output_type": "stream",
     "text": [
      "[CV 2/5] END LR__C=70, LR__max_iter=100, LR__multi_class=auto, LR__penalty=l1, LR__random_state=11, LR__solver=saga, pca__n_components=20;, score=0.835 total time=  23.8s\n"
     ]
    },
    {
     "name": "stderr",
     "output_type": "stream",
     "text": [
      "/home/hybrid/.local/lib/python3.8/site-packages/sklearn/linear_model/_sag.py:350: ConvergenceWarning: The max_iter was reached which means the coef_ did not converge\n",
      "  warnings.warn(\n"
     ]
    },
    {
     "name": "stdout",
     "output_type": "stream",
     "text": [
      "[CV 3/5] END LR__C=70, LR__max_iter=100, LR__multi_class=auto, LR__penalty=l1, LR__random_state=11, LR__solver=saga, pca__n_components=20;, score=0.836 total time=  24.3s\n"
     ]
    },
    {
     "name": "stderr",
     "output_type": "stream",
     "text": [
      "/home/hybrid/.local/lib/python3.8/site-packages/sklearn/linear_model/_sag.py:350: ConvergenceWarning: The max_iter was reached which means the coef_ did not converge\n",
      "  warnings.warn(\n"
     ]
    },
    {
     "name": "stdout",
     "output_type": "stream",
     "text": [
      "[CV 4/5] END LR__C=70, LR__max_iter=100, LR__multi_class=auto, LR__penalty=l1, LR__random_state=11, LR__solver=saga, pca__n_components=20;, score=0.835 total time=  24.8s\n"
     ]
    },
    {
     "name": "stderr",
     "output_type": "stream",
     "text": [
      "/home/hybrid/.local/lib/python3.8/site-packages/sklearn/linear_model/_sag.py:350: ConvergenceWarning: The max_iter was reached which means the coef_ did not converge\n",
      "  warnings.warn(\n"
     ]
    },
    {
     "name": "stdout",
     "output_type": "stream",
     "text": [
      "[CV 5/5] END LR__C=70, LR__max_iter=100, LR__multi_class=auto, LR__penalty=l1, LR__random_state=11, LR__solver=saga, pca__n_components=20;, score=0.833 total time=  24.3s\n",
      "[CV 1/5] END LR__C=70, LR__max_iter=200, LR__multi_class=auto, LR__penalty=l2, LR__random_state=11, LR__solver=saga, pca__n_components=5;, score=0.765 total time=   2.5s\n",
      "[CV 2/5] END LR__C=70, LR__max_iter=200, LR__multi_class=auto, LR__penalty=l2, LR__random_state=11, LR__solver=saga, pca__n_components=5;, score=0.764 total time=   2.5s\n",
      "[CV 3/5] END LR__C=70, LR__max_iter=200, LR__multi_class=auto, LR__penalty=l2, LR__random_state=11, LR__solver=saga, pca__n_components=5;, score=0.769 total time=   2.5s\n",
      "[CV 4/5] END LR__C=70, LR__max_iter=200, LR__multi_class=auto, LR__penalty=l2, LR__random_state=11, LR__solver=saga, pca__n_components=5;, score=0.766 total time=   2.5s\n",
      "[CV 5/5] END LR__C=70, LR__max_iter=200, LR__multi_class=auto, LR__penalty=l2, LR__random_state=11, LR__solver=saga, pca__n_components=5;, score=0.769 total time=   2.5s\n",
      "[CV 1/5] END LR__C=70, LR__max_iter=200, LR__multi_class=auto, LR__penalty=l2, LR__random_state=11, LR__solver=saga, pca__n_components=10;, score=0.779 total time=   6.5s\n",
      "[CV 2/5] END LR__C=70, LR__max_iter=200, LR__multi_class=auto, LR__penalty=l2, LR__random_state=11, LR__solver=saga, pca__n_components=10;, score=0.787 total time=   6.5s\n"
     ]
    },
    {
     "name": "stderr",
     "output_type": "stream",
     "text": [
      "/home/hybrid/.local/lib/python3.8/site-packages/sklearn/linear_model/_sag.py:350: ConvergenceWarning: The max_iter was reached which means the coef_ did not converge\n",
      "  warnings.warn(\n"
     ]
    },
    {
     "name": "stdout",
     "output_type": "stream",
     "text": [
      "[CV 3/5] END LR__C=70, LR__max_iter=200, LR__multi_class=auto, LR__penalty=l2, LR__random_state=11, LR__solver=saga, pca__n_components=10;, score=0.785 total time=  10.6s\n",
      "[CV 4/5] END LR__C=70, LR__max_iter=200, LR__multi_class=auto, LR__penalty=l2, LR__random_state=11, LR__solver=saga, pca__n_components=10;, score=0.783 total time=   7.2s\n",
      "[CV 5/5] END LR__C=70, LR__max_iter=200, LR__multi_class=auto, LR__penalty=l2, LR__random_state=11, LR__solver=saga, pca__n_components=10;, score=0.785 total time=   7.8s\n"
     ]
    },
    {
     "name": "stderr",
     "output_type": "stream",
     "text": [
      "/home/hybrid/.local/lib/python3.8/site-packages/sklearn/linear_model/_sag.py:350: ConvergenceWarning: The max_iter was reached which means the coef_ did not converge\n",
      "  warnings.warn(\n"
     ]
    },
    {
     "name": "stdout",
     "output_type": "stream",
     "text": [
      "[CV 1/5] END LR__C=70, LR__max_iter=200, LR__multi_class=auto, LR__penalty=l2, LR__random_state=11, LR__solver=saga, pca__n_components=20;, score=0.833 total time=  26.8s\n"
     ]
    },
    {
     "name": "stderr",
     "output_type": "stream",
     "text": [
      "/home/hybrid/.local/lib/python3.8/site-packages/sklearn/linear_model/_sag.py:350: ConvergenceWarning: The max_iter was reached which means the coef_ did not converge\n",
      "  warnings.warn(\n"
     ]
    },
    {
     "name": "stdout",
     "output_type": "stream",
     "text": [
      "[CV 2/5] END LR__C=70, LR__max_iter=200, LR__multi_class=auto, LR__penalty=l2, LR__random_state=11, LR__solver=saga, pca__n_components=20;, score=0.837 total time=  27.0s\n"
     ]
    },
    {
     "name": "stderr",
     "output_type": "stream",
     "text": [
      "/home/hybrid/.local/lib/python3.8/site-packages/sklearn/linear_model/_sag.py:350: ConvergenceWarning: The max_iter was reached which means the coef_ did not converge\n",
      "  warnings.warn(\n"
     ]
    },
    {
     "name": "stdout",
     "output_type": "stream",
     "text": [
      "[CV 3/5] END LR__C=70, LR__max_iter=200, LR__multi_class=auto, LR__penalty=l2, LR__random_state=11, LR__solver=saga, pca__n_components=20;, score=0.838 total time=  26.6s\n"
     ]
    },
    {
     "name": "stderr",
     "output_type": "stream",
     "text": [
      "/home/hybrid/.local/lib/python3.8/site-packages/sklearn/linear_model/_sag.py:350: ConvergenceWarning: The max_iter was reached which means the coef_ did not converge\n",
      "  warnings.warn(\n"
     ]
    },
    {
     "name": "stdout",
     "output_type": "stream",
     "text": [
      "[CV 4/5] END LR__C=70, LR__max_iter=200, LR__multi_class=auto, LR__penalty=l2, LR__random_state=11, LR__solver=saga, pca__n_components=20;, score=0.834 total time=  26.6s\n"
     ]
    },
    {
     "name": "stderr",
     "output_type": "stream",
     "text": [
      "/home/hybrid/.local/lib/python3.8/site-packages/sklearn/linear_model/_sag.py:350: ConvergenceWarning: The max_iter was reached which means the coef_ did not converge\n",
      "  warnings.warn(\n"
     ]
    },
    {
     "name": "stdout",
     "output_type": "stream",
     "text": [
      "[CV 5/5] END LR__C=70, LR__max_iter=200, LR__multi_class=auto, LR__penalty=l2, LR__random_state=11, LR__solver=saga, pca__n_components=20;, score=0.837 total time=  26.6s\n",
      "[CV 1/5] END LR__C=70, LR__max_iter=200, LR__multi_class=auto, LR__penalty=l1, LR__random_state=11, LR__solver=saga, pca__n_components=5;, score=0.765 total time=   2.5s\n",
      "[CV 2/5] END LR__C=70, LR__max_iter=200, LR__multi_class=auto, LR__penalty=l1, LR__random_state=11, LR__solver=saga, pca__n_components=5;, score=0.765 total time=   2.6s\n",
      "[CV 3/5] END LR__C=70, LR__max_iter=200, LR__multi_class=auto, LR__penalty=l1, LR__random_state=11, LR__solver=saga, pca__n_components=5;, score=0.768 total time=   2.5s\n",
      "[CV 4/5] END LR__C=70, LR__max_iter=200, LR__multi_class=auto, LR__penalty=l1, LR__random_state=11, LR__solver=saga, pca__n_components=5;, score=0.766 total time=   2.5s\n",
      "[CV 5/5] END LR__C=70, LR__max_iter=200, LR__multi_class=auto, LR__penalty=l1, LR__random_state=11, LR__solver=saga, pca__n_components=5;, score=0.771 total time=   2.6s\n",
      "[CV 1/5] END LR__C=70, LR__max_iter=200, LR__multi_class=auto, LR__penalty=l1, LR__random_state=11, LR__solver=saga, pca__n_components=10;, score=0.781 total time=   6.7s\n",
      "[CV 2/5] END LR__C=70, LR__max_iter=200, LR__multi_class=auto, LR__penalty=l1, LR__random_state=11, LR__solver=saga, pca__n_components=10;, score=0.783 total time=   7.2s\n",
      "[CV 3/5] END LR__C=70, LR__max_iter=200, LR__multi_class=auto, LR__penalty=l1, LR__random_state=11, LR__solver=saga, pca__n_components=10;, score=0.783 total time=   7.7s\n",
      "[CV 4/5] END LR__C=70, LR__max_iter=200, LR__multi_class=auto, LR__penalty=l1, LR__random_state=11, LR__solver=saga, pca__n_components=10;, score=0.786 total time=   7.2s\n",
      "[CV 5/5] END LR__C=70, LR__max_iter=200, LR__multi_class=auto, LR__penalty=l1, LR__random_state=11, LR__solver=saga, pca__n_components=10;, score=0.784 total time=   6.7s\n"
     ]
    },
    {
     "name": "stderr",
     "output_type": "stream",
     "text": [
      "/home/hybrid/.local/lib/python3.8/site-packages/sklearn/linear_model/_sag.py:350: ConvergenceWarning: The max_iter was reached which means the coef_ did not converge\n",
      "  warnings.warn(\n"
     ]
    },
    {
     "name": "stdout",
     "output_type": "stream",
     "text": [
      "[CV 1/5] END LR__C=70, LR__max_iter=200, LR__multi_class=auto, LR__penalty=l1, LR__random_state=11, LR__solver=saga, pca__n_components=20;, score=0.836 total time=  28.3s\n"
     ]
    },
    {
     "name": "stderr",
     "output_type": "stream",
     "text": [
      "/home/hybrid/.local/lib/python3.8/site-packages/sklearn/linear_model/_sag.py:350: ConvergenceWarning: The max_iter was reached which means the coef_ did not converge\n",
      "  warnings.warn(\n"
     ]
    },
    {
     "name": "stdout",
     "output_type": "stream",
     "text": [
      "[CV 2/5] END LR__C=70, LR__max_iter=200, LR__multi_class=auto, LR__penalty=l1, LR__random_state=11, LR__solver=saga, pca__n_components=20;, score=0.838 total time=  27.5s\n"
     ]
    },
    {
     "name": "stderr",
     "output_type": "stream",
     "text": [
      "/home/hybrid/.local/lib/python3.8/site-packages/sklearn/linear_model/_sag.py:350: ConvergenceWarning: The max_iter was reached which means the coef_ did not converge\n",
      "  warnings.warn(\n"
     ]
    },
    {
     "name": "stdout",
     "output_type": "stream",
     "text": [
      "[CV 3/5] END LR__C=70, LR__max_iter=200, LR__multi_class=auto, LR__penalty=l1, LR__random_state=11, LR__solver=saga, pca__n_components=20;, score=0.837 total time=  28.1s\n"
     ]
    },
    {
     "name": "stderr",
     "output_type": "stream",
     "text": [
      "/home/hybrid/.local/lib/python3.8/site-packages/sklearn/linear_model/_sag.py:350: ConvergenceWarning: The max_iter was reached which means the coef_ did not converge\n",
      "  warnings.warn(\n"
     ]
    },
    {
     "name": "stdout",
     "output_type": "stream",
     "text": [
      "[CV 4/5] END LR__C=70, LR__max_iter=200, LR__multi_class=auto, LR__penalty=l1, LR__random_state=11, LR__solver=saga, pca__n_components=20;, score=0.840 total time=  28.5s\n"
     ]
    },
    {
     "name": "stderr",
     "output_type": "stream",
     "text": [
      "/home/hybrid/.local/lib/python3.8/site-packages/sklearn/linear_model/_sag.py:350: ConvergenceWarning: The max_iter was reached which means the coef_ did not converge\n",
      "  warnings.warn(\n"
     ]
    },
    {
     "name": "stdout",
     "output_type": "stream",
     "text": [
      "[CV 5/5] END LR__C=70, LR__max_iter=200, LR__multi_class=auto, LR__penalty=l1, LR__random_state=11, LR__solver=saga, pca__n_components=20;, score=0.838 total time=  28.6s\n",
      "[CV 1/5] END LR__C=70, LR__max_iter=500, LR__multi_class=auto, LR__penalty=l2, LR__random_state=11, LR__solver=saga, pca__n_components=5;, score=0.766 total time=   2.6s\n",
      "[CV 2/5] END LR__C=70, LR__max_iter=500, LR__multi_class=auto, LR__penalty=l2, LR__random_state=11, LR__solver=saga, pca__n_components=5;, score=0.764 total time=   2.5s\n",
      "[CV 3/5] END LR__C=70, LR__max_iter=500, LR__multi_class=auto, LR__penalty=l2, LR__random_state=11, LR__solver=saga, pca__n_components=5;, score=0.768 total time=   2.4s\n",
      "[CV 4/5] END LR__C=70, LR__max_iter=500, LR__multi_class=auto, LR__penalty=l2, LR__random_state=11, LR__solver=saga, pca__n_components=5;, score=0.767 total time=   2.5s\n",
      "[CV 5/5] END LR__C=70, LR__max_iter=500, LR__multi_class=auto, LR__penalty=l2, LR__random_state=11, LR__solver=saga, pca__n_components=5;, score=0.769 total time=   2.4s\n",
      "[CV 1/5] END LR__C=70, LR__max_iter=500, LR__multi_class=auto, LR__penalty=l2, LR__random_state=11, LR__solver=saga, pca__n_components=10;, score=0.780 total time=   7.1s\n",
      "[CV 2/5] END LR__C=70, LR__max_iter=500, LR__multi_class=auto, LR__penalty=l2, LR__random_state=11, LR__solver=saga, pca__n_components=10;, score=0.783 total time=   7.3s\n",
      "[CV 3/5] END LR__C=70, LR__max_iter=500, LR__multi_class=auto, LR__penalty=l2, LR__random_state=11, LR__solver=saga, pca__n_components=10;, score=0.783 total time=   7.4s\n",
      "[CV 4/5] END LR__C=70, LR__max_iter=500, LR__multi_class=auto, LR__penalty=l2, LR__random_state=11, LR__solver=saga, pca__n_components=10;, score=0.782 total time=   7.1s\n",
      "[CV 5/5] END LR__C=70, LR__max_iter=500, LR__multi_class=auto, LR__penalty=l2, LR__random_state=11, LR__solver=saga, pca__n_components=10;, score=0.791 total time=   7.3s\n"
     ]
    },
    {
     "name": "stderr",
     "output_type": "stream",
     "text": [
      "/home/hybrid/.local/lib/python3.8/site-packages/sklearn/linear_model/_sag.py:350: ConvergenceWarning: The max_iter was reached which means the coef_ did not converge\n",
      "  warnings.warn(\n"
     ]
    },
    {
     "name": "stdout",
     "output_type": "stream",
     "text": [
      "[CV 1/5] END LR__C=70, LR__max_iter=500, LR__multi_class=auto, LR__penalty=l2, LR__random_state=11, LR__solver=saga, pca__n_components=20;, score=0.831 total time=  36.3s\n"
     ]
    },
    {
     "name": "stderr",
     "output_type": "stream",
     "text": [
      "/home/hybrid/.local/lib/python3.8/site-packages/sklearn/linear_model/_sag.py:350: ConvergenceWarning: The max_iter was reached which means the coef_ did not converge\n",
      "  warnings.warn(\n"
     ]
    },
    {
     "name": "stdout",
     "output_type": "stream",
     "text": [
      "[CV 2/5] END LR__C=70, LR__max_iter=500, LR__multi_class=auto, LR__penalty=l2, LR__random_state=11, LR__solver=saga, pca__n_components=20;, score=0.838 total time=  40.2s\n"
     ]
    },
    {
     "name": "stderr",
     "output_type": "stream",
     "text": [
      "/home/hybrid/.local/lib/python3.8/site-packages/sklearn/linear_model/_sag.py:350: ConvergenceWarning: The max_iter was reached which means the coef_ did not converge\n",
      "  warnings.warn(\n"
     ]
    },
    {
     "name": "stdout",
     "output_type": "stream",
     "text": [
      "[CV 3/5] END LR__C=70, LR__max_iter=500, LR__multi_class=auto, LR__penalty=l2, LR__random_state=11, LR__solver=saga, pca__n_components=20;, score=0.835 total time=  37.1s\n"
     ]
    },
    {
     "name": "stderr",
     "output_type": "stream",
     "text": [
      "/home/hybrid/.local/lib/python3.8/site-packages/sklearn/linear_model/_sag.py:350: ConvergenceWarning: The max_iter was reached which means the coef_ did not converge\n",
      "  warnings.warn(\n"
     ]
    },
    {
     "name": "stdout",
     "output_type": "stream",
     "text": [
      "[CV 4/5] END LR__C=70, LR__max_iter=500, LR__multi_class=auto, LR__penalty=l2, LR__random_state=11, LR__solver=saga, pca__n_components=20;, score=0.840 total time=  36.9s\n"
     ]
    },
    {
     "name": "stderr",
     "output_type": "stream",
     "text": [
      "/home/hybrid/.local/lib/python3.8/site-packages/sklearn/linear_model/_sag.py:350: ConvergenceWarning: The max_iter was reached which means the coef_ did not converge\n",
      "  warnings.warn(\n"
     ]
    },
    {
     "name": "stdout",
     "output_type": "stream",
     "text": [
      "[CV 5/5] END LR__C=70, LR__max_iter=500, LR__multi_class=auto, LR__penalty=l2, LR__random_state=11, LR__solver=saga, pca__n_components=20;, score=0.838 total time=  38.2s\n",
      "[CV 1/5] END LR__C=70, LR__max_iter=500, LR__multi_class=auto, LR__penalty=l1, LR__random_state=11, LR__solver=saga, pca__n_components=5;, score=0.761 total time=   2.7s\n",
      "[CV 2/5] END LR__C=70, LR__max_iter=500, LR__multi_class=auto, LR__penalty=l1, LR__random_state=11, LR__solver=saga, pca__n_components=5;, score=0.764 total time=   2.8s\n",
      "[CV 3/5] END LR__C=70, LR__max_iter=500, LR__multi_class=auto, LR__penalty=l1, LR__random_state=11, LR__solver=saga, pca__n_components=5;, score=0.768 total time=   2.7s\n",
      "[CV 4/5] END LR__C=70, LR__max_iter=500, LR__multi_class=auto, LR__penalty=l1, LR__random_state=11, LR__solver=saga, pca__n_components=5;, score=0.766 total time=   2.8s\n",
      "[CV 5/5] END LR__C=70, LR__max_iter=500, LR__multi_class=auto, LR__penalty=l1, LR__random_state=11, LR__solver=saga, pca__n_components=5;, score=0.770 total time=   2.7s\n",
      "[CV 1/5] END LR__C=70, LR__max_iter=500, LR__multi_class=auto, LR__penalty=l1, LR__random_state=11, LR__solver=saga, pca__n_components=10;, score=0.785 total time=   7.3s\n",
      "[CV 2/5] END LR__C=70, LR__max_iter=500, LR__multi_class=auto, LR__penalty=l1, LR__random_state=11, LR__solver=saga, pca__n_components=10;, score=0.785 total time=   7.4s\n",
      "[CV 3/5] END LR__C=70, LR__max_iter=500, LR__multi_class=auto, LR__penalty=l1, LR__random_state=11, LR__solver=saga, pca__n_components=10;, score=0.781 total time=   7.4s\n",
      "[CV 4/5] END LR__C=70, LR__max_iter=500, LR__multi_class=auto, LR__penalty=l1, LR__random_state=11, LR__solver=saga, pca__n_components=10;, score=0.784 total time=   7.7s\n",
      "[CV 5/5] END LR__C=70, LR__max_iter=500, LR__multi_class=auto, LR__penalty=l1, LR__random_state=11, LR__solver=saga, pca__n_components=10;, score=0.785 total time=   8.0s\n"
     ]
    },
    {
     "name": "stderr",
     "output_type": "stream",
     "text": [
      "/home/hybrid/.local/lib/python3.8/site-packages/sklearn/linear_model/_sag.py:350: ConvergenceWarning: The max_iter was reached which means the coef_ did not converge\n",
      "  warnings.warn(\n"
     ]
    },
    {
     "name": "stdout",
     "output_type": "stream",
     "text": [
      "[CV 1/5] END LR__C=70, LR__max_iter=500, LR__multi_class=auto, LR__penalty=l1, LR__random_state=11, LR__solver=saga, pca__n_components=20;, score=0.831 total time=  40.4s\n"
     ]
    },
    {
     "name": "stderr",
     "output_type": "stream",
     "text": [
      "/home/hybrid/.local/lib/python3.8/site-packages/sklearn/linear_model/_sag.py:350: ConvergenceWarning: The max_iter was reached which means the coef_ did not converge\n",
      "  warnings.warn(\n"
     ]
    },
    {
     "name": "stdout",
     "output_type": "stream",
     "text": [
      "[CV 2/5] END LR__C=70, LR__max_iter=500, LR__multi_class=auto, LR__penalty=l1, LR__random_state=11, LR__solver=saga, pca__n_components=20;, score=0.837 total time=  40.2s\n"
     ]
    },
    {
     "name": "stderr",
     "output_type": "stream",
     "text": [
      "/home/hybrid/.local/lib/python3.8/site-packages/sklearn/linear_model/_sag.py:350: ConvergenceWarning: The max_iter was reached which means the coef_ did not converge\n",
      "  warnings.warn(\n"
     ]
    },
    {
     "name": "stdout",
     "output_type": "stream",
     "text": [
      "[CV 3/5] END LR__C=70, LR__max_iter=500, LR__multi_class=auto, LR__penalty=l1, LR__random_state=11, LR__solver=saga, pca__n_components=20;, score=0.839 total time=  40.2s\n"
     ]
    },
    {
     "name": "stderr",
     "output_type": "stream",
     "text": [
      "/home/hybrid/.local/lib/python3.8/site-packages/sklearn/linear_model/_sag.py:350: ConvergenceWarning: The max_iter was reached which means the coef_ did not converge\n",
      "  warnings.warn(\n"
     ]
    },
    {
     "name": "stdout",
     "output_type": "stream",
     "text": [
      "[CV 4/5] END LR__C=70, LR__max_iter=500, LR__multi_class=auto, LR__penalty=l1, LR__random_state=11, LR__solver=saga, pca__n_components=20;, score=0.840 total time=  40.5s\n"
     ]
    },
    {
     "name": "stderr",
     "output_type": "stream",
     "text": [
      "/home/hybrid/.local/lib/python3.8/site-packages/sklearn/linear_model/_sag.py:350: ConvergenceWarning: The max_iter was reached which means the coef_ did not converge\n",
      "  warnings.warn(\n"
     ]
    },
    {
     "name": "stdout",
     "output_type": "stream",
     "text": [
      "[CV 5/5] END LR__C=70, LR__max_iter=500, LR__multi_class=auto, LR__penalty=l1, LR__random_state=11, LR__solver=saga, pca__n_components=20;, score=0.838 total time=  40.0s\n"
     ]
    },
    {
     "name": "stderr",
     "output_type": "stream",
     "text": [
      "/home/hybrid/.local/lib/python3.8/site-packages/sklearn/linear_model/_sag.py:350: ConvergenceWarning: The max_iter was reached which means the coef_ did not converge\n",
      "  warnings.warn(\n"
     ]
    },
    {
     "name": "stdout",
     "output_type": "stream",
     "text": [
      "Cross-validation score: 0.8375790928036766\n",
      "Test score: 0.8352140691514565\n",
      "XGBClassifier:\n",
      "{'LR__C': 70, 'LR__max_iter': 200, 'LR__multi_class': 'auto', 'LR__penalty': 'l1', 'LR__random_state': 11, 'LR__solver': 'saga', 'pca__n_components': 20}\n",
      "Results on test: 0.7558980372448837\n",
      "Results on train: 0.7490696756129372\n"
     ]
    }
   ],
   "source": [
    "pipeline = imbpipeline(steps = [['scaler', scaler],\n",
    "                                ['pca', pca],\n",
    "                                ['smote', SMOTEEN],\n",
    "                                ['LR', LogisticRegression()]])\n",
    "\n",
    "stratified_kfold = StratifiedKFold(n_splits=5,\n",
    "                                       shuffle=True,\n",
    "                                       random_state=13)\n",
    "    \n",
    "param_grid = {'LR__C':[20, 50, 70],\n",
    "             'LR__random_state': [11],\n",
    "             'LR__multi_class': ['auto'],\n",
    "             'LR__max_iter': [100, 200, 500],\n",
    "             'LR__solver': ['saga'],\n",
    "             'LR__penalty': ['l2', 'l1'],\n",
    "             'pca__n_components': [5, 10, 20]\n",
    "             }\n",
    "                                                                 \n",
    "search_LR = GridSearchCV(estimator=pipeline,\n",
    "                           param_grid=param_grid,\n",
    "                           scoring='roc_auc',\n",
    "                           cv=stratified_kfold,\n",
    "                           verbose=3,\n",
    "                           #n_jobs=3\n",
    "                        )\n",
    "\n",
    "search_LR.fit(X_train, y_train)\n",
    "cv_score = search_LR.best_score_\n",
    "test_score = search_LR.score(X_test, y_test)\n",
    "print(f'Cross-validation score: {cv_score}\\nTest score: {test_score}')\n",
    "print(\"XGBClassifier:\")\n",
    "print(search_LR.best_params_)\n",
    "print(f'Results on test: {search_LR.best_estimator_.score(X_test, y_test)}')\n",
    "print(f'Results on train: {search_LR.best_estimator_.score(X_train, y_train)}')"
   ]
  },
  {
   "cell_type": "markdown",
   "metadata": {},
   "source": [
    "Achieving scores of classification, saving accuracy, recall and F1 score in data frame:"
   ]
  },
  {
   "cell_type": "markdown",
   "metadata": {},
   "source": [
    "Best hyperparameters:"
   ]
  },
  {
   "cell_type": "code",
   "execution_count": 294,
   "metadata": {},
   "outputs": [
    {
     "data": {
      "text/plain": [
       "{'LR__C': 70,\n",
       " 'LR__max_iter': 200,\n",
       " 'LR__multi_class': 'auto',\n",
       " 'LR__penalty': 'l1',\n",
       " 'LR__random_state': 11,\n",
       " 'LR__solver': 'saga',\n",
       " 'pca__n_components': 20}"
      ]
     },
     "execution_count": 294,
     "metadata": {},
     "output_type": "execute_result"
    }
   ],
   "source": [
    "search_LR.best_params_"
   ]
  },
  {
   "cell_type": "code",
   "execution_count": 295,
   "metadata": {},
   "outputs": [],
   "source": [
    "y_pred_lr = search_LR.best_estimator_.predict(X_test)"
   ]
  },
  {
   "cell_type": "code",
   "execution_count": 345,
   "metadata": {},
   "outputs": [
    {
     "name": "stdout",
     "output_type": "stream",
     "text": [
      "              precision    recall  f1-score   support\n",
      "\n",
      "           0       0.83      0.77      0.80     22550\n",
      "           1       0.65      0.73      0.69     13267\n",
      "\n",
      "    accuracy                           0.76     35817\n",
      "   macro avg       0.74      0.75      0.74     35817\n",
      "weighted avg       0.76      0.76      0.76     35817\n",
      "\n"
     ]
    }
   ],
   "source": [
    "print(classification_report(y_test, y_pred_lr))\n",
    "A_report_lr = pd.DataFrame(classification_report(y_test, y_pred_lr, output_dict=True))"
   ]
  },
  {
   "cell_type": "code",
   "execution_count": 346,
   "metadata": {},
   "outputs": [],
   "source": [
    "for i, name in enumerate(A_report_lr.columns):\n",
    "  A_report_lr = A_report_lr.rename(columns={(A_report_lr.iloc[:,i].name): ('LR_'+A_report_lr.iloc[:,i].name)})\n"
   ]
  },
  {
   "cell_type": "code",
   "execution_count": 347,
   "metadata": {},
   "outputs": [
    {
     "data": {
      "text/html": [
       "<div>\n",
       "<style scoped>\n",
       "    .dataframe tbody tr th:only-of-type {\n",
       "        vertical-align: middle;\n",
       "    }\n",
       "\n",
       "    .dataframe tbody tr th {\n",
       "        vertical-align: top;\n",
       "    }\n",
       "\n",
       "    .dataframe thead th {\n",
       "        text-align: right;\n",
       "    }\n",
       "</style>\n",
       "<table border=\"1\" class=\"dataframe\">\n",
       "  <thead>\n",
       "    <tr style=\"text-align: right;\">\n",
       "      <th></th>\n",
       "      <th>LR_0</th>\n",
       "      <th>LR_1</th>\n",
       "      <th>LR_accuracy</th>\n",
       "      <th>LR_macro avg</th>\n",
       "      <th>LR_weighted avg</th>\n",
       "    </tr>\n",
       "  </thead>\n",
       "  <tbody>\n",
       "    <tr>\n",
       "      <th>precision</th>\n",
       "      <td>0.830833</td>\n",
       "      <td>0.651304</td>\n",
       "      <td>0.755898</td>\n",
       "      <td>0.741069</td>\n",
       "      <td>0.764334</td>\n",
       "    </tr>\n",
       "    <tr>\n",
       "      <th>recall</th>\n",
       "      <td>0.768825</td>\n",
       "      <td>0.733926</td>\n",
       "      <td>0.755898</td>\n",
       "      <td>0.751376</td>\n",
       "      <td>0.755898</td>\n",
       "    </tr>\n",
       "    <tr>\n",
       "      <th>f1-score</th>\n",
       "      <td>0.798627</td>\n",
       "      <td>0.690151</td>\n",
       "      <td>0.755898</td>\n",
       "      <td>0.744389</td>\n",
       "      <td>0.758447</td>\n",
       "    </tr>\n",
       "    <tr>\n",
       "      <th>support</th>\n",
       "      <td>22550.000000</td>\n",
       "      <td>13267.000000</td>\n",
       "      <td>0.755898</td>\n",
       "      <td>35817.000000</td>\n",
       "      <td>35817.000000</td>\n",
       "    </tr>\n",
       "  </tbody>\n",
       "</table>\n",
       "</div>"
      ],
      "text/plain": [
       "                   LR_0          LR_1  LR_accuracy  LR_macro avg  \\\n",
       "precision      0.830833      0.651304     0.755898      0.741069   \n",
       "recall         0.768825      0.733926     0.755898      0.751376   \n",
       "f1-score       0.798627      0.690151     0.755898      0.744389   \n",
       "support    22550.000000  13267.000000     0.755898  35817.000000   \n",
       "\n",
       "           LR_weighted avg  \n",
       "precision         0.764334  \n",
       "recall            0.755898  \n",
       "f1-score          0.758447  \n",
       "support       35817.000000  "
      ]
     },
     "execution_count": 347,
     "metadata": {},
     "output_type": "execute_result"
    }
   ],
   "source": [
    "A_report_lr"
   ]
  },
  {
   "cell_type": "markdown",
   "metadata": {},
   "source": [
    "Utilizing Multi Layer Perceptron algorythm with RandomizedGridSearch in pipeline, scaling reducing, ballancing:"
   ]
  },
  {
   "cell_type": "code",
   "execution_count": 297,
   "metadata": {},
   "outputs": [
    {
     "name": "stdout",
     "output_type": "stream",
     "text": [
      "Fitting 5 folds for each of 9 candidates, totalling 45 fits\n",
      "[CV 1/5] END MLP__activation=relu, MLP__batch_size=32, MLP__hidden_layer_sizes=8, MLP__max_iter=1000, MLP__random_state=42, MLP__solver=adam, pca__n_components=5;, score=0.810 total time=  40.5s\n",
      "[CV 2/5] END MLP__activation=relu, MLP__batch_size=32, MLP__hidden_layer_sizes=8, MLP__max_iter=1000, MLP__random_state=42, MLP__solver=adam, pca__n_components=5;, score=0.814 total time=  36.6s\n",
      "[CV 3/5] END MLP__activation=relu, MLP__batch_size=32, MLP__hidden_layer_sizes=8, MLP__max_iter=1000, MLP__random_state=42, MLP__solver=adam, pca__n_components=5;, score=0.816 total time=  37.0s\n",
      "[CV 4/5] END MLP__activation=relu, MLP__batch_size=32, MLP__hidden_layer_sizes=8, MLP__max_iter=1000, MLP__random_state=42, MLP__solver=adam, pca__n_components=5;, score=0.813 total time=  51.3s\n",
      "[CV 5/5] END MLP__activation=relu, MLP__batch_size=32, MLP__hidden_layer_sizes=8, MLP__max_iter=1000, MLP__random_state=42, MLP__solver=adam, pca__n_components=5;, score=0.816 total time=  39.3s\n",
      "[CV 1/5] END MLP__activation=relu, MLP__batch_size=32, MLP__hidden_layer_sizes=8, MLP__max_iter=1000, MLP__random_state=42, MLP__solver=adam, pca__n_components=10;, score=0.847 total time= 2.5min\n",
      "[CV 2/5] END MLP__activation=relu, MLP__batch_size=32, MLP__hidden_layer_sizes=8, MLP__max_iter=1000, MLP__random_state=42, MLP__solver=adam, pca__n_components=10;, score=0.860 total time= 2.1min\n",
      "[CV 3/5] END MLP__activation=relu, MLP__batch_size=32, MLP__hidden_layer_sizes=8, MLP__max_iter=1000, MLP__random_state=42, MLP__solver=adam, pca__n_components=10;, score=0.856 total time= 1.0min\n",
      "[CV 4/5] END MLP__activation=relu, MLP__batch_size=32, MLP__hidden_layer_sizes=8, MLP__max_iter=1000, MLP__random_state=42, MLP__solver=adam, pca__n_components=10;, score=0.858 total time= 1.1min\n",
      "[CV 5/5] END MLP__activation=relu, MLP__batch_size=32, MLP__hidden_layer_sizes=8, MLP__max_iter=1000, MLP__random_state=42, MLP__solver=adam, pca__n_components=10;, score=0.848 total time=  58.1s\n",
      "[CV 1/5] END MLP__activation=relu, MLP__batch_size=32, MLP__hidden_layer_sizes=8, MLP__max_iter=1000, MLP__random_state=42, MLP__solver=adam, pca__n_components=20;, score=0.887 total time= 1.5min\n",
      "[CV 2/5] END MLP__activation=relu, MLP__batch_size=32, MLP__hidden_layer_sizes=8, MLP__max_iter=1000, MLP__random_state=42, MLP__solver=adam, pca__n_components=20;, score=0.886 total time= 1.3min\n",
      "[CV 3/5] END MLP__activation=relu, MLP__batch_size=32, MLP__hidden_layer_sizes=8, MLP__max_iter=1000, MLP__random_state=42, MLP__solver=adam, pca__n_components=20;, score=0.887 total time= 1.6min\n",
      "[CV 4/5] END MLP__activation=relu, MLP__batch_size=32, MLP__hidden_layer_sizes=8, MLP__max_iter=1000, MLP__random_state=42, MLP__solver=adam, pca__n_components=20;, score=0.886 total time= 1.4min\n",
      "[CV 5/5] END MLP__activation=relu, MLP__batch_size=32, MLP__hidden_layer_sizes=8, MLP__max_iter=1000, MLP__random_state=42, MLP__solver=adam, pca__n_components=20;, score=0.890 total time= 1.8min\n",
      "[CV 1/5] END MLP__activation=relu, MLP__batch_size=32, MLP__hidden_layer_sizes=4, MLP__max_iter=1000, MLP__random_state=42, MLP__solver=adam, pca__n_components=5;, score=0.798 total time=  19.6s\n",
      "[CV 2/5] END MLP__activation=relu, MLP__batch_size=32, MLP__hidden_layer_sizes=4, MLP__max_iter=1000, MLP__random_state=42, MLP__solver=adam, pca__n_components=5;, score=0.805 total time=  27.6s\n",
      "[CV 3/5] END MLP__activation=relu, MLP__batch_size=32, MLP__hidden_layer_sizes=4, MLP__max_iter=1000, MLP__random_state=42, MLP__solver=adam, pca__n_components=5;, score=0.806 total time=  26.5s\n",
      "[CV 4/5] END MLP__activation=relu, MLP__batch_size=32, MLP__hidden_layer_sizes=4, MLP__max_iter=1000, MLP__random_state=42, MLP__solver=adam, pca__n_components=5;, score=0.802 total time=  32.6s\n",
      "[CV 5/5] END MLP__activation=relu, MLP__batch_size=32, MLP__hidden_layer_sizes=4, MLP__max_iter=1000, MLP__random_state=42, MLP__solver=adam, pca__n_components=5;, score=0.808 total time=  18.3s\n",
      "[CV 1/5] END MLP__activation=relu, MLP__batch_size=32, MLP__hidden_layer_sizes=4, MLP__max_iter=1000, MLP__random_state=42, MLP__solver=adam, pca__n_components=10;, score=0.830 total time= 1.4min\n",
      "[CV 2/5] END MLP__activation=relu, MLP__batch_size=32, MLP__hidden_layer_sizes=4, MLP__max_iter=1000, MLP__random_state=42, MLP__solver=adam, pca__n_components=10;, score=0.812 total time=  24.4s\n",
      "[CV 3/5] END MLP__activation=relu, MLP__batch_size=32, MLP__hidden_layer_sizes=4, MLP__max_iter=1000, MLP__random_state=42, MLP__solver=adam, pca__n_components=10;, score=0.821 total time=  32.5s\n",
      "[CV 4/5] END MLP__activation=relu, MLP__batch_size=32, MLP__hidden_layer_sizes=4, MLP__max_iter=1000, MLP__random_state=42, MLP__solver=adam, pca__n_components=10;, score=0.825 total time= 1.9min\n",
      "[CV 5/5] END MLP__activation=relu, MLP__batch_size=32, MLP__hidden_layer_sizes=4, MLP__max_iter=1000, MLP__random_state=42, MLP__solver=adam, pca__n_components=10;, score=0.831 total time= 1.2min\n",
      "[CV 1/5] END MLP__activation=relu, MLP__batch_size=32, MLP__hidden_layer_sizes=4, MLP__max_iter=1000, MLP__random_state=42, MLP__solver=adam, pca__n_components=20;, score=0.865 total time= 1.4min\n",
      "[CV 2/5] END MLP__activation=relu, MLP__batch_size=32, MLP__hidden_layer_sizes=4, MLP__max_iter=1000, MLP__random_state=42, MLP__solver=adam, pca__n_components=20;, score=0.871 total time= 1.7min\n",
      "[CV 3/5] END MLP__activation=relu, MLP__batch_size=32, MLP__hidden_layer_sizes=4, MLP__max_iter=1000, MLP__random_state=42, MLP__solver=adam, pca__n_components=20;, score=0.868 total time= 1.2min\n",
      "[CV 4/5] END MLP__activation=relu, MLP__batch_size=32, MLP__hidden_layer_sizes=4, MLP__max_iter=1000, MLP__random_state=42, MLP__solver=adam, pca__n_components=20;, score=0.875 total time= 1.4min\n",
      "[CV 5/5] END MLP__activation=relu, MLP__batch_size=32, MLP__hidden_layer_sizes=4, MLP__max_iter=1000, MLP__random_state=42, MLP__solver=adam, pca__n_components=20;, score=0.864 total time= 1.3min\n",
      "[CV 1/5] END MLP__activation=relu, MLP__batch_size=32, MLP__hidden_layer_sizes=16, MLP__max_iter=1000, MLP__random_state=42, MLP__solver=adam, pca__n_components=5;, score=0.819 total time= 2.0min\n",
      "[CV 2/5] END MLP__activation=relu, MLP__batch_size=32, MLP__hidden_layer_sizes=16, MLP__max_iter=1000, MLP__random_state=42, MLP__solver=adam, pca__n_components=5;, score=0.821 total time=  49.6s\n",
      "[CV 3/5] END MLP__activation=relu, MLP__batch_size=32, MLP__hidden_layer_sizes=16, MLP__max_iter=1000, MLP__random_state=42, MLP__solver=adam, pca__n_components=5;, score=0.819 total time= 1.1min\n",
      "[CV 4/5] END MLP__activation=relu, MLP__batch_size=32, MLP__hidden_layer_sizes=16, MLP__max_iter=1000, MLP__random_state=42, MLP__solver=adam, pca__n_components=5;, score=0.817 total time= 1.0min\n",
      "[CV 5/5] END MLP__activation=relu, MLP__batch_size=32, MLP__hidden_layer_sizes=16, MLP__max_iter=1000, MLP__random_state=42, MLP__solver=adam, pca__n_components=5;, score=0.826 total time= 1.0min\n",
      "[CV 1/5] END MLP__activation=relu, MLP__batch_size=32, MLP__hidden_layer_sizes=16, MLP__max_iter=1000, MLP__random_state=42, MLP__solver=adam, pca__n_components=10;, score=0.858 total time= 2.5min\n",
      "[CV 2/5] END MLP__activation=relu, MLP__batch_size=32, MLP__hidden_layer_sizes=16, MLP__max_iter=1000, MLP__random_state=42, MLP__solver=adam, pca__n_components=10;, score=0.865 total time= 1.7min\n",
      "[CV 3/5] END MLP__activation=relu, MLP__batch_size=32, MLP__hidden_layer_sizes=16, MLP__max_iter=1000, MLP__random_state=42, MLP__solver=adam, pca__n_components=10;, score=0.869 total time= 2.4min\n",
      "[CV 4/5] END MLP__activation=relu, MLP__batch_size=32, MLP__hidden_layer_sizes=16, MLP__max_iter=1000, MLP__random_state=42, MLP__solver=adam, pca__n_components=10;, score=0.864 total time= 1.1min\n",
      "[CV 5/5] END MLP__activation=relu, MLP__batch_size=32, MLP__hidden_layer_sizes=16, MLP__max_iter=1000, MLP__random_state=42, MLP__solver=adam, pca__n_components=10;, score=0.870 total time= 2.6min\n",
      "[CV 1/5] END MLP__activation=relu, MLP__batch_size=32, MLP__hidden_layer_sizes=16, MLP__max_iter=1000, MLP__random_state=42, MLP__solver=adam, pca__n_components=20;, score=0.896 total time= 2.6min\n",
      "[CV 2/5] END MLP__activation=relu, MLP__batch_size=32, MLP__hidden_layer_sizes=16, MLP__max_iter=1000, MLP__random_state=42, MLP__solver=adam, pca__n_components=20;, score=0.892 total time= 2.0min\n"
     ]
    },
    {
     "name": "stdout",
     "output_type": "stream",
     "text": [
      "[CV 3/5] END MLP__activation=relu, MLP__batch_size=32, MLP__hidden_layer_sizes=16, MLP__max_iter=1000, MLP__random_state=42, MLP__solver=adam, pca__n_components=20;, score=0.900 total time= 2.1min\n",
      "[CV 4/5] END MLP__activation=relu, MLP__batch_size=32, MLP__hidden_layer_sizes=16, MLP__max_iter=1000, MLP__random_state=42, MLP__solver=adam, pca__n_components=20;, score=0.895 total time= 2.5min\n",
      "[CV 5/5] END MLP__activation=relu, MLP__batch_size=32, MLP__hidden_layer_sizes=16, MLP__max_iter=1000, MLP__random_state=42, MLP__solver=adam, pca__n_components=20;, score=0.894 total time= 2.2min\n",
      "Cross-validation score: 0.8951873891650045\n",
      "Test score: 0.8771899568423862\n"
     ]
    }
   ],
   "source": [
    "pipeline = imbpipeline(steps = [['scaler', scaler],\n",
    "                                ['pca', pca],\n",
    "                                ['smote', SMOTEEN],\n",
    "                                ['MLP', MLPClassifier()]])\n",
    "\n",
    "stratified_kfold = StratifiedKFold(n_splits=5,\n",
    "                                       shuffle=True,\n",
    "                                       random_state=13)\n",
    "    \n",
    "param_grid = {'MLP__hidden_layer_sizes':[8, 4, 16],\n",
    "             'MLP__activation': ['relu'],\n",
    "              'MLP__solver': ['adam'],\n",
    "              'MLP__random_state': [42],\n",
    "              'MLP__max_iter': [1000],\n",
    "              'MLP__batch_size': [32],\n",
    "              'pca__n_components': [5, 10, 20]\n",
    "             }\n",
    "                                                                 \n",
    "search_MLP = GridSearchCV(estimator=pipeline,\n",
    "                           param_grid=param_grid,\n",
    "                           scoring='roc_auc',\n",
    "                           cv=stratified_kfold,\n",
    "                           verbose=3,\n",
    "                           #n_jobs=3\n",
    "                        )\n",
    "\n",
    "search_MLP.fit(X_train, y_train)\n",
    "cv_score = search_MLP.best_score_\n",
    "test_score = search_MLP.score(X_test, y_test)\n",
    "print(f'Cross-validation score: {cv_score}\\nTest score: {test_score}')"
   ]
  },
  {
   "cell_type": "markdown",
   "metadata": {},
   "source": [
    "Achieving scores of classification, saving accuracy, recall and F1 score in data frame:"
   ]
  },
  {
   "cell_type": "markdown",
   "metadata": {},
   "source": [
    "Best hyperparameters:"
   ]
  },
  {
   "cell_type": "code",
   "execution_count": 298,
   "metadata": {},
   "outputs": [
    {
     "data": {
      "text/plain": [
       "{'MLP__activation': 'relu',\n",
       " 'MLP__batch_size': 32,\n",
       " 'MLP__hidden_layer_sizes': 16,\n",
       " 'MLP__max_iter': 1000,\n",
       " 'MLP__random_state': 42,\n",
       " 'MLP__solver': 'adam',\n",
       " 'pca__n_components': 20}"
      ]
     },
     "execution_count": 298,
     "metadata": {},
     "output_type": "execute_result"
    }
   ],
   "source": [
    "search_MLP.best_params_"
   ]
  },
  {
   "cell_type": "code",
   "execution_count": 338,
   "metadata": {},
   "outputs": [
    {
     "name": "stdout",
     "output_type": "stream",
     "text": [
      "              precision    recall  f1-score   support\n",
      "\n",
      "           0       0.83      0.88      0.85     22550\n",
      "           1       0.78      0.68      0.73     13267\n",
      "\n",
      "    accuracy                           0.81     35817\n",
      "   macro avg       0.80      0.78      0.79     35817\n",
      "weighted avg       0.81      0.81      0.81     35817\n",
      "\n"
     ]
    }
   ],
   "source": [
    "y_pred_mlp = search_MLP.predict(X_test)\n",
    "print(classification_report(y_test, y_pred_mlp))\n",
    "A_report_mlp = pd.DataFrame(classification_report(y_test, y_pred_mlp, output_dict=True))"
   ]
  },
  {
   "cell_type": "code",
   "execution_count": 339,
   "metadata": {},
   "outputs": [],
   "source": [
    "for i, name in enumerate(A_report_mlp.columns):\n",
    "  A_report_mlp = A_report_mlp.rename(columns={(A_report_mlp.iloc[:,i].name): ('MLP_'+A_report_mlp.iloc[:,i].name)})\n"
   ]
  },
  {
   "cell_type": "code",
   "execution_count": 340,
   "metadata": {},
   "outputs": [
    {
     "data": {
      "text/html": [
       "<div>\n",
       "<style scoped>\n",
       "    .dataframe tbody tr th:only-of-type {\n",
       "        vertical-align: middle;\n",
       "    }\n",
       "\n",
       "    .dataframe tbody tr th {\n",
       "        vertical-align: top;\n",
       "    }\n",
       "\n",
       "    .dataframe thead th {\n",
       "        text-align: right;\n",
       "    }\n",
       "</style>\n",
       "<table border=\"1\" class=\"dataframe\">\n",
       "  <thead>\n",
       "    <tr style=\"text-align: right;\">\n",
       "      <th></th>\n",
       "      <th>MLP_0</th>\n",
       "      <th>MLP_1</th>\n",
       "      <th>MLP_accuracy</th>\n",
       "      <th>MLP_macro avg</th>\n",
       "      <th>MLP_weighted avg</th>\n",
       "    </tr>\n",
       "  </thead>\n",
       "  <tbody>\n",
       "    <tr>\n",
       "      <th>precision</th>\n",
       "      <td>0.826294</td>\n",
       "      <td>0.776390</td>\n",
       "      <td>0.810006</td>\n",
       "      <td>0.801342</td>\n",
       "      <td>0.807809</td>\n",
       "    </tr>\n",
       "    <tr>\n",
       "      <th>recall</th>\n",
       "      <td>0.884080</td>\n",
       "      <td>0.684103</td>\n",
       "      <td>0.810006</td>\n",
       "      <td>0.784092</td>\n",
       "      <td>0.810006</td>\n",
       "    </tr>\n",
       "    <tr>\n",
       "      <th>f1-score</th>\n",
       "      <td>0.854211</td>\n",
       "      <td>0.727331</td>\n",
       "      <td>0.810006</td>\n",
       "      <td>0.790771</td>\n",
       "      <td>0.807213</td>\n",
       "    </tr>\n",
       "    <tr>\n",
       "      <th>support</th>\n",
       "      <td>22550.000000</td>\n",
       "      <td>13267.000000</td>\n",
       "      <td>0.810006</td>\n",
       "      <td>35817.000000</td>\n",
       "      <td>35817.000000</td>\n",
       "    </tr>\n",
       "  </tbody>\n",
       "</table>\n",
       "</div>"
      ],
      "text/plain": [
       "                  MLP_0         MLP_1  MLP_accuracy  MLP_macro avg  \\\n",
       "precision      0.826294      0.776390      0.810006       0.801342   \n",
       "recall         0.884080      0.684103      0.810006       0.784092   \n",
       "f1-score       0.854211      0.727331      0.810006       0.790771   \n",
       "support    22550.000000  13267.000000      0.810006   35817.000000   \n",
       "\n",
       "           MLP_weighted avg  \n",
       "precision          0.807809  \n",
       "recall             0.810006  \n",
       "f1-score           0.807213  \n",
       "support        35817.000000  "
      ]
     },
     "execution_count": 340,
     "metadata": {},
     "output_type": "execute_result"
    }
   ],
   "source": [
    "A_report_mlp"
   ]
  },
  {
   "cell_type": "markdown",
   "metadata": {},
   "source": [
    "Creating Data Frame containing all six classifiers results:"
   ]
  },
  {
   "cell_type": "code",
   "execution_count": 367,
   "metadata": {},
   "outputs": [],
   "source": [
    "A_results = pd.concat([A_report_rf, \n",
    "                       A_report_dtc, \n",
    "                       A_report_svc, \n",
    "                       A_report_xgb, \n",
    "                       A_report_lr, \n",
    "                       A_report_mlp], \n",
    "                      axis=1)"
   ]
  },
  {
   "cell_type": "code",
   "execution_count": 368,
   "metadata": {},
   "outputs": [
    {
     "data": {
      "text/html": [
       "<div>\n",
       "<style scoped>\n",
       "    .dataframe tbody tr th:only-of-type {\n",
       "        vertical-align: middle;\n",
       "    }\n",
       "\n",
       "    .dataframe tbody tr th {\n",
       "        vertical-align: top;\n",
       "    }\n",
       "\n",
       "    .dataframe thead th {\n",
       "        text-align: right;\n",
       "    }\n",
       "</style>\n",
       "<table border=\"1\" class=\"dataframe\">\n",
       "  <thead>\n",
       "    <tr style=\"text-align: right;\">\n",
       "      <th></th>\n",
       "      <th>RF_0</th>\n",
       "      <th>RF_1</th>\n",
       "      <th>RF_accuracy</th>\n",
       "      <th>RF_macro avg</th>\n",
       "      <th>RF_weighted avg</th>\n",
       "      <th>DTC_0</th>\n",
       "      <th>DTC_1</th>\n",
       "      <th>DTC_accuracy</th>\n",
       "      <th>DTC_macro avg</th>\n",
       "      <th>DTC_weighted avg</th>\n",
       "      <th>...</th>\n",
       "      <th>LR_0</th>\n",
       "      <th>LR_1</th>\n",
       "      <th>LR_accuracy</th>\n",
       "      <th>LR_macro avg</th>\n",
       "      <th>LR_weighted avg</th>\n",
       "      <th>MLP_0</th>\n",
       "      <th>MLP_1</th>\n",
       "      <th>MLP_accuracy</th>\n",
       "      <th>MLP_macro avg</th>\n",
       "      <th>MLP_weighted avg</th>\n",
       "    </tr>\n",
       "  </thead>\n",
       "  <tbody>\n",
       "    <tr>\n",
       "      <th>precision</th>\n",
       "      <td>0.798638</td>\n",
       "      <td>0.791443</td>\n",
       "      <td>0.796577</td>\n",
       "      <td>0.795041</td>\n",
       "      <td>0.795973</td>\n",
       "      <td>0.801758</td>\n",
       "      <td>0.639499</td>\n",
       "      <td>0.738448</td>\n",
       "      <td>0.720629</td>\n",
       "      <td>0.741656</td>\n",
       "      <td>...</td>\n",
       "      <td>0.830833</td>\n",
       "      <td>0.651304</td>\n",
       "      <td>0.755898</td>\n",
       "      <td>0.741069</td>\n",
       "      <td>0.764334</td>\n",
       "      <td>0.826294</td>\n",
       "      <td>0.776390</td>\n",
       "      <td>0.810006</td>\n",
       "      <td>0.801342</td>\n",
       "      <td>0.807809</td>\n",
       "    </tr>\n",
       "    <tr>\n",
       "      <th>recall</th>\n",
       "      <td>0.905100</td>\n",
       "      <td>0.612120</td>\n",
       "      <td>0.796577</td>\n",
       "      <td>0.758610</td>\n",
       "      <td>0.796577</td>\n",
       "      <td>0.776585</td>\n",
       "      <td>0.673626</td>\n",
       "      <td>0.738448</td>\n",
       "      <td>0.725106</td>\n",
       "      <td>0.738448</td>\n",
       "      <td>...</td>\n",
       "      <td>0.768825</td>\n",
       "      <td>0.733926</td>\n",
       "      <td>0.755898</td>\n",
       "      <td>0.751376</td>\n",
       "      <td>0.755898</td>\n",
       "      <td>0.884080</td>\n",
       "      <td>0.684103</td>\n",
       "      <td>0.810006</td>\n",
       "      <td>0.784092</td>\n",
       "      <td>0.810006</td>\n",
       "    </tr>\n",
       "    <tr>\n",
       "      <th>f1-score</th>\n",
       "      <td>0.848543</td>\n",
       "      <td>0.690326</td>\n",
       "      <td>0.796577</td>\n",
       "      <td>0.769435</td>\n",
       "      <td>0.789938</td>\n",
       "      <td>0.788971</td>\n",
       "      <td>0.656119</td>\n",
       "      <td>0.738448</td>\n",
       "      <td>0.722545</td>\n",
       "      <td>0.739761</td>\n",
       "      <td>...</td>\n",
       "      <td>0.798627</td>\n",
       "      <td>0.690151</td>\n",
       "      <td>0.755898</td>\n",
       "      <td>0.744389</td>\n",
       "      <td>0.758447</td>\n",
       "      <td>0.854211</td>\n",
       "      <td>0.727331</td>\n",
       "      <td>0.810006</td>\n",
       "      <td>0.790771</td>\n",
       "      <td>0.807213</td>\n",
       "    </tr>\n",
       "    <tr>\n",
       "      <th>support</th>\n",
       "      <td>22550.000000</td>\n",
       "      <td>13267.000000</td>\n",
       "      <td>0.796577</td>\n",
       "      <td>35817.000000</td>\n",
       "      <td>35817.000000</td>\n",
       "      <td>22550.000000</td>\n",
       "      <td>13267.000000</td>\n",
       "      <td>0.738448</td>\n",
       "      <td>35817.000000</td>\n",
       "      <td>35817.000000</td>\n",
       "      <td>...</td>\n",
       "      <td>22550.000000</td>\n",
       "      <td>13267.000000</td>\n",
       "      <td>0.755898</td>\n",
       "      <td>35817.000000</td>\n",
       "      <td>35817.000000</td>\n",
       "      <td>22550.000000</td>\n",
       "      <td>13267.000000</td>\n",
       "      <td>0.810006</td>\n",
       "      <td>35817.000000</td>\n",
       "      <td>35817.000000</td>\n",
       "    </tr>\n",
       "  </tbody>\n",
       "</table>\n",
       "<p>4 rows × 30 columns</p>\n",
       "</div>"
      ],
      "text/plain": [
       "                   RF_0          RF_1  RF_accuracy  RF_macro avg  \\\n",
       "precision      0.798638      0.791443     0.796577      0.795041   \n",
       "recall         0.905100      0.612120     0.796577      0.758610   \n",
       "f1-score       0.848543      0.690326     0.796577      0.769435   \n",
       "support    22550.000000  13267.000000     0.796577  35817.000000   \n",
       "\n",
       "           RF_weighted avg         DTC_0         DTC_1  DTC_accuracy  \\\n",
       "precision         0.795973      0.801758      0.639499      0.738448   \n",
       "recall            0.796577      0.776585      0.673626      0.738448   \n",
       "f1-score          0.789938      0.788971      0.656119      0.738448   \n",
       "support       35817.000000  22550.000000  13267.000000      0.738448   \n",
       "\n",
       "           DTC_macro avg  DTC_weighted avg  ...          LR_0          LR_1  \\\n",
       "precision       0.720629          0.741656  ...      0.830833      0.651304   \n",
       "recall          0.725106          0.738448  ...      0.768825      0.733926   \n",
       "f1-score        0.722545          0.739761  ...      0.798627      0.690151   \n",
       "support     35817.000000      35817.000000  ...  22550.000000  13267.000000   \n",
       "\n",
       "           LR_accuracy  LR_macro avg  LR_weighted avg         MLP_0  \\\n",
       "precision     0.755898      0.741069         0.764334      0.826294   \n",
       "recall        0.755898      0.751376         0.755898      0.884080   \n",
       "f1-score      0.755898      0.744389         0.758447      0.854211   \n",
       "support       0.755898  35817.000000     35817.000000  22550.000000   \n",
       "\n",
       "                  MLP_1  MLP_accuracy  MLP_macro avg  MLP_weighted avg  \n",
       "precision      0.776390      0.810006       0.801342          0.807809  \n",
       "recall         0.684103      0.810006       0.784092          0.810006  \n",
       "f1-score       0.727331      0.810006       0.790771          0.807213  \n",
       "support    13267.000000      0.810006   35817.000000      35817.000000  \n",
       "\n",
       "[4 rows x 30 columns]"
      ]
     },
     "execution_count": 368,
     "metadata": {},
     "output_type": "execute_result"
    }
   ],
   "source": [
    "A_results"
   ]
  },
  {
   "cell_type": "markdown",
   "metadata": {},
   "source": [
    "Saving results in a file:"
   ]
  },
  {
   "cell_type": "code",
   "execution_count": 369,
   "metadata": {},
   "outputs": [],
   "source": [
    "A_results.to_pickle(\"data/A_dataset_results.pkl\")"
   ]
  },
  {
   "cell_type": "code",
   "execution_count": 355,
   "metadata": {},
   "outputs": [],
   "source": [
    "A_results = pd.read_pickle(\"data/A_dataset_results.pkl\")"
   ]
  },
  {
   "cell_type": "code",
   "execution_count": 356,
   "metadata": {
    "scrolled": true
   },
   "outputs": [
    {
     "data": {
      "text/html": [
       "<div>\n",
       "<style scoped>\n",
       "    .dataframe tbody tr th:only-of-type {\n",
       "        vertical-align: middle;\n",
       "    }\n",
       "\n",
       "    .dataframe tbody tr th {\n",
       "        vertical-align: top;\n",
       "    }\n",
       "\n",
       "    .dataframe thead th {\n",
       "        text-align: right;\n",
       "    }\n",
       "</style>\n",
       "<table border=\"1\" class=\"dataframe\">\n",
       "  <thead>\n",
       "    <tr style=\"text-align: right;\">\n",
       "      <th></th>\n",
       "      <th>RF_0</th>\n",
       "      <th>RF_1</th>\n",
       "      <th>RF_accuracy</th>\n",
       "      <th>RF_macro avg</th>\n",
       "      <th>RF_weighted avg</th>\n",
       "      <th>DTC_0</th>\n",
       "      <th>DTC_1</th>\n",
       "      <th>DTC_accuracy</th>\n",
       "      <th>DTC_macro avg</th>\n",
       "      <th>DTC_weighted avg</th>\n",
       "      <th>...</th>\n",
       "      <th>LR_0</th>\n",
       "      <th>LR_1</th>\n",
       "      <th>LR_accuracy</th>\n",
       "      <th>LR_macro avg</th>\n",
       "      <th>LR_weighted avg</th>\n",
       "      <th>MLP_0</th>\n",
       "      <th>MLP_1</th>\n",
       "      <th>MLP_accuracy</th>\n",
       "      <th>MLP_macro avg</th>\n",
       "      <th>MLP_weighted avg</th>\n",
       "    </tr>\n",
       "  </thead>\n",
       "  <tbody>\n",
       "    <tr>\n",
       "      <th>precision</th>\n",
       "      <td>0.798638</td>\n",
       "      <td>0.791443</td>\n",
       "      <td>0.796577</td>\n",
       "      <td>0.795041</td>\n",
       "      <td>0.795973</td>\n",
       "      <td>0.801758</td>\n",
       "      <td>0.639499</td>\n",
       "      <td>0.738448</td>\n",
       "      <td>0.720629</td>\n",
       "      <td>0.741656</td>\n",
       "      <td>...</td>\n",
       "      <td>0.830833</td>\n",
       "      <td>0.651304</td>\n",
       "      <td>0.755898</td>\n",
       "      <td>0.741069</td>\n",
       "      <td>0.764334</td>\n",
       "      <td>0.826294</td>\n",
       "      <td>0.776390</td>\n",
       "      <td>0.810006</td>\n",
       "      <td>0.801342</td>\n",
       "      <td>0.807809</td>\n",
       "    </tr>\n",
       "    <tr>\n",
       "      <th>recall</th>\n",
       "      <td>0.905100</td>\n",
       "      <td>0.612120</td>\n",
       "      <td>0.796577</td>\n",
       "      <td>0.758610</td>\n",
       "      <td>0.796577</td>\n",
       "      <td>0.776585</td>\n",
       "      <td>0.673626</td>\n",
       "      <td>0.738448</td>\n",
       "      <td>0.725106</td>\n",
       "      <td>0.738448</td>\n",
       "      <td>...</td>\n",
       "      <td>0.768825</td>\n",
       "      <td>0.733926</td>\n",
       "      <td>0.755898</td>\n",
       "      <td>0.751376</td>\n",
       "      <td>0.755898</td>\n",
       "      <td>0.884080</td>\n",
       "      <td>0.684103</td>\n",
       "      <td>0.810006</td>\n",
       "      <td>0.784092</td>\n",
       "      <td>0.810006</td>\n",
       "    </tr>\n",
       "    <tr>\n",
       "      <th>f1-score</th>\n",
       "      <td>0.848543</td>\n",
       "      <td>0.690326</td>\n",
       "      <td>0.796577</td>\n",
       "      <td>0.769435</td>\n",
       "      <td>0.789938</td>\n",
       "      <td>0.788971</td>\n",
       "      <td>0.656119</td>\n",
       "      <td>0.738448</td>\n",
       "      <td>0.722545</td>\n",
       "      <td>0.739761</td>\n",
       "      <td>...</td>\n",
       "      <td>0.798627</td>\n",
       "      <td>0.690151</td>\n",
       "      <td>0.755898</td>\n",
       "      <td>0.744389</td>\n",
       "      <td>0.758447</td>\n",
       "      <td>0.854211</td>\n",
       "      <td>0.727331</td>\n",
       "      <td>0.810006</td>\n",
       "      <td>0.790771</td>\n",
       "      <td>0.807213</td>\n",
       "    </tr>\n",
       "    <tr>\n",
       "      <th>support</th>\n",
       "      <td>22550.000000</td>\n",
       "      <td>13267.000000</td>\n",
       "      <td>0.796577</td>\n",
       "      <td>35817.000000</td>\n",
       "      <td>35817.000000</td>\n",
       "      <td>22550.000000</td>\n",
       "      <td>13267.000000</td>\n",
       "      <td>0.738448</td>\n",
       "      <td>35817.000000</td>\n",
       "      <td>35817.000000</td>\n",
       "      <td>...</td>\n",
       "      <td>22550.000000</td>\n",
       "      <td>13267.000000</td>\n",
       "      <td>0.755898</td>\n",
       "      <td>35817.000000</td>\n",
       "      <td>35817.000000</td>\n",
       "      <td>22550.000000</td>\n",
       "      <td>13267.000000</td>\n",
       "      <td>0.810006</td>\n",
       "      <td>35817.000000</td>\n",
       "      <td>35817.000000</td>\n",
       "    </tr>\n",
       "  </tbody>\n",
       "</table>\n",
       "<p>4 rows × 30 columns</p>\n",
       "</div>"
      ],
      "text/plain": [
       "                   RF_0          RF_1  RF_accuracy  RF_macro avg  \\\n",
       "precision      0.798638      0.791443     0.796577      0.795041   \n",
       "recall         0.905100      0.612120     0.796577      0.758610   \n",
       "f1-score       0.848543      0.690326     0.796577      0.769435   \n",
       "support    22550.000000  13267.000000     0.796577  35817.000000   \n",
       "\n",
       "           RF_weighted avg         DTC_0         DTC_1  DTC_accuracy  \\\n",
       "precision         0.795973      0.801758      0.639499      0.738448   \n",
       "recall            0.796577      0.776585      0.673626      0.738448   \n",
       "f1-score          0.789938      0.788971      0.656119      0.738448   \n",
       "support       35817.000000  22550.000000  13267.000000      0.738448   \n",
       "\n",
       "           DTC_macro avg  DTC_weighted avg  ...          LR_0          LR_1  \\\n",
       "precision       0.720629          0.741656  ...      0.830833      0.651304   \n",
       "recall          0.725106          0.738448  ...      0.768825      0.733926   \n",
       "f1-score        0.722545          0.739761  ...      0.798627      0.690151   \n",
       "support     35817.000000      35817.000000  ...  22550.000000  13267.000000   \n",
       "\n",
       "           LR_accuracy  LR_macro avg  LR_weighted avg         MLP_0  \\\n",
       "precision     0.755898      0.741069         0.764334      0.826294   \n",
       "recall        0.755898      0.751376         0.755898      0.884080   \n",
       "f1-score      0.755898      0.744389         0.758447      0.854211   \n",
       "support       0.755898  35817.000000     35817.000000  22550.000000   \n",
       "\n",
       "                  MLP_1  MLP_accuracy  MLP_macro avg  MLP_weighted avg  \n",
       "precision      0.776390      0.810006       0.801342          0.807809  \n",
       "recall         0.684103      0.810006       0.784092          0.810006  \n",
       "f1-score       0.727331      0.810006       0.790771          0.807213  \n",
       "support    13267.000000      0.810006   35817.000000      35817.000000  \n",
       "\n",
       "[4 rows x 30 columns]"
      ]
     },
     "execution_count": 356,
     "metadata": {},
     "output_type": "execute_result"
    }
   ],
   "source": [
    "A_results"
   ]
  },
  {
   "cell_type": "code",
   "execution_count": 371,
   "metadata": {},
   "outputs": [],
   "source": [
    "c_list = [\"RF_1\", \"DTC_1\", \"SVC_1\", \"XGB_1\", \"LR_1\", \"MLP_1\"]"
   ]
  },
  {
   "cell_type": "code",
   "execution_count": null,
   "metadata": {},
   "outputs": [],
   "source": []
  },
  {
   "cell_type": "markdown",
   "metadata": {},
   "source": [
    "precision tells us the accuracy of positive predictions\n",
    "recall shows what is real probability of canceling reservation, correctly identified positive predictions.\n",
    "F1 score measures precision and recall at the same time by finding the harmonic mean of the two values"
   ]
  },
  {
   "cell_type": "code",
   "execution_count": 375,
   "metadata": {
    "scrolled": true
   },
   "outputs": [
    {
     "data": {
      "text/html": [
       "<div>\n",
       "<style scoped>\n",
       "    .dataframe tbody tr th:only-of-type {\n",
       "        vertical-align: middle;\n",
       "    }\n",
       "\n",
       "    .dataframe tbody tr th {\n",
       "        vertical-align: top;\n",
       "    }\n",
       "\n",
       "    .dataframe thead th {\n",
       "        text-align: right;\n",
       "    }\n",
       "</style>\n",
       "<table border=\"1\" class=\"dataframe\">\n",
       "  <thead>\n",
       "    <tr style=\"text-align: right;\">\n",
       "      <th></th>\n",
       "      <th>RF_1</th>\n",
       "      <th>DTC_1</th>\n",
       "      <th>SVC_1</th>\n",
       "      <th>XGB_1</th>\n",
       "      <th>LR_1</th>\n",
       "      <th>MLP_1</th>\n",
       "    </tr>\n",
       "  </thead>\n",
       "  <tbody>\n",
       "    <tr>\n",
       "      <th>precision</th>\n",
       "      <td>0.791443</td>\n",
       "      <td>0.639499</td>\n",
       "      <td>0.461770</td>\n",
       "      <td>0.800198</td>\n",
       "      <td>0.651304</td>\n",
       "      <td>0.776390</td>\n",
       "    </tr>\n",
       "    <tr>\n",
       "      <th>recall</th>\n",
       "      <td>0.612120</td>\n",
       "      <td>0.673626</td>\n",
       "      <td>0.323208</td>\n",
       "      <td>0.669255</td>\n",
       "      <td>0.733926</td>\n",
       "      <td>0.684103</td>\n",
       "    </tr>\n",
       "    <tr>\n",
       "      <th>f1-score</th>\n",
       "      <td>0.690326</td>\n",
       "      <td>0.656119</td>\n",
       "      <td>0.380260</td>\n",
       "      <td>0.728892</td>\n",
       "      <td>0.690151</td>\n",
       "      <td>0.727331</td>\n",
       "    </tr>\n",
       "    <tr>\n",
       "      <th>support</th>\n",
       "      <td>13267.000000</td>\n",
       "      <td>13267.000000</td>\n",
       "      <td>13267.000000</td>\n",
       "      <td>13267.000000</td>\n",
       "      <td>13267.000000</td>\n",
       "      <td>13267.000000</td>\n",
       "    </tr>\n",
       "  </tbody>\n",
       "</table>\n",
       "</div>"
      ],
      "text/plain": [
       "                   RF_1         DTC_1         SVC_1         XGB_1  \\\n",
       "precision      0.791443      0.639499      0.461770      0.800198   \n",
       "recall         0.612120      0.673626      0.323208      0.669255   \n",
       "f1-score       0.690326      0.656119      0.380260      0.728892   \n",
       "support    13267.000000  13267.000000  13267.000000  13267.000000   \n",
       "\n",
       "                   LR_1         MLP_1  \n",
       "precision      0.651304      0.776390  \n",
       "recall         0.733926      0.684103  \n",
       "f1-score       0.690151      0.727331  \n",
       "support    13267.000000  13267.000000  "
      ]
     },
     "execution_count": 375,
     "metadata": {},
     "output_type": "execute_result"
    }
   ],
   "source": [
    "A_results[c_list]#.loc[\"recall\"]"
   ]
  },
  {
   "cell_type": "code",
   "execution_count": null,
   "metadata": {},
   "outputs": [],
   "source": [
    "B_results = pd.read_pickle(\"data/B_results.pkl\")"
   ]
  },
  {
   "cell_type": "code",
   "execution_count": null,
   "metadata": {},
   "outputs": [],
   "source": [
    "B_results"
   ]
  },
  {
   "cell_type": "code",
   "execution_count": null,
   "metadata": {},
   "outputs": [],
   "source": [
    "B_results[c_list]"
   ]
  }
 ],
 "metadata": {
  "kernelspec": {
   "display_name": "Python 3",
   "language": "python",
   "name": "python3"
  },
  "language_info": {
   "codemirror_mode": {
    "name": "ipython",
    "version": 3
   },
   "file_extension": ".py",
   "mimetype": "text/x-python",
   "name": "python",
   "nbconvert_exporter": "python",
   "pygments_lexer": "ipython3",
   "version": "3.8.10"
  }
 },
 "nbformat": 4,
 "nbformat_minor": 4
}
